{
 "cells": [
  {
   "cell_type": "code",
   "execution_count": 98,
   "metadata": {},
   "outputs": [],
   "source": [
    "# import libraries\n",
    "import pandas as pd\n",
    "import seaborn as sns\n",
    "import matplotlib.pyplot as plt\n",
    "import wordcloud as cld\n",
    "import nltk\n",
    "from textblob import TextBlob\n",
    "import plotly.express as px"
   ]
  },
  {
   "cell_type": "code",
   "execution_count": 99,
   "metadata": {},
   "outputs": [],
   "source": [
    "# read all files into their respective segments\n",
    "seg_1 = pd.read_csv('csv-1700-1830.csv', encoding = \"ISO-8859-1\", parse_dates=['date(yyyyMMddHHmmss)'])\n",
    "seg_2 = pd.read_csv('csv-1831-2000.csv', encoding = \"ISO-8859-1\", parse_dates=['date(yyyyMMddHHmmss)'])\n",
    "seg_3 = pd.read_csv('csv-2001-2131.csv', encoding = \"ISO-8859-1\", parse_dates=['date(yyyyMMddHHmmss)'])\n",
    "\n",
    "# concat vertically as df\n",
    "df = pd.concat([seg_1, seg_2, seg_3], ignore_index=True)"
   ]
  },
  {
   "cell_type": "code",
   "execution_count": 100,
   "metadata": {},
   "outputs": [],
   "source": [
    "# remove unimportant authors\n",
    "# list of top authors to exclude\n",
    "exclude = ['choconibbs', 'POK', 'Clevvah4Evah', 'KronosQuoth']\n",
    "\n",
    "df = df[~df['author'].isin(exclude)]"
   ]
  },
  {
   "cell_type": "code",
   "execution_count": 101,
   "metadata": {},
   "outputs": [],
   "source": [
    "polarities = []\n",
    "sentiments = []\n",
    "bias = []\n",
    "\n",
    "def sentiment_bias(message, sent_threshold, bias_threshold):\n",
    "    text_blob = TextBlob(message)\n",
    "\n",
    "    polarities.append(text_blob.polarity)\n",
    "\n",
    "    if abs(text_blob.polarity) < sent_threshold:\n",
    "        sentiments.append('neutral')\n",
    "    elif text_blob.polarity <= -sent_threshold:\n",
    "        sentiments.append('negative')\n",
    "    else:\n",
    "        sentiments.append('positive')\n",
    "\n",
    "    if text_blob.subjectivity < bias_threshold:\n",
    "        bias.append('unbiased')\n",
    "    else:\n",
    "        bias.append('biased')\n",
    "\n",
    "for m in df['message'].tolist():\n",
    "    sentiment_bias(m, 0.001, 0.1)\n",
    "\n",
    "df['polarity'] = polarities\n",
    "df['sentiment'] = sentiments\n",
    "df['bias'] = bias"
   ]
  },
  {
   "cell_type": "code",
   "execution_count": 102,
   "metadata": {},
   "outputs": [],
   "source": [
    "df[['negative', 'neutral', 'positive']] = pd.get_dummies(df['sentiment'])\n",
    "df[['biased', 'unbiased']] = pd.get_dummies(df['bias'])"
   ]
  },
  {
   "cell_type": "markdown",
   "metadata": {},
   "source": [
    "#### Bias throughout the Night"
   ]
  },
  {
   "cell_type": "code",
   "execution_count": 103,
   "metadata": {},
   "outputs": [],
   "source": [
    "agg_5min = df.groupby(pd.Grouper(key='date(yyyyMMddHHmmss)', freq='5min'))"
   ]
  },
  {
   "cell_type": "code",
   "execution_count": 104,
   "metadata": {},
   "outputs": [],
   "source": [
    "bias_5min = agg_5min[['biased', 'unbiased']].sum()\n",
    "bias_5min = bias_5min.reset_index()\n",
    "bias_5min['time'] = bias_5min['date(yyyyMMddHHmmss)'].apply(lambda x: (x.value - pd.to_datetime('2014-01-23 17:00:00').value) // 10**9)"
   ]
  },
  {
   "cell_type": "code",
   "execution_count": 105,
   "metadata": {},
   "outputs": [],
   "source": [
    "bias_5min = pd.melt(\n",
    "    bias_5min,\n",
    "    id_vars=['time'],\n",
    "    value_vars=['biased', 'unbiased'],\n",
    "    var_name='bias',\n",
    "    value_name='count'\n",
    ")"
   ]
  },
  {
   "cell_type": "code",
   "execution_count": 106,
   "metadata": {},
   "outputs": [
    {
     "data": {
      "application/vnd.plotly.v1+json": {
       "config": {
        "plotlyServerURL": "https://plot.ly"
       },
       "data": [
        {
         "alignmentgroup": "True",
         "hovertemplate": "Bias=%{x}<br>time=0<br>Count=%{y}<extra></extra>",
         "legendgroup": "biased",
         "marker": {
          "color": "red",
          "pattern": {
           "shape": ""
          }
         },
         "name": "biased",
         "offsetgroup": "biased",
         "orientation": "v",
         "showlegend": true,
         "textposition": "auto",
         "type": "bar",
         "x": [
          "biased"
         ],
         "xaxis": "x",
         "y": [
          10
         ],
         "yaxis": "y"
        },
        {
         "alignmentgroup": "True",
         "hovertemplate": "Bias=%{x}<br>time=0<br>Count=%{y}<extra></extra>",
         "legendgroup": "unbiased",
         "marker": {
          "color": "green",
          "pattern": {
           "shape": ""
          }
         },
         "name": "unbiased",
         "offsetgroup": "unbiased",
         "orientation": "v",
         "showlegend": true,
         "textposition": "auto",
         "type": "bar",
         "x": [
          "unbiased"
         ],
         "xaxis": "x",
         "y": [
          15
         ],
         "yaxis": "y"
        }
       ],
       "frames": [
        {
         "data": [
          {
           "alignmentgroup": "True",
           "hovertemplate": "Bias=%{x}<br>time=0<br>Count=%{y}<extra></extra>",
           "legendgroup": "biased",
           "marker": {
            "color": "red",
            "pattern": {
             "shape": ""
            }
           },
           "name": "biased",
           "offsetgroup": "biased",
           "orientation": "v",
           "showlegend": true,
           "textposition": "auto",
           "type": "bar",
           "x": [
            "biased"
           ],
           "xaxis": "x",
           "y": [
            10
           ],
           "yaxis": "y"
          },
          {
           "alignmentgroup": "True",
           "hovertemplate": "Bias=%{x}<br>time=0<br>Count=%{y}<extra></extra>",
           "legendgroup": "unbiased",
           "marker": {
            "color": "green",
            "pattern": {
             "shape": ""
            }
           },
           "name": "unbiased",
           "offsetgroup": "unbiased",
           "orientation": "v",
           "showlegend": true,
           "textposition": "auto",
           "type": "bar",
           "x": [
            "unbiased"
           ],
           "xaxis": "x",
           "y": [
            15
           ],
           "yaxis": "y"
          }
         ],
         "name": "0"
        },
        {
         "data": [
          {
           "alignmentgroup": "True",
           "hovertemplate": "Bias=%{x}<br>time=300<br>Count=%{y}<extra></extra>",
           "legendgroup": "biased",
           "marker": {
            "color": "red",
            "pattern": {
             "shape": ""
            }
           },
           "name": "biased",
           "offsetgroup": "biased",
           "orientation": "v",
           "showlegend": true,
           "textposition": "auto",
           "type": "bar",
           "x": [
            "biased"
           ],
           "xaxis": "x",
           "y": [
            9
           ],
           "yaxis": "y"
          },
          {
           "alignmentgroup": "True",
           "hovertemplate": "Bias=%{x}<br>time=300<br>Count=%{y}<extra></extra>",
           "legendgroup": "unbiased",
           "marker": {
            "color": "green",
            "pattern": {
             "shape": ""
            }
           },
           "name": "unbiased",
           "offsetgroup": "unbiased",
           "orientation": "v",
           "showlegend": true,
           "textposition": "auto",
           "type": "bar",
           "x": [
            "unbiased"
           ],
           "xaxis": "x",
           "y": [
            7
           ],
           "yaxis": "y"
          }
         ],
         "name": "300"
        },
        {
         "data": [
          {
           "alignmentgroup": "True",
           "hovertemplate": "Bias=%{x}<br>time=600<br>Count=%{y}<extra></extra>",
           "legendgroup": "biased",
           "marker": {
            "color": "red",
            "pattern": {
             "shape": ""
            }
           },
           "name": "biased",
           "offsetgroup": "biased",
           "orientation": "v",
           "showlegend": true,
           "textposition": "auto",
           "type": "bar",
           "x": [
            "biased"
           ],
           "xaxis": "x",
           "y": [
            29
           ],
           "yaxis": "y"
          },
          {
           "alignmentgroup": "True",
           "hovertemplate": "Bias=%{x}<br>time=600<br>Count=%{y}<extra></extra>",
           "legendgroup": "unbiased",
           "marker": {
            "color": "green",
            "pattern": {
             "shape": ""
            }
           },
           "name": "unbiased",
           "offsetgroup": "unbiased",
           "orientation": "v",
           "showlegend": true,
           "textposition": "auto",
           "type": "bar",
           "x": [
            "unbiased"
           ],
           "xaxis": "x",
           "y": [
            20
           ],
           "yaxis": "y"
          }
         ],
         "name": "600"
        },
        {
         "data": [
          {
           "alignmentgroup": "True",
           "hovertemplate": "Bias=%{x}<br>time=900<br>Count=%{y}<extra></extra>",
           "legendgroup": "biased",
           "marker": {
            "color": "red",
            "pattern": {
             "shape": ""
            }
           },
           "name": "biased",
           "offsetgroup": "biased",
           "orientation": "v",
           "showlegend": true,
           "textposition": "auto",
           "type": "bar",
           "x": [
            "biased"
           ],
           "xaxis": "x",
           "y": [
            22
           ],
           "yaxis": "y"
          },
          {
           "alignmentgroup": "True",
           "hovertemplate": "Bias=%{x}<br>time=900<br>Count=%{y}<extra></extra>",
           "legendgroup": "unbiased",
           "marker": {
            "color": "green",
            "pattern": {
             "shape": ""
            }
           },
           "name": "unbiased",
           "offsetgroup": "unbiased",
           "orientation": "v",
           "showlegend": true,
           "textposition": "auto",
           "type": "bar",
           "x": [
            "unbiased"
           ],
           "xaxis": "x",
           "y": [
            21
           ],
           "yaxis": "y"
          }
         ],
         "name": "900"
        },
        {
         "data": [
          {
           "alignmentgroup": "True",
           "hovertemplate": "Bias=%{x}<br>time=1200<br>Count=%{y}<extra></extra>",
           "legendgroup": "biased",
           "marker": {
            "color": "red",
            "pattern": {
             "shape": ""
            }
           },
           "name": "biased",
           "offsetgroup": "biased",
           "orientation": "v",
           "showlegend": true,
           "textposition": "auto",
           "type": "bar",
           "x": [
            "biased"
           ],
           "xaxis": "x",
           "y": [
            17
           ],
           "yaxis": "y"
          },
          {
           "alignmentgroup": "True",
           "hovertemplate": "Bias=%{x}<br>time=1200<br>Count=%{y}<extra></extra>",
           "legendgroup": "unbiased",
           "marker": {
            "color": "green",
            "pattern": {
             "shape": ""
            }
           },
           "name": "unbiased",
           "offsetgroup": "unbiased",
           "orientation": "v",
           "showlegend": true,
           "textposition": "auto",
           "type": "bar",
           "x": [
            "unbiased"
           ],
           "xaxis": "x",
           "y": [
            16
           ],
           "yaxis": "y"
          }
         ],
         "name": "1200"
        },
        {
         "data": [
          {
           "alignmentgroup": "True",
           "hovertemplate": "Bias=%{x}<br>time=1500<br>Count=%{y}<extra></extra>",
           "legendgroup": "biased",
           "marker": {
            "color": "red",
            "pattern": {
             "shape": ""
            }
           },
           "name": "biased",
           "offsetgroup": "biased",
           "orientation": "v",
           "showlegend": true,
           "textposition": "auto",
           "type": "bar",
           "x": [
            "biased"
           ],
           "xaxis": "x",
           "y": [
            27
           ],
           "yaxis": "y"
          },
          {
           "alignmentgroup": "True",
           "hovertemplate": "Bias=%{x}<br>time=1500<br>Count=%{y}<extra></extra>",
           "legendgroup": "unbiased",
           "marker": {
            "color": "green",
            "pattern": {
             "shape": ""
            }
           },
           "name": "unbiased",
           "offsetgroup": "unbiased",
           "orientation": "v",
           "showlegend": true,
           "textposition": "auto",
           "type": "bar",
           "x": [
            "unbiased"
           ],
           "xaxis": "x",
           "y": [
            36
           ],
           "yaxis": "y"
          }
         ],
         "name": "1500"
        },
        {
         "data": [
          {
           "alignmentgroup": "True",
           "hovertemplate": "Bias=%{x}<br>time=1800<br>Count=%{y}<extra></extra>",
           "legendgroup": "biased",
           "marker": {
            "color": "red",
            "pattern": {
             "shape": ""
            }
           },
           "name": "biased",
           "offsetgroup": "biased",
           "orientation": "v",
           "showlegend": true,
           "textposition": "auto",
           "type": "bar",
           "x": [
            "biased"
           ],
           "xaxis": "x",
           "y": [
            20
           ],
           "yaxis": "y"
          },
          {
           "alignmentgroup": "True",
           "hovertemplate": "Bias=%{x}<br>time=1800<br>Count=%{y}<extra></extra>",
           "legendgroup": "unbiased",
           "marker": {
            "color": "green",
            "pattern": {
             "shape": ""
            }
           },
           "name": "unbiased",
           "offsetgroup": "unbiased",
           "orientation": "v",
           "showlegend": true,
           "textposition": "auto",
           "type": "bar",
           "x": [
            "unbiased"
           ],
           "xaxis": "x",
           "y": [
            15
           ],
           "yaxis": "y"
          }
         ],
         "name": "1800"
        },
        {
         "data": [
          {
           "alignmentgroup": "True",
           "hovertemplate": "Bias=%{x}<br>time=2100<br>Count=%{y}<extra></extra>",
           "legendgroup": "biased",
           "marker": {
            "color": "red",
            "pattern": {
             "shape": ""
            }
           },
           "name": "biased",
           "offsetgroup": "biased",
           "orientation": "v",
           "showlegend": true,
           "textposition": "auto",
           "type": "bar",
           "x": [
            "biased"
           ],
           "xaxis": "x",
           "y": [
            6
           ],
           "yaxis": "y"
          },
          {
           "alignmentgroup": "True",
           "hovertemplate": "Bias=%{x}<br>time=2100<br>Count=%{y}<extra></extra>",
           "legendgroup": "unbiased",
           "marker": {
            "color": "green",
            "pattern": {
             "shape": ""
            }
           },
           "name": "unbiased",
           "offsetgroup": "unbiased",
           "orientation": "v",
           "showlegend": true,
           "textposition": "auto",
           "type": "bar",
           "x": [
            "unbiased"
           ],
           "xaxis": "x",
           "y": [
            13
           ],
           "yaxis": "y"
          }
         ],
         "name": "2100"
        },
        {
         "data": [
          {
           "alignmentgroup": "True",
           "hovertemplate": "Bias=%{x}<br>time=2400<br>Count=%{y}<extra></extra>",
           "legendgroup": "biased",
           "marker": {
            "color": "red",
            "pattern": {
             "shape": ""
            }
           },
           "name": "biased",
           "offsetgroup": "biased",
           "orientation": "v",
           "showlegend": true,
           "textposition": "auto",
           "type": "bar",
           "x": [
            "biased"
           ],
           "xaxis": "x",
           "y": [
            14
           ],
           "yaxis": "y"
          },
          {
           "alignmentgroup": "True",
           "hovertemplate": "Bias=%{x}<br>time=2400<br>Count=%{y}<extra></extra>",
           "legendgroup": "unbiased",
           "marker": {
            "color": "green",
            "pattern": {
             "shape": ""
            }
           },
           "name": "unbiased",
           "offsetgroup": "unbiased",
           "orientation": "v",
           "showlegend": true,
           "textposition": "auto",
           "type": "bar",
           "x": [
            "unbiased"
           ],
           "xaxis": "x",
           "y": [
            14
           ],
           "yaxis": "y"
          }
         ],
         "name": "2400"
        },
        {
         "data": [
          {
           "alignmentgroup": "True",
           "hovertemplate": "Bias=%{x}<br>time=2700<br>Count=%{y}<extra></extra>",
           "legendgroup": "biased",
           "marker": {
            "color": "red",
            "pattern": {
             "shape": ""
            }
           },
           "name": "biased",
           "offsetgroup": "biased",
           "orientation": "v",
           "showlegend": true,
           "textposition": "auto",
           "type": "bar",
           "x": [
            "biased"
           ],
           "xaxis": "x",
           "y": [
            8
           ],
           "yaxis": "y"
          },
          {
           "alignmentgroup": "True",
           "hovertemplate": "Bias=%{x}<br>time=2700<br>Count=%{y}<extra></extra>",
           "legendgroup": "unbiased",
           "marker": {
            "color": "green",
            "pattern": {
             "shape": ""
            }
           },
           "name": "unbiased",
           "offsetgroup": "unbiased",
           "orientation": "v",
           "showlegend": true,
           "textposition": "auto",
           "type": "bar",
           "x": [
            "unbiased"
           ],
           "xaxis": "x",
           "y": [
            9
           ],
           "yaxis": "y"
          }
         ],
         "name": "2700"
        },
        {
         "data": [
          {
           "alignmentgroup": "True",
           "hovertemplate": "Bias=%{x}<br>time=3000<br>Count=%{y}<extra></extra>",
           "legendgroup": "biased",
           "marker": {
            "color": "red",
            "pattern": {
             "shape": ""
            }
           },
           "name": "biased",
           "offsetgroup": "biased",
           "orientation": "v",
           "showlegend": true,
           "textposition": "auto",
           "type": "bar",
           "x": [
            "biased"
           ],
           "xaxis": "x",
           "y": [
            7
           ],
           "yaxis": "y"
          },
          {
           "alignmentgroup": "True",
           "hovertemplate": "Bias=%{x}<br>time=3000<br>Count=%{y}<extra></extra>",
           "legendgroup": "unbiased",
           "marker": {
            "color": "green",
            "pattern": {
             "shape": ""
            }
           },
           "name": "unbiased",
           "offsetgroup": "unbiased",
           "orientation": "v",
           "showlegend": true,
           "textposition": "auto",
           "type": "bar",
           "x": [
            "unbiased"
           ],
           "xaxis": "x",
           "y": [
            14
           ],
           "yaxis": "y"
          }
         ],
         "name": "3000"
        },
        {
         "data": [
          {
           "alignmentgroup": "True",
           "hovertemplate": "Bias=%{x}<br>time=3300<br>Count=%{y}<extra></extra>",
           "legendgroup": "biased",
           "marker": {
            "color": "red",
            "pattern": {
             "shape": ""
            }
           },
           "name": "biased",
           "offsetgroup": "biased",
           "orientation": "v",
           "showlegend": true,
           "textposition": "auto",
           "type": "bar",
           "x": [
            "biased"
           ],
           "xaxis": "x",
           "y": [
            7
           ],
           "yaxis": "y"
          },
          {
           "alignmentgroup": "True",
           "hovertemplate": "Bias=%{x}<br>time=3300<br>Count=%{y}<extra></extra>",
           "legendgroup": "unbiased",
           "marker": {
            "color": "green",
            "pattern": {
             "shape": ""
            }
           },
           "name": "unbiased",
           "offsetgroup": "unbiased",
           "orientation": "v",
           "showlegend": true,
           "textposition": "auto",
           "type": "bar",
           "x": [
            "unbiased"
           ],
           "xaxis": "x",
           "y": [
            9
           ],
           "yaxis": "y"
          }
         ],
         "name": "3300"
        },
        {
         "data": [
          {
           "alignmentgroup": "True",
           "hovertemplate": "Bias=%{x}<br>time=3600<br>Count=%{y}<extra></extra>",
           "legendgroup": "biased",
           "marker": {
            "color": "red",
            "pattern": {
             "shape": ""
            }
           },
           "name": "biased",
           "offsetgroup": "biased",
           "orientation": "v",
           "showlegend": true,
           "textposition": "auto",
           "type": "bar",
           "x": [
            "biased"
           ],
           "xaxis": "x",
           "y": [
            5
           ],
           "yaxis": "y"
          },
          {
           "alignmentgroup": "True",
           "hovertemplate": "Bias=%{x}<br>time=3600<br>Count=%{y}<extra></extra>",
           "legendgroup": "unbiased",
           "marker": {
            "color": "green",
            "pattern": {
             "shape": ""
            }
           },
           "name": "unbiased",
           "offsetgroup": "unbiased",
           "orientation": "v",
           "showlegend": true,
           "textposition": "auto",
           "type": "bar",
           "x": [
            "unbiased"
           ],
           "xaxis": "x",
           "y": [
            7
           ],
           "yaxis": "y"
          }
         ],
         "name": "3600"
        },
        {
         "data": [
          {
           "alignmentgroup": "True",
           "hovertemplate": "Bias=%{x}<br>time=3900<br>Count=%{y}<extra></extra>",
           "legendgroup": "biased",
           "marker": {
            "color": "red",
            "pattern": {
             "shape": ""
            }
           },
           "name": "biased",
           "offsetgroup": "biased",
           "orientation": "v",
           "showlegend": true,
           "textposition": "auto",
           "type": "bar",
           "x": [
            "biased"
           ],
           "xaxis": "x",
           "y": [
            5
           ],
           "yaxis": "y"
          },
          {
           "alignmentgroup": "True",
           "hovertemplate": "Bias=%{x}<br>time=3900<br>Count=%{y}<extra></extra>",
           "legendgroup": "unbiased",
           "marker": {
            "color": "green",
            "pattern": {
             "shape": ""
            }
           },
           "name": "unbiased",
           "offsetgroup": "unbiased",
           "orientation": "v",
           "showlegend": true,
           "textposition": "auto",
           "type": "bar",
           "x": [
            "unbiased"
           ],
           "xaxis": "x",
           "y": [
            8
           ],
           "yaxis": "y"
          }
         ],
         "name": "3900"
        },
        {
         "data": [
          {
           "alignmentgroup": "True",
           "hovertemplate": "Bias=%{x}<br>time=4200<br>Count=%{y}<extra></extra>",
           "legendgroup": "biased",
           "marker": {
            "color": "red",
            "pattern": {
             "shape": ""
            }
           },
           "name": "biased",
           "offsetgroup": "biased",
           "orientation": "v",
           "showlegend": true,
           "textposition": "auto",
           "type": "bar",
           "x": [
            "biased"
           ],
           "xaxis": "x",
           "y": [
            4
           ],
           "yaxis": "y"
          },
          {
           "alignmentgroup": "True",
           "hovertemplate": "Bias=%{x}<br>time=4200<br>Count=%{y}<extra></extra>",
           "legendgroup": "unbiased",
           "marker": {
            "color": "green",
            "pattern": {
             "shape": ""
            }
           },
           "name": "unbiased",
           "offsetgroup": "unbiased",
           "orientation": "v",
           "showlegend": true,
           "textposition": "auto",
           "type": "bar",
           "x": [
            "unbiased"
           ],
           "xaxis": "x",
           "y": [
            13
           ],
           "yaxis": "y"
          }
         ],
         "name": "4200"
        },
        {
         "data": [
          {
           "alignmentgroup": "True",
           "hovertemplate": "Bias=%{x}<br>time=4500<br>Count=%{y}<extra></extra>",
           "legendgroup": "biased",
           "marker": {
            "color": "red",
            "pattern": {
             "shape": ""
            }
           },
           "name": "biased",
           "offsetgroup": "biased",
           "orientation": "v",
           "showlegend": true,
           "textposition": "auto",
           "type": "bar",
           "x": [
            "biased"
           ],
           "xaxis": "x",
           "y": [
            6
           ],
           "yaxis": "y"
          },
          {
           "alignmentgroup": "True",
           "hovertemplate": "Bias=%{x}<br>time=4500<br>Count=%{y}<extra></extra>",
           "legendgroup": "unbiased",
           "marker": {
            "color": "green",
            "pattern": {
             "shape": ""
            }
           },
           "name": "unbiased",
           "offsetgroup": "unbiased",
           "orientation": "v",
           "showlegend": true,
           "textposition": "auto",
           "type": "bar",
           "x": [
            "unbiased"
           ],
           "xaxis": "x",
           "y": [
            17
           ],
           "yaxis": "y"
          }
         ],
         "name": "4500"
        },
        {
         "data": [
          {
           "alignmentgroup": "True",
           "hovertemplate": "Bias=%{x}<br>time=4800<br>Count=%{y}<extra></extra>",
           "legendgroup": "biased",
           "marker": {
            "color": "red",
            "pattern": {
             "shape": ""
            }
           },
           "name": "biased",
           "offsetgroup": "biased",
           "orientation": "v",
           "showlegend": true,
           "textposition": "auto",
           "type": "bar",
           "x": [
            "biased"
           ],
           "xaxis": "x",
           "y": [
            2
           ],
           "yaxis": "y"
          },
          {
           "alignmentgroup": "True",
           "hovertemplate": "Bias=%{x}<br>time=4800<br>Count=%{y}<extra></extra>",
           "legendgroup": "unbiased",
           "marker": {
            "color": "green",
            "pattern": {
             "shape": ""
            }
           },
           "name": "unbiased",
           "offsetgroup": "unbiased",
           "orientation": "v",
           "showlegend": true,
           "textposition": "auto",
           "type": "bar",
           "x": [
            "unbiased"
           ],
           "xaxis": "x",
           "y": [
            7
           ],
           "yaxis": "y"
          }
         ],
         "name": "4800"
        },
        {
         "data": [
          {
           "alignmentgroup": "True",
           "hovertemplate": "Bias=%{x}<br>time=5100<br>Count=%{y}<extra></extra>",
           "legendgroup": "biased",
           "marker": {
            "color": "red",
            "pattern": {
             "shape": ""
            }
           },
           "name": "biased",
           "offsetgroup": "biased",
           "orientation": "v",
           "showlegend": true,
           "textposition": "auto",
           "type": "bar",
           "x": [
            "biased"
           ],
           "xaxis": "x",
           "y": [
            3
           ],
           "yaxis": "y"
          },
          {
           "alignmentgroup": "True",
           "hovertemplate": "Bias=%{x}<br>time=5100<br>Count=%{y}<extra></extra>",
           "legendgroup": "unbiased",
           "marker": {
            "color": "green",
            "pattern": {
             "shape": ""
            }
           },
           "name": "unbiased",
           "offsetgroup": "unbiased",
           "orientation": "v",
           "showlegend": true,
           "textposition": "auto",
           "type": "bar",
           "x": [
            "unbiased"
           ],
           "xaxis": "x",
           "y": [
            4
           ],
           "yaxis": "y"
          }
         ],
         "name": "5100"
        },
        {
         "data": [
          {
           "alignmentgroup": "True",
           "hovertemplate": "Bias=%{x}<br>time=5400<br>Count=%{y}<extra></extra>",
           "legendgroup": "biased",
           "marker": {
            "color": "red",
            "pattern": {
             "shape": ""
            }
           },
           "name": "biased",
           "offsetgroup": "biased",
           "orientation": "v",
           "showlegend": true,
           "textposition": "auto",
           "type": "bar",
           "x": [
            "biased"
           ],
           "xaxis": "x",
           "y": [
            10
           ],
           "yaxis": "y"
          },
          {
           "alignmentgroup": "True",
           "hovertemplate": "Bias=%{x}<br>time=5400<br>Count=%{y}<extra></extra>",
           "legendgroup": "unbiased",
           "marker": {
            "color": "green",
            "pattern": {
             "shape": ""
            }
           },
           "name": "unbiased",
           "offsetgroup": "unbiased",
           "orientation": "v",
           "showlegend": true,
           "textposition": "auto",
           "type": "bar",
           "x": [
            "unbiased"
           ],
           "xaxis": "x",
           "y": [
            11
           ],
           "yaxis": "y"
          }
         ],
         "name": "5400"
        },
        {
         "data": [
          {
           "alignmentgroup": "True",
           "hovertemplate": "Bias=%{x}<br>time=5700<br>Count=%{y}<extra></extra>",
           "legendgroup": "biased",
           "marker": {
            "color": "red",
            "pattern": {
             "shape": ""
            }
           },
           "name": "biased",
           "offsetgroup": "biased",
           "orientation": "v",
           "showlegend": true,
           "textposition": "auto",
           "type": "bar",
           "x": [
            "biased"
           ],
           "xaxis": "x",
           "y": [
            7
           ],
           "yaxis": "y"
          },
          {
           "alignmentgroup": "True",
           "hovertemplate": "Bias=%{x}<br>time=5700<br>Count=%{y}<extra></extra>",
           "legendgroup": "unbiased",
           "marker": {
            "color": "green",
            "pattern": {
             "shape": ""
            }
           },
           "name": "unbiased",
           "offsetgroup": "unbiased",
           "orientation": "v",
           "showlegend": true,
           "textposition": "auto",
           "type": "bar",
           "x": [
            "unbiased"
           ],
           "xaxis": "x",
           "y": [
            10
           ],
           "yaxis": "y"
          }
         ],
         "name": "5700"
        },
        {
         "data": [
          {
           "alignmentgroup": "True",
           "hovertemplate": "Bias=%{x}<br>time=6000<br>Count=%{y}<extra></extra>",
           "legendgroup": "biased",
           "marker": {
            "color": "red",
            "pattern": {
             "shape": ""
            }
           },
           "name": "biased",
           "offsetgroup": "biased",
           "orientation": "v",
           "showlegend": true,
           "textposition": "auto",
           "type": "bar",
           "x": [
            "biased"
           ],
           "xaxis": "x",
           "y": [
            22
           ],
           "yaxis": "y"
          },
          {
           "alignmentgroup": "True",
           "hovertemplate": "Bias=%{x}<br>time=6000<br>Count=%{y}<extra></extra>",
           "legendgroup": "unbiased",
           "marker": {
            "color": "green",
            "pattern": {
             "shape": ""
            }
           },
           "name": "unbiased",
           "offsetgroup": "unbiased",
           "orientation": "v",
           "showlegend": true,
           "textposition": "auto",
           "type": "bar",
           "x": [
            "unbiased"
           ],
           "xaxis": "x",
           "y": [
            41
           ],
           "yaxis": "y"
          }
         ],
         "name": "6000"
        },
        {
         "data": [
          {
           "alignmentgroup": "True",
           "hovertemplate": "Bias=%{x}<br>time=6300<br>Count=%{y}<extra></extra>",
           "legendgroup": "biased",
           "marker": {
            "color": "red",
            "pattern": {
             "shape": ""
            }
           },
           "name": "biased",
           "offsetgroup": "biased",
           "orientation": "v",
           "showlegend": true,
           "textposition": "auto",
           "type": "bar",
           "x": [
            "biased"
           ],
           "xaxis": "x",
           "y": [
            48
           ],
           "yaxis": "y"
          },
          {
           "alignmentgroup": "True",
           "hovertemplate": "Bias=%{x}<br>time=6300<br>Count=%{y}<extra></extra>",
           "legendgroup": "unbiased",
           "marker": {
            "color": "green",
            "pattern": {
             "shape": ""
            }
           },
           "name": "unbiased",
           "offsetgroup": "unbiased",
           "orientation": "v",
           "showlegend": true,
           "textposition": "auto",
           "type": "bar",
           "x": [
            "unbiased"
           ],
           "xaxis": "x",
           "y": [
            118
           ],
           "yaxis": "y"
          }
         ],
         "name": "6300"
        },
        {
         "data": [
          {
           "alignmentgroup": "True",
           "hovertemplate": "Bias=%{x}<br>time=6600<br>Count=%{y}<extra></extra>",
           "legendgroup": "biased",
           "marker": {
            "color": "red",
            "pattern": {
             "shape": ""
            }
           },
           "name": "biased",
           "offsetgroup": "biased",
           "orientation": "v",
           "showlegend": true,
           "textposition": "auto",
           "type": "bar",
           "x": [
            "biased"
           ],
           "xaxis": "x",
           "y": [
            24
           ],
           "yaxis": "y"
          },
          {
           "alignmentgroup": "True",
           "hovertemplate": "Bias=%{x}<br>time=6600<br>Count=%{y}<extra></extra>",
           "legendgroup": "unbiased",
           "marker": {
            "color": "green",
            "pattern": {
             "shape": ""
            }
           },
           "name": "unbiased",
           "offsetgroup": "unbiased",
           "orientation": "v",
           "showlegend": true,
           "textposition": "auto",
           "type": "bar",
           "x": [
            "unbiased"
           ],
           "xaxis": "x",
           "y": [
            56
           ],
           "yaxis": "y"
          }
         ],
         "name": "6600"
        },
        {
         "data": [
          {
           "alignmentgroup": "True",
           "hovertemplate": "Bias=%{x}<br>time=6900<br>Count=%{y}<extra></extra>",
           "legendgroup": "biased",
           "marker": {
            "color": "red",
            "pattern": {
             "shape": ""
            }
           },
           "name": "biased",
           "offsetgroup": "biased",
           "orientation": "v",
           "showlegend": true,
           "textposition": "auto",
           "type": "bar",
           "x": [
            "biased"
           ],
           "xaxis": "x",
           "y": [
            17
           ],
           "yaxis": "y"
          },
          {
           "alignmentgroup": "True",
           "hovertemplate": "Bias=%{x}<br>time=6900<br>Count=%{y}<extra></extra>",
           "legendgroup": "unbiased",
           "marker": {
            "color": "green",
            "pattern": {
             "shape": ""
            }
           },
           "name": "unbiased",
           "offsetgroup": "unbiased",
           "orientation": "v",
           "showlegend": true,
           "textposition": "auto",
           "type": "bar",
           "x": [
            "unbiased"
           ],
           "xaxis": "x",
           "y": [
            44
           ],
           "yaxis": "y"
          }
         ],
         "name": "6900"
        },
        {
         "data": [
          {
           "alignmentgroup": "True",
           "hovertemplate": "Bias=%{x}<br>time=7200<br>Count=%{y}<extra></extra>",
           "legendgroup": "biased",
           "marker": {
            "color": "red",
            "pattern": {
             "shape": ""
            }
           },
           "name": "biased",
           "offsetgroup": "biased",
           "orientation": "v",
           "showlegend": true,
           "textposition": "auto",
           "type": "bar",
           "x": [
            "biased"
           ],
           "xaxis": "x",
           "y": [
            18
           ],
           "yaxis": "y"
          },
          {
           "alignmentgroup": "True",
           "hovertemplate": "Bias=%{x}<br>time=7200<br>Count=%{y}<extra></extra>",
           "legendgroup": "unbiased",
           "marker": {
            "color": "green",
            "pattern": {
             "shape": ""
            }
           },
           "name": "unbiased",
           "offsetgroup": "unbiased",
           "orientation": "v",
           "showlegend": true,
           "textposition": "auto",
           "type": "bar",
           "x": [
            "unbiased"
           ],
           "xaxis": "x",
           "y": [
            50
           ],
           "yaxis": "y"
          }
         ],
         "name": "7200"
        },
        {
         "data": [
          {
           "alignmentgroup": "True",
           "hovertemplate": "Bias=%{x}<br>time=7500<br>Count=%{y}<extra></extra>",
           "legendgroup": "biased",
           "marker": {
            "color": "red",
            "pattern": {
             "shape": ""
            }
           },
           "name": "biased",
           "offsetgroup": "biased",
           "orientation": "v",
           "showlegend": true,
           "textposition": "auto",
           "type": "bar",
           "x": [
            "biased"
           ],
           "xaxis": "x",
           "y": [
            12
           ],
           "yaxis": "y"
          },
          {
           "alignmentgroup": "True",
           "hovertemplate": "Bias=%{x}<br>time=7500<br>Count=%{y}<extra></extra>",
           "legendgroup": "unbiased",
           "marker": {
            "color": "green",
            "pattern": {
             "shape": ""
            }
           },
           "name": "unbiased",
           "offsetgroup": "unbiased",
           "orientation": "v",
           "showlegend": true,
           "textposition": "auto",
           "type": "bar",
           "x": [
            "unbiased"
           ],
           "xaxis": "x",
           "y": [
            21
           ],
           "yaxis": "y"
          }
         ],
         "name": "7500"
        },
        {
         "data": [
          {
           "alignmentgroup": "True",
           "hovertemplate": "Bias=%{x}<br>time=7800<br>Count=%{y}<extra></extra>",
           "legendgroup": "biased",
           "marker": {
            "color": "red",
            "pattern": {
             "shape": ""
            }
           },
           "name": "biased",
           "offsetgroup": "biased",
           "orientation": "v",
           "showlegend": true,
           "textposition": "auto",
           "type": "bar",
           "x": [
            "biased"
           ],
           "xaxis": "x",
           "y": [
            12
           ],
           "yaxis": "y"
          },
          {
           "alignmentgroup": "True",
           "hovertemplate": "Bias=%{x}<br>time=7800<br>Count=%{y}<extra></extra>",
           "legendgroup": "unbiased",
           "marker": {
            "color": "green",
            "pattern": {
             "shape": ""
            }
           },
           "name": "unbiased",
           "offsetgroup": "unbiased",
           "orientation": "v",
           "showlegend": true,
           "textposition": "auto",
           "type": "bar",
           "x": [
            "unbiased"
           ],
           "xaxis": "x",
           "y": [
            22
           ],
           "yaxis": "y"
          }
         ],
         "name": "7800"
        },
        {
         "data": [
          {
           "alignmentgroup": "True",
           "hovertemplate": "Bias=%{x}<br>time=8100<br>Count=%{y}<extra></extra>",
           "legendgroup": "biased",
           "marker": {
            "color": "red",
            "pattern": {
             "shape": ""
            }
           },
           "name": "biased",
           "offsetgroup": "biased",
           "orientation": "v",
           "showlegend": true,
           "textposition": "auto",
           "type": "bar",
           "x": [
            "biased"
           ],
           "xaxis": "x",
           "y": [
            21
           ],
           "yaxis": "y"
          },
          {
           "alignmentgroup": "True",
           "hovertemplate": "Bias=%{x}<br>time=8100<br>Count=%{y}<extra></extra>",
           "legendgroup": "unbiased",
           "marker": {
            "color": "green",
            "pattern": {
             "shape": ""
            }
           },
           "name": "unbiased",
           "offsetgroup": "unbiased",
           "orientation": "v",
           "showlegend": true,
           "textposition": "auto",
           "type": "bar",
           "x": [
            "unbiased"
           ],
           "xaxis": "x",
           "y": [
            26
           ],
           "yaxis": "y"
          }
         ],
         "name": "8100"
        },
        {
         "data": [
          {
           "alignmentgroup": "True",
           "hovertemplate": "Bias=%{x}<br>time=8400<br>Count=%{y}<extra></extra>",
           "legendgroup": "biased",
           "marker": {
            "color": "red",
            "pattern": {
             "shape": ""
            }
           },
           "name": "biased",
           "offsetgroup": "biased",
           "orientation": "v",
           "showlegend": true,
           "textposition": "auto",
           "type": "bar",
           "x": [
            "biased"
           ],
           "xaxis": "x",
           "y": [
            33
           ],
           "yaxis": "y"
          },
          {
           "alignmentgroup": "True",
           "hovertemplate": "Bias=%{x}<br>time=8400<br>Count=%{y}<extra></extra>",
           "legendgroup": "unbiased",
           "marker": {
            "color": "green",
            "pattern": {
             "shape": ""
            }
           },
           "name": "unbiased",
           "offsetgroup": "unbiased",
           "orientation": "v",
           "showlegend": true,
           "textposition": "auto",
           "type": "bar",
           "x": [
            "unbiased"
           ],
           "xaxis": "x",
           "y": [
            47
           ],
           "yaxis": "y"
          }
         ],
         "name": "8400"
        },
        {
         "data": [
          {
           "alignmentgroup": "True",
           "hovertemplate": "Bias=%{x}<br>time=8700<br>Count=%{y}<extra></extra>",
           "legendgroup": "biased",
           "marker": {
            "color": "red",
            "pattern": {
             "shape": ""
            }
           },
           "name": "biased",
           "offsetgroup": "biased",
           "orientation": "v",
           "showlegend": true,
           "textposition": "auto",
           "type": "bar",
           "x": [
            "biased"
           ],
           "xaxis": "x",
           "y": [
            23
           ],
           "yaxis": "y"
          },
          {
           "alignmentgroup": "True",
           "hovertemplate": "Bias=%{x}<br>time=8700<br>Count=%{y}<extra></extra>",
           "legendgroup": "unbiased",
           "marker": {
            "color": "green",
            "pattern": {
             "shape": ""
            }
           },
           "name": "unbiased",
           "offsetgroup": "unbiased",
           "orientation": "v",
           "showlegend": true,
           "textposition": "auto",
           "type": "bar",
           "x": [
            "unbiased"
           ],
           "xaxis": "x",
           "y": [
            47
           ],
           "yaxis": "y"
          }
         ],
         "name": "8700"
        },
        {
         "data": [
          {
           "alignmentgroup": "True",
           "hovertemplate": "Bias=%{x}<br>time=9000<br>Count=%{y}<extra></extra>",
           "legendgroup": "biased",
           "marker": {
            "color": "red",
            "pattern": {
             "shape": ""
            }
           },
           "name": "biased",
           "offsetgroup": "biased",
           "orientation": "v",
           "showlegend": true,
           "textposition": "auto",
           "type": "bar",
           "x": [
            "biased"
           ],
           "xaxis": "x",
           "y": [
            4
           ],
           "yaxis": "y"
          },
          {
           "alignmentgroup": "True",
           "hovertemplate": "Bias=%{x}<br>time=9000<br>Count=%{y}<extra></extra>",
           "legendgroup": "unbiased",
           "marker": {
            "color": "green",
            "pattern": {
             "shape": ""
            }
           },
           "name": "unbiased",
           "offsetgroup": "unbiased",
           "orientation": "v",
           "showlegend": true,
           "textposition": "auto",
           "type": "bar",
           "x": [
            "unbiased"
           ],
           "xaxis": "x",
           "y": [
            19
           ],
           "yaxis": "y"
          }
         ],
         "name": "9000"
        },
        {
         "data": [
          {
           "alignmentgroup": "True",
           "hovertemplate": "Bias=%{x}<br>time=9300<br>Count=%{y}<extra></extra>",
           "legendgroup": "biased",
           "marker": {
            "color": "red",
            "pattern": {
             "shape": ""
            }
           },
           "name": "biased",
           "offsetgroup": "biased",
           "orientation": "v",
           "showlegend": true,
           "textposition": "auto",
           "type": "bar",
           "x": [
            "biased"
           ],
           "xaxis": "x",
           "y": [
            21
           ],
           "yaxis": "y"
          },
          {
           "alignmentgroup": "True",
           "hovertemplate": "Bias=%{x}<br>time=9300<br>Count=%{y}<extra></extra>",
           "legendgroup": "unbiased",
           "marker": {
            "color": "green",
            "pattern": {
             "shape": ""
            }
           },
           "name": "unbiased",
           "offsetgroup": "unbiased",
           "orientation": "v",
           "showlegend": true,
           "textposition": "auto",
           "type": "bar",
           "x": [
            "unbiased"
           ],
           "xaxis": "x",
           "y": [
            37
           ],
           "yaxis": "y"
          }
         ],
         "name": "9300"
        },
        {
         "data": [
          {
           "alignmentgroup": "True",
           "hovertemplate": "Bias=%{x}<br>time=9600<br>Count=%{y}<extra></extra>",
           "legendgroup": "biased",
           "marker": {
            "color": "red",
            "pattern": {
             "shape": ""
            }
           },
           "name": "biased",
           "offsetgroup": "biased",
           "orientation": "v",
           "showlegend": true,
           "textposition": "auto",
           "type": "bar",
           "x": [
            "biased"
           ],
           "xaxis": "x",
           "y": [
            121
           ],
           "yaxis": "y"
          },
          {
           "alignmentgroup": "True",
           "hovertemplate": "Bias=%{x}<br>time=9600<br>Count=%{y}<extra></extra>",
           "legendgroup": "unbiased",
           "marker": {
            "color": "green",
            "pattern": {
             "shape": ""
            }
           },
           "name": "unbiased",
           "offsetgroup": "unbiased",
           "orientation": "v",
           "showlegend": true,
           "textposition": "auto",
           "type": "bar",
           "x": [
            "unbiased"
           ],
           "xaxis": "x",
           "y": [
            129
           ],
           "yaxis": "y"
          }
         ],
         "name": "9600"
        },
        {
         "data": [
          {
           "alignmentgroup": "True",
           "hovertemplate": "Bias=%{x}<br>time=9900<br>Count=%{y}<extra></extra>",
           "legendgroup": "biased",
           "marker": {
            "color": "red",
            "pattern": {
             "shape": ""
            }
           },
           "name": "biased",
           "offsetgroup": "biased",
           "orientation": "v",
           "showlegend": true,
           "textposition": "auto",
           "type": "bar",
           "x": [
            "biased"
           ],
           "xaxis": "x",
           "y": [
            44
           ],
           "yaxis": "y"
          },
          {
           "alignmentgroup": "True",
           "hovertemplate": "Bias=%{x}<br>time=9900<br>Count=%{y}<extra></extra>",
           "legendgroup": "unbiased",
           "marker": {
            "color": "green",
            "pattern": {
             "shape": ""
            }
           },
           "name": "unbiased",
           "offsetgroup": "unbiased",
           "orientation": "v",
           "showlegend": true,
           "textposition": "auto",
           "type": "bar",
           "x": [
            "unbiased"
           ],
           "xaxis": "x",
           "y": [
            107
           ],
           "yaxis": "y"
          }
         ],
         "name": "9900"
        },
        {
         "data": [
          {
           "alignmentgroup": "True",
           "hovertemplate": "Bias=%{x}<br>time=10200<br>Count=%{y}<extra></extra>",
           "legendgroup": "biased",
           "marker": {
            "color": "red",
            "pattern": {
             "shape": ""
            }
           },
           "name": "biased",
           "offsetgroup": "biased",
           "orientation": "v",
           "showlegend": true,
           "textposition": "auto",
           "type": "bar",
           "x": [
            "biased"
           ],
           "xaxis": "x",
           "y": [
            16
           ],
           "yaxis": "y"
          },
          {
           "alignmentgroup": "True",
           "hovertemplate": "Bias=%{x}<br>time=10200<br>Count=%{y}<extra></extra>",
           "legendgroup": "unbiased",
           "marker": {
            "color": "green",
            "pattern": {
             "shape": ""
            }
           },
           "name": "unbiased",
           "offsetgroup": "unbiased",
           "orientation": "v",
           "showlegend": true,
           "textposition": "auto",
           "type": "bar",
           "x": [
            "unbiased"
           ],
           "xaxis": "x",
           "y": [
            18
           ],
           "yaxis": "y"
          }
         ],
         "name": "10200"
        },
        {
         "data": [
          {
           "alignmentgroup": "True",
           "hovertemplate": "Bias=%{x}<br>time=10500<br>Count=%{y}<extra></extra>",
           "legendgroup": "biased",
           "marker": {
            "color": "red",
            "pattern": {
             "shape": ""
            }
           },
           "name": "biased",
           "offsetgroup": "biased",
           "orientation": "v",
           "showlegend": true,
           "textposition": "auto",
           "type": "bar",
           "x": [
            "biased"
           ],
           "xaxis": "x",
           "y": [
            24
           ],
           "yaxis": "y"
          },
          {
           "alignmentgroup": "True",
           "hovertemplate": "Bias=%{x}<br>time=10500<br>Count=%{y}<extra></extra>",
           "legendgroup": "unbiased",
           "marker": {
            "color": "green",
            "pattern": {
             "shape": ""
            }
           },
           "name": "unbiased",
           "offsetgroup": "unbiased",
           "orientation": "v",
           "showlegend": true,
           "textposition": "auto",
           "type": "bar",
           "x": [
            "unbiased"
           ],
           "xaxis": "x",
           "y": [
            35
           ],
           "yaxis": "y"
          }
         ],
         "name": "10500"
        },
        {
         "data": [
          {
           "alignmentgroup": "True",
           "hovertemplate": "Bias=%{x}<br>time=10800<br>Count=%{y}<extra></extra>",
           "legendgroup": "biased",
           "marker": {
            "color": "red",
            "pattern": {
             "shape": ""
            }
           },
           "name": "biased",
           "offsetgroup": "biased",
           "orientation": "v",
           "showlegend": true,
           "textposition": "auto",
           "type": "bar",
           "x": [
            "biased"
           ],
           "xaxis": "x",
           "y": [
            21
           ],
           "yaxis": "y"
          },
          {
           "alignmentgroup": "True",
           "hovertemplate": "Bias=%{x}<br>time=10800<br>Count=%{y}<extra></extra>",
           "legendgroup": "unbiased",
           "marker": {
            "color": "green",
            "pattern": {
             "shape": ""
            }
           },
           "name": "unbiased",
           "offsetgroup": "unbiased",
           "orientation": "v",
           "showlegend": true,
           "textposition": "auto",
           "type": "bar",
           "x": [
            "unbiased"
           ],
           "xaxis": "x",
           "y": [
            43
           ],
           "yaxis": "y"
          }
         ],
         "name": "10800"
        },
        {
         "data": [
          {
           "alignmentgroup": "True",
           "hovertemplate": "Bias=%{x}<br>time=11100<br>Count=%{y}<extra></extra>",
           "legendgroup": "biased",
           "marker": {
            "color": "red",
            "pattern": {
             "shape": ""
            }
           },
           "name": "biased",
           "offsetgroup": "biased",
           "orientation": "v",
           "showlegend": true,
           "textposition": "auto",
           "type": "bar",
           "x": [
            "biased"
           ],
           "xaxis": "x",
           "y": [
            27
           ],
           "yaxis": "y"
          },
          {
           "alignmentgroup": "True",
           "hovertemplate": "Bias=%{x}<br>time=11100<br>Count=%{y}<extra></extra>",
           "legendgroup": "unbiased",
           "marker": {
            "color": "green",
            "pattern": {
             "shape": ""
            }
           },
           "name": "unbiased",
           "offsetgroup": "unbiased",
           "orientation": "v",
           "showlegend": true,
           "textposition": "auto",
           "type": "bar",
           "x": [
            "unbiased"
           ],
           "xaxis": "x",
           "y": [
            54
           ],
           "yaxis": "y"
          }
         ],
         "name": "11100"
        },
        {
         "data": [
          {
           "alignmentgroup": "True",
           "hovertemplate": "Bias=%{x}<br>time=11400<br>Count=%{y}<extra></extra>",
           "legendgroup": "biased",
           "marker": {
            "color": "red",
            "pattern": {
             "shape": ""
            }
           },
           "name": "biased",
           "offsetgroup": "biased",
           "orientation": "v",
           "showlegend": true,
           "textposition": "auto",
           "type": "bar",
           "x": [
            "biased"
           ],
           "xaxis": "x",
           "y": [
            33
           ],
           "yaxis": "y"
          },
          {
           "alignmentgroup": "True",
           "hovertemplate": "Bias=%{x}<br>time=11400<br>Count=%{y}<extra></extra>",
           "legendgroup": "unbiased",
           "marker": {
            "color": "green",
            "pattern": {
             "shape": ""
            }
           },
           "name": "unbiased",
           "offsetgroup": "unbiased",
           "orientation": "v",
           "showlegend": true,
           "textposition": "auto",
           "type": "bar",
           "x": [
            "unbiased"
           ],
           "xaxis": "x",
           "y": [
            54
           ],
           "yaxis": "y"
          }
         ],
         "name": "11400"
        },
        {
         "data": [
          {
           "alignmentgroup": "True",
           "hovertemplate": "Bias=%{x}<br>time=11700<br>Count=%{y}<extra></extra>",
           "legendgroup": "biased",
           "marker": {
            "color": "red",
            "pattern": {
             "shape": ""
            }
           },
           "name": "biased",
           "offsetgroup": "biased",
           "orientation": "v",
           "showlegend": true,
           "textposition": "auto",
           "type": "bar",
           "x": [
            "biased"
           ],
           "xaxis": "x",
           "y": [
            16
           ],
           "yaxis": "y"
          },
          {
           "alignmentgroup": "True",
           "hovertemplate": "Bias=%{x}<br>time=11700<br>Count=%{y}<extra></extra>",
           "legendgroup": "unbiased",
           "marker": {
            "color": "green",
            "pattern": {
             "shape": ""
            }
           },
           "name": "unbiased",
           "offsetgroup": "unbiased",
           "orientation": "v",
           "showlegend": true,
           "textposition": "auto",
           "type": "bar",
           "x": [
            "unbiased"
           ],
           "xaxis": "x",
           "y": [
            23
           ],
           "yaxis": "y"
          }
         ],
         "name": "11700"
        },
        {
         "data": [
          {
           "alignmentgroup": "True",
           "hovertemplate": "Bias=%{x}<br>time=12000<br>Count=%{y}<extra></extra>",
           "legendgroup": "biased",
           "marker": {
            "color": "red",
            "pattern": {
             "shape": ""
            }
           },
           "name": "biased",
           "offsetgroup": "biased",
           "orientation": "v",
           "showlegend": true,
           "textposition": "auto",
           "type": "bar",
           "x": [
            "biased"
           ],
           "xaxis": "x",
           "y": [
            27
           ],
           "yaxis": "y"
          },
          {
           "alignmentgroup": "True",
           "hovertemplate": "Bias=%{x}<br>time=12000<br>Count=%{y}<extra></extra>",
           "legendgroup": "unbiased",
           "marker": {
            "color": "green",
            "pattern": {
             "shape": ""
            }
           },
           "name": "unbiased",
           "offsetgroup": "unbiased",
           "orientation": "v",
           "showlegend": true,
           "textposition": "auto",
           "type": "bar",
           "x": [
            "unbiased"
           ],
           "xaxis": "x",
           "y": [
            32
           ],
           "yaxis": "y"
          }
         ],
         "name": "12000"
        },
        {
         "data": [
          {
           "alignmentgroup": "True",
           "hovertemplate": "Bias=%{x}<br>time=12300<br>Count=%{y}<extra></extra>",
           "legendgroup": "biased",
           "marker": {
            "color": "red",
            "pattern": {
             "shape": ""
            }
           },
           "name": "biased",
           "offsetgroup": "biased",
           "orientation": "v",
           "showlegend": true,
           "textposition": "auto",
           "type": "bar",
           "x": [
            "biased"
           ],
           "xaxis": "x",
           "y": [
            20
           ],
           "yaxis": "y"
          },
          {
           "alignmentgroup": "True",
           "hovertemplate": "Bias=%{x}<br>time=12300<br>Count=%{y}<extra></extra>",
           "legendgroup": "unbiased",
           "marker": {
            "color": "green",
            "pattern": {
             "shape": ""
            }
           },
           "name": "unbiased",
           "offsetgroup": "unbiased",
           "orientation": "v",
           "showlegend": true,
           "textposition": "auto",
           "type": "bar",
           "x": [
            "unbiased"
           ],
           "xaxis": "x",
           "y": [
            19
           ],
           "yaxis": "y"
          }
         ],
         "name": "12300"
        },
        {
         "data": [
          {
           "alignmentgroup": "True",
           "hovertemplate": "Bias=%{x}<br>time=12600<br>Count=%{y}<extra></extra>",
           "legendgroup": "biased",
           "marker": {
            "color": "red",
            "pattern": {
             "shape": ""
            }
           },
           "name": "biased",
           "offsetgroup": "biased",
           "orientation": "v",
           "showlegend": true,
           "textposition": "auto",
           "type": "bar",
           "x": [
            "biased"
           ],
           "xaxis": "x",
           "y": [
            33
           ],
           "yaxis": "y"
          },
          {
           "alignmentgroup": "True",
           "hovertemplate": "Bias=%{x}<br>time=12600<br>Count=%{y}<extra></extra>",
           "legendgroup": "unbiased",
           "marker": {
            "color": "green",
            "pattern": {
             "shape": ""
            }
           },
           "name": "unbiased",
           "offsetgroup": "unbiased",
           "orientation": "v",
           "showlegend": true,
           "textposition": "auto",
           "type": "bar",
           "x": [
            "unbiased"
           ],
           "xaxis": "x",
           "y": [
            33
           ],
           "yaxis": "y"
          }
         ],
         "name": "12600"
        },
        {
         "data": [
          {
           "alignmentgroup": "True",
           "hovertemplate": "Bias=%{x}<br>time=12900<br>Count=%{y}<extra></extra>",
           "legendgroup": "biased",
           "marker": {
            "color": "red",
            "pattern": {
             "shape": ""
            }
           },
           "name": "biased",
           "offsetgroup": "biased",
           "orientation": "v",
           "showlegend": true,
           "textposition": "auto",
           "type": "bar",
           "x": [
            "biased"
           ],
           "xaxis": "x",
           "y": [
            25
           ],
           "yaxis": "y"
          },
          {
           "alignmentgroup": "True",
           "hovertemplate": "Bias=%{x}<br>time=12900<br>Count=%{y}<extra></extra>",
           "legendgroup": "unbiased",
           "marker": {
            "color": "green",
            "pattern": {
             "shape": ""
            }
           },
           "name": "unbiased",
           "offsetgroup": "unbiased",
           "orientation": "v",
           "showlegend": true,
           "textposition": "auto",
           "type": "bar",
           "x": [
            "unbiased"
           ],
           "xaxis": "x",
           "y": [
            19
           ],
           "yaxis": "y"
          }
         ],
         "name": "12900"
        },
        {
         "data": [
          {
           "alignmentgroup": "True",
           "hovertemplate": "Bias=%{x}<br>time=13200<br>Count=%{y}<extra></extra>",
           "legendgroup": "biased",
           "marker": {
            "color": "red",
            "pattern": {
             "shape": ""
            }
           },
           "name": "biased",
           "offsetgroup": "biased",
           "orientation": "v",
           "showlegend": true,
           "textposition": "auto",
           "type": "bar",
           "x": [
            "biased"
           ],
           "xaxis": "x",
           "y": [
            3
           ],
           "yaxis": "y"
          },
          {
           "alignmentgroup": "True",
           "hovertemplate": "Bias=%{x}<br>time=13200<br>Count=%{y}<extra></extra>",
           "legendgroup": "unbiased",
           "marker": {
            "color": "green",
            "pattern": {
             "shape": ""
            }
           },
           "name": "unbiased",
           "offsetgroup": "unbiased",
           "orientation": "v",
           "showlegend": true,
           "textposition": "auto",
           "type": "bar",
           "x": [
            "unbiased"
           ],
           "xaxis": "x",
           "y": [
            5
           ],
           "yaxis": "y"
          }
         ],
         "name": "13200"
        },
        {
         "data": [
          {
           "alignmentgroup": "True",
           "hovertemplate": "Bias=%{x}<br>time=13500<br>Count=%{y}<extra></extra>",
           "legendgroup": "biased",
           "marker": {
            "color": "red",
            "pattern": {
             "shape": ""
            }
           },
           "name": "biased",
           "offsetgroup": "biased",
           "orientation": "v",
           "showlegend": true,
           "textposition": "auto",
           "type": "bar",
           "x": [
            "biased"
           ],
           "xaxis": "x",
           "y": [
            10
           ],
           "yaxis": "y"
          },
          {
           "alignmentgroup": "True",
           "hovertemplate": "Bias=%{x}<br>time=13500<br>Count=%{y}<extra></extra>",
           "legendgroup": "unbiased",
           "marker": {
            "color": "green",
            "pattern": {
             "shape": ""
            }
           },
           "name": "unbiased",
           "offsetgroup": "unbiased",
           "orientation": "v",
           "showlegend": true,
           "textposition": "auto",
           "type": "bar",
           "x": [
            "unbiased"
           ],
           "xaxis": "x",
           "y": [
            20
           ],
           "yaxis": "y"
          }
         ],
         "name": "13500"
        },
        {
         "data": [
          {
           "alignmentgroup": "True",
           "hovertemplate": "Bias=%{x}<br>time=13800<br>Count=%{y}<extra></extra>",
           "legendgroup": "biased",
           "marker": {
            "color": "red",
            "pattern": {
             "shape": ""
            }
           },
           "name": "biased",
           "offsetgroup": "biased",
           "orientation": "v",
           "showlegend": true,
           "textposition": "auto",
           "type": "bar",
           "x": [
            "biased"
           ],
           "xaxis": "x",
           "y": [
            11
           ],
           "yaxis": "y"
          },
          {
           "alignmentgroup": "True",
           "hovertemplate": "Bias=%{x}<br>time=13800<br>Count=%{y}<extra></extra>",
           "legendgroup": "unbiased",
           "marker": {
            "color": "green",
            "pattern": {
             "shape": ""
            }
           },
           "name": "unbiased",
           "offsetgroup": "unbiased",
           "orientation": "v",
           "showlegend": true,
           "textposition": "auto",
           "type": "bar",
           "x": [
            "unbiased"
           ],
           "xaxis": "x",
           "y": [
            19
           ],
           "yaxis": "y"
          }
         ],
         "name": "13800"
        },
        {
         "data": [
          {
           "alignmentgroup": "True",
           "hovertemplate": "Bias=%{x}<br>time=14100<br>Count=%{y}<extra></extra>",
           "legendgroup": "biased",
           "marker": {
            "color": "red",
            "pattern": {
             "shape": ""
            }
           },
           "name": "biased",
           "offsetgroup": "biased",
           "orientation": "v",
           "showlegend": true,
           "textposition": "auto",
           "type": "bar",
           "x": [
            "biased"
           ],
           "xaxis": "x",
           "y": [
            2
           ],
           "yaxis": "y"
          },
          {
           "alignmentgroup": "True",
           "hovertemplate": "Bias=%{x}<br>time=14100<br>Count=%{y}<extra></extra>",
           "legendgroup": "unbiased",
           "marker": {
            "color": "green",
            "pattern": {
             "shape": ""
            }
           },
           "name": "unbiased",
           "offsetgroup": "unbiased",
           "orientation": "v",
           "showlegend": true,
           "textposition": "auto",
           "type": "bar",
           "x": [
            "unbiased"
           ],
           "xaxis": "x",
           "y": [
            3
           ],
           "yaxis": "y"
          }
         ],
         "name": "14100"
        },
        {
         "data": [
          {
           "alignmentgroup": "True",
           "hovertemplate": "Bias=%{x}<br>time=14400<br>Count=%{y}<extra></extra>",
           "legendgroup": "biased",
           "marker": {
            "color": "red",
            "pattern": {
             "shape": ""
            }
           },
           "name": "biased",
           "offsetgroup": "biased",
           "orientation": "v",
           "showlegend": true,
           "textposition": "auto",
           "type": "bar",
           "x": [
            "biased"
           ],
           "xaxis": "x",
           "y": [
            16
           ],
           "yaxis": "y"
          },
          {
           "alignmentgroup": "True",
           "hovertemplate": "Bias=%{x}<br>time=14400<br>Count=%{y}<extra></extra>",
           "legendgroup": "unbiased",
           "marker": {
            "color": "green",
            "pattern": {
             "shape": ""
            }
           },
           "name": "unbiased",
           "offsetgroup": "unbiased",
           "orientation": "v",
           "showlegend": true,
           "textposition": "auto",
           "type": "bar",
           "x": [
            "unbiased"
           ],
           "xaxis": "x",
           "y": [
            17
           ],
           "yaxis": "y"
          }
         ],
         "name": "14400"
        },
        {
         "data": [
          {
           "alignmentgroup": "True",
           "hovertemplate": "Bias=%{x}<br>time=14700<br>Count=%{y}<extra></extra>",
           "legendgroup": "biased",
           "marker": {
            "color": "red",
            "pattern": {
             "shape": ""
            }
           },
           "name": "biased",
           "offsetgroup": "biased",
           "orientation": "v",
           "showlegend": true,
           "textposition": "auto",
           "type": "bar",
           "x": [
            "biased"
           ],
           "xaxis": "x",
           "y": [
            1
           ],
           "yaxis": "y"
          },
          {
           "alignmentgroup": "True",
           "hovertemplate": "Bias=%{x}<br>time=14700<br>Count=%{y}<extra></extra>",
           "legendgroup": "unbiased",
           "marker": {
            "color": "green",
            "pattern": {
             "shape": ""
            }
           },
           "name": "unbiased",
           "offsetgroup": "unbiased",
           "orientation": "v",
           "showlegend": true,
           "textposition": "auto",
           "type": "bar",
           "x": [
            "unbiased"
           ],
           "xaxis": "x",
           "y": [
            4
           ],
           "yaxis": "y"
          }
         ],
         "name": "14700"
        },
        {
         "data": [
          {
           "alignmentgroup": "True",
           "hovertemplate": "Bias=%{x}<br>time=15000<br>Count=%{y}<extra></extra>",
           "legendgroup": "biased",
           "marker": {
            "color": "red",
            "pattern": {
             "shape": ""
            }
           },
           "name": "biased",
           "offsetgroup": "biased",
           "orientation": "v",
           "showlegend": true,
           "textposition": "auto",
           "type": "bar",
           "x": [
            "biased"
           ],
           "xaxis": "x",
           "y": [
            5
           ],
           "yaxis": "y"
          },
          {
           "alignmentgroup": "True",
           "hovertemplate": "Bias=%{x}<br>time=15000<br>Count=%{y}<extra></extra>",
           "legendgroup": "unbiased",
           "marker": {
            "color": "green",
            "pattern": {
             "shape": ""
            }
           },
           "name": "unbiased",
           "offsetgroup": "unbiased",
           "orientation": "v",
           "showlegend": true,
           "textposition": "auto",
           "type": "bar",
           "x": [
            "unbiased"
           ],
           "xaxis": "x",
           "y": [
            11
           ],
           "yaxis": "y"
          }
         ],
         "name": "15000"
        },
        {
         "data": [
          {
           "alignmentgroup": "True",
           "hovertemplate": "Bias=%{x}<br>time=15300<br>Count=%{y}<extra></extra>",
           "legendgroup": "biased",
           "marker": {
            "color": "red",
            "pattern": {
             "shape": ""
            }
           },
           "name": "biased",
           "offsetgroup": "biased",
           "orientation": "v",
           "showlegend": true,
           "textposition": "auto",
           "type": "bar",
           "x": [
            "biased"
           ],
           "xaxis": "x",
           "y": [
            16
           ],
           "yaxis": "y"
          },
          {
           "alignmentgroup": "True",
           "hovertemplate": "Bias=%{x}<br>time=15300<br>Count=%{y}<extra></extra>",
           "legendgroup": "unbiased",
           "marker": {
            "color": "green",
            "pattern": {
             "shape": ""
            }
           },
           "name": "unbiased",
           "offsetgroup": "unbiased",
           "orientation": "v",
           "showlegend": true,
           "textposition": "auto",
           "type": "bar",
           "x": [
            "unbiased"
           ],
           "xaxis": "x",
           "y": [
            18
           ],
           "yaxis": "y"
          }
         ],
         "name": "15300"
        },
        {
         "data": [
          {
           "alignmentgroup": "True",
           "hovertemplate": "Bias=%{x}<br>time=15600<br>Count=%{y}<extra></extra>",
           "legendgroup": "biased",
           "marker": {
            "color": "red",
            "pattern": {
             "shape": ""
            }
           },
           "name": "biased",
           "offsetgroup": "biased",
           "orientation": "v",
           "showlegend": true,
           "textposition": "auto",
           "type": "bar",
           "x": [
            "biased"
           ],
           "xaxis": "x",
           "y": [
            31
           ],
           "yaxis": "y"
          },
          {
           "alignmentgroup": "True",
           "hovertemplate": "Bias=%{x}<br>time=15600<br>Count=%{y}<extra></extra>",
           "legendgroup": "unbiased",
           "marker": {
            "color": "green",
            "pattern": {
             "shape": ""
            }
           },
           "name": "unbiased",
           "offsetgroup": "unbiased",
           "orientation": "v",
           "showlegend": true,
           "textposition": "auto",
           "type": "bar",
           "x": [
            "unbiased"
           ],
           "xaxis": "x",
           "y": [
            38
           ],
           "yaxis": "y"
          }
         ],
         "name": "15600"
        },
        {
         "data": [
          {
           "alignmentgroup": "True",
           "hovertemplate": "Bias=%{x}<br>time=15900<br>Count=%{y}<extra></extra>",
           "legendgroup": "biased",
           "marker": {
            "color": "red",
            "pattern": {
             "shape": ""
            }
           },
           "name": "biased",
           "offsetgroup": "biased",
           "orientation": "v",
           "showlegend": true,
           "textposition": "auto",
           "type": "bar",
           "x": [
            "biased"
           ],
           "xaxis": "x",
           "y": [
            14
           ],
           "yaxis": "y"
          },
          {
           "alignmentgroup": "True",
           "hovertemplate": "Bias=%{x}<br>time=15900<br>Count=%{y}<extra></extra>",
           "legendgroup": "unbiased",
           "marker": {
            "color": "green",
            "pattern": {
             "shape": ""
            }
           },
           "name": "unbiased",
           "offsetgroup": "unbiased",
           "orientation": "v",
           "showlegend": true,
           "textposition": "auto",
           "type": "bar",
           "x": [
            "unbiased"
           ],
           "xaxis": "x",
           "y": [
            21
           ],
           "yaxis": "y"
          }
         ],
         "name": "15900"
        },
        {
         "data": [
          {
           "alignmentgroup": "True",
           "hovertemplate": "Bias=%{x}<br>time=16200<br>Count=%{y}<extra></extra>",
           "legendgroup": "biased",
           "marker": {
            "color": "red",
            "pattern": {
             "shape": ""
            }
           },
           "name": "biased",
           "offsetgroup": "biased",
           "orientation": "v",
           "showlegend": true,
           "textposition": "auto",
           "type": "bar",
           "x": [
            "biased"
           ],
           "xaxis": "x",
           "y": [
            8
           ],
           "yaxis": "y"
          },
          {
           "alignmentgroup": "True",
           "hovertemplate": "Bias=%{x}<br>time=16200<br>Count=%{y}<extra></extra>",
           "legendgroup": "unbiased",
           "marker": {
            "color": "green",
            "pattern": {
             "shape": ""
            }
           },
           "name": "unbiased",
           "offsetgroup": "unbiased",
           "orientation": "v",
           "showlegend": true,
           "textposition": "auto",
           "type": "bar",
           "x": [
            "unbiased"
           ],
           "xaxis": "x",
           "y": [
            15
           ],
           "yaxis": "y"
          }
         ],
         "name": "16200"
        }
       ],
       "layout": {
        "barmode": "relative",
        "legend": {
         "title": {
          "text": "Bias"
         },
         "tracegroupgap": 0
        },
        "sliders": [
         {
          "active": 0,
          "currentvalue": {
           "prefix": "time="
          },
          "len": 0.9,
          "pad": {
           "b": 10,
           "t": 60
          },
          "steps": [
           {
            "args": [
             [
              "0"
             ],
             {
              "frame": {
               "duration": 0,
               "redraw": true
              },
              "fromcurrent": true,
              "mode": "immediate",
              "transition": {
               "duration": 0,
               "easing": "linear"
              }
             }
            ],
            "label": "0",
            "method": "animate"
           },
           {
            "args": [
             [
              "300"
             ],
             {
              "frame": {
               "duration": 0,
               "redraw": true
              },
              "fromcurrent": true,
              "mode": "immediate",
              "transition": {
               "duration": 0,
               "easing": "linear"
              }
             }
            ],
            "label": "300",
            "method": "animate"
           },
           {
            "args": [
             [
              "600"
             ],
             {
              "frame": {
               "duration": 0,
               "redraw": true
              },
              "fromcurrent": true,
              "mode": "immediate",
              "transition": {
               "duration": 0,
               "easing": "linear"
              }
             }
            ],
            "label": "600",
            "method": "animate"
           },
           {
            "args": [
             [
              "900"
             ],
             {
              "frame": {
               "duration": 0,
               "redraw": true
              },
              "fromcurrent": true,
              "mode": "immediate",
              "transition": {
               "duration": 0,
               "easing": "linear"
              }
             }
            ],
            "label": "900",
            "method": "animate"
           },
           {
            "args": [
             [
              "1200"
             ],
             {
              "frame": {
               "duration": 0,
               "redraw": true
              },
              "fromcurrent": true,
              "mode": "immediate",
              "transition": {
               "duration": 0,
               "easing": "linear"
              }
             }
            ],
            "label": "1200",
            "method": "animate"
           },
           {
            "args": [
             [
              "1500"
             ],
             {
              "frame": {
               "duration": 0,
               "redraw": true
              },
              "fromcurrent": true,
              "mode": "immediate",
              "transition": {
               "duration": 0,
               "easing": "linear"
              }
             }
            ],
            "label": "1500",
            "method": "animate"
           },
           {
            "args": [
             [
              "1800"
             ],
             {
              "frame": {
               "duration": 0,
               "redraw": true
              },
              "fromcurrent": true,
              "mode": "immediate",
              "transition": {
               "duration": 0,
               "easing": "linear"
              }
             }
            ],
            "label": "1800",
            "method": "animate"
           },
           {
            "args": [
             [
              "2100"
             ],
             {
              "frame": {
               "duration": 0,
               "redraw": true
              },
              "fromcurrent": true,
              "mode": "immediate",
              "transition": {
               "duration": 0,
               "easing": "linear"
              }
             }
            ],
            "label": "2100",
            "method": "animate"
           },
           {
            "args": [
             [
              "2400"
             ],
             {
              "frame": {
               "duration": 0,
               "redraw": true
              },
              "fromcurrent": true,
              "mode": "immediate",
              "transition": {
               "duration": 0,
               "easing": "linear"
              }
             }
            ],
            "label": "2400",
            "method": "animate"
           },
           {
            "args": [
             [
              "2700"
             ],
             {
              "frame": {
               "duration": 0,
               "redraw": true
              },
              "fromcurrent": true,
              "mode": "immediate",
              "transition": {
               "duration": 0,
               "easing": "linear"
              }
             }
            ],
            "label": "2700",
            "method": "animate"
           },
           {
            "args": [
             [
              "3000"
             ],
             {
              "frame": {
               "duration": 0,
               "redraw": true
              },
              "fromcurrent": true,
              "mode": "immediate",
              "transition": {
               "duration": 0,
               "easing": "linear"
              }
             }
            ],
            "label": "3000",
            "method": "animate"
           },
           {
            "args": [
             [
              "3300"
             ],
             {
              "frame": {
               "duration": 0,
               "redraw": true
              },
              "fromcurrent": true,
              "mode": "immediate",
              "transition": {
               "duration": 0,
               "easing": "linear"
              }
             }
            ],
            "label": "3300",
            "method": "animate"
           },
           {
            "args": [
             [
              "3600"
             ],
             {
              "frame": {
               "duration": 0,
               "redraw": true
              },
              "fromcurrent": true,
              "mode": "immediate",
              "transition": {
               "duration": 0,
               "easing": "linear"
              }
             }
            ],
            "label": "3600",
            "method": "animate"
           },
           {
            "args": [
             [
              "3900"
             ],
             {
              "frame": {
               "duration": 0,
               "redraw": true
              },
              "fromcurrent": true,
              "mode": "immediate",
              "transition": {
               "duration": 0,
               "easing": "linear"
              }
             }
            ],
            "label": "3900",
            "method": "animate"
           },
           {
            "args": [
             [
              "4200"
             ],
             {
              "frame": {
               "duration": 0,
               "redraw": true
              },
              "fromcurrent": true,
              "mode": "immediate",
              "transition": {
               "duration": 0,
               "easing": "linear"
              }
             }
            ],
            "label": "4200",
            "method": "animate"
           },
           {
            "args": [
             [
              "4500"
             ],
             {
              "frame": {
               "duration": 0,
               "redraw": true
              },
              "fromcurrent": true,
              "mode": "immediate",
              "transition": {
               "duration": 0,
               "easing": "linear"
              }
             }
            ],
            "label": "4500",
            "method": "animate"
           },
           {
            "args": [
             [
              "4800"
             ],
             {
              "frame": {
               "duration": 0,
               "redraw": true
              },
              "fromcurrent": true,
              "mode": "immediate",
              "transition": {
               "duration": 0,
               "easing": "linear"
              }
             }
            ],
            "label": "4800",
            "method": "animate"
           },
           {
            "args": [
             [
              "5100"
             ],
             {
              "frame": {
               "duration": 0,
               "redraw": true
              },
              "fromcurrent": true,
              "mode": "immediate",
              "transition": {
               "duration": 0,
               "easing": "linear"
              }
             }
            ],
            "label": "5100",
            "method": "animate"
           },
           {
            "args": [
             [
              "5400"
             ],
             {
              "frame": {
               "duration": 0,
               "redraw": true
              },
              "fromcurrent": true,
              "mode": "immediate",
              "transition": {
               "duration": 0,
               "easing": "linear"
              }
             }
            ],
            "label": "5400",
            "method": "animate"
           },
           {
            "args": [
             [
              "5700"
             ],
             {
              "frame": {
               "duration": 0,
               "redraw": true
              },
              "fromcurrent": true,
              "mode": "immediate",
              "transition": {
               "duration": 0,
               "easing": "linear"
              }
             }
            ],
            "label": "5700",
            "method": "animate"
           },
           {
            "args": [
             [
              "6000"
             ],
             {
              "frame": {
               "duration": 0,
               "redraw": true
              },
              "fromcurrent": true,
              "mode": "immediate",
              "transition": {
               "duration": 0,
               "easing": "linear"
              }
             }
            ],
            "label": "6000",
            "method": "animate"
           },
           {
            "args": [
             [
              "6300"
             ],
             {
              "frame": {
               "duration": 0,
               "redraw": true
              },
              "fromcurrent": true,
              "mode": "immediate",
              "transition": {
               "duration": 0,
               "easing": "linear"
              }
             }
            ],
            "label": "6300",
            "method": "animate"
           },
           {
            "args": [
             [
              "6600"
             ],
             {
              "frame": {
               "duration": 0,
               "redraw": true
              },
              "fromcurrent": true,
              "mode": "immediate",
              "transition": {
               "duration": 0,
               "easing": "linear"
              }
             }
            ],
            "label": "6600",
            "method": "animate"
           },
           {
            "args": [
             [
              "6900"
             ],
             {
              "frame": {
               "duration": 0,
               "redraw": true
              },
              "fromcurrent": true,
              "mode": "immediate",
              "transition": {
               "duration": 0,
               "easing": "linear"
              }
             }
            ],
            "label": "6900",
            "method": "animate"
           },
           {
            "args": [
             [
              "7200"
             ],
             {
              "frame": {
               "duration": 0,
               "redraw": true
              },
              "fromcurrent": true,
              "mode": "immediate",
              "transition": {
               "duration": 0,
               "easing": "linear"
              }
             }
            ],
            "label": "7200",
            "method": "animate"
           },
           {
            "args": [
             [
              "7500"
             ],
             {
              "frame": {
               "duration": 0,
               "redraw": true
              },
              "fromcurrent": true,
              "mode": "immediate",
              "transition": {
               "duration": 0,
               "easing": "linear"
              }
             }
            ],
            "label": "7500",
            "method": "animate"
           },
           {
            "args": [
             [
              "7800"
             ],
             {
              "frame": {
               "duration": 0,
               "redraw": true
              },
              "fromcurrent": true,
              "mode": "immediate",
              "transition": {
               "duration": 0,
               "easing": "linear"
              }
             }
            ],
            "label": "7800",
            "method": "animate"
           },
           {
            "args": [
             [
              "8100"
             ],
             {
              "frame": {
               "duration": 0,
               "redraw": true
              },
              "fromcurrent": true,
              "mode": "immediate",
              "transition": {
               "duration": 0,
               "easing": "linear"
              }
             }
            ],
            "label": "8100",
            "method": "animate"
           },
           {
            "args": [
             [
              "8400"
             ],
             {
              "frame": {
               "duration": 0,
               "redraw": true
              },
              "fromcurrent": true,
              "mode": "immediate",
              "transition": {
               "duration": 0,
               "easing": "linear"
              }
             }
            ],
            "label": "8400",
            "method": "animate"
           },
           {
            "args": [
             [
              "8700"
             ],
             {
              "frame": {
               "duration": 0,
               "redraw": true
              },
              "fromcurrent": true,
              "mode": "immediate",
              "transition": {
               "duration": 0,
               "easing": "linear"
              }
             }
            ],
            "label": "8700",
            "method": "animate"
           },
           {
            "args": [
             [
              "9000"
             ],
             {
              "frame": {
               "duration": 0,
               "redraw": true
              },
              "fromcurrent": true,
              "mode": "immediate",
              "transition": {
               "duration": 0,
               "easing": "linear"
              }
             }
            ],
            "label": "9000",
            "method": "animate"
           },
           {
            "args": [
             [
              "9300"
             ],
             {
              "frame": {
               "duration": 0,
               "redraw": true
              },
              "fromcurrent": true,
              "mode": "immediate",
              "transition": {
               "duration": 0,
               "easing": "linear"
              }
             }
            ],
            "label": "9300",
            "method": "animate"
           },
           {
            "args": [
             [
              "9600"
             ],
             {
              "frame": {
               "duration": 0,
               "redraw": true
              },
              "fromcurrent": true,
              "mode": "immediate",
              "transition": {
               "duration": 0,
               "easing": "linear"
              }
             }
            ],
            "label": "9600",
            "method": "animate"
           },
           {
            "args": [
             [
              "9900"
             ],
             {
              "frame": {
               "duration": 0,
               "redraw": true
              },
              "fromcurrent": true,
              "mode": "immediate",
              "transition": {
               "duration": 0,
               "easing": "linear"
              }
             }
            ],
            "label": "9900",
            "method": "animate"
           },
           {
            "args": [
             [
              "10200"
             ],
             {
              "frame": {
               "duration": 0,
               "redraw": true
              },
              "fromcurrent": true,
              "mode": "immediate",
              "transition": {
               "duration": 0,
               "easing": "linear"
              }
             }
            ],
            "label": "10200",
            "method": "animate"
           },
           {
            "args": [
             [
              "10500"
             ],
             {
              "frame": {
               "duration": 0,
               "redraw": true
              },
              "fromcurrent": true,
              "mode": "immediate",
              "transition": {
               "duration": 0,
               "easing": "linear"
              }
             }
            ],
            "label": "10500",
            "method": "animate"
           },
           {
            "args": [
             [
              "10800"
             ],
             {
              "frame": {
               "duration": 0,
               "redraw": true
              },
              "fromcurrent": true,
              "mode": "immediate",
              "transition": {
               "duration": 0,
               "easing": "linear"
              }
             }
            ],
            "label": "10800",
            "method": "animate"
           },
           {
            "args": [
             [
              "11100"
             ],
             {
              "frame": {
               "duration": 0,
               "redraw": true
              },
              "fromcurrent": true,
              "mode": "immediate",
              "transition": {
               "duration": 0,
               "easing": "linear"
              }
             }
            ],
            "label": "11100",
            "method": "animate"
           },
           {
            "args": [
             [
              "11400"
             ],
             {
              "frame": {
               "duration": 0,
               "redraw": true
              },
              "fromcurrent": true,
              "mode": "immediate",
              "transition": {
               "duration": 0,
               "easing": "linear"
              }
             }
            ],
            "label": "11400",
            "method": "animate"
           },
           {
            "args": [
             [
              "11700"
             ],
             {
              "frame": {
               "duration": 0,
               "redraw": true
              },
              "fromcurrent": true,
              "mode": "immediate",
              "transition": {
               "duration": 0,
               "easing": "linear"
              }
             }
            ],
            "label": "11700",
            "method": "animate"
           },
           {
            "args": [
             [
              "12000"
             ],
             {
              "frame": {
               "duration": 0,
               "redraw": true
              },
              "fromcurrent": true,
              "mode": "immediate",
              "transition": {
               "duration": 0,
               "easing": "linear"
              }
             }
            ],
            "label": "12000",
            "method": "animate"
           },
           {
            "args": [
             [
              "12300"
             ],
             {
              "frame": {
               "duration": 0,
               "redraw": true
              },
              "fromcurrent": true,
              "mode": "immediate",
              "transition": {
               "duration": 0,
               "easing": "linear"
              }
             }
            ],
            "label": "12300",
            "method": "animate"
           },
           {
            "args": [
             [
              "12600"
             ],
             {
              "frame": {
               "duration": 0,
               "redraw": true
              },
              "fromcurrent": true,
              "mode": "immediate",
              "transition": {
               "duration": 0,
               "easing": "linear"
              }
             }
            ],
            "label": "12600",
            "method": "animate"
           },
           {
            "args": [
             [
              "12900"
             ],
             {
              "frame": {
               "duration": 0,
               "redraw": true
              },
              "fromcurrent": true,
              "mode": "immediate",
              "transition": {
               "duration": 0,
               "easing": "linear"
              }
             }
            ],
            "label": "12900",
            "method": "animate"
           },
           {
            "args": [
             [
              "13200"
             ],
             {
              "frame": {
               "duration": 0,
               "redraw": true
              },
              "fromcurrent": true,
              "mode": "immediate",
              "transition": {
               "duration": 0,
               "easing": "linear"
              }
             }
            ],
            "label": "13200",
            "method": "animate"
           },
           {
            "args": [
             [
              "13500"
             ],
             {
              "frame": {
               "duration": 0,
               "redraw": true
              },
              "fromcurrent": true,
              "mode": "immediate",
              "transition": {
               "duration": 0,
               "easing": "linear"
              }
             }
            ],
            "label": "13500",
            "method": "animate"
           },
           {
            "args": [
             [
              "13800"
             ],
             {
              "frame": {
               "duration": 0,
               "redraw": true
              },
              "fromcurrent": true,
              "mode": "immediate",
              "transition": {
               "duration": 0,
               "easing": "linear"
              }
             }
            ],
            "label": "13800",
            "method": "animate"
           },
           {
            "args": [
             [
              "14100"
             ],
             {
              "frame": {
               "duration": 0,
               "redraw": true
              },
              "fromcurrent": true,
              "mode": "immediate",
              "transition": {
               "duration": 0,
               "easing": "linear"
              }
             }
            ],
            "label": "14100",
            "method": "animate"
           },
           {
            "args": [
             [
              "14400"
             ],
             {
              "frame": {
               "duration": 0,
               "redraw": true
              },
              "fromcurrent": true,
              "mode": "immediate",
              "transition": {
               "duration": 0,
               "easing": "linear"
              }
             }
            ],
            "label": "14400",
            "method": "animate"
           },
           {
            "args": [
             [
              "14700"
             ],
             {
              "frame": {
               "duration": 0,
               "redraw": true
              },
              "fromcurrent": true,
              "mode": "immediate",
              "transition": {
               "duration": 0,
               "easing": "linear"
              }
             }
            ],
            "label": "14700",
            "method": "animate"
           },
           {
            "args": [
             [
              "15000"
             ],
             {
              "frame": {
               "duration": 0,
               "redraw": true
              },
              "fromcurrent": true,
              "mode": "immediate",
              "transition": {
               "duration": 0,
               "easing": "linear"
              }
             }
            ],
            "label": "15000",
            "method": "animate"
           },
           {
            "args": [
             [
              "15300"
             ],
             {
              "frame": {
               "duration": 0,
               "redraw": true
              },
              "fromcurrent": true,
              "mode": "immediate",
              "transition": {
               "duration": 0,
               "easing": "linear"
              }
             }
            ],
            "label": "15300",
            "method": "animate"
           },
           {
            "args": [
             [
              "15600"
             ],
             {
              "frame": {
               "duration": 0,
               "redraw": true
              },
              "fromcurrent": true,
              "mode": "immediate",
              "transition": {
               "duration": 0,
               "easing": "linear"
              }
             }
            ],
            "label": "15600",
            "method": "animate"
           },
           {
            "args": [
             [
              "15900"
             ],
             {
              "frame": {
               "duration": 0,
               "redraw": true
              },
              "fromcurrent": true,
              "mode": "immediate",
              "transition": {
               "duration": 0,
               "easing": "linear"
              }
             }
            ],
            "label": "15900",
            "method": "animate"
           },
           {
            "args": [
             [
              "16200"
             ],
             {
              "frame": {
               "duration": 0,
               "redraw": true
              },
              "fromcurrent": true,
              "mode": "immediate",
              "transition": {
               "duration": 0,
               "easing": "linear"
              }
             }
            ],
            "label": "16200",
            "method": "animate"
           }
          ],
          "x": 0.1,
          "xanchor": "left",
          "y": 0,
          "yanchor": "top"
         }
        ],
        "template": {
         "data": {
          "bar": [
           {
            "error_x": {
             "color": "#2a3f5f"
            },
            "error_y": {
             "color": "#2a3f5f"
            },
            "marker": {
             "line": {
              "color": "#E5ECF6",
              "width": 0.5
             },
             "pattern": {
              "fillmode": "overlay",
              "size": 10,
              "solidity": 0.2
             }
            },
            "type": "bar"
           }
          ],
          "barpolar": [
           {
            "marker": {
             "line": {
              "color": "#E5ECF6",
              "width": 0.5
             },
             "pattern": {
              "fillmode": "overlay",
              "size": 10,
              "solidity": 0.2
             }
            },
            "type": "barpolar"
           }
          ],
          "carpet": [
           {
            "aaxis": {
             "endlinecolor": "#2a3f5f",
             "gridcolor": "white",
             "linecolor": "white",
             "minorgridcolor": "white",
             "startlinecolor": "#2a3f5f"
            },
            "baxis": {
             "endlinecolor": "#2a3f5f",
             "gridcolor": "white",
             "linecolor": "white",
             "minorgridcolor": "white",
             "startlinecolor": "#2a3f5f"
            },
            "type": "carpet"
           }
          ],
          "choropleth": [
           {
            "colorbar": {
             "outlinewidth": 0,
             "ticks": ""
            },
            "type": "choropleth"
           }
          ],
          "contour": [
           {
            "colorbar": {
             "outlinewidth": 0,
             "ticks": ""
            },
            "colorscale": [
             [
              0,
              "#0d0887"
             ],
             [
              0.1111111111111111,
              "#46039f"
             ],
             [
              0.2222222222222222,
              "#7201a8"
             ],
             [
              0.3333333333333333,
              "#9c179e"
             ],
             [
              0.4444444444444444,
              "#bd3786"
             ],
             [
              0.5555555555555556,
              "#d8576b"
             ],
             [
              0.6666666666666666,
              "#ed7953"
             ],
             [
              0.7777777777777778,
              "#fb9f3a"
             ],
             [
              0.8888888888888888,
              "#fdca26"
             ],
             [
              1,
              "#f0f921"
             ]
            ],
            "type": "contour"
           }
          ],
          "contourcarpet": [
           {
            "colorbar": {
             "outlinewidth": 0,
             "ticks": ""
            },
            "type": "contourcarpet"
           }
          ],
          "heatmap": [
           {
            "colorbar": {
             "outlinewidth": 0,
             "ticks": ""
            },
            "colorscale": [
             [
              0,
              "#0d0887"
             ],
             [
              0.1111111111111111,
              "#46039f"
             ],
             [
              0.2222222222222222,
              "#7201a8"
             ],
             [
              0.3333333333333333,
              "#9c179e"
             ],
             [
              0.4444444444444444,
              "#bd3786"
             ],
             [
              0.5555555555555556,
              "#d8576b"
             ],
             [
              0.6666666666666666,
              "#ed7953"
             ],
             [
              0.7777777777777778,
              "#fb9f3a"
             ],
             [
              0.8888888888888888,
              "#fdca26"
             ],
             [
              1,
              "#f0f921"
             ]
            ],
            "type": "heatmap"
           }
          ],
          "heatmapgl": [
           {
            "colorbar": {
             "outlinewidth": 0,
             "ticks": ""
            },
            "colorscale": [
             [
              0,
              "#0d0887"
             ],
             [
              0.1111111111111111,
              "#46039f"
             ],
             [
              0.2222222222222222,
              "#7201a8"
             ],
             [
              0.3333333333333333,
              "#9c179e"
             ],
             [
              0.4444444444444444,
              "#bd3786"
             ],
             [
              0.5555555555555556,
              "#d8576b"
             ],
             [
              0.6666666666666666,
              "#ed7953"
             ],
             [
              0.7777777777777778,
              "#fb9f3a"
             ],
             [
              0.8888888888888888,
              "#fdca26"
             ],
             [
              1,
              "#f0f921"
             ]
            ],
            "type": "heatmapgl"
           }
          ],
          "histogram": [
           {
            "marker": {
             "pattern": {
              "fillmode": "overlay",
              "size": 10,
              "solidity": 0.2
             }
            },
            "type": "histogram"
           }
          ],
          "histogram2d": [
           {
            "colorbar": {
             "outlinewidth": 0,
             "ticks": ""
            },
            "colorscale": [
             [
              0,
              "#0d0887"
             ],
             [
              0.1111111111111111,
              "#46039f"
             ],
             [
              0.2222222222222222,
              "#7201a8"
             ],
             [
              0.3333333333333333,
              "#9c179e"
             ],
             [
              0.4444444444444444,
              "#bd3786"
             ],
             [
              0.5555555555555556,
              "#d8576b"
             ],
             [
              0.6666666666666666,
              "#ed7953"
             ],
             [
              0.7777777777777778,
              "#fb9f3a"
             ],
             [
              0.8888888888888888,
              "#fdca26"
             ],
             [
              1,
              "#f0f921"
             ]
            ],
            "type": "histogram2d"
           }
          ],
          "histogram2dcontour": [
           {
            "colorbar": {
             "outlinewidth": 0,
             "ticks": ""
            },
            "colorscale": [
             [
              0,
              "#0d0887"
             ],
             [
              0.1111111111111111,
              "#46039f"
             ],
             [
              0.2222222222222222,
              "#7201a8"
             ],
             [
              0.3333333333333333,
              "#9c179e"
             ],
             [
              0.4444444444444444,
              "#bd3786"
             ],
             [
              0.5555555555555556,
              "#d8576b"
             ],
             [
              0.6666666666666666,
              "#ed7953"
             ],
             [
              0.7777777777777778,
              "#fb9f3a"
             ],
             [
              0.8888888888888888,
              "#fdca26"
             ],
             [
              1,
              "#f0f921"
             ]
            ],
            "type": "histogram2dcontour"
           }
          ],
          "mesh3d": [
           {
            "colorbar": {
             "outlinewidth": 0,
             "ticks": ""
            },
            "type": "mesh3d"
           }
          ],
          "parcoords": [
           {
            "line": {
             "colorbar": {
              "outlinewidth": 0,
              "ticks": ""
             }
            },
            "type": "parcoords"
           }
          ],
          "pie": [
           {
            "automargin": true,
            "type": "pie"
           }
          ],
          "scatter": [
           {
            "fillpattern": {
             "fillmode": "overlay",
             "size": 10,
             "solidity": 0.2
            },
            "type": "scatter"
           }
          ],
          "scatter3d": [
           {
            "line": {
             "colorbar": {
              "outlinewidth": 0,
              "ticks": ""
             }
            },
            "marker": {
             "colorbar": {
              "outlinewidth": 0,
              "ticks": ""
             }
            },
            "type": "scatter3d"
           }
          ],
          "scattercarpet": [
           {
            "marker": {
             "colorbar": {
              "outlinewidth": 0,
              "ticks": ""
             }
            },
            "type": "scattercarpet"
           }
          ],
          "scattergeo": [
           {
            "marker": {
             "colorbar": {
              "outlinewidth": 0,
              "ticks": ""
             }
            },
            "type": "scattergeo"
           }
          ],
          "scattergl": [
           {
            "marker": {
             "colorbar": {
              "outlinewidth": 0,
              "ticks": ""
             }
            },
            "type": "scattergl"
           }
          ],
          "scattermapbox": [
           {
            "marker": {
             "colorbar": {
              "outlinewidth": 0,
              "ticks": ""
             }
            },
            "type": "scattermapbox"
           }
          ],
          "scatterpolar": [
           {
            "marker": {
             "colorbar": {
              "outlinewidth": 0,
              "ticks": ""
             }
            },
            "type": "scatterpolar"
           }
          ],
          "scatterpolargl": [
           {
            "marker": {
             "colorbar": {
              "outlinewidth": 0,
              "ticks": ""
             }
            },
            "type": "scatterpolargl"
           }
          ],
          "scatterternary": [
           {
            "marker": {
             "colorbar": {
              "outlinewidth": 0,
              "ticks": ""
             }
            },
            "type": "scatterternary"
           }
          ],
          "surface": [
           {
            "colorbar": {
             "outlinewidth": 0,
             "ticks": ""
            },
            "colorscale": [
             [
              0,
              "#0d0887"
             ],
             [
              0.1111111111111111,
              "#46039f"
             ],
             [
              0.2222222222222222,
              "#7201a8"
             ],
             [
              0.3333333333333333,
              "#9c179e"
             ],
             [
              0.4444444444444444,
              "#bd3786"
             ],
             [
              0.5555555555555556,
              "#d8576b"
             ],
             [
              0.6666666666666666,
              "#ed7953"
             ],
             [
              0.7777777777777778,
              "#fb9f3a"
             ],
             [
              0.8888888888888888,
              "#fdca26"
             ],
             [
              1,
              "#f0f921"
             ]
            ],
            "type": "surface"
           }
          ],
          "table": [
           {
            "cells": {
             "fill": {
              "color": "#EBF0F8"
             },
             "line": {
              "color": "white"
             }
            },
            "header": {
             "fill": {
              "color": "#C8D4E3"
             },
             "line": {
              "color": "white"
             }
            },
            "type": "table"
           }
          ]
         },
         "layout": {
          "annotationdefaults": {
           "arrowcolor": "#2a3f5f",
           "arrowhead": 0,
           "arrowwidth": 1
          },
          "autotypenumbers": "strict",
          "coloraxis": {
           "colorbar": {
            "outlinewidth": 0,
            "ticks": ""
           }
          },
          "colorscale": {
           "diverging": [
            [
             0,
             "#8e0152"
            ],
            [
             0.1,
             "#c51b7d"
            ],
            [
             0.2,
             "#de77ae"
            ],
            [
             0.3,
             "#f1b6da"
            ],
            [
             0.4,
             "#fde0ef"
            ],
            [
             0.5,
             "#f7f7f7"
            ],
            [
             0.6,
             "#e6f5d0"
            ],
            [
             0.7,
             "#b8e186"
            ],
            [
             0.8,
             "#7fbc41"
            ],
            [
             0.9,
             "#4d9221"
            ],
            [
             1,
             "#276419"
            ]
           ],
           "sequential": [
            [
             0,
             "#0d0887"
            ],
            [
             0.1111111111111111,
             "#46039f"
            ],
            [
             0.2222222222222222,
             "#7201a8"
            ],
            [
             0.3333333333333333,
             "#9c179e"
            ],
            [
             0.4444444444444444,
             "#bd3786"
            ],
            [
             0.5555555555555556,
             "#d8576b"
            ],
            [
             0.6666666666666666,
             "#ed7953"
            ],
            [
             0.7777777777777778,
             "#fb9f3a"
            ],
            [
             0.8888888888888888,
             "#fdca26"
            ],
            [
             1,
             "#f0f921"
            ]
           ],
           "sequentialminus": [
            [
             0,
             "#0d0887"
            ],
            [
             0.1111111111111111,
             "#46039f"
            ],
            [
             0.2222222222222222,
             "#7201a8"
            ],
            [
             0.3333333333333333,
             "#9c179e"
            ],
            [
             0.4444444444444444,
             "#bd3786"
            ],
            [
             0.5555555555555556,
             "#d8576b"
            ],
            [
             0.6666666666666666,
             "#ed7953"
            ],
            [
             0.7777777777777778,
             "#fb9f3a"
            ],
            [
             0.8888888888888888,
             "#fdca26"
            ],
            [
             1,
             "#f0f921"
            ]
           ]
          },
          "colorway": [
           "#636efa",
           "#EF553B",
           "#00cc96",
           "#ab63fa",
           "#FFA15A",
           "#19d3f3",
           "#FF6692",
           "#B6E880",
           "#FF97FF",
           "#FECB52"
          ],
          "font": {
           "color": "#2a3f5f"
          },
          "geo": {
           "bgcolor": "white",
           "lakecolor": "white",
           "landcolor": "#E5ECF6",
           "showlakes": true,
           "showland": true,
           "subunitcolor": "white"
          },
          "hoverlabel": {
           "align": "left"
          },
          "hovermode": "closest",
          "mapbox": {
           "style": "light"
          },
          "paper_bgcolor": "white",
          "plot_bgcolor": "#E5ECF6",
          "polar": {
           "angularaxis": {
            "gridcolor": "white",
            "linecolor": "white",
            "ticks": ""
           },
           "bgcolor": "#E5ECF6",
           "radialaxis": {
            "gridcolor": "white",
            "linecolor": "white",
            "ticks": ""
           }
          },
          "scene": {
           "xaxis": {
            "backgroundcolor": "#E5ECF6",
            "gridcolor": "white",
            "gridwidth": 2,
            "linecolor": "white",
            "showbackground": true,
            "ticks": "",
            "zerolinecolor": "white"
           },
           "yaxis": {
            "backgroundcolor": "#E5ECF6",
            "gridcolor": "white",
            "gridwidth": 2,
            "linecolor": "white",
            "showbackground": true,
            "ticks": "",
            "zerolinecolor": "white"
           },
           "zaxis": {
            "backgroundcolor": "#E5ECF6",
            "gridcolor": "white",
            "gridwidth": 2,
            "linecolor": "white",
            "showbackground": true,
            "ticks": "",
            "zerolinecolor": "white"
           }
          },
          "shapedefaults": {
           "line": {
            "color": "#2a3f5f"
           }
          },
          "ternary": {
           "aaxis": {
            "gridcolor": "white",
            "linecolor": "white",
            "ticks": ""
           },
           "baxis": {
            "gridcolor": "white",
            "linecolor": "white",
            "ticks": ""
           },
           "bgcolor": "#E5ECF6",
           "caxis": {
            "gridcolor": "white",
            "linecolor": "white",
            "ticks": ""
           }
          },
          "title": {
           "x": 0.05
          },
          "xaxis": {
           "automargin": true,
           "gridcolor": "white",
           "linecolor": "white",
           "ticks": "",
           "title": {
            "standoff": 15
           },
           "zerolinecolor": "white",
           "zerolinewidth": 2
          },
          "yaxis": {
           "automargin": true,
           "gridcolor": "white",
           "linecolor": "white",
           "ticks": "",
           "title": {
            "standoff": 15
           },
           "zerolinecolor": "white",
           "zerolinewidth": 2
          }
         }
        },
        "title": {
         "text": "Bias Counts Throughout the Evening (5 pm to 9:30 pm)"
        },
        "updatemenus": [
         {
          "buttons": [
           {
            "args": [
             null,
             {
              "frame": {
               "duration": 500,
               "redraw": true
              },
              "fromcurrent": true,
              "mode": "immediate",
              "transition": {
               "duration": 500,
               "easing": "linear"
              }
             }
            ],
            "label": "&#9654;",
            "method": "animate"
           },
           {
            "args": [
             [
              null
             ],
             {
              "frame": {
               "duration": 0,
               "redraw": true
              },
              "fromcurrent": true,
              "mode": "immediate",
              "transition": {
               "duration": 0,
               "easing": "linear"
              }
             }
            ],
            "label": "&#9724;",
            "method": "animate"
           }
          ],
          "direction": "left",
          "pad": {
           "r": 10,
           "t": 70
          },
          "showactive": false,
          "type": "buttons",
          "x": 0.1,
          "xanchor": "right",
          "y": 0,
          "yanchor": "top"
         }
        ],
        "xaxis": {
         "anchor": "y",
         "categoryarray": [
          "biased",
          "unbiased"
         ],
         "categoryorder": "array",
         "domain": [
          0,
          1
         ],
         "title": {
          "text": "Bias"
         }
        },
        "yaxis": {
         "anchor": "x",
         "domain": [
          0,
          1
         ],
         "range": [
          0,
          150
         ],
         "title": {
          "text": "Count"
         }
        }
       }
      }
     },
     "metadata": {},
     "output_type": "display_data"
    }
   ],
   "source": [
    "fig = px.bar(\n",
    "    bias_5min,\n",
    "    x='bias',\n",
    "    y='count',\n",
    "    color='bias',\n",
    "    color_discrete_sequence=['red', 'green'],\n",
    "    animation_frame='time',\n",
    "    labels={\n",
    "        'bias': 'Bias',\n",
    "        'count': 'Count'\n",
    "    },\n",
    "    title='Bias Counts Throughout the Evening (5 pm to 9:30 pm)'\n",
    ")\n",
    "fig.update_layout(yaxis_range=[0, 150])\n",
    "fig.show()"
   ]
  },
  {
   "cell_type": "code",
   "execution_count": 107,
   "metadata": {},
   "outputs": [],
   "source": [
    "import pandas as pd\n",
    "import matplotlib.pyplot as plt\n",
    "from nltk.tokenize import word_tokenize\n",
    "from nltk.probability import FreqDist\n",
    "from nltk.corpus import stopwords\n",
    "import string\n",
    "\n",
    "\n",
    "# Step 1: Tokenize Messages\n",
    "stop_words = set(stopwords.words('english') + ['rt', 'abila', 'RT', 'Abila', 'AbilaPost', 'KronosStar', 'CentralBulletin', 'hi', 'Hi', 'HomelandIlluminations', 'HI'])\n",
    "stop_words.update('rt', 'abila', 'abilapost', 'abilapost')\n",
    "df['tokens'] = df['message'].apply(lambda x: [word.lower() for word in word_tokenize(x) if word.isalpha() and word not in stop_words and word not in string.punctuation])"
   ]
  },
  {
   "cell_type": "code",
   "execution_count": 108,
   "metadata": {},
   "outputs": [
    {
     "data": {
      "text/plain": [
       "1       [do, miss, moment, follow, live, coverage, pok...\n",
       "2       [come, join, us, park, music, tonight, city, p...\n",
       "3       [pok, rally, start, city, park, pok, leader, s...\n",
       "4       [pok, rally, set, take, place, city, park, pok...\n",
       "5                   [pok, rally, park, tonight, pokrally]\n",
       "                              ...                        \n",
       "4058          [unknown, explosion, heard, dancingdolphin]\n",
       "4059      [explosion, heard, dancing, dolphin, apartment]\n",
       "4060    [there, explosion, inside, apartment, building...\n",
       "4061                               [redisrad, what, boom]\n",
       "4062      [explosion, heard, dancing, dolphin, apartment]\n",
       "Name: tokens, Length: 2528, dtype: object"
      ]
     },
     "execution_count": 108,
     "metadata": {},
     "output_type": "execute_result"
    }
   ],
   "source": [
    "df['tokens']"
   ]
  },
  {
   "cell_type": "code",
   "execution_count": 109,
   "metadata": {},
   "outputs": [],
   "source": [
    "# Group into 5 min bins and concat messages\n",
    "df_grouped = df.groupby(pd.Grouper(key='date(yyyyMMddHHmmss)', freq='5min'))['tokens'].apply(lambda x: ' '.join(' '.join(words) for words in x)).reset_index()\n",
    "\n",
    "# get word frequenceis\n",
    "df_grouped['word_frequency'] = df_grouped['tokens'].apply(lambda x: FreqDist(word_tokenize(x)))\n",
    "\n",
    "# select top 3 words\n",
    "top_words_overall = FreqDist()\n",
    "for frequency_dist in df_grouped['word_frequency']:\n",
    "    top_words_overall += frequency_dist\n",
    "\n",
    "top_n_words = [word for word, count in top_words_overall.most_common(3)]\n"
   ]
  },
  {
   "cell_type": "code",
   "execution_count": 110,
   "metadata": {},
   "outputs": [],
   "source": [
    "# create a new df for top words\n",
    "df_top_words = pd.DataFrame(index=df_grouped['date(yyyyMMddHHmmss)'], columns=top_n_words)\n",
    "\n",
    "# fill df with top words in each 5 min time bin\n",
    "for index, row in df_grouped.iterrows():\n",
    "    time_bin = row['date(yyyyMMddHHmmss)']\n",
    "    word_frequency = row['word_frequency']\n",
    "    for word in top_n_words:\n",
    "        df_top_words.at[time_bin, word] = word_frequency.get(word, 0)\n"
   ]
  },
  {
   "cell_type": "code",
   "execution_count": 111,
   "metadata": {},
   "outputs": [
    {
     "data": {
      "application/vnd.plotly.v1+json": {
       "config": {
        "plotlyServerURL": "https://plot.ly"
       },
       "data": [
        {
         "hovertemplate": "variable=fire<br>date(yyyyMMddHHmmss)=%{x}<br>Word Count=%{y}<extra></extra>",
         "legendgroup": "fire",
         "line": {
          "color": "red",
          "dash": "solid",
          "shape": "linear"
         },
         "marker": {
          "symbol": "circle"
         },
         "mode": "lines",
         "name": "fire",
         "orientation": "v",
         "showlegend": true,
         "type": "scatter",
         "x": [
          "2014-01-23T17:00:00",
          "2014-01-23T17:05:00",
          "2014-01-23T17:10:00",
          "2014-01-23T17:15:00",
          "2014-01-23T17:20:00",
          "2014-01-23T17:25:00",
          "2014-01-23T17:30:00",
          "2014-01-23T17:35:00",
          "2014-01-23T17:40:00",
          "2014-01-23T17:45:00",
          "2014-01-23T17:50:00",
          "2014-01-23T17:55:00",
          "2014-01-23T18:00:00",
          "2014-01-23T18:05:00",
          "2014-01-23T18:10:00",
          "2014-01-23T18:15:00",
          "2014-01-23T18:20:00",
          "2014-01-23T18:25:00",
          "2014-01-23T18:30:00",
          "2014-01-23T18:35:00",
          "2014-01-23T18:40:00",
          "2014-01-23T18:45:00",
          "2014-01-23T18:50:00",
          "2014-01-23T18:55:00",
          "2014-01-23T19:00:00",
          "2014-01-23T19:05:00",
          "2014-01-23T19:10:00",
          "2014-01-23T19:15:00",
          "2014-01-23T19:20:00",
          "2014-01-23T19:25:00",
          "2014-01-23T19:30:00",
          "2014-01-23T19:35:00",
          "2014-01-23T19:40:00",
          "2014-01-23T19:45:00",
          "2014-01-23T19:50:00",
          "2014-01-23T19:55:00",
          "2014-01-23T20:00:00",
          "2014-01-23T20:05:00",
          "2014-01-23T20:10:00",
          "2014-01-23T20:15:00",
          "2014-01-23T20:20:00",
          "2014-01-23T20:25:00",
          "2014-01-23T20:30:00",
          "2014-01-23T20:35:00",
          "2014-01-23T20:40:00",
          "2014-01-23T20:45:00",
          "2014-01-23T20:50:00",
          "2014-01-23T20:55:00",
          "2014-01-23T21:00:00",
          "2014-01-23T21:05:00",
          "2014-01-23T21:10:00",
          "2014-01-23T21:15:00",
          "2014-01-23T21:20:00",
          "2014-01-23T21:25:00",
          "2014-01-23T21:30:00"
         ],
         "xaxis": "x",
         "y": [
          0,
          0,
          0,
          0,
          0,
          0,
          0,
          0,
          0,
          0,
          0,
          0,
          0,
          0,
          0,
          0,
          0,
          0,
          0,
          0,
          40,
          94,
          21,
          8,
          12,
          0,
          15,
          5,
          37,
          26,
          11,
          7,
          15,
          7,
          2,
          0,
          1,
          4,
          4,
          1,
          7,
          4,
          6,
          15,
          2,
          8,
          14,
          0,
          5,
          0,
          0,
          9,
          9,
          10,
          3
         ],
         "yaxis": "y"
        },
        {
         "hovertemplate": "variable=pok<br>date(yyyyMMddHHmmss)=%{x}<br>Word Count=%{y}<extra></extra>",
         "legendgroup": "pok",
         "line": {
          "color": "black",
          "dash": "solid",
          "shape": "linear"
         },
         "marker": {
          "symbol": "circle"
         },
         "mode": "lines",
         "name": "pok",
         "orientation": "v",
         "showlegend": true,
         "type": "scatter",
         "x": [
          "2014-01-23T17:00:00",
          "2014-01-23T17:05:00",
          "2014-01-23T17:10:00",
          "2014-01-23T17:15:00",
          "2014-01-23T17:20:00",
          "2014-01-23T17:25:00",
          "2014-01-23T17:30:00",
          "2014-01-23T17:35:00",
          "2014-01-23T17:40:00",
          "2014-01-23T17:45:00",
          "2014-01-23T17:50:00",
          "2014-01-23T17:55:00",
          "2014-01-23T18:00:00",
          "2014-01-23T18:05:00",
          "2014-01-23T18:10:00",
          "2014-01-23T18:15:00",
          "2014-01-23T18:20:00",
          "2014-01-23T18:25:00",
          "2014-01-23T18:30:00",
          "2014-01-23T18:35:00",
          "2014-01-23T18:40:00",
          "2014-01-23T18:45:00",
          "2014-01-23T18:50:00",
          "2014-01-23T18:55:00",
          "2014-01-23T19:00:00",
          "2014-01-23T19:05:00",
          "2014-01-23T19:10:00",
          "2014-01-23T19:15:00",
          "2014-01-23T19:20:00",
          "2014-01-23T19:25:00",
          "2014-01-23T19:30:00",
          "2014-01-23T19:35:00",
          "2014-01-23T19:40:00",
          "2014-01-23T19:45:00",
          "2014-01-23T19:50:00",
          "2014-01-23T19:55:00",
          "2014-01-23T20:00:00",
          "2014-01-23T20:05:00",
          "2014-01-23T20:10:00",
          "2014-01-23T20:15:00",
          "2014-01-23T20:20:00",
          "2014-01-23T20:25:00",
          "2014-01-23T20:30:00",
          "2014-01-23T20:35:00",
          "2014-01-23T20:40:00",
          "2014-01-23T20:45:00",
          "2014-01-23T20:50:00",
          "2014-01-23T20:55:00",
          "2014-01-23T21:00:00",
          "2014-01-23T21:05:00",
          "2014-01-23T21:10:00",
          "2014-01-23T21:15:00",
          "2014-01-23T21:20:00",
          "2014-01-23T21:25:00",
          "2014-01-23T21:30:00"
         ],
         "xaxis": "x",
         "y": [
          30,
          11,
          35,
          10,
          14,
          32,
          15,
          5,
          6,
          6,
          3,
          2,
          3,
          1,
          3,
          2,
          0,
          0,
          3,
          8,
          6,
          7,
          1,
          0,
          6,
          11,
          11,
          11,
          1,
          0,
          0,
          2,
          14,
          6,
          7,
          4,
          2,
          4,
          7,
          7,
          5,
          3,
          7,
          0,
          0,
          1,
          4,
          1,
          0,
          0,
          0,
          0,
          6,
          1,
          0
         ],
         "yaxis": "y"
        },
        {
         "hovertemplate": "variable=police<br>date(yyyyMMddHHmmss)=%{x}<br>Word Count=%{y}<extra></extra>",
         "legendgroup": "police",
         "line": {
          "color": "blue",
          "dash": "solid",
          "shape": "linear"
         },
         "marker": {
          "symbol": "circle"
         },
         "mode": "lines",
         "name": "police",
         "orientation": "v",
         "showlegend": true,
         "type": "scatter",
         "x": [
          "2014-01-23T17:00:00",
          "2014-01-23T17:05:00",
          "2014-01-23T17:10:00",
          "2014-01-23T17:15:00",
          "2014-01-23T17:20:00",
          "2014-01-23T17:25:00",
          "2014-01-23T17:30:00",
          "2014-01-23T17:35:00",
          "2014-01-23T17:40:00",
          "2014-01-23T17:45:00",
          "2014-01-23T17:50:00",
          "2014-01-23T17:55:00",
          "2014-01-23T18:00:00",
          "2014-01-23T18:05:00",
          "2014-01-23T18:10:00",
          "2014-01-23T18:15:00",
          "2014-01-23T18:20:00",
          "2014-01-23T18:25:00",
          "2014-01-23T18:30:00",
          "2014-01-23T18:35:00",
          "2014-01-23T18:40:00",
          "2014-01-23T18:45:00",
          "2014-01-23T18:50:00",
          "2014-01-23T18:55:00",
          "2014-01-23T19:00:00",
          "2014-01-23T19:05:00",
          "2014-01-23T19:10:00",
          "2014-01-23T19:15:00",
          "2014-01-23T19:20:00",
          "2014-01-23T19:25:00",
          "2014-01-23T19:30:00",
          "2014-01-23T19:35:00",
          "2014-01-23T19:40:00",
          "2014-01-23T19:45:00",
          "2014-01-23T19:50:00",
          "2014-01-23T19:55:00",
          "2014-01-23T20:00:00",
          "2014-01-23T20:05:00",
          "2014-01-23T20:10:00",
          "2014-01-23T20:15:00",
          "2014-01-23T20:20:00",
          "2014-01-23T20:25:00",
          "2014-01-23T20:30:00",
          "2014-01-23T20:35:00",
          "2014-01-23T20:40:00",
          "2014-01-23T20:45:00",
          "2014-01-23T20:50:00",
          "2014-01-23T20:55:00",
          "2014-01-23T21:00:00",
          "2014-01-23T21:05:00",
          "2014-01-23T21:10:00",
          "2014-01-23T21:15:00",
          "2014-01-23T21:20:00",
          "2014-01-23T21:25:00",
          "2014-01-23T21:30:00"
         ],
         "xaxis": "x",
         "y": [
          4,
          7,
          0,
          1,
          3,
          17,
          5,
          1,
          2,
          0,
          1,
          0,
          0,
          0,
          0,
          1,
          0,
          0,
          0,
          0,
          5,
          22,
          4,
          12,
          0,
          3,
          5,
          18,
          6,
          9,
          1,
          23,
          46,
          24,
          3,
          5,
          5,
          13,
          17,
          16,
          0,
          2,
          7,
          5,
          1,
          1,
          1,
          0,
          1,
          0,
          1,
          2,
          5,
          4,
          0
         ],
         "yaxis": "y"
        }
       ],
       "layout": {
        "legend": {
         "title": {
          "text": "variable"
         },
         "tracegroupgap": 0
        },
        "template": {
         "data": {
          "bar": [
           {
            "error_x": {
             "color": "#2a3f5f"
            },
            "error_y": {
             "color": "#2a3f5f"
            },
            "marker": {
             "line": {
              "color": "#E5ECF6",
              "width": 0.5
             },
             "pattern": {
              "fillmode": "overlay",
              "size": 10,
              "solidity": 0.2
             }
            },
            "type": "bar"
           }
          ],
          "barpolar": [
           {
            "marker": {
             "line": {
              "color": "#E5ECF6",
              "width": 0.5
             },
             "pattern": {
              "fillmode": "overlay",
              "size": 10,
              "solidity": 0.2
             }
            },
            "type": "barpolar"
           }
          ],
          "carpet": [
           {
            "aaxis": {
             "endlinecolor": "#2a3f5f",
             "gridcolor": "white",
             "linecolor": "white",
             "minorgridcolor": "white",
             "startlinecolor": "#2a3f5f"
            },
            "baxis": {
             "endlinecolor": "#2a3f5f",
             "gridcolor": "white",
             "linecolor": "white",
             "minorgridcolor": "white",
             "startlinecolor": "#2a3f5f"
            },
            "type": "carpet"
           }
          ],
          "choropleth": [
           {
            "colorbar": {
             "outlinewidth": 0,
             "ticks": ""
            },
            "type": "choropleth"
           }
          ],
          "contour": [
           {
            "colorbar": {
             "outlinewidth": 0,
             "ticks": ""
            },
            "colorscale": [
             [
              0,
              "#0d0887"
             ],
             [
              0.1111111111111111,
              "#46039f"
             ],
             [
              0.2222222222222222,
              "#7201a8"
             ],
             [
              0.3333333333333333,
              "#9c179e"
             ],
             [
              0.4444444444444444,
              "#bd3786"
             ],
             [
              0.5555555555555556,
              "#d8576b"
             ],
             [
              0.6666666666666666,
              "#ed7953"
             ],
             [
              0.7777777777777778,
              "#fb9f3a"
             ],
             [
              0.8888888888888888,
              "#fdca26"
             ],
             [
              1,
              "#f0f921"
             ]
            ],
            "type": "contour"
           }
          ],
          "contourcarpet": [
           {
            "colorbar": {
             "outlinewidth": 0,
             "ticks": ""
            },
            "type": "contourcarpet"
           }
          ],
          "heatmap": [
           {
            "colorbar": {
             "outlinewidth": 0,
             "ticks": ""
            },
            "colorscale": [
             [
              0,
              "#0d0887"
             ],
             [
              0.1111111111111111,
              "#46039f"
             ],
             [
              0.2222222222222222,
              "#7201a8"
             ],
             [
              0.3333333333333333,
              "#9c179e"
             ],
             [
              0.4444444444444444,
              "#bd3786"
             ],
             [
              0.5555555555555556,
              "#d8576b"
             ],
             [
              0.6666666666666666,
              "#ed7953"
             ],
             [
              0.7777777777777778,
              "#fb9f3a"
             ],
             [
              0.8888888888888888,
              "#fdca26"
             ],
             [
              1,
              "#f0f921"
             ]
            ],
            "type": "heatmap"
           }
          ],
          "heatmapgl": [
           {
            "colorbar": {
             "outlinewidth": 0,
             "ticks": ""
            },
            "colorscale": [
             [
              0,
              "#0d0887"
             ],
             [
              0.1111111111111111,
              "#46039f"
             ],
             [
              0.2222222222222222,
              "#7201a8"
             ],
             [
              0.3333333333333333,
              "#9c179e"
             ],
             [
              0.4444444444444444,
              "#bd3786"
             ],
             [
              0.5555555555555556,
              "#d8576b"
             ],
             [
              0.6666666666666666,
              "#ed7953"
             ],
             [
              0.7777777777777778,
              "#fb9f3a"
             ],
             [
              0.8888888888888888,
              "#fdca26"
             ],
             [
              1,
              "#f0f921"
             ]
            ],
            "type": "heatmapgl"
           }
          ],
          "histogram": [
           {
            "marker": {
             "pattern": {
              "fillmode": "overlay",
              "size": 10,
              "solidity": 0.2
             }
            },
            "type": "histogram"
           }
          ],
          "histogram2d": [
           {
            "colorbar": {
             "outlinewidth": 0,
             "ticks": ""
            },
            "colorscale": [
             [
              0,
              "#0d0887"
             ],
             [
              0.1111111111111111,
              "#46039f"
             ],
             [
              0.2222222222222222,
              "#7201a8"
             ],
             [
              0.3333333333333333,
              "#9c179e"
             ],
             [
              0.4444444444444444,
              "#bd3786"
             ],
             [
              0.5555555555555556,
              "#d8576b"
             ],
             [
              0.6666666666666666,
              "#ed7953"
             ],
             [
              0.7777777777777778,
              "#fb9f3a"
             ],
             [
              0.8888888888888888,
              "#fdca26"
             ],
             [
              1,
              "#f0f921"
             ]
            ],
            "type": "histogram2d"
           }
          ],
          "histogram2dcontour": [
           {
            "colorbar": {
             "outlinewidth": 0,
             "ticks": ""
            },
            "colorscale": [
             [
              0,
              "#0d0887"
             ],
             [
              0.1111111111111111,
              "#46039f"
             ],
             [
              0.2222222222222222,
              "#7201a8"
             ],
             [
              0.3333333333333333,
              "#9c179e"
             ],
             [
              0.4444444444444444,
              "#bd3786"
             ],
             [
              0.5555555555555556,
              "#d8576b"
             ],
             [
              0.6666666666666666,
              "#ed7953"
             ],
             [
              0.7777777777777778,
              "#fb9f3a"
             ],
             [
              0.8888888888888888,
              "#fdca26"
             ],
             [
              1,
              "#f0f921"
             ]
            ],
            "type": "histogram2dcontour"
           }
          ],
          "mesh3d": [
           {
            "colorbar": {
             "outlinewidth": 0,
             "ticks": ""
            },
            "type": "mesh3d"
           }
          ],
          "parcoords": [
           {
            "line": {
             "colorbar": {
              "outlinewidth": 0,
              "ticks": ""
             }
            },
            "type": "parcoords"
           }
          ],
          "pie": [
           {
            "automargin": true,
            "type": "pie"
           }
          ],
          "scatter": [
           {
            "fillpattern": {
             "fillmode": "overlay",
             "size": 10,
             "solidity": 0.2
            },
            "type": "scatter"
           }
          ],
          "scatter3d": [
           {
            "line": {
             "colorbar": {
              "outlinewidth": 0,
              "ticks": ""
             }
            },
            "marker": {
             "colorbar": {
              "outlinewidth": 0,
              "ticks": ""
             }
            },
            "type": "scatter3d"
           }
          ],
          "scattercarpet": [
           {
            "marker": {
             "colorbar": {
              "outlinewidth": 0,
              "ticks": ""
             }
            },
            "type": "scattercarpet"
           }
          ],
          "scattergeo": [
           {
            "marker": {
             "colorbar": {
              "outlinewidth": 0,
              "ticks": ""
             }
            },
            "type": "scattergeo"
           }
          ],
          "scattergl": [
           {
            "marker": {
             "colorbar": {
              "outlinewidth": 0,
              "ticks": ""
             }
            },
            "type": "scattergl"
           }
          ],
          "scattermapbox": [
           {
            "marker": {
             "colorbar": {
              "outlinewidth": 0,
              "ticks": ""
             }
            },
            "type": "scattermapbox"
           }
          ],
          "scatterpolar": [
           {
            "marker": {
             "colorbar": {
              "outlinewidth": 0,
              "ticks": ""
             }
            },
            "type": "scatterpolar"
           }
          ],
          "scatterpolargl": [
           {
            "marker": {
             "colorbar": {
              "outlinewidth": 0,
              "ticks": ""
             }
            },
            "type": "scatterpolargl"
           }
          ],
          "scatterternary": [
           {
            "marker": {
             "colorbar": {
              "outlinewidth": 0,
              "ticks": ""
             }
            },
            "type": "scatterternary"
           }
          ],
          "surface": [
           {
            "colorbar": {
             "outlinewidth": 0,
             "ticks": ""
            },
            "colorscale": [
             [
              0,
              "#0d0887"
             ],
             [
              0.1111111111111111,
              "#46039f"
             ],
             [
              0.2222222222222222,
              "#7201a8"
             ],
             [
              0.3333333333333333,
              "#9c179e"
             ],
             [
              0.4444444444444444,
              "#bd3786"
             ],
             [
              0.5555555555555556,
              "#d8576b"
             ],
             [
              0.6666666666666666,
              "#ed7953"
             ],
             [
              0.7777777777777778,
              "#fb9f3a"
             ],
             [
              0.8888888888888888,
              "#fdca26"
             ],
             [
              1,
              "#f0f921"
             ]
            ],
            "type": "surface"
           }
          ],
          "table": [
           {
            "cells": {
             "fill": {
              "color": "#EBF0F8"
             },
             "line": {
              "color": "white"
             }
            },
            "header": {
             "fill": {
              "color": "#C8D4E3"
             },
             "line": {
              "color": "white"
             }
            },
            "type": "table"
           }
          ]
         },
         "layout": {
          "annotationdefaults": {
           "arrowcolor": "#2a3f5f",
           "arrowhead": 0,
           "arrowwidth": 1
          },
          "autotypenumbers": "strict",
          "coloraxis": {
           "colorbar": {
            "outlinewidth": 0,
            "ticks": ""
           }
          },
          "colorscale": {
           "diverging": [
            [
             0,
             "#8e0152"
            ],
            [
             0.1,
             "#c51b7d"
            ],
            [
             0.2,
             "#de77ae"
            ],
            [
             0.3,
             "#f1b6da"
            ],
            [
             0.4,
             "#fde0ef"
            ],
            [
             0.5,
             "#f7f7f7"
            ],
            [
             0.6,
             "#e6f5d0"
            ],
            [
             0.7,
             "#b8e186"
            ],
            [
             0.8,
             "#7fbc41"
            ],
            [
             0.9,
             "#4d9221"
            ],
            [
             1,
             "#276419"
            ]
           ],
           "sequential": [
            [
             0,
             "#0d0887"
            ],
            [
             0.1111111111111111,
             "#46039f"
            ],
            [
             0.2222222222222222,
             "#7201a8"
            ],
            [
             0.3333333333333333,
             "#9c179e"
            ],
            [
             0.4444444444444444,
             "#bd3786"
            ],
            [
             0.5555555555555556,
             "#d8576b"
            ],
            [
             0.6666666666666666,
             "#ed7953"
            ],
            [
             0.7777777777777778,
             "#fb9f3a"
            ],
            [
             0.8888888888888888,
             "#fdca26"
            ],
            [
             1,
             "#f0f921"
            ]
           ],
           "sequentialminus": [
            [
             0,
             "#0d0887"
            ],
            [
             0.1111111111111111,
             "#46039f"
            ],
            [
             0.2222222222222222,
             "#7201a8"
            ],
            [
             0.3333333333333333,
             "#9c179e"
            ],
            [
             0.4444444444444444,
             "#bd3786"
            ],
            [
             0.5555555555555556,
             "#d8576b"
            ],
            [
             0.6666666666666666,
             "#ed7953"
            ],
            [
             0.7777777777777778,
             "#fb9f3a"
            ],
            [
             0.8888888888888888,
             "#fdca26"
            ],
            [
             1,
             "#f0f921"
            ]
           ]
          },
          "colorway": [
           "#636efa",
           "#EF553B",
           "#00cc96",
           "#ab63fa",
           "#FFA15A",
           "#19d3f3",
           "#FF6692",
           "#B6E880",
           "#FF97FF",
           "#FECB52"
          ],
          "font": {
           "color": "#2a3f5f"
          },
          "geo": {
           "bgcolor": "white",
           "lakecolor": "white",
           "landcolor": "#E5ECF6",
           "showlakes": true,
           "showland": true,
           "subunitcolor": "white"
          },
          "hoverlabel": {
           "align": "left"
          },
          "hovermode": "closest",
          "mapbox": {
           "style": "light"
          },
          "paper_bgcolor": "white",
          "plot_bgcolor": "#E5ECF6",
          "polar": {
           "angularaxis": {
            "gridcolor": "white",
            "linecolor": "white",
            "ticks": ""
           },
           "bgcolor": "#E5ECF6",
           "radialaxis": {
            "gridcolor": "white",
            "linecolor": "white",
            "ticks": ""
           }
          },
          "scene": {
           "xaxis": {
            "backgroundcolor": "#E5ECF6",
            "gridcolor": "white",
            "gridwidth": 2,
            "linecolor": "white",
            "showbackground": true,
            "ticks": "",
            "zerolinecolor": "white"
           },
           "yaxis": {
            "backgroundcolor": "#E5ECF6",
            "gridcolor": "white",
            "gridwidth": 2,
            "linecolor": "white",
            "showbackground": true,
            "ticks": "",
            "zerolinecolor": "white"
           },
           "zaxis": {
            "backgroundcolor": "#E5ECF6",
            "gridcolor": "white",
            "gridwidth": 2,
            "linecolor": "white",
            "showbackground": true,
            "ticks": "",
            "zerolinecolor": "white"
           }
          },
          "shapedefaults": {
           "line": {
            "color": "#2a3f5f"
           }
          },
          "ternary": {
           "aaxis": {
            "gridcolor": "white",
            "linecolor": "white",
            "ticks": ""
           },
           "baxis": {
            "gridcolor": "white",
            "linecolor": "white",
            "ticks": ""
           },
           "bgcolor": "#E5ECF6",
           "caxis": {
            "gridcolor": "white",
            "linecolor": "white",
            "ticks": ""
           }
          },
          "title": {
           "x": 0.05
          },
          "xaxis": {
           "automargin": true,
           "gridcolor": "white",
           "linecolor": "white",
           "ticks": "",
           "title": {
            "standoff": 15
           },
           "zerolinecolor": "white",
           "zerolinewidth": 2
          },
          "yaxis": {
           "automargin": true,
           "gridcolor": "white",
           "linecolor": "white",
           "ticks": "",
           "title": {
            "standoff": 15
           },
           "zerolinecolor": "white",
           "zerolinewidth": 2
          }
         }
        },
        "title": {
         "text": "Top 3 Most Frequent Words Over Time"
        },
        "xaxis": {
         "anchor": "y",
         "domain": [
          0,
          1
         ],
         "title": {
          "text": "date(yyyyMMddHHmmss)"
         }
        },
        "yaxis": {
         "anchor": "x",
         "domain": [
          0,
          1
         ],
         "title": {
          "text": "Word Count"
         }
        }
       }
      }
     },
     "metadata": {},
     "output_type": "display_data"
    }
   ],
   "source": [
    "# plot\n",
    "fig = px.line(df_top_words,\n",
    "     x=df_top_words.index, y=top_n_words, title='Top 3 Most Frequent Words Over Time',\n",
    "     color_discrete_sequence=['red', 'black', 'blue'],\n",
    "              labels={'index': 'Time', 'value': 'Word Count'}, line_shape='linear')\n",
    "\n",
    "fig.show()"
   ]
  },
  {
   "cell_type": "code",
   "execution_count": 112,
   "metadata": {},
   "outputs": [],
   "source": [
    "import pandas as pd\n",
    "import plotly.express as px\n",
    "from nltk.tokenize import word_tokenize\n",
    "from nltk.probability import FreqDist\n",
    "from nltk.corpus import stopwords\n",
    "from textblob import TextBlob  \n",
    "\n",
    "\n",
    "# Sentiment Analysis\n",
    "df['sentiment'] = df['message'].apply(lambda x: TextBlob(x).sentiment.polarity)"
   ]
  },
  {
   "cell_type": "code",
   "execution_count": null,
   "metadata": {},
   "outputs": [],
   "source": []
  }
 ],
 "metadata": {
  "kernelspec": {
   "display_name": "cs329e",
   "language": "python",
   "name": "python3"
  },
  "language_info": {
   "codemirror_mode": {
    "name": "ipython",
    "version": 3
   },
   "file_extension": ".py",
   "mimetype": "text/x-python",
   "name": "python",
   "nbconvert_exporter": "python",
   "pygments_lexer": "ipython3",
   "version": "3.11.4"
  }
 },
 "nbformat": 4,
 "nbformat_minor": 2
}
