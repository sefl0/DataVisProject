{
 "cells": [
  {
   "cell_type": "code",
   "execution_count": 2,
   "metadata": {},
   "outputs": [],
   "source": [
    "# import libraries\n",
    "import pandas as pd\n",
    "import seaborn as sns\n",
    "import matplotlib.pyplot as plt\n",
    "import wordcloud as cld\n",
    "import nltk\n",
    "from textblob import TextBlob"
   ]
  },
  {
   "cell_type": "code",
   "execution_count": 3,
   "metadata": {},
   "outputs": [],
   "source": [
    "\n",
    "# read all files into their respective segments\n",
    "seg_1 = pd.read_csv('csv-1700-1830.csv', encoding = \"ISO-8859-1\", parse_dates=['date(yyyyMMddHHmmss)'])\n",
    "seg_2 = pd.read_csv('csv-1831-2000.csv', encoding = \"ISO-8859-1\", parse_dates=['date(yyyyMMddHHmmss)'])\n",
    "seg_3 = pd.read_csv('csv-2001-2131.csv', encoding = \"ISO-8859-1\", parse_dates=['date(yyyyMMddHHmmss)'])\n",
    "\n",
    "# concat vertically as df\n",
    "df = pd.concat([seg_1, seg_2, seg_3], ignore_index=True)"
   ]
  },
  {
   "cell_type": "code",
   "execution_count": 4,
   "metadata": {},
   "outputs": [
    {
     "data": {
      "text/plain": [
       "author\n",
       "KronosQuoth              1265\n",
       "Clevvah4Evah              153\n",
       "megaMan                   106\n",
       "AbilaPost                  72\n",
       "POK                        67\n",
       "HomelandIlluminations      65\n",
       "truccotrucco               64\n",
       "FriendsOfKronos            63\n",
       "choconibbs                 50\n",
       "KronosStar                 49\n",
       "Name: count, dtype: int64"
      ]
     },
     "execution_count": 4,
     "metadata": {},
     "output_type": "execute_result"
    }
   ],
   "source": [
    "# check most common authors for spam\n",
    "df['author'].value_counts().nlargest(10)"
   ]
  },
  {
   "cell_type": "code",
   "execution_count": 5,
   "metadata": {},
   "outputs": [
    {
     "data": {
      "text/plain": [
       "(4063, 7)"
      ]
     },
     "execution_count": 5,
     "metadata": {},
     "output_type": "execute_result"
    }
   ],
   "source": [
    "df.shape"
   ]
  },
  {
   "cell_type": "code",
   "execution_count": 6,
   "metadata": {},
   "outputs": [
    {
     "data": {
      "text/html": [
       "<div>\n",
       "<style scoped>\n",
       "    .dataframe tbody tr th:only-of-type {\n",
       "        vertical-align: middle;\n",
       "    }\n",
       "\n",
       "    .dataframe tbody tr th {\n",
       "        vertical-align: top;\n",
       "    }\n",
       "\n",
       "    .dataframe thead th {\n",
       "        text-align: right;\n",
       "    }\n",
       "</style>\n",
       "<table border=\"1\" class=\"dataframe\">\n",
       "  <thead>\n",
       "    <tr style=\"text-align: right;\">\n",
       "      <th></th>\n",
       "      <th>type</th>\n",
       "      <th>date(yyyyMMddHHmmss)</th>\n",
       "      <th>author</th>\n",
       "      <th>message</th>\n",
       "      <th>latitude</th>\n",
       "      <th>longitude</th>\n",
       "      <th>location</th>\n",
       "    </tr>\n",
       "  </thead>\n",
       "  <tbody>\n",
       "    <tr>\n",
       "      <th>11</th>\n",
       "      <td>mbdata</td>\n",
       "      <td>2014-01-23 17:00:00</td>\n",
       "      <td>KronosQuoth</td>\n",
       "      <td>Success is walking from failure to failure wit...</td>\n",
       "      <td>NaN</td>\n",
       "      <td>NaN</td>\n",
       "      <td>NaN</td>\n",
       "    </tr>\n",
       "    <tr>\n",
       "      <th>12</th>\n",
       "      <td>mbdata</td>\n",
       "      <td>2014-01-23 17:00:00</td>\n",
       "      <td>KronosQuoth</td>\n",
       "      <td>A person who never made a mistake never tried ...</td>\n",
       "      <td>NaN</td>\n",
       "      <td>NaN</td>\n",
       "      <td>NaN</td>\n",
       "    </tr>\n",
       "    <tr>\n",
       "      <th>13</th>\n",
       "      <td>mbdata</td>\n",
       "      <td>2014-01-23 17:00:24</td>\n",
       "      <td>KronosQuoth</td>\n",
       "      <td>The only person you are destined to become is ...</td>\n",
       "      <td>NaN</td>\n",
       "      <td>NaN</td>\n",
       "      <td>NaN</td>\n",
       "    </tr>\n",
       "    <tr>\n",
       "      <th>14</th>\n",
       "      <td>mbdata</td>\n",
       "      <td>2014-01-23 17:00:24</td>\n",
       "      <td>KronosQuoth</td>\n",
       "      <td>Knowledge is being aware of what you can do. W...</td>\n",
       "      <td>NaN</td>\n",
       "      <td>NaN</td>\n",
       "      <td>NaN</td>\n",
       "    </tr>\n",
       "    <tr>\n",
       "      <th>16</th>\n",
       "      <td>mbdata</td>\n",
       "      <td>2014-01-23 17:00:55</td>\n",
       "      <td>KronosQuoth</td>\n",
       "      <td>The meaning of life is to find your gift. The ...</td>\n",
       "      <td>NaN</td>\n",
       "      <td>NaN</td>\n",
       "      <td>NaN</td>\n",
       "    </tr>\n",
       "    <tr>\n",
       "      <th>...</th>\n",
       "      <td>...</td>\n",
       "      <td>...</td>\n",
       "      <td>...</td>\n",
       "      <td>...</td>\n",
       "      <td>...</td>\n",
       "      <td>...</td>\n",
       "      <td>...</td>\n",
       "    </tr>\n",
       "    <tr>\n",
       "      <th>4041</th>\n",
       "      <td>mbdata</td>\n",
       "      <td>2014-01-23 21:30:02</td>\n",
       "      <td>KronosQuoth</td>\n",
       "      <td>If you are not willing to risk the usual you w...</td>\n",
       "      <td>NaN</td>\n",
       "      <td>NaN</td>\n",
       "      <td>NaN</td>\n",
       "    </tr>\n",
       "    <tr>\n",
       "      <th>4042</th>\n",
       "      <td>mbdata</td>\n",
       "      <td>2014-01-23 21:30:02</td>\n",
       "      <td>KronosQuoth</td>\n",
       "      <td>The number one reason people fail in life is b...</td>\n",
       "      <td>NaN</td>\n",
       "      <td>NaN</td>\n",
       "      <td>NaN</td>\n",
       "    </tr>\n",
       "    <tr>\n",
       "      <th>4043</th>\n",
       "      <td>mbdata</td>\n",
       "      <td>2014-01-23 21:30:02</td>\n",
       "      <td>KronosQuoth</td>\n",
       "      <td>Change your thoughts and you change your world...</td>\n",
       "      <td>NaN</td>\n",
       "      <td>NaN</td>\n",
       "      <td>NaN</td>\n",
       "    </tr>\n",
       "    <tr>\n",
       "      <th>4047</th>\n",
       "      <td>mbdata</td>\n",
       "      <td>2014-01-23 21:30:25</td>\n",
       "      <td>KronosQuoth</td>\n",
       "      <td>All progress takes place outside the comfort z...</td>\n",
       "      <td>NaN</td>\n",
       "      <td>NaN</td>\n",
       "      <td>NaN</td>\n",
       "    </tr>\n",
       "    <tr>\n",
       "      <th>4051</th>\n",
       "      <td>mbdata</td>\n",
       "      <td>2014-01-23 21:30:51</td>\n",
       "      <td>KronosQuoth</td>\n",
       "      <td>When everything seems to be going against you,...</td>\n",
       "      <td>NaN</td>\n",
       "      <td>NaN</td>\n",
       "      <td>NaN</td>\n",
       "    </tr>\n",
       "  </tbody>\n",
       "</table>\n",
       "<p>1265 rows × 7 columns</p>\n",
       "</div>"
      ],
      "text/plain": [
       "        type date(yyyyMMddHHmmss)       author  \\\n",
       "11    mbdata  2014-01-23 17:00:00  KronosQuoth   \n",
       "12    mbdata  2014-01-23 17:00:00  KronosQuoth   \n",
       "13    mbdata  2014-01-23 17:00:24  KronosQuoth   \n",
       "14    mbdata  2014-01-23 17:00:24  KronosQuoth   \n",
       "16    mbdata  2014-01-23 17:00:55  KronosQuoth   \n",
       "...      ...                  ...          ...   \n",
       "4041  mbdata  2014-01-23 21:30:02  KronosQuoth   \n",
       "4042  mbdata  2014-01-23 21:30:02  KronosQuoth   \n",
       "4043  mbdata  2014-01-23 21:30:02  KronosQuoth   \n",
       "4047  mbdata  2014-01-23 21:30:25  KronosQuoth   \n",
       "4051  mbdata  2014-01-23 21:30:51  KronosQuoth   \n",
       "\n",
       "                                                message  latitude  longitude  \\\n",
       "11    Success is walking from failure to failure wit...       NaN        NaN   \n",
       "12    A person who never made a mistake never tried ...       NaN        NaN   \n",
       "13    The only person you are destined to become is ...       NaN        NaN   \n",
       "14    Knowledge is being aware of what you can do. W...       NaN        NaN   \n",
       "16    The meaning of life is to find your gift. The ...       NaN        NaN   \n",
       "...                                                 ...       ...        ...   \n",
       "4041  If you are not willing to risk the usual you w...       NaN        NaN   \n",
       "4042  The number one reason people fail in life is b...       NaN        NaN   \n",
       "4043  Change your thoughts and you change your world...       NaN        NaN   \n",
       "4047  All progress takes place outside the comfort z...       NaN        NaN   \n",
       "4051  When everything seems to be going against you,...       NaN        NaN   \n",
       "\n",
       "      location  \n",
       "11         NaN  \n",
       "12         NaN  \n",
       "13         NaN  \n",
       "14         NaN  \n",
       "16         NaN  \n",
       "...        ...  \n",
       "4041       NaN  \n",
       "4042       NaN  \n",
       "4043       NaN  \n",
       "4047       NaN  \n",
       "4051       NaN  \n",
       "\n",
       "[1265 rows x 7 columns]"
      ]
     },
     "execution_count": 6,
     "metadata": {},
     "output_type": "execute_result"
    }
   ],
   "source": [
    "# it looks like KronosQuoth posts meaningless junk\n",
    "df[df['author'] == 'KronosQuoth']"
   ]
  },
  {
   "cell_type": "code",
   "execution_count": 7,
   "metadata": {},
   "outputs": [
    {
     "data": {
      "text/html": [
       "<div>\n",
       "<style scoped>\n",
       "    .dataframe tbody tr th:only-of-type {\n",
       "        vertical-align: middle;\n",
       "    }\n",
       "\n",
       "    .dataframe tbody tr th {\n",
       "        vertical-align: top;\n",
       "    }\n",
       "\n",
       "    .dataframe thead th {\n",
       "        text-align: right;\n",
       "    }\n",
       "</style>\n",
       "<table border=\"1\" class=\"dataframe\">\n",
       "  <thead>\n",
       "    <tr style=\"text-align: right;\">\n",
       "      <th></th>\n",
       "      <th>type</th>\n",
       "      <th>date(yyyyMMddHHmmss)</th>\n",
       "      <th>author</th>\n",
       "      <th>message</th>\n",
       "      <th>latitude</th>\n",
       "      <th>longitude</th>\n",
       "      <th>location</th>\n",
       "    </tr>\n",
       "  </thead>\n",
       "  <tbody>\n",
       "    <tr>\n",
       "      <th>15</th>\n",
       "      <td>mbdata</td>\n",
       "      <td>2014-01-23 17:00:55</td>\n",
       "      <td>Clevvah4Evah</td>\n",
       "      <td>I want a job 80% mental 30% fiscal #POK #Rally...</td>\n",
       "      <td>NaN</td>\n",
       "      <td>NaN</td>\n",
       "      <td>NaN</td>\n",
       "    </tr>\n",
       "    <tr>\n",
       "      <th>29</th>\n",
       "      <td>mbdata</td>\n",
       "      <td>2014-01-23 17:02:21</td>\n",
       "      <td>Clevvah4Evah</td>\n",
       "      <td>Youre the penultimate girlfriend! #POK #Rally ...</td>\n",
       "      <td>NaN</td>\n",
       "      <td>NaN</td>\n",
       "      <td>NaN</td>\n",
       "    </tr>\n",
       "    <tr>\n",
       "      <th>85</th>\n",
       "      <td>mbdata</td>\n",
       "      <td>2014-01-23 17:08:15</td>\n",
       "      <td>Clevvah4Evah</td>\n",
       "      <td>You got low self coincidence #POK #Rally #Grammar</td>\n",
       "      <td>NaN</td>\n",
       "      <td>NaN</td>\n",
       "      <td>NaN</td>\n",
       "    </tr>\n",
       "    <tr>\n",
       "      <th>86</th>\n",
       "      <td>mbdata</td>\n",
       "      <td>2014-01-23 17:08:39</td>\n",
       "      <td>Clevvah4Evah</td>\n",
       "      <td>I would like to return the complement #POK #Ra...</td>\n",
       "      <td>NaN</td>\n",
       "      <td>NaN</td>\n",
       "      <td>NaN</td>\n",
       "    </tr>\n",
       "    <tr>\n",
       "      <th>94</th>\n",
       "      <td>mbdata</td>\n",
       "      <td>2014-01-23 17:09:32</td>\n",
       "      <td>Clevvah4Evah</td>\n",
       "      <td>GAStech said they would give me a bonus! #POK ...</td>\n",
       "      <td>NaN</td>\n",
       "      <td>NaN</td>\n",
       "      <td>NaN</td>\n",
       "    </tr>\n",
       "    <tr>\n",
       "      <th>...</th>\n",
       "      <td>...</td>\n",
       "      <td>...</td>\n",
       "      <td>...</td>\n",
       "      <td>...</td>\n",
       "      <td>...</td>\n",
       "      <td>...</td>\n",
       "      <td>...</td>\n",
       "    </tr>\n",
       "    <tr>\n",
       "      <th>3838</th>\n",
       "      <td>mbdata</td>\n",
       "      <td>2014-01-23 21:16:27</td>\n",
       "      <td>Clevvah4Evah</td>\n",
       "      <td>What's the diff between would of and would've?...</td>\n",
       "      <td>NaN</td>\n",
       "      <td>NaN</td>\n",
       "      <td>NaN</td>\n",
       "    </tr>\n",
       "    <tr>\n",
       "      <th>3858</th>\n",
       "      <td>mbdata</td>\n",
       "      <td>2014-01-23 21:17:41</td>\n",
       "      <td>Clevvah4Evah</td>\n",
       "      <td>Stop making mute points! #POK #Rally #Grammar</td>\n",
       "      <td>NaN</td>\n",
       "      <td>NaN</td>\n",
       "      <td>NaN</td>\n",
       "    </tr>\n",
       "    <tr>\n",
       "      <th>3868</th>\n",
       "      <td>mbdata</td>\n",
       "      <td>2014-01-23 21:18:55</td>\n",
       "      <td>Clevvah4Evah</td>\n",
       "      <td>Don't be disinterested in the movie! #POK #Ral...</td>\n",
       "      <td>NaN</td>\n",
       "      <td>NaN</td>\n",
       "      <td>NaN</td>\n",
       "    </tr>\n",
       "    <tr>\n",
       "      <th>3873</th>\n",
       "      <td>mbdata</td>\n",
       "      <td>2014-01-23 21:19:25</td>\n",
       "      <td>Clevvah4Evah</td>\n",
       "      <td>Your spelling and grammer are atrotious #POK #...</td>\n",
       "      <td>NaN</td>\n",
       "      <td>NaN</td>\n",
       "      <td>NaN</td>\n",
       "    </tr>\n",
       "    <tr>\n",
       "      <th>4003</th>\n",
       "      <td>mbdata</td>\n",
       "      <td>2014-01-23 21:26:48</td>\n",
       "      <td>Clevvah4Evah</td>\n",
       "      <td>My hand hurts I think I have carpet tunnel #PO...</td>\n",
       "      <td>NaN</td>\n",
       "      <td>NaN</td>\n",
       "      <td>NaN</td>\n",
       "    </tr>\n",
       "  </tbody>\n",
       "</table>\n",
       "<p>153 rows × 7 columns</p>\n",
       "</div>"
      ],
      "text/plain": [
       "        type date(yyyyMMddHHmmss)        author  \\\n",
       "15    mbdata  2014-01-23 17:00:55  Clevvah4Evah   \n",
       "29    mbdata  2014-01-23 17:02:21  Clevvah4Evah   \n",
       "85    mbdata  2014-01-23 17:08:15  Clevvah4Evah   \n",
       "86    mbdata  2014-01-23 17:08:39  Clevvah4Evah   \n",
       "94    mbdata  2014-01-23 17:09:32  Clevvah4Evah   \n",
       "...      ...                  ...           ...   \n",
       "3838  mbdata  2014-01-23 21:16:27  Clevvah4Evah   \n",
       "3858  mbdata  2014-01-23 21:17:41  Clevvah4Evah   \n",
       "3868  mbdata  2014-01-23 21:18:55  Clevvah4Evah   \n",
       "3873  mbdata  2014-01-23 21:19:25  Clevvah4Evah   \n",
       "4003  mbdata  2014-01-23 21:26:48  Clevvah4Evah   \n",
       "\n",
       "                                                message  latitude  longitude  \\\n",
       "15    I want a job 80% mental 30% fiscal #POK #Rally...       NaN        NaN   \n",
       "29    Youre the penultimate girlfriend! #POK #Rally ...       NaN        NaN   \n",
       "85    You got low self coincidence #POK #Rally #Grammar       NaN        NaN   \n",
       "86    I would like to return the complement #POK #Ra...       NaN        NaN   \n",
       "94    GAStech said they would give me a bonus! #POK ...       NaN        NaN   \n",
       "...                                                 ...       ...        ...   \n",
       "3838  What's the diff between would of and would've?...       NaN        NaN   \n",
       "3858      Stop making mute points! #POK #Rally #Grammar       NaN        NaN   \n",
       "3868  Don't be disinterested in the movie! #POK #Ral...       NaN        NaN   \n",
       "3873  Your spelling and grammer are atrotious #POK #...       NaN        NaN   \n",
       "4003  My hand hurts I think I have carpet tunnel #PO...       NaN        NaN   \n",
       "\n",
       "      location  \n",
       "15         NaN  \n",
       "29         NaN  \n",
       "85         NaN  \n",
       "86         NaN  \n",
       "94         NaN  \n",
       "...        ...  \n",
       "3838       NaN  \n",
       "3858       NaN  \n",
       "3868       NaN  \n",
       "3873       NaN  \n",
       "4003       NaN  \n",
       "\n",
       "[153 rows x 7 columns]"
      ]
     },
     "execution_count": 7,
     "metadata": {},
     "output_type": "execute_result"
    }
   ],
   "source": [
    "# a lot of Clevvah4Evah's messages are misspelled. Probably not the most reliable source\n",
    "df[df['author'] == 'Clevvah4Evah']"
   ]
  },
  {
   "cell_type": "code",
   "execution_count": 8,
   "metadata": {},
   "outputs": [
    {
     "data": {
      "text/html": [
       "<div>\n",
       "<style scoped>\n",
       "    .dataframe tbody tr th:only-of-type {\n",
       "        vertical-align: middle;\n",
       "    }\n",
       "\n",
       "    .dataframe tbody tr th {\n",
       "        vertical-align: top;\n",
       "    }\n",
       "\n",
       "    .dataframe thead th {\n",
       "        text-align: right;\n",
       "    }\n",
       "</style>\n",
       "<table border=\"1\" class=\"dataframe\">\n",
       "  <thead>\n",
       "    <tr style=\"text-align: right;\">\n",
       "      <th></th>\n",
       "      <th>type</th>\n",
       "      <th>date(yyyyMMddHHmmss)</th>\n",
       "      <th>author</th>\n",
       "      <th>message</th>\n",
       "      <th>latitude</th>\n",
       "      <th>longitude</th>\n",
       "      <th>location</th>\n",
       "    </tr>\n",
       "  </thead>\n",
       "  <tbody>\n",
       "    <tr>\n",
       "      <th>2214</th>\n",
       "      <td>mbdata</td>\n",
       "      <td>2014-01-23 19:39:40</td>\n",
       "      <td>megaMan</td>\n",
       "      <td>Run - don't walk across driveway into Gelato #...</td>\n",
       "      <td>NaN</td>\n",
       "      <td>NaN</td>\n",
       "      <td>NaN</td>\n",
       "    </tr>\n",
       "    <tr>\n",
       "      <th>2232</th>\n",
       "      <td>mbdata</td>\n",
       "      <td>2014-01-23 19:40:00</td>\n",
       "      <td>megaMan</td>\n",
       "      <td>Yeah van -- can't exit the backway at Gelato. ...</td>\n",
       "      <td>NaN</td>\n",
       "      <td>NaN</td>\n",
       "      <td>NaN</td>\n",
       "    </tr>\n",
       "    <tr>\n",
       "      <th>2240</th>\n",
       "      <td>mbdata</td>\n",
       "      <td>2014-01-23 19:40:22</td>\n",
       "      <td>megaMan</td>\n",
       "      <td>Better than expected - cops block van at Gelat...</td>\n",
       "      <td>NaN</td>\n",
       "      <td>NaN</td>\n",
       "      <td>NaN</td>\n",
       "    </tr>\n",
       "    <tr>\n",
       "      <th>2247</th>\n",
       "      <td>mbdata</td>\n",
       "      <td>2014-01-23 19:40:29</td>\n",
       "      <td>megaMan</td>\n",
       "      <td>So van tried a t-turn to exit; cop blocked him...</td>\n",
       "      <td>NaN</td>\n",
       "      <td>NaN</td>\n",
       "      <td>NaN</td>\n",
       "    </tr>\n",
       "    <tr>\n",
       "      <th>2255</th>\n",
       "      <td>mbdata</td>\n",
       "      <td>2014-01-23 19:40:41</td>\n",
       "      <td>megaMan</td>\n",
       "      <td>shot! moving behind mailbox peeking #troubleat...</td>\n",
       "      <td>NaN</td>\n",
       "      <td>NaN</td>\n",
       "      <td>NaN</td>\n",
       "    </tr>\n",
       "    <tr>\n",
       "      <th>...</th>\n",
       "      <td>...</td>\n",
       "      <td>...</td>\n",
       "      <td>...</td>\n",
       "      <td>...</td>\n",
       "      <td>...</td>\n",
       "      <td>...</td>\n",
       "      <td>...</td>\n",
       "    </tr>\n",
       "    <tr>\n",
       "      <th>3806</th>\n",
       "      <td>mbdata</td>\n",
       "      <td>2014-01-23 21:14:01</td>\n",
       "      <td>megaMan</td>\n",
       "      <td>FIRST VAN GUY OUT!  ITS OVER!  #TAG</td>\n",
       "      <td>NaN</td>\n",
       "      <td>NaN</td>\n",
       "      <td>NaN</td>\n",
       "    </tr>\n",
       "    <tr>\n",
       "      <th>3811</th>\n",
       "      <td>mbdata</td>\n",
       "      <td>2014-01-23 21:14:47</td>\n",
       "      <td>megaMan</td>\n",
       "      <td>Police are taking two van guys into waiting ca...</td>\n",
       "      <td>NaN</td>\n",
       "      <td>NaN</td>\n",
       "      <td>NaN</td>\n",
       "    </tr>\n",
       "    <tr>\n",
       "      <th>3821</th>\n",
       "      <td>mbdata</td>\n",
       "      <td>2014-01-23 21:15:00</td>\n",
       "      <td>megaMan</td>\n",
       "      <td>One woman one man  were the hostages! #TAG</td>\n",
       "      <td>NaN</td>\n",
       "      <td>NaN</td>\n",
       "      <td>NaN</td>\n",
       "    </tr>\n",
       "    <tr>\n",
       "      <th>3850</th>\n",
       "      <td>mbdata</td>\n",
       "      <td>2014-01-23 21:17:11</td>\n",
       "      <td>megaMan</td>\n",
       "      <td>Hey nice win for the police - two bad guys cau...</td>\n",
       "      <td>NaN</td>\n",
       "      <td>NaN</td>\n",
       "      <td>NaN</td>\n",
       "    </tr>\n",
       "    <tr>\n",
       "      <th>3862</th>\n",
       "      <td>mbdata</td>\n",
       "      <td>2014-01-23 21:18:14</td>\n",
       "      <td>megaMan</td>\n",
       "      <td>Thanks for the support, followers! Time to exi...</td>\n",
       "      <td>NaN</td>\n",
       "      <td>NaN</td>\n",
       "      <td>NaN</td>\n",
       "    </tr>\n",
       "  </tbody>\n",
       "</table>\n",
       "<p>106 rows × 7 columns</p>\n",
       "</div>"
      ],
      "text/plain": [
       "        type date(yyyyMMddHHmmss)   author  \\\n",
       "2214  mbdata  2014-01-23 19:39:40  megaMan   \n",
       "2232  mbdata  2014-01-23 19:40:00  megaMan   \n",
       "2240  mbdata  2014-01-23 19:40:22  megaMan   \n",
       "2247  mbdata  2014-01-23 19:40:29  megaMan   \n",
       "2255  mbdata  2014-01-23 19:40:41  megaMan   \n",
       "...      ...                  ...      ...   \n",
       "3806  mbdata  2014-01-23 21:14:01  megaMan   \n",
       "3811  mbdata  2014-01-23 21:14:47  megaMan   \n",
       "3821  mbdata  2014-01-23 21:15:00  megaMan   \n",
       "3850  mbdata  2014-01-23 21:17:11  megaMan   \n",
       "3862  mbdata  2014-01-23 21:18:14  megaMan   \n",
       "\n",
       "                                                message  latitude  longitude  \\\n",
       "2214  Run - don't walk across driveway into Gelato #...       NaN        NaN   \n",
       "2232  Yeah van -- can't exit the backway at Gelato. ...       NaN        NaN   \n",
       "2240  Better than expected - cops block van at Gelat...       NaN        NaN   \n",
       "2247  So van tried a t-turn to exit; cop blocked him...       NaN        NaN   \n",
       "2255  shot! moving behind mailbox peeking #troubleat...       NaN        NaN   \n",
       "...                                                 ...       ...        ...   \n",
       "3806                FIRST VAN GUY OUT!  ITS OVER!  #TAG       NaN        NaN   \n",
       "3811  Police are taking two van guys into waiting ca...       NaN        NaN   \n",
       "3821         One woman one man  were the hostages! #TAG       NaN        NaN   \n",
       "3850  Hey nice win for the police - two bad guys cau...       NaN        NaN   \n",
       "3862  Thanks for the support, followers! Time to exi...       NaN        NaN   \n",
       "\n",
       "      location  \n",
       "2214       NaN  \n",
       "2232       NaN  \n",
       "2240       NaN  \n",
       "2247       NaN  \n",
       "2255       NaN  \n",
       "...        ...  \n",
       "3806       NaN  \n",
       "3811       NaN  \n",
       "3821       NaN  \n",
       "3850       NaN  \n",
       "3862       NaN  \n",
       "\n",
       "[106 rows x 7 columns]"
      ]
     },
     "execution_count": 8,
     "metadata": {},
     "output_type": "execute_result"
    }
   ],
   "source": [
    "# it seems that megaMan was on the ground at the scene, potentially a good author\n",
    "df[df['author'] == 'megaMan']"
   ]
  },
  {
   "cell_type": "code",
   "execution_count": 9,
   "metadata": {},
   "outputs": [
    {
     "data": {
      "text/html": [
       "<div>\n",
       "<style scoped>\n",
       "    .dataframe tbody tr th:only-of-type {\n",
       "        vertical-align: middle;\n",
       "    }\n",
       "\n",
       "    .dataframe tbody tr th {\n",
       "        vertical-align: top;\n",
       "    }\n",
       "\n",
       "    .dataframe thead th {\n",
       "        text-align: right;\n",
       "    }\n",
       "</style>\n",
       "<table border=\"1\" class=\"dataframe\">\n",
       "  <thead>\n",
       "    <tr style=\"text-align: right;\">\n",
       "      <th></th>\n",
       "      <th>type</th>\n",
       "      <th>date(yyyyMMddHHmmss)</th>\n",
       "      <th>author</th>\n",
       "      <th>message</th>\n",
       "      <th>latitude</th>\n",
       "      <th>longitude</th>\n",
       "      <th>location</th>\n",
       "    </tr>\n",
       "  </thead>\n",
       "  <tbody>\n",
       "    <tr>\n",
       "      <th>4</th>\n",
       "      <td>mbdata</td>\n",
       "      <td>2014-01-23 17:00:00</td>\n",
       "      <td>AbilaPost</td>\n",
       "      <td>POK rally set to take place in Abila City Park...</td>\n",
       "      <td>NaN</td>\n",
       "      <td>NaN</td>\n",
       "      <td>NaN</td>\n",
       "    </tr>\n",
       "    <tr>\n",
       "      <th>34</th>\n",
       "      <td>mbdata</td>\n",
       "      <td>2014-01-23 17:02:31</td>\n",
       "      <td>AbilaPost</td>\n",
       "      <td>Concerns of violence surround POK rally today ...</td>\n",
       "      <td>NaN</td>\n",
       "      <td>NaN</td>\n",
       "      <td>NaN</td>\n",
       "    </tr>\n",
       "    <tr>\n",
       "      <th>101</th>\n",
       "      <td>mbdata</td>\n",
       "      <td>2014-01-23 17:10:00</td>\n",
       "      <td>AbilaPost</td>\n",
       "      <td>#APD has closed Egeou St between Parla St &amp; Pi...</td>\n",
       "      <td>NaN</td>\n",
       "      <td>NaN</td>\n",
       "      <td>NaN</td>\n",
       "    </tr>\n",
       "    <tr>\n",
       "      <th>129</th>\n",
       "      <td>mbdata</td>\n",
       "      <td>2014-01-23 17:11:53</td>\n",
       "      <td>AbilaPost</td>\n",
       "      <td>POK rally expected to draw in excess of 1000 p...</td>\n",
       "      <td>NaN</td>\n",
       "      <td>NaN</td>\n",
       "      <td>NaN</td>\n",
       "    </tr>\n",
       "    <tr>\n",
       "      <th>152</th>\n",
       "      <td>mbdata</td>\n",
       "      <td>2014-01-23 17:13:01</td>\n",
       "      <td>AbilaPost</td>\n",
       "      <td>Special guest Dr. Audrey McConnel Newman will ...</td>\n",
       "      <td>NaN</td>\n",
       "      <td>NaN</td>\n",
       "      <td>NaN</td>\n",
       "    </tr>\n",
       "    <tr>\n",
       "      <th>...</th>\n",
       "      <td>...</td>\n",
       "      <td>...</td>\n",
       "      <td>...</td>\n",
       "      <td>...</td>\n",
       "      <td>...</td>\n",
       "      <td>...</td>\n",
       "      <td>...</td>\n",
       "    </tr>\n",
       "    <tr>\n",
       "      <th>3903</th>\n",
       "      <td>mbdata</td>\n",
       "      <td>2014-01-23 21:21:11</td>\n",
       "      <td>AbilaPost</td>\n",
       "      <td>Great work #APD! negotiated a peaceful end to ...</td>\n",
       "      <td>NaN</td>\n",
       "      <td>NaN</td>\n",
       "      <td>NaN</td>\n",
       "    </tr>\n",
       "    <tr>\n",
       "      <th>3917</th>\n",
       "      <td>mbdata</td>\n",
       "      <td>2014-01-23 21:22:00</td>\n",
       "      <td>AbilaPost</td>\n",
       "      <td>fire @dancingdolphin appears to be under contr...</td>\n",
       "      <td>NaN</td>\n",
       "      <td>NaN</td>\n",
       "      <td>NaN</td>\n",
       "    </tr>\n",
       "    <tr>\n",
       "      <th>3922</th>\n",
       "      <td>mbdata</td>\n",
       "      <td>2014-01-23 21:22:00</td>\n",
       "      <td>AbilaPost</td>\n",
       "      <td>#APD have still not released names of suspects...</td>\n",
       "      <td>NaN</td>\n",
       "      <td>NaN</td>\n",
       "      <td>NaN</td>\n",
       "    </tr>\n",
       "    <tr>\n",
       "      <th>3949</th>\n",
       "      <td>mbdata</td>\n",
       "      <td>2014-01-23 21:23:34</td>\n",
       "      <td>AbilaPost</td>\n",
       "      <td>#APD have declined to release names of hostage...</td>\n",
       "      <td>NaN</td>\n",
       "      <td>NaN</td>\n",
       "      <td>NaN</td>\n",
       "    </tr>\n",
       "    <tr>\n",
       "      <th>4044</th>\n",
       "      <td>mbdata</td>\n",
       "      <td>2014-01-23 21:30:10</td>\n",
       "      <td>AbilaPost</td>\n",
       "      <td>unknown explosion heard from the @dancingdolph...</td>\n",
       "      <td>NaN</td>\n",
       "      <td>NaN</td>\n",
       "      <td>NaN</td>\n",
       "    </tr>\n",
       "  </tbody>\n",
       "</table>\n",
       "<p>72 rows × 7 columns</p>\n",
       "</div>"
      ],
      "text/plain": [
       "        type date(yyyyMMddHHmmss)     author  \\\n",
       "4     mbdata  2014-01-23 17:00:00  AbilaPost   \n",
       "34    mbdata  2014-01-23 17:02:31  AbilaPost   \n",
       "101   mbdata  2014-01-23 17:10:00  AbilaPost   \n",
       "129   mbdata  2014-01-23 17:11:53  AbilaPost   \n",
       "152   mbdata  2014-01-23 17:13:01  AbilaPost   \n",
       "...      ...                  ...        ...   \n",
       "3903  mbdata  2014-01-23 21:21:11  AbilaPost   \n",
       "3917  mbdata  2014-01-23 21:22:00  AbilaPost   \n",
       "3922  mbdata  2014-01-23 21:22:00  AbilaPost   \n",
       "3949  mbdata  2014-01-23 21:23:34  AbilaPost   \n",
       "4044  mbdata  2014-01-23 21:30:10  AbilaPost   \n",
       "\n",
       "                                                message  latitude  longitude  \\\n",
       "4     POK rally set to take place in Abila City Park...       NaN        NaN   \n",
       "34    Concerns of violence surround POK rally today ...       NaN        NaN   \n",
       "101   #APD has closed Egeou St between Parla St & Pi...       NaN        NaN   \n",
       "129   POK rally expected to draw in excess of 1000 p...       NaN        NaN   \n",
       "152   Special guest Dr. Audrey McConnel Newman will ...       NaN        NaN   \n",
       "...                                                 ...       ...        ...   \n",
       "3903  Great work #APD! negotiated a peaceful end to ...       NaN        NaN   \n",
       "3917  fire @dancingdolphin appears to be under contr...       NaN        NaN   \n",
       "3922  #APD have still not released names of suspects...       NaN        NaN   \n",
       "3949  #APD have declined to release names of hostage...       NaN        NaN   \n",
       "4044  unknown explosion heard from the @dancingdolph...       NaN        NaN   \n",
       "\n",
       "      location  \n",
       "4          NaN  \n",
       "34         NaN  \n",
       "101        NaN  \n",
       "129        NaN  \n",
       "152        NaN  \n",
       "...        ...  \n",
       "3903       NaN  \n",
       "3917       NaN  \n",
       "3922       NaN  \n",
       "3949       NaN  \n",
       "4044       NaN  \n",
       "\n",
       "[72 rows x 7 columns]"
      ]
     },
     "execution_count": 9,
     "metadata": {},
     "output_type": "execute_result"
    }
   ],
   "source": [
    "# it seems that AbilaPost is a legitimate news source\n",
    "df[df['author'] == 'AbilaPost']"
   ]
  },
  {
   "cell_type": "code",
   "execution_count": 10,
   "metadata": {},
   "outputs": [
    {
     "data": {
      "text/html": [
       "<div>\n",
       "<style scoped>\n",
       "    .dataframe tbody tr th:only-of-type {\n",
       "        vertical-align: middle;\n",
       "    }\n",
       "\n",
       "    .dataframe tbody tr th {\n",
       "        vertical-align: top;\n",
       "    }\n",
       "\n",
       "    .dataframe thead th {\n",
       "        text-align: right;\n",
       "    }\n",
       "</style>\n",
       "<table border=\"1\" class=\"dataframe\">\n",
       "  <thead>\n",
       "    <tr style=\"text-align: right;\">\n",
       "      <th></th>\n",
       "      <th>type</th>\n",
       "      <th>date(yyyyMMddHHmmss)</th>\n",
       "      <th>author</th>\n",
       "      <th>message</th>\n",
       "      <th>latitude</th>\n",
       "      <th>longitude</th>\n",
       "      <th>location</th>\n",
       "    </tr>\n",
       "  </thead>\n",
       "  <tbody>\n",
       "    <tr>\n",
       "      <th>0</th>\n",
       "      <td>mbdata</td>\n",
       "      <td>2014-01-23 17:00:00</td>\n",
       "      <td>POK</td>\n",
       "      <td>Follow us @POK-Kronos</td>\n",
       "      <td>NaN</td>\n",
       "      <td>NaN</td>\n",
       "      <td>NaN</td>\n",
       "    </tr>\n",
       "    <tr>\n",
       "      <th>33</th>\n",
       "      <td>mbdata</td>\n",
       "      <td>2014-01-23 17:02:31</td>\n",
       "      <td>POK</td>\n",
       "      <td>POK leader Sylvia Market taking the stage for ...</td>\n",
       "      <td>NaN</td>\n",
       "      <td>NaN</td>\n",
       "      <td>NaN</td>\n",
       "    </tr>\n",
       "    <tr>\n",
       "      <th>46</th>\n",
       "      <td>mbdata</td>\n",
       "      <td>2014-01-23 17:03:44</td>\n",
       "      <td>POK</td>\n",
       "      <td>Sylvia Marek is introducing the guests</td>\n",
       "      <td>NaN</td>\n",
       "      <td>NaN</td>\n",
       "      <td>NaN</td>\n",
       "    </tr>\n",
       "    <tr>\n",
       "      <th>96</th>\n",
       "      <td>mbdata</td>\n",
       "      <td>2014-01-23 17:10:00</td>\n",
       "      <td>POK</td>\n",
       "      <td>Show your support for the POK! Join us at the ...</td>\n",
       "      <td>NaN</td>\n",
       "      <td>NaN</td>\n",
       "      <td>NaN</td>\n",
       "    </tr>\n",
       "    <tr>\n",
       "      <th>120</th>\n",
       "      <td>mbdata</td>\n",
       "      <td>2014-01-23 17:11:02</td>\n",
       "      <td>POK</td>\n",
       "      <td>Special Guest at today's POK Rally in the Park...</td>\n",
       "      <td>NaN</td>\n",
       "      <td>NaN</td>\n",
       "      <td>NaN</td>\n",
       "    </tr>\n",
       "    <tr>\n",
       "      <th>...</th>\n",
       "      <td>...</td>\n",
       "      <td>...</td>\n",
       "      <td>...</td>\n",
       "      <td>...</td>\n",
       "      <td>...</td>\n",
       "      <td>...</td>\n",
       "      <td>...</td>\n",
       "    </tr>\n",
       "    <tr>\n",
       "      <th>1583</th>\n",
       "      <td>mbdata</td>\n",
       "      <td>2014-01-23 18:59:01</td>\n",
       "      <td>POK</td>\n",
       "      <td>Sylvia thanks all the speakers and the band</td>\n",
       "      <td>NaN</td>\n",
       "      <td>NaN</td>\n",
       "      <td>NaN</td>\n",
       "    </tr>\n",
       "    <tr>\n",
       "      <th>1633</th>\n",
       "      <td>mbdata</td>\n",
       "      <td>2014-01-23 19:02:00</td>\n",
       "      <td>POK</td>\n",
       "      <td>Photos of the POK Rally in the Park: POK.krono...</td>\n",
       "      <td>NaN</td>\n",
       "      <td>NaN</td>\n",
       "      <td>NaN</td>\n",
       "    </tr>\n",
       "    <tr>\n",
       "      <th>1676</th>\n",
       "      <td>mbdata</td>\n",
       "      <td>2014-01-23 19:03:48</td>\n",
       "      <td>POK</td>\n",
       "      <td>Sylvia reminds us all to make a difference eve...</td>\n",
       "      <td>NaN</td>\n",
       "      <td>NaN</td>\n",
       "      <td>NaN</td>\n",
       "    </tr>\n",
       "    <tr>\n",
       "      <th>1696</th>\n",
       "      <td>mbdata</td>\n",
       "      <td>2014-01-23 19:05:00</td>\n",
       "      <td>POK</td>\n",
       "      <td>Stay with us to hear Viktor-E play in the Abil...</td>\n",
       "      <td>NaN</td>\n",
       "      <td>NaN</td>\n",
       "      <td>NaN</td>\n",
       "    </tr>\n",
       "    <tr>\n",
       "      <th>1719</th>\n",
       "      <td>mbdata</td>\n",
       "      <td>2014-01-23 19:07:00</td>\n",
       "      <td>POK</td>\n",
       "      <td>Syvlia thanks everyone for coming out to suppo...</td>\n",
       "      <td>NaN</td>\n",
       "      <td>NaN</td>\n",
       "      <td>NaN</td>\n",
       "    </tr>\n",
       "  </tbody>\n",
       "</table>\n",
       "<p>67 rows × 7 columns</p>\n",
       "</div>"
      ],
      "text/plain": [
       "        type date(yyyyMMddHHmmss) author  \\\n",
       "0     mbdata  2014-01-23 17:00:00    POK   \n",
       "33    mbdata  2014-01-23 17:02:31    POK   \n",
       "46    mbdata  2014-01-23 17:03:44    POK   \n",
       "96    mbdata  2014-01-23 17:10:00    POK   \n",
       "120   mbdata  2014-01-23 17:11:02    POK   \n",
       "...      ...                  ...    ...   \n",
       "1583  mbdata  2014-01-23 18:59:01    POK   \n",
       "1633  mbdata  2014-01-23 19:02:00    POK   \n",
       "1676  mbdata  2014-01-23 19:03:48    POK   \n",
       "1696  mbdata  2014-01-23 19:05:00    POK   \n",
       "1719  mbdata  2014-01-23 19:07:00    POK   \n",
       "\n",
       "                                                message  latitude  longitude  \\\n",
       "0                                 Follow us @POK-Kronos       NaN        NaN   \n",
       "33    POK leader Sylvia Market taking the stage for ...       NaN        NaN   \n",
       "46               Sylvia Marek is introducing the guests       NaN        NaN   \n",
       "96    Show your support for the POK! Join us at the ...       NaN        NaN   \n",
       "120   Special Guest at today's POK Rally in the Park...       NaN        NaN   \n",
       "...                                                 ...       ...        ...   \n",
       "1583        Sylvia thanks all the speakers and the band       NaN        NaN   \n",
       "1633  Photos of the POK Rally in the Park: POK.krono...       NaN        NaN   \n",
       "1676  Sylvia reminds us all to make a difference eve...       NaN        NaN   \n",
       "1696  Stay with us to hear Viktor-E play in the Abil...       NaN        NaN   \n",
       "1719  Syvlia thanks everyone for coming out to suppo...       NaN        NaN   \n",
       "\n",
       "      location  \n",
       "0          NaN  \n",
       "33         NaN  \n",
       "46         NaN  \n",
       "96         NaN  \n",
       "120        NaN  \n",
       "...        ...  \n",
       "1583       NaN  \n",
       "1633       NaN  \n",
       "1676       NaN  \n",
       "1696       NaN  \n",
       "1719       NaN  \n",
       "\n",
       "[67 rows x 7 columns]"
      ]
     },
     "execution_count": 10,
     "metadata": {},
     "output_type": "execute_result"
    }
   ],
   "source": [
    "# it seems that POK is a legitimate source of POK news, although they don't seem to cover much other than the rally.\n",
    "df[df['author'] == 'POK']"
   ]
  },
  {
   "cell_type": "code",
   "execution_count": 11,
   "metadata": {},
   "outputs": [
    {
     "data": {
      "text/html": [
       "<div>\n",
       "<style scoped>\n",
       "    .dataframe tbody tr th:only-of-type {\n",
       "        vertical-align: middle;\n",
       "    }\n",
       "\n",
       "    .dataframe tbody tr th {\n",
       "        vertical-align: top;\n",
       "    }\n",
       "\n",
       "    .dataframe thead th {\n",
       "        text-align: right;\n",
       "    }\n",
       "</style>\n",
       "<table border=\"1\" class=\"dataframe\">\n",
       "  <thead>\n",
       "    <tr style=\"text-align: right;\">\n",
       "      <th></th>\n",
       "      <th>type</th>\n",
       "      <th>date(yyyyMMddHHmmss)</th>\n",
       "      <th>author</th>\n",
       "      <th>message</th>\n",
       "      <th>latitude</th>\n",
       "      <th>longitude</th>\n",
       "      <th>location</th>\n",
       "    </tr>\n",
       "  </thead>\n",
       "  <tbody>\n",
       "    <tr>\n",
       "      <th>1131</th>\n",
       "      <td>mbdata</td>\n",
       "      <td>2014-01-23 18:41:00</td>\n",
       "      <td>HomelandIlluminations</td>\n",
       "      <td>Reports coming  in of a building fire at Achil...</td>\n",
       "      <td>NaN</td>\n",
       "      <td>NaN</td>\n",
       "      <td>NaN</td>\n",
       "    </tr>\n",
       "    <tr>\n",
       "      <th>1182</th>\n",
       "      <td>mbdata</td>\n",
       "      <td>2014-01-23 18:44:00</td>\n",
       "      <td>HomelandIlluminations</td>\n",
       "      <td>Building fire at Achilleos and Madeg. Responde...</td>\n",
       "      <td>NaN</td>\n",
       "      <td>NaN</td>\n",
       "      <td>NaN</td>\n",
       "    </tr>\n",
       "    <tr>\n",
       "      <th>1212</th>\n",
       "      <td>mbdata</td>\n",
       "      <td>2014-01-23 18:45:00</td>\n",
       "      <td>HomelandIlluminations</td>\n",
       "      <td>Staff reporter en route to fire at Madeg. Repo...</td>\n",
       "      <td>NaN</td>\n",
       "      <td>NaN</td>\n",
       "      <td>NaN</td>\n",
       "    </tr>\n",
       "    <tr>\n",
       "      <th>1229</th>\n",
       "      <td>mbdata</td>\n",
       "      <td>2014-01-23 18:45:22</td>\n",
       "      <td>HomelandIlluminations</td>\n",
       "      <td>Smoke from first two floors of Dancing Dolphin...</td>\n",
       "      <td>NaN</td>\n",
       "      <td>NaN</td>\n",
       "      <td>NaN</td>\n",
       "    </tr>\n",
       "    <tr>\n",
       "      <th>1237</th>\n",
       "      <td>mbdata</td>\n",
       "      <td>2014-01-23 18:45:31</td>\n",
       "      <td>HomelandIlluminations</td>\n",
       "      <td>Homeland Illumation on site.  Flames visible f...</td>\n",
       "      <td>NaN</td>\n",
       "      <td>NaN</td>\n",
       "      <td>NaN</td>\n",
       "    </tr>\n",
       "    <tr>\n",
       "      <th>...</th>\n",
       "      <td>...</td>\n",
       "      <td>...</td>\n",
       "      <td>...</td>\n",
       "      <td>...</td>\n",
       "      <td>...</td>\n",
       "      <td>...</td>\n",
       "      <td>...</td>\n",
       "    </tr>\n",
       "    <tr>\n",
       "      <th>3534</th>\n",
       "      <td>mbdata</td>\n",
       "      <td>2014-01-23 20:45:00</td>\n",
       "      <td>HomelandIlluminations</td>\n",
       "      <td>Additional units have arrived at Dancing Dophi...</td>\n",
       "      <td>NaN</td>\n",
       "      <td>NaN</td>\n",
       "      <td>NaN</td>\n",
       "    </tr>\n",
       "    <tr>\n",
       "      <th>3594</th>\n",
       "      <td>mbdata</td>\n",
       "      <td>2014-01-23 20:50:00</td>\n",
       "      <td>HomelandIlluminations</td>\n",
       "      <td>Fire officials have begun control measures on ...</td>\n",
       "      <td>NaN</td>\n",
       "      <td>NaN</td>\n",
       "      <td>NaN</td>\n",
       "    </tr>\n",
       "    <tr>\n",
       "      <th>3815</th>\n",
       "      <td>mbdata</td>\n",
       "      <td>2014-01-23 21:15:00</td>\n",
       "      <td>HomelandIlluminations</td>\n",
       "      <td>Fire officials still on site, report fire is u...</td>\n",
       "      <td>NaN</td>\n",
       "      <td>NaN</td>\n",
       "      <td>NaN</td>\n",
       "    </tr>\n",
       "    <tr>\n",
       "      <th>3918</th>\n",
       "      <td>mbdata</td>\n",
       "      <td>2014-01-23 21:22:00</td>\n",
       "      <td>HomelandIlluminations</td>\n",
       "      <td>Officials report fire is controlled.  No word ...</td>\n",
       "      <td>NaN</td>\n",
       "      <td>NaN</td>\n",
       "      <td>NaN</td>\n",
       "    </tr>\n",
       "    <tr>\n",
       "      <th>4035</th>\n",
       "      <td>mbdata</td>\n",
       "      <td>2014-01-23 21:30:00</td>\n",
       "      <td>HomelandIlluminations</td>\n",
       "      <td>Explosions reported from site of Dancing Dolph...</td>\n",
       "      <td>NaN</td>\n",
       "      <td>NaN</td>\n",
       "      <td>NaN</td>\n",
       "    </tr>\n",
       "  </tbody>\n",
       "</table>\n",
       "<p>65 rows × 7 columns</p>\n",
       "</div>"
      ],
      "text/plain": [
       "        type date(yyyyMMddHHmmss)                 author  \\\n",
       "1131  mbdata  2014-01-23 18:41:00  HomelandIlluminations   \n",
       "1182  mbdata  2014-01-23 18:44:00  HomelandIlluminations   \n",
       "1212  mbdata  2014-01-23 18:45:00  HomelandIlluminations   \n",
       "1229  mbdata  2014-01-23 18:45:22  HomelandIlluminations   \n",
       "1237  mbdata  2014-01-23 18:45:31  HomelandIlluminations   \n",
       "...      ...                  ...                    ...   \n",
       "3534  mbdata  2014-01-23 20:45:00  HomelandIlluminations   \n",
       "3594  mbdata  2014-01-23 20:50:00  HomelandIlluminations   \n",
       "3815  mbdata  2014-01-23 21:15:00  HomelandIlluminations   \n",
       "3918  mbdata  2014-01-23 21:22:00  HomelandIlluminations   \n",
       "4035  mbdata  2014-01-23 21:30:00  HomelandIlluminations   \n",
       "\n",
       "                                                message  latitude  longitude  \\\n",
       "1131  Reports coming  in of a building fire at Achil...       NaN        NaN   \n",
       "1182  Building fire at Achilleos and Madeg. Responde...       NaN        NaN   \n",
       "1212  Staff reporter en route to fire at Madeg. Repo...       NaN        NaN   \n",
       "1229  Smoke from first two floors of Dancing Dolphin...       NaN        NaN   \n",
       "1237  Homeland Illumation on site.  Flames visible f...       NaN        NaN   \n",
       "...                                                 ...       ...        ...   \n",
       "3534  Additional units have arrived at Dancing Dophi...       NaN        NaN   \n",
       "3594  Fire officials have begun control measures on ...       NaN        NaN   \n",
       "3815  Fire officials still on site, report fire is u...       NaN        NaN   \n",
       "3918  Officials report fire is controlled.  No word ...       NaN        NaN   \n",
       "4035  Explosions reported from site of Dancing Dolph...       NaN        NaN   \n",
       "\n",
       "      location  \n",
       "1131       NaN  \n",
       "1182       NaN  \n",
       "1212       NaN  \n",
       "1229       NaN  \n",
       "1237       NaN  \n",
       "...        ...  \n",
       "3534       NaN  \n",
       "3594       NaN  \n",
       "3815       NaN  \n",
       "3918       NaN  \n",
       "4035       NaN  \n",
       "\n",
       "[65 rows x 7 columns]"
      ]
     },
     "execution_count": 11,
     "metadata": {},
     "output_type": "execute_result"
    }
   ],
   "source": [
    "# seems like another news source\n",
    "df[df['author'] == 'HomelandIlluminations']"
   ]
  },
  {
   "cell_type": "code",
   "execution_count": 12,
   "metadata": {},
   "outputs": [
    {
     "data": {
      "text/html": [
       "<div>\n",
       "<style scoped>\n",
       "    .dataframe tbody tr th:only-of-type {\n",
       "        vertical-align: middle;\n",
       "    }\n",
       "\n",
       "    .dataframe tbody tr th {\n",
       "        vertical-align: top;\n",
       "    }\n",
       "\n",
       "    .dataframe thead th {\n",
       "        text-align: right;\n",
       "    }\n",
       "</style>\n",
       "<table border=\"1\" class=\"dataframe\">\n",
       "  <thead>\n",
       "    <tr style=\"text-align: right;\">\n",
       "      <th></th>\n",
       "      <th>type</th>\n",
       "      <th>date(yyyyMMddHHmmss)</th>\n",
       "      <th>author</th>\n",
       "      <th>message</th>\n",
       "      <th>latitude</th>\n",
       "      <th>longitude</th>\n",
       "      <th>location</th>\n",
       "    </tr>\n",
       "  </thead>\n",
       "  <tbody>\n",
       "    <tr>\n",
       "      <th>105</th>\n",
       "      <td>mbdata</td>\n",
       "      <td>2014-01-23 17:10:00</td>\n",
       "      <td>truccotrucco</td>\n",
       "      <td>rally time! ready for some inspiration #POK</td>\n",
       "      <td>36.052</td>\n",
       "      <td>24.852</td>\n",
       "      <td>NaN</td>\n",
       "    </tr>\n",
       "    <tr>\n",
       "      <th>207</th>\n",
       "      <td>mbdata</td>\n",
       "      <td>2014-01-23 17:16:00</td>\n",
       "      <td>truccotrucco</td>\n",
       "      <td>Sylvia rocks! you go girl #POKRally</td>\n",
       "      <td>36.052</td>\n",
       "      <td>24.852</td>\n",
       "      <td>NaN</td>\n",
       "    </tr>\n",
       "    <tr>\n",
       "      <th>233</th>\n",
       "      <td>mbdata</td>\n",
       "      <td>2014-01-23 17:18:00</td>\n",
       "      <td>truccotrucco</td>\n",
       "      <td>gotta be 3000 people here! #POK is strong</td>\n",
       "      <td>36.052</td>\n",
       "      <td>24.852</td>\n",
       "      <td>NaN</td>\n",
       "    </tr>\n",
       "    <tr>\n",
       "      <th>276</th>\n",
       "      <td>mbdata</td>\n",
       "      <td>2014-01-23 17:21:00</td>\n",
       "      <td>truccotrucco</td>\n",
       "      <td>lots of cops but they cant stop us #POK</td>\n",
       "      <td>36.052</td>\n",
       "      <td>24.852</td>\n",
       "      <td>NaN</td>\n",
       "    </tr>\n",
       "    <tr>\n",
       "      <th>296</th>\n",
       "      <td>mbdata</td>\n",
       "      <td>2014-01-23 17:22:47</td>\n",
       "      <td>truccotrucco</td>\n",
       "      <td>Lucio Jakab tells it like it is #POK #SOW</td>\n",
       "      <td>36.052</td>\n",
       "      <td>24.852</td>\n",
       "      <td>NaN</td>\n",
       "    </tr>\n",
       "    <tr>\n",
       "      <th>...</th>\n",
       "      <td>...</td>\n",
       "      <td>...</td>\n",
       "      <td>...</td>\n",
       "      <td>...</td>\n",
       "      <td>...</td>\n",
       "      <td>...</td>\n",
       "      <td>...</td>\n",
       "    </tr>\n",
       "    <tr>\n",
       "      <th>3848</th>\n",
       "      <td>mbdata</td>\n",
       "      <td>2014-01-23 21:17:11</td>\n",
       "      <td>truccotrucco</td>\n",
       "      <td>everybody's safe cops got the bad guys and the...</td>\n",
       "      <td>36.059</td>\n",
       "      <td>24.856</td>\n",
       "      <td>NaN</td>\n",
       "    </tr>\n",
       "    <tr>\n",
       "      <th>3869</th>\n",
       "      <td>mbdata</td>\n",
       "      <td>2014-01-23 21:19:03</td>\n",
       "      <td>truccotrucco</td>\n",
       "      <td>therye letting us goo finallly! im still shaki...</td>\n",
       "      <td>36.059</td>\n",
       "      <td>24.856</td>\n",
       "      <td>NaN</td>\n",
       "    </tr>\n",
       "    <tr>\n",
       "      <th>3889</th>\n",
       "      <td>mbdata</td>\n",
       "      <td>2014-01-23 21:20:50</td>\n",
       "      <td>truccotrucco</td>\n",
       "      <td>tahnks to APD standoff is over! #APDheroes</td>\n",
       "      <td>36.059</td>\n",
       "      <td>24.856</td>\n",
       "      <td>NaN</td>\n",
       "    </tr>\n",
       "    <tr>\n",
       "      <th>3901</th>\n",
       "      <td>mbdata</td>\n",
       "      <td>2014-01-23 21:21:11</td>\n",
       "      <td>truccotrucco</td>\n",
       "      <td>cant belive it a peaceful ending after a shoot...</td>\n",
       "      <td>36.059</td>\n",
       "      <td>24.856</td>\n",
       "      <td>NaN</td>\n",
       "    </tr>\n",
       "    <tr>\n",
       "      <th>3920</th>\n",
       "      <td>mbdata</td>\n",
       "      <td>2014-01-23 21:22:00</td>\n",
       "      <td>truccotrucco</td>\n",
       "      <td>can anybody give me ride? #stillshaking</td>\n",
       "      <td>36.059</td>\n",
       "      <td>24.856</td>\n",
       "      <td>NaN</td>\n",
       "    </tr>\n",
       "  </tbody>\n",
       "</table>\n",
       "<p>64 rows × 7 columns</p>\n",
       "</div>"
      ],
      "text/plain": [
       "        type date(yyyyMMddHHmmss)        author  \\\n",
       "105   mbdata  2014-01-23 17:10:00  truccotrucco   \n",
       "207   mbdata  2014-01-23 17:16:00  truccotrucco   \n",
       "233   mbdata  2014-01-23 17:18:00  truccotrucco   \n",
       "276   mbdata  2014-01-23 17:21:00  truccotrucco   \n",
       "296   mbdata  2014-01-23 17:22:47  truccotrucco   \n",
       "...      ...                  ...           ...   \n",
       "3848  mbdata  2014-01-23 21:17:11  truccotrucco   \n",
       "3869  mbdata  2014-01-23 21:19:03  truccotrucco   \n",
       "3889  mbdata  2014-01-23 21:20:50  truccotrucco   \n",
       "3901  mbdata  2014-01-23 21:21:11  truccotrucco   \n",
       "3920  mbdata  2014-01-23 21:22:00  truccotrucco   \n",
       "\n",
       "                                                message  latitude  longitude  \\\n",
       "105         rally time! ready for some inspiration #POK    36.052     24.852   \n",
       "207                 Sylvia rocks! you go girl #POKRally    36.052     24.852   \n",
       "233           gotta be 3000 people here! #POK is strong    36.052     24.852   \n",
       "276             lots of cops but they cant stop us #POK    36.052     24.852   \n",
       "296           Lucio Jakab tells it like it is #POK #SOW    36.052     24.852   \n",
       "...                                                 ...       ...        ...   \n",
       "3848  everybody's safe cops got the bad guys and the...    36.059     24.856   \n",
       "3869  therye letting us goo finallly! im still shaki...    36.059     24.856   \n",
       "3889         tahnks to APD standoff is over! #APDheroes    36.059     24.856   \n",
       "3901  cant belive it a peaceful ending after a shoot...    36.059     24.856   \n",
       "3920            can anybody give me ride? #stillshaking    36.059     24.856   \n",
       "\n",
       "      location  \n",
       "105        NaN  \n",
       "207        NaN  \n",
       "233        NaN  \n",
       "276        NaN  \n",
       "296        NaN  \n",
       "...        ...  \n",
       "3848       NaN  \n",
       "3869       NaN  \n",
       "3889       NaN  \n",
       "3901       NaN  \n",
       "3920       NaN  \n",
       "\n",
       "[64 rows x 7 columns]"
      ]
     },
     "execution_count": 12,
     "metadata": {},
     "output_type": "execute_result"
    }
   ],
   "source": [
    "# seems like another person on the scene, even though they had grammatical errors\n",
    "df[df['author'] == 'truccotrucco']"
   ]
  },
  {
   "cell_type": "code",
   "execution_count": 13,
   "metadata": {},
   "outputs": [
    {
     "data": {
      "text/html": [
       "<div>\n",
       "<style scoped>\n",
       "    .dataframe tbody tr th:only-of-type {\n",
       "        vertical-align: middle;\n",
       "    }\n",
       "\n",
       "    .dataframe tbody tr th {\n",
       "        vertical-align: top;\n",
       "    }\n",
       "\n",
       "    .dataframe thead th {\n",
       "        text-align: right;\n",
       "    }\n",
       "</style>\n",
       "<table border=\"1\" class=\"dataframe\">\n",
       "  <thead>\n",
       "    <tr style=\"text-align: right;\">\n",
       "      <th></th>\n",
       "      <th>type</th>\n",
       "      <th>date(yyyyMMddHHmmss)</th>\n",
       "      <th>author</th>\n",
       "      <th>message</th>\n",
       "      <th>latitude</th>\n",
       "      <th>longitude</th>\n",
       "      <th>location</th>\n",
       "    </tr>\n",
       "  </thead>\n",
       "  <tbody>\n",
       "    <tr>\n",
       "      <th>8</th>\n",
       "      <td>mbdata</td>\n",
       "      <td>2014-01-23 17:00:00</td>\n",
       "      <td>FriendsOfKronos</td>\n",
       "      <td>massive rally of POK terrorists - cops are gat...</td>\n",
       "      <td>NaN</td>\n",
       "      <td>NaN</td>\n",
       "      <td>NaN</td>\n",
       "    </tr>\n",
       "    <tr>\n",
       "      <th>49</th>\n",
       "      <td>mbdata</td>\n",
       "      <td>2014-01-23 17:03:44</td>\n",
       "      <td>FriendsOfKronos</td>\n",
       "      <td>how long until POK terrorists start destroying...</td>\n",
       "      <td>NaN</td>\n",
       "      <td>NaN</td>\n",
       "      <td>NaN</td>\n",
       "    </tr>\n",
       "    <tr>\n",
       "      <th>122</th>\n",
       "      <td>mbdata</td>\n",
       "      <td>2014-01-23 17:11:02</td>\n",
       "      <td>FriendsOfKronos</td>\n",
       "      <td>terrorist leader Sylvia Marek tring to greenwa...</td>\n",
       "      <td>NaN</td>\n",
       "      <td>NaN</td>\n",
       "      <td>NaN</td>\n",
       "    </tr>\n",
       "    <tr>\n",
       "      <th>133</th>\n",
       "      <td>mbdata</td>\n",
       "      <td>2014-01-23 17:11:59</td>\n",
       "      <td>FriendsOfKronos</td>\n",
       "      <td>another POK riot waiting to happend</td>\n",
       "      <td>NaN</td>\n",
       "      <td>NaN</td>\n",
       "      <td>NaN</td>\n",
       "    </tr>\n",
       "    <tr>\n",
       "      <th>172</th>\n",
       "      <td>mbdata</td>\n",
       "      <td>2014-01-23 17:14:47</td>\n",
       "      <td>FriendsOfKronos</td>\n",
       "      <td>what legitimate speaker would ally themself wi...</td>\n",
       "      <td>NaN</td>\n",
       "      <td>NaN</td>\n",
       "      <td>NaN</td>\n",
       "    </tr>\n",
       "    <tr>\n",
       "      <th>...</th>\n",
       "      <td>...</td>\n",
       "      <td>...</td>\n",
       "      <td>...</td>\n",
       "      <td>...</td>\n",
       "      <td>...</td>\n",
       "      <td>...</td>\n",
       "      <td>...</td>\n",
       "    </tr>\n",
       "    <tr>\n",
       "      <th>3902</th>\n",
       "      <td>mbdata</td>\n",
       "      <td>2014-01-23 21:21:11</td>\n",
       "      <td>FriendsOfKronos</td>\n",
       "      <td>one male one female terrorist surrender #POK</td>\n",
       "      <td>NaN</td>\n",
       "      <td>NaN</td>\n",
       "      <td>NaN</td>\n",
       "    </tr>\n",
       "    <tr>\n",
       "      <th>3914</th>\n",
       "      <td>mbdata</td>\n",
       "      <td>2014-01-23 21:21:39</td>\n",
       "      <td>FriendsOfKronos</td>\n",
       "      <td>great work APD you negotiated with terrorists ...</td>\n",
       "      <td>NaN</td>\n",
       "      <td>NaN</td>\n",
       "      <td>NaN</td>\n",
       "    </tr>\n",
       "    <tr>\n",
       "      <th>3937</th>\n",
       "      <td>mbdata</td>\n",
       "      <td>2014-01-23 21:23:03</td>\n",
       "      <td>FriendsOfKronos</td>\n",
       "      <td>stand off with POK terrorists ends without mor...</td>\n",
       "      <td>NaN</td>\n",
       "      <td>NaN</td>\n",
       "      <td>NaN</td>\n",
       "    </tr>\n",
       "    <tr>\n",
       "      <th>3948</th>\n",
       "      <td>mbdata</td>\n",
       "      <td>2014-01-23 21:23:34</td>\n",
       "      <td>FriendsOfKronos</td>\n",
       "      <td>suspects? terrorists names have not been relea...</td>\n",
       "      <td>NaN</td>\n",
       "      <td>NaN</td>\n",
       "      <td>NaN</td>\n",
       "    </tr>\n",
       "    <tr>\n",
       "      <th>3968</th>\n",
       "      <td>mbdata</td>\n",
       "      <td>2014-01-23 21:24:13</td>\n",
       "      <td>FriendsOfKronos</td>\n",
       "      <td>APD wont release names bet you i can guess the...</td>\n",
       "      <td>NaN</td>\n",
       "      <td>NaN</td>\n",
       "      <td>NaN</td>\n",
       "    </tr>\n",
       "  </tbody>\n",
       "</table>\n",
       "<p>63 rows × 7 columns</p>\n",
       "</div>"
      ],
      "text/plain": [
       "        type date(yyyyMMddHHmmss)           author  \\\n",
       "8     mbdata  2014-01-23 17:00:00  FriendsOfKronos   \n",
       "49    mbdata  2014-01-23 17:03:44  FriendsOfKronos   \n",
       "122   mbdata  2014-01-23 17:11:02  FriendsOfKronos   \n",
       "133   mbdata  2014-01-23 17:11:59  FriendsOfKronos   \n",
       "172   mbdata  2014-01-23 17:14:47  FriendsOfKronos   \n",
       "...      ...                  ...              ...   \n",
       "3902  mbdata  2014-01-23 21:21:11  FriendsOfKronos   \n",
       "3914  mbdata  2014-01-23 21:21:39  FriendsOfKronos   \n",
       "3937  mbdata  2014-01-23 21:23:03  FriendsOfKronos   \n",
       "3948  mbdata  2014-01-23 21:23:34  FriendsOfKronos   \n",
       "3968  mbdata  2014-01-23 21:24:13  FriendsOfKronos   \n",
       "\n",
       "                                                message  latitude  longitude  \\\n",
       "8     massive rally of POK terrorists - cops are gat...       NaN        NaN   \n",
       "49    how long until POK terrorists start destroying...       NaN        NaN   \n",
       "122   terrorist leader Sylvia Marek tring to greenwa...       NaN        NaN   \n",
       "133                 another POK riot waiting to happend       NaN        NaN   \n",
       "172   what legitimate speaker would ally themself wi...       NaN        NaN   \n",
       "...                                                 ...       ...        ...   \n",
       "3902       one male one female terrorist surrender #POK       NaN        NaN   \n",
       "3914  great work APD you negotiated with terrorists ...       NaN        NaN   \n",
       "3937  stand off with POK terrorists ends without mor...       NaN        NaN   \n",
       "3948  suspects? terrorists names have not been relea...       NaN        NaN   \n",
       "3968  APD wont release names bet you i can guess the...       NaN        NaN   \n",
       "\n",
       "      location  \n",
       "8          NaN  \n",
       "49         NaN  \n",
       "122        NaN  \n",
       "133        NaN  \n",
       "172        NaN  \n",
       "...        ...  \n",
       "3902       NaN  \n",
       "3914       NaN  \n",
       "3937       NaN  \n",
       "3948       NaN  \n",
       "3968       NaN  \n",
       "\n",
       "[63 rows x 7 columns]"
      ]
     },
     "execution_count": 13,
     "metadata": {},
     "output_type": "execute_result"
    }
   ],
   "source": [
    "# seems quite biased, although maybe reported properly\n",
    "df[df['author'] == 'FriendsOfKronos']"
   ]
  },
  {
   "cell_type": "code",
   "execution_count": 14,
   "metadata": {},
   "outputs": [
    {
     "data": {
      "text/html": [
       "<div>\n",
       "<style scoped>\n",
       "    .dataframe tbody tr th:only-of-type {\n",
       "        vertical-align: middle;\n",
       "    }\n",
       "\n",
       "    .dataframe tbody tr th {\n",
       "        vertical-align: top;\n",
       "    }\n",
       "\n",
       "    .dataframe thead th {\n",
       "        text-align: right;\n",
       "    }\n",
       "</style>\n",
       "<table border=\"1\" class=\"dataframe\">\n",
       "  <thead>\n",
       "    <tr style=\"text-align: right;\">\n",
       "      <th></th>\n",
       "      <th>type</th>\n",
       "      <th>date(yyyyMMddHHmmss)</th>\n",
       "      <th>author</th>\n",
       "      <th>message</th>\n",
       "      <th>latitude</th>\n",
       "      <th>longitude</th>\n",
       "      <th>location</th>\n",
       "    </tr>\n",
       "  </thead>\n",
       "  <tbody>\n",
       "    <tr>\n",
       "      <th>48</th>\n",
       "      <td>mbdata</td>\n",
       "      <td>2014-01-23 17:03:44</td>\n",
       "      <td>choconibbs</td>\n",
       "      <td>Marek - Terrorist introducing more terrorists ...</td>\n",
       "      <td>NaN</td>\n",
       "      <td>NaN</td>\n",
       "      <td>NaN</td>\n",
       "    </tr>\n",
       "    <tr>\n",
       "      <th>102</th>\n",
       "      <td>mbdata</td>\n",
       "      <td>2014-01-23 17:10:00</td>\n",
       "      <td>choconibbs</td>\n",
       "      <td>Lovely words - ugly person #POKRally</td>\n",
       "      <td>NaN</td>\n",
       "      <td>NaN</td>\n",
       "      <td>NaN</td>\n",
       "    </tr>\n",
       "    <tr>\n",
       "      <th>121</th>\n",
       "      <td>mbdata</td>\n",
       "      <td>2014-01-23 17:11:02</td>\n",
       "      <td>choconibbs</td>\n",
       "      <td>Our special guests al-Zawahiri...  #POKlove</td>\n",
       "      <td>NaN</td>\n",
       "      <td>NaN</td>\n",
       "      <td>NaN</td>\n",
       "    </tr>\n",
       "    <tr>\n",
       "      <th>130</th>\n",
       "      <td>mbdata</td>\n",
       "      <td>2014-01-23 17:11:53</td>\n",
       "      <td>choconibbs</td>\n",
       "      <td>\"Dr Death and Lucio Anarchy\"\" #POKlove\"\"</td>\n",
       "      <td>NaN</td>\n",
       "      <td>NaN</td>\n",
       "      <td>NaN</td>\n",
       "    </tr>\n",
       "    <tr>\n",
       "      <th>153</th>\n",
       "      <td>mbdata</td>\n",
       "      <td>2014-01-23 17:13:01</td>\n",
       "      <td>choconibbs</td>\n",
       "      <td>POK trying to give an aura of cred - while kid...</td>\n",
       "      <td>NaN</td>\n",
       "      <td>NaN</td>\n",
       "      <td>NaN</td>\n",
       "    </tr>\n",
       "    <tr>\n",
       "      <th>186</th>\n",
       "      <td>mbdata</td>\n",
       "      <td>2014-01-23 17:15:13</td>\n",
       "      <td>choconibbs</td>\n",
       "      <td>Lucio loves an army of the mindless followers ...</td>\n",
       "      <td>NaN</td>\n",
       "      <td>NaN</td>\n",
       "      <td>NaN</td>\n",
       "    </tr>\n",
       "    <tr>\n",
       "      <th>205</th>\n",
       "      <td>mbdata</td>\n",
       "      <td>2014-01-23 17:16:00</td>\n",
       "      <td>choconibbs</td>\n",
       "      <td>Blather-blather-blather #Lucio #POKRally</td>\n",
       "      <td>NaN</td>\n",
       "      <td>NaN</td>\n",
       "      <td>NaN</td>\n",
       "    </tr>\n",
       "    <tr>\n",
       "      <th>231</th>\n",
       "      <td>mbdata</td>\n",
       "      <td>2014-01-23 17:18:00</td>\n",
       "      <td>choconibbs</td>\n",
       "      <td>\"Look to crime and anarchy for fulfillment\"\" #...</td>\n",
       "      <td>NaN</td>\n",
       "      <td>NaN</td>\n",
       "      <td>NaN</td>\n",
       "    </tr>\n",
       "    <tr>\n",
       "      <th>246</th>\n",
       "      <td>mbdata</td>\n",
       "      <td>2014-01-23 17:18:44</td>\n",
       "      <td>choconibbs</td>\n",
       "      <td>@Art  They're kidnappers and probably murders ...</td>\n",
       "      <td>NaN</td>\n",
       "      <td>NaN</td>\n",
       "      <td>NaN</td>\n",
       "    </tr>\n",
       "    <tr>\n",
       "      <th>254</th>\n",
       "      <td>mbdata</td>\n",
       "      <td>2014-01-23 17:19:00</td>\n",
       "      <td>choconibbs</td>\n",
       "      <td>Note to APD: save time and arrest them all now...</td>\n",
       "      <td>NaN</td>\n",
       "      <td>NaN</td>\n",
       "      <td>NaN</td>\n",
       "    </tr>\n",
       "    <tr>\n",
       "      <th>262</th>\n",
       "      <td>mbdata</td>\n",
       "      <td>2014-01-23 17:20:00</td>\n",
       "      <td>choconibbs</td>\n",
       "      <td>IT just doesn't get better than this #blather ...</td>\n",
       "      <td>NaN</td>\n",
       "      <td>NaN</td>\n",
       "      <td>NaN</td>\n",
       "    </tr>\n",
       "    <tr>\n",
       "      <th>289</th>\n",
       "      <td>mbdata</td>\n",
       "      <td>2014-01-23 17:22:00</td>\n",
       "      <td>choconibbs</td>\n",
       "      <td>Send photos of the speakers @APD for their top...</td>\n",
       "      <td>NaN</td>\n",
       "      <td>NaN</td>\n",
       "      <td>NaN</td>\n",
       "    </tr>\n",
       "    <tr>\n",
       "      <th>306</th>\n",
       "      <td>mbdata</td>\n",
       "      <td>2014-01-23 17:23:22</td>\n",
       "      <td>choconibbs</td>\n",
       "      <td>Hey Jacob - hows the quality of life of the PO...</td>\n",
       "      <td>NaN</td>\n",
       "      <td>NaN</td>\n",
       "      <td>NaN</td>\n",
       "    </tr>\n",
       "    <tr>\n",
       "      <th>324</th>\n",
       "      <td>mbdata</td>\n",
       "      <td>2014-01-23 17:24:31</td>\n",
       "      <td>choconibbs</td>\n",
       "      <td>Where is the sign saying \"\"We snatched them!\"\"...</td>\n",
       "      <td>NaN</td>\n",
       "      <td>NaN</td>\n",
       "      <td>NaN</td>\n",
       "    </tr>\n",
       "    <tr>\n",
       "      <th>334</th>\n",
       "      <td>mbdata</td>\n",
       "      <td>2014-01-23 17:25:00</td>\n",
       "      <td>choconibbs</td>\n",
       "      <td>How many millions you want from their families...</td>\n",
       "      <td>NaN</td>\n",
       "      <td>NaN</td>\n",
       "      <td>NaN</td>\n",
       "    </tr>\n",
       "    <tr>\n",
       "      <th>340</th>\n",
       "      <td>mbdata</td>\n",
       "      <td>2014-01-23 17:25:09</td>\n",
       "      <td>choconibbs</td>\n",
       "      <td>@TomaToma Yeah? Who else you think did it?</td>\n",
       "      <td>NaN</td>\n",
       "      <td>NaN</td>\n",
       "      <td>NaN</td>\n",
       "    </tr>\n",
       "    <tr>\n",
       "      <th>341</th>\n",
       "      <td>mbdata</td>\n",
       "      <td>2014-01-23 17:25:25</td>\n",
       "      <td>choconibbs</td>\n",
       "      <td>@Sara people first; environment second</td>\n",
       "      <td>NaN</td>\n",
       "      <td>NaN</td>\n",
       "      <td>NaN</td>\n",
       "    </tr>\n",
       "    <tr>\n",
       "      <th>347</th>\n",
       "      <td>mbdata</td>\n",
       "      <td>2014-01-23 17:25:34</td>\n",
       "      <td>choconibbs</td>\n",
       "      <td>@POKPOKPOK Anarchist!</td>\n",
       "      <td>NaN</td>\n",
       "      <td>NaN</td>\n",
       "      <td>NaN</td>\n",
       "    </tr>\n",
       "    <tr>\n",
       "      <th>351</th>\n",
       "      <td>mbdata</td>\n",
       "      <td>2014-01-23 17:25:45</td>\n",
       "      <td>choconibbs</td>\n",
       "      <td>Waiting for the next criminal to appear #POKRally</td>\n",
       "      <td>NaN</td>\n",
       "      <td>NaN</td>\n",
       "      <td>NaN</td>\n",
       "    </tr>\n",
       "    <tr>\n",
       "      <th>355</th>\n",
       "      <td>mbdata</td>\n",
       "      <td>2014-01-23 17:25:51</td>\n",
       "      <td>choconibbs</td>\n",
       "      <td>@TomaToma kidnapping is a crime #fact #POKRally</td>\n",
       "      <td>NaN</td>\n",
       "      <td>NaN</td>\n",
       "      <td>NaN</td>\n",
       "    </tr>\n",
       "    <tr>\n",
       "      <th>369</th>\n",
       "      <td>mbdata</td>\n",
       "      <td>2014-01-23 17:26:37</td>\n",
       "      <td>choconibbs</td>\n",
       "      <td>Look at the jewlry on Viktor-Tree!  He doesn't...</td>\n",
       "      <td>NaN</td>\n",
       "      <td>NaN</td>\n",
       "      <td>NaN</td>\n",
       "    </tr>\n",
       "    <tr>\n",
       "      <th>372</th>\n",
       "      <td>mbdata</td>\n",
       "      <td>2014-01-23 17:26:42</td>\n",
       "      <td>choconibbs</td>\n",
       "      <td>@TomaToma Don't believe me - research it yours...</td>\n",
       "      <td>NaN</td>\n",
       "      <td>NaN</td>\n",
       "      <td>NaN</td>\n",
       "    </tr>\n",
       "    <tr>\n",
       "      <th>385</th>\n",
       "      <td>mbdata</td>\n",
       "      <td>2014-01-23 17:27:00</td>\n",
       "      <td>choconibbs</td>\n",
       "      <td>Viktor-Tree - a heart of gold (extorted from o...</td>\n",
       "      <td>NaN</td>\n",
       "      <td>NaN</td>\n",
       "      <td>NaN</td>\n",
       "    </tr>\n",
       "    <tr>\n",
       "      <th>396</th>\n",
       "      <td>mbdata</td>\n",
       "      <td>2014-01-23 17:27:31</td>\n",
       "      <td>choconibbs</td>\n",
       "      <td>I take that back - a heart of sap -- this song...</td>\n",
       "      <td>NaN</td>\n",
       "      <td>NaN</td>\n",
       "      <td>NaN</td>\n",
       "    </tr>\n",
       "    <tr>\n",
       "      <th>416</th>\n",
       "      <td>mbdata</td>\n",
       "      <td>2014-01-23 17:28:02</td>\n",
       "      <td>choconibbs</td>\n",
       "      <td>My dog is howling better than ViktorTree at #P...</td>\n",
       "      <td>NaN</td>\n",
       "      <td>NaN</td>\n",
       "      <td>NaN</td>\n",
       "    </tr>\n",
       "    <tr>\n",
       "      <th>419</th>\n",
       "      <td>mbdata</td>\n",
       "      <td>2014-01-23 17:28:08</td>\n",
       "      <td>choconibbs</td>\n",
       "      <td>Shoot me now... the police should arrest them ...</td>\n",
       "      <td>NaN</td>\n",
       "      <td>NaN</td>\n",
       "      <td>NaN</td>\n",
       "    </tr>\n",
       "    <tr>\n",
       "      <th>421</th>\n",
       "      <td>mbdata</td>\n",
       "      <td>2014-01-23 17:28:21</td>\n",
       "      <td>choconibbs</td>\n",
       "      <td>Almost enough police here now to take them all...</td>\n",
       "      <td>NaN</td>\n",
       "      <td>NaN</td>\n",
       "      <td>NaN</td>\n",
       "    </tr>\n",
       "    <tr>\n",
       "      <th>430</th>\n",
       "      <td>mbdata</td>\n",
       "      <td>2014-01-23 17:28:50</td>\n",
       "      <td>choconibbs</td>\n",
       "      <td>Sorry Flits- I can't handle any more of this #...</td>\n",
       "      <td>NaN</td>\n",
       "      <td>NaN</td>\n",
       "      <td>NaN</td>\n",
       "    </tr>\n",
       "    <tr>\n",
       "      <th>435</th>\n",
       "      <td>mbdata</td>\n",
       "      <td>2014-01-23 17:29:00</td>\n",
       "      <td>choconibbs</td>\n",
       "      <td>Gotta walk by here later Maybe I'll catch the ...</td>\n",
       "      <td>NaN</td>\n",
       "      <td>NaN</td>\n",
       "      <td>NaN</td>\n",
       "    </tr>\n",
       "    <tr>\n",
       "      <th>762</th>\n",
       "      <td>mbdata</td>\n",
       "      <td>2014-01-23 18:04:01</td>\n",
       "      <td>choconibbs</td>\n",
       "      <td>Back at the #POKLiesinthePark #POKRallyinthePark</td>\n",
       "      <td>NaN</td>\n",
       "      <td>NaN</td>\n",
       "      <td>NaN</td>\n",
       "    </tr>\n",
       "    <tr>\n",
       "      <th>770</th>\n",
       "      <td>mbdata</td>\n",
       "      <td>2014-01-23 18:04:30</td>\n",
       "      <td>choconibbs</td>\n",
       "      <td>Dr D'Strange-o talking to a bunch of glassy ey...</td>\n",
       "      <td>NaN</td>\n",
       "      <td>NaN</td>\n",
       "      <td>NaN</td>\n",
       "    </tr>\n",
       "    <tr>\n",
       "      <th>771</th>\n",
       "      <td>mbdata</td>\n",
       "      <td>2014-01-23 18:04:35</td>\n",
       "      <td>choconibbs</td>\n",
       "      <td>Go back to your farms, you sheep #baa-baa #POK...</td>\n",
       "      <td>NaN</td>\n",
       "      <td>NaN</td>\n",
       "      <td>NaN</td>\n",
       "    </tr>\n",
       "    <tr>\n",
       "      <th>776</th>\n",
       "      <td>mbdata</td>\n",
       "      <td>2014-01-23 18:04:47</td>\n",
       "      <td>choconibbs</td>\n",
       "      <td>If I see another Julianna-banana sign I'm goin...</td>\n",
       "      <td>NaN</td>\n",
       "      <td>NaN</td>\n",
       "      <td>NaN</td>\n",
       "    </tr>\n",
       "    <tr>\n",
       "      <th>783</th>\n",
       "      <td>mbdata</td>\n",
       "      <td>2014-01-23 18:05:15</td>\n",
       "      <td>choconibbs</td>\n",
       "      <td>Over 10 years ago people. #getoverit #POKRally</td>\n",
       "      <td>NaN</td>\n",
       "      <td>NaN</td>\n",
       "      <td>NaN</td>\n",
       "    </tr>\n",
       "    <tr>\n",
       "      <th>785</th>\n",
       "      <td>mbdata</td>\n",
       "      <td>2014-01-23 18:05:21</td>\n",
       "      <td>choconibbs</td>\n",
       "      <td>@Sara No you don't get it</td>\n",
       "      <td>NaN</td>\n",
       "      <td>NaN</td>\n",
       "      <td>NaN</td>\n",
       "    </tr>\n",
       "    <tr>\n",
       "      <th>788</th>\n",
       "      <td>mbdata</td>\n",
       "      <td>2014-01-23 18:05:37</td>\n",
       "      <td>choconibbs</td>\n",
       "      <td>@Sara I'm angry over all the kids who got sick...</td>\n",
       "      <td>NaN</td>\n",
       "      <td>NaN</td>\n",
       "      <td>NaN</td>\n",
       "    </tr>\n",
       "    <tr>\n",
       "      <th>789</th>\n",
       "      <td>mbdata</td>\n",
       "      <td>2014-01-23 18:05:49</td>\n",
       "      <td>choconibbs</td>\n",
       "      <td>@Sara POK says we kidnap and extort for Poor J...</td>\n",
       "      <td>NaN</td>\n",
       "      <td>NaN</td>\n",
       "      <td>NaN</td>\n",
       "    </tr>\n",
       "    <tr>\n",
       "      <th>810</th>\n",
       "      <td>mbdata</td>\n",
       "      <td>2014-01-23 18:07:52</td>\n",
       "      <td>choconibbs</td>\n",
       "      <td>Some egghead is going to read from a book!  #P...</td>\n",
       "      <td>NaN</td>\n",
       "      <td>NaN</td>\n",
       "      <td>NaN</td>\n",
       "    </tr>\n",
       "    <tr>\n",
       "      <th>838</th>\n",
       "      <td>mbdata</td>\n",
       "      <td>2014-01-23 18:10:02</td>\n",
       "      <td>choconibbs</td>\n",
       "      <td>Slippery Sylvia introduces Dr. Rotter  #POKRally</td>\n",
       "      <td>NaN</td>\n",
       "      <td>NaN</td>\n",
       "      <td>NaN</td>\n",
       "    </tr>\n",
       "    <tr>\n",
       "      <th>840</th>\n",
       "      <td>mbdata</td>\n",
       "      <td>2014-01-23 18:10:11</td>\n",
       "      <td>choconibbs</td>\n",
       "      <td>@JohnP Sure I'll shut up #stickyrheadinsomegel...</td>\n",
       "      <td>NaN</td>\n",
       "      <td>NaN</td>\n",
       "      <td>NaN</td>\n",
       "    </tr>\n",
       "    <tr>\n",
       "      <th>870</th>\n",
       "      <td>mbdata</td>\n",
       "      <td>2014-01-23 18:12:54</td>\n",
       "      <td>choconibbs</td>\n",
       "      <td>Dr Audrey-Rotter comes from the USA! #couldthi...</td>\n",
       "      <td>NaN</td>\n",
       "      <td>NaN</td>\n",
       "      <td>NaN</td>\n",
       "    </tr>\n",
       "    <tr>\n",
       "      <th>882</th>\n",
       "      <td>mbdata</td>\n",
       "      <td>2014-01-23 18:14:13</td>\n",
       "      <td>choconibbs</td>\n",
       "      <td>HA! The press is here in force -- Homeland Del...</td>\n",
       "      <td>NaN</td>\n",
       "      <td>NaN</td>\n",
       "      <td>NaN</td>\n",
       "    </tr>\n",
       "    <tr>\n",
       "      <th>885</th>\n",
       "      <td>mbdata</td>\n",
       "      <td>2014-01-23 18:14:22</td>\n",
       "      <td>choconibbs</td>\n",
       "      <td>HEADLINE \"\"Rotter says Extortion is Good\"\" @De...</td>\n",
       "      <td>NaN</td>\n",
       "      <td>NaN</td>\n",
       "      <td>NaN</td>\n",
       "    </tr>\n",
       "    <tr>\n",
       "      <th>891</th>\n",
       "      <td>mbdata</td>\n",
       "      <td>2014-01-23 18:15:02</td>\n",
       "      <td>choconibbs</td>\n",
       "      <td>@jojods People who believe this crap are the i...</td>\n",
       "      <td>NaN</td>\n",
       "      <td>NaN</td>\n",
       "      <td>NaN</td>\n",
       "    </tr>\n",
       "    <tr>\n",
       "      <th>924</th>\n",
       "      <td>mbdata</td>\n",
       "      <td>2014-01-23 18:17:55</td>\n",
       "      <td>choconibbs</td>\n",
       "      <td>\"Songs of the Rotters\"\"?  #POKRally\"\"</td>\n",
       "      <td>NaN</td>\n",
       "      <td>NaN</td>\n",
       "      <td>NaN</td>\n",
       "    </tr>\n",
       "    <tr>\n",
       "      <th>941</th>\n",
       "      <td>mbdata</td>\n",
       "      <td>2014-01-23 18:20:00</td>\n",
       "      <td>choconibbs</td>\n",
       "      <td>Anyone who wants to learn environmental terror...</td>\n",
       "      <td>NaN</td>\n",
       "      <td>NaN</td>\n",
       "      <td>NaN</td>\n",
       "    </tr>\n",
       "    <tr>\n",
       "      <th>988</th>\n",
       "      <td>mbdata</td>\n",
       "      <td>2014-01-23 18:25:00</td>\n",
       "      <td>choconibbs</td>\n",
       "      <td>And make millions off of endangered species #D...</td>\n",
       "      <td>NaN</td>\n",
       "      <td>NaN</td>\n",
       "      <td>NaN</td>\n",
       "    </tr>\n",
       "    <tr>\n",
       "      <th>1025</th>\n",
       "      <td>mbdata</td>\n",
       "      <td>2014-01-23 18:30:00</td>\n",
       "      <td>choconibbs</td>\n",
       "      <td>Does anyone beside me think the POK logo means...</td>\n",
       "      <td>NaN</td>\n",
       "      <td>NaN</td>\n",
       "      <td>NaN</td>\n",
       "    </tr>\n",
       "    <tr>\n",
       "      <th>1058</th>\n",
       "      <td>mbdata</td>\n",
       "      <td>2014-01-23 18:33:24</td>\n",
       "      <td>choconibbs</td>\n",
       "      <td>Another half hour wasted #POKRally</td>\n",
       "      <td>NaN</td>\n",
       "      <td>NaN</td>\n",
       "      <td>NaN</td>\n",
       "    </tr>\n",
       "    <tr>\n",
       "      <th>1065</th>\n",
       "      <td>mbdata</td>\n",
       "      <td>2014-01-23 18:34:18</td>\n",
       "      <td>choconibbs</td>\n",
       "      <td>OK fellow flits I'm off to get some enviro-har...</td>\n",
       "      <td>NaN</td>\n",
       "      <td>NaN</td>\n",
       "      <td>NaN</td>\n",
       "    </tr>\n",
       "  </tbody>\n",
       "</table>\n",
       "</div>"
      ],
      "text/plain": [
       "        type date(yyyyMMddHHmmss)      author  \\\n",
       "48    mbdata  2014-01-23 17:03:44  choconibbs   \n",
       "102   mbdata  2014-01-23 17:10:00  choconibbs   \n",
       "121   mbdata  2014-01-23 17:11:02  choconibbs   \n",
       "130   mbdata  2014-01-23 17:11:53  choconibbs   \n",
       "153   mbdata  2014-01-23 17:13:01  choconibbs   \n",
       "186   mbdata  2014-01-23 17:15:13  choconibbs   \n",
       "205   mbdata  2014-01-23 17:16:00  choconibbs   \n",
       "231   mbdata  2014-01-23 17:18:00  choconibbs   \n",
       "246   mbdata  2014-01-23 17:18:44  choconibbs   \n",
       "254   mbdata  2014-01-23 17:19:00  choconibbs   \n",
       "262   mbdata  2014-01-23 17:20:00  choconibbs   \n",
       "289   mbdata  2014-01-23 17:22:00  choconibbs   \n",
       "306   mbdata  2014-01-23 17:23:22  choconibbs   \n",
       "324   mbdata  2014-01-23 17:24:31  choconibbs   \n",
       "334   mbdata  2014-01-23 17:25:00  choconibbs   \n",
       "340   mbdata  2014-01-23 17:25:09  choconibbs   \n",
       "341   mbdata  2014-01-23 17:25:25  choconibbs   \n",
       "347   mbdata  2014-01-23 17:25:34  choconibbs   \n",
       "351   mbdata  2014-01-23 17:25:45  choconibbs   \n",
       "355   mbdata  2014-01-23 17:25:51  choconibbs   \n",
       "369   mbdata  2014-01-23 17:26:37  choconibbs   \n",
       "372   mbdata  2014-01-23 17:26:42  choconibbs   \n",
       "385   mbdata  2014-01-23 17:27:00  choconibbs   \n",
       "396   mbdata  2014-01-23 17:27:31  choconibbs   \n",
       "416   mbdata  2014-01-23 17:28:02  choconibbs   \n",
       "419   mbdata  2014-01-23 17:28:08  choconibbs   \n",
       "421   mbdata  2014-01-23 17:28:21  choconibbs   \n",
       "430   mbdata  2014-01-23 17:28:50  choconibbs   \n",
       "435   mbdata  2014-01-23 17:29:00  choconibbs   \n",
       "762   mbdata  2014-01-23 18:04:01  choconibbs   \n",
       "770   mbdata  2014-01-23 18:04:30  choconibbs   \n",
       "771   mbdata  2014-01-23 18:04:35  choconibbs   \n",
       "776   mbdata  2014-01-23 18:04:47  choconibbs   \n",
       "783   mbdata  2014-01-23 18:05:15  choconibbs   \n",
       "785   mbdata  2014-01-23 18:05:21  choconibbs   \n",
       "788   mbdata  2014-01-23 18:05:37  choconibbs   \n",
       "789   mbdata  2014-01-23 18:05:49  choconibbs   \n",
       "810   mbdata  2014-01-23 18:07:52  choconibbs   \n",
       "838   mbdata  2014-01-23 18:10:02  choconibbs   \n",
       "840   mbdata  2014-01-23 18:10:11  choconibbs   \n",
       "870   mbdata  2014-01-23 18:12:54  choconibbs   \n",
       "882   mbdata  2014-01-23 18:14:13  choconibbs   \n",
       "885   mbdata  2014-01-23 18:14:22  choconibbs   \n",
       "891   mbdata  2014-01-23 18:15:02  choconibbs   \n",
       "924   mbdata  2014-01-23 18:17:55  choconibbs   \n",
       "941   mbdata  2014-01-23 18:20:00  choconibbs   \n",
       "988   mbdata  2014-01-23 18:25:00  choconibbs   \n",
       "1025  mbdata  2014-01-23 18:30:00  choconibbs   \n",
       "1058  mbdata  2014-01-23 18:33:24  choconibbs   \n",
       "1065  mbdata  2014-01-23 18:34:18  choconibbs   \n",
       "\n",
       "                                                message  latitude  longitude  \\\n",
       "48    Marek - Terrorist introducing more terrorists ...       NaN        NaN   \n",
       "102                Lovely words - ugly person #POKRally       NaN        NaN   \n",
       "121         Our special guests al-Zawahiri...  #POKlove       NaN        NaN   \n",
       "130            \"Dr Death and Lucio Anarchy\"\" #POKlove\"\"       NaN        NaN   \n",
       "153   POK trying to give an aura of cred - while kid...       NaN        NaN   \n",
       "186   Lucio loves an army of the mindless followers ...       NaN        NaN   \n",
       "205            Blather-blather-blather #Lucio #POKRally       NaN        NaN   \n",
       "231   \"Look to crime and anarchy for fulfillment\"\" #...       NaN        NaN   \n",
       "246   @Art  They're kidnappers and probably murders ...       NaN        NaN   \n",
       "254   Note to APD: save time and arrest them all now...       NaN        NaN   \n",
       "262   IT just doesn't get better than this #blather ...       NaN        NaN   \n",
       "289   Send photos of the speakers @APD for their top...       NaN        NaN   \n",
       "306   Hey Jacob - hows the quality of life of the PO...       NaN        NaN   \n",
       "324   Where is the sign saying \"\"We snatched them!\"\"...       NaN        NaN   \n",
       "334   How many millions you want from their families...       NaN        NaN   \n",
       "340          @TomaToma Yeah? Who else you think did it?       NaN        NaN   \n",
       "341              @Sara people first; environment second       NaN        NaN   \n",
       "347                               @POKPOKPOK Anarchist!       NaN        NaN   \n",
       "351   Waiting for the next criminal to appear #POKRally       NaN        NaN   \n",
       "355     @TomaToma kidnapping is a crime #fact #POKRally       NaN        NaN   \n",
       "369   Look at the jewlry on Viktor-Tree!  He doesn't...       NaN        NaN   \n",
       "372   @TomaToma Don't believe me - research it yours...       NaN        NaN   \n",
       "385   Viktor-Tree - a heart of gold (extorted from o...       NaN        NaN   \n",
       "396   I take that back - a heart of sap -- this song...       NaN        NaN   \n",
       "416   My dog is howling better than ViktorTree at #P...       NaN        NaN   \n",
       "419   Shoot me now... the police should arrest them ...       NaN        NaN   \n",
       "421   Almost enough police here now to take them all...       NaN        NaN   \n",
       "430   Sorry Flits- I can't handle any more of this #...       NaN        NaN   \n",
       "435   Gotta walk by here later Maybe I'll catch the ...       NaN        NaN   \n",
       "762    Back at the #POKLiesinthePark #POKRallyinthePark       NaN        NaN   \n",
       "770   Dr D'Strange-o talking to a bunch of glassy ey...       NaN        NaN   \n",
       "771   Go back to your farms, you sheep #baa-baa #POK...       NaN        NaN   \n",
       "776   If I see another Julianna-banana sign I'm goin...       NaN        NaN   \n",
       "783      Over 10 years ago people. #getoverit #POKRally       NaN        NaN   \n",
       "785                           @Sara No you don't get it       NaN        NaN   \n",
       "788   @Sara I'm angry over all the kids who got sick...       NaN        NaN   \n",
       "789   @Sara POK says we kidnap and extort for Poor J...       NaN        NaN   \n",
       "810   Some egghead is going to read from a book!  #P...       NaN        NaN   \n",
       "838    Slippery Sylvia introduces Dr. Rotter  #POKRally       NaN        NaN   \n",
       "840   @JohnP Sure I'll shut up #stickyrheadinsomegel...       NaN        NaN   \n",
       "870   Dr Audrey-Rotter comes from the USA! #couldthi...       NaN        NaN   \n",
       "882   HA! The press is here in force -- Homeland Del...       NaN        NaN   \n",
       "885   HEADLINE \"\"Rotter says Extortion is Good\"\" @De...       NaN        NaN   \n",
       "891   @jojods People who believe this crap are the i...       NaN        NaN   \n",
       "924               \"Songs of the Rotters\"\"?  #POKRally\"\"       NaN        NaN   \n",
       "941   Anyone who wants to learn environmental terror...       NaN        NaN   \n",
       "988   And make millions off of endangered species #D...       NaN        NaN   \n",
       "1025  Does anyone beside me think the POK logo means...       NaN        NaN   \n",
       "1058                 Another half hour wasted #POKRally       NaN        NaN   \n",
       "1065  OK fellow flits I'm off to get some enviro-har...       NaN        NaN   \n",
       "\n",
       "      location  \n",
       "48         NaN  \n",
       "102        NaN  \n",
       "121        NaN  \n",
       "130        NaN  \n",
       "153        NaN  \n",
       "186        NaN  \n",
       "205        NaN  \n",
       "231        NaN  \n",
       "246        NaN  \n",
       "254        NaN  \n",
       "262        NaN  \n",
       "289        NaN  \n",
       "306        NaN  \n",
       "324        NaN  \n",
       "334        NaN  \n",
       "340        NaN  \n",
       "341        NaN  \n",
       "347        NaN  \n",
       "351        NaN  \n",
       "355        NaN  \n",
       "369        NaN  \n",
       "372        NaN  \n",
       "385        NaN  \n",
       "396        NaN  \n",
       "416        NaN  \n",
       "419        NaN  \n",
       "421        NaN  \n",
       "430        NaN  \n",
       "435        NaN  \n",
       "762        NaN  \n",
       "770        NaN  \n",
       "771        NaN  \n",
       "776        NaN  \n",
       "783        NaN  \n",
       "785        NaN  \n",
       "788        NaN  \n",
       "789        NaN  \n",
       "810        NaN  \n",
       "838        NaN  \n",
       "840        NaN  \n",
       "870        NaN  \n",
       "882        NaN  \n",
       "885        NaN  \n",
       "891        NaN  \n",
       "924        NaN  \n",
       "941        NaN  \n",
       "988        NaN  \n",
       "1025       NaN  \n",
       "1058       NaN  \n",
       "1065       NaN  "
      ]
     },
     "execution_count": 14,
     "metadata": {},
     "output_type": "execute_result"
    }
   ],
   "source": [
    "# seems like junk\n",
    "df[df['author'] == 'choconibbs']"
   ]
  },
  {
   "cell_type": "code",
   "execution_count": 15,
   "metadata": {},
   "outputs": [],
   "source": [
    "# list of top authors to exclude\n",
    "exclude = ['choconibbs', 'POK', 'Clevvah4Evah', 'KronosQuoth']"
   ]
  },
  {
   "cell_type": "code",
   "execution_count": 16,
   "metadata": {},
   "outputs": [],
   "source": [
    "df = df[~df['author'].isin(exclude)]"
   ]
  },
  {
   "cell_type": "code",
   "execution_count": 17,
   "metadata": {},
   "outputs": [
    {
     "data": {
      "text/plain": [
       "author\n",
       "megaMan                  106\n",
       "AbilaPost                 72\n",
       "HomelandIlluminations     65\n",
       "truccotrucco              64\n",
       "FriendsOfKronos           63\n",
       "KronosStar                49\n",
       "roger_roger               37\n",
       "BlueVelvet                37\n",
       "brain448                  35\n",
       "protoGuy                  34\n",
       "Name: count, dtype: int64"
      ]
     },
     "execution_count": 17,
     "metadata": {},
     "output_type": "execute_result"
    }
   ],
   "source": [
    "df['author'].value_counts().nlargest(10)"
   ]
  },
  {
   "cell_type": "code",
   "execution_count": 18,
   "metadata": {},
   "outputs": [
    {
     "data": {
      "text/plain": [
       "(2528, 7)"
      ]
     },
     "execution_count": 18,
     "metadata": {},
     "output_type": "execute_result"
    }
   ],
   "source": [
    "# got rid of approximately 1500 messages\n",
    "df.shape"
   ]
  },
  {
   "cell_type": "code",
   "execution_count": 19,
   "metadata": {},
   "outputs": [],
   "source": [
    "polarities = []\n",
    "sentiments = []\n",
    "bias = []\n",
    "\n",
    "def sentiment_bias(message, sent_threshold, bias_threshold):\n",
    "    text_blob = TextBlob(message)\n",
    "\n",
    "    polarities.append(text_blob.polarity)\n",
    "\n",
    "    if abs(text_blob.polarity) < sent_threshold:\n",
    "        sentiments.append('neutral')\n",
    "    elif text_blob.polarity <= -sent_threshold:\n",
    "        sentiments.append('negative')\n",
    "    else:\n",
    "        sentiments.append('positive')\n",
    "\n",
    "    if text_blob.subjectivity < bias_threshold:\n",
    "        bias.append('unbiased')\n",
    "    else:\n",
    "        bias.append('biased')\n",
    "\n",
    "for m in df['message'].tolist():\n",
    "    sentiment_bias(m, 0.001, 0.1)\n",
    "\n",
    "df['polarity'] = polarities\n",
    "df['sentiment'] = sentiments\n",
    "df['bias'] = bias"
   ]
  },
  {
   "cell_type": "code",
   "execution_count": 20,
   "metadata": {},
   "outputs": [],
   "source": [
    "df[['negative', 'neutral', 'positive']] = pd.get_dummies(df['sentiment'])\n",
    "df[['biased', 'unbiased']] = pd.get_dummies(df['bias'])"
   ]
  },
  {
   "cell_type": "code",
   "execution_count": 21,
   "metadata": {},
   "outputs": [
    {
     "data": {
      "text/plain": [
       "sentiment\n",
       "neutral     1551\n",
       "positive     551\n",
       "negative     426\n",
       "Name: count, dtype: int64"
      ]
     },
     "execution_count": 21,
     "metadata": {},
     "output_type": "execute_result"
    }
   ],
   "source": [
    "df['sentiment'].value_counts()"
   ]
  },
  {
   "cell_type": "code",
   "execution_count": 22,
   "metadata": {},
   "outputs": [],
   "source": [
    "agg_5min = df.groupby(pd.Grouper(key='date(yyyyMMddHHmmss)', freq='5min'))"
   ]
  },
  {
   "cell_type": "code",
   "execution_count": 23,
   "metadata": {},
   "outputs": [],
   "source": [
    "sents_5min = agg_5min[['negative', 'neutral', 'positive']].sum()\n",
    "sents_5min = sents_5min.reset_index()\n",
    "sents_5min['time'] = sents_5min['date(yyyyMMddHHmmss)'].apply(lambda x: (x.value - pd.to_datetime('2014-01-23 17:00:00').value) // 10**9)"
   ]
  },
  {
   "cell_type": "code",
   "execution_count": 24,
   "metadata": {},
   "outputs": [],
   "source": [
    "sents_5min = pd.melt(\n",
    "    sents_5min,\n",
    "    id_vars=['time'],\n",
    "    value_vars=['negative', 'neutral', 'positive'],\n",
    "    var_name='sentiment',\n",
    "    value_name='count'\n",
    ")"
   ]
  },
  {
   "cell_type": "code",
   "execution_count": 25,
   "metadata": {},
   "outputs": [
    {
     "data": {
      "application/vnd.plotly.v1+json": {
       "config": {
        "plotlyServerURL": "https://plot.ly"
       },
       "data": [
        {
         "alignmentgroup": "True",
         "hovertemplate": "Sentiment=%{x}<br>time=0<br>Count=%{y}<extra></extra>",
         "legendgroup": "negative",
         "marker": {
          "color": "red",
          "pattern": {
           "shape": ""
          }
         },
         "name": "negative",
         "offsetgroup": "negative",
         "orientation": "v",
         "showlegend": true,
         "textposition": "auto",
         "type": "bar",
         "x": [
          "negative"
         ],
         "xaxis": "x",
         "y": [
          5
         ],
         "yaxis": "y"
        },
        {
         "alignmentgroup": "True",
         "hovertemplate": "Sentiment=%{x}<br>time=0<br>Count=%{y}<extra></extra>",
         "legendgroup": "neutral",
         "marker": {
          "color": "yellow",
          "pattern": {
           "shape": ""
          }
         },
         "name": "neutral",
         "offsetgroup": "neutral",
         "orientation": "v",
         "showlegend": true,
         "textposition": "auto",
         "type": "bar",
         "x": [
          "neutral"
         ],
         "xaxis": "x",
         "y": [
          17
         ],
         "yaxis": "y"
        },
        {
         "alignmentgroup": "True",
         "hovertemplate": "Sentiment=%{x}<br>time=0<br>Count=%{y}<extra></extra>",
         "legendgroup": "positive",
         "marker": {
          "color": "green",
          "pattern": {
           "shape": ""
          }
         },
         "name": "positive",
         "offsetgroup": "positive",
         "orientation": "v",
         "showlegend": true,
         "textposition": "auto",
         "type": "bar",
         "x": [
          "positive"
         ],
         "xaxis": "x",
         "y": [
          3
         ],
         "yaxis": "y"
        }
       ],
       "frames": [
        {
         "data": [
          {
           "alignmentgroup": "True",
           "hovertemplate": "Sentiment=%{x}<br>time=0<br>Count=%{y}<extra></extra>",
           "legendgroup": "negative",
           "marker": {
            "color": "red",
            "pattern": {
             "shape": ""
            }
           },
           "name": "negative",
           "offsetgroup": "negative",
           "orientation": "v",
           "showlegend": true,
           "textposition": "auto",
           "type": "bar",
           "x": [
            "negative"
           ],
           "xaxis": "x",
           "y": [
            5
           ],
           "yaxis": "y"
          },
          {
           "alignmentgroup": "True",
           "hovertemplate": "Sentiment=%{x}<br>time=0<br>Count=%{y}<extra></extra>",
           "legendgroup": "neutral",
           "marker": {
            "color": "yellow",
            "pattern": {
             "shape": ""
            }
           },
           "name": "neutral",
           "offsetgroup": "neutral",
           "orientation": "v",
           "showlegend": true,
           "textposition": "auto",
           "type": "bar",
           "x": [
            "neutral"
           ],
           "xaxis": "x",
           "y": [
            17
           ],
           "yaxis": "y"
          },
          {
           "alignmentgroup": "True",
           "hovertemplate": "Sentiment=%{x}<br>time=0<br>Count=%{y}<extra></extra>",
           "legendgroup": "positive",
           "marker": {
            "color": "green",
            "pattern": {
             "shape": ""
            }
           },
           "name": "positive",
           "offsetgroup": "positive",
           "orientation": "v",
           "showlegend": true,
           "textposition": "auto",
           "type": "bar",
           "x": [
            "positive"
           ],
           "xaxis": "x",
           "y": [
            3
           ],
           "yaxis": "y"
          }
         ],
         "name": "0"
        },
        {
         "data": [
          {
           "alignmentgroup": "True",
           "hovertemplate": "Sentiment=%{x}<br>time=300<br>Count=%{y}<extra></extra>",
           "legendgroup": "negative",
           "marker": {
            "color": "red",
            "pattern": {
             "shape": ""
            }
           },
           "name": "negative",
           "offsetgroup": "negative",
           "orientation": "v",
           "showlegend": true,
           "textposition": "auto",
           "type": "bar",
           "x": [
            "negative"
           ],
           "xaxis": "x",
           "y": [
            7
           ],
           "yaxis": "y"
          },
          {
           "alignmentgroup": "True",
           "hovertemplate": "Sentiment=%{x}<br>time=300<br>Count=%{y}<extra></extra>",
           "legendgroup": "neutral",
           "marker": {
            "color": "yellow",
            "pattern": {
             "shape": ""
            }
           },
           "name": "neutral",
           "offsetgroup": "neutral",
           "orientation": "v",
           "showlegend": true,
           "textposition": "auto",
           "type": "bar",
           "x": [
            "neutral"
           ],
           "xaxis": "x",
           "y": [
            7
           ],
           "yaxis": "y"
          },
          {
           "alignmentgroup": "True",
           "hovertemplate": "Sentiment=%{x}<br>time=300<br>Count=%{y}<extra></extra>",
           "legendgroup": "positive",
           "marker": {
            "color": "green",
            "pattern": {
             "shape": ""
            }
           },
           "name": "positive",
           "offsetgroup": "positive",
           "orientation": "v",
           "showlegend": true,
           "textposition": "auto",
           "type": "bar",
           "x": [
            "positive"
           ],
           "xaxis": "x",
           "y": [
            2
           ],
           "yaxis": "y"
          }
         ],
         "name": "300"
        },
        {
         "data": [
          {
           "alignmentgroup": "True",
           "hovertemplate": "Sentiment=%{x}<br>time=600<br>Count=%{y}<extra></extra>",
           "legendgroup": "negative",
           "marker": {
            "color": "red",
            "pattern": {
             "shape": ""
            }
           },
           "name": "negative",
           "offsetgroup": "negative",
           "orientation": "v",
           "showlegend": true,
           "textposition": "auto",
           "type": "bar",
           "x": [
            "negative"
           ],
           "xaxis": "x",
           "y": [
            10
           ],
           "yaxis": "y"
          },
          {
           "alignmentgroup": "True",
           "hovertemplate": "Sentiment=%{x}<br>time=600<br>Count=%{y}<extra></extra>",
           "legendgroup": "neutral",
           "marker": {
            "color": "yellow",
            "pattern": {
             "shape": ""
            }
           },
           "name": "neutral",
           "offsetgroup": "neutral",
           "orientation": "v",
           "showlegend": true,
           "textposition": "auto",
           "type": "bar",
           "x": [
            "neutral"
           ],
           "xaxis": "x",
           "y": [
            26
           ],
           "yaxis": "y"
          },
          {
           "alignmentgroup": "True",
           "hovertemplate": "Sentiment=%{x}<br>time=600<br>Count=%{y}<extra></extra>",
           "legendgroup": "positive",
           "marker": {
            "color": "green",
            "pattern": {
             "shape": ""
            }
           },
           "name": "positive",
           "offsetgroup": "positive",
           "orientation": "v",
           "showlegend": true,
           "textposition": "auto",
           "type": "bar",
           "x": [
            "positive"
           ],
           "xaxis": "x",
           "y": [
            13
           ],
           "yaxis": "y"
          }
         ],
         "name": "600"
        },
        {
         "data": [
          {
           "alignmentgroup": "True",
           "hovertemplate": "Sentiment=%{x}<br>time=900<br>Count=%{y}<extra></extra>",
           "legendgroup": "negative",
           "marker": {
            "color": "red",
            "pattern": {
             "shape": ""
            }
           },
           "name": "negative",
           "offsetgroup": "negative",
           "orientation": "v",
           "showlegend": true,
           "textposition": "auto",
           "type": "bar",
           "x": [
            "negative"
           ],
           "xaxis": "x",
           "y": [
            8
           ],
           "yaxis": "y"
          },
          {
           "alignmentgroup": "True",
           "hovertemplate": "Sentiment=%{x}<br>time=900<br>Count=%{y}<extra></extra>",
           "legendgroup": "neutral",
           "marker": {
            "color": "yellow",
            "pattern": {
             "shape": ""
            }
           },
           "name": "neutral",
           "offsetgroup": "neutral",
           "orientation": "v",
           "showlegend": true,
           "textposition": "auto",
           "type": "bar",
           "x": [
            "neutral"
           ],
           "xaxis": "x",
           "y": [
            21
           ],
           "yaxis": "y"
          },
          {
           "alignmentgroup": "True",
           "hovertemplate": "Sentiment=%{x}<br>time=900<br>Count=%{y}<extra></extra>",
           "legendgroup": "positive",
           "marker": {
            "color": "green",
            "pattern": {
             "shape": ""
            }
           },
           "name": "positive",
           "offsetgroup": "positive",
           "orientation": "v",
           "showlegend": true,
           "textposition": "auto",
           "type": "bar",
           "x": [
            "positive"
           ],
           "xaxis": "x",
           "y": [
            14
           ],
           "yaxis": "y"
          }
         ],
         "name": "900"
        },
        {
         "data": [
          {
           "alignmentgroup": "True",
           "hovertemplate": "Sentiment=%{x}<br>time=1200<br>Count=%{y}<extra></extra>",
           "legendgroup": "negative",
           "marker": {
            "color": "red",
            "pattern": {
             "shape": ""
            }
           },
           "name": "negative",
           "offsetgroup": "negative",
           "orientation": "v",
           "showlegend": true,
           "textposition": "auto",
           "type": "bar",
           "x": [
            "negative"
           ],
           "xaxis": "x",
           "y": [
            5
           ],
           "yaxis": "y"
          },
          {
           "alignmentgroup": "True",
           "hovertemplate": "Sentiment=%{x}<br>time=1200<br>Count=%{y}<extra></extra>",
           "legendgroup": "neutral",
           "marker": {
            "color": "yellow",
            "pattern": {
             "shape": ""
            }
           },
           "name": "neutral",
           "offsetgroup": "neutral",
           "orientation": "v",
           "showlegend": true,
           "textposition": "auto",
           "type": "bar",
           "x": [
            "neutral"
           ],
           "xaxis": "x",
           "y": [
            17
           ],
           "yaxis": "y"
          },
          {
           "alignmentgroup": "True",
           "hovertemplate": "Sentiment=%{x}<br>time=1200<br>Count=%{y}<extra></extra>",
           "legendgroup": "positive",
           "marker": {
            "color": "green",
            "pattern": {
             "shape": ""
            }
           },
           "name": "positive",
           "offsetgroup": "positive",
           "orientation": "v",
           "showlegend": true,
           "textposition": "auto",
           "type": "bar",
           "x": [
            "positive"
           ],
           "xaxis": "x",
           "y": [
            11
           ],
           "yaxis": "y"
          }
         ],
         "name": "1200"
        },
        {
         "data": [
          {
           "alignmentgroup": "True",
           "hovertemplate": "Sentiment=%{x}<br>time=1500<br>Count=%{y}<extra></extra>",
           "legendgroup": "negative",
           "marker": {
            "color": "red",
            "pattern": {
             "shape": ""
            }
           },
           "name": "negative",
           "offsetgroup": "negative",
           "orientation": "v",
           "showlegend": true,
           "textposition": "auto",
           "type": "bar",
           "x": [
            "negative"
           ],
           "xaxis": "x",
           "y": [
            3
           ],
           "yaxis": "y"
          },
          {
           "alignmentgroup": "True",
           "hovertemplate": "Sentiment=%{x}<br>time=1500<br>Count=%{y}<extra></extra>",
           "legendgroup": "neutral",
           "marker": {
            "color": "yellow",
            "pattern": {
             "shape": ""
            }
           },
           "name": "neutral",
           "offsetgroup": "neutral",
           "orientation": "v",
           "showlegend": true,
           "textposition": "auto",
           "type": "bar",
           "x": [
            "neutral"
           ],
           "xaxis": "x",
           "y": [
            36
           ],
           "yaxis": "y"
          },
          {
           "alignmentgroup": "True",
           "hovertemplate": "Sentiment=%{x}<br>time=1500<br>Count=%{y}<extra></extra>",
           "legendgroup": "positive",
           "marker": {
            "color": "green",
            "pattern": {
             "shape": ""
            }
           },
           "name": "positive",
           "offsetgroup": "positive",
           "orientation": "v",
           "showlegend": true,
           "textposition": "auto",
           "type": "bar",
           "x": [
            "positive"
           ],
           "xaxis": "x",
           "y": [
            24
           ],
           "yaxis": "y"
          }
         ],
         "name": "1500"
        },
        {
         "data": [
          {
           "alignmentgroup": "True",
           "hovertemplate": "Sentiment=%{x}<br>time=1800<br>Count=%{y}<extra></extra>",
           "legendgroup": "negative",
           "marker": {
            "color": "red",
            "pattern": {
             "shape": ""
            }
           },
           "name": "negative",
           "offsetgroup": "negative",
           "orientation": "v",
           "showlegend": true,
           "textposition": "auto",
           "type": "bar",
           "x": [
            "negative"
           ],
           "xaxis": "x",
           "y": [
            15
           ],
           "yaxis": "y"
          },
          {
           "alignmentgroup": "True",
           "hovertemplate": "Sentiment=%{x}<br>time=1800<br>Count=%{y}<extra></extra>",
           "legendgroup": "neutral",
           "marker": {
            "color": "yellow",
            "pattern": {
             "shape": ""
            }
           },
           "name": "neutral",
           "offsetgroup": "neutral",
           "orientation": "v",
           "showlegend": true,
           "textposition": "auto",
           "type": "bar",
           "x": [
            "neutral"
           ],
           "xaxis": "x",
           "y": [
            16
           ],
           "yaxis": "y"
          },
          {
           "alignmentgroup": "True",
           "hovertemplate": "Sentiment=%{x}<br>time=1800<br>Count=%{y}<extra></extra>",
           "legendgroup": "positive",
           "marker": {
            "color": "green",
            "pattern": {
             "shape": ""
            }
           },
           "name": "positive",
           "offsetgroup": "positive",
           "orientation": "v",
           "showlegend": true,
           "textposition": "auto",
           "type": "bar",
           "x": [
            "positive"
           ],
           "xaxis": "x",
           "y": [
            4
           ],
           "yaxis": "y"
          }
         ],
         "name": "1800"
        },
        {
         "data": [
          {
           "alignmentgroup": "True",
           "hovertemplate": "Sentiment=%{x}<br>time=2100<br>Count=%{y}<extra></extra>",
           "legendgroup": "negative",
           "marker": {
            "color": "red",
            "pattern": {
             "shape": ""
            }
           },
           "name": "negative",
           "offsetgroup": "negative",
           "orientation": "v",
           "showlegend": true,
           "textposition": "auto",
           "type": "bar",
           "x": [
            "negative"
           ],
           "xaxis": "x",
           "y": [
            0
           ],
           "yaxis": "y"
          },
          {
           "alignmentgroup": "True",
           "hovertemplate": "Sentiment=%{x}<br>time=2100<br>Count=%{y}<extra></extra>",
           "legendgroup": "neutral",
           "marker": {
            "color": "yellow",
            "pattern": {
             "shape": ""
            }
           },
           "name": "neutral",
           "offsetgroup": "neutral",
           "orientation": "v",
           "showlegend": true,
           "textposition": "auto",
           "type": "bar",
           "x": [
            "neutral"
           ],
           "xaxis": "x",
           "y": [
            14
           ],
           "yaxis": "y"
          },
          {
           "alignmentgroup": "True",
           "hovertemplate": "Sentiment=%{x}<br>time=2100<br>Count=%{y}<extra></extra>",
           "legendgroup": "positive",
           "marker": {
            "color": "green",
            "pattern": {
             "shape": ""
            }
           },
           "name": "positive",
           "offsetgroup": "positive",
           "orientation": "v",
           "showlegend": true,
           "textposition": "auto",
           "type": "bar",
           "x": [
            "positive"
           ],
           "xaxis": "x",
           "y": [
            5
           ],
           "yaxis": "y"
          }
         ],
         "name": "2100"
        },
        {
         "data": [
          {
           "alignmentgroup": "True",
           "hovertemplate": "Sentiment=%{x}<br>time=2400<br>Count=%{y}<extra></extra>",
           "legendgroup": "negative",
           "marker": {
            "color": "red",
            "pattern": {
             "shape": ""
            }
           },
           "name": "negative",
           "offsetgroup": "negative",
           "orientation": "v",
           "showlegend": true,
           "textposition": "auto",
           "type": "bar",
           "x": [
            "negative"
           ],
           "xaxis": "x",
           "y": [
            3
           ],
           "yaxis": "y"
          },
          {
           "alignmentgroup": "True",
           "hovertemplate": "Sentiment=%{x}<br>time=2400<br>Count=%{y}<extra></extra>",
           "legendgroup": "neutral",
           "marker": {
            "color": "yellow",
            "pattern": {
             "shape": ""
            }
           },
           "name": "neutral",
           "offsetgroup": "neutral",
           "orientation": "v",
           "showlegend": true,
           "textposition": "auto",
           "type": "bar",
           "x": [
            "neutral"
           ],
           "xaxis": "x",
           "y": [
            17
           ],
           "yaxis": "y"
          },
          {
           "alignmentgroup": "True",
           "hovertemplate": "Sentiment=%{x}<br>time=2400<br>Count=%{y}<extra></extra>",
           "legendgroup": "positive",
           "marker": {
            "color": "green",
            "pattern": {
             "shape": ""
            }
           },
           "name": "positive",
           "offsetgroup": "positive",
           "orientation": "v",
           "showlegend": true,
           "textposition": "auto",
           "type": "bar",
           "x": [
            "positive"
           ],
           "xaxis": "x",
           "y": [
            8
           ],
           "yaxis": "y"
          }
         ],
         "name": "2400"
        },
        {
         "data": [
          {
           "alignmentgroup": "True",
           "hovertemplate": "Sentiment=%{x}<br>time=2700<br>Count=%{y}<extra></extra>",
           "legendgroup": "negative",
           "marker": {
            "color": "red",
            "pattern": {
             "shape": ""
            }
           },
           "name": "negative",
           "offsetgroup": "negative",
           "orientation": "v",
           "showlegend": true,
           "textposition": "auto",
           "type": "bar",
           "x": [
            "negative"
           ],
           "xaxis": "x",
           "y": [
            2
           ],
           "yaxis": "y"
          },
          {
           "alignmentgroup": "True",
           "hovertemplate": "Sentiment=%{x}<br>time=2700<br>Count=%{y}<extra></extra>",
           "legendgroup": "neutral",
           "marker": {
            "color": "yellow",
            "pattern": {
             "shape": ""
            }
           },
           "name": "neutral",
           "offsetgroup": "neutral",
           "orientation": "v",
           "showlegend": true,
           "textposition": "auto",
           "type": "bar",
           "x": [
            "neutral"
           ],
           "xaxis": "x",
           "y": [
            10
           ],
           "yaxis": "y"
          },
          {
           "alignmentgroup": "True",
           "hovertemplate": "Sentiment=%{x}<br>time=2700<br>Count=%{y}<extra></extra>",
           "legendgroup": "positive",
           "marker": {
            "color": "green",
            "pattern": {
             "shape": ""
            }
           },
           "name": "positive",
           "offsetgroup": "positive",
           "orientation": "v",
           "showlegend": true,
           "textposition": "auto",
           "type": "bar",
           "x": [
            "positive"
           ],
           "xaxis": "x",
           "y": [
            5
           ],
           "yaxis": "y"
          }
         ],
         "name": "2700"
        },
        {
         "data": [
          {
           "alignmentgroup": "True",
           "hovertemplate": "Sentiment=%{x}<br>time=3000<br>Count=%{y}<extra></extra>",
           "legendgroup": "negative",
           "marker": {
            "color": "red",
            "pattern": {
             "shape": ""
            }
           },
           "name": "negative",
           "offsetgroup": "negative",
           "orientation": "v",
           "showlegend": true,
           "textposition": "auto",
           "type": "bar",
           "x": [
            "negative"
           ],
           "xaxis": "x",
           "y": [
            3
           ],
           "yaxis": "y"
          },
          {
           "alignmentgroup": "True",
           "hovertemplate": "Sentiment=%{x}<br>time=3000<br>Count=%{y}<extra></extra>",
           "legendgroup": "neutral",
           "marker": {
            "color": "yellow",
            "pattern": {
             "shape": ""
            }
           },
           "name": "neutral",
           "offsetgroup": "neutral",
           "orientation": "v",
           "showlegend": true,
           "textposition": "auto",
           "type": "bar",
           "x": [
            "neutral"
           ],
           "xaxis": "x",
           "y": [
            14
           ],
           "yaxis": "y"
          },
          {
           "alignmentgroup": "True",
           "hovertemplate": "Sentiment=%{x}<br>time=3000<br>Count=%{y}<extra></extra>",
           "legendgroup": "positive",
           "marker": {
            "color": "green",
            "pattern": {
             "shape": ""
            }
           },
           "name": "positive",
           "offsetgroup": "positive",
           "orientation": "v",
           "showlegend": true,
           "textposition": "auto",
           "type": "bar",
           "x": [
            "positive"
           ],
           "xaxis": "x",
           "y": [
            4
           ],
           "yaxis": "y"
          }
         ],
         "name": "3000"
        },
        {
         "data": [
          {
           "alignmentgroup": "True",
           "hovertemplate": "Sentiment=%{x}<br>time=3300<br>Count=%{y}<extra></extra>",
           "legendgroup": "negative",
           "marker": {
            "color": "red",
            "pattern": {
             "shape": ""
            }
           },
           "name": "negative",
           "offsetgroup": "negative",
           "orientation": "v",
           "showlegend": true,
           "textposition": "auto",
           "type": "bar",
           "x": [
            "negative"
           ],
           "xaxis": "x",
           "y": [
            1
           ],
           "yaxis": "y"
          },
          {
           "alignmentgroup": "True",
           "hovertemplate": "Sentiment=%{x}<br>time=3300<br>Count=%{y}<extra></extra>",
           "legendgroup": "neutral",
           "marker": {
            "color": "yellow",
            "pattern": {
             "shape": ""
            }
           },
           "name": "neutral",
           "offsetgroup": "neutral",
           "orientation": "v",
           "showlegend": true,
           "textposition": "auto",
           "type": "bar",
           "x": [
            "neutral"
           ],
           "xaxis": "x",
           "y": [
            10
           ],
           "yaxis": "y"
          },
          {
           "alignmentgroup": "True",
           "hovertemplate": "Sentiment=%{x}<br>time=3300<br>Count=%{y}<extra></extra>",
           "legendgroup": "positive",
           "marker": {
            "color": "green",
            "pattern": {
             "shape": ""
            }
           },
           "name": "positive",
           "offsetgroup": "positive",
           "orientation": "v",
           "showlegend": true,
           "textposition": "auto",
           "type": "bar",
           "x": [
            "positive"
           ],
           "xaxis": "x",
           "y": [
            5
           ],
           "yaxis": "y"
          }
         ],
         "name": "3300"
        },
        {
         "data": [
          {
           "alignmentgroup": "True",
           "hovertemplate": "Sentiment=%{x}<br>time=3600<br>Count=%{y}<extra></extra>",
           "legendgroup": "negative",
           "marker": {
            "color": "red",
            "pattern": {
             "shape": ""
            }
           },
           "name": "negative",
           "offsetgroup": "negative",
           "orientation": "v",
           "showlegend": true,
           "textposition": "auto",
           "type": "bar",
           "x": [
            "negative"
           ],
           "xaxis": "x",
           "y": [
            0
           ],
           "yaxis": "y"
          },
          {
           "alignmentgroup": "True",
           "hovertemplate": "Sentiment=%{x}<br>time=3600<br>Count=%{y}<extra></extra>",
           "legendgroup": "neutral",
           "marker": {
            "color": "yellow",
            "pattern": {
             "shape": ""
            }
           },
           "name": "neutral",
           "offsetgroup": "neutral",
           "orientation": "v",
           "showlegend": true,
           "textposition": "auto",
           "type": "bar",
           "x": [
            "neutral"
           ],
           "xaxis": "x",
           "y": [
            6
           ],
           "yaxis": "y"
          },
          {
           "alignmentgroup": "True",
           "hovertemplate": "Sentiment=%{x}<br>time=3600<br>Count=%{y}<extra></extra>",
           "legendgroup": "positive",
           "marker": {
            "color": "green",
            "pattern": {
             "shape": ""
            }
           },
           "name": "positive",
           "offsetgroup": "positive",
           "orientation": "v",
           "showlegend": true,
           "textposition": "auto",
           "type": "bar",
           "x": [
            "positive"
           ],
           "xaxis": "x",
           "y": [
            6
           ],
           "yaxis": "y"
          }
         ],
         "name": "3600"
        },
        {
         "data": [
          {
           "alignmentgroup": "True",
           "hovertemplate": "Sentiment=%{x}<br>time=3900<br>Count=%{y}<extra></extra>",
           "legendgroup": "negative",
           "marker": {
            "color": "red",
            "pattern": {
             "shape": ""
            }
           },
           "name": "negative",
           "offsetgroup": "negative",
           "orientation": "v",
           "showlegend": true,
           "textposition": "auto",
           "type": "bar",
           "x": [
            "negative"
           ],
           "xaxis": "x",
           "y": [
            3
           ],
           "yaxis": "y"
          },
          {
           "alignmentgroup": "True",
           "hovertemplate": "Sentiment=%{x}<br>time=3900<br>Count=%{y}<extra></extra>",
           "legendgroup": "neutral",
           "marker": {
            "color": "yellow",
            "pattern": {
             "shape": ""
            }
           },
           "name": "neutral",
           "offsetgroup": "neutral",
           "orientation": "v",
           "showlegend": true,
           "textposition": "auto",
           "type": "bar",
           "x": [
            "neutral"
           ],
           "xaxis": "x",
           "y": [
            8
           ],
           "yaxis": "y"
          },
          {
           "alignmentgroup": "True",
           "hovertemplate": "Sentiment=%{x}<br>time=3900<br>Count=%{y}<extra></extra>",
           "legendgroup": "positive",
           "marker": {
            "color": "green",
            "pattern": {
             "shape": ""
            }
           },
           "name": "positive",
           "offsetgroup": "positive",
           "orientation": "v",
           "showlegend": true,
           "textposition": "auto",
           "type": "bar",
           "x": [
            "positive"
           ],
           "xaxis": "x",
           "y": [
            2
           ],
           "yaxis": "y"
          }
         ],
         "name": "3900"
        },
        {
         "data": [
          {
           "alignmentgroup": "True",
           "hovertemplate": "Sentiment=%{x}<br>time=4200<br>Count=%{y}<extra></extra>",
           "legendgroup": "negative",
           "marker": {
            "color": "red",
            "pattern": {
             "shape": ""
            }
           },
           "name": "negative",
           "offsetgroup": "negative",
           "orientation": "v",
           "showlegend": true,
           "textposition": "auto",
           "type": "bar",
           "x": [
            "negative"
           ],
           "xaxis": "x",
           "y": [
            1
           ],
           "yaxis": "y"
          },
          {
           "alignmentgroup": "True",
           "hovertemplate": "Sentiment=%{x}<br>time=4200<br>Count=%{y}<extra></extra>",
           "legendgroup": "neutral",
           "marker": {
            "color": "yellow",
            "pattern": {
             "shape": ""
            }
           },
           "name": "neutral",
           "offsetgroup": "neutral",
           "orientation": "v",
           "showlegend": true,
           "textposition": "auto",
           "type": "bar",
           "x": [
            "neutral"
           ],
           "xaxis": "x",
           "y": [
            13
           ],
           "yaxis": "y"
          },
          {
           "alignmentgroup": "True",
           "hovertemplate": "Sentiment=%{x}<br>time=4200<br>Count=%{y}<extra></extra>",
           "legendgroup": "positive",
           "marker": {
            "color": "green",
            "pattern": {
             "shape": ""
            }
           },
           "name": "positive",
           "offsetgroup": "positive",
           "orientation": "v",
           "showlegend": true,
           "textposition": "auto",
           "type": "bar",
           "x": [
            "positive"
           ],
           "xaxis": "x",
           "y": [
            3
           ],
           "yaxis": "y"
          }
         ],
         "name": "4200"
        },
        {
         "data": [
          {
           "alignmentgroup": "True",
           "hovertemplate": "Sentiment=%{x}<br>time=4500<br>Count=%{y}<extra></extra>",
           "legendgroup": "negative",
           "marker": {
            "color": "red",
            "pattern": {
             "shape": ""
            }
           },
           "name": "negative",
           "offsetgroup": "negative",
           "orientation": "v",
           "showlegend": true,
           "textposition": "auto",
           "type": "bar",
           "x": [
            "negative"
           ],
           "xaxis": "x",
           "y": [
            1
           ],
           "yaxis": "y"
          },
          {
           "alignmentgroup": "True",
           "hovertemplate": "Sentiment=%{x}<br>time=4500<br>Count=%{y}<extra></extra>",
           "legendgroup": "neutral",
           "marker": {
            "color": "yellow",
            "pattern": {
             "shape": ""
            }
           },
           "name": "neutral",
           "offsetgroup": "neutral",
           "orientation": "v",
           "showlegend": true,
           "textposition": "auto",
           "type": "bar",
           "x": [
            "neutral"
           ],
           "xaxis": "x",
           "y": [
            17
           ],
           "yaxis": "y"
          },
          {
           "alignmentgroup": "True",
           "hovertemplate": "Sentiment=%{x}<br>time=4500<br>Count=%{y}<extra></extra>",
           "legendgroup": "positive",
           "marker": {
            "color": "green",
            "pattern": {
             "shape": ""
            }
           },
           "name": "positive",
           "offsetgroup": "positive",
           "orientation": "v",
           "showlegend": true,
           "textposition": "auto",
           "type": "bar",
           "x": [
            "positive"
           ],
           "xaxis": "x",
           "y": [
            5
           ],
           "yaxis": "y"
          }
         ],
         "name": "4500"
        },
        {
         "data": [
          {
           "alignmentgroup": "True",
           "hovertemplate": "Sentiment=%{x}<br>time=4800<br>Count=%{y}<extra></extra>",
           "legendgroup": "negative",
           "marker": {
            "color": "red",
            "pattern": {
             "shape": ""
            }
           },
           "name": "negative",
           "offsetgroup": "negative",
           "orientation": "v",
           "showlegend": true,
           "textposition": "auto",
           "type": "bar",
           "x": [
            "negative"
           ],
           "xaxis": "x",
           "y": [
            0
           ],
           "yaxis": "y"
          },
          {
           "alignmentgroup": "True",
           "hovertemplate": "Sentiment=%{x}<br>time=4800<br>Count=%{y}<extra></extra>",
           "legendgroup": "neutral",
           "marker": {
            "color": "yellow",
            "pattern": {
             "shape": ""
            }
           },
           "name": "neutral",
           "offsetgroup": "neutral",
           "orientation": "v",
           "showlegend": true,
           "textposition": "auto",
           "type": "bar",
           "x": [
            "neutral"
           ],
           "xaxis": "x",
           "y": [
            7
           ],
           "yaxis": "y"
          },
          {
           "alignmentgroup": "True",
           "hovertemplate": "Sentiment=%{x}<br>time=4800<br>Count=%{y}<extra></extra>",
           "legendgroup": "positive",
           "marker": {
            "color": "green",
            "pattern": {
             "shape": ""
            }
           },
           "name": "positive",
           "offsetgroup": "positive",
           "orientation": "v",
           "showlegend": true,
           "textposition": "auto",
           "type": "bar",
           "x": [
            "positive"
           ],
           "xaxis": "x",
           "y": [
            2
           ],
           "yaxis": "y"
          }
         ],
         "name": "4800"
        },
        {
         "data": [
          {
           "alignmentgroup": "True",
           "hovertemplate": "Sentiment=%{x}<br>time=5100<br>Count=%{y}<extra></extra>",
           "legendgroup": "negative",
           "marker": {
            "color": "red",
            "pattern": {
             "shape": ""
            }
           },
           "name": "negative",
           "offsetgroup": "negative",
           "orientation": "v",
           "showlegend": true,
           "textposition": "auto",
           "type": "bar",
           "x": [
            "negative"
           ],
           "xaxis": "x",
           "y": [
            0
           ],
           "yaxis": "y"
          },
          {
           "alignmentgroup": "True",
           "hovertemplate": "Sentiment=%{x}<br>time=5100<br>Count=%{y}<extra></extra>",
           "legendgroup": "neutral",
           "marker": {
            "color": "yellow",
            "pattern": {
             "shape": ""
            }
           },
           "name": "neutral",
           "offsetgroup": "neutral",
           "orientation": "v",
           "showlegend": true,
           "textposition": "auto",
           "type": "bar",
           "x": [
            "neutral"
           ],
           "xaxis": "x",
           "y": [
            4
           ],
           "yaxis": "y"
          },
          {
           "alignmentgroup": "True",
           "hovertemplate": "Sentiment=%{x}<br>time=5100<br>Count=%{y}<extra></extra>",
           "legendgroup": "positive",
           "marker": {
            "color": "green",
            "pattern": {
             "shape": ""
            }
           },
           "name": "positive",
           "offsetgroup": "positive",
           "orientation": "v",
           "showlegend": true,
           "textposition": "auto",
           "type": "bar",
           "x": [
            "positive"
           ],
           "xaxis": "x",
           "y": [
            3
           ],
           "yaxis": "y"
          }
         ],
         "name": "5100"
        },
        {
         "data": [
          {
           "alignmentgroup": "True",
           "hovertemplate": "Sentiment=%{x}<br>time=5400<br>Count=%{y}<extra></extra>",
           "legendgroup": "negative",
           "marker": {
            "color": "red",
            "pattern": {
             "shape": ""
            }
           },
           "name": "negative",
           "offsetgroup": "negative",
           "orientation": "v",
           "showlegend": true,
           "textposition": "auto",
           "type": "bar",
           "x": [
            "negative"
           ],
           "xaxis": "x",
           "y": [
            4
           ],
           "yaxis": "y"
          },
          {
           "alignmentgroup": "True",
           "hovertemplate": "Sentiment=%{x}<br>time=5400<br>Count=%{y}<extra></extra>",
           "legendgroup": "neutral",
           "marker": {
            "color": "yellow",
            "pattern": {
             "shape": ""
            }
           },
           "name": "neutral",
           "offsetgroup": "neutral",
           "orientation": "v",
           "showlegend": true,
           "textposition": "auto",
           "type": "bar",
           "x": [
            "neutral"
           ],
           "xaxis": "x",
           "y": [
            11
           ],
           "yaxis": "y"
          },
          {
           "alignmentgroup": "True",
           "hovertemplate": "Sentiment=%{x}<br>time=5400<br>Count=%{y}<extra></extra>",
           "legendgroup": "positive",
           "marker": {
            "color": "green",
            "pattern": {
             "shape": ""
            }
           },
           "name": "positive",
           "offsetgroup": "positive",
           "orientation": "v",
           "showlegend": true,
           "textposition": "auto",
           "type": "bar",
           "x": [
            "positive"
           ],
           "xaxis": "x",
           "y": [
            6
           ],
           "yaxis": "y"
          }
         ],
         "name": "5400"
        },
        {
         "data": [
          {
           "alignmentgroup": "True",
           "hovertemplate": "Sentiment=%{x}<br>time=5700<br>Count=%{y}<extra></extra>",
           "legendgroup": "negative",
           "marker": {
            "color": "red",
            "pattern": {
             "shape": ""
            }
           },
           "name": "negative",
           "offsetgroup": "negative",
           "orientation": "v",
           "showlegend": true,
           "textposition": "auto",
           "type": "bar",
           "x": [
            "negative"
           ],
           "xaxis": "x",
           "y": [
            4
           ],
           "yaxis": "y"
          },
          {
           "alignmentgroup": "True",
           "hovertemplate": "Sentiment=%{x}<br>time=5700<br>Count=%{y}<extra></extra>",
           "legendgroup": "neutral",
           "marker": {
            "color": "yellow",
            "pattern": {
             "shape": ""
            }
           },
           "name": "neutral",
           "offsetgroup": "neutral",
           "orientation": "v",
           "showlegend": true,
           "textposition": "auto",
           "type": "bar",
           "x": [
            "neutral"
           ],
           "xaxis": "x",
           "y": [
            11
           ],
           "yaxis": "y"
          },
          {
           "alignmentgroup": "True",
           "hovertemplate": "Sentiment=%{x}<br>time=5700<br>Count=%{y}<extra></extra>",
           "legendgroup": "positive",
           "marker": {
            "color": "green",
            "pattern": {
             "shape": ""
            }
           },
           "name": "positive",
           "offsetgroup": "positive",
           "orientation": "v",
           "showlegend": true,
           "textposition": "auto",
           "type": "bar",
           "x": [
            "positive"
           ],
           "xaxis": "x",
           "y": [
            2
           ],
           "yaxis": "y"
          }
         ],
         "name": "5700"
        },
        {
         "data": [
          {
           "alignmentgroup": "True",
           "hovertemplate": "Sentiment=%{x}<br>time=6000<br>Count=%{y}<extra></extra>",
           "legendgroup": "negative",
           "marker": {
            "color": "red",
            "pattern": {
             "shape": ""
            }
           },
           "name": "negative",
           "offsetgroup": "negative",
           "orientation": "v",
           "showlegend": true,
           "textposition": "auto",
           "type": "bar",
           "x": [
            "negative"
           ],
           "xaxis": "x",
           "y": [
            11
           ],
           "yaxis": "y"
          },
          {
           "alignmentgroup": "True",
           "hovertemplate": "Sentiment=%{x}<br>time=6000<br>Count=%{y}<extra></extra>",
           "legendgroup": "neutral",
           "marker": {
            "color": "yellow",
            "pattern": {
             "shape": ""
            }
           },
           "name": "neutral",
           "offsetgroup": "neutral",
           "orientation": "v",
           "showlegend": true,
           "textposition": "auto",
           "type": "bar",
           "x": [
            "neutral"
           ],
           "xaxis": "x",
           "y": [
            44
           ],
           "yaxis": "y"
          },
          {
           "alignmentgroup": "True",
           "hovertemplate": "Sentiment=%{x}<br>time=6000<br>Count=%{y}<extra></extra>",
           "legendgroup": "positive",
           "marker": {
            "color": "green",
            "pattern": {
             "shape": ""
            }
           },
           "name": "positive",
           "offsetgroup": "positive",
           "orientation": "v",
           "showlegend": true,
           "textposition": "auto",
           "type": "bar",
           "x": [
            "positive"
           ],
           "xaxis": "x",
           "y": [
            8
           ],
           "yaxis": "y"
          }
         ],
         "name": "6000"
        },
        {
         "data": [
          {
           "alignmentgroup": "True",
           "hovertemplate": "Sentiment=%{x}<br>time=6300<br>Count=%{y}<extra></extra>",
           "legendgroup": "negative",
           "marker": {
            "color": "red",
            "pattern": {
             "shape": ""
            }
           },
           "name": "negative",
           "offsetgroup": "negative",
           "orientation": "v",
           "showlegend": true,
           "textposition": "auto",
           "type": "bar",
           "x": [
            "negative"
           ],
           "xaxis": "x",
           "y": [
            23
           ],
           "yaxis": "y"
          },
          {
           "alignmentgroup": "True",
           "hovertemplate": "Sentiment=%{x}<br>time=6300<br>Count=%{y}<extra></extra>",
           "legendgroup": "neutral",
           "marker": {
            "color": "yellow",
            "pattern": {
             "shape": ""
            }
           },
           "name": "neutral",
           "offsetgroup": "neutral",
           "orientation": "v",
           "showlegend": true,
           "textposition": "auto",
           "type": "bar",
           "x": [
            "neutral"
           ],
           "xaxis": "x",
           "y": [
            122
           ],
           "yaxis": "y"
          },
          {
           "alignmentgroup": "True",
           "hovertemplate": "Sentiment=%{x}<br>time=6300<br>Count=%{y}<extra></extra>",
           "legendgroup": "positive",
           "marker": {
            "color": "green",
            "pattern": {
             "shape": ""
            }
           },
           "name": "positive",
           "offsetgroup": "positive",
           "orientation": "v",
           "showlegend": true,
           "textposition": "auto",
           "type": "bar",
           "x": [
            "positive"
           ],
           "xaxis": "x",
           "y": [
            21
           ],
           "yaxis": "y"
          }
         ],
         "name": "6300"
        },
        {
         "data": [
          {
           "alignmentgroup": "True",
           "hovertemplate": "Sentiment=%{x}<br>time=6600<br>Count=%{y}<extra></extra>",
           "legendgroup": "negative",
           "marker": {
            "color": "red",
            "pattern": {
             "shape": ""
            }
           },
           "name": "negative",
           "offsetgroup": "negative",
           "orientation": "v",
           "showlegend": true,
           "textposition": "auto",
           "type": "bar",
           "x": [
            "negative"
           ],
           "xaxis": "x",
           "y": [
            5
           ],
           "yaxis": "y"
          },
          {
           "alignmentgroup": "True",
           "hovertemplate": "Sentiment=%{x}<br>time=6600<br>Count=%{y}<extra></extra>",
           "legendgroup": "neutral",
           "marker": {
            "color": "yellow",
            "pattern": {
             "shape": ""
            }
           },
           "name": "neutral",
           "offsetgroup": "neutral",
           "orientation": "v",
           "showlegend": true,
           "textposition": "auto",
           "type": "bar",
           "x": [
            "neutral"
           ],
           "xaxis": "x",
           "y": [
            57
           ],
           "yaxis": "y"
          },
          {
           "alignmentgroup": "True",
           "hovertemplate": "Sentiment=%{x}<br>time=6600<br>Count=%{y}<extra></extra>",
           "legendgroup": "positive",
           "marker": {
            "color": "green",
            "pattern": {
             "shape": ""
            }
           },
           "name": "positive",
           "offsetgroup": "positive",
           "orientation": "v",
           "showlegend": true,
           "textposition": "auto",
           "type": "bar",
           "x": [
            "positive"
           ],
           "xaxis": "x",
           "y": [
            18
           ],
           "yaxis": "y"
          }
         ],
         "name": "6600"
        },
        {
         "data": [
          {
           "alignmentgroup": "True",
           "hovertemplate": "Sentiment=%{x}<br>time=6900<br>Count=%{y}<extra></extra>",
           "legendgroup": "negative",
           "marker": {
            "color": "red",
            "pattern": {
             "shape": ""
            }
           },
           "name": "negative",
           "offsetgroup": "negative",
           "orientation": "v",
           "showlegend": true,
           "textposition": "auto",
           "type": "bar",
           "x": [
            "negative"
           ],
           "xaxis": "x",
           "y": [
            9
           ],
           "yaxis": "y"
          },
          {
           "alignmentgroup": "True",
           "hovertemplate": "Sentiment=%{x}<br>time=6900<br>Count=%{y}<extra></extra>",
           "legendgroup": "neutral",
           "marker": {
            "color": "yellow",
            "pattern": {
             "shape": ""
            }
           },
           "name": "neutral",
           "offsetgroup": "neutral",
           "orientation": "v",
           "showlegend": true,
           "textposition": "auto",
           "type": "bar",
           "x": [
            "neutral"
           ],
           "xaxis": "x",
           "y": [
            43
           ],
           "yaxis": "y"
          },
          {
           "alignmentgroup": "True",
           "hovertemplate": "Sentiment=%{x}<br>time=6900<br>Count=%{y}<extra></extra>",
           "legendgroup": "positive",
           "marker": {
            "color": "green",
            "pattern": {
             "shape": ""
            }
           },
           "name": "positive",
           "offsetgroup": "positive",
           "orientation": "v",
           "showlegend": true,
           "textposition": "auto",
           "type": "bar",
           "x": [
            "positive"
           ],
           "xaxis": "x",
           "y": [
            9
           ],
           "yaxis": "y"
          }
         ],
         "name": "6900"
        },
        {
         "data": [
          {
           "alignmentgroup": "True",
           "hovertemplate": "Sentiment=%{x}<br>time=7200<br>Count=%{y}<extra></extra>",
           "legendgroup": "negative",
           "marker": {
            "color": "red",
            "pattern": {
             "shape": ""
            }
           },
           "name": "negative",
           "offsetgroup": "negative",
           "orientation": "v",
           "showlegend": true,
           "textposition": "auto",
           "type": "bar",
           "x": [
            "negative"
           ],
           "xaxis": "x",
           "y": [
            17
           ],
           "yaxis": "y"
          },
          {
           "alignmentgroup": "True",
           "hovertemplate": "Sentiment=%{x}<br>time=7200<br>Count=%{y}<extra></extra>",
           "legendgroup": "neutral",
           "marker": {
            "color": "yellow",
            "pattern": {
             "shape": ""
            }
           },
           "name": "neutral",
           "offsetgroup": "neutral",
           "orientation": "v",
           "showlegend": true,
           "textposition": "auto",
           "type": "bar",
           "x": [
            "neutral"
           ],
           "xaxis": "x",
           "y": [
            35
           ],
           "yaxis": "y"
          },
          {
           "alignmentgroup": "True",
           "hovertemplate": "Sentiment=%{x}<br>time=7200<br>Count=%{y}<extra></extra>",
           "legendgroup": "positive",
           "marker": {
            "color": "green",
            "pattern": {
             "shape": ""
            }
           },
           "name": "positive",
           "offsetgroup": "positive",
           "orientation": "v",
           "showlegend": true,
           "textposition": "auto",
           "type": "bar",
           "x": [
            "positive"
           ],
           "xaxis": "x",
           "y": [
            16
           ],
           "yaxis": "y"
          }
         ],
         "name": "7200"
        },
        {
         "data": [
          {
           "alignmentgroup": "True",
           "hovertemplate": "Sentiment=%{x}<br>time=7500<br>Count=%{y}<extra></extra>",
           "legendgroup": "negative",
           "marker": {
            "color": "red",
            "pattern": {
             "shape": ""
            }
           },
           "name": "negative",
           "offsetgroup": "negative",
           "orientation": "v",
           "showlegend": true,
           "textposition": "auto",
           "type": "bar",
           "x": [
            "negative"
           ],
           "xaxis": "x",
           "y": [
            7
           ],
           "yaxis": "y"
          },
          {
           "alignmentgroup": "True",
           "hovertemplate": "Sentiment=%{x}<br>time=7500<br>Count=%{y}<extra></extra>",
           "legendgroup": "neutral",
           "marker": {
            "color": "yellow",
            "pattern": {
             "shape": ""
            }
           },
           "name": "neutral",
           "offsetgroup": "neutral",
           "orientation": "v",
           "showlegend": true,
           "textposition": "auto",
           "type": "bar",
           "x": [
            "neutral"
           ],
           "xaxis": "x",
           "y": [
            19
           ],
           "yaxis": "y"
          },
          {
           "alignmentgroup": "True",
           "hovertemplate": "Sentiment=%{x}<br>time=7500<br>Count=%{y}<extra></extra>",
           "legendgroup": "positive",
           "marker": {
            "color": "green",
            "pattern": {
             "shape": ""
            }
           },
           "name": "positive",
           "offsetgroup": "positive",
           "orientation": "v",
           "showlegend": true,
           "textposition": "auto",
           "type": "bar",
           "x": [
            "positive"
           ],
           "xaxis": "x",
           "y": [
            7
           ],
           "yaxis": "y"
          }
         ],
         "name": "7500"
        },
        {
         "data": [
          {
           "alignmentgroup": "True",
           "hovertemplate": "Sentiment=%{x}<br>time=7800<br>Count=%{y}<extra></extra>",
           "legendgroup": "negative",
           "marker": {
            "color": "red",
            "pattern": {
             "shape": ""
            }
           },
           "name": "negative",
           "offsetgroup": "negative",
           "orientation": "v",
           "showlegend": true,
           "textposition": "auto",
           "type": "bar",
           "x": [
            "negative"
           ],
           "xaxis": "x",
           "y": [
            13
           ],
           "yaxis": "y"
          },
          {
           "alignmentgroup": "True",
           "hovertemplate": "Sentiment=%{x}<br>time=7800<br>Count=%{y}<extra></extra>",
           "legendgroup": "neutral",
           "marker": {
            "color": "yellow",
            "pattern": {
             "shape": ""
            }
           },
           "name": "neutral",
           "offsetgroup": "neutral",
           "orientation": "v",
           "showlegend": true,
           "textposition": "auto",
           "type": "bar",
           "x": [
            "neutral"
           ],
           "xaxis": "x",
           "y": [
            16
           ],
           "yaxis": "y"
          },
          {
           "alignmentgroup": "True",
           "hovertemplate": "Sentiment=%{x}<br>time=7800<br>Count=%{y}<extra></extra>",
           "legendgroup": "positive",
           "marker": {
            "color": "green",
            "pattern": {
             "shape": ""
            }
           },
           "name": "positive",
           "offsetgroup": "positive",
           "orientation": "v",
           "showlegend": true,
           "textposition": "auto",
           "type": "bar",
           "x": [
            "positive"
           ],
           "xaxis": "x",
           "y": [
            5
           ],
           "yaxis": "y"
          }
         ],
         "name": "7800"
        },
        {
         "data": [
          {
           "alignmentgroup": "True",
           "hovertemplate": "Sentiment=%{x}<br>time=8100<br>Count=%{y}<extra></extra>",
           "legendgroup": "negative",
           "marker": {
            "color": "red",
            "pattern": {
             "shape": ""
            }
           },
           "name": "negative",
           "offsetgroup": "negative",
           "orientation": "v",
           "showlegend": true,
           "textposition": "auto",
           "type": "bar",
           "x": [
            "negative"
           ],
           "xaxis": "x",
           "y": [
            3
           ],
           "yaxis": "y"
          },
          {
           "alignmentgroup": "True",
           "hovertemplate": "Sentiment=%{x}<br>time=8100<br>Count=%{y}<extra></extra>",
           "legendgroup": "neutral",
           "marker": {
            "color": "yellow",
            "pattern": {
             "shape": ""
            }
           },
           "name": "neutral",
           "offsetgroup": "neutral",
           "orientation": "v",
           "showlegend": true,
           "textposition": "auto",
           "type": "bar",
           "x": [
            "neutral"
           ],
           "xaxis": "x",
           "y": [
            26
           ],
           "yaxis": "y"
          },
          {
           "alignmentgroup": "True",
           "hovertemplate": "Sentiment=%{x}<br>time=8100<br>Count=%{y}<extra></extra>",
           "legendgroup": "positive",
           "marker": {
            "color": "green",
            "pattern": {
             "shape": ""
            }
           },
           "name": "positive",
           "offsetgroup": "positive",
           "orientation": "v",
           "showlegend": true,
           "textposition": "auto",
           "type": "bar",
           "x": [
            "positive"
           ],
           "xaxis": "x",
           "y": [
            18
           ],
           "yaxis": "y"
          }
         ],
         "name": "8100"
        },
        {
         "data": [
          {
           "alignmentgroup": "True",
           "hovertemplate": "Sentiment=%{x}<br>time=8400<br>Count=%{y}<extra></extra>",
           "legendgroup": "negative",
           "marker": {
            "color": "red",
            "pattern": {
             "shape": ""
            }
           },
           "name": "negative",
           "offsetgroup": "negative",
           "orientation": "v",
           "showlegend": true,
           "textposition": "auto",
           "type": "bar",
           "x": [
            "negative"
           ],
           "xaxis": "x",
           "y": [
            9
           ],
           "yaxis": "y"
          },
          {
           "alignmentgroup": "True",
           "hovertemplate": "Sentiment=%{x}<br>time=8400<br>Count=%{y}<extra></extra>",
           "legendgroup": "neutral",
           "marker": {
            "color": "yellow",
            "pattern": {
             "shape": ""
            }
           },
           "name": "neutral",
           "offsetgroup": "neutral",
           "orientation": "v",
           "showlegend": true,
           "textposition": "auto",
           "type": "bar",
           "x": [
            "neutral"
           ],
           "xaxis": "x",
           "y": [
            48
           ],
           "yaxis": "y"
          },
          {
           "alignmentgroup": "True",
           "hovertemplate": "Sentiment=%{x}<br>time=8400<br>Count=%{y}<extra></extra>",
           "legendgroup": "positive",
           "marker": {
            "color": "green",
            "pattern": {
             "shape": ""
            }
           },
           "name": "positive",
           "offsetgroup": "positive",
           "orientation": "v",
           "showlegend": true,
           "textposition": "auto",
           "type": "bar",
           "x": [
            "positive"
           ],
           "xaxis": "x",
           "y": [
            23
           ],
           "yaxis": "y"
          }
         ],
         "name": "8400"
        },
        {
         "data": [
          {
           "alignmentgroup": "True",
           "hovertemplate": "Sentiment=%{x}<br>time=8700<br>Count=%{y}<extra></extra>",
           "legendgroup": "negative",
           "marker": {
            "color": "red",
            "pattern": {
             "shape": ""
            }
           },
           "name": "negative",
           "offsetgroup": "negative",
           "orientation": "v",
           "showlegend": true,
           "textposition": "auto",
           "type": "bar",
           "x": [
            "negative"
           ],
           "xaxis": "x",
           "y": [
            8
           ],
           "yaxis": "y"
          },
          {
           "alignmentgroup": "True",
           "hovertemplate": "Sentiment=%{x}<br>time=8700<br>Count=%{y}<extra></extra>",
           "legendgroup": "neutral",
           "marker": {
            "color": "yellow",
            "pattern": {
             "shape": ""
            }
           },
           "name": "neutral",
           "offsetgroup": "neutral",
           "orientation": "v",
           "showlegend": true,
           "textposition": "auto",
           "type": "bar",
           "x": [
            "neutral"
           ],
           "xaxis": "x",
           "y": [
            47
           ],
           "yaxis": "y"
          },
          {
           "alignmentgroup": "True",
           "hovertemplate": "Sentiment=%{x}<br>time=8700<br>Count=%{y}<extra></extra>",
           "legendgroup": "positive",
           "marker": {
            "color": "green",
            "pattern": {
             "shape": ""
            }
           },
           "name": "positive",
           "offsetgroup": "positive",
           "orientation": "v",
           "showlegend": true,
           "textposition": "auto",
           "type": "bar",
           "x": [
            "positive"
           ],
           "xaxis": "x",
           "y": [
            15
           ],
           "yaxis": "y"
          }
         ],
         "name": "8700"
        },
        {
         "data": [
          {
           "alignmentgroup": "True",
           "hovertemplate": "Sentiment=%{x}<br>time=9000<br>Count=%{y}<extra></extra>",
           "legendgroup": "negative",
           "marker": {
            "color": "red",
            "pattern": {
             "shape": ""
            }
           },
           "name": "negative",
           "offsetgroup": "negative",
           "orientation": "v",
           "showlegend": true,
           "textposition": "auto",
           "type": "bar",
           "x": [
            "negative"
           ],
           "xaxis": "x",
           "y": [
            2
           ],
           "yaxis": "y"
          },
          {
           "alignmentgroup": "True",
           "hovertemplate": "Sentiment=%{x}<br>time=9000<br>Count=%{y}<extra></extra>",
           "legendgroup": "neutral",
           "marker": {
            "color": "yellow",
            "pattern": {
             "shape": ""
            }
           },
           "name": "neutral",
           "offsetgroup": "neutral",
           "orientation": "v",
           "showlegend": true,
           "textposition": "auto",
           "type": "bar",
           "x": [
            "neutral"
           ],
           "xaxis": "x",
           "y": [
            19
           ],
           "yaxis": "y"
          },
          {
           "alignmentgroup": "True",
           "hovertemplate": "Sentiment=%{x}<br>time=9000<br>Count=%{y}<extra></extra>",
           "legendgroup": "positive",
           "marker": {
            "color": "green",
            "pattern": {
             "shape": ""
            }
           },
           "name": "positive",
           "offsetgroup": "positive",
           "orientation": "v",
           "showlegend": true,
           "textposition": "auto",
           "type": "bar",
           "x": [
            "positive"
           ],
           "xaxis": "x",
           "y": [
            2
           ],
           "yaxis": "y"
          }
         ],
         "name": "9000"
        },
        {
         "data": [
          {
           "alignmentgroup": "True",
           "hovertemplate": "Sentiment=%{x}<br>time=9300<br>Count=%{y}<extra></extra>",
           "legendgroup": "negative",
           "marker": {
            "color": "red",
            "pattern": {
             "shape": ""
            }
           },
           "name": "negative",
           "offsetgroup": "negative",
           "orientation": "v",
           "showlegend": true,
           "textposition": "auto",
           "type": "bar",
           "x": [
            "negative"
           ],
           "xaxis": "x",
           "y": [
            6
           ],
           "yaxis": "y"
          },
          {
           "alignmentgroup": "True",
           "hovertemplate": "Sentiment=%{x}<br>time=9300<br>Count=%{y}<extra></extra>",
           "legendgroup": "neutral",
           "marker": {
            "color": "yellow",
            "pattern": {
             "shape": ""
            }
           },
           "name": "neutral",
           "offsetgroup": "neutral",
           "orientation": "v",
           "showlegend": true,
           "textposition": "auto",
           "type": "bar",
           "x": [
            "neutral"
           ],
           "xaxis": "x",
           "y": [
            45
           ],
           "yaxis": "y"
          },
          {
           "alignmentgroup": "True",
           "hovertemplate": "Sentiment=%{x}<br>time=9300<br>Count=%{y}<extra></extra>",
           "legendgroup": "positive",
           "marker": {
            "color": "green",
            "pattern": {
             "shape": ""
            }
           },
           "name": "positive",
           "offsetgroup": "positive",
           "orientation": "v",
           "showlegend": true,
           "textposition": "auto",
           "type": "bar",
           "x": [
            "positive"
           ],
           "xaxis": "x",
           "y": [
            7
           ],
           "yaxis": "y"
          }
         ],
         "name": "9300"
        },
        {
         "data": [
          {
           "alignmentgroup": "True",
           "hovertemplate": "Sentiment=%{x}<br>time=9600<br>Count=%{y}<extra></extra>",
           "legendgroup": "negative",
           "marker": {
            "color": "red",
            "pattern": {
             "shape": ""
            }
           },
           "name": "negative",
           "offsetgroup": "negative",
           "orientation": "v",
           "showlegend": true,
           "textposition": "auto",
           "type": "bar",
           "x": [
            "negative"
           ],
           "xaxis": "x",
           "y": [
            69
           ],
           "yaxis": "y"
          },
          {
           "alignmentgroup": "True",
           "hovertemplate": "Sentiment=%{x}<br>time=9600<br>Count=%{y}<extra></extra>",
           "legendgroup": "neutral",
           "marker": {
            "color": "yellow",
            "pattern": {
             "shape": ""
            }
           },
           "name": "neutral",
           "offsetgroup": "neutral",
           "orientation": "v",
           "showlegend": true,
           "textposition": "auto",
           "type": "bar",
           "x": [
            "neutral"
           ],
           "xaxis": "x",
           "y": [
            127
           ],
           "yaxis": "y"
          },
          {
           "alignmentgroup": "True",
           "hovertemplate": "Sentiment=%{x}<br>time=9600<br>Count=%{y}<extra></extra>",
           "legendgroup": "positive",
           "marker": {
            "color": "green",
            "pattern": {
             "shape": ""
            }
           },
           "name": "positive",
           "offsetgroup": "positive",
           "orientation": "v",
           "showlegend": true,
           "textposition": "auto",
           "type": "bar",
           "x": [
            "positive"
           ],
           "xaxis": "x",
           "y": [
            54
           ],
           "yaxis": "y"
          }
         ],
         "name": "9600"
        },
        {
         "data": [
          {
           "alignmentgroup": "True",
           "hovertemplate": "Sentiment=%{x}<br>time=9900<br>Count=%{y}<extra></extra>",
           "legendgroup": "negative",
           "marker": {
            "color": "red",
            "pattern": {
             "shape": ""
            }
           },
           "name": "negative",
           "offsetgroup": "negative",
           "orientation": "v",
           "showlegend": true,
           "textposition": "auto",
           "type": "bar",
           "x": [
            "negative"
           ],
           "xaxis": "x",
           "y": [
            20
           ],
           "yaxis": "y"
          },
          {
           "alignmentgroup": "True",
           "hovertemplate": "Sentiment=%{x}<br>time=9900<br>Count=%{y}<extra></extra>",
           "legendgroup": "neutral",
           "marker": {
            "color": "yellow",
            "pattern": {
             "shape": ""
            }
           },
           "name": "neutral",
           "offsetgroup": "neutral",
           "orientation": "v",
           "showlegend": true,
           "textposition": "auto",
           "type": "bar",
           "x": [
            "neutral"
           ],
           "xaxis": "x",
           "y": [
            105
           ],
           "yaxis": "y"
          },
          {
           "alignmentgroup": "True",
           "hovertemplate": "Sentiment=%{x}<br>time=9900<br>Count=%{y}<extra></extra>",
           "legendgroup": "positive",
           "marker": {
            "color": "green",
            "pattern": {
             "shape": ""
            }
           },
           "name": "positive",
           "offsetgroup": "positive",
           "orientation": "v",
           "showlegend": true,
           "textposition": "auto",
           "type": "bar",
           "x": [
            "positive"
           ],
           "xaxis": "x",
           "y": [
            26
           ],
           "yaxis": "y"
          }
         ],
         "name": "9900"
        },
        {
         "data": [
          {
           "alignmentgroup": "True",
           "hovertemplate": "Sentiment=%{x}<br>time=10200<br>Count=%{y}<extra></extra>",
           "legendgroup": "negative",
           "marker": {
            "color": "red",
            "pattern": {
             "shape": ""
            }
           },
           "name": "negative",
           "offsetgroup": "negative",
           "orientation": "v",
           "showlegend": true,
           "textposition": "auto",
           "type": "bar",
           "x": [
            "negative"
           ],
           "xaxis": "x",
           "y": [
            7
           ],
           "yaxis": "y"
          },
          {
           "alignmentgroup": "True",
           "hovertemplate": "Sentiment=%{x}<br>time=10200<br>Count=%{y}<extra></extra>",
           "legendgroup": "neutral",
           "marker": {
            "color": "yellow",
            "pattern": {
             "shape": ""
            }
           },
           "name": "neutral",
           "offsetgroup": "neutral",
           "orientation": "v",
           "showlegend": true,
           "textposition": "auto",
           "type": "bar",
           "x": [
            "neutral"
           ],
           "xaxis": "x",
           "y": [
            18
           ],
           "yaxis": "y"
          },
          {
           "alignmentgroup": "True",
           "hovertemplate": "Sentiment=%{x}<br>time=10200<br>Count=%{y}<extra></extra>",
           "legendgroup": "positive",
           "marker": {
            "color": "green",
            "pattern": {
             "shape": ""
            }
           },
           "name": "positive",
           "offsetgroup": "positive",
           "orientation": "v",
           "showlegend": true,
           "textposition": "auto",
           "type": "bar",
           "x": [
            "positive"
           ],
           "xaxis": "x",
           "y": [
            9
           ],
           "yaxis": "y"
          }
         ],
         "name": "10200"
        },
        {
         "data": [
          {
           "alignmentgroup": "True",
           "hovertemplate": "Sentiment=%{x}<br>time=10500<br>Count=%{y}<extra></extra>",
           "legendgroup": "negative",
           "marker": {
            "color": "red",
            "pattern": {
             "shape": ""
            }
           },
           "name": "negative",
           "offsetgroup": "negative",
           "orientation": "v",
           "showlegend": true,
           "textposition": "auto",
           "type": "bar",
           "x": [
            "negative"
           ],
           "xaxis": "x",
           "y": [
            16
           ],
           "yaxis": "y"
          },
          {
           "alignmentgroup": "True",
           "hovertemplate": "Sentiment=%{x}<br>time=10500<br>Count=%{y}<extra></extra>",
           "legendgroup": "neutral",
           "marker": {
            "color": "yellow",
            "pattern": {
             "shape": ""
            }
           },
           "name": "neutral",
           "offsetgroup": "neutral",
           "orientation": "v",
           "showlegend": true,
           "textposition": "auto",
           "type": "bar",
           "x": [
            "neutral"
           ],
           "xaxis": "x",
           "y": [
            36
           ],
           "yaxis": "y"
          },
          {
           "alignmentgroup": "True",
           "hovertemplate": "Sentiment=%{x}<br>time=10500<br>Count=%{y}<extra></extra>",
           "legendgroup": "positive",
           "marker": {
            "color": "green",
            "pattern": {
             "shape": ""
            }
           },
           "name": "positive",
           "offsetgroup": "positive",
           "orientation": "v",
           "showlegend": true,
           "textposition": "auto",
           "type": "bar",
           "x": [
            "positive"
           ],
           "xaxis": "x",
           "y": [
            7
           ],
           "yaxis": "y"
          }
         ],
         "name": "10500"
        },
        {
         "data": [
          {
           "alignmentgroup": "True",
           "hovertemplate": "Sentiment=%{x}<br>time=10800<br>Count=%{y}<extra></extra>",
           "legendgroup": "negative",
           "marker": {
            "color": "red",
            "pattern": {
             "shape": ""
            }
           },
           "name": "negative",
           "offsetgroup": "negative",
           "orientation": "v",
           "showlegend": true,
           "textposition": "auto",
           "type": "bar",
           "x": [
            "negative"
           ],
           "xaxis": "x",
           "y": [
            10
           ],
           "yaxis": "y"
          },
          {
           "alignmentgroup": "True",
           "hovertemplate": "Sentiment=%{x}<br>time=10800<br>Count=%{y}<extra></extra>",
           "legendgroup": "neutral",
           "marker": {
            "color": "yellow",
            "pattern": {
             "shape": ""
            }
           },
           "name": "neutral",
           "offsetgroup": "neutral",
           "orientation": "v",
           "showlegend": true,
           "textposition": "auto",
           "type": "bar",
           "x": [
            "neutral"
           ],
           "xaxis": "x",
           "y": [
            43
           ],
           "yaxis": "y"
          },
          {
           "alignmentgroup": "True",
           "hovertemplate": "Sentiment=%{x}<br>time=10800<br>Count=%{y}<extra></extra>",
           "legendgroup": "positive",
           "marker": {
            "color": "green",
            "pattern": {
             "shape": ""
            }
           },
           "name": "positive",
           "offsetgroup": "positive",
           "orientation": "v",
           "showlegend": true,
           "textposition": "auto",
           "type": "bar",
           "x": [
            "positive"
           ],
           "xaxis": "x",
           "y": [
            11
           ],
           "yaxis": "y"
          }
         ],
         "name": "10800"
        },
        {
         "data": [
          {
           "alignmentgroup": "True",
           "hovertemplate": "Sentiment=%{x}<br>time=11100<br>Count=%{y}<extra></extra>",
           "legendgroup": "negative",
           "marker": {
            "color": "red",
            "pattern": {
             "shape": ""
            }
           },
           "name": "negative",
           "offsetgroup": "negative",
           "orientation": "v",
           "showlegend": true,
           "textposition": "auto",
           "type": "bar",
           "x": [
            "negative"
           ],
           "xaxis": "x",
           "y": [
            7
           ],
           "yaxis": "y"
          },
          {
           "alignmentgroup": "True",
           "hovertemplate": "Sentiment=%{x}<br>time=11100<br>Count=%{y}<extra></extra>",
           "legendgroup": "neutral",
           "marker": {
            "color": "yellow",
            "pattern": {
             "shape": ""
            }
           },
           "name": "neutral",
           "offsetgroup": "neutral",
           "orientation": "v",
           "showlegend": true,
           "textposition": "auto",
           "type": "bar",
           "x": [
            "neutral"
           ],
           "xaxis": "x",
           "y": [
            55
           ],
           "yaxis": "y"
          },
          {
           "alignmentgroup": "True",
           "hovertemplate": "Sentiment=%{x}<br>time=11100<br>Count=%{y}<extra></extra>",
           "legendgroup": "positive",
           "marker": {
            "color": "green",
            "pattern": {
             "shape": ""
            }
           },
           "name": "positive",
           "offsetgroup": "positive",
           "orientation": "v",
           "showlegend": true,
           "textposition": "auto",
           "type": "bar",
           "x": [
            "positive"
           ],
           "xaxis": "x",
           "y": [
            19
           ],
           "yaxis": "y"
          }
         ],
         "name": "11100"
        },
        {
         "data": [
          {
           "alignmentgroup": "True",
           "hovertemplate": "Sentiment=%{x}<br>time=11400<br>Count=%{y}<extra></extra>",
           "legendgroup": "negative",
           "marker": {
            "color": "red",
            "pattern": {
             "shape": ""
            }
           },
           "name": "negative",
           "offsetgroup": "negative",
           "orientation": "v",
           "showlegend": true,
           "textposition": "auto",
           "type": "bar",
           "x": [
            "negative"
           ],
           "xaxis": "x",
           "y": [
            12
           ],
           "yaxis": "y"
          },
          {
           "alignmentgroup": "True",
           "hovertemplate": "Sentiment=%{x}<br>time=11400<br>Count=%{y}<extra></extra>",
           "legendgroup": "neutral",
           "marker": {
            "color": "yellow",
            "pattern": {
             "shape": ""
            }
           },
           "name": "neutral",
           "offsetgroup": "neutral",
           "orientation": "v",
           "showlegend": true,
           "textposition": "auto",
           "type": "bar",
           "x": [
            "neutral"
           ],
           "xaxis": "x",
           "y": [
            54
           ],
           "yaxis": "y"
          },
          {
           "alignmentgroup": "True",
           "hovertemplate": "Sentiment=%{x}<br>time=11400<br>Count=%{y}<extra></extra>",
           "legendgroup": "positive",
           "marker": {
            "color": "green",
            "pattern": {
             "shape": ""
            }
           },
           "name": "positive",
           "offsetgroup": "positive",
           "orientation": "v",
           "showlegend": true,
           "textposition": "auto",
           "type": "bar",
           "x": [
            "positive"
           ],
           "xaxis": "x",
           "y": [
            21
           ],
           "yaxis": "y"
          }
         ],
         "name": "11400"
        },
        {
         "data": [
          {
           "alignmentgroup": "True",
           "hovertemplate": "Sentiment=%{x}<br>time=11700<br>Count=%{y}<extra></extra>",
           "legendgroup": "negative",
           "marker": {
            "color": "red",
            "pattern": {
             "shape": ""
            }
           },
           "name": "negative",
           "offsetgroup": "negative",
           "orientation": "v",
           "showlegend": true,
           "textposition": "auto",
           "type": "bar",
           "x": [
            "negative"
           ],
           "xaxis": "x",
           "y": [
            11
           ],
           "yaxis": "y"
          },
          {
           "alignmentgroup": "True",
           "hovertemplate": "Sentiment=%{x}<br>time=11700<br>Count=%{y}<extra></extra>",
           "legendgroup": "neutral",
           "marker": {
            "color": "yellow",
            "pattern": {
             "shape": ""
            }
           },
           "name": "neutral",
           "offsetgroup": "neutral",
           "orientation": "v",
           "showlegend": true,
           "textposition": "auto",
           "type": "bar",
           "x": [
            "neutral"
           ],
           "xaxis": "x",
           "y": [
            21
           ],
           "yaxis": "y"
          },
          {
           "alignmentgroup": "True",
           "hovertemplate": "Sentiment=%{x}<br>time=11700<br>Count=%{y}<extra></extra>",
           "legendgroup": "positive",
           "marker": {
            "color": "green",
            "pattern": {
             "shape": ""
            }
           },
           "name": "positive",
           "offsetgroup": "positive",
           "orientation": "v",
           "showlegend": true,
           "textposition": "auto",
           "type": "bar",
           "x": [
            "positive"
           ],
           "xaxis": "x",
           "y": [
            7
           ],
           "yaxis": "y"
          }
         ],
         "name": "11700"
        },
        {
         "data": [
          {
           "alignmentgroup": "True",
           "hovertemplate": "Sentiment=%{x}<br>time=12000<br>Count=%{y}<extra></extra>",
           "legendgroup": "negative",
           "marker": {
            "color": "red",
            "pattern": {
             "shape": ""
            }
           },
           "name": "negative",
           "offsetgroup": "negative",
           "orientation": "v",
           "showlegend": true,
           "textposition": "auto",
           "type": "bar",
           "x": [
            "negative"
           ],
           "xaxis": "x",
           "y": [
            27
           ],
           "yaxis": "y"
          },
          {
           "alignmentgroup": "True",
           "hovertemplate": "Sentiment=%{x}<br>time=12000<br>Count=%{y}<extra></extra>",
           "legendgroup": "neutral",
           "marker": {
            "color": "yellow",
            "pattern": {
             "shape": ""
            }
           },
           "name": "neutral",
           "offsetgroup": "neutral",
           "orientation": "v",
           "showlegend": true,
           "textposition": "auto",
           "type": "bar",
           "x": [
            "neutral"
           ],
           "xaxis": "x",
           "y": [
            27
           ],
           "yaxis": "y"
          },
          {
           "alignmentgroup": "True",
           "hovertemplate": "Sentiment=%{x}<br>time=12000<br>Count=%{y}<extra></extra>",
           "legendgroup": "positive",
           "marker": {
            "color": "green",
            "pattern": {
             "shape": ""
            }
           },
           "name": "positive",
           "offsetgroup": "positive",
           "orientation": "v",
           "showlegend": true,
           "textposition": "auto",
           "type": "bar",
           "x": [
            "positive"
           ],
           "xaxis": "x",
           "y": [
            5
           ],
           "yaxis": "y"
          }
         ],
         "name": "12000"
        },
        {
         "data": [
          {
           "alignmentgroup": "True",
           "hovertemplate": "Sentiment=%{x}<br>time=12300<br>Count=%{y}<extra></extra>",
           "legendgroup": "negative",
           "marker": {
            "color": "red",
            "pattern": {
             "shape": ""
            }
           },
           "name": "negative",
           "offsetgroup": "negative",
           "orientation": "v",
           "showlegend": true,
           "textposition": "auto",
           "type": "bar",
           "x": [
            "negative"
           ],
           "xaxis": "x",
           "y": [
            6
           ],
           "yaxis": "y"
          },
          {
           "alignmentgroup": "True",
           "hovertemplate": "Sentiment=%{x}<br>time=12300<br>Count=%{y}<extra></extra>",
           "legendgroup": "neutral",
           "marker": {
            "color": "yellow",
            "pattern": {
             "shape": ""
            }
           },
           "name": "neutral",
           "offsetgroup": "neutral",
           "orientation": "v",
           "showlegend": true,
           "textposition": "auto",
           "type": "bar",
           "x": [
            "neutral"
           ],
           "xaxis": "x",
           "y": [
            18
           ],
           "yaxis": "y"
          },
          {
           "alignmentgroup": "True",
           "hovertemplate": "Sentiment=%{x}<br>time=12300<br>Count=%{y}<extra></extra>",
           "legendgroup": "positive",
           "marker": {
            "color": "green",
            "pattern": {
             "shape": ""
            }
           },
           "name": "positive",
           "offsetgroup": "positive",
           "orientation": "v",
           "showlegend": true,
           "textposition": "auto",
           "type": "bar",
           "x": [
            "positive"
           ],
           "xaxis": "x",
           "y": [
            15
           ],
           "yaxis": "y"
          }
         ],
         "name": "12300"
        },
        {
         "data": [
          {
           "alignmentgroup": "True",
           "hovertemplate": "Sentiment=%{x}<br>time=12600<br>Count=%{y}<extra></extra>",
           "legendgroup": "negative",
           "marker": {
            "color": "red",
            "pattern": {
             "shape": ""
            }
           },
           "name": "negative",
           "offsetgroup": "negative",
           "orientation": "v",
           "showlegend": true,
           "textposition": "auto",
           "type": "bar",
           "x": [
            "negative"
           ],
           "xaxis": "x",
           "y": [
            14
           ],
           "yaxis": "y"
          },
          {
           "alignmentgroup": "True",
           "hovertemplate": "Sentiment=%{x}<br>time=12600<br>Count=%{y}<extra></extra>",
           "legendgroup": "neutral",
           "marker": {
            "color": "yellow",
            "pattern": {
             "shape": ""
            }
           },
           "name": "neutral",
           "offsetgroup": "neutral",
           "orientation": "v",
           "showlegend": true,
           "textposition": "auto",
           "type": "bar",
           "x": [
            "neutral"
           ],
           "xaxis": "x",
           "y": [
            33
           ],
           "yaxis": "y"
          },
          {
           "alignmentgroup": "True",
           "hovertemplate": "Sentiment=%{x}<br>time=12600<br>Count=%{y}<extra></extra>",
           "legendgroup": "positive",
           "marker": {
            "color": "green",
            "pattern": {
             "shape": ""
            }
           },
           "name": "positive",
           "offsetgroup": "positive",
           "orientation": "v",
           "showlegend": true,
           "textposition": "auto",
           "type": "bar",
           "x": [
            "positive"
           ],
           "xaxis": "x",
           "y": [
            19
           ],
           "yaxis": "y"
          }
         ],
         "name": "12600"
        },
        {
         "data": [
          {
           "alignmentgroup": "True",
           "hovertemplate": "Sentiment=%{x}<br>time=12900<br>Count=%{y}<extra></extra>",
           "legendgroup": "negative",
           "marker": {
            "color": "red",
            "pattern": {
             "shape": ""
            }
           },
           "name": "negative",
           "offsetgroup": "negative",
           "orientation": "v",
           "showlegend": true,
           "textposition": "auto",
           "type": "bar",
           "x": [
            "negative"
           ],
           "xaxis": "x",
           "y": [
            7
           ],
           "yaxis": "y"
          },
          {
           "alignmentgroup": "True",
           "hovertemplate": "Sentiment=%{x}<br>time=12900<br>Count=%{y}<extra></extra>",
           "legendgroup": "neutral",
           "marker": {
            "color": "yellow",
            "pattern": {
             "shape": ""
            }
           },
           "name": "neutral",
           "offsetgroup": "neutral",
           "orientation": "v",
           "showlegend": true,
           "textposition": "auto",
           "type": "bar",
           "x": [
            "neutral"
           ],
           "xaxis": "x",
           "y": [
            19
           ],
           "yaxis": "y"
          },
          {
           "alignmentgroup": "True",
           "hovertemplate": "Sentiment=%{x}<br>time=12900<br>Count=%{y}<extra></extra>",
           "legendgroup": "positive",
           "marker": {
            "color": "green",
            "pattern": {
             "shape": ""
            }
           },
           "name": "positive",
           "offsetgroup": "positive",
           "orientation": "v",
           "showlegend": true,
           "textposition": "auto",
           "type": "bar",
           "x": [
            "positive"
           ],
           "xaxis": "x",
           "y": [
            18
           ],
           "yaxis": "y"
          }
         ],
         "name": "12900"
        },
        {
         "data": [
          {
           "alignmentgroup": "True",
           "hovertemplate": "Sentiment=%{x}<br>time=13200<br>Count=%{y}<extra></extra>",
           "legendgroup": "negative",
           "marker": {
            "color": "red",
            "pattern": {
             "shape": ""
            }
           },
           "name": "negative",
           "offsetgroup": "negative",
           "orientation": "v",
           "showlegend": true,
           "textposition": "auto",
           "type": "bar",
           "x": [
            "negative"
           ],
           "xaxis": "x",
           "y": [
            0
           ],
           "yaxis": "y"
          },
          {
           "alignmentgroup": "True",
           "hovertemplate": "Sentiment=%{x}<br>time=13200<br>Count=%{y}<extra></extra>",
           "legendgroup": "neutral",
           "marker": {
            "color": "yellow",
            "pattern": {
             "shape": ""
            }
           },
           "name": "neutral",
           "offsetgroup": "neutral",
           "orientation": "v",
           "showlegend": true,
           "textposition": "auto",
           "type": "bar",
           "x": [
            "neutral"
           ],
           "xaxis": "x",
           "y": [
            5
           ],
           "yaxis": "y"
          },
          {
           "alignmentgroup": "True",
           "hovertemplate": "Sentiment=%{x}<br>time=13200<br>Count=%{y}<extra></extra>",
           "legendgroup": "positive",
           "marker": {
            "color": "green",
            "pattern": {
             "shape": ""
            }
           },
           "name": "positive",
           "offsetgroup": "positive",
           "orientation": "v",
           "showlegend": true,
           "textposition": "auto",
           "type": "bar",
           "x": [
            "positive"
           ],
           "xaxis": "x",
           "y": [
            3
           ],
           "yaxis": "y"
          }
         ],
         "name": "13200"
        },
        {
         "data": [
          {
           "alignmentgroup": "True",
           "hovertemplate": "Sentiment=%{x}<br>time=13500<br>Count=%{y}<extra></extra>",
           "legendgroup": "negative",
           "marker": {
            "color": "red",
            "pattern": {
             "shape": ""
            }
           },
           "name": "negative",
           "offsetgroup": "negative",
           "orientation": "v",
           "showlegend": true,
           "textposition": "auto",
           "type": "bar",
           "x": [
            "negative"
           ],
           "xaxis": "x",
           "y": [
            5
           ],
           "yaxis": "y"
          },
          {
           "alignmentgroup": "True",
           "hovertemplate": "Sentiment=%{x}<br>time=13500<br>Count=%{y}<extra></extra>",
           "legendgroup": "neutral",
           "marker": {
            "color": "yellow",
            "pattern": {
             "shape": ""
            }
           },
           "name": "neutral",
           "offsetgroup": "neutral",
           "orientation": "v",
           "showlegend": true,
           "textposition": "auto",
           "type": "bar",
           "x": [
            "neutral"
           ],
           "xaxis": "x",
           "y": [
            20
           ],
           "yaxis": "y"
          },
          {
           "alignmentgroup": "True",
           "hovertemplate": "Sentiment=%{x}<br>time=13500<br>Count=%{y}<extra></extra>",
           "legendgroup": "positive",
           "marker": {
            "color": "green",
            "pattern": {
             "shape": ""
            }
           },
           "name": "positive",
           "offsetgroup": "positive",
           "orientation": "v",
           "showlegend": true,
           "textposition": "auto",
           "type": "bar",
           "x": [
            "positive"
           ],
           "xaxis": "x",
           "y": [
            5
           ],
           "yaxis": "y"
          }
         ],
         "name": "13500"
        },
        {
         "data": [
          {
           "alignmentgroup": "True",
           "hovertemplate": "Sentiment=%{x}<br>time=13800<br>Count=%{y}<extra></extra>",
           "legendgroup": "negative",
           "marker": {
            "color": "red",
            "pattern": {
             "shape": ""
            }
           },
           "name": "negative",
           "offsetgroup": "negative",
           "orientation": "v",
           "showlegend": true,
           "textposition": "auto",
           "type": "bar",
           "x": [
            "negative"
           ],
           "xaxis": "x",
           "y": [
            3
           ],
           "yaxis": "y"
          },
          {
           "alignmentgroup": "True",
           "hovertemplate": "Sentiment=%{x}<br>time=13800<br>Count=%{y}<extra></extra>",
           "legendgroup": "neutral",
           "marker": {
            "color": "yellow",
            "pattern": {
             "shape": ""
            }
           },
           "name": "neutral",
           "offsetgroup": "neutral",
           "orientation": "v",
           "showlegend": true,
           "textposition": "auto",
           "type": "bar",
           "x": [
            "neutral"
           ],
           "xaxis": "x",
           "y": [
            25
           ],
           "yaxis": "y"
          },
          {
           "alignmentgroup": "True",
           "hovertemplate": "Sentiment=%{x}<br>time=13800<br>Count=%{y}<extra></extra>",
           "legendgroup": "positive",
           "marker": {
            "color": "green",
            "pattern": {
             "shape": ""
            }
           },
           "name": "positive",
           "offsetgroup": "positive",
           "orientation": "v",
           "showlegend": true,
           "textposition": "auto",
           "type": "bar",
           "x": [
            "positive"
           ],
           "xaxis": "x",
           "y": [
            2
           ],
           "yaxis": "y"
          }
         ],
         "name": "13800"
        },
        {
         "data": [
          {
           "alignmentgroup": "True",
           "hovertemplate": "Sentiment=%{x}<br>time=14100<br>Count=%{y}<extra></extra>",
           "legendgroup": "negative",
           "marker": {
            "color": "red",
            "pattern": {
             "shape": ""
            }
           },
           "name": "negative",
           "offsetgroup": "negative",
           "orientation": "v",
           "showlegend": true,
           "textposition": "auto",
           "type": "bar",
           "x": [
            "negative"
           ],
           "xaxis": "x",
           "y": [
            1
           ],
           "yaxis": "y"
          },
          {
           "alignmentgroup": "True",
           "hovertemplate": "Sentiment=%{x}<br>time=14100<br>Count=%{y}<extra></extra>",
           "legendgroup": "neutral",
           "marker": {
            "color": "yellow",
            "pattern": {
             "shape": ""
            }
           },
           "name": "neutral",
           "offsetgroup": "neutral",
           "orientation": "v",
           "showlegend": true,
           "textposition": "auto",
           "type": "bar",
           "x": [
            "neutral"
           ],
           "xaxis": "x",
           "y": [
            3
           ],
           "yaxis": "y"
          },
          {
           "alignmentgroup": "True",
           "hovertemplate": "Sentiment=%{x}<br>time=14100<br>Count=%{y}<extra></extra>",
           "legendgroup": "positive",
           "marker": {
            "color": "green",
            "pattern": {
             "shape": ""
            }
           },
           "name": "positive",
           "offsetgroup": "positive",
           "orientation": "v",
           "showlegend": true,
           "textposition": "auto",
           "type": "bar",
           "x": [
            "positive"
           ],
           "xaxis": "x",
           "y": [
            1
           ],
           "yaxis": "y"
          }
         ],
         "name": "14100"
        },
        {
         "data": [
          {
           "alignmentgroup": "True",
           "hovertemplate": "Sentiment=%{x}<br>time=14400<br>Count=%{y}<extra></extra>",
           "legendgroup": "negative",
           "marker": {
            "color": "red",
            "pattern": {
             "shape": ""
            }
           },
           "name": "negative",
           "offsetgroup": "negative",
           "orientation": "v",
           "showlegend": true,
           "textposition": "auto",
           "type": "bar",
           "x": [
            "negative"
           ],
           "xaxis": "x",
           "y": [
            7
           ],
           "yaxis": "y"
          },
          {
           "alignmentgroup": "True",
           "hovertemplate": "Sentiment=%{x}<br>time=14400<br>Count=%{y}<extra></extra>",
           "legendgroup": "neutral",
           "marker": {
            "color": "yellow",
            "pattern": {
             "shape": ""
            }
           },
           "name": "neutral",
           "offsetgroup": "neutral",
           "orientation": "v",
           "showlegend": true,
           "textposition": "auto",
           "type": "bar",
           "x": [
            "neutral"
           ],
           "xaxis": "x",
           "y": [
            17
           ],
           "yaxis": "y"
          },
          {
           "alignmentgroup": "True",
           "hovertemplate": "Sentiment=%{x}<br>time=14400<br>Count=%{y}<extra></extra>",
           "legendgroup": "positive",
           "marker": {
            "color": "green",
            "pattern": {
             "shape": ""
            }
           },
           "name": "positive",
           "offsetgroup": "positive",
           "orientation": "v",
           "showlegend": true,
           "textposition": "auto",
           "type": "bar",
           "x": [
            "positive"
           ],
           "xaxis": "x",
           "y": [
            9
           ],
           "yaxis": "y"
          }
         ],
         "name": "14400"
        },
        {
         "data": [
          {
           "alignmentgroup": "True",
           "hovertemplate": "Sentiment=%{x}<br>time=14700<br>Count=%{y}<extra></extra>",
           "legendgroup": "negative",
           "marker": {
            "color": "red",
            "pattern": {
             "shape": ""
            }
           },
           "name": "negative",
           "offsetgroup": "negative",
           "orientation": "v",
           "showlegend": true,
           "textposition": "auto",
           "type": "bar",
           "x": [
            "negative"
           ],
           "xaxis": "x",
           "y": [
            0
           ],
           "yaxis": "y"
          },
          {
           "alignmentgroup": "True",
           "hovertemplate": "Sentiment=%{x}<br>time=14700<br>Count=%{y}<extra></extra>",
           "legendgroup": "neutral",
           "marker": {
            "color": "yellow",
            "pattern": {
             "shape": ""
            }
           },
           "name": "neutral",
           "offsetgroup": "neutral",
           "orientation": "v",
           "showlegend": true,
           "textposition": "auto",
           "type": "bar",
           "x": [
            "neutral"
           ],
           "xaxis": "x",
           "y": [
            4
           ],
           "yaxis": "y"
          },
          {
           "alignmentgroup": "True",
           "hovertemplate": "Sentiment=%{x}<br>time=14700<br>Count=%{y}<extra></extra>",
           "legendgroup": "positive",
           "marker": {
            "color": "green",
            "pattern": {
             "shape": ""
            }
           },
           "name": "positive",
           "offsetgroup": "positive",
           "orientation": "v",
           "showlegend": true,
           "textposition": "auto",
           "type": "bar",
           "x": [
            "positive"
           ],
           "xaxis": "x",
           "y": [
            1
           ],
           "yaxis": "y"
          }
         ],
         "name": "14700"
        },
        {
         "data": [
          {
           "alignmentgroup": "True",
           "hovertemplate": "Sentiment=%{x}<br>time=15000<br>Count=%{y}<extra></extra>",
           "legendgroup": "negative",
           "marker": {
            "color": "red",
            "pattern": {
             "shape": ""
            }
           },
           "name": "negative",
           "offsetgroup": "negative",
           "orientation": "v",
           "showlegend": true,
           "textposition": "auto",
           "type": "bar",
           "x": [
            "negative"
           ],
           "xaxis": "x",
           "y": [
            1
           ],
           "yaxis": "y"
          },
          {
           "alignmentgroup": "True",
           "hovertemplate": "Sentiment=%{x}<br>time=15000<br>Count=%{y}<extra></extra>",
           "legendgroup": "neutral",
           "marker": {
            "color": "yellow",
            "pattern": {
             "shape": ""
            }
           },
           "name": "neutral",
           "offsetgroup": "neutral",
           "orientation": "v",
           "showlegend": true,
           "textposition": "auto",
           "type": "bar",
           "x": [
            "neutral"
           ],
           "xaxis": "x",
           "y": [
            11
           ],
           "yaxis": "y"
          },
          {
           "alignmentgroup": "True",
           "hovertemplate": "Sentiment=%{x}<br>time=15000<br>Count=%{y}<extra></extra>",
           "legendgroup": "positive",
           "marker": {
            "color": "green",
            "pattern": {
             "shape": ""
            }
           },
           "name": "positive",
           "offsetgroup": "positive",
           "orientation": "v",
           "showlegend": true,
           "textposition": "auto",
           "type": "bar",
           "x": [
            "positive"
           ],
           "xaxis": "x",
           "y": [
            4
           ],
           "yaxis": "y"
          }
         ],
         "name": "15000"
        },
        {
         "data": [
          {
           "alignmentgroup": "True",
           "hovertemplate": "Sentiment=%{x}<br>time=15300<br>Count=%{y}<extra></extra>",
           "legendgroup": "negative",
           "marker": {
            "color": "red",
            "pattern": {
             "shape": ""
            }
           },
           "name": "negative",
           "offsetgroup": "negative",
           "orientation": "v",
           "showlegend": true,
           "textposition": "auto",
           "type": "bar",
           "x": [
            "negative"
           ],
           "xaxis": "x",
           "y": [
            2
           ],
           "yaxis": "y"
          },
          {
           "alignmentgroup": "True",
           "hovertemplate": "Sentiment=%{x}<br>time=15300<br>Count=%{y}<extra></extra>",
           "legendgroup": "neutral",
           "marker": {
            "color": "yellow",
            "pattern": {
             "shape": ""
            }
           },
           "name": "neutral",
           "offsetgroup": "neutral",
           "orientation": "v",
           "showlegend": true,
           "textposition": "auto",
           "type": "bar",
           "x": [
            "neutral"
           ],
           "xaxis": "x",
           "y": [
            19
           ],
           "yaxis": "y"
          },
          {
           "alignmentgroup": "True",
           "hovertemplate": "Sentiment=%{x}<br>time=15300<br>Count=%{y}<extra></extra>",
           "legendgroup": "positive",
           "marker": {
            "color": "green",
            "pattern": {
             "shape": ""
            }
           },
           "name": "positive",
           "offsetgroup": "positive",
           "orientation": "v",
           "showlegend": true,
           "textposition": "auto",
           "type": "bar",
           "x": [
            "positive"
           ],
           "xaxis": "x",
           "y": [
            13
           ],
           "yaxis": "y"
          }
         ],
         "name": "15300"
        },
        {
         "data": [
          {
           "alignmentgroup": "True",
           "hovertemplate": "Sentiment=%{x}<br>time=15600<br>Count=%{y}<extra></extra>",
           "legendgroup": "negative",
           "marker": {
            "color": "red",
            "pattern": {
             "shape": ""
            }
           },
           "name": "negative",
           "offsetgroup": "negative",
           "orientation": "v",
           "showlegend": true,
           "textposition": "auto",
           "type": "bar",
           "x": [
            "negative"
           ],
           "xaxis": "x",
           "y": [
            2
           ],
           "yaxis": "y"
          },
          {
           "alignmentgroup": "True",
           "hovertemplate": "Sentiment=%{x}<br>time=15600<br>Count=%{y}<extra></extra>",
           "legendgroup": "neutral",
           "marker": {
            "color": "yellow",
            "pattern": {
             "shape": ""
            }
           },
           "name": "neutral",
           "offsetgroup": "neutral",
           "orientation": "v",
           "showlegend": true,
           "textposition": "auto",
           "type": "bar",
           "x": [
            "neutral"
           ],
           "xaxis": "x",
           "y": [
            45
           ],
           "yaxis": "y"
          },
          {
           "alignmentgroup": "True",
           "hovertemplate": "Sentiment=%{x}<br>time=15600<br>Count=%{y}<extra></extra>",
           "legendgroup": "positive",
           "marker": {
            "color": "green",
            "pattern": {
             "shape": ""
            }
           },
           "name": "positive",
           "offsetgroup": "positive",
           "orientation": "v",
           "showlegend": true,
           "textposition": "auto",
           "type": "bar",
           "x": [
            "positive"
           ],
           "xaxis": "x",
           "y": [
            22
           ],
           "yaxis": "y"
          }
         ],
         "name": "15600"
        },
        {
         "data": [
          {
           "alignmentgroup": "True",
           "hovertemplate": "Sentiment=%{x}<br>time=15900<br>Count=%{y}<extra></extra>",
           "legendgroup": "negative",
           "marker": {
            "color": "red",
            "pattern": {
             "shape": ""
            }
           },
           "name": "negative",
           "offsetgroup": "negative",
           "orientation": "v",
           "showlegend": true,
           "textposition": "auto",
           "type": "bar",
           "x": [
            "negative"
           ],
           "xaxis": "x",
           "y": [
            4
           ],
           "yaxis": "y"
          },
          {
           "alignmentgroup": "True",
           "hovertemplate": "Sentiment=%{x}<br>time=15900<br>Count=%{y}<extra></extra>",
           "legendgroup": "neutral",
           "marker": {
            "color": "yellow",
            "pattern": {
             "shape": ""
            }
           },
           "name": "neutral",
           "offsetgroup": "neutral",
           "orientation": "v",
           "showlegend": true,
           "textposition": "auto",
           "type": "bar",
           "x": [
            "neutral"
           ],
           "xaxis": "x",
           "y": [
            28
           ],
           "yaxis": "y"
          },
          {
           "alignmentgroup": "True",
           "hovertemplate": "Sentiment=%{x}<br>time=15900<br>Count=%{y}<extra></extra>",
           "legendgroup": "positive",
           "marker": {
            "color": "green",
            "pattern": {
             "shape": ""
            }
           },
           "name": "positive",
           "offsetgroup": "positive",
           "orientation": "v",
           "showlegend": true,
           "textposition": "auto",
           "type": "bar",
           "x": [
            "positive"
           ],
           "xaxis": "x",
           "y": [
            3
           ],
           "yaxis": "y"
          }
         ],
         "name": "15900"
        },
        {
         "data": [
          {
           "alignmentgroup": "True",
           "hovertemplate": "Sentiment=%{x}<br>time=16200<br>Count=%{y}<extra></extra>",
           "legendgroup": "negative",
           "marker": {
            "color": "red",
            "pattern": {
             "shape": ""
            }
           },
           "name": "negative",
           "offsetgroup": "negative",
           "orientation": "v",
           "showlegend": true,
           "textposition": "auto",
           "type": "bar",
           "x": [
            "negative"
           ],
           "xaxis": "x",
           "y": [
            7
           ],
           "yaxis": "y"
          },
          {
           "alignmentgroup": "True",
           "hovertemplate": "Sentiment=%{x}<br>time=16200<br>Count=%{y}<extra></extra>",
           "legendgroup": "neutral",
           "marker": {
            "color": "yellow",
            "pattern": {
             "shape": ""
            }
           },
           "name": "neutral",
           "offsetgroup": "neutral",
           "orientation": "v",
           "showlegend": true,
           "textposition": "auto",
           "type": "bar",
           "x": [
            "neutral"
           ],
           "xaxis": "x",
           "y": [
            15
           ],
           "yaxis": "y"
          },
          {
           "alignmentgroup": "True",
           "hovertemplate": "Sentiment=%{x}<br>time=16200<br>Count=%{y}<extra></extra>",
           "legendgroup": "positive",
           "marker": {
            "color": "green",
            "pattern": {
             "shape": ""
            }
           },
           "name": "positive",
           "offsetgroup": "positive",
           "orientation": "v",
           "showlegend": true,
           "textposition": "auto",
           "type": "bar",
           "x": [
            "positive"
           ],
           "xaxis": "x",
           "y": [
            1
           ],
           "yaxis": "y"
          }
         ],
         "name": "16200"
        }
       ],
       "layout": {
        "barmode": "relative",
        "legend": {
         "title": {
          "text": "Sentiment"
         },
         "tracegroupgap": 0
        },
        "sliders": [
         {
          "active": 0,
          "currentvalue": {
           "prefix": "time="
          },
          "len": 0.9,
          "pad": {
           "b": 10,
           "t": 60
          },
          "steps": [
           {
            "args": [
             [
              "0"
             ],
             {
              "frame": {
               "duration": 0,
               "redraw": true
              },
              "fromcurrent": true,
              "mode": "immediate",
              "transition": {
               "duration": 0,
               "easing": "linear"
              }
             }
            ],
            "label": "0",
            "method": "animate"
           },
           {
            "args": [
             [
              "300"
             ],
             {
              "frame": {
               "duration": 0,
               "redraw": true
              },
              "fromcurrent": true,
              "mode": "immediate",
              "transition": {
               "duration": 0,
               "easing": "linear"
              }
             }
            ],
            "label": "300",
            "method": "animate"
           },
           {
            "args": [
             [
              "600"
             ],
             {
              "frame": {
               "duration": 0,
               "redraw": true
              },
              "fromcurrent": true,
              "mode": "immediate",
              "transition": {
               "duration": 0,
               "easing": "linear"
              }
             }
            ],
            "label": "600",
            "method": "animate"
           },
           {
            "args": [
             [
              "900"
             ],
             {
              "frame": {
               "duration": 0,
               "redraw": true
              },
              "fromcurrent": true,
              "mode": "immediate",
              "transition": {
               "duration": 0,
               "easing": "linear"
              }
             }
            ],
            "label": "900",
            "method": "animate"
           },
           {
            "args": [
             [
              "1200"
             ],
             {
              "frame": {
               "duration": 0,
               "redraw": true
              },
              "fromcurrent": true,
              "mode": "immediate",
              "transition": {
               "duration": 0,
               "easing": "linear"
              }
             }
            ],
            "label": "1200",
            "method": "animate"
           },
           {
            "args": [
             [
              "1500"
             ],
             {
              "frame": {
               "duration": 0,
               "redraw": true
              },
              "fromcurrent": true,
              "mode": "immediate",
              "transition": {
               "duration": 0,
               "easing": "linear"
              }
             }
            ],
            "label": "1500",
            "method": "animate"
           },
           {
            "args": [
             [
              "1800"
             ],
             {
              "frame": {
               "duration": 0,
               "redraw": true
              },
              "fromcurrent": true,
              "mode": "immediate",
              "transition": {
               "duration": 0,
               "easing": "linear"
              }
             }
            ],
            "label": "1800",
            "method": "animate"
           },
           {
            "args": [
             [
              "2100"
             ],
             {
              "frame": {
               "duration": 0,
               "redraw": true
              },
              "fromcurrent": true,
              "mode": "immediate",
              "transition": {
               "duration": 0,
               "easing": "linear"
              }
             }
            ],
            "label": "2100",
            "method": "animate"
           },
           {
            "args": [
             [
              "2400"
             ],
             {
              "frame": {
               "duration": 0,
               "redraw": true
              },
              "fromcurrent": true,
              "mode": "immediate",
              "transition": {
               "duration": 0,
               "easing": "linear"
              }
             }
            ],
            "label": "2400",
            "method": "animate"
           },
           {
            "args": [
             [
              "2700"
             ],
             {
              "frame": {
               "duration": 0,
               "redraw": true
              },
              "fromcurrent": true,
              "mode": "immediate",
              "transition": {
               "duration": 0,
               "easing": "linear"
              }
             }
            ],
            "label": "2700",
            "method": "animate"
           },
           {
            "args": [
             [
              "3000"
             ],
             {
              "frame": {
               "duration": 0,
               "redraw": true
              },
              "fromcurrent": true,
              "mode": "immediate",
              "transition": {
               "duration": 0,
               "easing": "linear"
              }
             }
            ],
            "label": "3000",
            "method": "animate"
           },
           {
            "args": [
             [
              "3300"
             ],
             {
              "frame": {
               "duration": 0,
               "redraw": true
              },
              "fromcurrent": true,
              "mode": "immediate",
              "transition": {
               "duration": 0,
               "easing": "linear"
              }
             }
            ],
            "label": "3300",
            "method": "animate"
           },
           {
            "args": [
             [
              "3600"
             ],
             {
              "frame": {
               "duration": 0,
               "redraw": true
              },
              "fromcurrent": true,
              "mode": "immediate",
              "transition": {
               "duration": 0,
               "easing": "linear"
              }
             }
            ],
            "label": "3600",
            "method": "animate"
           },
           {
            "args": [
             [
              "3900"
             ],
             {
              "frame": {
               "duration": 0,
               "redraw": true
              },
              "fromcurrent": true,
              "mode": "immediate",
              "transition": {
               "duration": 0,
               "easing": "linear"
              }
             }
            ],
            "label": "3900",
            "method": "animate"
           },
           {
            "args": [
             [
              "4200"
             ],
             {
              "frame": {
               "duration": 0,
               "redraw": true
              },
              "fromcurrent": true,
              "mode": "immediate",
              "transition": {
               "duration": 0,
               "easing": "linear"
              }
             }
            ],
            "label": "4200",
            "method": "animate"
           },
           {
            "args": [
             [
              "4500"
             ],
             {
              "frame": {
               "duration": 0,
               "redraw": true
              },
              "fromcurrent": true,
              "mode": "immediate",
              "transition": {
               "duration": 0,
               "easing": "linear"
              }
             }
            ],
            "label": "4500",
            "method": "animate"
           },
           {
            "args": [
             [
              "4800"
             ],
             {
              "frame": {
               "duration": 0,
               "redraw": true
              },
              "fromcurrent": true,
              "mode": "immediate",
              "transition": {
               "duration": 0,
               "easing": "linear"
              }
             }
            ],
            "label": "4800",
            "method": "animate"
           },
           {
            "args": [
             [
              "5100"
             ],
             {
              "frame": {
               "duration": 0,
               "redraw": true
              },
              "fromcurrent": true,
              "mode": "immediate",
              "transition": {
               "duration": 0,
               "easing": "linear"
              }
             }
            ],
            "label": "5100",
            "method": "animate"
           },
           {
            "args": [
             [
              "5400"
             ],
             {
              "frame": {
               "duration": 0,
               "redraw": true
              },
              "fromcurrent": true,
              "mode": "immediate",
              "transition": {
               "duration": 0,
               "easing": "linear"
              }
             }
            ],
            "label": "5400",
            "method": "animate"
           },
           {
            "args": [
             [
              "5700"
             ],
             {
              "frame": {
               "duration": 0,
               "redraw": true
              },
              "fromcurrent": true,
              "mode": "immediate",
              "transition": {
               "duration": 0,
               "easing": "linear"
              }
             }
            ],
            "label": "5700",
            "method": "animate"
           },
           {
            "args": [
             [
              "6000"
             ],
             {
              "frame": {
               "duration": 0,
               "redraw": true
              },
              "fromcurrent": true,
              "mode": "immediate",
              "transition": {
               "duration": 0,
               "easing": "linear"
              }
             }
            ],
            "label": "6000",
            "method": "animate"
           },
           {
            "args": [
             [
              "6300"
             ],
             {
              "frame": {
               "duration": 0,
               "redraw": true
              },
              "fromcurrent": true,
              "mode": "immediate",
              "transition": {
               "duration": 0,
               "easing": "linear"
              }
             }
            ],
            "label": "6300",
            "method": "animate"
           },
           {
            "args": [
             [
              "6600"
             ],
             {
              "frame": {
               "duration": 0,
               "redraw": true
              },
              "fromcurrent": true,
              "mode": "immediate",
              "transition": {
               "duration": 0,
               "easing": "linear"
              }
             }
            ],
            "label": "6600",
            "method": "animate"
           },
           {
            "args": [
             [
              "6900"
             ],
             {
              "frame": {
               "duration": 0,
               "redraw": true
              },
              "fromcurrent": true,
              "mode": "immediate",
              "transition": {
               "duration": 0,
               "easing": "linear"
              }
             }
            ],
            "label": "6900",
            "method": "animate"
           },
           {
            "args": [
             [
              "7200"
             ],
             {
              "frame": {
               "duration": 0,
               "redraw": true
              },
              "fromcurrent": true,
              "mode": "immediate",
              "transition": {
               "duration": 0,
               "easing": "linear"
              }
             }
            ],
            "label": "7200",
            "method": "animate"
           },
           {
            "args": [
             [
              "7500"
             ],
             {
              "frame": {
               "duration": 0,
               "redraw": true
              },
              "fromcurrent": true,
              "mode": "immediate",
              "transition": {
               "duration": 0,
               "easing": "linear"
              }
             }
            ],
            "label": "7500",
            "method": "animate"
           },
           {
            "args": [
             [
              "7800"
             ],
             {
              "frame": {
               "duration": 0,
               "redraw": true
              },
              "fromcurrent": true,
              "mode": "immediate",
              "transition": {
               "duration": 0,
               "easing": "linear"
              }
             }
            ],
            "label": "7800",
            "method": "animate"
           },
           {
            "args": [
             [
              "8100"
             ],
             {
              "frame": {
               "duration": 0,
               "redraw": true
              },
              "fromcurrent": true,
              "mode": "immediate",
              "transition": {
               "duration": 0,
               "easing": "linear"
              }
             }
            ],
            "label": "8100",
            "method": "animate"
           },
           {
            "args": [
             [
              "8400"
             ],
             {
              "frame": {
               "duration": 0,
               "redraw": true
              },
              "fromcurrent": true,
              "mode": "immediate",
              "transition": {
               "duration": 0,
               "easing": "linear"
              }
             }
            ],
            "label": "8400",
            "method": "animate"
           },
           {
            "args": [
             [
              "8700"
             ],
             {
              "frame": {
               "duration": 0,
               "redraw": true
              },
              "fromcurrent": true,
              "mode": "immediate",
              "transition": {
               "duration": 0,
               "easing": "linear"
              }
             }
            ],
            "label": "8700",
            "method": "animate"
           },
           {
            "args": [
             [
              "9000"
             ],
             {
              "frame": {
               "duration": 0,
               "redraw": true
              },
              "fromcurrent": true,
              "mode": "immediate",
              "transition": {
               "duration": 0,
               "easing": "linear"
              }
             }
            ],
            "label": "9000",
            "method": "animate"
           },
           {
            "args": [
             [
              "9300"
             ],
             {
              "frame": {
               "duration": 0,
               "redraw": true
              },
              "fromcurrent": true,
              "mode": "immediate",
              "transition": {
               "duration": 0,
               "easing": "linear"
              }
             }
            ],
            "label": "9300",
            "method": "animate"
           },
           {
            "args": [
             [
              "9600"
             ],
             {
              "frame": {
               "duration": 0,
               "redraw": true
              },
              "fromcurrent": true,
              "mode": "immediate",
              "transition": {
               "duration": 0,
               "easing": "linear"
              }
             }
            ],
            "label": "9600",
            "method": "animate"
           },
           {
            "args": [
             [
              "9900"
             ],
             {
              "frame": {
               "duration": 0,
               "redraw": true
              },
              "fromcurrent": true,
              "mode": "immediate",
              "transition": {
               "duration": 0,
               "easing": "linear"
              }
             }
            ],
            "label": "9900",
            "method": "animate"
           },
           {
            "args": [
             [
              "10200"
             ],
             {
              "frame": {
               "duration": 0,
               "redraw": true
              },
              "fromcurrent": true,
              "mode": "immediate",
              "transition": {
               "duration": 0,
               "easing": "linear"
              }
             }
            ],
            "label": "10200",
            "method": "animate"
           },
           {
            "args": [
             [
              "10500"
             ],
             {
              "frame": {
               "duration": 0,
               "redraw": true
              },
              "fromcurrent": true,
              "mode": "immediate",
              "transition": {
               "duration": 0,
               "easing": "linear"
              }
             }
            ],
            "label": "10500",
            "method": "animate"
           },
           {
            "args": [
             [
              "10800"
             ],
             {
              "frame": {
               "duration": 0,
               "redraw": true
              },
              "fromcurrent": true,
              "mode": "immediate",
              "transition": {
               "duration": 0,
               "easing": "linear"
              }
             }
            ],
            "label": "10800",
            "method": "animate"
           },
           {
            "args": [
             [
              "11100"
             ],
             {
              "frame": {
               "duration": 0,
               "redraw": true
              },
              "fromcurrent": true,
              "mode": "immediate",
              "transition": {
               "duration": 0,
               "easing": "linear"
              }
             }
            ],
            "label": "11100",
            "method": "animate"
           },
           {
            "args": [
             [
              "11400"
             ],
             {
              "frame": {
               "duration": 0,
               "redraw": true
              },
              "fromcurrent": true,
              "mode": "immediate",
              "transition": {
               "duration": 0,
               "easing": "linear"
              }
             }
            ],
            "label": "11400",
            "method": "animate"
           },
           {
            "args": [
             [
              "11700"
             ],
             {
              "frame": {
               "duration": 0,
               "redraw": true
              },
              "fromcurrent": true,
              "mode": "immediate",
              "transition": {
               "duration": 0,
               "easing": "linear"
              }
             }
            ],
            "label": "11700",
            "method": "animate"
           },
           {
            "args": [
             [
              "12000"
             ],
             {
              "frame": {
               "duration": 0,
               "redraw": true
              },
              "fromcurrent": true,
              "mode": "immediate",
              "transition": {
               "duration": 0,
               "easing": "linear"
              }
             }
            ],
            "label": "12000",
            "method": "animate"
           },
           {
            "args": [
             [
              "12300"
             ],
             {
              "frame": {
               "duration": 0,
               "redraw": true
              },
              "fromcurrent": true,
              "mode": "immediate",
              "transition": {
               "duration": 0,
               "easing": "linear"
              }
             }
            ],
            "label": "12300",
            "method": "animate"
           },
           {
            "args": [
             [
              "12600"
             ],
             {
              "frame": {
               "duration": 0,
               "redraw": true
              },
              "fromcurrent": true,
              "mode": "immediate",
              "transition": {
               "duration": 0,
               "easing": "linear"
              }
             }
            ],
            "label": "12600",
            "method": "animate"
           },
           {
            "args": [
             [
              "12900"
             ],
             {
              "frame": {
               "duration": 0,
               "redraw": true
              },
              "fromcurrent": true,
              "mode": "immediate",
              "transition": {
               "duration": 0,
               "easing": "linear"
              }
             }
            ],
            "label": "12900",
            "method": "animate"
           },
           {
            "args": [
             [
              "13200"
             ],
             {
              "frame": {
               "duration": 0,
               "redraw": true
              },
              "fromcurrent": true,
              "mode": "immediate",
              "transition": {
               "duration": 0,
               "easing": "linear"
              }
             }
            ],
            "label": "13200",
            "method": "animate"
           },
           {
            "args": [
             [
              "13500"
             ],
             {
              "frame": {
               "duration": 0,
               "redraw": true
              },
              "fromcurrent": true,
              "mode": "immediate",
              "transition": {
               "duration": 0,
               "easing": "linear"
              }
             }
            ],
            "label": "13500",
            "method": "animate"
           },
           {
            "args": [
             [
              "13800"
             ],
             {
              "frame": {
               "duration": 0,
               "redraw": true
              },
              "fromcurrent": true,
              "mode": "immediate",
              "transition": {
               "duration": 0,
               "easing": "linear"
              }
             }
            ],
            "label": "13800",
            "method": "animate"
           },
           {
            "args": [
             [
              "14100"
             ],
             {
              "frame": {
               "duration": 0,
               "redraw": true
              },
              "fromcurrent": true,
              "mode": "immediate",
              "transition": {
               "duration": 0,
               "easing": "linear"
              }
             }
            ],
            "label": "14100",
            "method": "animate"
           },
           {
            "args": [
             [
              "14400"
             ],
             {
              "frame": {
               "duration": 0,
               "redraw": true
              },
              "fromcurrent": true,
              "mode": "immediate",
              "transition": {
               "duration": 0,
               "easing": "linear"
              }
             }
            ],
            "label": "14400",
            "method": "animate"
           },
           {
            "args": [
             [
              "14700"
             ],
             {
              "frame": {
               "duration": 0,
               "redraw": true
              },
              "fromcurrent": true,
              "mode": "immediate",
              "transition": {
               "duration": 0,
               "easing": "linear"
              }
             }
            ],
            "label": "14700",
            "method": "animate"
           },
           {
            "args": [
             [
              "15000"
             ],
             {
              "frame": {
               "duration": 0,
               "redraw": true
              },
              "fromcurrent": true,
              "mode": "immediate",
              "transition": {
               "duration": 0,
               "easing": "linear"
              }
             }
            ],
            "label": "15000",
            "method": "animate"
           },
           {
            "args": [
             [
              "15300"
             ],
             {
              "frame": {
               "duration": 0,
               "redraw": true
              },
              "fromcurrent": true,
              "mode": "immediate",
              "transition": {
               "duration": 0,
               "easing": "linear"
              }
             }
            ],
            "label": "15300",
            "method": "animate"
           },
           {
            "args": [
             [
              "15600"
             ],
             {
              "frame": {
               "duration": 0,
               "redraw": true
              },
              "fromcurrent": true,
              "mode": "immediate",
              "transition": {
               "duration": 0,
               "easing": "linear"
              }
             }
            ],
            "label": "15600",
            "method": "animate"
           },
           {
            "args": [
             [
              "15900"
             ],
             {
              "frame": {
               "duration": 0,
               "redraw": true
              },
              "fromcurrent": true,
              "mode": "immediate",
              "transition": {
               "duration": 0,
               "easing": "linear"
              }
             }
            ],
            "label": "15900",
            "method": "animate"
           },
           {
            "args": [
             [
              "16200"
             ],
             {
              "frame": {
               "duration": 0,
               "redraw": true
              },
              "fromcurrent": true,
              "mode": "immediate",
              "transition": {
               "duration": 0,
               "easing": "linear"
              }
             }
            ],
            "label": "16200",
            "method": "animate"
           }
          ],
          "x": 0.1,
          "xanchor": "left",
          "y": 0,
          "yanchor": "top"
         }
        ],
        "template": {
         "data": {
          "bar": [
           {
            "error_x": {
             "color": "#2a3f5f"
            },
            "error_y": {
             "color": "#2a3f5f"
            },
            "marker": {
             "line": {
              "color": "#E5ECF6",
              "width": 0.5
             },
             "pattern": {
              "fillmode": "overlay",
              "size": 10,
              "solidity": 0.2
             }
            },
            "type": "bar"
           }
          ],
          "barpolar": [
           {
            "marker": {
             "line": {
              "color": "#E5ECF6",
              "width": 0.5
             },
             "pattern": {
              "fillmode": "overlay",
              "size": 10,
              "solidity": 0.2
             }
            },
            "type": "barpolar"
           }
          ],
          "carpet": [
           {
            "aaxis": {
             "endlinecolor": "#2a3f5f",
             "gridcolor": "white",
             "linecolor": "white",
             "minorgridcolor": "white",
             "startlinecolor": "#2a3f5f"
            },
            "baxis": {
             "endlinecolor": "#2a3f5f",
             "gridcolor": "white",
             "linecolor": "white",
             "minorgridcolor": "white",
             "startlinecolor": "#2a3f5f"
            },
            "type": "carpet"
           }
          ],
          "choropleth": [
           {
            "colorbar": {
             "outlinewidth": 0,
             "ticks": ""
            },
            "type": "choropleth"
           }
          ],
          "contour": [
           {
            "colorbar": {
             "outlinewidth": 0,
             "ticks": ""
            },
            "colorscale": [
             [
              0,
              "#0d0887"
             ],
             [
              0.1111111111111111,
              "#46039f"
             ],
             [
              0.2222222222222222,
              "#7201a8"
             ],
             [
              0.3333333333333333,
              "#9c179e"
             ],
             [
              0.4444444444444444,
              "#bd3786"
             ],
             [
              0.5555555555555556,
              "#d8576b"
             ],
             [
              0.6666666666666666,
              "#ed7953"
             ],
             [
              0.7777777777777778,
              "#fb9f3a"
             ],
             [
              0.8888888888888888,
              "#fdca26"
             ],
             [
              1,
              "#f0f921"
             ]
            ],
            "type": "contour"
           }
          ],
          "contourcarpet": [
           {
            "colorbar": {
             "outlinewidth": 0,
             "ticks": ""
            },
            "type": "contourcarpet"
           }
          ],
          "heatmap": [
           {
            "colorbar": {
             "outlinewidth": 0,
             "ticks": ""
            },
            "colorscale": [
             [
              0,
              "#0d0887"
             ],
             [
              0.1111111111111111,
              "#46039f"
             ],
             [
              0.2222222222222222,
              "#7201a8"
             ],
             [
              0.3333333333333333,
              "#9c179e"
             ],
             [
              0.4444444444444444,
              "#bd3786"
             ],
             [
              0.5555555555555556,
              "#d8576b"
             ],
             [
              0.6666666666666666,
              "#ed7953"
             ],
             [
              0.7777777777777778,
              "#fb9f3a"
             ],
             [
              0.8888888888888888,
              "#fdca26"
             ],
             [
              1,
              "#f0f921"
             ]
            ],
            "type": "heatmap"
           }
          ],
          "heatmapgl": [
           {
            "colorbar": {
             "outlinewidth": 0,
             "ticks": ""
            },
            "colorscale": [
             [
              0,
              "#0d0887"
             ],
             [
              0.1111111111111111,
              "#46039f"
             ],
             [
              0.2222222222222222,
              "#7201a8"
             ],
             [
              0.3333333333333333,
              "#9c179e"
             ],
             [
              0.4444444444444444,
              "#bd3786"
             ],
             [
              0.5555555555555556,
              "#d8576b"
             ],
             [
              0.6666666666666666,
              "#ed7953"
             ],
             [
              0.7777777777777778,
              "#fb9f3a"
             ],
             [
              0.8888888888888888,
              "#fdca26"
             ],
             [
              1,
              "#f0f921"
             ]
            ],
            "type": "heatmapgl"
           }
          ],
          "histogram": [
           {
            "marker": {
             "pattern": {
              "fillmode": "overlay",
              "size": 10,
              "solidity": 0.2
             }
            },
            "type": "histogram"
           }
          ],
          "histogram2d": [
           {
            "colorbar": {
             "outlinewidth": 0,
             "ticks": ""
            },
            "colorscale": [
             [
              0,
              "#0d0887"
             ],
             [
              0.1111111111111111,
              "#46039f"
             ],
             [
              0.2222222222222222,
              "#7201a8"
             ],
             [
              0.3333333333333333,
              "#9c179e"
             ],
             [
              0.4444444444444444,
              "#bd3786"
             ],
             [
              0.5555555555555556,
              "#d8576b"
             ],
             [
              0.6666666666666666,
              "#ed7953"
             ],
             [
              0.7777777777777778,
              "#fb9f3a"
             ],
             [
              0.8888888888888888,
              "#fdca26"
             ],
             [
              1,
              "#f0f921"
             ]
            ],
            "type": "histogram2d"
           }
          ],
          "histogram2dcontour": [
           {
            "colorbar": {
             "outlinewidth": 0,
             "ticks": ""
            },
            "colorscale": [
             [
              0,
              "#0d0887"
             ],
             [
              0.1111111111111111,
              "#46039f"
             ],
             [
              0.2222222222222222,
              "#7201a8"
             ],
             [
              0.3333333333333333,
              "#9c179e"
             ],
             [
              0.4444444444444444,
              "#bd3786"
             ],
             [
              0.5555555555555556,
              "#d8576b"
             ],
             [
              0.6666666666666666,
              "#ed7953"
             ],
             [
              0.7777777777777778,
              "#fb9f3a"
             ],
             [
              0.8888888888888888,
              "#fdca26"
             ],
             [
              1,
              "#f0f921"
             ]
            ],
            "type": "histogram2dcontour"
           }
          ],
          "mesh3d": [
           {
            "colorbar": {
             "outlinewidth": 0,
             "ticks": ""
            },
            "type": "mesh3d"
           }
          ],
          "parcoords": [
           {
            "line": {
             "colorbar": {
              "outlinewidth": 0,
              "ticks": ""
             }
            },
            "type": "parcoords"
           }
          ],
          "pie": [
           {
            "automargin": true,
            "type": "pie"
           }
          ],
          "scatter": [
           {
            "fillpattern": {
             "fillmode": "overlay",
             "size": 10,
             "solidity": 0.2
            },
            "type": "scatter"
           }
          ],
          "scatter3d": [
           {
            "line": {
             "colorbar": {
              "outlinewidth": 0,
              "ticks": ""
             }
            },
            "marker": {
             "colorbar": {
              "outlinewidth": 0,
              "ticks": ""
             }
            },
            "type": "scatter3d"
           }
          ],
          "scattercarpet": [
           {
            "marker": {
             "colorbar": {
              "outlinewidth": 0,
              "ticks": ""
             }
            },
            "type": "scattercarpet"
           }
          ],
          "scattergeo": [
           {
            "marker": {
             "colorbar": {
              "outlinewidth": 0,
              "ticks": ""
             }
            },
            "type": "scattergeo"
           }
          ],
          "scattergl": [
           {
            "marker": {
             "colorbar": {
              "outlinewidth": 0,
              "ticks": ""
             }
            },
            "type": "scattergl"
           }
          ],
          "scattermapbox": [
           {
            "marker": {
             "colorbar": {
              "outlinewidth": 0,
              "ticks": ""
             }
            },
            "type": "scattermapbox"
           }
          ],
          "scatterpolar": [
           {
            "marker": {
             "colorbar": {
              "outlinewidth": 0,
              "ticks": ""
             }
            },
            "type": "scatterpolar"
           }
          ],
          "scatterpolargl": [
           {
            "marker": {
             "colorbar": {
              "outlinewidth": 0,
              "ticks": ""
             }
            },
            "type": "scatterpolargl"
           }
          ],
          "scatterternary": [
           {
            "marker": {
             "colorbar": {
              "outlinewidth": 0,
              "ticks": ""
             }
            },
            "type": "scatterternary"
           }
          ],
          "surface": [
           {
            "colorbar": {
             "outlinewidth": 0,
             "ticks": ""
            },
            "colorscale": [
             [
              0,
              "#0d0887"
             ],
             [
              0.1111111111111111,
              "#46039f"
             ],
             [
              0.2222222222222222,
              "#7201a8"
             ],
             [
              0.3333333333333333,
              "#9c179e"
             ],
             [
              0.4444444444444444,
              "#bd3786"
             ],
             [
              0.5555555555555556,
              "#d8576b"
             ],
             [
              0.6666666666666666,
              "#ed7953"
             ],
             [
              0.7777777777777778,
              "#fb9f3a"
             ],
             [
              0.8888888888888888,
              "#fdca26"
             ],
             [
              1,
              "#f0f921"
             ]
            ],
            "type": "surface"
           }
          ],
          "table": [
           {
            "cells": {
             "fill": {
              "color": "#EBF0F8"
             },
             "line": {
              "color": "white"
             }
            },
            "header": {
             "fill": {
              "color": "#C8D4E3"
             },
             "line": {
              "color": "white"
             }
            },
            "type": "table"
           }
          ]
         },
         "layout": {
          "annotationdefaults": {
           "arrowcolor": "#2a3f5f",
           "arrowhead": 0,
           "arrowwidth": 1
          },
          "autotypenumbers": "strict",
          "coloraxis": {
           "colorbar": {
            "outlinewidth": 0,
            "ticks": ""
           }
          },
          "colorscale": {
           "diverging": [
            [
             0,
             "#8e0152"
            ],
            [
             0.1,
             "#c51b7d"
            ],
            [
             0.2,
             "#de77ae"
            ],
            [
             0.3,
             "#f1b6da"
            ],
            [
             0.4,
             "#fde0ef"
            ],
            [
             0.5,
             "#f7f7f7"
            ],
            [
             0.6,
             "#e6f5d0"
            ],
            [
             0.7,
             "#b8e186"
            ],
            [
             0.8,
             "#7fbc41"
            ],
            [
             0.9,
             "#4d9221"
            ],
            [
             1,
             "#276419"
            ]
           ],
           "sequential": [
            [
             0,
             "#0d0887"
            ],
            [
             0.1111111111111111,
             "#46039f"
            ],
            [
             0.2222222222222222,
             "#7201a8"
            ],
            [
             0.3333333333333333,
             "#9c179e"
            ],
            [
             0.4444444444444444,
             "#bd3786"
            ],
            [
             0.5555555555555556,
             "#d8576b"
            ],
            [
             0.6666666666666666,
             "#ed7953"
            ],
            [
             0.7777777777777778,
             "#fb9f3a"
            ],
            [
             0.8888888888888888,
             "#fdca26"
            ],
            [
             1,
             "#f0f921"
            ]
           ],
           "sequentialminus": [
            [
             0,
             "#0d0887"
            ],
            [
             0.1111111111111111,
             "#46039f"
            ],
            [
             0.2222222222222222,
             "#7201a8"
            ],
            [
             0.3333333333333333,
             "#9c179e"
            ],
            [
             0.4444444444444444,
             "#bd3786"
            ],
            [
             0.5555555555555556,
             "#d8576b"
            ],
            [
             0.6666666666666666,
             "#ed7953"
            ],
            [
             0.7777777777777778,
             "#fb9f3a"
            ],
            [
             0.8888888888888888,
             "#fdca26"
            ],
            [
             1,
             "#f0f921"
            ]
           ]
          },
          "colorway": [
           "#636efa",
           "#EF553B",
           "#00cc96",
           "#ab63fa",
           "#FFA15A",
           "#19d3f3",
           "#FF6692",
           "#B6E880",
           "#FF97FF",
           "#FECB52"
          ],
          "font": {
           "color": "#2a3f5f"
          },
          "geo": {
           "bgcolor": "white",
           "lakecolor": "white",
           "landcolor": "#E5ECF6",
           "showlakes": true,
           "showland": true,
           "subunitcolor": "white"
          },
          "hoverlabel": {
           "align": "left"
          },
          "hovermode": "closest",
          "mapbox": {
           "style": "light"
          },
          "paper_bgcolor": "white",
          "plot_bgcolor": "#E5ECF6",
          "polar": {
           "angularaxis": {
            "gridcolor": "white",
            "linecolor": "white",
            "ticks": ""
           },
           "bgcolor": "#E5ECF6",
           "radialaxis": {
            "gridcolor": "white",
            "linecolor": "white",
            "ticks": ""
           }
          },
          "scene": {
           "xaxis": {
            "backgroundcolor": "#E5ECF6",
            "gridcolor": "white",
            "gridwidth": 2,
            "linecolor": "white",
            "showbackground": true,
            "ticks": "",
            "zerolinecolor": "white"
           },
           "yaxis": {
            "backgroundcolor": "#E5ECF6",
            "gridcolor": "white",
            "gridwidth": 2,
            "linecolor": "white",
            "showbackground": true,
            "ticks": "",
            "zerolinecolor": "white"
           },
           "zaxis": {
            "backgroundcolor": "#E5ECF6",
            "gridcolor": "white",
            "gridwidth": 2,
            "linecolor": "white",
            "showbackground": true,
            "ticks": "",
            "zerolinecolor": "white"
           }
          },
          "shapedefaults": {
           "line": {
            "color": "#2a3f5f"
           }
          },
          "ternary": {
           "aaxis": {
            "gridcolor": "white",
            "linecolor": "white",
            "ticks": ""
           },
           "baxis": {
            "gridcolor": "white",
            "linecolor": "white",
            "ticks": ""
           },
           "bgcolor": "#E5ECF6",
           "caxis": {
            "gridcolor": "white",
            "linecolor": "white",
            "ticks": ""
           }
          },
          "title": {
           "x": 0.05
          },
          "xaxis": {
           "automargin": true,
           "gridcolor": "white",
           "linecolor": "white",
           "ticks": "",
           "title": {
            "standoff": 15
           },
           "zerolinecolor": "white",
           "zerolinewidth": 2
          },
          "yaxis": {
           "automargin": true,
           "gridcolor": "white",
           "linecolor": "white",
           "ticks": "",
           "title": {
            "standoff": 15
           },
           "zerolinecolor": "white",
           "zerolinewidth": 2
          }
         }
        },
        "title": {
         "text": "Sentiment Counts Throughout the Evening (5 pm to 9:30 pm)"
        },
        "updatemenus": [
         {
          "buttons": [
           {
            "args": [
             null,
             {
              "frame": {
               "duration": 500,
               "redraw": true
              },
              "fromcurrent": true,
              "mode": "immediate",
              "transition": {
               "duration": 500,
               "easing": "linear"
              }
             }
            ],
            "label": "&#9654;",
            "method": "animate"
           },
           {
            "args": [
             [
              null
             ],
             {
              "frame": {
               "duration": 0,
               "redraw": true
              },
              "fromcurrent": true,
              "mode": "immediate",
              "transition": {
               "duration": 0,
               "easing": "linear"
              }
             }
            ],
            "label": "&#9724;",
            "method": "animate"
           }
          ],
          "direction": "left",
          "pad": {
           "r": 10,
           "t": 70
          },
          "showactive": false,
          "type": "buttons",
          "x": 0.1,
          "xanchor": "right",
          "y": 0,
          "yanchor": "top"
         }
        ],
        "xaxis": {
         "anchor": "y",
         "categoryarray": [
          "negative",
          "neutral",
          "positive"
         ],
         "categoryorder": "array",
         "domain": [
          0,
          1
         ],
         "title": {
          "text": "Sentiment"
         }
        },
        "yaxis": {
         "anchor": "x",
         "domain": [
          0,
          1
         ],
         "range": [
          0,
          150
         ],
         "title": {
          "text": "Count"
         }
        }
       }
      }
     },
     "metadata": {},
     "output_type": "display_data"
    }
   ],
   "source": [
    "import plotly.express as px\n",
    "\n",
    "fig = px.bar(\n",
    "    sents_5min,\n",
    "    x='sentiment',\n",
    "    y='count',\n",
    "    color='sentiment',\n",
    "    color_discrete_sequence=['red', 'yellow', 'green'],\n",
    "    animation_frame='time',\n",
    "    labels={\n",
    "        'sentiment': 'Sentiment',\n",
    "        'count': 'Count'\n",
    "    },\n",
    "    title='Sentiment Counts Throughout the Evening (5 pm to 9:30 pm)'\n",
    ")\n",
    "fig.update_layout(yaxis_range=[0, 150])\n",
    "fig.show()"
   ]
  },
  {
   "cell_type": "markdown",
   "metadata": {},
   "source": [
    "#### Peaks\n",
    "We see a spike in neutral sentiment at 6300,\n",
    "a spike in all sentiments at 9600\n",
    "Tells us we should explore more around these times"
   ]
  },
  {
   "cell_type": "code",
   "execution_count": 26,
   "metadata": {},
   "outputs": [],
   "source": [
    "# repeat the above analysis for keywords such as POK, Dancing Dolphin, etc.\n",
    "dolphin_keys = ['dancing', 'dolphin', 'fire', 'apartment', 'apartments', 'dancing dolphin']\n",
    "dolphin_df = df[df['message'].str.contains('|'.join(dolphin_keys), case=False)]"
   ]
  },
  {
   "cell_type": "code",
   "execution_count": 27,
   "metadata": {},
   "outputs": [],
   "source": [
    "dolphin_agg_5min = dolphin_df.groupby(pd.Grouper(key='date(yyyyMMddHHmmss)', freq='5min'))"
   ]
  },
  {
   "cell_type": "code",
   "execution_count": 28,
   "metadata": {},
   "outputs": [],
   "source": [
    "dolphin_sents_5min = dolphin_agg_5min[['negative', 'neutral', 'positive']].sum()\n",
    "dolphin_sents_5min = dolphin_sents_5min.reset_index()\n",
    "dolphin_sents_5min['time'] = dolphin_sents_5min['date(yyyyMMddHHmmss)'].apply(lambda x: (x.value - pd.to_datetime('2014-01-23 17:00:00').value) // 10**9)"
   ]
  },
  {
   "cell_type": "code",
   "execution_count": 29,
   "metadata": {},
   "outputs": [],
   "source": [
    "dolphin_sents_5min = pd.melt(\n",
    "    dolphin_sents_5min,\n",
    "    id_vars=['time'],\n",
    "    value_vars=['negative', 'neutral', 'positive'],\n",
    "    var_name='sentiment',\n",
    "    value_name='count'\n",
    ")"
   ]
  },
  {
   "cell_type": "code",
   "execution_count": 30,
   "metadata": {},
   "outputs": [
    {
     "data": {
      "application/vnd.plotly.v1+json": {
       "config": {
        "plotlyServerURL": "https://plot.ly"
       },
       "data": [
        {
         "alignmentgroup": "True",
         "hovertemplate": "Sentiment=%{x}<br>time=1500<br>Count=%{y}<extra></extra>",
         "legendgroup": "negative",
         "marker": {
          "color": "red",
          "pattern": {
           "shape": ""
          }
         },
         "name": "negative",
         "offsetgroup": "negative",
         "orientation": "v",
         "showlegend": true,
         "textposition": "auto",
         "type": "bar",
         "x": [
          "negative"
         ],
         "xaxis": "x",
         "y": [
          1
         ],
         "yaxis": "y"
        },
        {
         "alignmentgroup": "True",
         "hovertemplate": "Sentiment=%{x}<br>time=1500<br>Count=%{y}<extra></extra>",
         "legendgroup": "neutral",
         "marker": {
          "color": "yellow",
          "pattern": {
           "shape": ""
          }
         },
         "name": "neutral",
         "offsetgroup": "neutral",
         "orientation": "v",
         "showlegend": true,
         "textposition": "auto",
         "type": "bar",
         "x": [
          "neutral"
         ],
         "xaxis": "x",
         "y": [
          0
         ],
         "yaxis": "y"
        },
        {
         "alignmentgroup": "True",
         "hovertemplate": "Sentiment=%{x}<br>time=1500<br>Count=%{y}<extra></extra>",
         "legendgroup": "positive",
         "marker": {
          "color": "green",
          "pattern": {
           "shape": ""
          }
         },
         "name": "positive",
         "offsetgroup": "positive",
         "orientation": "v",
         "showlegend": true,
         "textposition": "auto",
         "type": "bar",
         "x": [
          "positive"
         ],
         "xaxis": "x",
         "y": [
          0
         ],
         "yaxis": "y"
        }
       ],
       "frames": [
        {
         "data": [
          {
           "alignmentgroup": "True",
           "hovertemplate": "Sentiment=%{x}<br>time=1500<br>Count=%{y}<extra></extra>",
           "legendgroup": "negative",
           "marker": {
            "color": "red",
            "pattern": {
             "shape": ""
            }
           },
           "name": "negative",
           "offsetgroup": "negative",
           "orientation": "v",
           "showlegend": true,
           "textposition": "auto",
           "type": "bar",
           "x": [
            "negative"
           ],
           "xaxis": "x",
           "y": [
            1
           ],
           "yaxis": "y"
          },
          {
           "alignmentgroup": "True",
           "hovertemplate": "Sentiment=%{x}<br>time=1500<br>Count=%{y}<extra></extra>",
           "legendgroup": "neutral",
           "marker": {
            "color": "yellow",
            "pattern": {
             "shape": ""
            }
           },
           "name": "neutral",
           "offsetgroup": "neutral",
           "orientation": "v",
           "showlegend": true,
           "textposition": "auto",
           "type": "bar",
           "x": [
            "neutral"
           ],
           "xaxis": "x",
           "y": [
            0
           ],
           "yaxis": "y"
          },
          {
           "alignmentgroup": "True",
           "hovertemplate": "Sentiment=%{x}<br>time=1500<br>Count=%{y}<extra></extra>",
           "legendgroup": "positive",
           "marker": {
            "color": "green",
            "pattern": {
             "shape": ""
            }
           },
           "name": "positive",
           "offsetgroup": "positive",
           "orientation": "v",
           "showlegend": true,
           "textposition": "auto",
           "type": "bar",
           "x": [
            "positive"
           ],
           "xaxis": "x",
           "y": [
            0
           ],
           "yaxis": "y"
          }
         ],
         "name": "1500"
        },
        {
         "data": [
          {
           "alignmentgroup": "True",
           "hovertemplate": "Sentiment=%{x}<br>time=1800<br>Count=%{y}<extra></extra>",
           "legendgroup": "negative",
           "marker": {
            "color": "red",
            "pattern": {
             "shape": ""
            }
           },
           "name": "negative",
           "offsetgroup": "negative",
           "orientation": "v",
           "showlegend": true,
           "textposition": "auto",
           "type": "bar",
           "x": [
            "negative"
           ],
           "xaxis": "x",
           "y": [
            0
           ],
           "yaxis": "y"
          },
          {
           "alignmentgroup": "True",
           "hovertemplate": "Sentiment=%{x}<br>time=1800<br>Count=%{y}<extra></extra>",
           "legendgroup": "neutral",
           "marker": {
            "color": "yellow",
            "pattern": {
             "shape": ""
            }
           },
           "name": "neutral",
           "offsetgroup": "neutral",
           "orientation": "v",
           "showlegend": true,
           "textposition": "auto",
           "type": "bar",
           "x": [
            "neutral"
           ],
           "xaxis": "x",
           "y": [
            0
           ],
           "yaxis": "y"
          },
          {
           "alignmentgroup": "True",
           "hovertemplate": "Sentiment=%{x}<br>time=1800<br>Count=%{y}<extra></extra>",
           "legendgroup": "positive",
           "marker": {
            "color": "green",
            "pattern": {
             "shape": ""
            }
           },
           "name": "positive",
           "offsetgroup": "positive",
           "orientation": "v",
           "showlegend": true,
           "textposition": "auto",
           "type": "bar",
           "x": [
            "positive"
           ],
           "xaxis": "x",
           "y": [
            0
           ],
           "yaxis": "y"
          }
         ],
         "name": "1800"
        },
        {
         "data": [
          {
           "alignmentgroup": "True",
           "hovertemplate": "Sentiment=%{x}<br>time=2100<br>Count=%{y}<extra></extra>",
           "legendgroup": "negative",
           "marker": {
            "color": "red",
            "pattern": {
             "shape": ""
            }
           },
           "name": "negative",
           "offsetgroup": "negative",
           "orientation": "v",
           "showlegend": true,
           "textposition": "auto",
           "type": "bar",
           "x": [
            "negative"
           ],
           "xaxis": "x",
           "y": [
            0
           ],
           "yaxis": "y"
          },
          {
           "alignmentgroup": "True",
           "hovertemplate": "Sentiment=%{x}<br>time=2100<br>Count=%{y}<extra></extra>",
           "legendgroup": "neutral",
           "marker": {
            "color": "yellow",
            "pattern": {
             "shape": ""
            }
           },
           "name": "neutral",
           "offsetgroup": "neutral",
           "orientation": "v",
           "showlegend": true,
           "textposition": "auto",
           "type": "bar",
           "x": [
            "neutral"
           ],
           "xaxis": "x",
           "y": [
            0
           ],
           "yaxis": "y"
          },
          {
           "alignmentgroup": "True",
           "hovertemplate": "Sentiment=%{x}<br>time=2100<br>Count=%{y}<extra></extra>",
           "legendgroup": "positive",
           "marker": {
            "color": "green",
            "pattern": {
             "shape": ""
            }
           },
           "name": "positive",
           "offsetgroup": "positive",
           "orientation": "v",
           "showlegend": true,
           "textposition": "auto",
           "type": "bar",
           "x": [
            "positive"
           ],
           "xaxis": "x",
           "y": [
            0
           ],
           "yaxis": "y"
          }
         ],
         "name": "2100"
        },
        {
         "data": [
          {
           "alignmentgroup": "True",
           "hovertemplate": "Sentiment=%{x}<br>time=2400<br>Count=%{y}<extra></extra>",
           "legendgroup": "negative",
           "marker": {
            "color": "red",
            "pattern": {
             "shape": ""
            }
           },
           "name": "negative",
           "offsetgroup": "negative",
           "orientation": "v",
           "showlegend": true,
           "textposition": "auto",
           "type": "bar",
           "x": [
            "negative"
           ],
           "xaxis": "x",
           "y": [
            0
           ],
           "yaxis": "y"
          },
          {
           "alignmentgroup": "True",
           "hovertemplate": "Sentiment=%{x}<br>time=2400<br>Count=%{y}<extra></extra>",
           "legendgroup": "neutral",
           "marker": {
            "color": "yellow",
            "pattern": {
             "shape": ""
            }
           },
           "name": "neutral",
           "offsetgroup": "neutral",
           "orientation": "v",
           "showlegend": true,
           "textposition": "auto",
           "type": "bar",
           "x": [
            "neutral"
           ],
           "xaxis": "x",
           "y": [
            0
           ],
           "yaxis": "y"
          },
          {
           "alignmentgroup": "True",
           "hovertemplate": "Sentiment=%{x}<br>time=2400<br>Count=%{y}<extra></extra>",
           "legendgroup": "positive",
           "marker": {
            "color": "green",
            "pattern": {
             "shape": ""
            }
           },
           "name": "positive",
           "offsetgroup": "positive",
           "orientation": "v",
           "showlegend": true,
           "textposition": "auto",
           "type": "bar",
           "x": [
            "positive"
           ],
           "xaxis": "x",
           "y": [
            0
           ],
           "yaxis": "y"
          }
         ],
         "name": "2400"
        },
        {
         "data": [
          {
           "alignmentgroup": "True",
           "hovertemplate": "Sentiment=%{x}<br>time=2700<br>Count=%{y}<extra></extra>",
           "legendgroup": "negative",
           "marker": {
            "color": "red",
            "pattern": {
             "shape": ""
            }
           },
           "name": "negative",
           "offsetgroup": "negative",
           "orientation": "v",
           "showlegend": true,
           "textposition": "auto",
           "type": "bar",
           "x": [
            "negative"
           ],
           "xaxis": "x",
           "y": [
            1
           ],
           "yaxis": "y"
          },
          {
           "alignmentgroup": "True",
           "hovertemplate": "Sentiment=%{x}<br>time=2700<br>Count=%{y}<extra></extra>",
           "legendgroup": "neutral",
           "marker": {
            "color": "yellow",
            "pattern": {
             "shape": ""
            }
           },
           "name": "neutral",
           "offsetgroup": "neutral",
           "orientation": "v",
           "showlegend": true,
           "textposition": "auto",
           "type": "bar",
           "x": [
            "neutral"
           ],
           "xaxis": "x",
           "y": [
            0
           ],
           "yaxis": "y"
          },
          {
           "alignmentgroup": "True",
           "hovertemplate": "Sentiment=%{x}<br>time=2700<br>Count=%{y}<extra></extra>",
           "legendgroup": "positive",
           "marker": {
            "color": "green",
            "pattern": {
             "shape": ""
            }
           },
           "name": "positive",
           "offsetgroup": "positive",
           "orientation": "v",
           "showlegend": true,
           "textposition": "auto",
           "type": "bar",
           "x": [
            "positive"
           ],
           "xaxis": "x",
           "y": [
            0
           ],
           "yaxis": "y"
          }
         ],
         "name": "2700"
        },
        {
         "data": [
          {
           "alignmentgroup": "True",
           "hovertemplate": "Sentiment=%{x}<br>time=3000<br>Count=%{y}<extra></extra>",
           "legendgroup": "negative",
           "marker": {
            "color": "red",
            "pattern": {
             "shape": ""
            }
           },
           "name": "negative",
           "offsetgroup": "negative",
           "orientation": "v",
           "showlegend": true,
           "textposition": "auto",
           "type": "bar",
           "x": [
            "negative"
           ],
           "xaxis": "x",
           "y": [
            0
           ],
           "yaxis": "y"
          },
          {
           "alignmentgroup": "True",
           "hovertemplate": "Sentiment=%{x}<br>time=3000<br>Count=%{y}<extra></extra>",
           "legendgroup": "neutral",
           "marker": {
            "color": "yellow",
            "pattern": {
             "shape": ""
            }
           },
           "name": "neutral",
           "offsetgroup": "neutral",
           "orientation": "v",
           "showlegend": true,
           "textposition": "auto",
           "type": "bar",
           "x": [
            "neutral"
           ],
           "xaxis": "x",
           "y": [
            0
           ],
           "yaxis": "y"
          },
          {
           "alignmentgroup": "True",
           "hovertemplate": "Sentiment=%{x}<br>time=3000<br>Count=%{y}<extra></extra>",
           "legendgroup": "positive",
           "marker": {
            "color": "green",
            "pattern": {
             "shape": ""
            }
           },
           "name": "positive",
           "offsetgroup": "positive",
           "orientation": "v",
           "showlegend": true,
           "textposition": "auto",
           "type": "bar",
           "x": [
            "positive"
           ],
           "xaxis": "x",
           "y": [
            0
           ],
           "yaxis": "y"
          }
         ],
         "name": "3000"
        },
        {
         "data": [
          {
           "alignmentgroup": "True",
           "hovertemplate": "Sentiment=%{x}<br>time=3300<br>Count=%{y}<extra></extra>",
           "legendgroup": "negative",
           "marker": {
            "color": "red",
            "pattern": {
             "shape": ""
            }
           },
           "name": "negative",
           "offsetgroup": "negative",
           "orientation": "v",
           "showlegend": true,
           "textposition": "auto",
           "type": "bar",
           "x": [
            "negative"
           ],
           "xaxis": "x",
           "y": [
            0
           ],
           "yaxis": "y"
          },
          {
           "alignmentgroup": "True",
           "hovertemplate": "Sentiment=%{x}<br>time=3300<br>Count=%{y}<extra></extra>",
           "legendgroup": "neutral",
           "marker": {
            "color": "yellow",
            "pattern": {
             "shape": ""
            }
           },
           "name": "neutral",
           "offsetgroup": "neutral",
           "orientation": "v",
           "showlegend": true,
           "textposition": "auto",
           "type": "bar",
           "x": [
            "neutral"
           ],
           "xaxis": "x",
           "y": [
            0
           ],
           "yaxis": "y"
          },
          {
           "alignmentgroup": "True",
           "hovertemplate": "Sentiment=%{x}<br>time=3300<br>Count=%{y}<extra></extra>",
           "legendgroup": "positive",
           "marker": {
            "color": "green",
            "pattern": {
             "shape": ""
            }
           },
           "name": "positive",
           "offsetgroup": "positive",
           "orientation": "v",
           "showlegend": true,
           "textposition": "auto",
           "type": "bar",
           "x": [
            "positive"
           ],
           "xaxis": "x",
           "y": [
            0
           ],
           "yaxis": "y"
          }
         ],
         "name": "3300"
        },
        {
         "data": [
          {
           "alignmentgroup": "True",
           "hovertemplate": "Sentiment=%{x}<br>time=3600<br>Count=%{y}<extra></extra>",
           "legendgroup": "negative",
           "marker": {
            "color": "red",
            "pattern": {
             "shape": ""
            }
           },
           "name": "negative",
           "offsetgroup": "negative",
           "orientation": "v",
           "showlegend": true,
           "textposition": "auto",
           "type": "bar",
           "x": [
            "negative"
           ],
           "xaxis": "x",
           "y": [
            0
           ],
           "yaxis": "y"
          },
          {
           "alignmentgroup": "True",
           "hovertemplate": "Sentiment=%{x}<br>time=3600<br>Count=%{y}<extra></extra>",
           "legendgroup": "neutral",
           "marker": {
            "color": "yellow",
            "pattern": {
             "shape": ""
            }
           },
           "name": "neutral",
           "offsetgroup": "neutral",
           "orientation": "v",
           "showlegend": true,
           "textposition": "auto",
           "type": "bar",
           "x": [
            "neutral"
           ],
           "xaxis": "x",
           "y": [
            0
           ],
           "yaxis": "y"
          },
          {
           "alignmentgroup": "True",
           "hovertemplate": "Sentiment=%{x}<br>time=3600<br>Count=%{y}<extra></extra>",
           "legendgroup": "positive",
           "marker": {
            "color": "green",
            "pattern": {
             "shape": ""
            }
           },
           "name": "positive",
           "offsetgroup": "positive",
           "orientation": "v",
           "showlegend": true,
           "textposition": "auto",
           "type": "bar",
           "x": [
            "positive"
           ],
           "xaxis": "x",
           "y": [
            0
           ],
           "yaxis": "y"
          }
         ],
         "name": "3600"
        },
        {
         "data": [
          {
           "alignmentgroup": "True",
           "hovertemplate": "Sentiment=%{x}<br>time=3900<br>Count=%{y}<extra></extra>",
           "legendgroup": "negative",
           "marker": {
            "color": "red",
            "pattern": {
             "shape": ""
            }
           },
           "name": "negative",
           "offsetgroup": "negative",
           "orientation": "v",
           "showlegend": true,
           "textposition": "auto",
           "type": "bar",
           "x": [
            "negative"
           ],
           "xaxis": "x",
           "y": [
            0
           ],
           "yaxis": "y"
          },
          {
           "alignmentgroup": "True",
           "hovertemplate": "Sentiment=%{x}<br>time=3900<br>Count=%{y}<extra></extra>",
           "legendgroup": "neutral",
           "marker": {
            "color": "yellow",
            "pattern": {
             "shape": ""
            }
           },
           "name": "neutral",
           "offsetgroup": "neutral",
           "orientation": "v",
           "showlegend": true,
           "textposition": "auto",
           "type": "bar",
           "x": [
            "neutral"
           ],
           "xaxis": "x",
           "y": [
            0
           ],
           "yaxis": "y"
          },
          {
           "alignmentgroup": "True",
           "hovertemplate": "Sentiment=%{x}<br>time=3900<br>Count=%{y}<extra></extra>",
           "legendgroup": "positive",
           "marker": {
            "color": "green",
            "pattern": {
             "shape": ""
            }
           },
           "name": "positive",
           "offsetgroup": "positive",
           "orientation": "v",
           "showlegend": true,
           "textposition": "auto",
           "type": "bar",
           "x": [
            "positive"
           ],
           "xaxis": "x",
           "y": [
            0
           ],
           "yaxis": "y"
          }
         ],
         "name": "3900"
        },
        {
         "data": [
          {
           "alignmentgroup": "True",
           "hovertemplate": "Sentiment=%{x}<br>time=4200<br>Count=%{y}<extra></extra>",
           "legendgroup": "negative",
           "marker": {
            "color": "red",
            "pattern": {
             "shape": ""
            }
           },
           "name": "negative",
           "offsetgroup": "negative",
           "orientation": "v",
           "showlegend": true,
           "textposition": "auto",
           "type": "bar",
           "x": [
            "negative"
           ],
           "xaxis": "x",
           "y": [
            1
           ],
           "yaxis": "y"
          },
          {
           "alignmentgroup": "True",
           "hovertemplate": "Sentiment=%{x}<br>time=4200<br>Count=%{y}<extra></extra>",
           "legendgroup": "neutral",
           "marker": {
            "color": "yellow",
            "pattern": {
             "shape": ""
            }
           },
           "name": "neutral",
           "offsetgroup": "neutral",
           "orientation": "v",
           "showlegend": true,
           "textposition": "auto",
           "type": "bar",
           "x": [
            "neutral"
           ],
           "xaxis": "x",
           "y": [
            0
           ],
           "yaxis": "y"
          },
          {
           "alignmentgroup": "True",
           "hovertemplate": "Sentiment=%{x}<br>time=4200<br>Count=%{y}<extra></extra>",
           "legendgroup": "positive",
           "marker": {
            "color": "green",
            "pattern": {
             "shape": ""
            }
           },
           "name": "positive",
           "offsetgroup": "positive",
           "orientation": "v",
           "showlegend": true,
           "textposition": "auto",
           "type": "bar",
           "x": [
            "positive"
           ],
           "xaxis": "x",
           "y": [
            0
           ],
           "yaxis": "y"
          }
         ],
         "name": "4200"
        },
        {
         "data": [
          {
           "alignmentgroup": "True",
           "hovertemplate": "Sentiment=%{x}<br>time=4500<br>Count=%{y}<extra></extra>",
           "legendgroup": "negative",
           "marker": {
            "color": "red",
            "pattern": {
             "shape": ""
            }
           },
           "name": "negative",
           "offsetgroup": "negative",
           "orientation": "v",
           "showlegend": true,
           "textposition": "auto",
           "type": "bar",
           "x": [
            "negative"
           ],
           "xaxis": "x",
           "y": [
            0
           ],
           "yaxis": "y"
          },
          {
           "alignmentgroup": "True",
           "hovertemplate": "Sentiment=%{x}<br>time=4500<br>Count=%{y}<extra></extra>",
           "legendgroup": "neutral",
           "marker": {
            "color": "yellow",
            "pattern": {
             "shape": ""
            }
           },
           "name": "neutral",
           "offsetgroup": "neutral",
           "orientation": "v",
           "showlegend": true,
           "textposition": "auto",
           "type": "bar",
           "x": [
            "neutral"
           ],
           "xaxis": "x",
           "y": [
            0
           ],
           "yaxis": "y"
          },
          {
           "alignmentgroup": "True",
           "hovertemplate": "Sentiment=%{x}<br>time=4500<br>Count=%{y}<extra></extra>",
           "legendgroup": "positive",
           "marker": {
            "color": "green",
            "pattern": {
             "shape": ""
            }
           },
           "name": "positive",
           "offsetgroup": "positive",
           "orientation": "v",
           "showlegend": true,
           "textposition": "auto",
           "type": "bar",
           "x": [
            "positive"
           ],
           "xaxis": "x",
           "y": [
            0
           ],
           "yaxis": "y"
          }
         ],
         "name": "4500"
        },
        {
         "data": [
          {
           "alignmentgroup": "True",
           "hovertemplate": "Sentiment=%{x}<br>time=4800<br>Count=%{y}<extra></extra>",
           "legendgroup": "negative",
           "marker": {
            "color": "red",
            "pattern": {
             "shape": ""
            }
           },
           "name": "negative",
           "offsetgroup": "negative",
           "orientation": "v",
           "showlegend": true,
           "textposition": "auto",
           "type": "bar",
           "x": [
            "negative"
           ],
           "xaxis": "x",
           "y": [
            0
           ],
           "yaxis": "y"
          },
          {
           "alignmentgroup": "True",
           "hovertemplate": "Sentiment=%{x}<br>time=4800<br>Count=%{y}<extra></extra>",
           "legendgroup": "neutral",
           "marker": {
            "color": "yellow",
            "pattern": {
             "shape": ""
            }
           },
           "name": "neutral",
           "offsetgroup": "neutral",
           "orientation": "v",
           "showlegend": true,
           "textposition": "auto",
           "type": "bar",
           "x": [
            "neutral"
           ],
           "xaxis": "x",
           "y": [
            0
           ],
           "yaxis": "y"
          },
          {
           "alignmentgroup": "True",
           "hovertemplate": "Sentiment=%{x}<br>time=4800<br>Count=%{y}<extra></extra>",
           "legendgroup": "positive",
           "marker": {
            "color": "green",
            "pattern": {
             "shape": ""
            }
           },
           "name": "positive",
           "offsetgroup": "positive",
           "orientation": "v",
           "showlegend": true,
           "textposition": "auto",
           "type": "bar",
           "x": [
            "positive"
           ],
           "xaxis": "x",
           "y": [
            0
           ],
           "yaxis": "y"
          }
         ],
         "name": "4800"
        },
        {
         "data": [
          {
           "alignmentgroup": "True",
           "hovertemplate": "Sentiment=%{x}<br>time=5100<br>Count=%{y}<extra></extra>",
           "legendgroup": "negative",
           "marker": {
            "color": "red",
            "pattern": {
             "shape": ""
            }
           },
           "name": "negative",
           "offsetgroup": "negative",
           "orientation": "v",
           "showlegend": true,
           "textposition": "auto",
           "type": "bar",
           "x": [
            "negative"
           ],
           "xaxis": "x",
           "y": [
            0
           ],
           "yaxis": "y"
          },
          {
           "alignmentgroup": "True",
           "hovertemplate": "Sentiment=%{x}<br>time=5100<br>Count=%{y}<extra></extra>",
           "legendgroup": "neutral",
           "marker": {
            "color": "yellow",
            "pattern": {
             "shape": ""
            }
           },
           "name": "neutral",
           "offsetgroup": "neutral",
           "orientation": "v",
           "showlegend": true,
           "textposition": "auto",
           "type": "bar",
           "x": [
            "neutral"
           ],
           "xaxis": "x",
           "y": [
            0
           ],
           "yaxis": "y"
          },
          {
           "alignmentgroup": "True",
           "hovertemplate": "Sentiment=%{x}<br>time=5100<br>Count=%{y}<extra></extra>",
           "legendgroup": "positive",
           "marker": {
            "color": "green",
            "pattern": {
             "shape": ""
            }
           },
           "name": "positive",
           "offsetgroup": "positive",
           "orientation": "v",
           "showlegend": true,
           "textposition": "auto",
           "type": "bar",
           "x": [
            "positive"
           ],
           "xaxis": "x",
           "y": [
            1
           ],
           "yaxis": "y"
          }
         ],
         "name": "5100"
        },
        {
         "data": [
          {
           "alignmentgroup": "True",
           "hovertemplate": "Sentiment=%{x}<br>time=5400<br>Count=%{y}<extra></extra>",
           "legendgroup": "negative",
           "marker": {
            "color": "red",
            "pattern": {
             "shape": ""
            }
           },
           "name": "negative",
           "offsetgroup": "negative",
           "orientation": "v",
           "showlegend": true,
           "textposition": "auto",
           "type": "bar",
           "x": [
            "negative"
           ],
           "xaxis": "x",
           "y": [
            0
           ],
           "yaxis": "y"
          },
          {
           "alignmentgroup": "True",
           "hovertemplate": "Sentiment=%{x}<br>time=5400<br>Count=%{y}<extra></extra>",
           "legendgroup": "neutral",
           "marker": {
            "color": "yellow",
            "pattern": {
             "shape": ""
            }
           },
           "name": "neutral",
           "offsetgroup": "neutral",
           "orientation": "v",
           "showlegend": true,
           "textposition": "auto",
           "type": "bar",
           "x": [
            "neutral"
           ],
           "xaxis": "x",
           "y": [
            1
           ],
           "yaxis": "y"
          },
          {
           "alignmentgroup": "True",
           "hovertemplate": "Sentiment=%{x}<br>time=5400<br>Count=%{y}<extra></extra>",
           "legendgroup": "positive",
           "marker": {
            "color": "green",
            "pattern": {
             "shape": ""
            }
           },
           "name": "positive",
           "offsetgroup": "positive",
           "orientation": "v",
           "showlegend": true,
           "textposition": "auto",
           "type": "bar",
           "x": [
            "positive"
           ],
           "xaxis": "x",
           "y": [
            0
           ],
           "yaxis": "y"
          }
         ],
         "name": "5400"
        },
        {
         "data": [
          {
           "alignmentgroup": "True",
           "hovertemplate": "Sentiment=%{x}<br>time=5700<br>Count=%{y}<extra></extra>",
           "legendgroup": "negative",
           "marker": {
            "color": "red",
            "pattern": {
             "shape": ""
            }
           },
           "name": "negative",
           "offsetgroup": "negative",
           "orientation": "v",
           "showlegend": true,
           "textposition": "auto",
           "type": "bar",
           "x": [
            "negative"
           ],
           "xaxis": "x",
           "y": [
            1
           ],
           "yaxis": "y"
          },
          {
           "alignmentgroup": "True",
           "hovertemplate": "Sentiment=%{x}<br>time=5700<br>Count=%{y}<extra></extra>",
           "legendgroup": "neutral",
           "marker": {
            "color": "yellow",
            "pattern": {
             "shape": ""
            }
           },
           "name": "neutral",
           "offsetgroup": "neutral",
           "orientation": "v",
           "showlegend": true,
           "textposition": "auto",
           "type": "bar",
           "x": [
            "neutral"
           ],
           "xaxis": "x",
           "y": [
            0
           ],
           "yaxis": "y"
          },
          {
           "alignmentgroup": "True",
           "hovertemplate": "Sentiment=%{x}<br>time=5700<br>Count=%{y}<extra></extra>",
           "legendgroup": "positive",
           "marker": {
            "color": "green",
            "pattern": {
             "shape": ""
            }
           },
           "name": "positive",
           "offsetgroup": "positive",
           "orientation": "v",
           "showlegend": true,
           "textposition": "auto",
           "type": "bar",
           "x": [
            "positive"
           ],
           "xaxis": "x",
           "y": [
            0
           ],
           "yaxis": "y"
          }
         ],
         "name": "5700"
        },
        {
         "data": [
          {
           "alignmentgroup": "True",
           "hovertemplate": "Sentiment=%{x}<br>time=6000<br>Count=%{y}<extra></extra>",
           "legendgroup": "negative",
           "marker": {
            "color": "red",
            "pattern": {
             "shape": ""
            }
           },
           "name": "negative",
           "offsetgroup": "negative",
           "orientation": "v",
           "showlegend": true,
           "textposition": "auto",
           "type": "bar",
           "x": [
            "negative"
           ],
           "xaxis": "x",
           "y": [
            9
           ],
           "yaxis": "y"
          },
          {
           "alignmentgroup": "True",
           "hovertemplate": "Sentiment=%{x}<br>time=6000<br>Count=%{y}<extra></extra>",
           "legendgroup": "neutral",
           "marker": {
            "color": "yellow",
            "pattern": {
             "shape": ""
            }
           },
           "name": "neutral",
           "offsetgroup": "neutral",
           "orientation": "v",
           "showlegend": true,
           "textposition": "auto",
           "type": "bar",
           "x": [
            "neutral"
           ],
           "xaxis": "x",
           "y": [
            27
           ],
           "yaxis": "y"
          },
          {
           "alignmentgroup": "True",
           "hovertemplate": "Sentiment=%{x}<br>time=6000<br>Count=%{y}<extra></extra>",
           "legendgroup": "positive",
           "marker": {
            "color": "green",
            "pattern": {
             "shape": ""
            }
           },
           "name": "positive",
           "offsetgroup": "positive",
           "orientation": "v",
           "showlegend": true,
           "textposition": "auto",
           "type": "bar",
           "x": [
            "positive"
           ],
           "xaxis": "x",
           "y": [
            0
           ],
           "yaxis": "y"
          }
         ],
         "name": "6000"
        },
        {
         "data": [
          {
           "alignmentgroup": "True",
           "hovertemplate": "Sentiment=%{x}<br>time=6300<br>Count=%{y}<extra></extra>",
           "legendgroup": "negative",
           "marker": {
            "color": "red",
            "pattern": {
             "shape": ""
            }
           },
           "name": "negative",
           "offsetgroup": "negative",
           "orientation": "v",
           "showlegend": true,
           "textposition": "auto",
           "type": "bar",
           "x": [
            "negative"
           ],
           "xaxis": "x",
           "y": [
            15
           ],
           "yaxis": "y"
          },
          {
           "alignmentgroup": "True",
           "hovertemplate": "Sentiment=%{x}<br>time=6300<br>Count=%{y}<extra></extra>",
           "legendgroup": "neutral",
           "marker": {
            "color": "yellow",
            "pattern": {
             "shape": ""
            }
           },
           "name": "neutral",
           "offsetgroup": "neutral",
           "orientation": "v",
           "showlegend": true,
           "textposition": "auto",
           "type": "bar",
           "x": [
            "neutral"
           ],
           "xaxis": "x",
           "y": [
            78
           ],
           "yaxis": "y"
          },
          {
           "alignmentgroup": "True",
           "hovertemplate": "Sentiment=%{x}<br>time=6300<br>Count=%{y}<extra></extra>",
           "legendgroup": "positive",
           "marker": {
            "color": "green",
            "pattern": {
             "shape": ""
            }
           },
           "name": "positive",
           "offsetgroup": "positive",
           "orientation": "v",
           "showlegend": true,
           "textposition": "auto",
           "type": "bar",
           "x": [
            "positive"
           ],
           "xaxis": "x",
           "y": [
            4
           ],
           "yaxis": "y"
          }
         ],
         "name": "6300"
        },
        {
         "data": [
          {
           "alignmentgroup": "True",
           "hovertemplate": "Sentiment=%{x}<br>time=6600<br>Count=%{y}<extra></extra>",
           "legendgroup": "negative",
           "marker": {
            "color": "red",
            "pattern": {
             "shape": ""
            }
           },
           "name": "negative",
           "offsetgroup": "negative",
           "orientation": "v",
           "showlegend": true,
           "textposition": "auto",
           "type": "bar",
           "x": [
            "negative"
           ],
           "xaxis": "x",
           "y": [
            1
           ],
           "yaxis": "y"
          },
          {
           "alignmentgroup": "True",
           "hovertemplate": "Sentiment=%{x}<br>time=6600<br>Count=%{y}<extra></extra>",
           "legendgroup": "neutral",
           "marker": {
            "color": "yellow",
            "pattern": {
             "shape": ""
            }
           },
           "name": "neutral",
           "offsetgroup": "neutral",
           "orientation": "v",
           "showlegend": true,
           "textposition": "auto",
           "type": "bar",
           "x": [
            "neutral"
           ],
           "xaxis": "x",
           "y": [
            24
           ],
           "yaxis": "y"
          },
          {
           "alignmentgroup": "True",
           "hovertemplate": "Sentiment=%{x}<br>time=6600<br>Count=%{y}<extra></extra>",
           "legendgroup": "positive",
           "marker": {
            "color": "green",
            "pattern": {
             "shape": ""
            }
           },
           "name": "positive",
           "offsetgroup": "positive",
           "orientation": "v",
           "showlegend": true,
           "textposition": "auto",
           "type": "bar",
           "x": [
            "positive"
           ],
           "xaxis": "x",
           "y": [
            10
           ],
           "yaxis": "y"
          }
         ],
         "name": "6600"
        },
        {
         "data": [
          {
           "alignmentgroup": "True",
           "hovertemplate": "Sentiment=%{x}<br>time=6900<br>Count=%{y}<extra></extra>",
           "legendgroup": "negative",
           "marker": {
            "color": "red",
            "pattern": {
             "shape": ""
            }
           },
           "name": "negative",
           "offsetgroup": "negative",
           "orientation": "v",
           "showlegend": true,
           "textposition": "auto",
           "type": "bar",
           "x": [
            "negative"
           ],
           "xaxis": "x",
           "y": [
            2
           ],
           "yaxis": "y"
          },
          {
           "alignmentgroup": "True",
           "hovertemplate": "Sentiment=%{x}<br>time=6900<br>Count=%{y}<extra></extra>",
           "legendgroup": "neutral",
           "marker": {
            "color": "yellow",
            "pattern": {
             "shape": ""
            }
           },
           "name": "neutral",
           "offsetgroup": "neutral",
           "orientation": "v",
           "showlegend": true,
           "textposition": "auto",
           "type": "bar",
           "x": [
            "neutral"
           ],
           "xaxis": "x",
           "y": [
            13
           ],
           "yaxis": "y"
          },
          {
           "alignmentgroup": "True",
           "hovertemplate": "Sentiment=%{x}<br>time=6900<br>Count=%{y}<extra></extra>",
           "legendgroup": "positive",
           "marker": {
            "color": "green",
            "pattern": {
             "shape": ""
            }
           },
           "name": "positive",
           "offsetgroup": "positive",
           "orientation": "v",
           "showlegend": true,
           "textposition": "auto",
           "type": "bar",
           "x": [
            "positive"
           ],
           "xaxis": "x",
           "y": [
            6
           ],
           "yaxis": "y"
          }
         ],
         "name": "6900"
        },
        {
         "data": [
          {
           "alignmentgroup": "True",
           "hovertemplate": "Sentiment=%{x}<br>time=7200<br>Count=%{y}<extra></extra>",
           "legendgroup": "negative",
           "marker": {
            "color": "red",
            "pattern": {
             "shape": ""
            }
           },
           "name": "negative",
           "offsetgroup": "negative",
           "orientation": "v",
           "showlegend": true,
           "textposition": "auto",
           "type": "bar",
           "x": [
            "negative"
           ],
           "xaxis": "x",
           "y": [
            4
           ],
           "yaxis": "y"
          },
          {
           "alignmentgroup": "True",
           "hovertemplate": "Sentiment=%{x}<br>time=7200<br>Count=%{y}<extra></extra>",
           "legendgroup": "neutral",
           "marker": {
            "color": "yellow",
            "pattern": {
             "shape": ""
            }
           },
           "name": "neutral",
           "offsetgroup": "neutral",
           "orientation": "v",
           "showlegend": true,
           "textposition": "auto",
           "type": "bar",
           "x": [
            "neutral"
           ],
           "xaxis": "x",
           "y": [
            19
           ],
           "yaxis": "y"
          },
          {
           "alignmentgroup": "True",
           "hovertemplate": "Sentiment=%{x}<br>time=7200<br>Count=%{y}<extra></extra>",
           "legendgroup": "positive",
           "marker": {
            "color": "green",
            "pattern": {
             "shape": ""
            }
           },
           "name": "positive",
           "offsetgroup": "positive",
           "orientation": "v",
           "showlegend": true,
           "textposition": "auto",
           "type": "bar",
           "x": [
            "positive"
           ],
           "xaxis": "x",
           "y": [
            8
           ],
           "yaxis": "y"
          }
         ],
         "name": "7200"
        },
        {
         "data": [
          {
           "alignmentgroup": "True",
           "hovertemplate": "Sentiment=%{x}<br>time=7500<br>Count=%{y}<extra></extra>",
           "legendgroup": "negative",
           "marker": {
            "color": "red",
            "pattern": {
             "shape": ""
            }
           },
           "name": "negative",
           "offsetgroup": "negative",
           "orientation": "v",
           "showlegend": true,
           "textposition": "auto",
           "type": "bar",
           "x": [
            "negative"
           ],
           "xaxis": "x",
           "y": [
            0
           ],
           "yaxis": "y"
          },
          {
           "alignmentgroup": "True",
           "hovertemplate": "Sentiment=%{x}<br>time=7500<br>Count=%{y}<extra></extra>",
           "legendgroup": "neutral",
           "marker": {
            "color": "yellow",
            "pattern": {
             "shape": ""
            }
           },
           "name": "neutral",
           "offsetgroup": "neutral",
           "orientation": "v",
           "showlegend": true,
           "textposition": "auto",
           "type": "bar",
           "x": [
            "neutral"
           ],
           "xaxis": "x",
           "y": [
            0
           ],
           "yaxis": "y"
          },
          {
           "alignmentgroup": "True",
           "hovertemplate": "Sentiment=%{x}<br>time=7500<br>Count=%{y}<extra></extra>",
           "legendgroup": "positive",
           "marker": {
            "color": "green",
            "pattern": {
             "shape": ""
            }
           },
           "name": "positive",
           "offsetgroup": "positive",
           "orientation": "v",
           "showlegend": true,
           "textposition": "auto",
           "type": "bar",
           "x": [
            "positive"
           ],
           "xaxis": "x",
           "y": [
            0
           ],
           "yaxis": "y"
          }
         ],
         "name": "7500"
        },
        {
         "data": [
          {
           "alignmentgroup": "True",
           "hovertemplate": "Sentiment=%{x}<br>time=7800<br>Count=%{y}<extra></extra>",
           "legendgroup": "negative",
           "marker": {
            "color": "red",
            "pattern": {
             "shape": ""
            }
           },
           "name": "negative",
           "offsetgroup": "negative",
           "orientation": "v",
           "showlegend": true,
           "textposition": "auto",
           "type": "bar",
           "x": [
            "negative"
           ],
           "xaxis": "x",
           "y": [
            6
           ],
           "yaxis": "y"
          },
          {
           "alignmentgroup": "True",
           "hovertemplate": "Sentiment=%{x}<br>time=7800<br>Count=%{y}<extra></extra>",
           "legendgroup": "neutral",
           "marker": {
            "color": "yellow",
            "pattern": {
             "shape": ""
            }
           },
           "name": "neutral",
           "offsetgroup": "neutral",
           "orientation": "v",
           "showlegend": true,
           "textposition": "auto",
           "type": "bar",
           "x": [
            "neutral"
           ],
           "xaxis": "x",
           "y": [
            5
           ],
           "yaxis": "y"
          },
          {
           "alignmentgroup": "True",
           "hovertemplate": "Sentiment=%{x}<br>time=7800<br>Count=%{y}<extra></extra>",
           "legendgroup": "positive",
           "marker": {
            "color": "green",
            "pattern": {
             "shape": ""
            }
           },
           "name": "positive",
           "offsetgroup": "positive",
           "orientation": "v",
           "showlegend": true,
           "textposition": "auto",
           "type": "bar",
           "x": [
            "positive"
           ],
           "xaxis": "x",
           "y": [
            2
           ],
           "yaxis": "y"
          }
         ],
         "name": "7800"
        },
        {
         "data": [
          {
           "alignmentgroup": "True",
           "hovertemplate": "Sentiment=%{x}<br>time=8100<br>Count=%{y}<extra></extra>",
           "legendgroup": "negative",
           "marker": {
            "color": "red",
            "pattern": {
             "shape": ""
            }
           },
           "name": "negative",
           "offsetgroup": "negative",
           "orientation": "v",
           "showlegend": true,
           "textposition": "auto",
           "type": "bar",
           "x": [
            "negative"
           ],
           "xaxis": "x",
           "y": [
            1
           ],
           "yaxis": "y"
          },
          {
           "alignmentgroup": "True",
           "hovertemplate": "Sentiment=%{x}<br>time=8100<br>Count=%{y}<extra></extra>",
           "legendgroup": "neutral",
           "marker": {
            "color": "yellow",
            "pattern": {
             "shape": ""
            }
           },
           "name": "neutral",
           "offsetgroup": "neutral",
           "orientation": "v",
           "showlegend": true,
           "textposition": "auto",
           "type": "bar",
           "x": [
            "neutral"
           ],
           "xaxis": "x",
           "y": [
            12
           ],
           "yaxis": "y"
          },
          {
           "alignmentgroup": "True",
           "hovertemplate": "Sentiment=%{x}<br>time=8100<br>Count=%{y}<extra></extra>",
           "legendgroup": "positive",
           "marker": {
            "color": "green",
            "pattern": {
             "shape": ""
            }
           },
           "name": "positive",
           "offsetgroup": "positive",
           "orientation": "v",
           "showlegend": true,
           "textposition": "auto",
           "type": "bar",
           "x": [
            "positive"
           ],
           "xaxis": "x",
           "y": [
            2
           ],
           "yaxis": "y"
          }
         ],
         "name": "8100"
        },
        {
         "data": [
          {
           "alignmentgroup": "True",
           "hovertemplate": "Sentiment=%{x}<br>time=8400<br>Count=%{y}<extra></extra>",
           "legendgroup": "negative",
           "marker": {
            "color": "red",
            "pattern": {
             "shape": ""
            }
           },
           "name": "negative",
           "offsetgroup": "negative",
           "orientation": "v",
           "showlegend": true,
           "textposition": "auto",
           "type": "bar",
           "x": [
            "negative"
           ],
           "xaxis": "x",
           "y": [
            2
           ],
           "yaxis": "y"
          },
          {
           "alignmentgroup": "True",
           "hovertemplate": "Sentiment=%{x}<br>time=8400<br>Count=%{y}<extra></extra>",
           "legendgroup": "neutral",
           "marker": {
            "color": "yellow",
            "pattern": {
             "shape": ""
            }
           },
           "name": "neutral",
           "offsetgroup": "neutral",
           "orientation": "v",
           "showlegend": true,
           "textposition": "auto",
           "type": "bar",
           "x": [
            "neutral"
           ],
           "xaxis": "x",
           "y": [
            13
           ],
           "yaxis": "y"
          },
          {
           "alignmentgroup": "True",
           "hovertemplate": "Sentiment=%{x}<br>time=8400<br>Count=%{y}<extra></extra>",
           "legendgroup": "positive",
           "marker": {
            "color": "green",
            "pattern": {
             "shape": ""
            }
           },
           "name": "positive",
           "offsetgroup": "positive",
           "orientation": "v",
           "showlegend": true,
           "textposition": "auto",
           "type": "bar",
           "x": [
            "positive"
           ],
           "xaxis": "x",
           "y": [
            13
           ],
           "yaxis": "y"
          }
         ],
         "name": "8400"
        },
        {
         "data": [
          {
           "alignmentgroup": "True",
           "hovertemplate": "Sentiment=%{x}<br>time=8700<br>Count=%{y}<extra></extra>",
           "legendgroup": "negative",
           "marker": {
            "color": "red",
            "pattern": {
             "shape": ""
            }
           },
           "name": "negative",
           "offsetgroup": "negative",
           "orientation": "v",
           "showlegend": true,
           "textposition": "auto",
           "type": "bar",
           "x": [
            "negative"
           ],
           "xaxis": "x",
           "y": [
            3
           ],
           "yaxis": "y"
          },
          {
           "alignmentgroup": "True",
           "hovertemplate": "Sentiment=%{x}<br>time=8700<br>Count=%{y}<extra></extra>",
           "legendgroup": "neutral",
           "marker": {
            "color": "yellow",
            "pattern": {
             "shape": ""
            }
           },
           "name": "neutral",
           "offsetgroup": "neutral",
           "orientation": "v",
           "showlegend": true,
           "textposition": "auto",
           "type": "bar",
           "x": [
            "neutral"
           ],
           "xaxis": "x",
           "y": [
            24
           ],
           "yaxis": "y"
          },
          {
           "alignmentgroup": "True",
           "hovertemplate": "Sentiment=%{x}<br>time=8700<br>Count=%{y}<extra></extra>",
           "legendgroup": "positive",
           "marker": {
            "color": "green",
            "pattern": {
             "shape": ""
            }
           },
           "name": "positive",
           "offsetgroup": "positive",
           "orientation": "v",
           "showlegend": true,
           "textposition": "auto",
           "type": "bar",
           "x": [
            "positive"
           ],
           "xaxis": "x",
           "y": [
            4
           ],
           "yaxis": "y"
          }
         ],
         "name": "8700"
        },
        {
         "data": [
          {
           "alignmentgroup": "True",
           "hovertemplate": "Sentiment=%{x}<br>time=9000<br>Count=%{y}<extra></extra>",
           "legendgroup": "negative",
           "marker": {
            "color": "red",
            "pattern": {
             "shape": ""
            }
           },
           "name": "negative",
           "offsetgroup": "negative",
           "orientation": "v",
           "showlegend": true,
           "textposition": "auto",
           "type": "bar",
           "x": [
            "negative"
           ],
           "xaxis": "x",
           "y": [
            0
           ],
           "yaxis": "y"
          },
          {
           "alignmentgroup": "True",
           "hovertemplate": "Sentiment=%{x}<br>time=9000<br>Count=%{y}<extra></extra>",
           "legendgroup": "neutral",
           "marker": {
            "color": "yellow",
            "pattern": {
             "shape": ""
            }
           },
           "name": "neutral",
           "offsetgroup": "neutral",
           "orientation": "v",
           "showlegend": true,
           "textposition": "auto",
           "type": "bar",
           "x": [
            "neutral"
           ],
           "xaxis": "x",
           "y": [
            13
           ],
           "yaxis": "y"
          },
          {
           "alignmentgroup": "True",
           "hovertemplate": "Sentiment=%{x}<br>time=9000<br>Count=%{y}<extra></extra>",
           "legendgroup": "positive",
           "marker": {
            "color": "green",
            "pattern": {
             "shape": ""
            }
           },
           "name": "positive",
           "offsetgroup": "positive",
           "orientation": "v",
           "showlegend": true,
           "textposition": "auto",
           "type": "bar",
           "x": [
            "positive"
           ],
           "xaxis": "x",
           "y": [
            0
           ],
           "yaxis": "y"
          }
         ],
         "name": "9000"
        },
        {
         "data": [
          {
           "alignmentgroup": "True",
           "hovertemplate": "Sentiment=%{x}<br>time=9300<br>Count=%{y}<extra></extra>",
           "legendgroup": "negative",
           "marker": {
            "color": "red",
            "pattern": {
             "shape": ""
            }
           },
           "name": "negative",
           "offsetgroup": "negative",
           "orientation": "v",
           "showlegend": true,
           "textposition": "auto",
           "type": "bar",
           "x": [
            "negative"
           ],
           "xaxis": "x",
           "y": [
            0
           ],
           "yaxis": "y"
          },
          {
           "alignmentgroup": "True",
           "hovertemplate": "Sentiment=%{x}<br>time=9300<br>Count=%{y}<extra></extra>",
           "legendgroup": "neutral",
           "marker": {
            "color": "yellow",
            "pattern": {
             "shape": ""
            }
           },
           "name": "neutral",
           "offsetgroup": "neutral",
           "orientation": "v",
           "showlegend": true,
           "textposition": "auto",
           "type": "bar",
           "x": [
            "neutral"
           ],
           "xaxis": "x",
           "y": [
            8
           ],
           "yaxis": "y"
          },
          {
           "alignmentgroup": "True",
           "hovertemplate": "Sentiment=%{x}<br>time=9300<br>Count=%{y}<extra></extra>",
           "legendgroup": "positive",
           "marker": {
            "color": "green",
            "pattern": {
             "shape": ""
            }
           },
           "name": "positive",
           "offsetgroup": "positive",
           "orientation": "v",
           "showlegend": true,
           "textposition": "auto",
           "type": "bar",
           "x": [
            "positive"
           ],
           "xaxis": "x",
           "y": [
            0
           ],
           "yaxis": "y"
          }
         ],
         "name": "9300"
        },
        {
         "data": [
          {
           "alignmentgroup": "True",
           "hovertemplate": "Sentiment=%{x}<br>time=9600<br>Count=%{y}<extra></extra>",
           "legendgroup": "negative",
           "marker": {
            "color": "red",
            "pattern": {
             "shape": ""
            }
           },
           "name": "negative",
           "offsetgroup": "negative",
           "orientation": "v",
           "showlegend": true,
           "textposition": "auto",
           "type": "bar",
           "x": [
            "negative"
           ],
           "xaxis": "x",
           "y": [
            17
           ],
           "yaxis": "y"
          },
          {
           "alignmentgroup": "True",
           "hovertemplate": "Sentiment=%{x}<br>time=9600<br>Count=%{y}<extra></extra>",
           "legendgroup": "neutral",
           "marker": {
            "color": "yellow",
            "pattern": {
             "shape": ""
            }
           },
           "name": "neutral",
           "offsetgroup": "neutral",
           "orientation": "v",
           "showlegend": true,
           "textposition": "auto",
           "type": "bar",
           "x": [
            "neutral"
           ],
           "xaxis": "x",
           "y": [
            21
           ],
           "yaxis": "y"
          },
          {
           "alignmentgroup": "True",
           "hovertemplate": "Sentiment=%{x}<br>time=9600<br>Count=%{y}<extra></extra>",
           "legendgroup": "positive",
           "marker": {
            "color": "green",
            "pattern": {
             "shape": ""
            }
           },
           "name": "positive",
           "offsetgroup": "positive",
           "orientation": "v",
           "showlegend": true,
           "textposition": "auto",
           "type": "bar",
           "x": [
            "positive"
           ],
           "xaxis": "x",
           "y": [
            18
           ],
           "yaxis": "y"
          }
         ],
         "name": "9600"
        },
        {
         "data": [
          {
           "alignmentgroup": "True",
           "hovertemplate": "Sentiment=%{x}<br>time=9900<br>Count=%{y}<extra></extra>",
           "legendgroup": "negative",
           "marker": {
            "color": "red",
            "pattern": {
             "shape": ""
            }
           },
           "name": "negative",
           "offsetgroup": "negative",
           "orientation": "v",
           "showlegend": true,
           "textposition": "auto",
           "type": "bar",
           "x": [
            "negative"
           ],
           "xaxis": "x",
           "y": [
            5
           ],
           "yaxis": "y"
          },
          {
           "alignmentgroup": "True",
           "hovertemplate": "Sentiment=%{x}<br>time=9900<br>Count=%{y}<extra></extra>",
           "legendgroup": "neutral",
           "marker": {
            "color": "yellow",
            "pattern": {
             "shape": ""
            }
           },
           "name": "neutral",
           "offsetgroup": "neutral",
           "orientation": "v",
           "showlegend": true,
           "textposition": "auto",
           "type": "bar",
           "x": [
            "neutral"
           ],
           "xaxis": "x",
           "y": [
            7
           ],
           "yaxis": "y"
          },
          {
           "alignmentgroup": "True",
           "hovertemplate": "Sentiment=%{x}<br>time=9900<br>Count=%{y}<extra></extra>",
           "legendgroup": "positive",
           "marker": {
            "color": "green",
            "pattern": {
             "shape": ""
            }
           },
           "name": "positive",
           "offsetgroup": "positive",
           "orientation": "v",
           "showlegend": true,
           "textposition": "auto",
           "type": "bar",
           "x": [
            "positive"
           ],
           "xaxis": "x",
           "y": [
            0
           ],
           "yaxis": "y"
          }
         ],
         "name": "9900"
        },
        {
         "data": [
          {
           "alignmentgroup": "True",
           "hovertemplate": "Sentiment=%{x}<br>time=10200<br>Count=%{y}<extra></extra>",
           "legendgroup": "negative",
           "marker": {
            "color": "red",
            "pattern": {
             "shape": ""
            }
           },
           "name": "negative",
           "offsetgroup": "negative",
           "orientation": "v",
           "showlegend": true,
           "textposition": "auto",
           "type": "bar",
           "x": [
            "negative"
           ],
           "xaxis": "x",
           "y": [
            0
           ],
           "yaxis": "y"
          },
          {
           "alignmentgroup": "True",
           "hovertemplate": "Sentiment=%{x}<br>time=10200<br>Count=%{y}<extra></extra>",
           "legendgroup": "neutral",
           "marker": {
            "color": "yellow",
            "pattern": {
             "shape": ""
            }
           },
           "name": "neutral",
           "offsetgroup": "neutral",
           "orientation": "v",
           "showlegend": true,
           "textposition": "auto",
           "type": "bar",
           "x": [
            "neutral"
           ],
           "xaxis": "x",
           "y": [
            1
           ],
           "yaxis": "y"
          },
          {
           "alignmentgroup": "True",
           "hovertemplate": "Sentiment=%{x}<br>time=10200<br>Count=%{y}<extra></extra>",
           "legendgroup": "positive",
           "marker": {
            "color": "green",
            "pattern": {
             "shape": ""
            }
           },
           "name": "positive",
           "offsetgroup": "positive",
           "orientation": "v",
           "showlegend": true,
           "textposition": "auto",
           "type": "bar",
           "x": [
            "positive"
           ],
           "xaxis": "x",
           "y": [
            2
           ],
           "yaxis": "y"
          }
         ],
         "name": "10200"
        },
        {
         "data": [
          {
           "alignmentgroup": "True",
           "hovertemplate": "Sentiment=%{x}<br>time=10500<br>Count=%{y}<extra></extra>",
           "legendgroup": "negative",
           "marker": {
            "color": "red",
            "pattern": {
             "shape": ""
            }
           },
           "name": "negative",
           "offsetgroup": "negative",
           "orientation": "v",
           "showlegend": true,
           "textposition": "auto",
           "type": "bar",
           "x": [
            "negative"
           ],
           "xaxis": "x",
           "y": [
            0
           ],
           "yaxis": "y"
          },
          {
           "alignmentgroup": "True",
           "hovertemplate": "Sentiment=%{x}<br>time=10500<br>Count=%{y}<extra></extra>",
           "legendgroup": "neutral",
           "marker": {
            "color": "yellow",
            "pattern": {
             "shape": ""
            }
           },
           "name": "neutral",
           "offsetgroup": "neutral",
           "orientation": "v",
           "showlegend": true,
           "textposition": "auto",
           "type": "bar",
           "x": [
            "neutral"
           ],
           "xaxis": "x",
           "y": [
            0
           ],
           "yaxis": "y"
          },
          {
           "alignmentgroup": "True",
           "hovertemplate": "Sentiment=%{x}<br>time=10500<br>Count=%{y}<extra></extra>",
           "legendgroup": "positive",
           "marker": {
            "color": "green",
            "pattern": {
             "shape": ""
            }
           },
           "name": "positive",
           "offsetgroup": "positive",
           "orientation": "v",
           "showlegend": true,
           "textposition": "auto",
           "type": "bar",
           "x": [
            "positive"
           ],
           "xaxis": "x",
           "y": [
            0
           ],
           "yaxis": "y"
          }
         ],
         "name": "10500"
        },
        {
         "data": [
          {
           "alignmentgroup": "True",
           "hovertemplate": "Sentiment=%{x}<br>time=10800<br>Count=%{y}<extra></extra>",
           "legendgroup": "negative",
           "marker": {
            "color": "red",
            "pattern": {
             "shape": ""
            }
           },
           "name": "negative",
           "offsetgroup": "negative",
           "orientation": "v",
           "showlegend": true,
           "textposition": "auto",
           "type": "bar",
           "x": [
            "negative"
           ],
           "xaxis": "x",
           "y": [
            0
           ],
           "yaxis": "y"
          },
          {
           "alignmentgroup": "True",
           "hovertemplate": "Sentiment=%{x}<br>time=10800<br>Count=%{y}<extra></extra>",
           "legendgroup": "neutral",
           "marker": {
            "color": "yellow",
            "pattern": {
             "shape": ""
            }
           },
           "name": "neutral",
           "offsetgroup": "neutral",
           "orientation": "v",
           "showlegend": true,
           "textposition": "auto",
           "type": "bar",
           "x": [
            "neutral"
           ],
           "xaxis": "x",
           "y": [
            1
           ],
           "yaxis": "y"
          },
          {
           "alignmentgroup": "True",
           "hovertemplate": "Sentiment=%{x}<br>time=10800<br>Count=%{y}<extra></extra>",
           "legendgroup": "positive",
           "marker": {
            "color": "green",
            "pattern": {
             "shape": ""
            }
           },
           "name": "positive",
           "offsetgroup": "positive",
           "orientation": "v",
           "showlegend": true,
           "textposition": "auto",
           "type": "bar",
           "x": [
            "positive"
           ],
           "xaxis": "x",
           "y": [
            1
           ],
           "yaxis": "y"
          }
         ],
         "name": "10800"
        },
        {
         "data": [
          {
           "alignmentgroup": "True",
           "hovertemplate": "Sentiment=%{x}<br>time=11100<br>Count=%{y}<extra></extra>",
           "legendgroup": "negative",
           "marker": {
            "color": "red",
            "pattern": {
             "shape": ""
            }
           },
           "name": "negative",
           "offsetgroup": "negative",
           "orientation": "v",
           "showlegend": true,
           "textposition": "auto",
           "type": "bar",
           "x": [
            "negative"
           ],
           "xaxis": "x",
           "y": [
            0
           ],
           "yaxis": "y"
          },
          {
           "alignmentgroup": "True",
           "hovertemplate": "Sentiment=%{x}<br>time=11100<br>Count=%{y}<extra></extra>",
           "legendgroup": "neutral",
           "marker": {
            "color": "yellow",
            "pattern": {
             "shape": ""
            }
           },
           "name": "neutral",
           "offsetgroup": "neutral",
           "orientation": "v",
           "showlegend": true,
           "textposition": "auto",
           "type": "bar",
           "x": [
            "neutral"
           ],
           "xaxis": "x",
           "y": [
            13
           ],
           "yaxis": "y"
          },
          {
           "alignmentgroup": "True",
           "hovertemplate": "Sentiment=%{x}<br>time=11100<br>Count=%{y}<extra></extra>",
           "legendgroup": "positive",
           "marker": {
            "color": "green",
            "pattern": {
             "shape": ""
            }
           },
           "name": "positive",
           "offsetgroup": "positive",
           "orientation": "v",
           "showlegend": true,
           "textposition": "auto",
           "type": "bar",
           "x": [
            "positive"
           ],
           "xaxis": "x",
           "y": [
            1
           ],
           "yaxis": "y"
          }
         ],
         "name": "11100"
        },
        {
         "data": [
          {
           "alignmentgroup": "True",
           "hovertemplate": "Sentiment=%{x}<br>time=11400<br>Count=%{y}<extra></extra>",
           "legendgroup": "negative",
           "marker": {
            "color": "red",
            "pattern": {
             "shape": ""
            }
           },
           "name": "negative",
           "offsetgroup": "negative",
           "orientation": "v",
           "showlegend": true,
           "textposition": "auto",
           "type": "bar",
           "x": [
            "negative"
           ],
           "xaxis": "x",
           "y": [
            0
           ],
           "yaxis": "y"
          },
          {
           "alignmentgroup": "True",
           "hovertemplate": "Sentiment=%{x}<br>time=11400<br>Count=%{y}<extra></extra>",
           "legendgroup": "neutral",
           "marker": {
            "color": "yellow",
            "pattern": {
             "shape": ""
            }
           },
           "name": "neutral",
           "offsetgroup": "neutral",
           "orientation": "v",
           "showlegend": true,
           "textposition": "auto",
           "type": "bar",
           "x": [
            "neutral"
           ],
           "xaxis": "x",
           "y": [
            15
           ],
           "yaxis": "y"
          },
          {
           "alignmentgroup": "True",
           "hovertemplate": "Sentiment=%{x}<br>time=11400<br>Count=%{y}<extra></extra>",
           "legendgroup": "positive",
           "marker": {
            "color": "green",
            "pattern": {
             "shape": ""
            }
           },
           "name": "positive",
           "offsetgroup": "positive",
           "orientation": "v",
           "showlegend": true,
           "textposition": "auto",
           "type": "bar",
           "x": [
            "positive"
           ],
           "xaxis": "x",
           "y": [
            0
           ],
           "yaxis": "y"
          }
         ],
         "name": "11400"
        },
        {
         "data": [
          {
           "alignmentgroup": "True",
           "hovertemplate": "Sentiment=%{x}<br>time=11700<br>Count=%{y}<extra></extra>",
           "legendgroup": "negative",
           "marker": {
            "color": "red",
            "pattern": {
             "shape": ""
            }
           },
           "name": "negative",
           "offsetgroup": "negative",
           "orientation": "v",
           "showlegend": true,
           "textposition": "auto",
           "type": "bar",
           "x": [
            "negative"
           ],
           "xaxis": "x",
           "y": [
            1
           ],
           "yaxis": "y"
          },
          {
           "alignmentgroup": "True",
           "hovertemplate": "Sentiment=%{x}<br>time=11700<br>Count=%{y}<extra></extra>",
           "legendgroup": "neutral",
           "marker": {
            "color": "yellow",
            "pattern": {
             "shape": ""
            }
           },
           "name": "neutral",
           "offsetgroup": "neutral",
           "orientation": "v",
           "showlegend": true,
           "textposition": "auto",
           "type": "bar",
           "x": [
            "neutral"
           ],
           "xaxis": "x",
           "y": [
            3
           ],
           "yaxis": "y"
          },
          {
           "alignmentgroup": "True",
           "hovertemplate": "Sentiment=%{x}<br>time=11700<br>Count=%{y}<extra></extra>",
           "legendgroup": "positive",
           "marker": {
            "color": "green",
            "pattern": {
             "shape": ""
            }
           },
           "name": "positive",
           "offsetgroup": "positive",
           "orientation": "v",
           "showlegend": true,
           "textposition": "auto",
           "type": "bar",
           "x": [
            "positive"
           ],
           "xaxis": "x",
           "y": [
            0
           ],
           "yaxis": "y"
          }
         ],
         "name": "11700"
        },
        {
         "data": [
          {
           "alignmentgroup": "True",
           "hovertemplate": "Sentiment=%{x}<br>time=12000<br>Count=%{y}<extra></extra>",
           "legendgroup": "negative",
           "marker": {
            "color": "red",
            "pattern": {
             "shape": ""
            }
           },
           "name": "negative",
           "offsetgroup": "negative",
           "orientation": "v",
           "showlegend": true,
           "textposition": "auto",
           "type": "bar",
           "x": [
            "negative"
           ],
           "xaxis": "x",
           "y": [
            4
           ],
           "yaxis": "y"
          },
          {
           "alignmentgroup": "True",
           "hovertemplate": "Sentiment=%{x}<br>time=12000<br>Count=%{y}<extra></extra>",
           "legendgroup": "neutral",
           "marker": {
            "color": "yellow",
            "pattern": {
             "shape": ""
            }
           },
           "name": "neutral",
           "offsetgroup": "neutral",
           "orientation": "v",
           "showlegend": true,
           "textposition": "auto",
           "type": "bar",
           "x": [
            "neutral"
           ],
           "xaxis": "x",
           "y": [
            3
           ],
           "yaxis": "y"
          },
          {
           "alignmentgroup": "True",
           "hovertemplate": "Sentiment=%{x}<br>time=12000<br>Count=%{y}<extra></extra>",
           "legendgroup": "positive",
           "marker": {
            "color": "green",
            "pattern": {
             "shape": ""
            }
           },
           "name": "positive",
           "offsetgroup": "positive",
           "orientation": "v",
           "showlegend": true,
           "textposition": "auto",
           "type": "bar",
           "x": [
            "positive"
           ],
           "xaxis": "x",
           "y": [
            0
           ],
           "yaxis": "y"
          }
         ],
         "name": "12000"
        },
        {
         "data": [
          {
           "alignmentgroup": "True",
           "hovertemplate": "Sentiment=%{x}<br>time=12300<br>Count=%{y}<extra></extra>",
           "legendgroup": "negative",
           "marker": {
            "color": "red",
            "pattern": {
             "shape": ""
            }
           },
           "name": "negative",
           "offsetgroup": "negative",
           "orientation": "v",
           "showlegend": true,
           "textposition": "auto",
           "type": "bar",
           "x": [
            "negative"
           ],
           "xaxis": "x",
           "y": [
            0
           ],
           "yaxis": "y"
          },
          {
           "alignmentgroup": "True",
           "hovertemplate": "Sentiment=%{x}<br>time=12300<br>Count=%{y}<extra></extra>",
           "legendgroup": "neutral",
           "marker": {
            "color": "yellow",
            "pattern": {
             "shape": ""
            }
           },
           "name": "neutral",
           "offsetgroup": "neutral",
           "orientation": "v",
           "showlegend": true,
           "textposition": "auto",
           "type": "bar",
           "x": [
            "neutral"
           ],
           "xaxis": "x",
           "y": [
            4
           ],
           "yaxis": "y"
          },
          {
           "alignmentgroup": "True",
           "hovertemplate": "Sentiment=%{x}<br>time=12300<br>Count=%{y}<extra></extra>",
           "legendgroup": "positive",
           "marker": {
            "color": "green",
            "pattern": {
             "shape": ""
            }
           },
           "name": "positive",
           "offsetgroup": "positive",
           "orientation": "v",
           "showlegend": true,
           "textposition": "auto",
           "type": "bar",
           "x": [
            "positive"
           ],
           "xaxis": "x",
           "y": [
            0
           ],
           "yaxis": "y"
          }
         ],
         "name": "12300"
        },
        {
         "data": [
          {
           "alignmentgroup": "True",
           "hovertemplate": "Sentiment=%{x}<br>time=12600<br>Count=%{y}<extra></extra>",
           "legendgroup": "negative",
           "marker": {
            "color": "red",
            "pattern": {
             "shape": ""
            }
           },
           "name": "negative",
           "offsetgroup": "negative",
           "orientation": "v",
           "showlegend": true,
           "textposition": "auto",
           "type": "bar",
           "x": [
            "negative"
           ],
           "xaxis": "x",
           "y": [
            9
           ],
           "yaxis": "y"
          },
          {
           "alignmentgroup": "True",
           "hovertemplate": "Sentiment=%{x}<br>time=12600<br>Count=%{y}<extra></extra>",
           "legendgroup": "neutral",
           "marker": {
            "color": "yellow",
            "pattern": {
             "shape": ""
            }
           },
           "name": "neutral",
           "offsetgroup": "neutral",
           "orientation": "v",
           "showlegend": true,
           "textposition": "auto",
           "type": "bar",
           "x": [
            "neutral"
           ],
           "xaxis": "x",
           "y": [
            6
           ],
           "yaxis": "y"
          },
          {
           "alignmentgroup": "True",
           "hovertemplate": "Sentiment=%{x}<br>time=12600<br>Count=%{y}<extra></extra>",
           "legendgroup": "positive",
           "marker": {
            "color": "green",
            "pattern": {
             "shape": ""
            }
           },
           "name": "positive",
           "offsetgroup": "positive",
           "orientation": "v",
           "showlegend": true,
           "textposition": "auto",
           "type": "bar",
           "x": [
            "positive"
           ],
           "xaxis": "x",
           "y": [
            3
           ],
           "yaxis": "y"
          }
         ],
         "name": "12600"
        },
        {
         "data": [
          {
           "alignmentgroup": "True",
           "hovertemplate": "Sentiment=%{x}<br>time=12900<br>Count=%{y}<extra></extra>",
           "legendgroup": "negative",
           "marker": {
            "color": "red",
            "pattern": {
             "shape": ""
            }
           },
           "name": "negative",
           "offsetgroup": "negative",
           "orientation": "v",
           "showlegend": true,
           "textposition": "auto",
           "type": "bar",
           "x": [
            "negative"
           ],
           "xaxis": "x",
           "y": [
            0
           ],
           "yaxis": "y"
          },
          {
           "alignmentgroup": "True",
           "hovertemplate": "Sentiment=%{x}<br>time=12900<br>Count=%{y}<extra></extra>",
           "legendgroup": "neutral",
           "marker": {
            "color": "yellow",
            "pattern": {
             "shape": ""
            }
           },
           "name": "neutral",
           "offsetgroup": "neutral",
           "orientation": "v",
           "showlegend": true,
           "textposition": "auto",
           "type": "bar",
           "x": [
            "neutral"
           ],
           "xaxis": "x",
           "y": [
            12
           ],
           "yaxis": "y"
          },
          {
           "alignmentgroup": "True",
           "hovertemplate": "Sentiment=%{x}<br>time=12900<br>Count=%{y}<extra></extra>",
           "legendgroup": "positive",
           "marker": {
            "color": "green",
            "pattern": {
             "shape": ""
            }
           },
           "name": "positive",
           "offsetgroup": "positive",
           "orientation": "v",
           "showlegend": true,
           "textposition": "auto",
           "type": "bar",
           "x": [
            "positive"
           ],
           "xaxis": "x",
           "y": [
            3
           ],
           "yaxis": "y"
          }
         ],
         "name": "12900"
        },
        {
         "data": [
          {
           "alignmentgroup": "True",
           "hovertemplate": "Sentiment=%{x}<br>time=13200<br>Count=%{y}<extra></extra>",
           "legendgroup": "negative",
           "marker": {
            "color": "red",
            "pattern": {
             "shape": ""
            }
           },
           "name": "negative",
           "offsetgroup": "negative",
           "orientation": "v",
           "showlegend": true,
           "textposition": "auto",
           "type": "bar",
           "x": [
            "negative"
           ],
           "xaxis": "x",
           "y": [
            0
           ],
           "yaxis": "y"
          },
          {
           "alignmentgroup": "True",
           "hovertemplate": "Sentiment=%{x}<br>time=13200<br>Count=%{y}<extra></extra>",
           "legendgroup": "neutral",
           "marker": {
            "color": "yellow",
            "pattern": {
             "shape": ""
            }
           },
           "name": "neutral",
           "offsetgroup": "neutral",
           "orientation": "v",
           "showlegend": true,
           "textposition": "auto",
           "type": "bar",
           "x": [
            "neutral"
           ],
           "xaxis": "x",
           "y": [
            2
           ],
           "yaxis": "y"
          },
          {
           "alignmentgroup": "True",
           "hovertemplate": "Sentiment=%{x}<br>time=13200<br>Count=%{y}<extra></extra>",
           "legendgroup": "positive",
           "marker": {
            "color": "green",
            "pattern": {
             "shape": ""
            }
           },
           "name": "positive",
           "offsetgroup": "positive",
           "orientation": "v",
           "showlegend": true,
           "textposition": "auto",
           "type": "bar",
           "x": [
            "positive"
           ],
           "xaxis": "x",
           "y": [
            0
           ],
           "yaxis": "y"
          }
         ],
         "name": "13200"
        },
        {
         "data": [
          {
           "alignmentgroup": "True",
           "hovertemplate": "Sentiment=%{x}<br>time=13500<br>Count=%{y}<extra></extra>",
           "legendgroup": "negative",
           "marker": {
            "color": "red",
            "pattern": {
             "shape": ""
            }
           },
           "name": "negative",
           "offsetgroup": "negative",
           "orientation": "v",
           "showlegend": true,
           "textposition": "auto",
           "type": "bar",
           "x": [
            "negative"
           ],
           "xaxis": "x",
           "y": [
            0
           ],
           "yaxis": "y"
          },
          {
           "alignmentgroup": "True",
           "hovertemplate": "Sentiment=%{x}<br>time=13500<br>Count=%{y}<extra></extra>",
           "legendgroup": "neutral",
           "marker": {
            "color": "yellow",
            "pattern": {
             "shape": ""
            }
           },
           "name": "neutral",
           "offsetgroup": "neutral",
           "orientation": "v",
           "showlegend": true,
           "textposition": "auto",
           "type": "bar",
           "x": [
            "neutral"
           ],
           "xaxis": "x",
           "y": [
            9
           ],
           "yaxis": "y"
          },
          {
           "alignmentgroup": "True",
           "hovertemplate": "Sentiment=%{x}<br>time=13500<br>Count=%{y}<extra></extra>",
           "legendgroup": "positive",
           "marker": {
            "color": "green",
            "pattern": {
             "shape": ""
            }
           },
           "name": "positive",
           "offsetgroup": "positive",
           "orientation": "v",
           "showlegend": true,
           "textposition": "auto",
           "type": "bar",
           "x": [
            "positive"
           ],
           "xaxis": "x",
           "y": [
            0
           ],
           "yaxis": "y"
          }
         ],
         "name": "13500"
        },
        {
         "data": [
          {
           "alignmentgroup": "True",
           "hovertemplate": "Sentiment=%{x}<br>time=13800<br>Count=%{y}<extra></extra>",
           "legendgroup": "negative",
           "marker": {
            "color": "red",
            "pattern": {
             "shape": ""
            }
           },
           "name": "negative",
           "offsetgroup": "negative",
           "orientation": "v",
           "showlegend": true,
           "textposition": "auto",
           "type": "bar",
           "x": [
            "negative"
           ],
           "xaxis": "x",
           "y": [
            0
           ],
           "yaxis": "y"
          },
          {
           "alignmentgroup": "True",
           "hovertemplate": "Sentiment=%{x}<br>time=13800<br>Count=%{y}<extra></extra>",
           "legendgroup": "neutral",
           "marker": {
            "color": "yellow",
            "pattern": {
             "shape": ""
            }
           },
           "name": "neutral",
           "offsetgroup": "neutral",
           "orientation": "v",
           "showlegend": true,
           "textposition": "auto",
           "type": "bar",
           "x": [
            "neutral"
           ],
           "xaxis": "x",
           "y": [
            15
           ],
           "yaxis": "y"
          },
          {
           "alignmentgroup": "True",
           "hovertemplate": "Sentiment=%{x}<br>time=13800<br>Count=%{y}<extra></extra>",
           "legendgroup": "positive",
           "marker": {
            "color": "green",
            "pattern": {
             "shape": ""
            }
           },
           "name": "positive",
           "offsetgroup": "positive",
           "orientation": "v",
           "showlegend": true,
           "textposition": "auto",
           "type": "bar",
           "x": [
            "positive"
           ],
           "xaxis": "x",
           "y": [
            0
           ],
           "yaxis": "y"
          }
         ],
         "name": "13800"
        },
        {
         "data": [
          {
           "alignmentgroup": "True",
           "hovertemplate": "Sentiment=%{x}<br>time=14100<br>Count=%{y}<extra></extra>",
           "legendgroup": "negative",
           "marker": {
            "color": "red",
            "pattern": {
             "shape": ""
            }
           },
           "name": "negative",
           "offsetgroup": "negative",
           "orientation": "v",
           "showlegend": true,
           "textposition": "auto",
           "type": "bar",
           "x": [
            "negative"
           ],
           "xaxis": "x",
           "y": [
            1
           ],
           "yaxis": "y"
          },
          {
           "alignmentgroup": "True",
           "hovertemplate": "Sentiment=%{x}<br>time=14100<br>Count=%{y}<extra></extra>",
           "legendgroup": "neutral",
           "marker": {
            "color": "yellow",
            "pattern": {
             "shape": ""
            }
           },
           "name": "neutral",
           "offsetgroup": "neutral",
           "orientation": "v",
           "showlegend": true,
           "textposition": "auto",
           "type": "bar",
           "x": [
            "neutral"
           ],
           "xaxis": "x",
           "y": [
            0
           ],
           "yaxis": "y"
          },
          {
           "alignmentgroup": "True",
           "hovertemplate": "Sentiment=%{x}<br>time=14100<br>Count=%{y}<extra></extra>",
           "legendgroup": "positive",
           "marker": {
            "color": "green",
            "pattern": {
             "shape": ""
            }
           },
           "name": "positive",
           "offsetgroup": "positive",
           "orientation": "v",
           "showlegend": true,
           "textposition": "auto",
           "type": "bar",
           "x": [
            "positive"
           ],
           "xaxis": "x",
           "y": [
            0
           ],
           "yaxis": "y"
          }
         ],
         "name": "14100"
        },
        {
         "data": [
          {
           "alignmentgroup": "True",
           "hovertemplate": "Sentiment=%{x}<br>time=14400<br>Count=%{y}<extra></extra>",
           "legendgroup": "negative",
           "marker": {
            "color": "red",
            "pattern": {
             "shape": ""
            }
           },
           "name": "negative",
           "offsetgroup": "negative",
           "orientation": "v",
           "showlegend": true,
           "textposition": "auto",
           "type": "bar",
           "x": [
            "negative"
           ],
           "xaxis": "x",
           "y": [
            0
           ],
           "yaxis": "y"
          },
          {
           "alignmentgroup": "True",
           "hovertemplate": "Sentiment=%{x}<br>time=14400<br>Count=%{y}<extra></extra>",
           "legendgroup": "neutral",
           "marker": {
            "color": "yellow",
            "pattern": {
             "shape": ""
            }
           },
           "name": "neutral",
           "offsetgroup": "neutral",
           "orientation": "v",
           "showlegend": true,
           "textposition": "auto",
           "type": "bar",
           "x": [
            "neutral"
           ],
           "xaxis": "x",
           "y": [
            0
           ],
           "yaxis": "y"
          },
          {
           "alignmentgroup": "True",
           "hovertemplate": "Sentiment=%{x}<br>time=14400<br>Count=%{y}<extra></extra>",
           "legendgroup": "positive",
           "marker": {
            "color": "green",
            "pattern": {
             "shape": ""
            }
           },
           "name": "positive",
           "offsetgroup": "positive",
           "orientation": "v",
           "showlegend": true,
           "textposition": "auto",
           "type": "bar",
           "x": [
            "positive"
           ],
           "xaxis": "x",
           "y": [
            6
           ],
           "yaxis": "y"
          }
         ],
         "name": "14400"
        },
        {
         "data": [
          {
           "alignmentgroup": "True",
           "hovertemplate": "Sentiment=%{x}<br>time=14700<br>Count=%{y}<extra></extra>",
           "legendgroup": "negative",
           "marker": {
            "color": "red",
            "pattern": {
             "shape": ""
            }
           },
           "name": "negative",
           "offsetgroup": "negative",
           "orientation": "v",
           "showlegend": true,
           "textposition": "auto",
           "type": "bar",
           "x": [
            "negative"
           ],
           "xaxis": "x",
           "y": [
            0
           ],
           "yaxis": "y"
          },
          {
           "alignmentgroup": "True",
           "hovertemplate": "Sentiment=%{x}<br>time=14700<br>Count=%{y}<extra></extra>",
           "legendgroup": "neutral",
           "marker": {
            "color": "yellow",
            "pattern": {
             "shape": ""
            }
           },
           "name": "neutral",
           "offsetgroup": "neutral",
           "orientation": "v",
           "showlegend": true,
           "textposition": "auto",
           "type": "bar",
           "x": [
            "neutral"
           ],
           "xaxis": "x",
           "y": [
            0
           ],
           "yaxis": "y"
          },
          {
           "alignmentgroup": "True",
           "hovertemplate": "Sentiment=%{x}<br>time=14700<br>Count=%{y}<extra></extra>",
           "legendgroup": "positive",
           "marker": {
            "color": "green",
            "pattern": {
             "shape": ""
            }
           },
           "name": "positive",
           "offsetgroup": "positive",
           "orientation": "v",
           "showlegend": true,
           "textposition": "auto",
           "type": "bar",
           "x": [
            "positive"
           ],
           "xaxis": "x",
           "y": [
            0
           ],
           "yaxis": "y"
          }
         ],
         "name": "14700"
        },
        {
         "data": [
          {
           "alignmentgroup": "True",
           "hovertemplate": "Sentiment=%{x}<br>time=15000<br>Count=%{y}<extra></extra>",
           "legendgroup": "negative",
           "marker": {
            "color": "red",
            "pattern": {
             "shape": ""
            }
           },
           "name": "negative",
           "offsetgroup": "negative",
           "orientation": "v",
           "showlegend": true,
           "textposition": "auto",
           "type": "bar",
           "x": [
            "negative"
           ],
           "xaxis": "x",
           "y": [
            0
           ],
           "yaxis": "y"
          },
          {
           "alignmentgroup": "True",
           "hovertemplate": "Sentiment=%{x}<br>time=15000<br>Count=%{y}<extra></extra>",
           "legendgroup": "neutral",
           "marker": {
            "color": "yellow",
            "pattern": {
             "shape": ""
            }
           },
           "name": "neutral",
           "offsetgroup": "neutral",
           "orientation": "v",
           "showlegend": true,
           "textposition": "auto",
           "type": "bar",
           "x": [
            "neutral"
           ],
           "xaxis": "x",
           "y": [
            0
           ],
           "yaxis": "y"
          },
          {
           "alignmentgroup": "True",
           "hovertemplate": "Sentiment=%{x}<br>time=15000<br>Count=%{y}<extra></extra>",
           "legendgroup": "positive",
           "marker": {
            "color": "green",
            "pattern": {
             "shape": ""
            }
           },
           "name": "positive",
           "offsetgroup": "positive",
           "orientation": "v",
           "showlegend": true,
           "textposition": "auto",
           "type": "bar",
           "x": [
            "positive"
           ],
           "xaxis": "x",
           "y": [
            0
           ],
           "yaxis": "y"
          }
         ],
         "name": "15000"
        },
        {
         "data": [
          {
           "alignmentgroup": "True",
           "hovertemplate": "Sentiment=%{x}<br>time=15300<br>Count=%{y}<extra></extra>",
           "legendgroup": "negative",
           "marker": {
            "color": "red",
            "pattern": {
             "shape": ""
            }
           },
           "name": "negative",
           "offsetgroup": "negative",
           "orientation": "v",
           "showlegend": true,
           "textposition": "auto",
           "type": "bar",
           "x": [
            "negative"
           ],
           "xaxis": "x",
           "y": [
            0
           ],
           "yaxis": "y"
          },
          {
           "alignmentgroup": "True",
           "hovertemplate": "Sentiment=%{x}<br>time=15300<br>Count=%{y}<extra></extra>",
           "legendgroup": "neutral",
           "marker": {
            "color": "yellow",
            "pattern": {
             "shape": ""
            }
           },
           "name": "neutral",
           "offsetgroup": "neutral",
           "orientation": "v",
           "showlegend": true,
           "textposition": "auto",
           "type": "bar",
           "x": [
            "neutral"
           ],
           "xaxis": "x",
           "y": [
            5
           ],
           "yaxis": "y"
          },
          {
           "alignmentgroup": "True",
           "hovertemplate": "Sentiment=%{x}<br>time=15300<br>Count=%{y}<extra></extra>",
           "legendgroup": "positive",
           "marker": {
            "color": "green",
            "pattern": {
             "shape": ""
            }
           },
           "name": "positive",
           "offsetgroup": "positive",
           "orientation": "v",
           "showlegend": true,
           "textposition": "auto",
           "type": "bar",
           "x": [
            "positive"
           ],
           "xaxis": "x",
           "y": [
            3
           ],
           "yaxis": "y"
          }
         ],
         "name": "15300"
        },
        {
         "data": [
          {
           "alignmentgroup": "True",
           "hovertemplate": "Sentiment=%{x}<br>time=15600<br>Count=%{y}<extra></extra>",
           "legendgroup": "negative",
           "marker": {
            "color": "red",
            "pattern": {
             "shape": ""
            }
           },
           "name": "negative",
           "offsetgroup": "negative",
           "orientation": "v",
           "showlegend": true,
           "textposition": "auto",
           "type": "bar",
           "x": [
            "negative"
           ],
           "xaxis": "x",
           "y": [
            0
           ],
           "yaxis": "y"
          },
          {
           "alignmentgroup": "True",
           "hovertemplate": "Sentiment=%{x}<br>time=15600<br>Count=%{y}<extra></extra>",
           "legendgroup": "neutral",
           "marker": {
            "color": "yellow",
            "pattern": {
             "shape": ""
            }
           },
           "name": "neutral",
           "offsetgroup": "neutral",
           "orientation": "v",
           "showlegend": true,
           "textposition": "auto",
           "type": "bar",
           "x": [
            "neutral"
           ],
           "xaxis": "x",
           "y": [
            6
           ],
           "yaxis": "y"
          },
          {
           "alignmentgroup": "True",
           "hovertemplate": "Sentiment=%{x}<br>time=15600<br>Count=%{y}<extra></extra>",
           "legendgroup": "positive",
           "marker": {
            "color": "green",
            "pattern": {
             "shape": ""
            }
           },
           "name": "positive",
           "offsetgroup": "positive",
           "orientation": "v",
           "showlegend": true,
           "textposition": "auto",
           "type": "bar",
           "x": [
            "positive"
           ],
           "xaxis": "x",
           "y": [
            0
           ],
           "yaxis": "y"
          }
         ],
         "name": "15600"
        },
        {
         "data": [
          {
           "alignmentgroup": "True",
           "hovertemplate": "Sentiment=%{x}<br>time=15900<br>Count=%{y}<extra></extra>",
           "legendgroup": "negative",
           "marker": {
            "color": "red",
            "pattern": {
             "shape": ""
            }
           },
           "name": "negative",
           "offsetgroup": "negative",
           "orientation": "v",
           "showlegend": true,
           "textposition": "auto",
           "type": "bar",
           "x": [
            "negative"
           ],
           "xaxis": "x",
           "y": [
            3
           ],
           "yaxis": "y"
          },
          {
           "alignmentgroup": "True",
           "hovertemplate": "Sentiment=%{x}<br>time=15900<br>Count=%{y}<extra></extra>",
           "legendgroup": "neutral",
           "marker": {
            "color": "yellow",
            "pattern": {
             "shape": ""
            }
           },
           "name": "neutral",
           "offsetgroup": "neutral",
           "orientation": "v",
           "showlegend": true,
           "textposition": "auto",
           "type": "bar",
           "x": [
            "neutral"
           ],
           "xaxis": "x",
           "y": [
            10
           ],
           "yaxis": "y"
          },
          {
           "alignmentgroup": "True",
           "hovertemplate": "Sentiment=%{x}<br>time=15900<br>Count=%{y}<extra></extra>",
           "legendgroup": "positive",
           "marker": {
            "color": "green",
            "pattern": {
             "shape": ""
            }
           },
           "name": "positive",
           "offsetgroup": "positive",
           "orientation": "v",
           "showlegend": true,
           "textposition": "auto",
           "type": "bar",
           "x": [
            "positive"
           ],
           "xaxis": "x",
           "y": [
            0
           ],
           "yaxis": "y"
          }
         ],
         "name": "15900"
        },
        {
         "data": [
          {
           "alignmentgroup": "True",
           "hovertemplate": "Sentiment=%{x}<br>time=16200<br>Count=%{y}<extra></extra>",
           "legendgroup": "negative",
           "marker": {
            "color": "red",
            "pattern": {
             "shape": ""
            }
           },
           "name": "negative",
           "offsetgroup": "negative",
           "orientation": "v",
           "showlegend": true,
           "textposition": "auto",
           "type": "bar",
           "x": [
            "negative"
           ],
           "xaxis": "x",
           "y": [
            7
           ],
           "yaxis": "y"
          },
          {
           "alignmentgroup": "True",
           "hovertemplate": "Sentiment=%{x}<br>time=16200<br>Count=%{y}<extra></extra>",
           "legendgroup": "neutral",
           "marker": {
            "color": "yellow",
            "pattern": {
             "shape": ""
            }
           },
           "name": "neutral",
           "offsetgroup": "neutral",
           "orientation": "v",
           "showlegend": true,
           "textposition": "auto",
           "type": "bar",
           "x": [
            "neutral"
           ],
           "xaxis": "x",
           "y": [
            9
           ],
           "yaxis": "y"
          },
          {
           "alignmentgroup": "True",
           "hovertemplate": "Sentiment=%{x}<br>time=16200<br>Count=%{y}<extra></extra>",
           "legendgroup": "positive",
           "marker": {
            "color": "green",
            "pattern": {
             "shape": ""
            }
           },
           "name": "positive",
           "offsetgroup": "positive",
           "orientation": "v",
           "showlegend": true,
           "textposition": "auto",
           "type": "bar",
           "x": [
            "positive"
           ],
           "xaxis": "x",
           "y": [
            0
           ],
           "yaxis": "y"
          }
         ],
         "name": "16200"
        }
       ],
       "layout": {
        "barmode": "relative",
        "legend": {
         "title": {
          "text": "Sentiment"
         },
         "tracegroupgap": 0
        },
        "sliders": [
         {
          "active": 0,
          "currentvalue": {
           "prefix": "time="
          },
          "len": 0.9,
          "pad": {
           "b": 10,
           "t": 60
          },
          "steps": [
           {
            "args": [
             [
              "1500"
             ],
             {
              "frame": {
               "duration": 0,
               "redraw": true
              },
              "fromcurrent": true,
              "mode": "immediate",
              "transition": {
               "duration": 0,
               "easing": "linear"
              }
             }
            ],
            "label": "1500",
            "method": "animate"
           },
           {
            "args": [
             [
              "1800"
             ],
             {
              "frame": {
               "duration": 0,
               "redraw": true
              },
              "fromcurrent": true,
              "mode": "immediate",
              "transition": {
               "duration": 0,
               "easing": "linear"
              }
             }
            ],
            "label": "1800",
            "method": "animate"
           },
           {
            "args": [
             [
              "2100"
             ],
             {
              "frame": {
               "duration": 0,
               "redraw": true
              },
              "fromcurrent": true,
              "mode": "immediate",
              "transition": {
               "duration": 0,
               "easing": "linear"
              }
             }
            ],
            "label": "2100",
            "method": "animate"
           },
           {
            "args": [
             [
              "2400"
             ],
             {
              "frame": {
               "duration": 0,
               "redraw": true
              },
              "fromcurrent": true,
              "mode": "immediate",
              "transition": {
               "duration": 0,
               "easing": "linear"
              }
             }
            ],
            "label": "2400",
            "method": "animate"
           },
           {
            "args": [
             [
              "2700"
             ],
             {
              "frame": {
               "duration": 0,
               "redraw": true
              },
              "fromcurrent": true,
              "mode": "immediate",
              "transition": {
               "duration": 0,
               "easing": "linear"
              }
             }
            ],
            "label": "2700",
            "method": "animate"
           },
           {
            "args": [
             [
              "3000"
             ],
             {
              "frame": {
               "duration": 0,
               "redraw": true
              },
              "fromcurrent": true,
              "mode": "immediate",
              "transition": {
               "duration": 0,
               "easing": "linear"
              }
             }
            ],
            "label": "3000",
            "method": "animate"
           },
           {
            "args": [
             [
              "3300"
             ],
             {
              "frame": {
               "duration": 0,
               "redraw": true
              },
              "fromcurrent": true,
              "mode": "immediate",
              "transition": {
               "duration": 0,
               "easing": "linear"
              }
             }
            ],
            "label": "3300",
            "method": "animate"
           },
           {
            "args": [
             [
              "3600"
             ],
             {
              "frame": {
               "duration": 0,
               "redraw": true
              },
              "fromcurrent": true,
              "mode": "immediate",
              "transition": {
               "duration": 0,
               "easing": "linear"
              }
             }
            ],
            "label": "3600",
            "method": "animate"
           },
           {
            "args": [
             [
              "3900"
             ],
             {
              "frame": {
               "duration": 0,
               "redraw": true
              },
              "fromcurrent": true,
              "mode": "immediate",
              "transition": {
               "duration": 0,
               "easing": "linear"
              }
             }
            ],
            "label": "3900",
            "method": "animate"
           },
           {
            "args": [
             [
              "4200"
             ],
             {
              "frame": {
               "duration": 0,
               "redraw": true
              },
              "fromcurrent": true,
              "mode": "immediate",
              "transition": {
               "duration": 0,
               "easing": "linear"
              }
             }
            ],
            "label": "4200",
            "method": "animate"
           },
           {
            "args": [
             [
              "4500"
             ],
             {
              "frame": {
               "duration": 0,
               "redraw": true
              },
              "fromcurrent": true,
              "mode": "immediate",
              "transition": {
               "duration": 0,
               "easing": "linear"
              }
             }
            ],
            "label": "4500",
            "method": "animate"
           },
           {
            "args": [
             [
              "4800"
             ],
             {
              "frame": {
               "duration": 0,
               "redraw": true
              },
              "fromcurrent": true,
              "mode": "immediate",
              "transition": {
               "duration": 0,
               "easing": "linear"
              }
             }
            ],
            "label": "4800",
            "method": "animate"
           },
           {
            "args": [
             [
              "5100"
             ],
             {
              "frame": {
               "duration": 0,
               "redraw": true
              },
              "fromcurrent": true,
              "mode": "immediate",
              "transition": {
               "duration": 0,
               "easing": "linear"
              }
             }
            ],
            "label": "5100",
            "method": "animate"
           },
           {
            "args": [
             [
              "5400"
             ],
             {
              "frame": {
               "duration": 0,
               "redraw": true
              },
              "fromcurrent": true,
              "mode": "immediate",
              "transition": {
               "duration": 0,
               "easing": "linear"
              }
             }
            ],
            "label": "5400",
            "method": "animate"
           },
           {
            "args": [
             [
              "5700"
             ],
             {
              "frame": {
               "duration": 0,
               "redraw": true
              },
              "fromcurrent": true,
              "mode": "immediate",
              "transition": {
               "duration": 0,
               "easing": "linear"
              }
             }
            ],
            "label": "5700",
            "method": "animate"
           },
           {
            "args": [
             [
              "6000"
             ],
             {
              "frame": {
               "duration": 0,
               "redraw": true
              },
              "fromcurrent": true,
              "mode": "immediate",
              "transition": {
               "duration": 0,
               "easing": "linear"
              }
             }
            ],
            "label": "6000",
            "method": "animate"
           },
           {
            "args": [
             [
              "6300"
             ],
             {
              "frame": {
               "duration": 0,
               "redraw": true
              },
              "fromcurrent": true,
              "mode": "immediate",
              "transition": {
               "duration": 0,
               "easing": "linear"
              }
             }
            ],
            "label": "6300",
            "method": "animate"
           },
           {
            "args": [
             [
              "6600"
             ],
             {
              "frame": {
               "duration": 0,
               "redraw": true
              },
              "fromcurrent": true,
              "mode": "immediate",
              "transition": {
               "duration": 0,
               "easing": "linear"
              }
             }
            ],
            "label": "6600",
            "method": "animate"
           },
           {
            "args": [
             [
              "6900"
             ],
             {
              "frame": {
               "duration": 0,
               "redraw": true
              },
              "fromcurrent": true,
              "mode": "immediate",
              "transition": {
               "duration": 0,
               "easing": "linear"
              }
             }
            ],
            "label": "6900",
            "method": "animate"
           },
           {
            "args": [
             [
              "7200"
             ],
             {
              "frame": {
               "duration": 0,
               "redraw": true
              },
              "fromcurrent": true,
              "mode": "immediate",
              "transition": {
               "duration": 0,
               "easing": "linear"
              }
             }
            ],
            "label": "7200",
            "method": "animate"
           },
           {
            "args": [
             [
              "7500"
             ],
             {
              "frame": {
               "duration": 0,
               "redraw": true
              },
              "fromcurrent": true,
              "mode": "immediate",
              "transition": {
               "duration": 0,
               "easing": "linear"
              }
             }
            ],
            "label": "7500",
            "method": "animate"
           },
           {
            "args": [
             [
              "7800"
             ],
             {
              "frame": {
               "duration": 0,
               "redraw": true
              },
              "fromcurrent": true,
              "mode": "immediate",
              "transition": {
               "duration": 0,
               "easing": "linear"
              }
             }
            ],
            "label": "7800",
            "method": "animate"
           },
           {
            "args": [
             [
              "8100"
             ],
             {
              "frame": {
               "duration": 0,
               "redraw": true
              },
              "fromcurrent": true,
              "mode": "immediate",
              "transition": {
               "duration": 0,
               "easing": "linear"
              }
             }
            ],
            "label": "8100",
            "method": "animate"
           },
           {
            "args": [
             [
              "8400"
             ],
             {
              "frame": {
               "duration": 0,
               "redraw": true
              },
              "fromcurrent": true,
              "mode": "immediate",
              "transition": {
               "duration": 0,
               "easing": "linear"
              }
             }
            ],
            "label": "8400",
            "method": "animate"
           },
           {
            "args": [
             [
              "8700"
             ],
             {
              "frame": {
               "duration": 0,
               "redraw": true
              },
              "fromcurrent": true,
              "mode": "immediate",
              "transition": {
               "duration": 0,
               "easing": "linear"
              }
             }
            ],
            "label": "8700",
            "method": "animate"
           },
           {
            "args": [
             [
              "9000"
             ],
             {
              "frame": {
               "duration": 0,
               "redraw": true
              },
              "fromcurrent": true,
              "mode": "immediate",
              "transition": {
               "duration": 0,
               "easing": "linear"
              }
             }
            ],
            "label": "9000",
            "method": "animate"
           },
           {
            "args": [
             [
              "9300"
             ],
             {
              "frame": {
               "duration": 0,
               "redraw": true
              },
              "fromcurrent": true,
              "mode": "immediate",
              "transition": {
               "duration": 0,
               "easing": "linear"
              }
             }
            ],
            "label": "9300",
            "method": "animate"
           },
           {
            "args": [
             [
              "9600"
             ],
             {
              "frame": {
               "duration": 0,
               "redraw": true
              },
              "fromcurrent": true,
              "mode": "immediate",
              "transition": {
               "duration": 0,
               "easing": "linear"
              }
             }
            ],
            "label": "9600",
            "method": "animate"
           },
           {
            "args": [
             [
              "9900"
             ],
             {
              "frame": {
               "duration": 0,
               "redraw": true
              },
              "fromcurrent": true,
              "mode": "immediate",
              "transition": {
               "duration": 0,
               "easing": "linear"
              }
             }
            ],
            "label": "9900",
            "method": "animate"
           },
           {
            "args": [
             [
              "10200"
             ],
             {
              "frame": {
               "duration": 0,
               "redraw": true
              },
              "fromcurrent": true,
              "mode": "immediate",
              "transition": {
               "duration": 0,
               "easing": "linear"
              }
             }
            ],
            "label": "10200",
            "method": "animate"
           },
           {
            "args": [
             [
              "10500"
             ],
             {
              "frame": {
               "duration": 0,
               "redraw": true
              },
              "fromcurrent": true,
              "mode": "immediate",
              "transition": {
               "duration": 0,
               "easing": "linear"
              }
             }
            ],
            "label": "10500",
            "method": "animate"
           },
           {
            "args": [
             [
              "10800"
             ],
             {
              "frame": {
               "duration": 0,
               "redraw": true
              },
              "fromcurrent": true,
              "mode": "immediate",
              "transition": {
               "duration": 0,
               "easing": "linear"
              }
             }
            ],
            "label": "10800",
            "method": "animate"
           },
           {
            "args": [
             [
              "11100"
             ],
             {
              "frame": {
               "duration": 0,
               "redraw": true
              },
              "fromcurrent": true,
              "mode": "immediate",
              "transition": {
               "duration": 0,
               "easing": "linear"
              }
             }
            ],
            "label": "11100",
            "method": "animate"
           },
           {
            "args": [
             [
              "11400"
             ],
             {
              "frame": {
               "duration": 0,
               "redraw": true
              },
              "fromcurrent": true,
              "mode": "immediate",
              "transition": {
               "duration": 0,
               "easing": "linear"
              }
             }
            ],
            "label": "11400",
            "method": "animate"
           },
           {
            "args": [
             [
              "11700"
             ],
             {
              "frame": {
               "duration": 0,
               "redraw": true
              },
              "fromcurrent": true,
              "mode": "immediate",
              "transition": {
               "duration": 0,
               "easing": "linear"
              }
             }
            ],
            "label": "11700",
            "method": "animate"
           },
           {
            "args": [
             [
              "12000"
             ],
             {
              "frame": {
               "duration": 0,
               "redraw": true
              },
              "fromcurrent": true,
              "mode": "immediate",
              "transition": {
               "duration": 0,
               "easing": "linear"
              }
             }
            ],
            "label": "12000",
            "method": "animate"
           },
           {
            "args": [
             [
              "12300"
             ],
             {
              "frame": {
               "duration": 0,
               "redraw": true
              },
              "fromcurrent": true,
              "mode": "immediate",
              "transition": {
               "duration": 0,
               "easing": "linear"
              }
             }
            ],
            "label": "12300",
            "method": "animate"
           },
           {
            "args": [
             [
              "12600"
             ],
             {
              "frame": {
               "duration": 0,
               "redraw": true
              },
              "fromcurrent": true,
              "mode": "immediate",
              "transition": {
               "duration": 0,
               "easing": "linear"
              }
             }
            ],
            "label": "12600",
            "method": "animate"
           },
           {
            "args": [
             [
              "12900"
             ],
             {
              "frame": {
               "duration": 0,
               "redraw": true
              },
              "fromcurrent": true,
              "mode": "immediate",
              "transition": {
               "duration": 0,
               "easing": "linear"
              }
             }
            ],
            "label": "12900",
            "method": "animate"
           },
           {
            "args": [
             [
              "13200"
             ],
             {
              "frame": {
               "duration": 0,
               "redraw": true
              },
              "fromcurrent": true,
              "mode": "immediate",
              "transition": {
               "duration": 0,
               "easing": "linear"
              }
             }
            ],
            "label": "13200",
            "method": "animate"
           },
           {
            "args": [
             [
              "13500"
             ],
             {
              "frame": {
               "duration": 0,
               "redraw": true
              },
              "fromcurrent": true,
              "mode": "immediate",
              "transition": {
               "duration": 0,
               "easing": "linear"
              }
             }
            ],
            "label": "13500",
            "method": "animate"
           },
           {
            "args": [
             [
              "13800"
             ],
             {
              "frame": {
               "duration": 0,
               "redraw": true
              },
              "fromcurrent": true,
              "mode": "immediate",
              "transition": {
               "duration": 0,
               "easing": "linear"
              }
             }
            ],
            "label": "13800",
            "method": "animate"
           },
           {
            "args": [
             [
              "14100"
             ],
             {
              "frame": {
               "duration": 0,
               "redraw": true
              },
              "fromcurrent": true,
              "mode": "immediate",
              "transition": {
               "duration": 0,
               "easing": "linear"
              }
             }
            ],
            "label": "14100",
            "method": "animate"
           },
           {
            "args": [
             [
              "14400"
             ],
             {
              "frame": {
               "duration": 0,
               "redraw": true
              },
              "fromcurrent": true,
              "mode": "immediate",
              "transition": {
               "duration": 0,
               "easing": "linear"
              }
             }
            ],
            "label": "14400",
            "method": "animate"
           },
           {
            "args": [
             [
              "14700"
             ],
             {
              "frame": {
               "duration": 0,
               "redraw": true
              },
              "fromcurrent": true,
              "mode": "immediate",
              "transition": {
               "duration": 0,
               "easing": "linear"
              }
             }
            ],
            "label": "14700",
            "method": "animate"
           },
           {
            "args": [
             [
              "15000"
             ],
             {
              "frame": {
               "duration": 0,
               "redraw": true
              },
              "fromcurrent": true,
              "mode": "immediate",
              "transition": {
               "duration": 0,
               "easing": "linear"
              }
             }
            ],
            "label": "15000",
            "method": "animate"
           },
           {
            "args": [
             [
              "15300"
             ],
             {
              "frame": {
               "duration": 0,
               "redraw": true
              },
              "fromcurrent": true,
              "mode": "immediate",
              "transition": {
               "duration": 0,
               "easing": "linear"
              }
             }
            ],
            "label": "15300",
            "method": "animate"
           },
           {
            "args": [
             [
              "15600"
             ],
             {
              "frame": {
               "duration": 0,
               "redraw": true
              },
              "fromcurrent": true,
              "mode": "immediate",
              "transition": {
               "duration": 0,
               "easing": "linear"
              }
             }
            ],
            "label": "15600",
            "method": "animate"
           },
           {
            "args": [
             [
              "15900"
             ],
             {
              "frame": {
               "duration": 0,
               "redraw": true
              },
              "fromcurrent": true,
              "mode": "immediate",
              "transition": {
               "duration": 0,
               "easing": "linear"
              }
             }
            ],
            "label": "15900",
            "method": "animate"
           },
           {
            "args": [
             [
              "16200"
             ],
             {
              "frame": {
               "duration": 0,
               "redraw": true
              },
              "fromcurrent": true,
              "mode": "immediate",
              "transition": {
               "duration": 0,
               "easing": "linear"
              }
             }
            ],
            "label": "16200",
            "method": "animate"
           }
          ],
          "x": 0.1,
          "xanchor": "left",
          "y": 0,
          "yanchor": "top"
         }
        ],
        "template": {
         "data": {
          "bar": [
           {
            "error_x": {
             "color": "#2a3f5f"
            },
            "error_y": {
             "color": "#2a3f5f"
            },
            "marker": {
             "line": {
              "color": "#E5ECF6",
              "width": 0.5
             },
             "pattern": {
              "fillmode": "overlay",
              "size": 10,
              "solidity": 0.2
             }
            },
            "type": "bar"
           }
          ],
          "barpolar": [
           {
            "marker": {
             "line": {
              "color": "#E5ECF6",
              "width": 0.5
             },
             "pattern": {
              "fillmode": "overlay",
              "size": 10,
              "solidity": 0.2
             }
            },
            "type": "barpolar"
           }
          ],
          "carpet": [
           {
            "aaxis": {
             "endlinecolor": "#2a3f5f",
             "gridcolor": "white",
             "linecolor": "white",
             "minorgridcolor": "white",
             "startlinecolor": "#2a3f5f"
            },
            "baxis": {
             "endlinecolor": "#2a3f5f",
             "gridcolor": "white",
             "linecolor": "white",
             "minorgridcolor": "white",
             "startlinecolor": "#2a3f5f"
            },
            "type": "carpet"
           }
          ],
          "choropleth": [
           {
            "colorbar": {
             "outlinewidth": 0,
             "ticks": ""
            },
            "type": "choropleth"
           }
          ],
          "contour": [
           {
            "colorbar": {
             "outlinewidth": 0,
             "ticks": ""
            },
            "colorscale": [
             [
              0,
              "#0d0887"
             ],
             [
              0.1111111111111111,
              "#46039f"
             ],
             [
              0.2222222222222222,
              "#7201a8"
             ],
             [
              0.3333333333333333,
              "#9c179e"
             ],
             [
              0.4444444444444444,
              "#bd3786"
             ],
             [
              0.5555555555555556,
              "#d8576b"
             ],
             [
              0.6666666666666666,
              "#ed7953"
             ],
             [
              0.7777777777777778,
              "#fb9f3a"
             ],
             [
              0.8888888888888888,
              "#fdca26"
             ],
             [
              1,
              "#f0f921"
             ]
            ],
            "type": "contour"
           }
          ],
          "contourcarpet": [
           {
            "colorbar": {
             "outlinewidth": 0,
             "ticks": ""
            },
            "type": "contourcarpet"
           }
          ],
          "heatmap": [
           {
            "colorbar": {
             "outlinewidth": 0,
             "ticks": ""
            },
            "colorscale": [
             [
              0,
              "#0d0887"
             ],
             [
              0.1111111111111111,
              "#46039f"
             ],
             [
              0.2222222222222222,
              "#7201a8"
             ],
             [
              0.3333333333333333,
              "#9c179e"
             ],
             [
              0.4444444444444444,
              "#bd3786"
             ],
             [
              0.5555555555555556,
              "#d8576b"
             ],
             [
              0.6666666666666666,
              "#ed7953"
             ],
             [
              0.7777777777777778,
              "#fb9f3a"
             ],
             [
              0.8888888888888888,
              "#fdca26"
             ],
             [
              1,
              "#f0f921"
             ]
            ],
            "type": "heatmap"
           }
          ],
          "heatmapgl": [
           {
            "colorbar": {
             "outlinewidth": 0,
             "ticks": ""
            },
            "colorscale": [
             [
              0,
              "#0d0887"
             ],
             [
              0.1111111111111111,
              "#46039f"
             ],
             [
              0.2222222222222222,
              "#7201a8"
             ],
             [
              0.3333333333333333,
              "#9c179e"
             ],
             [
              0.4444444444444444,
              "#bd3786"
             ],
             [
              0.5555555555555556,
              "#d8576b"
             ],
             [
              0.6666666666666666,
              "#ed7953"
             ],
             [
              0.7777777777777778,
              "#fb9f3a"
             ],
             [
              0.8888888888888888,
              "#fdca26"
             ],
             [
              1,
              "#f0f921"
             ]
            ],
            "type": "heatmapgl"
           }
          ],
          "histogram": [
           {
            "marker": {
             "pattern": {
              "fillmode": "overlay",
              "size": 10,
              "solidity": 0.2
             }
            },
            "type": "histogram"
           }
          ],
          "histogram2d": [
           {
            "colorbar": {
             "outlinewidth": 0,
             "ticks": ""
            },
            "colorscale": [
             [
              0,
              "#0d0887"
             ],
             [
              0.1111111111111111,
              "#46039f"
             ],
             [
              0.2222222222222222,
              "#7201a8"
             ],
             [
              0.3333333333333333,
              "#9c179e"
             ],
             [
              0.4444444444444444,
              "#bd3786"
             ],
             [
              0.5555555555555556,
              "#d8576b"
             ],
             [
              0.6666666666666666,
              "#ed7953"
             ],
             [
              0.7777777777777778,
              "#fb9f3a"
             ],
             [
              0.8888888888888888,
              "#fdca26"
             ],
             [
              1,
              "#f0f921"
             ]
            ],
            "type": "histogram2d"
           }
          ],
          "histogram2dcontour": [
           {
            "colorbar": {
             "outlinewidth": 0,
             "ticks": ""
            },
            "colorscale": [
             [
              0,
              "#0d0887"
             ],
             [
              0.1111111111111111,
              "#46039f"
             ],
             [
              0.2222222222222222,
              "#7201a8"
             ],
             [
              0.3333333333333333,
              "#9c179e"
             ],
             [
              0.4444444444444444,
              "#bd3786"
             ],
             [
              0.5555555555555556,
              "#d8576b"
             ],
             [
              0.6666666666666666,
              "#ed7953"
             ],
             [
              0.7777777777777778,
              "#fb9f3a"
             ],
             [
              0.8888888888888888,
              "#fdca26"
             ],
             [
              1,
              "#f0f921"
             ]
            ],
            "type": "histogram2dcontour"
           }
          ],
          "mesh3d": [
           {
            "colorbar": {
             "outlinewidth": 0,
             "ticks": ""
            },
            "type": "mesh3d"
           }
          ],
          "parcoords": [
           {
            "line": {
             "colorbar": {
              "outlinewidth": 0,
              "ticks": ""
             }
            },
            "type": "parcoords"
           }
          ],
          "pie": [
           {
            "automargin": true,
            "type": "pie"
           }
          ],
          "scatter": [
           {
            "fillpattern": {
             "fillmode": "overlay",
             "size": 10,
             "solidity": 0.2
            },
            "type": "scatter"
           }
          ],
          "scatter3d": [
           {
            "line": {
             "colorbar": {
              "outlinewidth": 0,
              "ticks": ""
             }
            },
            "marker": {
             "colorbar": {
              "outlinewidth": 0,
              "ticks": ""
             }
            },
            "type": "scatter3d"
           }
          ],
          "scattercarpet": [
           {
            "marker": {
             "colorbar": {
              "outlinewidth": 0,
              "ticks": ""
             }
            },
            "type": "scattercarpet"
           }
          ],
          "scattergeo": [
           {
            "marker": {
             "colorbar": {
              "outlinewidth": 0,
              "ticks": ""
             }
            },
            "type": "scattergeo"
           }
          ],
          "scattergl": [
           {
            "marker": {
             "colorbar": {
              "outlinewidth": 0,
              "ticks": ""
             }
            },
            "type": "scattergl"
           }
          ],
          "scattermapbox": [
           {
            "marker": {
             "colorbar": {
              "outlinewidth": 0,
              "ticks": ""
             }
            },
            "type": "scattermapbox"
           }
          ],
          "scatterpolar": [
           {
            "marker": {
             "colorbar": {
              "outlinewidth": 0,
              "ticks": ""
             }
            },
            "type": "scatterpolar"
           }
          ],
          "scatterpolargl": [
           {
            "marker": {
             "colorbar": {
              "outlinewidth": 0,
              "ticks": ""
             }
            },
            "type": "scatterpolargl"
           }
          ],
          "scatterternary": [
           {
            "marker": {
             "colorbar": {
              "outlinewidth": 0,
              "ticks": ""
             }
            },
            "type": "scatterternary"
           }
          ],
          "surface": [
           {
            "colorbar": {
             "outlinewidth": 0,
             "ticks": ""
            },
            "colorscale": [
             [
              0,
              "#0d0887"
             ],
             [
              0.1111111111111111,
              "#46039f"
             ],
             [
              0.2222222222222222,
              "#7201a8"
             ],
             [
              0.3333333333333333,
              "#9c179e"
             ],
             [
              0.4444444444444444,
              "#bd3786"
             ],
             [
              0.5555555555555556,
              "#d8576b"
             ],
             [
              0.6666666666666666,
              "#ed7953"
             ],
             [
              0.7777777777777778,
              "#fb9f3a"
             ],
             [
              0.8888888888888888,
              "#fdca26"
             ],
             [
              1,
              "#f0f921"
             ]
            ],
            "type": "surface"
           }
          ],
          "table": [
           {
            "cells": {
             "fill": {
              "color": "#EBF0F8"
             },
             "line": {
              "color": "white"
             }
            },
            "header": {
             "fill": {
              "color": "#C8D4E3"
             },
             "line": {
              "color": "white"
             }
            },
            "type": "table"
           }
          ]
         },
         "layout": {
          "annotationdefaults": {
           "arrowcolor": "#2a3f5f",
           "arrowhead": 0,
           "arrowwidth": 1
          },
          "autotypenumbers": "strict",
          "coloraxis": {
           "colorbar": {
            "outlinewidth": 0,
            "ticks": ""
           }
          },
          "colorscale": {
           "diverging": [
            [
             0,
             "#8e0152"
            ],
            [
             0.1,
             "#c51b7d"
            ],
            [
             0.2,
             "#de77ae"
            ],
            [
             0.3,
             "#f1b6da"
            ],
            [
             0.4,
             "#fde0ef"
            ],
            [
             0.5,
             "#f7f7f7"
            ],
            [
             0.6,
             "#e6f5d0"
            ],
            [
             0.7,
             "#b8e186"
            ],
            [
             0.8,
             "#7fbc41"
            ],
            [
             0.9,
             "#4d9221"
            ],
            [
             1,
             "#276419"
            ]
           ],
           "sequential": [
            [
             0,
             "#0d0887"
            ],
            [
             0.1111111111111111,
             "#46039f"
            ],
            [
             0.2222222222222222,
             "#7201a8"
            ],
            [
             0.3333333333333333,
             "#9c179e"
            ],
            [
             0.4444444444444444,
             "#bd3786"
            ],
            [
             0.5555555555555556,
             "#d8576b"
            ],
            [
             0.6666666666666666,
             "#ed7953"
            ],
            [
             0.7777777777777778,
             "#fb9f3a"
            ],
            [
             0.8888888888888888,
             "#fdca26"
            ],
            [
             1,
             "#f0f921"
            ]
           ],
           "sequentialminus": [
            [
             0,
             "#0d0887"
            ],
            [
             0.1111111111111111,
             "#46039f"
            ],
            [
             0.2222222222222222,
             "#7201a8"
            ],
            [
             0.3333333333333333,
             "#9c179e"
            ],
            [
             0.4444444444444444,
             "#bd3786"
            ],
            [
             0.5555555555555556,
             "#d8576b"
            ],
            [
             0.6666666666666666,
             "#ed7953"
            ],
            [
             0.7777777777777778,
             "#fb9f3a"
            ],
            [
             0.8888888888888888,
             "#fdca26"
            ],
            [
             1,
             "#f0f921"
            ]
           ]
          },
          "colorway": [
           "#636efa",
           "#EF553B",
           "#00cc96",
           "#ab63fa",
           "#FFA15A",
           "#19d3f3",
           "#FF6692",
           "#B6E880",
           "#FF97FF",
           "#FECB52"
          ],
          "font": {
           "color": "#2a3f5f"
          },
          "geo": {
           "bgcolor": "white",
           "lakecolor": "white",
           "landcolor": "#E5ECF6",
           "showlakes": true,
           "showland": true,
           "subunitcolor": "white"
          },
          "hoverlabel": {
           "align": "left"
          },
          "hovermode": "closest",
          "mapbox": {
           "style": "light"
          },
          "paper_bgcolor": "white",
          "plot_bgcolor": "#E5ECF6",
          "polar": {
           "angularaxis": {
            "gridcolor": "white",
            "linecolor": "white",
            "ticks": ""
           },
           "bgcolor": "#E5ECF6",
           "radialaxis": {
            "gridcolor": "white",
            "linecolor": "white",
            "ticks": ""
           }
          },
          "scene": {
           "xaxis": {
            "backgroundcolor": "#E5ECF6",
            "gridcolor": "white",
            "gridwidth": 2,
            "linecolor": "white",
            "showbackground": true,
            "ticks": "",
            "zerolinecolor": "white"
           },
           "yaxis": {
            "backgroundcolor": "#E5ECF6",
            "gridcolor": "white",
            "gridwidth": 2,
            "linecolor": "white",
            "showbackground": true,
            "ticks": "",
            "zerolinecolor": "white"
           },
           "zaxis": {
            "backgroundcolor": "#E5ECF6",
            "gridcolor": "white",
            "gridwidth": 2,
            "linecolor": "white",
            "showbackground": true,
            "ticks": "",
            "zerolinecolor": "white"
           }
          },
          "shapedefaults": {
           "line": {
            "color": "#2a3f5f"
           }
          },
          "ternary": {
           "aaxis": {
            "gridcolor": "white",
            "linecolor": "white",
            "ticks": ""
           },
           "baxis": {
            "gridcolor": "white",
            "linecolor": "white",
            "ticks": ""
           },
           "bgcolor": "#E5ECF6",
           "caxis": {
            "gridcolor": "white",
            "linecolor": "white",
            "ticks": ""
           }
          },
          "title": {
           "x": 0.05
          },
          "xaxis": {
           "automargin": true,
           "gridcolor": "white",
           "linecolor": "white",
           "ticks": "",
           "title": {
            "standoff": 15
           },
           "zerolinecolor": "white",
           "zerolinewidth": 2
          },
          "yaxis": {
           "automargin": true,
           "gridcolor": "white",
           "linecolor": "white",
           "ticks": "",
           "title": {
            "standoff": 15
           },
           "zerolinecolor": "white",
           "zerolinewidth": 2
          }
         }
        },
        "title": {
         "text": "Sentiment Counts Throughout the Evening for the Dancing Dolphin (5 pm to 9:30 pm)"
        },
        "updatemenus": [
         {
          "buttons": [
           {
            "args": [
             null,
             {
              "frame": {
               "duration": 500,
               "redraw": true
              },
              "fromcurrent": true,
              "mode": "immediate",
              "transition": {
               "duration": 500,
               "easing": "linear"
              }
             }
            ],
            "label": "&#9654;",
            "method": "animate"
           },
           {
            "args": [
             [
              null
             ],
             {
              "frame": {
               "duration": 0,
               "redraw": true
              },
              "fromcurrent": true,
              "mode": "immediate",
              "transition": {
               "duration": 0,
               "easing": "linear"
              }
             }
            ],
            "label": "&#9724;",
            "method": "animate"
           }
          ],
          "direction": "left",
          "pad": {
           "r": 10,
           "t": 70
          },
          "showactive": false,
          "type": "buttons",
          "x": 0.1,
          "xanchor": "right",
          "y": 0,
          "yanchor": "top"
         }
        ],
        "xaxis": {
         "anchor": "y",
         "categoryarray": [
          "negative",
          "neutral",
          "positive"
         ],
         "categoryorder": "array",
         "domain": [
          0,
          1
         ],
         "title": {
          "text": "Sentiment"
         }
        },
        "yaxis": {
         "anchor": "x",
         "domain": [
          0,
          1
         ],
         "range": [
          0,
          100
         ],
         "title": {
          "text": "Count"
         }
        }
       }
      }
     },
     "metadata": {},
     "output_type": "display_data"
    }
   ],
   "source": [
    "fig = px.bar(\n",
    "    dolphin_sents_5min,\n",
    "    x='sentiment',\n",
    "    y='count',\n",
    "    color='sentiment',\n",
    "    color_discrete_sequence=['red', 'yellow', 'green'],\n",
    "    animation_frame='time',\n",
    "    labels={\n",
    "        'sentiment': 'Sentiment',\n",
    "        'count': 'Count'\n",
    "    },\n",
    "    title='Sentiment Counts Throughout the Evening for the Dancing Dolphin (5 pm to 9:30 pm)'\n",
    ")\n",
    "fig.update_layout(yaxis_range=[0, 100])\n",
    "fig.show()"
   ]
  },
  {
   "cell_type": "code",
   "execution_count": 31,
   "metadata": {},
   "outputs": [],
   "source": [
    "POK_keys = ['POK', 'rally', 'Syliva', 'leaders', 'Protectors', '#POKRally', 'Viktor']\n",
    "POK_df = df[df['message'].str.contains('|'.join(POK_keys), case=False)]"
   ]
  },
  {
   "cell_type": "code",
   "execution_count": 32,
   "metadata": {},
   "outputs": [
    {
     "data": {
      "text/plain": [
       "(433, 15)"
      ]
     },
     "execution_count": 32,
     "metadata": {},
     "output_type": "execute_result"
    }
   ],
   "source": [
    "POK_df.shape"
   ]
  },
  {
   "cell_type": "code",
   "execution_count": 33,
   "metadata": {},
   "outputs": [],
   "source": [
    "POK_agg_5min = POK_df.groupby(pd.Grouper(key='date(yyyyMMddHHmmss)', freq='5min'))"
   ]
  },
  {
   "cell_type": "code",
   "execution_count": 34,
   "metadata": {},
   "outputs": [],
   "source": [
    "POK_sents_5min = POK_agg_5min[['negative', 'neutral', 'positive']].sum()\n",
    "POK_sents_5min = POK_sents_5min.reset_index()\n",
    "POK_sents_5min['time'] = POK_sents_5min['date(yyyyMMddHHmmss)'].apply(lambda x: (x.value - pd.to_datetime('2014-01-23 17:00:00').value) // 10**9)"
   ]
  },
  {
   "cell_type": "code",
   "execution_count": 35,
   "metadata": {},
   "outputs": [],
   "source": [
    "POK_sents_5min = pd.melt(\n",
    "    POK_sents_5min,\n",
    "    id_vars=['time'],\n",
    "    value_vars=['negative', 'neutral', 'positive'],\n",
    "    var_name='sentiment',\n",
    "    value_name='count'\n",
    ")"
   ]
  },
  {
   "cell_type": "code",
   "execution_count": 36,
   "metadata": {},
   "outputs": [
    {
     "data": {
      "application/vnd.plotly.v1+json": {
       "config": {
        "plotlyServerURL": "https://plot.ly"
       },
       "data": [
        {
         "alignmentgroup": "True",
         "hovertemplate": "Sentiment=%{x}<br>time=0<br>Count=%{y}<extra></extra>",
         "legendgroup": "negative",
         "marker": {
          "color": "red",
          "pattern": {
           "shape": ""
          }
         },
         "name": "negative",
         "offsetgroup": "negative",
         "orientation": "v",
         "showlegend": true,
         "textposition": "auto",
         "type": "bar",
         "x": [
          "negative"
         ],
         "xaxis": "x",
         "y": [
          5
         ],
         "yaxis": "y"
        },
        {
         "alignmentgroup": "True",
         "hovertemplate": "Sentiment=%{x}<br>time=0<br>Count=%{y}<extra></extra>",
         "legendgroup": "neutral",
         "marker": {
          "color": "yellow",
          "pattern": {
           "shape": ""
          }
         },
         "name": "neutral",
         "offsetgroup": "neutral",
         "orientation": "v",
         "showlegend": true,
         "textposition": "auto",
         "type": "bar",
         "x": [
          "neutral"
         ],
         "xaxis": "x",
         "y": [
          14
         ],
         "yaxis": "y"
        },
        {
         "alignmentgroup": "True",
         "hovertemplate": "Sentiment=%{x}<br>time=0<br>Count=%{y}<extra></extra>",
         "legendgroup": "positive",
         "marker": {
          "color": "green",
          "pattern": {
           "shape": ""
          }
         },
         "name": "positive",
         "offsetgroup": "positive",
         "orientation": "v",
         "showlegend": true,
         "textposition": "auto",
         "type": "bar",
         "x": [
          "positive"
         ],
         "xaxis": "x",
         "y": [
          2
         ],
         "yaxis": "y"
        }
       ],
       "frames": [
        {
         "data": [
          {
           "alignmentgroup": "True",
           "hovertemplate": "Sentiment=%{x}<br>time=0<br>Count=%{y}<extra></extra>",
           "legendgroup": "negative",
           "marker": {
            "color": "red",
            "pattern": {
             "shape": ""
            }
           },
           "name": "negative",
           "offsetgroup": "negative",
           "orientation": "v",
           "showlegend": true,
           "textposition": "auto",
           "type": "bar",
           "x": [
            "negative"
           ],
           "xaxis": "x",
           "y": [
            5
           ],
           "yaxis": "y"
          },
          {
           "alignmentgroup": "True",
           "hovertemplate": "Sentiment=%{x}<br>time=0<br>Count=%{y}<extra></extra>",
           "legendgroup": "neutral",
           "marker": {
            "color": "yellow",
            "pattern": {
             "shape": ""
            }
           },
           "name": "neutral",
           "offsetgroup": "neutral",
           "orientation": "v",
           "showlegend": true,
           "textposition": "auto",
           "type": "bar",
           "x": [
            "neutral"
           ],
           "xaxis": "x",
           "y": [
            14
           ],
           "yaxis": "y"
          },
          {
           "alignmentgroup": "True",
           "hovertemplate": "Sentiment=%{x}<br>time=0<br>Count=%{y}<extra></extra>",
           "legendgroup": "positive",
           "marker": {
            "color": "green",
            "pattern": {
             "shape": ""
            }
           },
           "name": "positive",
           "offsetgroup": "positive",
           "orientation": "v",
           "showlegend": true,
           "textposition": "auto",
           "type": "bar",
           "x": [
            "positive"
           ],
           "xaxis": "x",
           "y": [
            2
           ],
           "yaxis": "y"
          }
         ],
         "name": "0"
        },
        {
         "data": [
          {
           "alignmentgroup": "True",
           "hovertemplate": "Sentiment=%{x}<br>time=300<br>Count=%{y}<extra></extra>",
           "legendgroup": "negative",
           "marker": {
            "color": "red",
            "pattern": {
             "shape": ""
            }
           },
           "name": "negative",
           "offsetgroup": "negative",
           "orientation": "v",
           "showlegend": true,
           "textposition": "auto",
           "type": "bar",
           "x": [
            "negative"
           ],
           "xaxis": "x",
           "y": [
            7
           ],
           "yaxis": "y"
          },
          {
           "alignmentgroup": "True",
           "hovertemplate": "Sentiment=%{x}<br>time=300<br>Count=%{y}<extra></extra>",
           "legendgroup": "neutral",
           "marker": {
            "color": "yellow",
            "pattern": {
             "shape": ""
            }
           },
           "name": "neutral",
           "offsetgroup": "neutral",
           "orientation": "v",
           "showlegend": true,
           "textposition": "auto",
           "type": "bar",
           "x": [
            "neutral"
           ],
           "xaxis": "x",
           "y": [
            3
           ],
           "yaxis": "y"
          },
          {
           "alignmentgroup": "True",
           "hovertemplate": "Sentiment=%{x}<br>time=300<br>Count=%{y}<extra></extra>",
           "legendgroup": "positive",
           "marker": {
            "color": "green",
            "pattern": {
             "shape": ""
            }
           },
           "name": "positive",
           "offsetgroup": "positive",
           "orientation": "v",
           "showlegend": true,
           "textposition": "auto",
           "type": "bar",
           "x": [
            "positive"
           ],
           "xaxis": "x",
           "y": [
            1
           ],
           "yaxis": "y"
          }
         ],
         "name": "300"
        },
        {
         "data": [
          {
           "alignmentgroup": "True",
           "hovertemplate": "Sentiment=%{x}<br>time=600<br>Count=%{y}<extra></extra>",
           "legendgroup": "negative",
           "marker": {
            "color": "red",
            "pattern": {
             "shape": ""
            }
           },
           "name": "negative",
           "offsetgroup": "negative",
           "orientation": "v",
           "showlegend": true,
           "textposition": "auto",
           "type": "bar",
           "x": [
            "negative"
           ],
           "xaxis": "x",
           "y": [
            8
           ],
           "yaxis": "y"
          },
          {
           "alignmentgroup": "True",
           "hovertemplate": "Sentiment=%{x}<br>time=600<br>Count=%{y}<extra></extra>",
           "legendgroup": "neutral",
           "marker": {
            "color": "yellow",
            "pattern": {
             "shape": ""
            }
           },
           "name": "neutral",
           "offsetgroup": "neutral",
           "orientation": "v",
           "showlegend": true,
           "textposition": "auto",
           "type": "bar",
           "x": [
            "neutral"
           ],
           "xaxis": "x",
           "y": [
            21
           ],
           "yaxis": "y"
          },
          {
           "alignmentgroup": "True",
           "hovertemplate": "Sentiment=%{x}<br>time=600<br>Count=%{y}<extra></extra>",
           "legendgroup": "positive",
           "marker": {
            "color": "green",
            "pattern": {
             "shape": ""
            }
           },
           "name": "positive",
           "offsetgroup": "positive",
           "orientation": "v",
           "showlegend": true,
           "textposition": "auto",
           "type": "bar",
           "x": [
            "positive"
           ],
           "xaxis": "x",
           "y": [
            10
           ],
           "yaxis": "y"
          }
         ],
         "name": "600"
        },
        {
         "data": [
          {
           "alignmentgroup": "True",
           "hovertemplate": "Sentiment=%{x}<br>time=900<br>Count=%{y}<extra></extra>",
           "legendgroup": "negative",
           "marker": {
            "color": "red",
            "pattern": {
             "shape": ""
            }
           },
           "name": "negative",
           "offsetgroup": "negative",
           "orientation": "v",
           "showlegend": true,
           "textposition": "auto",
           "type": "bar",
           "x": [
            "negative"
           ],
           "xaxis": "x",
           "y": [
            5
           ],
           "yaxis": "y"
          },
          {
           "alignmentgroup": "True",
           "hovertemplate": "Sentiment=%{x}<br>time=900<br>Count=%{y}<extra></extra>",
           "legendgroup": "neutral",
           "marker": {
            "color": "yellow",
            "pattern": {
             "shape": ""
            }
           },
           "name": "neutral",
           "offsetgroup": "neutral",
           "orientation": "v",
           "showlegend": true,
           "textposition": "auto",
           "type": "bar",
           "x": [
            "neutral"
           ],
           "xaxis": "x",
           "y": [
            8
           ],
           "yaxis": "y"
          },
          {
           "alignmentgroup": "True",
           "hovertemplate": "Sentiment=%{x}<br>time=900<br>Count=%{y}<extra></extra>",
           "legendgroup": "positive",
           "marker": {
            "color": "green",
            "pattern": {
             "shape": ""
            }
           },
           "name": "positive",
           "offsetgroup": "positive",
           "orientation": "v",
           "showlegend": true,
           "textposition": "auto",
           "type": "bar",
           "x": [
            "positive"
           ],
           "xaxis": "x",
           "y": [
            10
           ],
           "yaxis": "y"
          }
         ],
         "name": "900"
        },
        {
         "data": [
          {
           "alignmentgroup": "True",
           "hovertemplate": "Sentiment=%{x}<br>time=1200<br>Count=%{y}<extra></extra>",
           "legendgroup": "negative",
           "marker": {
            "color": "red",
            "pattern": {
             "shape": ""
            }
           },
           "name": "negative",
           "offsetgroup": "negative",
           "orientation": "v",
           "showlegend": true,
           "textposition": "auto",
           "type": "bar",
           "x": [
            "negative"
           ],
           "xaxis": "x",
           "y": [
            1
           ],
           "yaxis": "y"
          },
          {
           "alignmentgroup": "True",
           "hovertemplate": "Sentiment=%{x}<br>time=1200<br>Count=%{y}<extra></extra>",
           "legendgroup": "neutral",
           "marker": {
            "color": "yellow",
            "pattern": {
             "shape": ""
            }
           },
           "name": "neutral",
           "offsetgroup": "neutral",
           "orientation": "v",
           "showlegend": true,
           "textposition": "auto",
           "type": "bar",
           "x": [
            "neutral"
           ],
           "xaxis": "x",
           "y": [
            10
           ],
           "yaxis": "y"
          },
          {
           "alignmentgroup": "True",
           "hovertemplate": "Sentiment=%{x}<br>time=1200<br>Count=%{y}<extra></extra>",
           "legendgroup": "positive",
           "marker": {
            "color": "green",
            "pattern": {
             "shape": ""
            }
           },
           "name": "positive",
           "offsetgroup": "positive",
           "orientation": "v",
           "showlegend": true,
           "textposition": "auto",
           "type": "bar",
           "x": [
            "positive"
           ],
           "xaxis": "x",
           "y": [
            7
           ],
           "yaxis": "y"
          }
         ],
         "name": "1200"
        },
        {
         "data": [
          {
           "alignmentgroup": "True",
           "hovertemplate": "Sentiment=%{x}<br>time=1500<br>Count=%{y}<extra></extra>",
           "legendgroup": "negative",
           "marker": {
            "color": "red",
            "pattern": {
             "shape": ""
            }
           },
           "name": "negative",
           "offsetgroup": "negative",
           "orientation": "v",
           "showlegend": true,
           "textposition": "auto",
           "type": "bar",
           "x": [
            "negative"
           ],
           "xaxis": "x",
           "y": [
            1
           ],
           "yaxis": "y"
          },
          {
           "alignmentgroup": "True",
           "hovertemplate": "Sentiment=%{x}<br>time=1500<br>Count=%{y}<extra></extra>",
           "legendgroup": "neutral",
           "marker": {
            "color": "yellow",
            "pattern": {
             "shape": ""
            }
           },
           "name": "neutral",
           "offsetgroup": "neutral",
           "orientation": "v",
           "showlegend": true,
           "textposition": "auto",
           "type": "bar",
           "x": [
            "neutral"
           ],
           "xaxis": "x",
           "y": [
            22
           ],
           "yaxis": "y"
          },
          {
           "alignmentgroup": "True",
           "hovertemplate": "Sentiment=%{x}<br>time=1500<br>Count=%{y}<extra></extra>",
           "legendgroup": "positive",
           "marker": {
            "color": "green",
            "pattern": {
             "shape": ""
            }
           },
           "name": "positive",
           "offsetgroup": "positive",
           "orientation": "v",
           "showlegend": true,
           "textposition": "auto",
           "type": "bar",
           "x": [
            "positive"
           ],
           "xaxis": "x",
           "y": [
            18
           ],
           "yaxis": "y"
          }
         ],
         "name": "1500"
        },
        {
         "data": [
          {
           "alignmentgroup": "True",
           "hovertemplate": "Sentiment=%{x}<br>time=1800<br>Count=%{y}<extra></extra>",
           "legendgroup": "negative",
           "marker": {
            "color": "red",
            "pattern": {
             "shape": ""
            }
           },
           "name": "negative",
           "offsetgroup": "negative",
           "orientation": "v",
           "showlegend": true,
           "textposition": "auto",
           "type": "bar",
           "x": [
            "negative"
           ],
           "xaxis": "x",
           "y": [
            12
           ],
           "yaxis": "y"
          },
          {
           "alignmentgroup": "True",
           "hovertemplate": "Sentiment=%{x}<br>time=1800<br>Count=%{y}<extra></extra>",
           "legendgroup": "neutral",
           "marker": {
            "color": "yellow",
            "pattern": {
             "shape": ""
            }
           },
           "name": "neutral",
           "offsetgroup": "neutral",
           "orientation": "v",
           "showlegend": true,
           "textposition": "auto",
           "type": "bar",
           "x": [
            "neutral"
           ],
           "xaxis": "x",
           "y": [
            7
           ],
           "yaxis": "y"
          },
          {
           "alignmentgroup": "True",
           "hovertemplate": "Sentiment=%{x}<br>time=1800<br>Count=%{y}<extra></extra>",
           "legendgroup": "positive",
           "marker": {
            "color": "green",
            "pattern": {
             "shape": ""
            }
           },
           "name": "positive",
           "offsetgroup": "positive",
           "orientation": "v",
           "showlegend": true,
           "textposition": "auto",
           "type": "bar",
           "x": [
            "positive"
           ],
           "xaxis": "x",
           "y": [
            2
           ],
           "yaxis": "y"
          }
         ],
         "name": "1800"
        },
        {
         "data": [
          {
           "alignmentgroup": "True",
           "hovertemplate": "Sentiment=%{x}<br>time=2100<br>Count=%{y}<extra></extra>",
           "legendgroup": "negative",
           "marker": {
            "color": "red",
            "pattern": {
             "shape": ""
            }
           },
           "name": "negative",
           "offsetgroup": "negative",
           "orientation": "v",
           "showlegend": true,
           "textposition": "auto",
           "type": "bar",
           "x": [
            "negative"
           ],
           "xaxis": "x",
           "y": [
            0
           ],
           "yaxis": "y"
          },
          {
           "alignmentgroup": "True",
           "hovertemplate": "Sentiment=%{x}<br>time=2100<br>Count=%{y}<extra></extra>",
           "legendgroup": "neutral",
           "marker": {
            "color": "yellow",
            "pattern": {
             "shape": ""
            }
           },
           "name": "neutral",
           "offsetgroup": "neutral",
           "orientation": "v",
           "showlegend": true,
           "textposition": "auto",
           "type": "bar",
           "x": [
            "neutral"
           ],
           "xaxis": "x",
           "y": [
            7
           ],
           "yaxis": "y"
          },
          {
           "alignmentgroup": "True",
           "hovertemplate": "Sentiment=%{x}<br>time=2100<br>Count=%{y}<extra></extra>",
           "legendgroup": "positive",
           "marker": {
            "color": "green",
            "pattern": {
             "shape": ""
            }
           },
           "name": "positive",
           "offsetgroup": "positive",
           "orientation": "v",
           "showlegend": true,
           "textposition": "auto",
           "type": "bar",
           "x": [
            "positive"
           ],
           "xaxis": "x",
           "y": [
            2
           ],
           "yaxis": "y"
          }
         ],
         "name": "2100"
        },
        {
         "data": [
          {
           "alignmentgroup": "True",
           "hovertemplate": "Sentiment=%{x}<br>time=2400<br>Count=%{y}<extra></extra>",
           "legendgroup": "negative",
           "marker": {
            "color": "red",
            "pattern": {
             "shape": ""
            }
           },
           "name": "negative",
           "offsetgroup": "negative",
           "orientation": "v",
           "showlegend": true,
           "textposition": "auto",
           "type": "bar",
           "x": [
            "negative"
           ],
           "xaxis": "x",
           "y": [
            1
           ],
           "yaxis": "y"
          },
          {
           "alignmentgroup": "True",
           "hovertemplate": "Sentiment=%{x}<br>time=2400<br>Count=%{y}<extra></extra>",
           "legendgroup": "neutral",
           "marker": {
            "color": "yellow",
            "pattern": {
             "shape": ""
            }
           },
           "name": "neutral",
           "offsetgroup": "neutral",
           "orientation": "v",
           "showlegend": true,
           "textposition": "auto",
           "type": "bar",
           "x": [
            "neutral"
           ],
           "xaxis": "x",
           "y": [
            9
           ],
           "yaxis": "y"
          },
          {
           "alignmentgroup": "True",
           "hovertemplate": "Sentiment=%{x}<br>time=2400<br>Count=%{y}<extra></extra>",
           "legendgroup": "positive",
           "marker": {
            "color": "green",
            "pattern": {
             "shape": ""
            }
           },
           "name": "positive",
           "offsetgroup": "positive",
           "orientation": "v",
           "showlegend": true,
           "textposition": "auto",
           "type": "bar",
           "x": [
            "positive"
           ],
           "xaxis": "x",
           "y": [
            6
           ],
           "yaxis": "y"
          }
         ],
         "name": "2400"
        },
        {
         "data": [
          {
           "alignmentgroup": "True",
           "hovertemplate": "Sentiment=%{x}<br>time=2700<br>Count=%{y}<extra></extra>",
           "legendgroup": "negative",
           "marker": {
            "color": "red",
            "pattern": {
             "shape": ""
            }
           },
           "name": "negative",
           "offsetgroup": "negative",
           "orientation": "v",
           "showlegend": true,
           "textposition": "auto",
           "type": "bar",
           "x": [
            "negative"
           ],
           "xaxis": "x",
           "y": [
            1
           ],
           "yaxis": "y"
          },
          {
           "alignmentgroup": "True",
           "hovertemplate": "Sentiment=%{x}<br>time=2700<br>Count=%{y}<extra></extra>",
           "legendgroup": "neutral",
           "marker": {
            "color": "yellow",
            "pattern": {
             "shape": ""
            }
           },
           "name": "neutral",
           "offsetgroup": "neutral",
           "orientation": "v",
           "showlegend": true,
           "textposition": "auto",
           "type": "bar",
           "x": [
            "neutral"
           ],
           "xaxis": "x",
           "y": [
            3
           ],
           "yaxis": "y"
          },
          {
           "alignmentgroup": "True",
           "hovertemplate": "Sentiment=%{x}<br>time=2700<br>Count=%{y}<extra></extra>",
           "legendgroup": "positive",
           "marker": {
            "color": "green",
            "pattern": {
             "shape": ""
            }
           },
           "name": "positive",
           "offsetgroup": "positive",
           "orientation": "v",
           "showlegend": true,
           "textposition": "auto",
           "type": "bar",
           "x": [
            "positive"
           ],
           "xaxis": "x",
           "y": [
            4
           ],
           "yaxis": "y"
          }
         ],
         "name": "2700"
        },
        {
         "data": [
          {
           "alignmentgroup": "True",
           "hovertemplate": "Sentiment=%{x}<br>time=3000<br>Count=%{y}<extra></extra>",
           "legendgroup": "negative",
           "marker": {
            "color": "red",
            "pattern": {
             "shape": ""
            }
           },
           "name": "negative",
           "offsetgroup": "negative",
           "orientation": "v",
           "showlegend": true,
           "textposition": "auto",
           "type": "bar",
           "x": [
            "negative"
           ],
           "xaxis": "x",
           "y": [
            2
           ],
           "yaxis": "y"
          },
          {
           "alignmentgroup": "True",
           "hovertemplate": "Sentiment=%{x}<br>time=3000<br>Count=%{y}<extra></extra>",
           "legendgroup": "neutral",
           "marker": {
            "color": "yellow",
            "pattern": {
             "shape": ""
            }
           },
           "name": "neutral",
           "offsetgroup": "neutral",
           "orientation": "v",
           "showlegend": true,
           "textposition": "auto",
           "type": "bar",
           "x": [
            "neutral"
           ],
           "xaxis": "x",
           "y": [
            6
           ],
           "yaxis": "y"
          },
          {
           "alignmentgroup": "True",
           "hovertemplate": "Sentiment=%{x}<br>time=3000<br>Count=%{y}<extra></extra>",
           "legendgroup": "positive",
           "marker": {
            "color": "green",
            "pattern": {
             "shape": ""
            }
           },
           "name": "positive",
           "offsetgroup": "positive",
           "orientation": "v",
           "showlegend": true,
           "textposition": "auto",
           "type": "bar",
           "x": [
            "positive"
           ],
           "xaxis": "x",
           "y": [
            1
           ],
           "yaxis": "y"
          }
         ],
         "name": "3000"
        },
        {
         "data": [
          {
           "alignmentgroup": "True",
           "hovertemplate": "Sentiment=%{x}<br>time=3300<br>Count=%{y}<extra></extra>",
           "legendgroup": "negative",
           "marker": {
            "color": "red",
            "pattern": {
             "shape": ""
            }
           },
           "name": "negative",
           "offsetgroup": "negative",
           "orientation": "v",
           "showlegend": true,
           "textposition": "auto",
           "type": "bar",
           "x": [
            "negative"
           ],
           "xaxis": "x",
           "y": [
            1
           ],
           "yaxis": "y"
          },
          {
           "alignmentgroup": "True",
           "hovertemplate": "Sentiment=%{x}<br>time=3300<br>Count=%{y}<extra></extra>",
           "legendgroup": "neutral",
           "marker": {
            "color": "yellow",
            "pattern": {
             "shape": ""
            }
           },
           "name": "neutral",
           "offsetgroup": "neutral",
           "orientation": "v",
           "showlegend": true,
           "textposition": "auto",
           "type": "bar",
           "x": [
            "neutral"
           ],
           "xaxis": "x",
           "y": [
            3
           ],
           "yaxis": "y"
          },
          {
           "alignmentgroup": "True",
           "hovertemplate": "Sentiment=%{x}<br>time=3300<br>Count=%{y}<extra></extra>",
           "legendgroup": "positive",
           "marker": {
            "color": "green",
            "pattern": {
             "shape": ""
            }
           },
           "name": "positive",
           "offsetgroup": "positive",
           "orientation": "v",
           "showlegend": true,
           "textposition": "auto",
           "type": "bar",
           "x": [
            "positive"
           ],
           "xaxis": "x",
           "y": [
            3
           ],
           "yaxis": "y"
          }
         ],
         "name": "3300"
        },
        {
         "data": [
          {
           "alignmentgroup": "True",
           "hovertemplate": "Sentiment=%{x}<br>time=3600<br>Count=%{y}<extra></extra>",
           "legendgroup": "negative",
           "marker": {
            "color": "red",
            "pattern": {
             "shape": ""
            }
           },
           "name": "negative",
           "offsetgroup": "negative",
           "orientation": "v",
           "showlegend": true,
           "textposition": "auto",
           "type": "bar",
           "x": [
            "negative"
           ],
           "xaxis": "x",
           "y": [
            0
           ],
           "yaxis": "y"
          },
          {
           "alignmentgroup": "True",
           "hovertemplate": "Sentiment=%{x}<br>time=3600<br>Count=%{y}<extra></extra>",
           "legendgroup": "neutral",
           "marker": {
            "color": "yellow",
            "pattern": {
             "shape": ""
            }
           },
           "name": "neutral",
           "offsetgroup": "neutral",
           "orientation": "v",
           "showlegend": true,
           "textposition": "auto",
           "type": "bar",
           "x": [
            "neutral"
           ],
           "xaxis": "x",
           "y": [
            3
           ],
           "yaxis": "y"
          },
          {
           "alignmentgroup": "True",
           "hovertemplate": "Sentiment=%{x}<br>time=3600<br>Count=%{y}<extra></extra>",
           "legendgroup": "positive",
           "marker": {
            "color": "green",
            "pattern": {
             "shape": ""
            }
           },
           "name": "positive",
           "offsetgroup": "positive",
           "orientation": "v",
           "showlegend": true,
           "textposition": "auto",
           "type": "bar",
           "x": [
            "positive"
           ],
           "xaxis": "x",
           "y": [
            0
           ],
           "yaxis": "y"
          }
         ],
         "name": "3600"
        },
        {
         "data": [
          {
           "alignmentgroup": "True",
           "hovertemplate": "Sentiment=%{x}<br>time=3900<br>Count=%{y}<extra></extra>",
           "legendgroup": "negative",
           "marker": {
            "color": "red",
            "pattern": {
             "shape": ""
            }
           },
           "name": "negative",
           "offsetgroup": "negative",
           "orientation": "v",
           "showlegend": true,
           "textposition": "auto",
           "type": "bar",
           "x": [
            "negative"
           ],
           "xaxis": "x",
           "y": [
            1
           ],
           "yaxis": "y"
          },
          {
           "alignmentgroup": "True",
           "hovertemplate": "Sentiment=%{x}<br>time=3900<br>Count=%{y}<extra></extra>",
           "legendgroup": "neutral",
           "marker": {
            "color": "yellow",
            "pattern": {
             "shape": ""
            }
           },
           "name": "neutral",
           "offsetgroup": "neutral",
           "orientation": "v",
           "showlegend": true,
           "textposition": "auto",
           "type": "bar",
           "x": [
            "neutral"
           ],
           "xaxis": "x",
           "y": [
            4
           ],
           "yaxis": "y"
          },
          {
           "alignmentgroup": "True",
           "hovertemplate": "Sentiment=%{x}<br>time=3900<br>Count=%{y}<extra></extra>",
           "legendgroup": "positive",
           "marker": {
            "color": "green",
            "pattern": {
             "shape": ""
            }
           },
           "name": "positive",
           "offsetgroup": "positive",
           "orientation": "v",
           "showlegend": true,
           "textposition": "auto",
           "type": "bar",
           "x": [
            "positive"
           ],
           "xaxis": "x",
           "y": [
            0
           ],
           "yaxis": "y"
          }
         ],
         "name": "3900"
        },
        {
         "data": [
          {
           "alignmentgroup": "True",
           "hovertemplate": "Sentiment=%{x}<br>time=4200<br>Count=%{y}<extra></extra>",
           "legendgroup": "negative",
           "marker": {
            "color": "red",
            "pattern": {
             "shape": ""
            }
           },
           "name": "negative",
           "offsetgroup": "negative",
           "orientation": "v",
           "showlegend": true,
           "textposition": "auto",
           "type": "bar",
           "x": [
            "negative"
           ],
           "xaxis": "x",
           "y": [
            0
           ],
           "yaxis": "y"
          },
          {
           "alignmentgroup": "True",
           "hovertemplate": "Sentiment=%{x}<br>time=4200<br>Count=%{y}<extra></extra>",
           "legendgroup": "neutral",
           "marker": {
            "color": "yellow",
            "pattern": {
             "shape": ""
            }
           },
           "name": "neutral",
           "offsetgroup": "neutral",
           "orientation": "v",
           "showlegend": true,
           "textposition": "auto",
           "type": "bar",
           "x": [
            "neutral"
           ],
           "xaxis": "x",
           "y": [
            5
           ],
           "yaxis": "y"
          },
          {
           "alignmentgroup": "True",
           "hovertemplate": "Sentiment=%{x}<br>time=4200<br>Count=%{y}<extra></extra>",
           "legendgroup": "positive",
           "marker": {
            "color": "green",
            "pattern": {
             "shape": ""
            }
           },
           "name": "positive",
           "offsetgroup": "positive",
           "orientation": "v",
           "showlegend": true,
           "textposition": "auto",
           "type": "bar",
           "x": [
            "positive"
           ],
           "xaxis": "x",
           "y": [
            1
           ],
           "yaxis": "y"
          }
         ],
         "name": "4200"
        },
        {
         "data": [
          {
           "alignmentgroup": "True",
           "hovertemplate": "Sentiment=%{x}<br>time=4500<br>Count=%{y}<extra></extra>",
           "legendgroup": "negative",
           "marker": {
            "color": "red",
            "pattern": {
             "shape": ""
            }
           },
           "name": "negative",
           "offsetgroup": "negative",
           "orientation": "v",
           "showlegend": true,
           "textposition": "auto",
           "type": "bar",
           "x": [
            "negative"
           ],
           "xaxis": "x",
           "y": [
            0
           ],
           "yaxis": "y"
          },
          {
           "alignmentgroup": "True",
           "hovertemplate": "Sentiment=%{x}<br>time=4500<br>Count=%{y}<extra></extra>",
           "legendgroup": "neutral",
           "marker": {
            "color": "yellow",
            "pattern": {
             "shape": ""
            }
           },
           "name": "neutral",
           "offsetgroup": "neutral",
           "orientation": "v",
           "showlegend": true,
           "textposition": "auto",
           "type": "bar",
           "x": [
            "neutral"
           ],
           "xaxis": "x",
           "y": [
            10
           ],
           "yaxis": "y"
          },
          {
           "alignmentgroup": "True",
           "hovertemplate": "Sentiment=%{x}<br>time=4500<br>Count=%{y}<extra></extra>",
           "legendgroup": "positive",
           "marker": {
            "color": "green",
            "pattern": {
             "shape": ""
            }
           },
           "name": "positive",
           "offsetgroup": "positive",
           "orientation": "v",
           "showlegend": true,
           "textposition": "auto",
           "type": "bar",
           "x": [
            "positive"
           ],
           "xaxis": "x",
           "y": [
            1
           ],
           "yaxis": "y"
          }
         ],
         "name": "4500"
        },
        {
         "data": [
          {
           "alignmentgroup": "True",
           "hovertemplate": "Sentiment=%{x}<br>time=4800<br>Count=%{y}<extra></extra>",
           "legendgroup": "negative",
           "marker": {
            "color": "red",
            "pattern": {
             "shape": ""
            }
           },
           "name": "negative",
           "offsetgroup": "negative",
           "orientation": "v",
           "showlegend": true,
           "textposition": "auto",
           "type": "bar",
           "x": [
            "negative"
           ],
           "xaxis": "x",
           "y": [
            0
           ],
           "yaxis": "y"
          },
          {
           "alignmentgroup": "True",
           "hovertemplate": "Sentiment=%{x}<br>time=4800<br>Count=%{y}<extra></extra>",
           "legendgroup": "neutral",
           "marker": {
            "color": "yellow",
            "pattern": {
             "shape": ""
            }
           },
           "name": "neutral",
           "offsetgroup": "neutral",
           "orientation": "v",
           "showlegend": true,
           "textposition": "auto",
           "type": "bar",
           "x": [
            "neutral"
           ],
           "xaxis": "x",
           "y": [
            2
           ],
           "yaxis": "y"
          },
          {
           "alignmentgroup": "True",
           "hovertemplate": "Sentiment=%{x}<br>time=4800<br>Count=%{y}<extra></extra>",
           "legendgroup": "positive",
           "marker": {
            "color": "green",
            "pattern": {
             "shape": ""
            }
           },
           "name": "positive",
           "offsetgroup": "positive",
           "orientation": "v",
           "showlegend": true,
           "textposition": "auto",
           "type": "bar",
           "x": [
            "positive"
           ],
           "xaxis": "x",
           "y": [
            0
           ],
           "yaxis": "y"
          }
         ],
         "name": "4800"
        },
        {
         "data": [
          {
           "alignmentgroup": "True",
           "hovertemplate": "Sentiment=%{x}<br>time=5100<br>Count=%{y}<extra></extra>",
           "legendgroup": "negative",
           "marker": {
            "color": "red",
            "pattern": {
             "shape": ""
            }
           },
           "name": "negative",
           "offsetgroup": "negative",
           "orientation": "v",
           "showlegend": true,
           "textposition": "auto",
           "type": "bar",
           "x": [
            "negative"
           ],
           "xaxis": "x",
           "y": [
            0
           ],
           "yaxis": "y"
          },
          {
           "alignmentgroup": "True",
           "hovertemplate": "Sentiment=%{x}<br>time=5100<br>Count=%{y}<extra></extra>",
           "legendgroup": "neutral",
           "marker": {
            "color": "yellow",
            "pattern": {
             "shape": ""
            }
           },
           "name": "neutral",
           "offsetgroup": "neutral",
           "orientation": "v",
           "showlegend": true,
           "textposition": "auto",
           "type": "bar",
           "x": [
            "neutral"
           ],
           "xaxis": "x",
           "y": [
            0
           ],
           "yaxis": "y"
          },
          {
           "alignmentgroup": "True",
           "hovertemplate": "Sentiment=%{x}<br>time=5100<br>Count=%{y}<extra></extra>",
           "legendgroup": "positive",
           "marker": {
            "color": "green",
            "pattern": {
             "shape": ""
            }
           },
           "name": "positive",
           "offsetgroup": "positive",
           "orientation": "v",
           "showlegend": true,
           "textposition": "auto",
           "type": "bar",
           "x": [
            "positive"
           ],
           "xaxis": "x",
           "y": [
            0
           ],
           "yaxis": "y"
          }
         ],
         "name": "5100"
        },
        {
         "data": [
          {
           "alignmentgroup": "True",
           "hovertemplate": "Sentiment=%{x}<br>time=5400<br>Count=%{y}<extra></extra>",
           "legendgroup": "negative",
           "marker": {
            "color": "red",
            "pattern": {
             "shape": ""
            }
           },
           "name": "negative",
           "offsetgroup": "negative",
           "orientation": "v",
           "showlegend": true,
           "textposition": "auto",
           "type": "bar",
           "x": [
            "negative"
           ],
           "xaxis": "x",
           "y": [
            1
           ],
           "yaxis": "y"
          },
          {
           "alignmentgroup": "True",
           "hovertemplate": "Sentiment=%{x}<br>time=5400<br>Count=%{y}<extra></extra>",
           "legendgroup": "neutral",
           "marker": {
            "color": "yellow",
            "pattern": {
             "shape": ""
            }
           },
           "name": "neutral",
           "offsetgroup": "neutral",
           "orientation": "v",
           "showlegend": true,
           "textposition": "auto",
           "type": "bar",
           "x": [
            "neutral"
           ],
           "xaxis": "x",
           "y": [
            2
           ],
           "yaxis": "y"
          },
          {
           "alignmentgroup": "True",
           "hovertemplate": "Sentiment=%{x}<br>time=5400<br>Count=%{y}<extra></extra>",
           "legendgroup": "positive",
           "marker": {
            "color": "green",
            "pattern": {
             "shape": ""
            }
           },
           "name": "positive",
           "offsetgroup": "positive",
           "orientation": "v",
           "showlegend": true,
           "textposition": "auto",
           "type": "bar",
           "x": [
            "positive"
           ],
           "xaxis": "x",
           "y": [
            4
           ],
           "yaxis": "y"
          }
         ],
         "name": "5400"
        },
        {
         "data": [
          {
           "alignmentgroup": "True",
           "hovertemplate": "Sentiment=%{x}<br>time=5700<br>Count=%{y}<extra></extra>",
           "legendgroup": "negative",
           "marker": {
            "color": "red",
            "pattern": {
             "shape": ""
            }
           },
           "name": "negative",
           "offsetgroup": "negative",
           "orientation": "v",
           "showlegend": true,
           "textposition": "auto",
           "type": "bar",
           "x": [
            "negative"
           ],
           "xaxis": "x",
           "y": [
            3
           ],
           "yaxis": "y"
          },
          {
           "alignmentgroup": "True",
           "hovertemplate": "Sentiment=%{x}<br>time=5700<br>Count=%{y}<extra></extra>",
           "legendgroup": "neutral",
           "marker": {
            "color": "yellow",
            "pattern": {
             "shape": ""
            }
           },
           "name": "neutral",
           "offsetgroup": "neutral",
           "orientation": "v",
           "showlegend": true,
           "textposition": "auto",
           "type": "bar",
           "x": [
            "neutral"
           ],
           "xaxis": "x",
           "y": [
            4
           ],
           "yaxis": "y"
          },
          {
           "alignmentgroup": "True",
           "hovertemplate": "Sentiment=%{x}<br>time=5700<br>Count=%{y}<extra></extra>",
           "legendgroup": "positive",
           "marker": {
            "color": "green",
            "pattern": {
             "shape": ""
            }
           },
           "name": "positive",
           "offsetgroup": "positive",
           "orientation": "v",
           "showlegend": true,
           "textposition": "auto",
           "type": "bar",
           "x": [
            "positive"
           ],
           "xaxis": "x",
           "y": [
            0
           ],
           "yaxis": "y"
          }
         ],
         "name": "5700"
        },
        {
         "data": [
          {
           "alignmentgroup": "True",
           "hovertemplate": "Sentiment=%{x}<br>time=6000<br>Count=%{y}<extra></extra>",
           "legendgroup": "negative",
           "marker": {
            "color": "red",
            "pattern": {
             "shape": ""
            }
           },
           "name": "negative",
           "offsetgroup": "negative",
           "orientation": "v",
           "showlegend": true,
           "textposition": "auto",
           "type": "bar",
           "x": [
            "negative"
           ],
           "xaxis": "x",
           "y": [
            0
           ],
           "yaxis": "y"
          },
          {
           "alignmentgroup": "True",
           "hovertemplate": "Sentiment=%{x}<br>time=6000<br>Count=%{y}<extra></extra>",
           "legendgroup": "neutral",
           "marker": {
            "color": "yellow",
            "pattern": {
             "shape": ""
            }
           },
           "name": "neutral",
           "offsetgroup": "neutral",
           "orientation": "v",
           "showlegend": true,
           "textposition": "auto",
           "type": "bar",
           "x": [
            "neutral"
           ],
           "xaxis": "x",
           "y": [
            5
           ],
           "yaxis": "y"
          },
          {
           "alignmentgroup": "True",
           "hovertemplate": "Sentiment=%{x}<br>time=6000<br>Count=%{y}<extra></extra>",
           "legendgroup": "positive",
           "marker": {
            "color": "green",
            "pattern": {
             "shape": ""
            }
           },
           "name": "positive",
           "offsetgroup": "positive",
           "orientation": "v",
           "showlegend": true,
           "textposition": "auto",
           "type": "bar",
           "x": [
            "positive"
           ],
           "xaxis": "x",
           "y": [
            5
           ],
           "yaxis": "y"
          }
         ],
         "name": "6000"
        },
        {
         "data": [
          {
           "alignmentgroup": "True",
           "hovertemplate": "Sentiment=%{x}<br>time=6300<br>Count=%{y}<extra></extra>",
           "legendgroup": "negative",
           "marker": {
            "color": "red",
            "pattern": {
             "shape": ""
            }
           },
           "name": "negative",
           "offsetgroup": "negative",
           "orientation": "v",
           "showlegend": true,
           "textposition": "auto",
           "type": "bar",
           "x": [
            "negative"
           ],
           "xaxis": "x",
           "y": [
            1
           ],
           "yaxis": "y"
          },
          {
           "alignmentgroup": "True",
           "hovertemplate": "Sentiment=%{x}<br>time=6300<br>Count=%{y}<extra></extra>",
           "legendgroup": "neutral",
           "marker": {
            "color": "yellow",
            "pattern": {
             "shape": ""
            }
           },
           "name": "neutral",
           "offsetgroup": "neutral",
           "orientation": "v",
           "showlegend": true,
           "textposition": "auto",
           "type": "bar",
           "x": [
            "neutral"
           ],
           "xaxis": "x",
           "y": [
            8
           ],
           "yaxis": "y"
          },
          {
           "alignmentgroup": "True",
           "hovertemplate": "Sentiment=%{x}<br>time=6300<br>Count=%{y}<extra></extra>",
           "legendgroup": "positive",
           "marker": {
            "color": "green",
            "pattern": {
             "shape": ""
            }
           },
           "name": "positive",
           "offsetgroup": "positive",
           "orientation": "v",
           "showlegend": true,
           "textposition": "auto",
           "type": "bar",
           "x": [
            "positive"
           ],
           "xaxis": "x",
           "y": [
            7
           ],
           "yaxis": "y"
          }
         ],
         "name": "6300"
        },
        {
         "data": [
          {
           "alignmentgroup": "True",
           "hovertemplate": "Sentiment=%{x}<br>time=6600<br>Count=%{y}<extra></extra>",
           "legendgroup": "negative",
           "marker": {
            "color": "red",
            "pattern": {
             "shape": ""
            }
           },
           "name": "negative",
           "offsetgroup": "negative",
           "orientation": "v",
           "showlegend": true,
           "textposition": "auto",
           "type": "bar",
           "x": [
            "negative"
           ],
           "xaxis": "x",
           "y": [
            1
           ],
           "yaxis": "y"
          },
          {
           "alignmentgroup": "True",
           "hovertemplate": "Sentiment=%{x}<br>time=6600<br>Count=%{y}<extra></extra>",
           "legendgroup": "neutral",
           "marker": {
            "color": "yellow",
            "pattern": {
             "shape": ""
            }
           },
           "name": "neutral",
           "offsetgroup": "neutral",
           "orientation": "v",
           "showlegend": true,
           "textposition": "auto",
           "type": "bar",
           "x": [
            "neutral"
           ],
           "xaxis": "x",
           "y": [
            3
           ],
           "yaxis": "y"
          },
          {
           "alignmentgroup": "True",
           "hovertemplate": "Sentiment=%{x}<br>time=6600<br>Count=%{y}<extra></extra>",
           "legendgroup": "positive",
           "marker": {
            "color": "green",
            "pattern": {
             "shape": ""
            }
           },
           "name": "positive",
           "offsetgroup": "positive",
           "orientation": "v",
           "showlegend": true,
           "textposition": "auto",
           "type": "bar",
           "x": [
            "positive"
           ],
           "xaxis": "x",
           "y": [
            3
           ],
           "yaxis": "y"
          }
         ],
         "name": "6600"
        },
        {
         "data": [
          {
           "alignmentgroup": "True",
           "hovertemplate": "Sentiment=%{x}<br>time=6900<br>Count=%{y}<extra></extra>",
           "legendgroup": "negative",
           "marker": {
            "color": "red",
            "pattern": {
             "shape": ""
            }
           },
           "name": "negative",
           "offsetgroup": "negative",
           "orientation": "v",
           "showlegend": true,
           "textposition": "auto",
           "type": "bar",
           "x": [
            "negative"
           ],
           "xaxis": "x",
           "y": [
            0
           ],
           "yaxis": "y"
          },
          {
           "alignmentgroup": "True",
           "hovertemplate": "Sentiment=%{x}<br>time=6900<br>Count=%{y}<extra></extra>",
           "legendgroup": "neutral",
           "marker": {
            "color": "yellow",
            "pattern": {
             "shape": ""
            }
           },
           "name": "neutral",
           "offsetgroup": "neutral",
           "orientation": "v",
           "showlegend": true,
           "textposition": "auto",
           "type": "bar",
           "x": [
            "neutral"
           ],
           "xaxis": "x",
           "y": [
            3
           ],
           "yaxis": "y"
          },
          {
           "alignmentgroup": "True",
           "hovertemplate": "Sentiment=%{x}<br>time=6900<br>Count=%{y}<extra></extra>",
           "legendgroup": "positive",
           "marker": {
            "color": "green",
            "pattern": {
             "shape": ""
            }
           },
           "name": "positive",
           "offsetgroup": "positive",
           "orientation": "v",
           "showlegend": true,
           "textposition": "auto",
           "type": "bar",
           "x": [
            "positive"
           ],
           "xaxis": "x",
           "y": [
            1
           ],
           "yaxis": "y"
          }
         ],
         "name": "6900"
        },
        {
         "data": [
          {
           "alignmentgroup": "True",
           "hovertemplate": "Sentiment=%{x}<br>time=7200<br>Count=%{y}<extra></extra>",
           "legendgroup": "negative",
           "marker": {
            "color": "red",
            "pattern": {
             "shape": ""
            }
           },
           "name": "negative",
           "offsetgroup": "negative",
           "orientation": "v",
           "showlegend": true,
           "textposition": "auto",
           "type": "bar",
           "x": [
            "negative"
           ],
           "xaxis": "x",
           "y": [
            0
           ],
           "yaxis": "y"
          },
          {
           "alignmentgroup": "True",
           "hovertemplate": "Sentiment=%{x}<br>time=7200<br>Count=%{y}<extra></extra>",
           "legendgroup": "neutral",
           "marker": {
            "color": "yellow",
            "pattern": {
             "shape": ""
            }
           },
           "name": "neutral",
           "offsetgroup": "neutral",
           "orientation": "v",
           "showlegend": true,
           "textposition": "auto",
           "type": "bar",
           "x": [
            "neutral"
           ],
           "xaxis": "x",
           "y": [
            3
           ],
           "yaxis": "y"
          },
          {
           "alignmentgroup": "True",
           "hovertemplate": "Sentiment=%{x}<br>time=7200<br>Count=%{y}<extra></extra>",
           "legendgroup": "positive",
           "marker": {
            "color": "green",
            "pattern": {
             "shape": ""
            }
           },
           "name": "positive",
           "offsetgroup": "positive",
           "orientation": "v",
           "showlegend": true,
           "textposition": "auto",
           "type": "bar",
           "x": [
            "positive"
           ],
           "xaxis": "x",
           "y": [
            7
           ],
           "yaxis": "y"
          }
         ],
         "name": "7200"
        },
        {
         "data": [
          {
           "alignmentgroup": "True",
           "hovertemplate": "Sentiment=%{x}<br>time=7500<br>Count=%{y}<extra></extra>",
           "legendgroup": "negative",
           "marker": {
            "color": "red",
            "pattern": {
             "shape": ""
            }
           },
           "name": "negative",
           "offsetgroup": "negative",
           "orientation": "v",
           "showlegend": true,
           "textposition": "auto",
           "type": "bar",
           "x": [
            "negative"
           ],
           "xaxis": "x",
           "y": [
            6
           ],
           "yaxis": "y"
          },
          {
           "alignmentgroup": "True",
           "hovertemplate": "Sentiment=%{x}<br>time=7500<br>Count=%{y}<extra></extra>",
           "legendgroup": "neutral",
           "marker": {
            "color": "yellow",
            "pattern": {
             "shape": ""
            }
           },
           "name": "neutral",
           "offsetgroup": "neutral",
           "orientation": "v",
           "showlegend": true,
           "textposition": "auto",
           "type": "bar",
           "x": [
            "neutral"
           ],
           "xaxis": "x",
           "y": [
            6
           ],
           "yaxis": "y"
          },
          {
           "alignmentgroup": "True",
           "hovertemplate": "Sentiment=%{x}<br>time=7500<br>Count=%{y}<extra></extra>",
           "legendgroup": "positive",
           "marker": {
            "color": "green",
            "pattern": {
             "shape": ""
            }
           },
           "name": "positive",
           "offsetgroup": "positive",
           "orientation": "v",
           "showlegend": true,
           "textposition": "auto",
           "type": "bar",
           "x": [
            "positive"
           ],
           "xaxis": "x",
           "y": [
            3
           ],
           "yaxis": "y"
          }
         ],
         "name": "7500"
        },
        {
         "data": [
          {
           "alignmentgroup": "True",
           "hovertemplate": "Sentiment=%{x}<br>time=7800<br>Count=%{y}<extra></extra>",
           "legendgroup": "negative",
           "marker": {
            "color": "red",
            "pattern": {
             "shape": ""
            }
           },
           "name": "negative",
           "offsetgroup": "negative",
           "orientation": "v",
           "showlegend": true,
           "textposition": "auto",
           "type": "bar",
           "x": [
            "negative"
           ],
           "xaxis": "x",
           "y": [
            6
           ],
           "yaxis": "y"
          },
          {
           "alignmentgroup": "True",
           "hovertemplate": "Sentiment=%{x}<br>time=7800<br>Count=%{y}<extra></extra>",
           "legendgroup": "neutral",
           "marker": {
            "color": "yellow",
            "pattern": {
             "shape": ""
            }
           },
           "name": "neutral",
           "offsetgroup": "neutral",
           "orientation": "v",
           "showlegend": true,
           "textposition": "auto",
           "type": "bar",
           "x": [
            "neutral"
           ],
           "xaxis": "x",
           "y": [
            2
           ],
           "yaxis": "y"
          },
          {
           "alignmentgroup": "True",
           "hovertemplate": "Sentiment=%{x}<br>time=7800<br>Count=%{y}<extra></extra>",
           "legendgroup": "positive",
           "marker": {
            "color": "green",
            "pattern": {
             "shape": ""
            }
           },
           "name": "positive",
           "offsetgroup": "positive",
           "orientation": "v",
           "showlegend": true,
           "textposition": "auto",
           "type": "bar",
           "x": [
            "positive"
           ],
           "xaxis": "x",
           "y": [
            0
           ],
           "yaxis": "y"
          }
         ],
         "name": "7800"
        },
        {
         "data": [
          {
           "alignmentgroup": "True",
           "hovertemplate": "Sentiment=%{x}<br>time=8100<br>Count=%{y}<extra></extra>",
           "legendgroup": "negative",
           "marker": {
            "color": "red",
            "pattern": {
             "shape": ""
            }
           },
           "name": "negative",
           "offsetgroup": "negative",
           "orientation": "v",
           "showlegend": true,
           "textposition": "auto",
           "type": "bar",
           "x": [
            "negative"
           ],
           "xaxis": "x",
           "y": [
            1
           ],
           "yaxis": "y"
          },
          {
           "alignmentgroup": "True",
           "hovertemplate": "Sentiment=%{x}<br>time=8100<br>Count=%{y}<extra></extra>",
           "legendgroup": "neutral",
           "marker": {
            "color": "yellow",
            "pattern": {
             "shape": ""
            }
           },
           "name": "neutral",
           "offsetgroup": "neutral",
           "orientation": "v",
           "showlegend": true,
           "textposition": "auto",
           "type": "bar",
           "x": [
            "neutral"
           ],
           "xaxis": "x",
           "y": [
            4
           ],
           "yaxis": "y"
          },
          {
           "alignmentgroup": "True",
           "hovertemplate": "Sentiment=%{x}<br>time=8100<br>Count=%{y}<extra></extra>",
           "legendgroup": "positive",
           "marker": {
            "color": "green",
            "pattern": {
             "shape": ""
            }
           },
           "name": "positive",
           "offsetgroup": "positive",
           "orientation": "v",
           "showlegend": true,
           "textposition": "auto",
           "type": "bar",
           "x": [
            "positive"
           ],
           "xaxis": "x",
           "y": [
            4
           ],
           "yaxis": "y"
          }
         ],
         "name": "8100"
        },
        {
         "data": [
          {
           "alignmentgroup": "True",
           "hovertemplate": "Sentiment=%{x}<br>time=8400<br>Count=%{y}<extra></extra>",
           "legendgroup": "negative",
           "marker": {
            "color": "red",
            "pattern": {
             "shape": ""
            }
           },
           "name": "negative",
           "offsetgroup": "negative",
           "orientation": "v",
           "showlegend": true,
           "textposition": "auto",
           "type": "bar",
           "x": [
            "negative"
           ],
           "xaxis": "x",
           "y": [
            0
           ],
           "yaxis": "y"
          },
          {
           "alignmentgroup": "True",
           "hovertemplate": "Sentiment=%{x}<br>time=8400<br>Count=%{y}<extra></extra>",
           "legendgroup": "neutral",
           "marker": {
            "color": "yellow",
            "pattern": {
             "shape": ""
            }
           },
           "name": "neutral",
           "offsetgroup": "neutral",
           "orientation": "v",
           "showlegend": true,
           "textposition": "auto",
           "type": "bar",
           "x": [
            "neutral"
           ],
           "xaxis": "x",
           "y": [
            1
           ],
           "yaxis": "y"
          },
          {
           "alignmentgroup": "True",
           "hovertemplate": "Sentiment=%{x}<br>time=8400<br>Count=%{y}<extra></extra>",
           "legendgroup": "positive",
           "marker": {
            "color": "green",
            "pattern": {
             "shape": ""
            }
           },
           "name": "positive",
           "offsetgroup": "positive",
           "orientation": "v",
           "showlegend": true,
           "textposition": "auto",
           "type": "bar",
           "x": [
            "positive"
           ],
           "xaxis": "x",
           "y": [
            0
           ],
           "yaxis": "y"
          }
         ],
         "name": "8400"
        },
        {
         "data": [
          {
           "alignmentgroup": "True",
           "hovertemplate": "Sentiment=%{x}<br>time=8700<br>Count=%{y}<extra></extra>",
           "legendgroup": "negative",
           "marker": {
            "color": "red",
            "pattern": {
             "shape": ""
            }
           },
           "name": "negative",
           "offsetgroup": "negative",
           "orientation": "v",
           "showlegend": true,
           "textposition": "auto",
           "type": "bar",
           "x": [
            "negative"
           ],
           "xaxis": "x",
           "y": [
            0
           ],
           "yaxis": "y"
          },
          {
           "alignmentgroup": "True",
           "hovertemplate": "Sentiment=%{x}<br>time=8700<br>Count=%{y}<extra></extra>",
           "legendgroup": "neutral",
           "marker": {
            "color": "yellow",
            "pattern": {
             "shape": ""
            }
           },
           "name": "neutral",
           "offsetgroup": "neutral",
           "orientation": "v",
           "showlegend": true,
           "textposition": "auto",
           "type": "bar",
           "x": [
            "neutral"
           ],
           "xaxis": "x",
           "y": [
            1
           ],
           "yaxis": "y"
          },
          {
           "alignmentgroup": "True",
           "hovertemplate": "Sentiment=%{x}<br>time=8700<br>Count=%{y}<extra></extra>",
           "legendgroup": "positive",
           "marker": {
            "color": "green",
            "pattern": {
             "shape": ""
            }
           },
           "name": "positive",
           "offsetgroup": "positive",
           "orientation": "v",
           "showlegend": true,
           "textposition": "auto",
           "type": "bar",
           "x": [
            "positive"
           ],
           "xaxis": "x",
           "y": [
            0
           ],
           "yaxis": "y"
          }
         ],
         "name": "8700"
        },
        {
         "data": [
          {
           "alignmentgroup": "True",
           "hovertemplate": "Sentiment=%{x}<br>time=9000<br>Count=%{y}<extra></extra>",
           "legendgroup": "negative",
           "marker": {
            "color": "red",
            "pattern": {
             "shape": ""
            }
           },
           "name": "negative",
           "offsetgroup": "negative",
           "orientation": "v",
           "showlegend": true,
           "textposition": "auto",
           "type": "bar",
           "x": [
            "negative"
           ],
           "xaxis": "x",
           "y": [
            0
           ],
           "yaxis": "y"
          },
          {
           "alignmentgroup": "True",
           "hovertemplate": "Sentiment=%{x}<br>time=9000<br>Count=%{y}<extra></extra>",
           "legendgroup": "neutral",
           "marker": {
            "color": "yellow",
            "pattern": {
             "shape": ""
            }
           },
           "name": "neutral",
           "offsetgroup": "neutral",
           "orientation": "v",
           "showlegend": true,
           "textposition": "auto",
           "type": "bar",
           "x": [
            "neutral"
           ],
           "xaxis": "x",
           "y": [
            1
           ],
           "yaxis": "y"
          },
          {
           "alignmentgroup": "True",
           "hovertemplate": "Sentiment=%{x}<br>time=9000<br>Count=%{y}<extra></extra>",
           "legendgroup": "positive",
           "marker": {
            "color": "green",
            "pattern": {
             "shape": ""
            }
           },
           "name": "positive",
           "offsetgroup": "positive",
           "orientation": "v",
           "showlegend": true,
           "textposition": "auto",
           "type": "bar",
           "x": [
            "positive"
           ],
           "xaxis": "x",
           "y": [
            0
           ],
           "yaxis": "y"
          }
         ],
         "name": "9000"
        },
        {
         "data": [
          {
           "alignmentgroup": "True",
           "hovertemplate": "Sentiment=%{x}<br>time=9300<br>Count=%{y}<extra></extra>",
           "legendgroup": "negative",
           "marker": {
            "color": "red",
            "pattern": {
             "shape": ""
            }
           },
           "name": "negative",
           "offsetgroup": "negative",
           "orientation": "v",
           "showlegend": true,
           "textposition": "auto",
           "type": "bar",
           "x": [
            "negative"
           ],
           "xaxis": "x",
           "y": [
            0
           ],
           "yaxis": "y"
          },
          {
           "alignmentgroup": "True",
           "hovertemplate": "Sentiment=%{x}<br>time=9300<br>Count=%{y}<extra></extra>",
           "legendgroup": "neutral",
           "marker": {
            "color": "yellow",
            "pattern": {
             "shape": ""
            }
           },
           "name": "neutral",
           "offsetgroup": "neutral",
           "orientation": "v",
           "showlegend": true,
           "textposition": "auto",
           "type": "bar",
           "x": [
            "neutral"
           ],
           "xaxis": "x",
           "y": [
            2
           ],
           "yaxis": "y"
          },
          {
           "alignmentgroup": "True",
           "hovertemplate": "Sentiment=%{x}<br>time=9300<br>Count=%{y}<extra></extra>",
           "legendgroup": "positive",
           "marker": {
            "color": "green",
            "pattern": {
             "shape": ""
            }
           },
           "name": "positive",
           "offsetgroup": "positive",
           "orientation": "v",
           "showlegend": true,
           "textposition": "auto",
           "type": "bar",
           "x": [
            "positive"
           ],
           "xaxis": "x",
           "y": [
            0
           ],
           "yaxis": "y"
          }
         ],
         "name": "9300"
        },
        {
         "data": [
          {
           "alignmentgroup": "True",
           "hovertemplate": "Sentiment=%{x}<br>time=9600<br>Count=%{y}<extra></extra>",
           "legendgroup": "negative",
           "marker": {
            "color": "red",
            "pattern": {
             "shape": ""
            }
           },
           "name": "negative",
           "offsetgroup": "negative",
           "orientation": "v",
           "showlegend": true,
           "textposition": "auto",
           "type": "bar",
           "x": [
            "negative"
           ],
           "xaxis": "x",
           "y": [
            4
           ],
           "yaxis": "y"
          },
          {
           "alignmentgroup": "True",
           "hovertemplate": "Sentiment=%{x}<br>time=9600<br>Count=%{y}<extra></extra>",
           "legendgroup": "neutral",
           "marker": {
            "color": "yellow",
            "pattern": {
             "shape": ""
            }
           },
           "name": "neutral",
           "offsetgroup": "neutral",
           "orientation": "v",
           "showlegend": true,
           "textposition": "auto",
           "type": "bar",
           "x": [
            "neutral"
           ],
           "xaxis": "x",
           "y": [
            6
           ],
           "yaxis": "y"
          },
          {
           "alignmentgroup": "True",
           "hovertemplate": "Sentiment=%{x}<br>time=9600<br>Count=%{y}<extra></extra>",
           "legendgroup": "positive",
           "marker": {
            "color": "green",
            "pattern": {
             "shape": ""
            }
           },
           "name": "positive",
           "offsetgroup": "positive",
           "orientation": "v",
           "showlegend": true,
           "textposition": "auto",
           "type": "bar",
           "x": [
            "positive"
           ],
           "xaxis": "x",
           "y": [
            4
           ],
           "yaxis": "y"
          }
         ],
         "name": "9600"
        },
        {
         "data": [
          {
           "alignmentgroup": "True",
           "hovertemplate": "Sentiment=%{x}<br>time=9900<br>Count=%{y}<extra></extra>",
           "legendgroup": "negative",
           "marker": {
            "color": "red",
            "pattern": {
             "shape": ""
            }
           },
           "name": "negative",
           "offsetgroup": "negative",
           "orientation": "v",
           "showlegend": true,
           "textposition": "auto",
           "type": "bar",
           "x": [
            "negative"
           ],
           "xaxis": "x",
           "y": [
            1
           ],
           "yaxis": "y"
          },
          {
           "alignmentgroup": "True",
           "hovertemplate": "Sentiment=%{x}<br>time=9900<br>Count=%{y}<extra></extra>",
           "legendgroup": "neutral",
           "marker": {
            "color": "yellow",
            "pattern": {
             "shape": ""
            }
           },
           "name": "neutral",
           "offsetgroup": "neutral",
           "orientation": "v",
           "showlegend": true,
           "textposition": "auto",
           "type": "bar",
           "x": [
            "neutral"
           ],
           "xaxis": "x",
           "y": [
            7
           ],
           "yaxis": "y"
          },
          {
           "alignmentgroup": "True",
           "hovertemplate": "Sentiment=%{x}<br>time=9900<br>Count=%{y}<extra></extra>",
           "legendgroup": "positive",
           "marker": {
            "color": "green",
            "pattern": {
             "shape": ""
            }
           },
           "name": "positive",
           "offsetgroup": "positive",
           "orientation": "v",
           "showlegend": true,
           "textposition": "auto",
           "type": "bar",
           "x": [
            "positive"
           ],
           "xaxis": "x",
           "y": [
            2
           ],
           "yaxis": "y"
          }
         ],
         "name": "9900"
        },
        {
         "data": [
          {
           "alignmentgroup": "True",
           "hovertemplate": "Sentiment=%{x}<br>time=10200<br>Count=%{y}<extra></extra>",
           "legendgroup": "negative",
           "marker": {
            "color": "red",
            "pattern": {
             "shape": ""
            }
           },
           "name": "negative",
           "offsetgroup": "negative",
           "orientation": "v",
           "showlegend": true,
           "textposition": "auto",
           "type": "bar",
           "x": [
            "negative"
           ],
           "xaxis": "x",
           "y": [
            3
           ],
           "yaxis": "y"
          },
          {
           "alignmentgroup": "True",
           "hovertemplate": "Sentiment=%{x}<br>time=10200<br>Count=%{y}<extra></extra>",
           "legendgroup": "neutral",
           "marker": {
            "color": "yellow",
            "pattern": {
             "shape": ""
            }
           },
           "name": "neutral",
           "offsetgroup": "neutral",
           "orientation": "v",
           "showlegend": true,
           "textposition": "auto",
           "type": "bar",
           "x": [
            "neutral"
           ],
           "xaxis": "x",
           "y": [
            3
           ],
           "yaxis": "y"
          },
          {
           "alignmentgroup": "True",
           "hovertemplate": "Sentiment=%{x}<br>time=10200<br>Count=%{y}<extra></extra>",
           "legendgroup": "positive",
           "marker": {
            "color": "green",
            "pattern": {
             "shape": ""
            }
           },
           "name": "positive",
           "offsetgroup": "positive",
           "orientation": "v",
           "showlegend": true,
           "textposition": "auto",
           "type": "bar",
           "x": [
            "positive"
           ],
           "xaxis": "x",
           "y": [
            1
           ],
           "yaxis": "y"
          }
         ],
         "name": "10200"
        },
        {
         "data": [
          {
           "alignmentgroup": "True",
           "hovertemplate": "Sentiment=%{x}<br>time=10500<br>Count=%{y}<extra></extra>",
           "legendgroup": "negative",
           "marker": {
            "color": "red",
            "pattern": {
             "shape": ""
            }
           },
           "name": "negative",
           "offsetgroup": "negative",
           "orientation": "v",
           "showlegend": true,
           "textposition": "auto",
           "type": "bar",
           "x": [
            "negative"
           ],
           "xaxis": "x",
           "y": [
            2
           ],
           "yaxis": "y"
          },
          {
           "alignmentgroup": "True",
           "hovertemplate": "Sentiment=%{x}<br>time=10500<br>Count=%{y}<extra></extra>",
           "legendgroup": "neutral",
           "marker": {
            "color": "yellow",
            "pattern": {
             "shape": ""
            }
           },
           "name": "neutral",
           "offsetgroup": "neutral",
           "orientation": "v",
           "showlegend": true,
           "textposition": "auto",
           "type": "bar",
           "x": [
            "neutral"
           ],
           "xaxis": "x",
           "y": [
            2
           ],
           "yaxis": "y"
          },
          {
           "alignmentgroup": "True",
           "hovertemplate": "Sentiment=%{x}<br>time=10500<br>Count=%{y}<extra></extra>",
           "legendgroup": "positive",
           "marker": {
            "color": "green",
            "pattern": {
             "shape": ""
            }
           },
           "name": "positive",
           "offsetgroup": "positive",
           "orientation": "v",
           "showlegend": true,
           "textposition": "auto",
           "type": "bar",
           "x": [
            "positive"
           ],
           "xaxis": "x",
           "y": [
            0
           ],
           "yaxis": "y"
          }
         ],
         "name": "10500"
        },
        {
         "data": [
          {
           "alignmentgroup": "True",
           "hovertemplate": "Sentiment=%{x}<br>time=10800<br>Count=%{y}<extra></extra>",
           "legendgroup": "negative",
           "marker": {
            "color": "red",
            "pattern": {
             "shape": ""
            }
           },
           "name": "negative",
           "offsetgroup": "negative",
           "orientation": "v",
           "showlegend": true,
           "textposition": "auto",
           "type": "bar",
           "x": [
            "negative"
           ],
           "xaxis": "x",
           "y": [
            0
           ],
           "yaxis": "y"
          },
          {
           "alignmentgroup": "True",
           "hovertemplate": "Sentiment=%{x}<br>time=10800<br>Count=%{y}<extra></extra>",
           "legendgroup": "neutral",
           "marker": {
            "color": "yellow",
            "pattern": {
             "shape": ""
            }
           },
           "name": "neutral",
           "offsetgroup": "neutral",
           "orientation": "v",
           "showlegend": true,
           "textposition": "auto",
           "type": "bar",
           "x": [
            "neutral"
           ],
           "xaxis": "x",
           "y": [
            2
           ],
           "yaxis": "y"
          },
          {
           "alignmentgroup": "True",
           "hovertemplate": "Sentiment=%{x}<br>time=10800<br>Count=%{y}<extra></extra>",
           "legendgroup": "positive",
           "marker": {
            "color": "green",
            "pattern": {
             "shape": ""
            }
           },
           "name": "positive",
           "offsetgroup": "positive",
           "orientation": "v",
           "showlegend": true,
           "textposition": "auto",
           "type": "bar",
           "x": [
            "positive"
           ],
           "xaxis": "x",
           "y": [
            0
           ],
           "yaxis": "y"
          }
         ],
         "name": "10800"
        },
        {
         "data": [
          {
           "alignmentgroup": "True",
           "hovertemplate": "Sentiment=%{x}<br>time=11100<br>Count=%{y}<extra></extra>",
           "legendgroup": "negative",
           "marker": {
            "color": "red",
            "pattern": {
             "shape": ""
            }
           },
           "name": "negative",
           "offsetgroup": "negative",
           "orientation": "v",
           "showlegend": true,
           "textposition": "auto",
           "type": "bar",
           "x": [
            "negative"
           ],
           "xaxis": "x",
           "y": [
            0
           ],
           "yaxis": "y"
          },
          {
           "alignmentgroup": "True",
           "hovertemplate": "Sentiment=%{x}<br>time=11100<br>Count=%{y}<extra></extra>",
           "legendgroup": "neutral",
           "marker": {
            "color": "yellow",
            "pattern": {
             "shape": ""
            }
           },
           "name": "neutral",
           "offsetgroup": "neutral",
           "orientation": "v",
           "showlegend": true,
           "textposition": "auto",
           "type": "bar",
           "x": [
            "neutral"
           ],
           "xaxis": "x",
           "y": [
            4
           ],
           "yaxis": "y"
          },
          {
           "alignmentgroup": "True",
           "hovertemplate": "Sentiment=%{x}<br>time=11100<br>Count=%{y}<extra></extra>",
           "legendgroup": "positive",
           "marker": {
            "color": "green",
            "pattern": {
             "shape": ""
            }
           },
           "name": "positive",
           "offsetgroup": "positive",
           "orientation": "v",
           "showlegend": true,
           "textposition": "auto",
           "type": "bar",
           "x": [
            "positive"
           ],
           "xaxis": "x",
           "y": [
            1
           ],
           "yaxis": "y"
          }
         ],
         "name": "11100"
        },
        {
         "data": [
          {
           "alignmentgroup": "True",
           "hovertemplate": "Sentiment=%{x}<br>time=11400<br>Count=%{y}<extra></extra>",
           "legendgroup": "negative",
           "marker": {
            "color": "red",
            "pattern": {
             "shape": ""
            }
           },
           "name": "negative",
           "offsetgroup": "negative",
           "orientation": "v",
           "showlegend": true,
           "textposition": "auto",
           "type": "bar",
           "x": [
            "negative"
           ],
           "xaxis": "x",
           "y": [
            3
           ],
           "yaxis": "y"
          },
          {
           "alignmentgroup": "True",
           "hovertemplate": "Sentiment=%{x}<br>time=11400<br>Count=%{y}<extra></extra>",
           "legendgroup": "neutral",
           "marker": {
            "color": "yellow",
            "pattern": {
             "shape": ""
            }
           },
           "name": "neutral",
           "offsetgroup": "neutral",
           "orientation": "v",
           "showlegend": true,
           "textposition": "auto",
           "type": "bar",
           "x": [
            "neutral"
           ],
           "xaxis": "x",
           "y": [
            3
           ],
           "yaxis": "y"
          },
          {
           "alignmentgroup": "True",
           "hovertemplate": "Sentiment=%{x}<br>time=11400<br>Count=%{y}<extra></extra>",
           "legendgroup": "positive",
           "marker": {
            "color": "green",
            "pattern": {
             "shape": ""
            }
           },
           "name": "positive",
           "offsetgroup": "positive",
           "orientation": "v",
           "showlegend": true,
           "textposition": "auto",
           "type": "bar",
           "x": [
            "positive"
           ],
           "xaxis": "x",
           "y": [
            2
           ],
           "yaxis": "y"
          }
         ],
         "name": "11400"
        },
        {
         "data": [
          {
           "alignmentgroup": "True",
           "hovertemplate": "Sentiment=%{x}<br>time=11700<br>Count=%{y}<extra></extra>",
           "legendgroup": "negative",
           "marker": {
            "color": "red",
            "pattern": {
             "shape": ""
            }
           },
           "name": "negative",
           "offsetgroup": "negative",
           "orientation": "v",
           "showlegend": true,
           "textposition": "auto",
           "type": "bar",
           "x": [
            "negative"
           ],
           "xaxis": "x",
           "y": [
            2
           ],
           "yaxis": "y"
          },
          {
           "alignmentgroup": "True",
           "hovertemplate": "Sentiment=%{x}<br>time=11700<br>Count=%{y}<extra></extra>",
           "legendgroup": "neutral",
           "marker": {
            "color": "yellow",
            "pattern": {
             "shape": ""
            }
           },
           "name": "neutral",
           "offsetgroup": "neutral",
           "orientation": "v",
           "showlegend": true,
           "textposition": "auto",
           "type": "bar",
           "x": [
            "neutral"
           ],
           "xaxis": "x",
           "y": [
            2
           ],
           "yaxis": "y"
          },
          {
           "alignmentgroup": "True",
           "hovertemplate": "Sentiment=%{x}<br>time=11700<br>Count=%{y}<extra></extra>",
           "legendgroup": "positive",
           "marker": {
            "color": "green",
            "pattern": {
             "shape": ""
            }
           },
           "name": "positive",
           "offsetgroup": "positive",
           "orientation": "v",
           "showlegend": true,
           "textposition": "auto",
           "type": "bar",
           "x": [
            "positive"
           ],
           "xaxis": "x",
           "y": [
            0
           ],
           "yaxis": "y"
          }
         ],
         "name": "11700"
        },
        {
         "data": [
          {
           "alignmentgroup": "True",
           "hovertemplate": "Sentiment=%{x}<br>time=12000<br>Count=%{y}<extra></extra>",
           "legendgroup": "negative",
           "marker": {
            "color": "red",
            "pattern": {
             "shape": ""
            }
           },
           "name": "negative",
           "offsetgroup": "negative",
           "orientation": "v",
           "showlegend": true,
           "textposition": "auto",
           "type": "bar",
           "x": [
            "negative"
           ],
           "xaxis": "x",
           "y": [
            2
           ],
           "yaxis": "y"
          },
          {
           "alignmentgroup": "True",
           "hovertemplate": "Sentiment=%{x}<br>time=12000<br>Count=%{y}<extra></extra>",
           "legendgroup": "neutral",
           "marker": {
            "color": "yellow",
            "pattern": {
             "shape": ""
            }
           },
           "name": "neutral",
           "offsetgroup": "neutral",
           "orientation": "v",
           "showlegend": true,
           "textposition": "auto",
           "type": "bar",
           "x": [
            "neutral"
           ],
           "xaxis": "x",
           "y": [
            2
           ],
           "yaxis": "y"
          },
          {
           "alignmentgroup": "True",
           "hovertemplate": "Sentiment=%{x}<br>time=12000<br>Count=%{y}<extra></extra>",
           "legendgroup": "positive",
           "marker": {
            "color": "green",
            "pattern": {
             "shape": ""
            }
           },
           "name": "positive",
           "offsetgroup": "positive",
           "orientation": "v",
           "showlegend": true,
           "textposition": "auto",
           "type": "bar",
           "x": [
            "positive"
           ],
           "xaxis": "x",
           "y": [
            1
           ],
           "yaxis": "y"
          }
         ],
         "name": "12000"
        },
        {
         "data": [
          {
           "alignmentgroup": "True",
           "hovertemplate": "Sentiment=%{x}<br>time=12300<br>Count=%{y}<extra></extra>",
           "legendgroup": "negative",
           "marker": {
            "color": "red",
            "pattern": {
             "shape": ""
            }
           },
           "name": "negative",
           "offsetgroup": "negative",
           "orientation": "v",
           "showlegend": true,
           "textposition": "auto",
           "type": "bar",
           "x": [
            "negative"
           ],
           "xaxis": "x",
           "y": [
            1
           ],
           "yaxis": "y"
          },
          {
           "alignmentgroup": "True",
           "hovertemplate": "Sentiment=%{x}<br>time=12300<br>Count=%{y}<extra></extra>",
           "legendgroup": "neutral",
           "marker": {
            "color": "yellow",
            "pattern": {
             "shape": ""
            }
           },
           "name": "neutral",
           "offsetgroup": "neutral",
           "orientation": "v",
           "showlegend": true,
           "textposition": "auto",
           "type": "bar",
           "x": [
            "neutral"
           ],
           "xaxis": "x",
           "y": [
            1
           ],
           "yaxis": "y"
          },
          {
           "alignmentgroup": "True",
           "hovertemplate": "Sentiment=%{x}<br>time=12300<br>Count=%{y}<extra></extra>",
           "legendgroup": "positive",
           "marker": {
            "color": "green",
            "pattern": {
             "shape": ""
            }
           },
           "name": "positive",
           "offsetgroup": "positive",
           "orientation": "v",
           "showlegend": true,
           "textposition": "auto",
           "type": "bar",
           "x": [
            "positive"
           ],
           "xaxis": "x",
           "y": [
            2
           ],
           "yaxis": "y"
          }
         ],
         "name": "12300"
        },
        {
         "data": [
          {
           "alignmentgroup": "True",
           "hovertemplate": "Sentiment=%{x}<br>time=12600<br>Count=%{y}<extra></extra>",
           "legendgroup": "negative",
           "marker": {
            "color": "red",
            "pattern": {
             "shape": ""
            }
           },
           "name": "negative",
           "offsetgroup": "negative",
           "orientation": "v",
           "showlegend": true,
           "textposition": "auto",
           "type": "bar",
           "x": [
            "negative"
           ],
           "xaxis": "x",
           "y": [
            0
           ],
           "yaxis": "y"
          },
          {
           "alignmentgroup": "True",
           "hovertemplate": "Sentiment=%{x}<br>time=12600<br>Count=%{y}<extra></extra>",
           "legendgroup": "neutral",
           "marker": {
            "color": "yellow",
            "pattern": {
             "shape": ""
            }
           },
           "name": "neutral",
           "offsetgroup": "neutral",
           "orientation": "v",
           "showlegend": true,
           "textposition": "auto",
           "type": "bar",
           "x": [
            "neutral"
           ],
           "xaxis": "x",
           "y": [
            6
           ],
           "yaxis": "y"
          },
          {
           "alignmentgroup": "True",
           "hovertemplate": "Sentiment=%{x}<br>time=12600<br>Count=%{y}<extra></extra>",
           "legendgroup": "positive",
           "marker": {
            "color": "green",
            "pattern": {
             "shape": ""
            }
           },
           "name": "positive",
           "offsetgroup": "positive",
           "orientation": "v",
           "showlegend": true,
           "textposition": "auto",
           "type": "bar",
           "x": [
            "positive"
           ],
           "xaxis": "x",
           "y": [
            0
           ],
           "yaxis": "y"
          }
         ],
         "name": "12600"
        },
        {
         "data": [
          {
           "alignmentgroup": "True",
           "hovertemplate": "Sentiment=%{x}<br>time=12900<br>Count=%{y}<extra></extra>",
           "legendgroup": "negative",
           "marker": {
            "color": "red",
            "pattern": {
             "shape": ""
            }
           },
           "name": "negative",
           "offsetgroup": "negative",
           "orientation": "v",
           "showlegend": true,
           "textposition": "auto",
           "type": "bar",
           "x": [
            "negative"
           ],
           "xaxis": "x",
           "y": [
            0
           ],
           "yaxis": "y"
          },
          {
           "alignmentgroup": "True",
           "hovertemplate": "Sentiment=%{x}<br>time=12900<br>Count=%{y}<extra></extra>",
           "legendgroup": "neutral",
           "marker": {
            "color": "yellow",
            "pattern": {
             "shape": ""
            }
           },
           "name": "neutral",
           "offsetgroup": "neutral",
           "orientation": "v",
           "showlegend": true,
           "textposition": "auto",
           "type": "bar",
           "x": [
            "neutral"
           ],
           "xaxis": "x",
           "y": [
            0
           ],
           "yaxis": "y"
          },
          {
           "alignmentgroup": "True",
           "hovertemplate": "Sentiment=%{x}<br>time=12900<br>Count=%{y}<extra></extra>",
           "legendgroup": "positive",
           "marker": {
            "color": "green",
            "pattern": {
             "shape": ""
            }
           },
           "name": "positive",
           "offsetgroup": "positive",
           "orientation": "v",
           "showlegend": true,
           "textposition": "auto",
           "type": "bar",
           "x": [
            "positive"
           ],
           "xaxis": "x",
           "y": [
            0
           ],
           "yaxis": "y"
          }
         ],
         "name": "12900"
        },
        {
         "data": [
          {
           "alignmentgroup": "True",
           "hovertemplate": "Sentiment=%{x}<br>time=13200<br>Count=%{y}<extra></extra>",
           "legendgroup": "negative",
           "marker": {
            "color": "red",
            "pattern": {
             "shape": ""
            }
           },
           "name": "negative",
           "offsetgroup": "negative",
           "orientation": "v",
           "showlegend": true,
           "textposition": "auto",
           "type": "bar",
           "x": [
            "negative"
           ],
           "xaxis": "x",
           "y": [
            0
           ],
           "yaxis": "y"
          },
          {
           "alignmentgroup": "True",
           "hovertemplate": "Sentiment=%{x}<br>time=13200<br>Count=%{y}<extra></extra>",
           "legendgroup": "neutral",
           "marker": {
            "color": "yellow",
            "pattern": {
             "shape": ""
            }
           },
           "name": "neutral",
           "offsetgroup": "neutral",
           "orientation": "v",
           "showlegend": true,
           "textposition": "auto",
           "type": "bar",
           "x": [
            "neutral"
           ],
           "xaxis": "x",
           "y": [
            1
           ],
           "yaxis": "y"
          },
          {
           "alignmentgroup": "True",
           "hovertemplate": "Sentiment=%{x}<br>time=13200<br>Count=%{y}<extra></extra>",
           "legendgroup": "positive",
           "marker": {
            "color": "green",
            "pattern": {
             "shape": ""
            }
           },
           "name": "positive",
           "offsetgroup": "positive",
           "orientation": "v",
           "showlegend": true,
           "textposition": "auto",
           "type": "bar",
           "x": [
            "positive"
           ],
           "xaxis": "x",
           "y": [
            0
           ],
           "yaxis": "y"
          }
         ],
         "name": "13200"
        },
        {
         "data": [
          {
           "alignmentgroup": "True",
           "hovertemplate": "Sentiment=%{x}<br>time=13500<br>Count=%{y}<extra></extra>",
           "legendgroup": "negative",
           "marker": {
            "color": "red",
            "pattern": {
             "shape": ""
            }
           },
           "name": "negative",
           "offsetgroup": "negative",
           "orientation": "v",
           "showlegend": true,
           "textposition": "auto",
           "type": "bar",
           "x": [
            "negative"
           ],
           "xaxis": "x",
           "y": [
            0
           ],
           "yaxis": "y"
          },
          {
           "alignmentgroup": "True",
           "hovertemplate": "Sentiment=%{x}<br>time=13500<br>Count=%{y}<extra></extra>",
           "legendgroup": "neutral",
           "marker": {
            "color": "yellow",
            "pattern": {
             "shape": ""
            }
           },
           "name": "neutral",
           "offsetgroup": "neutral",
           "orientation": "v",
           "showlegend": true,
           "textposition": "auto",
           "type": "bar",
           "x": [
            "neutral"
           ],
           "xaxis": "x",
           "y": [
            2
           ],
           "yaxis": "y"
          },
          {
           "alignmentgroup": "True",
           "hovertemplate": "Sentiment=%{x}<br>time=13500<br>Count=%{y}<extra></extra>",
           "legendgroup": "positive",
           "marker": {
            "color": "green",
            "pattern": {
             "shape": ""
            }
           },
           "name": "positive",
           "offsetgroup": "positive",
           "orientation": "v",
           "showlegend": true,
           "textposition": "auto",
           "type": "bar",
           "x": [
            "positive"
           ],
           "xaxis": "x",
           "y": [
            0
           ],
           "yaxis": "y"
          }
         ],
         "name": "13500"
        },
        {
         "data": [
          {
           "alignmentgroup": "True",
           "hovertemplate": "Sentiment=%{x}<br>time=13800<br>Count=%{y}<extra></extra>",
           "legendgroup": "negative",
           "marker": {
            "color": "red",
            "pattern": {
             "shape": ""
            }
           },
           "name": "negative",
           "offsetgroup": "negative",
           "orientation": "v",
           "showlegend": true,
           "textposition": "auto",
           "type": "bar",
           "x": [
            "negative"
           ],
           "xaxis": "x",
           "y": [
            2
           ],
           "yaxis": "y"
          },
          {
           "alignmentgroup": "True",
           "hovertemplate": "Sentiment=%{x}<br>time=13800<br>Count=%{y}<extra></extra>",
           "legendgroup": "neutral",
           "marker": {
            "color": "yellow",
            "pattern": {
             "shape": ""
            }
           },
           "name": "neutral",
           "offsetgroup": "neutral",
           "orientation": "v",
           "showlegend": true,
           "textposition": "auto",
           "type": "bar",
           "x": [
            "neutral"
           ],
           "xaxis": "x",
           "y": [
            2
           ],
           "yaxis": "y"
          },
          {
           "alignmentgroup": "True",
           "hovertemplate": "Sentiment=%{x}<br>time=13800<br>Count=%{y}<extra></extra>",
           "legendgroup": "positive",
           "marker": {
            "color": "green",
            "pattern": {
             "shape": ""
            }
           },
           "name": "positive",
           "offsetgroup": "positive",
           "orientation": "v",
           "showlegend": true,
           "textposition": "auto",
           "type": "bar",
           "x": [
            "positive"
           ],
           "xaxis": "x",
           "y": [
            0
           ],
           "yaxis": "y"
          }
         ],
         "name": "13800"
        },
        {
         "data": [
          {
           "alignmentgroup": "True",
           "hovertemplate": "Sentiment=%{x}<br>time=14100<br>Count=%{y}<extra></extra>",
           "legendgroup": "negative",
           "marker": {
            "color": "red",
            "pattern": {
             "shape": ""
            }
           },
           "name": "negative",
           "offsetgroup": "negative",
           "orientation": "v",
           "showlegend": true,
           "textposition": "auto",
           "type": "bar",
           "x": [
            "negative"
           ],
           "xaxis": "x",
           "y": [
            0
           ],
           "yaxis": "y"
          },
          {
           "alignmentgroup": "True",
           "hovertemplate": "Sentiment=%{x}<br>time=14100<br>Count=%{y}<extra></extra>",
           "legendgroup": "neutral",
           "marker": {
            "color": "yellow",
            "pattern": {
             "shape": ""
            }
           },
           "name": "neutral",
           "offsetgroup": "neutral",
           "orientation": "v",
           "showlegend": true,
           "textposition": "auto",
           "type": "bar",
           "x": [
            "neutral"
           ],
           "xaxis": "x",
           "y": [
            2
           ],
           "yaxis": "y"
          },
          {
           "alignmentgroup": "True",
           "hovertemplate": "Sentiment=%{x}<br>time=14100<br>Count=%{y}<extra></extra>",
           "legendgroup": "positive",
           "marker": {
            "color": "green",
            "pattern": {
             "shape": ""
            }
           },
           "name": "positive",
           "offsetgroup": "positive",
           "orientation": "v",
           "showlegend": true,
           "textposition": "auto",
           "type": "bar",
           "x": [
            "positive"
           ],
           "xaxis": "x",
           "y": [
            0
           ],
           "yaxis": "y"
          }
         ],
         "name": "14100"
        },
        {
         "data": [
          {
           "alignmentgroup": "True",
           "hovertemplate": "Sentiment=%{x}<br>time=14400<br>Count=%{y}<extra></extra>",
           "legendgroup": "negative",
           "marker": {
            "color": "red",
            "pattern": {
             "shape": ""
            }
           },
           "name": "negative",
           "offsetgroup": "negative",
           "orientation": "v",
           "showlegend": true,
           "textposition": "auto",
           "type": "bar",
           "x": [
            "negative"
           ],
           "xaxis": "x",
           "y": [
            0
           ],
           "yaxis": "y"
          },
          {
           "alignmentgroup": "True",
           "hovertemplate": "Sentiment=%{x}<br>time=14400<br>Count=%{y}<extra></extra>",
           "legendgroup": "neutral",
           "marker": {
            "color": "yellow",
            "pattern": {
             "shape": ""
            }
           },
           "name": "neutral",
           "offsetgroup": "neutral",
           "orientation": "v",
           "showlegend": true,
           "textposition": "auto",
           "type": "bar",
           "x": [
            "neutral"
           ],
           "xaxis": "x",
           "y": [
            0
           ],
           "yaxis": "y"
          },
          {
           "alignmentgroup": "True",
           "hovertemplate": "Sentiment=%{x}<br>time=14400<br>Count=%{y}<extra></extra>",
           "legendgroup": "positive",
           "marker": {
            "color": "green",
            "pattern": {
             "shape": ""
            }
           },
           "name": "positive",
           "offsetgroup": "positive",
           "orientation": "v",
           "showlegend": true,
           "textposition": "auto",
           "type": "bar",
           "x": [
            "positive"
           ],
           "xaxis": "x",
           "y": [
            0
           ],
           "yaxis": "y"
          }
         ],
         "name": "14400"
        },
        {
         "data": [
          {
           "alignmentgroup": "True",
           "hovertemplate": "Sentiment=%{x}<br>time=14700<br>Count=%{y}<extra></extra>",
           "legendgroup": "negative",
           "marker": {
            "color": "red",
            "pattern": {
             "shape": ""
            }
           },
           "name": "negative",
           "offsetgroup": "negative",
           "orientation": "v",
           "showlegend": true,
           "textposition": "auto",
           "type": "bar",
           "x": [
            "negative"
           ],
           "xaxis": "x",
           "y": [
            0
           ],
           "yaxis": "y"
          },
          {
           "alignmentgroup": "True",
           "hovertemplate": "Sentiment=%{x}<br>time=14700<br>Count=%{y}<extra></extra>",
           "legendgroup": "neutral",
           "marker": {
            "color": "yellow",
            "pattern": {
             "shape": ""
            }
           },
           "name": "neutral",
           "offsetgroup": "neutral",
           "orientation": "v",
           "showlegend": true,
           "textposition": "auto",
           "type": "bar",
           "x": [
            "neutral"
           ],
           "xaxis": "x",
           "y": [
            0
           ],
           "yaxis": "y"
          },
          {
           "alignmentgroup": "True",
           "hovertemplate": "Sentiment=%{x}<br>time=14700<br>Count=%{y}<extra></extra>",
           "legendgroup": "positive",
           "marker": {
            "color": "green",
            "pattern": {
             "shape": ""
            }
           },
           "name": "positive",
           "offsetgroup": "positive",
           "orientation": "v",
           "showlegend": true,
           "textposition": "auto",
           "type": "bar",
           "x": [
            "positive"
           ],
           "xaxis": "x",
           "y": [
            0
           ],
           "yaxis": "y"
          }
         ],
         "name": "14700"
        },
        {
         "data": [
          {
           "alignmentgroup": "True",
           "hovertemplate": "Sentiment=%{x}<br>time=15000<br>Count=%{y}<extra></extra>",
           "legendgroup": "negative",
           "marker": {
            "color": "red",
            "pattern": {
             "shape": ""
            }
           },
           "name": "negative",
           "offsetgroup": "negative",
           "orientation": "v",
           "showlegend": true,
           "textposition": "auto",
           "type": "bar",
           "x": [
            "negative"
           ],
           "xaxis": "x",
           "y": [
            0
           ],
           "yaxis": "y"
          },
          {
           "alignmentgroup": "True",
           "hovertemplate": "Sentiment=%{x}<br>time=15000<br>Count=%{y}<extra></extra>",
           "legendgroup": "neutral",
           "marker": {
            "color": "yellow",
            "pattern": {
             "shape": ""
            }
           },
           "name": "neutral",
           "offsetgroup": "neutral",
           "orientation": "v",
           "showlegend": true,
           "textposition": "auto",
           "type": "bar",
           "x": [
            "neutral"
           ],
           "xaxis": "x",
           "y": [
            0
           ],
           "yaxis": "y"
          },
          {
           "alignmentgroup": "True",
           "hovertemplate": "Sentiment=%{x}<br>time=15000<br>Count=%{y}<extra></extra>",
           "legendgroup": "positive",
           "marker": {
            "color": "green",
            "pattern": {
             "shape": ""
            }
           },
           "name": "positive",
           "offsetgroup": "positive",
           "orientation": "v",
           "showlegend": true,
           "textposition": "auto",
           "type": "bar",
           "x": [
            "positive"
           ],
           "xaxis": "x",
           "y": [
            0
           ],
           "yaxis": "y"
          }
         ],
         "name": "15000"
        },
        {
         "data": [
          {
           "alignmentgroup": "True",
           "hovertemplate": "Sentiment=%{x}<br>time=15300<br>Count=%{y}<extra></extra>",
           "legendgroup": "negative",
           "marker": {
            "color": "red",
            "pattern": {
             "shape": ""
            }
           },
           "name": "negative",
           "offsetgroup": "negative",
           "orientation": "v",
           "showlegend": true,
           "textposition": "auto",
           "type": "bar",
           "x": [
            "negative"
           ],
           "xaxis": "x",
           "y": [
            0
           ],
           "yaxis": "y"
          },
          {
           "alignmentgroup": "True",
           "hovertemplate": "Sentiment=%{x}<br>time=15300<br>Count=%{y}<extra></extra>",
           "legendgroup": "neutral",
           "marker": {
            "color": "yellow",
            "pattern": {
             "shape": ""
            }
           },
           "name": "neutral",
           "offsetgroup": "neutral",
           "orientation": "v",
           "showlegend": true,
           "textposition": "auto",
           "type": "bar",
           "x": [
            "neutral"
           ],
           "xaxis": "x",
           "y": [
            0
           ],
           "yaxis": "y"
          },
          {
           "alignmentgroup": "True",
           "hovertemplate": "Sentiment=%{x}<br>time=15300<br>Count=%{y}<extra></extra>",
           "legendgroup": "positive",
           "marker": {
            "color": "green",
            "pattern": {
             "shape": ""
            }
           },
           "name": "positive",
           "offsetgroup": "positive",
           "orientation": "v",
           "showlegend": true,
           "textposition": "auto",
           "type": "bar",
           "x": [
            "positive"
           ],
           "xaxis": "x",
           "y": [
            0
           ],
           "yaxis": "y"
          }
         ],
         "name": "15300"
        },
        {
         "data": [
          {
           "alignmentgroup": "True",
           "hovertemplate": "Sentiment=%{x}<br>time=15600<br>Count=%{y}<extra></extra>",
           "legendgroup": "negative",
           "marker": {
            "color": "red",
            "pattern": {
             "shape": ""
            }
           },
           "name": "negative",
           "offsetgroup": "negative",
           "orientation": "v",
           "showlegend": true,
           "textposition": "auto",
           "type": "bar",
           "x": [
            "negative"
           ],
           "xaxis": "x",
           "y": [
            0
           ],
           "yaxis": "y"
          },
          {
           "alignmentgroup": "True",
           "hovertemplate": "Sentiment=%{x}<br>time=15600<br>Count=%{y}<extra></extra>",
           "legendgroup": "neutral",
           "marker": {
            "color": "yellow",
            "pattern": {
             "shape": ""
            }
           },
           "name": "neutral",
           "offsetgroup": "neutral",
           "orientation": "v",
           "showlegend": true,
           "textposition": "auto",
           "type": "bar",
           "x": [
            "neutral"
           ],
           "xaxis": "x",
           "y": [
            3
           ],
           "yaxis": "y"
          },
          {
           "alignmentgroup": "True",
           "hovertemplate": "Sentiment=%{x}<br>time=15600<br>Count=%{y}<extra></extra>",
           "legendgroup": "positive",
           "marker": {
            "color": "green",
            "pattern": {
             "shape": ""
            }
           },
           "name": "positive",
           "offsetgroup": "positive",
           "orientation": "v",
           "showlegend": true,
           "textposition": "auto",
           "type": "bar",
           "x": [
            "positive"
           ],
           "xaxis": "x",
           "y": [
            3
           ],
           "yaxis": "y"
          }
         ],
         "name": "15600"
        },
        {
         "data": [
          {
           "alignmentgroup": "True",
           "hovertemplate": "Sentiment=%{x}<br>time=15900<br>Count=%{y}<extra></extra>",
           "legendgroup": "negative",
           "marker": {
            "color": "red",
            "pattern": {
             "shape": ""
            }
           },
           "name": "negative",
           "offsetgroup": "negative",
           "orientation": "v",
           "showlegend": true,
           "textposition": "auto",
           "type": "bar",
           "x": [
            "negative"
           ],
           "xaxis": "x",
           "y": [
            0
           ],
           "yaxis": "y"
          },
          {
           "alignmentgroup": "True",
           "hovertemplate": "Sentiment=%{x}<br>time=15900<br>Count=%{y}<extra></extra>",
           "legendgroup": "neutral",
           "marker": {
            "color": "yellow",
            "pattern": {
             "shape": ""
            }
           },
           "name": "neutral",
           "offsetgroup": "neutral",
           "orientation": "v",
           "showlegend": true,
           "textposition": "auto",
           "type": "bar",
           "x": [
            "neutral"
           ],
           "xaxis": "x",
           "y": [
            1
           ],
           "yaxis": "y"
          },
          {
           "alignmentgroup": "True",
           "hovertemplate": "Sentiment=%{x}<br>time=15900<br>Count=%{y}<extra></extra>",
           "legendgroup": "positive",
           "marker": {
            "color": "green",
            "pattern": {
             "shape": ""
            }
           },
           "name": "positive",
           "offsetgroup": "positive",
           "orientation": "v",
           "showlegend": true,
           "textposition": "auto",
           "type": "bar",
           "x": [
            "positive"
           ],
           "xaxis": "x",
           "y": [
            0
           ],
           "yaxis": "y"
          }
         ],
         "name": "15900"
        }
       ],
       "layout": {
        "barmode": "relative",
        "legend": {
         "title": {
          "text": "Sentiment"
         },
         "tracegroupgap": 0
        },
        "sliders": [
         {
          "active": 0,
          "currentvalue": {
           "prefix": "time="
          },
          "len": 0.9,
          "pad": {
           "b": 10,
           "t": 60
          },
          "steps": [
           {
            "args": [
             [
              "0"
             ],
             {
              "frame": {
               "duration": 0,
               "redraw": true
              },
              "fromcurrent": true,
              "mode": "immediate",
              "transition": {
               "duration": 0,
               "easing": "linear"
              }
             }
            ],
            "label": "0",
            "method": "animate"
           },
           {
            "args": [
             [
              "300"
             ],
             {
              "frame": {
               "duration": 0,
               "redraw": true
              },
              "fromcurrent": true,
              "mode": "immediate",
              "transition": {
               "duration": 0,
               "easing": "linear"
              }
             }
            ],
            "label": "300",
            "method": "animate"
           },
           {
            "args": [
             [
              "600"
             ],
             {
              "frame": {
               "duration": 0,
               "redraw": true
              },
              "fromcurrent": true,
              "mode": "immediate",
              "transition": {
               "duration": 0,
               "easing": "linear"
              }
             }
            ],
            "label": "600",
            "method": "animate"
           },
           {
            "args": [
             [
              "900"
             ],
             {
              "frame": {
               "duration": 0,
               "redraw": true
              },
              "fromcurrent": true,
              "mode": "immediate",
              "transition": {
               "duration": 0,
               "easing": "linear"
              }
             }
            ],
            "label": "900",
            "method": "animate"
           },
           {
            "args": [
             [
              "1200"
             ],
             {
              "frame": {
               "duration": 0,
               "redraw": true
              },
              "fromcurrent": true,
              "mode": "immediate",
              "transition": {
               "duration": 0,
               "easing": "linear"
              }
             }
            ],
            "label": "1200",
            "method": "animate"
           },
           {
            "args": [
             [
              "1500"
             ],
             {
              "frame": {
               "duration": 0,
               "redraw": true
              },
              "fromcurrent": true,
              "mode": "immediate",
              "transition": {
               "duration": 0,
               "easing": "linear"
              }
             }
            ],
            "label": "1500",
            "method": "animate"
           },
           {
            "args": [
             [
              "1800"
             ],
             {
              "frame": {
               "duration": 0,
               "redraw": true
              },
              "fromcurrent": true,
              "mode": "immediate",
              "transition": {
               "duration": 0,
               "easing": "linear"
              }
             }
            ],
            "label": "1800",
            "method": "animate"
           },
           {
            "args": [
             [
              "2100"
             ],
             {
              "frame": {
               "duration": 0,
               "redraw": true
              },
              "fromcurrent": true,
              "mode": "immediate",
              "transition": {
               "duration": 0,
               "easing": "linear"
              }
             }
            ],
            "label": "2100",
            "method": "animate"
           },
           {
            "args": [
             [
              "2400"
             ],
             {
              "frame": {
               "duration": 0,
               "redraw": true
              },
              "fromcurrent": true,
              "mode": "immediate",
              "transition": {
               "duration": 0,
               "easing": "linear"
              }
             }
            ],
            "label": "2400",
            "method": "animate"
           },
           {
            "args": [
             [
              "2700"
             ],
             {
              "frame": {
               "duration": 0,
               "redraw": true
              },
              "fromcurrent": true,
              "mode": "immediate",
              "transition": {
               "duration": 0,
               "easing": "linear"
              }
             }
            ],
            "label": "2700",
            "method": "animate"
           },
           {
            "args": [
             [
              "3000"
             ],
             {
              "frame": {
               "duration": 0,
               "redraw": true
              },
              "fromcurrent": true,
              "mode": "immediate",
              "transition": {
               "duration": 0,
               "easing": "linear"
              }
             }
            ],
            "label": "3000",
            "method": "animate"
           },
           {
            "args": [
             [
              "3300"
             ],
             {
              "frame": {
               "duration": 0,
               "redraw": true
              },
              "fromcurrent": true,
              "mode": "immediate",
              "transition": {
               "duration": 0,
               "easing": "linear"
              }
             }
            ],
            "label": "3300",
            "method": "animate"
           },
           {
            "args": [
             [
              "3600"
             ],
             {
              "frame": {
               "duration": 0,
               "redraw": true
              },
              "fromcurrent": true,
              "mode": "immediate",
              "transition": {
               "duration": 0,
               "easing": "linear"
              }
             }
            ],
            "label": "3600",
            "method": "animate"
           },
           {
            "args": [
             [
              "3900"
             ],
             {
              "frame": {
               "duration": 0,
               "redraw": true
              },
              "fromcurrent": true,
              "mode": "immediate",
              "transition": {
               "duration": 0,
               "easing": "linear"
              }
             }
            ],
            "label": "3900",
            "method": "animate"
           },
           {
            "args": [
             [
              "4200"
             ],
             {
              "frame": {
               "duration": 0,
               "redraw": true
              },
              "fromcurrent": true,
              "mode": "immediate",
              "transition": {
               "duration": 0,
               "easing": "linear"
              }
             }
            ],
            "label": "4200",
            "method": "animate"
           },
           {
            "args": [
             [
              "4500"
             ],
             {
              "frame": {
               "duration": 0,
               "redraw": true
              },
              "fromcurrent": true,
              "mode": "immediate",
              "transition": {
               "duration": 0,
               "easing": "linear"
              }
             }
            ],
            "label": "4500",
            "method": "animate"
           },
           {
            "args": [
             [
              "4800"
             ],
             {
              "frame": {
               "duration": 0,
               "redraw": true
              },
              "fromcurrent": true,
              "mode": "immediate",
              "transition": {
               "duration": 0,
               "easing": "linear"
              }
             }
            ],
            "label": "4800",
            "method": "animate"
           },
           {
            "args": [
             [
              "5100"
             ],
             {
              "frame": {
               "duration": 0,
               "redraw": true
              },
              "fromcurrent": true,
              "mode": "immediate",
              "transition": {
               "duration": 0,
               "easing": "linear"
              }
             }
            ],
            "label": "5100",
            "method": "animate"
           },
           {
            "args": [
             [
              "5400"
             ],
             {
              "frame": {
               "duration": 0,
               "redraw": true
              },
              "fromcurrent": true,
              "mode": "immediate",
              "transition": {
               "duration": 0,
               "easing": "linear"
              }
             }
            ],
            "label": "5400",
            "method": "animate"
           },
           {
            "args": [
             [
              "5700"
             ],
             {
              "frame": {
               "duration": 0,
               "redraw": true
              },
              "fromcurrent": true,
              "mode": "immediate",
              "transition": {
               "duration": 0,
               "easing": "linear"
              }
             }
            ],
            "label": "5700",
            "method": "animate"
           },
           {
            "args": [
             [
              "6000"
             ],
             {
              "frame": {
               "duration": 0,
               "redraw": true
              },
              "fromcurrent": true,
              "mode": "immediate",
              "transition": {
               "duration": 0,
               "easing": "linear"
              }
             }
            ],
            "label": "6000",
            "method": "animate"
           },
           {
            "args": [
             [
              "6300"
             ],
             {
              "frame": {
               "duration": 0,
               "redraw": true
              },
              "fromcurrent": true,
              "mode": "immediate",
              "transition": {
               "duration": 0,
               "easing": "linear"
              }
             }
            ],
            "label": "6300",
            "method": "animate"
           },
           {
            "args": [
             [
              "6600"
             ],
             {
              "frame": {
               "duration": 0,
               "redraw": true
              },
              "fromcurrent": true,
              "mode": "immediate",
              "transition": {
               "duration": 0,
               "easing": "linear"
              }
             }
            ],
            "label": "6600",
            "method": "animate"
           },
           {
            "args": [
             [
              "6900"
             ],
             {
              "frame": {
               "duration": 0,
               "redraw": true
              },
              "fromcurrent": true,
              "mode": "immediate",
              "transition": {
               "duration": 0,
               "easing": "linear"
              }
             }
            ],
            "label": "6900",
            "method": "animate"
           },
           {
            "args": [
             [
              "7200"
             ],
             {
              "frame": {
               "duration": 0,
               "redraw": true
              },
              "fromcurrent": true,
              "mode": "immediate",
              "transition": {
               "duration": 0,
               "easing": "linear"
              }
             }
            ],
            "label": "7200",
            "method": "animate"
           },
           {
            "args": [
             [
              "7500"
             ],
             {
              "frame": {
               "duration": 0,
               "redraw": true
              },
              "fromcurrent": true,
              "mode": "immediate",
              "transition": {
               "duration": 0,
               "easing": "linear"
              }
             }
            ],
            "label": "7500",
            "method": "animate"
           },
           {
            "args": [
             [
              "7800"
             ],
             {
              "frame": {
               "duration": 0,
               "redraw": true
              },
              "fromcurrent": true,
              "mode": "immediate",
              "transition": {
               "duration": 0,
               "easing": "linear"
              }
             }
            ],
            "label": "7800",
            "method": "animate"
           },
           {
            "args": [
             [
              "8100"
             ],
             {
              "frame": {
               "duration": 0,
               "redraw": true
              },
              "fromcurrent": true,
              "mode": "immediate",
              "transition": {
               "duration": 0,
               "easing": "linear"
              }
             }
            ],
            "label": "8100",
            "method": "animate"
           },
           {
            "args": [
             [
              "8400"
             ],
             {
              "frame": {
               "duration": 0,
               "redraw": true
              },
              "fromcurrent": true,
              "mode": "immediate",
              "transition": {
               "duration": 0,
               "easing": "linear"
              }
             }
            ],
            "label": "8400",
            "method": "animate"
           },
           {
            "args": [
             [
              "8700"
             ],
             {
              "frame": {
               "duration": 0,
               "redraw": true
              },
              "fromcurrent": true,
              "mode": "immediate",
              "transition": {
               "duration": 0,
               "easing": "linear"
              }
             }
            ],
            "label": "8700",
            "method": "animate"
           },
           {
            "args": [
             [
              "9000"
             ],
             {
              "frame": {
               "duration": 0,
               "redraw": true
              },
              "fromcurrent": true,
              "mode": "immediate",
              "transition": {
               "duration": 0,
               "easing": "linear"
              }
             }
            ],
            "label": "9000",
            "method": "animate"
           },
           {
            "args": [
             [
              "9300"
             ],
             {
              "frame": {
               "duration": 0,
               "redraw": true
              },
              "fromcurrent": true,
              "mode": "immediate",
              "transition": {
               "duration": 0,
               "easing": "linear"
              }
             }
            ],
            "label": "9300",
            "method": "animate"
           },
           {
            "args": [
             [
              "9600"
             ],
             {
              "frame": {
               "duration": 0,
               "redraw": true
              },
              "fromcurrent": true,
              "mode": "immediate",
              "transition": {
               "duration": 0,
               "easing": "linear"
              }
             }
            ],
            "label": "9600",
            "method": "animate"
           },
           {
            "args": [
             [
              "9900"
             ],
             {
              "frame": {
               "duration": 0,
               "redraw": true
              },
              "fromcurrent": true,
              "mode": "immediate",
              "transition": {
               "duration": 0,
               "easing": "linear"
              }
             }
            ],
            "label": "9900",
            "method": "animate"
           },
           {
            "args": [
             [
              "10200"
             ],
             {
              "frame": {
               "duration": 0,
               "redraw": true
              },
              "fromcurrent": true,
              "mode": "immediate",
              "transition": {
               "duration": 0,
               "easing": "linear"
              }
             }
            ],
            "label": "10200",
            "method": "animate"
           },
           {
            "args": [
             [
              "10500"
             ],
             {
              "frame": {
               "duration": 0,
               "redraw": true
              },
              "fromcurrent": true,
              "mode": "immediate",
              "transition": {
               "duration": 0,
               "easing": "linear"
              }
             }
            ],
            "label": "10500",
            "method": "animate"
           },
           {
            "args": [
             [
              "10800"
             ],
             {
              "frame": {
               "duration": 0,
               "redraw": true
              },
              "fromcurrent": true,
              "mode": "immediate",
              "transition": {
               "duration": 0,
               "easing": "linear"
              }
             }
            ],
            "label": "10800",
            "method": "animate"
           },
           {
            "args": [
             [
              "11100"
             ],
             {
              "frame": {
               "duration": 0,
               "redraw": true
              },
              "fromcurrent": true,
              "mode": "immediate",
              "transition": {
               "duration": 0,
               "easing": "linear"
              }
             }
            ],
            "label": "11100",
            "method": "animate"
           },
           {
            "args": [
             [
              "11400"
             ],
             {
              "frame": {
               "duration": 0,
               "redraw": true
              },
              "fromcurrent": true,
              "mode": "immediate",
              "transition": {
               "duration": 0,
               "easing": "linear"
              }
             }
            ],
            "label": "11400",
            "method": "animate"
           },
           {
            "args": [
             [
              "11700"
             ],
             {
              "frame": {
               "duration": 0,
               "redraw": true
              },
              "fromcurrent": true,
              "mode": "immediate",
              "transition": {
               "duration": 0,
               "easing": "linear"
              }
             }
            ],
            "label": "11700",
            "method": "animate"
           },
           {
            "args": [
             [
              "12000"
             ],
             {
              "frame": {
               "duration": 0,
               "redraw": true
              },
              "fromcurrent": true,
              "mode": "immediate",
              "transition": {
               "duration": 0,
               "easing": "linear"
              }
             }
            ],
            "label": "12000",
            "method": "animate"
           },
           {
            "args": [
             [
              "12300"
             ],
             {
              "frame": {
               "duration": 0,
               "redraw": true
              },
              "fromcurrent": true,
              "mode": "immediate",
              "transition": {
               "duration": 0,
               "easing": "linear"
              }
             }
            ],
            "label": "12300",
            "method": "animate"
           },
           {
            "args": [
             [
              "12600"
             ],
             {
              "frame": {
               "duration": 0,
               "redraw": true
              },
              "fromcurrent": true,
              "mode": "immediate",
              "transition": {
               "duration": 0,
               "easing": "linear"
              }
             }
            ],
            "label": "12600",
            "method": "animate"
           },
           {
            "args": [
             [
              "12900"
             ],
             {
              "frame": {
               "duration": 0,
               "redraw": true
              },
              "fromcurrent": true,
              "mode": "immediate",
              "transition": {
               "duration": 0,
               "easing": "linear"
              }
             }
            ],
            "label": "12900",
            "method": "animate"
           },
           {
            "args": [
             [
              "13200"
             ],
             {
              "frame": {
               "duration": 0,
               "redraw": true
              },
              "fromcurrent": true,
              "mode": "immediate",
              "transition": {
               "duration": 0,
               "easing": "linear"
              }
             }
            ],
            "label": "13200",
            "method": "animate"
           },
           {
            "args": [
             [
              "13500"
             ],
             {
              "frame": {
               "duration": 0,
               "redraw": true
              },
              "fromcurrent": true,
              "mode": "immediate",
              "transition": {
               "duration": 0,
               "easing": "linear"
              }
             }
            ],
            "label": "13500",
            "method": "animate"
           },
           {
            "args": [
             [
              "13800"
             ],
             {
              "frame": {
               "duration": 0,
               "redraw": true
              },
              "fromcurrent": true,
              "mode": "immediate",
              "transition": {
               "duration": 0,
               "easing": "linear"
              }
             }
            ],
            "label": "13800",
            "method": "animate"
           },
           {
            "args": [
             [
              "14100"
             ],
             {
              "frame": {
               "duration": 0,
               "redraw": true
              },
              "fromcurrent": true,
              "mode": "immediate",
              "transition": {
               "duration": 0,
               "easing": "linear"
              }
             }
            ],
            "label": "14100",
            "method": "animate"
           },
           {
            "args": [
             [
              "14400"
             ],
             {
              "frame": {
               "duration": 0,
               "redraw": true
              },
              "fromcurrent": true,
              "mode": "immediate",
              "transition": {
               "duration": 0,
               "easing": "linear"
              }
             }
            ],
            "label": "14400",
            "method": "animate"
           },
           {
            "args": [
             [
              "14700"
             ],
             {
              "frame": {
               "duration": 0,
               "redraw": true
              },
              "fromcurrent": true,
              "mode": "immediate",
              "transition": {
               "duration": 0,
               "easing": "linear"
              }
             }
            ],
            "label": "14700",
            "method": "animate"
           },
           {
            "args": [
             [
              "15000"
             ],
             {
              "frame": {
               "duration": 0,
               "redraw": true
              },
              "fromcurrent": true,
              "mode": "immediate",
              "transition": {
               "duration": 0,
               "easing": "linear"
              }
             }
            ],
            "label": "15000",
            "method": "animate"
           },
           {
            "args": [
             [
              "15300"
             ],
             {
              "frame": {
               "duration": 0,
               "redraw": true
              },
              "fromcurrent": true,
              "mode": "immediate",
              "transition": {
               "duration": 0,
               "easing": "linear"
              }
             }
            ],
            "label": "15300",
            "method": "animate"
           },
           {
            "args": [
             [
              "15600"
             ],
             {
              "frame": {
               "duration": 0,
               "redraw": true
              },
              "fromcurrent": true,
              "mode": "immediate",
              "transition": {
               "duration": 0,
               "easing": "linear"
              }
             }
            ],
            "label": "15600",
            "method": "animate"
           },
           {
            "args": [
             [
              "15900"
             ],
             {
              "frame": {
               "duration": 0,
               "redraw": true
              },
              "fromcurrent": true,
              "mode": "immediate",
              "transition": {
               "duration": 0,
               "easing": "linear"
              }
             }
            ],
            "label": "15900",
            "method": "animate"
           }
          ],
          "x": 0.1,
          "xanchor": "left",
          "y": 0,
          "yanchor": "top"
         }
        ],
        "template": {
         "data": {
          "bar": [
           {
            "error_x": {
             "color": "#2a3f5f"
            },
            "error_y": {
             "color": "#2a3f5f"
            },
            "marker": {
             "line": {
              "color": "#E5ECF6",
              "width": 0.5
             },
             "pattern": {
              "fillmode": "overlay",
              "size": 10,
              "solidity": 0.2
             }
            },
            "type": "bar"
           }
          ],
          "barpolar": [
           {
            "marker": {
             "line": {
              "color": "#E5ECF6",
              "width": 0.5
             },
             "pattern": {
              "fillmode": "overlay",
              "size": 10,
              "solidity": 0.2
             }
            },
            "type": "barpolar"
           }
          ],
          "carpet": [
           {
            "aaxis": {
             "endlinecolor": "#2a3f5f",
             "gridcolor": "white",
             "linecolor": "white",
             "minorgridcolor": "white",
             "startlinecolor": "#2a3f5f"
            },
            "baxis": {
             "endlinecolor": "#2a3f5f",
             "gridcolor": "white",
             "linecolor": "white",
             "minorgridcolor": "white",
             "startlinecolor": "#2a3f5f"
            },
            "type": "carpet"
           }
          ],
          "choropleth": [
           {
            "colorbar": {
             "outlinewidth": 0,
             "ticks": ""
            },
            "type": "choropleth"
           }
          ],
          "contour": [
           {
            "colorbar": {
             "outlinewidth": 0,
             "ticks": ""
            },
            "colorscale": [
             [
              0,
              "#0d0887"
             ],
             [
              0.1111111111111111,
              "#46039f"
             ],
             [
              0.2222222222222222,
              "#7201a8"
             ],
             [
              0.3333333333333333,
              "#9c179e"
             ],
             [
              0.4444444444444444,
              "#bd3786"
             ],
             [
              0.5555555555555556,
              "#d8576b"
             ],
             [
              0.6666666666666666,
              "#ed7953"
             ],
             [
              0.7777777777777778,
              "#fb9f3a"
             ],
             [
              0.8888888888888888,
              "#fdca26"
             ],
             [
              1,
              "#f0f921"
             ]
            ],
            "type": "contour"
           }
          ],
          "contourcarpet": [
           {
            "colorbar": {
             "outlinewidth": 0,
             "ticks": ""
            },
            "type": "contourcarpet"
           }
          ],
          "heatmap": [
           {
            "colorbar": {
             "outlinewidth": 0,
             "ticks": ""
            },
            "colorscale": [
             [
              0,
              "#0d0887"
             ],
             [
              0.1111111111111111,
              "#46039f"
             ],
             [
              0.2222222222222222,
              "#7201a8"
             ],
             [
              0.3333333333333333,
              "#9c179e"
             ],
             [
              0.4444444444444444,
              "#bd3786"
             ],
             [
              0.5555555555555556,
              "#d8576b"
             ],
             [
              0.6666666666666666,
              "#ed7953"
             ],
             [
              0.7777777777777778,
              "#fb9f3a"
             ],
             [
              0.8888888888888888,
              "#fdca26"
             ],
             [
              1,
              "#f0f921"
             ]
            ],
            "type": "heatmap"
           }
          ],
          "heatmapgl": [
           {
            "colorbar": {
             "outlinewidth": 0,
             "ticks": ""
            },
            "colorscale": [
             [
              0,
              "#0d0887"
             ],
             [
              0.1111111111111111,
              "#46039f"
             ],
             [
              0.2222222222222222,
              "#7201a8"
             ],
             [
              0.3333333333333333,
              "#9c179e"
             ],
             [
              0.4444444444444444,
              "#bd3786"
             ],
             [
              0.5555555555555556,
              "#d8576b"
             ],
             [
              0.6666666666666666,
              "#ed7953"
             ],
             [
              0.7777777777777778,
              "#fb9f3a"
             ],
             [
              0.8888888888888888,
              "#fdca26"
             ],
             [
              1,
              "#f0f921"
             ]
            ],
            "type": "heatmapgl"
           }
          ],
          "histogram": [
           {
            "marker": {
             "pattern": {
              "fillmode": "overlay",
              "size": 10,
              "solidity": 0.2
             }
            },
            "type": "histogram"
           }
          ],
          "histogram2d": [
           {
            "colorbar": {
             "outlinewidth": 0,
             "ticks": ""
            },
            "colorscale": [
             [
              0,
              "#0d0887"
             ],
             [
              0.1111111111111111,
              "#46039f"
             ],
             [
              0.2222222222222222,
              "#7201a8"
             ],
             [
              0.3333333333333333,
              "#9c179e"
             ],
             [
              0.4444444444444444,
              "#bd3786"
             ],
             [
              0.5555555555555556,
              "#d8576b"
             ],
             [
              0.6666666666666666,
              "#ed7953"
             ],
             [
              0.7777777777777778,
              "#fb9f3a"
             ],
             [
              0.8888888888888888,
              "#fdca26"
             ],
             [
              1,
              "#f0f921"
             ]
            ],
            "type": "histogram2d"
           }
          ],
          "histogram2dcontour": [
           {
            "colorbar": {
             "outlinewidth": 0,
             "ticks": ""
            },
            "colorscale": [
             [
              0,
              "#0d0887"
             ],
             [
              0.1111111111111111,
              "#46039f"
             ],
             [
              0.2222222222222222,
              "#7201a8"
             ],
             [
              0.3333333333333333,
              "#9c179e"
             ],
             [
              0.4444444444444444,
              "#bd3786"
             ],
             [
              0.5555555555555556,
              "#d8576b"
             ],
             [
              0.6666666666666666,
              "#ed7953"
             ],
             [
              0.7777777777777778,
              "#fb9f3a"
             ],
             [
              0.8888888888888888,
              "#fdca26"
             ],
             [
              1,
              "#f0f921"
             ]
            ],
            "type": "histogram2dcontour"
           }
          ],
          "mesh3d": [
           {
            "colorbar": {
             "outlinewidth": 0,
             "ticks": ""
            },
            "type": "mesh3d"
           }
          ],
          "parcoords": [
           {
            "line": {
             "colorbar": {
              "outlinewidth": 0,
              "ticks": ""
             }
            },
            "type": "parcoords"
           }
          ],
          "pie": [
           {
            "automargin": true,
            "type": "pie"
           }
          ],
          "scatter": [
           {
            "fillpattern": {
             "fillmode": "overlay",
             "size": 10,
             "solidity": 0.2
            },
            "type": "scatter"
           }
          ],
          "scatter3d": [
           {
            "line": {
             "colorbar": {
              "outlinewidth": 0,
              "ticks": ""
             }
            },
            "marker": {
             "colorbar": {
              "outlinewidth": 0,
              "ticks": ""
             }
            },
            "type": "scatter3d"
           }
          ],
          "scattercarpet": [
           {
            "marker": {
             "colorbar": {
              "outlinewidth": 0,
              "ticks": ""
             }
            },
            "type": "scattercarpet"
           }
          ],
          "scattergeo": [
           {
            "marker": {
             "colorbar": {
              "outlinewidth": 0,
              "ticks": ""
             }
            },
            "type": "scattergeo"
           }
          ],
          "scattergl": [
           {
            "marker": {
             "colorbar": {
              "outlinewidth": 0,
              "ticks": ""
             }
            },
            "type": "scattergl"
           }
          ],
          "scattermapbox": [
           {
            "marker": {
             "colorbar": {
              "outlinewidth": 0,
              "ticks": ""
             }
            },
            "type": "scattermapbox"
           }
          ],
          "scatterpolar": [
           {
            "marker": {
             "colorbar": {
              "outlinewidth": 0,
              "ticks": ""
             }
            },
            "type": "scatterpolar"
           }
          ],
          "scatterpolargl": [
           {
            "marker": {
             "colorbar": {
              "outlinewidth": 0,
              "ticks": ""
             }
            },
            "type": "scatterpolargl"
           }
          ],
          "scatterternary": [
           {
            "marker": {
             "colorbar": {
              "outlinewidth": 0,
              "ticks": ""
             }
            },
            "type": "scatterternary"
           }
          ],
          "surface": [
           {
            "colorbar": {
             "outlinewidth": 0,
             "ticks": ""
            },
            "colorscale": [
             [
              0,
              "#0d0887"
             ],
             [
              0.1111111111111111,
              "#46039f"
             ],
             [
              0.2222222222222222,
              "#7201a8"
             ],
             [
              0.3333333333333333,
              "#9c179e"
             ],
             [
              0.4444444444444444,
              "#bd3786"
             ],
             [
              0.5555555555555556,
              "#d8576b"
             ],
             [
              0.6666666666666666,
              "#ed7953"
             ],
             [
              0.7777777777777778,
              "#fb9f3a"
             ],
             [
              0.8888888888888888,
              "#fdca26"
             ],
             [
              1,
              "#f0f921"
             ]
            ],
            "type": "surface"
           }
          ],
          "table": [
           {
            "cells": {
             "fill": {
              "color": "#EBF0F8"
             },
             "line": {
              "color": "white"
             }
            },
            "header": {
             "fill": {
              "color": "#C8D4E3"
             },
             "line": {
              "color": "white"
             }
            },
            "type": "table"
           }
          ]
         },
         "layout": {
          "annotationdefaults": {
           "arrowcolor": "#2a3f5f",
           "arrowhead": 0,
           "arrowwidth": 1
          },
          "autotypenumbers": "strict",
          "coloraxis": {
           "colorbar": {
            "outlinewidth": 0,
            "ticks": ""
           }
          },
          "colorscale": {
           "diverging": [
            [
             0,
             "#8e0152"
            ],
            [
             0.1,
             "#c51b7d"
            ],
            [
             0.2,
             "#de77ae"
            ],
            [
             0.3,
             "#f1b6da"
            ],
            [
             0.4,
             "#fde0ef"
            ],
            [
             0.5,
             "#f7f7f7"
            ],
            [
             0.6,
             "#e6f5d0"
            ],
            [
             0.7,
             "#b8e186"
            ],
            [
             0.8,
             "#7fbc41"
            ],
            [
             0.9,
             "#4d9221"
            ],
            [
             1,
             "#276419"
            ]
           ],
           "sequential": [
            [
             0,
             "#0d0887"
            ],
            [
             0.1111111111111111,
             "#46039f"
            ],
            [
             0.2222222222222222,
             "#7201a8"
            ],
            [
             0.3333333333333333,
             "#9c179e"
            ],
            [
             0.4444444444444444,
             "#bd3786"
            ],
            [
             0.5555555555555556,
             "#d8576b"
            ],
            [
             0.6666666666666666,
             "#ed7953"
            ],
            [
             0.7777777777777778,
             "#fb9f3a"
            ],
            [
             0.8888888888888888,
             "#fdca26"
            ],
            [
             1,
             "#f0f921"
            ]
           ],
           "sequentialminus": [
            [
             0,
             "#0d0887"
            ],
            [
             0.1111111111111111,
             "#46039f"
            ],
            [
             0.2222222222222222,
             "#7201a8"
            ],
            [
             0.3333333333333333,
             "#9c179e"
            ],
            [
             0.4444444444444444,
             "#bd3786"
            ],
            [
             0.5555555555555556,
             "#d8576b"
            ],
            [
             0.6666666666666666,
             "#ed7953"
            ],
            [
             0.7777777777777778,
             "#fb9f3a"
            ],
            [
             0.8888888888888888,
             "#fdca26"
            ],
            [
             1,
             "#f0f921"
            ]
           ]
          },
          "colorway": [
           "#636efa",
           "#EF553B",
           "#00cc96",
           "#ab63fa",
           "#FFA15A",
           "#19d3f3",
           "#FF6692",
           "#B6E880",
           "#FF97FF",
           "#FECB52"
          ],
          "font": {
           "color": "#2a3f5f"
          },
          "geo": {
           "bgcolor": "white",
           "lakecolor": "white",
           "landcolor": "#E5ECF6",
           "showlakes": true,
           "showland": true,
           "subunitcolor": "white"
          },
          "hoverlabel": {
           "align": "left"
          },
          "hovermode": "closest",
          "mapbox": {
           "style": "light"
          },
          "paper_bgcolor": "white",
          "plot_bgcolor": "#E5ECF6",
          "polar": {
           "angularaxis": {
            "gridcolor": "white",
            "linecolor": "white",
            "ticks": ""
           },
           "bgcolor": "#E5ECF6",
           "radialaxis": {
            "gridcolor": "white",
            "linecolor": "white",
            "ticks": ""
           }
          },
          "scene": {
           "xaxis": {
            "backgroundcolor": "#E5ECF6",
            "gridcolor": "white",
            "gridwidth": 2,
            "linecolor": "white",
            "showbackground": true,
            "ticks": "",
            "zerolinecolor": "white"
           },
           "yaxis": {
            "backgroundcolor": "#E5ECF6",
            "gridcolor": "white",
            "gridwidth": 2,
            "linecolor": "white",
            "showbackground": true,
            "ticks": "",
            "zerolinecolor": "white"
           },
           "zaxis": {
            "backgroundcolor": "#E5ECF6",
            "gridcolor": "white",
            "gridwidth": 2,
            "linecolor": "white",
            "showbackground": true,
            "ticks": "",
            "zerolinecolor": "white"
           }
          },
          "shapedefaults": {
           "line": {
            "color": "#2a3f5f"
           }
          },
          "ternary": {
           "aaxis": {
            "gridcolor": "white",
            "linecolor": "white",
            "ticks": ""
           },
           "baxis": {
            "gridcolor": "white",
            "linecolor": "white",
            "ticks": ""
           },
           "bgcolor": "#E5ECF6",
           "caxis": {
            "gridcolor": "white",
            "linecolor": "white",
            "ticks": ""
           }
          },
          "title": {
           "x": 0.05
          },
          "xaxis": {
           "automargin": true,
           "gridcolor": "white",
           "linecolor": "white",
           "ticks": "",
           "title": {
            "standoff": 15
           },
           "zerolinecolor": "white",
           "zerolinewidth": 2
          },
          "yaxis": {
           "automargin": true,
           "gridcolor": "white",
           "linecolor": "white",
           "ticks": "",
           "title": {
            "standoff": 15
           },
           "zerolinecolor": "white",
           "zerolinewidth": 2
          }
         }
        },
        "title": {
         "text": "Sentiment Counts Throughout the Evening for the Protectors of Kronos (5 pm to 9:30 pm)"
        },
        "updatemenus": [
         {
          "buttons": [
           {
            "args": [
             null,
             {
              "frame": {
               "duration": 500,
               "redraw": true
              },
              "fromcurrent": true,
              "mode": "immediate",
              "transition": {
               "duration": 500,
               "easing": "linear"
              }
             }
            ],
            "label": "&#9654;",
            "method": "animate"
           },
           {
            "args": [
             [
              null
             ],
             {
              "frame": {
               "duration": 0,
               "redraw": true
              },
              "fromcurrent": true,
              "mode": "immediate",
              "transition": {
               "duration": 0,
               "easing": "linear"
              }
             }
            ],
            "label": "&#9724;",
            "method": "animate"
           }
          ],
          "direction": "left",
          "pad": {
           "r": 10,
           "t": 70
          },
          "showactive": false,
          "type": "buttons",
          "x": 0.1,
          "xanchor": "right",
          "y": 0,
          "yanchor": "top"
         }
        ],
        "xaxis": {
         "anchor": "y",
         "categoryarray": [
          "negative",
          "neutral",
          "positive"
         ],
         "categoryorder": "array",
         "domain": [
          0,
          1
         ],
         "title": {
          "text": "Sentiment"
         }
        },
        "yaxis": {
         "anchor": "x",
         "domain": [
          0,
          1
         ],
         "range": [
          0,
          100
         ],
         "title": {
          "text": "Count"
         }
        }
       }
      }
     },
     "metadata": {},
     "output_type": "display_data"
    }
   ],
   "source": [
    "fig = px.bar(\n",
    "    POK_sents_5min,\n",
    "    x='sentiment',\n",
    "    y='count',\n",
    "    color='sentiment',\n",
    "    color_discrete_sequence=['red', 'yellow', 'green'],\n",
    "    animation_frame='time',\n",
    "    labels={\n",
    "        'sentiment': 'Sentiment',\n",
    "        'count': 'Count'\n",
    "    },\n",
    "    title='Sentiment Counts Throughout the Evening for the Protectors of Kronos (5 pm to 9:30 pm)'\n",
    ")\n",
    "fig.update_layout(yaxis_range=[0, 100])\n",
    "fig.show()"
   ]
  },
  {
   "cell_type": "code",
   "execution_count": 37,
   "metadata": {},
   "outputs": [],
   "source": [
    "# get messages with geolocations\n",
    "geo_df = df[pd.notna(df['latitude'])]"
   ]
  },
  {
   "cell_type": "code",
   "execution_count": 38,
   "metadata": {},
   "outputs": [
    {
     "data": {
      "text/html": [
       "<div>\n",
       "<style scoped>\n",
       "    .dataframe tbody tr th:only-of-type {\n",
       "        vertical-align: middle;\n",
       "    }\n",
       "\n",
       "    .dataframe tbody tr th {\n",
       "        vertical-align: top;\n",
       "    }\n",
       "\n",
       "    .dataframe thead th {\n",
       "        text-align: right;\n",
       "    }\n",
       "</style>\n",
       "<table border=\"1\" class=\"dataframe\">\n",
       "  <thead>\n",
       "    <tr style=\"text-align: right;\">\n",
       "      <th></th>\n",
       "      <th>type</th>\n",
       "      <th>date(yyyyMMddHHmmss)</th>\n",
       "      <th>author</th>\n",
       "      <th>message</th>\n",
       "      <th>latitude</th>\n",
       "      <th>longitude</th>\n",
       "      <th>location</th>\n",
       "      <th>polarity</th>\n",
       "      <th>sentiment</th>\n",
       "      <th>bias</th>\n",
       "      <th>negative</th>\n",
       "      <th>neutral</th>\n",
       "      <th>positive</th>\n",
       "      <th>biased</th>\n",
       "      <th>unbiased</th>\n",
       "    </tr>\n",
       "  </thead>\n",
       "  <tbody>\n",
       "    <tr>\n",
       "      <th>105</th>\n",
       "      <td>mbdata</td>\n",
       "      <td>2014-01-23 17:10:00</td>\n",
       "      <td>truccotrucco</td>\n",
       "      <td>rally time! ready for some inspiration #POK</td>\n",
       "      <td>36.052</td>\n",
       "      <td>24.852</td>\n",
       "      <td>NaN</td>\n",
       "      <td>0.200000</td>\n",
       "      <td>positive</td>\n",
       "      <td>biased</td>\n",
       "      <td>False</td>\n",
       "      <td>False</td>\n",
       "      <td>True</td>\n",
       "      <td>True</td>\n",
       "      <td>False</td>\n",
       "    </tr>\n",
       "    <tr>\n",
       "      <th>169</th>\n",
       "      <td>mbdata</td>\n",
       "      <td>2014-01-23 17:14:47</td>\n",
       "      <td>footfingers</td>\n",
       "      <td>The Asterian People's Army supports the POK in...</td>\n",
       "      <td>36.054</td>\n",
       "      <td>24.902</td>\n",
       "      <td>NaN</td>\n",
       "      <td>0.000000</td>\n",
       "      <td>neutral</td>\n",
       "      <td>unbiased</td>\n",
       "      <td>False</td>\n",
       "      <td>True</td>\n",
       "      <td>False</td>\n",
       "      <td>False</td>\n",
       "      <td>True</td>\n",
       "    </tr>\n",
       "    <tr>\n",
       "      <th>170</th>\n",
       "      <td>mbdata</td>\n",
       "      <td>2014-01-23 17:14:47</td>\n",
       "      <td>truthforcadau</td>\n",
       "      <td>Cant wait to hear Viktor-E! #POKRally</td>\n",
       "      <td>36.051</td>\n",
       "      <td>24.854</td>\n",
       "      <td>NaN</td>\n",
       "      <td>0.000000</td>\n",
       "      <td>neutral</td>\n",
       "      <td>unbiased</td>\n",
       "      <td>False</td>\n",
       "      <td>True</td>\n",
       "      <td>False</td>\n",
       "      <td>False</td>\n",
       "      <td>True</td>\n",
       "    </tr>\n",
       "    <tr>\n",
       "      <th>207</th>\n",
       "      <td>mbdata</td>\n",
       "      <td>2014-01-23 17:16:00</td>\n",
       "      <td>truccotrucco</td>\n",
       "      <td>Sylvia rocks! you go girl #POKRally</td>\n",
       "      <td>36.052</td>\n",
       "      <td>24.852</td>\n",
       "      <td>NaN</td>\n",
       "      <td>0.000000</td>\n",
       "      <td>neutral</td>\n",
       "      <td>unbiased</td>\n",
       "      <td>False</td>\n",
       "      <td>True</td>\n",
       "      <td>False</td>\n",
       "      <td>False</td>\n",
       "      <td>True</td>\n",
       "    </tr>\n",
       "    <tr>\n",
       "      <th>232</th>\n",
       "      <td>mbdata</td>\n",
       "      <td>2014-01-23 17:18:00</td>\n",
       "      <td>truthforcadau</td>\n",
       "      <td>lots of cops hopefully they dont do anything s...</td>\n",
       "      <td>36.051</td>\n",
       "      <td>24.854</td>\n",
       "      <td>NaN</td>\n",
       "      <td>-0.800000</td>\n",
       "      <td>negative</td>\n",
       "      <td>biased</td>\n",
       "      <td>True</td>\n",
       "      <td>False</td>\n",
       "      <td>False</td>\n",
       "      <td>True</td>\n",
       "      <td>False</td>\n",
       "    </tr>\n",
       "    <tr>\n",
       "      <th>233</th>\n",
       "      <td>mbdata</td>\n",
       "      <td>2014-01-23 17:18:00</td>\n",
       "      <td>truccotrucco</td>\n",
       "      <td>gotta be 3000 people here! #POK is strong</td>\n",
       "      <td>36.052</td>\n",
       "      <td>24.852</td>\n",
       "      <td>NaN</td>\n",
       "      <td>0.433333</td>\n",
       "      <td>positive</td>\n",
       "      <td>biased</td>\n",
       "      <td>False</td>\n",
       "      <td>False</td>\n",
       "      <td>True</td>\n",
       "      <td>True</td>\n",
       "      <td>False</td>\n",
       "    </tr>\n",
       "    <tr>\n",
       "      <th>264</th>\n",
       "      <td>mbdata</td>\n",
       "      <td>2014-01-23 17:20:00</td>\n",
       "      <td>footfingers</td>\n",
       "      <td>greedy corporations are ruining Kronos and poi...</td>\n",
       "      <td>36.054</td>\n",
       "      <td>24.902</td>\n",
       "      <td>NaN</td>\n",
       "      <td>0.000000</td>\n",
       "      <td>neutral</td>\n",
       "      <td>unbiased</td>\n",
       "      <td>False</td>\n",
       "      <td>True</td>\n",
       "      <td>False</td>\n",
       "      <td>False</td>\n",
       "      <td>True</td>\n",
       "    </tr>\n",
       "    <tr>\n",
       "      <th>276</th>\n",
       "      <td>mbdata</td>\n",
       "      <td>2014-01-23 17:21:00</td>\n",
       "      <td>truccotrucco</td>\n",
       "      <td>lots of cops but they cant stop us #POK</td>\n",
       "      <td>36.052</td>\n",
       "      <td>24.852</td>\n",
       "      <td>NaN</td>\n",
       "      <td>0.000000</td>\n",
       "      <td>neutral</td>\n",
       "      <td>unbiased</td>\n",
       "      <td>False</td>\n",
       "      <td>True</td>\n",
       "      <td>False</td>\n",
       "      <td>False</td>\n",
       "      <td>True</td>\n",
       "    </tr>\n",
       "    <tr>\n",
       "      <th>296</th>\n",
       "      <td>mbdata</td>\n",
       "      <td>2014-01-23 17:22:47</td>\n",
       "      <td>truccotrucco</td>\n",
       "      <td>Lucio Jakab tells it like it is #POK #SOW</td>\n",
       "      <td>36.052</td>\n",
       "      <td>24.852</td>\n",
       "      <td>NaN</td>\n",
       "      <td>0.000000</td>\n",
       "      <td>neutral</td>\n",
       "      <td>unbiased</td>\n",
       "      <td>False</td>\n",
       "      <td>True</td>\n",
       "      <td>False</td>\n",
       "      <td>False</td>\n",
       "      <td>True</td>\n",
       "    </tr>\n",
       "    <tr>\n",
       "      <th>335</th>\n",
       "      <td>mbdata</td>\n",
       "      <td>2014-01-23 17:25:00</td>\n",
       "      <td>footfingers</td>\n",
       "      <td>President Kapelou is a stooge for greeddy Teth...</td>\n",
       "      <td>36.054</td>\n",
       "      <td>24.902</td>\n",
       "      <td>NaN</td>\n",
       "      <td>0.000000</td>\n",
       "      <td>neutral</td>\n",
       "      <td>unbiased</td>\n",
       "      <td>False</td>\n",
       "      <td>True</td>\n",
       "      <td>False</td>\n",
       "      <td>False</td>\n",
       "      <td>True</td>\n",
       "    </tr>\n",
       "    <tr>\n",
       "      <th>352</th>\n",
       "      <td>mbdata</td>\n",
       "      <td>2014-01-23 17:25:45</td>\n",
       "      <td>truthforcadau</td>\n",
       "      <td>so many people here this is awesome! POK is pe...</td>\n",
       "      <td>36.051</td>\n",
       "      <td>24.854</td>\n",
       "      <td>NaN</td>\n",
       "      <td>0.750000</td>\n",
       "      <td>positive</td>\n",
       "      <td>biased</td>\n",
       "      <td>False</td>\n",
       "      <td>False</td>\n",
       "      <td>True</td>\n",
       "      <td>True</td>\n",
       "      <td>False</td>\n",
       "    </tr>\n",
       "    <tr>\n",
       "      <th>386</th>\n",
       "      <td>mbdata</td>\n",
       "      <td>2014-01-23 17:27:00</td>\n",
       "      <td>footfingers</td>\n",
       "      <td>the capitalists don't care about the poeple of...</td>\n",
       "      <td>36.054</td>\n",
       "      <td>24.902</td>\n",
       "      <td>NaN</td>\n",
       "      <td>0.000000</td>\n",
       "      <td>neutral</td>\n",
       "      <td>unbiased</td>\n",
       "      <td>False</td>\n",
       "      <td>True</td>\n",
       "      <td>False</td>\n",
       "      <td>False</td>\n",
       "      <td>True</td>\n",
       "    </tr>\n",
       "    <tr>\n",
       "      <th>479</th>\n",
       "      <td>mbdata</td>\n",
       "      <td>2014-01-23 17:33:00</td>\n",
       "      <td>truccotrucco</td>\n",
       "      <td>#RememberJuliana #RememberElian #VivaSylvia</td>\n",
       "      <td>36.052</td>\n",
       "      <td>24.852</td>\n",
       "      <td>NaN</td>\n",
       "      <td>0.000000</td>\n",
       "      <td>neutral</td>\n",
       "      <td>unbiased</td>\n",
       "      <td>False</td>\n",
       "      <td>True</td>\n",
       "      <td>False</td>\n",
       "      <td>False</td>\n",
       "      <td>True</td>\n",
       "    </tr>\n",
       "    <tr>\n",
       "      <th>515</th>\n",
       "      <td>mbdata</td>\n",
       "      <td>2014-01-23 17:36:11</td>\n",
       "      <td>footfingers</td>\n",
       "      <td>you have the power to take Kronos back for the...</td>\n",
       "      <td>36.054</td>\n",
       "      <td>24.902</td>\n",
       "      <td>NaN</td>\n",
       "      <td>0.000000</td>\n",
       "      <td>neutral</td>\n",
       "      <td>unbiased</td>\n",
       "      <td>False</td>\n",
       "      <td>True</td>\n",
       "      <td>False</td>\n",
       "      <td>False</td>\n",
       "      <td>True</td>\n",
       "    </tr>\n",
       "    <tr>\n",
       "      <th>533</th>\n",
       "      <td>mbdata</td>\n",
       "      <td>2014-01-23 17:38:02</td>\n",
       "      <td>truthforcadau</td>\n",
       "      <td>great new song from Viktor-E! River Soldiers i...</td>\n",
       "      <td>36.051</td>\n",
       "      <td>24.854</td>\n",
       "      <td>NaN</td>\n",
       "      <td>0.423485</td>\n",
       "      <td>positive</td>\n",
       "      <td>biased</td>\n",
       "      <td>False</td>\n",
       "      <td>False</td>\n",
       "      <td>True</td>\n",
       "      <td>True</td>\n",
       "      <td>False</td>\n",
       "    </tr>\n",
       "    <tr>\n",
       "      <th>566</th>\n",
       "      <td>mbdata</td>\n",
       "      <td>2014-01-23 17:42:00</td>\n",
       "      <td>footfingers</td>\n",
       "      <td>corrupt Tethan corporations pollute your land ...</td>\n",
       "      <td>36.054</td>\n",
       "      <td>24.902</td>\n",
       "      <td>NaN</td>\n",
       "      <td>-0.500000</td>\n",
       "      <td>negative</td>\n",
       "      <td>biased</td>\n",
       "      <td>True</td>\n",
       "      <td>False</td>\n",
       "      <td>False</td>\n",
       "      <td>True</td>\n",
       "      <td>False</td>\n",
       "    </tr>\n",
       "    <tr>\n",
       "      <th>591</th>\n",
       "      <td>mbdata</td>\n",
       "      <td>2014-01-23 17:44:00</td>\n",
       "      <td>footfingers</td>\n",
       "      <td>people of Kronos, rise up and take your countr...</td>\n",
       "      <td>36.054</td>\n",
       "      <td>24.902</td>\n",
       "      <td>NaN</td>\n",
       "      <td>0.000000</td>\n",
       "      <td>neutral</td>\n",
       "      <td>unbiased</td>\n",
       "      <td>False</td>\n",
       "      <td>True</td>\n",
       "      <td>False</td>\n",
       "      <td>False</td>\n",
       "      <td>True</td>\n",
       "    </tr>\n",
       "    <tr>\n",
       "      <th>623</th>\n",
       "      <td>mbdata</td>\n",
       "      <td>2014-01-23 17:48:00</td>\n",
       "      <td>truthforcadau</td>\n",
       "      <td>classic cover of a classic song Big Yellow Tax...</td>\n",
       "      <td>36.051</td>\n",
       "      <td>24.854</td>\n",
       "      <td>NaN</td>\n",
       "      <td>0.266667</td>\n",
       "      <td>positive</td>\n",
       "      <td>biased</td>\n",
       "      <td>False</td>\n",
       "      <td>False</td>\n",
       "      <td>True</td>\n",
       "      <td>True</td>\n",
       "      <td>False</td>\n",
       "    </tr>\n",
       "    <tr>\n",
       "      <th>631</th>\n",
       "      <td>mbdata</td>\n",
       "      <td>2014-01-23 17:49:00</td>\n",
       "      <td>truthforcadau</td>\n",
       "      <td>Viktor-E should collaborate with Joni Mitchell...</td>\n",
       "      <td>36.051</td>\n",
       "      <td>24.854</td>\n",
       "      <td>NaN</td>\n",
       "      <td>0.000000</td>\n",
       "      <td>neutral</td>\n",
       "      <td>unbiased</td>\n",
       "      <td>False</td>\n",
       "      <td>True</td>\n",
       "      <td>False</td>\n",
       "      <td>False</td>\n",
       "      <td>True</td>\n",
       "    </tr>\n",
       "    <tr>\n",
       "      <th>678</th>\n",
       "      <td>mbdata</td>\n",
       "      <td>2014-01-23 17:53:48</td>\n",
       "      <td>truccotrucco</td>\n",
       "      <td>preety sure ive heard this speech before from ...</td>\n",
       "      <td>36.052</td>\n",
       "      <td>24.852</td>\n",
       "      <td>NaN</td>\n",
       "      <td>0.500000</td>\n",
       "      <td>positive</td>\n",
       "      <td>biased</td>\n",
       "      <td>False</td>\n",
       "      <td>False</td>\n",
       "      <td>True</td>\n",
       "      <td>True</td>\n",
       "      <td>False</td>\n",
       "    </tr>\n",
       "    <tr>\n",
       "      <th>716</th>\n",
       "      <td>mbdata</td>\n",
       "      <td>2014-01-23 17:57:47</td>\n",
       "      <td>footfingers</td>\n",
       "      <td>corporations don't care about people or wildli...</td>\n",
       "      <td>36.054</td>\n",
       "      <td>24.902</td>\n",
       "      <td>NaN</td>\n",
       "      <td>0.000000</td>\n",
       "      <td>neutral</td>\n",
       "      <td>unbiased</td>\n",
       "      <td>False</td>\n",
       "      <td>True</td>\n",
       "      <td>False</td>\n",
       "      <td>False</td>\n",
       "      <td>True</td>\n",
       "    </tr>\n",
       "    <tr>\n",
       "      <th>717</th>\n",
       "      <td>mbdata</td>\n",
       "      <td>2014-01-23 17:57:47</td>\n",
       "      <td>truccotrucco</td>\n",
       "      <td>dragging on &amp; on im getting hungry</td>\n",
       "      <td>36.052</td>\n",
       "      <td>24.852</td>\n",
       "      <td>NaN</td>\n",
       "      <td>0.000000</td>\n",
       "      <td>neutral</td>\n",
       "      <td>unbiased</td>\n",
       "      <td>False</td>\n",
       "      <td>True</td>\n",
       "      <td>False</td>\n",
       "      <td>False</td>\n",
       "      <td>True</td>\n",
       "    </tr>\n",
       "    <tr>\n",
       "      <th>896</th>\n",
       "      <td>mbdata</td>\n",
       "      <td>2014-01-23 18:15:14</td>\n",
       "      <td>truccotrucco</td>\n",
       "      <td>who wnats to join me for some gelato #hungry #...</td>\n",
       "      <td>36.052</td>\n",
       "      <td>24.852</td>\n",
       "      <td>NaN</td>\n",
       "      <td>0.000000</td>\n",
       "      <td>neutral</td>\n",
       "      <td>unbiased</td>\n",
       "      <td>False</td>\n",
       "      <td>True</td>\n",
       "      <td>False</td>\n",
       "      <td>False</td>\n",
       "      <td>True</td>\n",
       "    </tr>\n",
       "    <tr>\n",
       "      <th>1059</th>\n",
       "      <td>mbdata</td>\n",
       "      <td>2014-01-23 18:33:24</td>\n",
       "      <td>truccotrucco</td>\n",
       "      <td>not really feelin the Doc kinda wish Sylvia wo...</td>\n",
       "      <td>36.052</td>\n",
       "      <td>24.852</td>\n",
       "      <td>NaN</td>\n",
       "      <td>-0.100000</td>\n",
       "      <td>negative</td>\n",
       "      <td>biased</td>\n",
       "      <td>True</td>\n",
       "      <td>False</td>\n",
       "      <td>False</td>\n",
       "      <td>True</td>\n",
       "      <td>False</td>\n",
       "    </tr>\n",
       "    <tr>\n",
       "      <th>1123</th>\n",
       "      <td>mbdata</td>\n",
       "      <td>2014-01-23 18:40:00</td>\n",
       "      <td>footfingers</td>\n",
       "      <td>real power comes from taking your future into ...</td>\n",
       "      <td>36.054</td>\n",
       "      <td>24.902</td>\n",
       "      <td>NaN</td>\n",
       "      <td>0.266667</td>\n",
       "      <td>positive</td>\n",
       "      <td>biased</td>\n",
       "      <td>False</td>\n",
       "      <td>False</td>\n",
       "      <td>True</td>\n",
       "      <td>True</td>\n",
       "      <td>False</td>\n",
       "    </tr>\n",
       "    <tr>\n",
       "      <th>1151</th>\n",
       "      <td>mbdata</td>\n",
       "      <td>2014-01-23 18:42:10</td>\n",
       "      <td>dangermice</td>\n",
       "      <td>i think the dancin dolphin is on fire!</td>\n",
       "      <td>36.059</td>\n",
       "      <td>24.894</td>\n",
       "      <td>NaN</td>\n",
       "      <td>0.000000</td>\n",
       "      <td>neutral</td>\n",
       "      <td>unbiased</td>\n",
       "      <td>False</td>\n",
       "      <td>True</td>\n",
       "      <td>False</td>\n",
       "      <td>False</td>\n",
       "      <td>True</td>\n",
       "    </tr>\n",
       "    <tr>\n",
       "      <th>1214</th>\n",
       "      <td>mbdata</td>\n",
       "      <td>2014-01-23 18:45:00</td>\n",
       "      <td>dangermice</td>\n",
       "      <td>Fire trucks are arriving at the dancing dolphi...</td>\n",
       "      <td>36.059</td>\n",
       "      <td>24.894</td>\n",
       "      <td>NaN</td>\n",
       "      <td>0.000000</td>\n",
       "      <td>neutral</td>\n",
       "      <td>unbiased</td>\n",
       "      <td>False</td>\n",
       "      <td>True</td>\n",
       "      <td>False</td>\n",
       "      <td>False</td>\n",
       "      <td>True</td>\n",
       "    </tr>\n",
       "    <tr>\n",
       "      <th>1219</th>\n",
       "      <td>mbdata</td>\n",
       "      <td>2014-01-23 18:45:00</td>\n",
       "      <td>truthforcadau</td>\n",
       "      <td>very inspiring speech from Dr Newman \"you can ...</td>\n",
       "      <td>36.051</td>\n",
       "      <td>24.854</td>\n",
       "      <td>NaN</td>\n",
       "      <td>0.650000</td>\n",
       "      <td>positive</td>\n",
       "      <td>biased</td>\n",
       "      <td>False</td>\n",
       "      <td>False</td>\n",
       "      <td>True</td>\n",
       "      <td>True</td>\n",
       "      <td>False</td>\n",
       "    </tr>\n",
       "    <tr>\n",
       "      <th>1280</th>\n",
       "      <td>mbdata</td>\n",
       "      <td>2014-01-23 18:46:21</td>\n",
       "      <td>footfingers</td>\n",
       "      <td>real change is only possibly if Kronos is rule...</td>\n",
       "      <td>36.054</td>\n",
       "      <td>24.902</td>\n",
       "      <td>NaN</td>\n",
       "      <td>-0.075000</td>\n",
       "      <td>negative</td>\n",
       "      <td>biased</td>\n",
       "      <td>True</td>\n",
       "      <td>False</td>\n",
       "      <td>False</td>\n",
       "      <td>True</td>\n",
       "      <td>False</td>\n",
       "    </tr>\n",
       "    <tr>\n",
       "      <th>1340</th>\n",
       "      <td>mbdata</td>\n",
       "      <td>2014-01-23 18:47:31</td>\n",
       "      <td>truccotrucco</td>\n",
       "      <td>who else has had enough of the speeches? feel ...</td>\n",
       "      <td>36.052</td>\n",
       "      <td>24.852</td>\n",
       "      <td>NaN</td>\n",
       "      <td>0.000000</td>\n",
       "      <td>neutral</td>\n",
       "      <td>biased</td>\n",
       "      <td>False</td>\n",
       "      <td>True</td>\n",
       "      <td>False</td>\n",
       "      <td>True</td>\n",
       "      <td>False</td>\n",
       "    </tr>\n",
       "    <tr>\n",
       "      <th>1362</th>\n",
       "      <td>mbdata</td>\n",
       "      <td>2014-01-23 18:48:02</td>\n",
       "      <td>truccotrucco</td>\n",
       "      <td>heading to gelatogalore! whos with me?</td>\n",
       "      <td>36.055</td>\n",
       "      <td>24.855</td>\n",
       "      <td>NaN</td>\n",
       "      <td>0.000000</td>\n",
       "      <td>neutral</td>\n",
       "      <td>unbiased</td>\n",
       "      <td>False</td>\n",
       "      <td>True</td>\n",
       "      <td>False</td>\n",
       "      <td>False</td>\n",
       "      <td>True</td>\n",
       "    </tr>\n",
       "    <tr>\n",
       "      <th>1374</th>\n",
       "      <td>mbdata</td>\n",
       "      <td>2014-01-23 18:48:57</td>\n",
       "      <td>truccotrucco</td>\n",
       "      <td>im on the corner of ermou &amp; parla #gelatorocks</td>\n",
       "      <td>36.055</td>\n",
       "      <td>24.855</td>\n",
       "      <td>NaN</td>\n",
       "      <td>0.000000</td>\n",
       "      <td>neutral</td>\n",
       "      <td>unbiased</td>\n",
       "      <td>False</td>\n",
       "      <td>True</td>\n",
       "      <td>False</td>\n",
       "      <td>False</td>\n",
       "      <td>True</td>\n",
       "    </tr>\n",
       "    <tr>\n",
       "      <th>1414</th>\n",
       "      <td>mbdata</td>\n",
       "      <td>2014-01-23 18:50:21</td>\n",
       "      <td>truthforcadau</td>\n",
       "      <td>guess i need to find out about Hilel the Elder...</td>\n",
       "      <td>36.051</td>\n",
       "      <td>24.854</td>\n",
       "      <td>NaN</td>\n",
       "      <td>0.000000</td>\n",
       "      <td>neutral</td>\n",
       "      <td>unbiased</td>\n",
       "      <td>False</td>\n",
       "      <td>True</td>\n",
       "      <td>False</td>\n",
       "      <td>False</td>\n",
       "      <td>True</td>\n",
       "    </tr>\n",
       "    <tr>\n",
       "      <th>1485</th>\n",
       "      <td>mbdata</td>\n",
       "      <td>2014-01-23 18:53:10</td>\n",
       "      <td>truthforcadau</td>\n",
       "      <td>Viktor-E playing my favorite \"\"Stand up Speak ...</td>\n",
       "      <td>36.051</td>\n",
       "      <td>24.854</td>\n",
       "      <td>NaN</td>\n",
       "      <td>0.625000</td>\n",
       "      <td>positive</td>\n",
       "      <td>biased</td>\n",
       "      <td>False</td>\n",
       "      <td>False</td>\n",
       "      <td>True</td>\n",
       "      <td>True</td>\n",
       "      <td>False</td>\n",
       "    </tr>\n",
       "    <tr>\n",
       "      <th>1513</th>\n",
       "      <td>mbdata</td>\n",
       "      <td>2014-01-23 18:55:01</td>\n",
       "      <td>dangermice</td>\n",
       "      <td>Police are flooding the scene</td>\n",
       "      <td>36.059</td>\n",
       "      <td>24.894</td>\n",
       "      <td>NaN</td>\n",
       "      <td>0.000000</td>\n",
       "      <td>neutral</td>\n",
       "      <td>unbiased</td>\n",
       "      <td>False</td>\n",
       "      <td>True</td>\n",
       "      <td>False</td>\n",
       "      <td>False</td>\n",
       "      <td>True</td>\n",
       "    </tr>\n",
       "    <tr>\n",
       "      <th>1524</th>\n",
       "      <td>mbdata</td>\n",
       "      <td>2014-01-23 18:55:05</td>\n",
       "      <td>dangermice</td>\n",
       "      <td>Oh man they are evacuating the nearby building...</td>\n",
       "      <td>36.059</td>\n",
       "      <td>24.894</td>\n",
       "      <td>NaN</td>\n",
       "      <td>0.000000</td>\n",
       "      <td>neutral</td>\n",
       "      <td>unbiased</td>\n",
       "      <td>False</td>\n",
       "      <td>True</td>\n",
       "      <td>False</td>\n",
       "      <td>False</td>\n",
       "      <td>True</td>\n",
       "    </tr>\n",
       "    <tr>\n",
       "      <th>1597</th>\n",
       "      <td>mbdata</td>\n",
       "      <td>2014-01-23 19:00:00</td>\n",
       "      <td>dangermice</td>\n",
       "      <td>Someone just got rescued and looks really bad ...</td>\n",
       "      <td>36.059</td>\n",
       "      <td>24.894</td>\n",
       "      <td>NaN</td>\n",
       "      <td>-0.700000</td>\n",
       "      <td>negative</td>\n",
       "      <td>biased</td>\n",
       "      <td>True</td>\n",
       "      <td>False</td>\n",
       "      <td>False</td>\n",
       "      <td>True</td>\n",
       "      <td>False</td>\n",
       "    </tr>\n",
       "    <tr>\n",
       "      <th>1636</th>\n",
       "      <td>mbdata</td>\n",
       "      <td>2014-01-23 19:02:00</td>\n",
       "      <td>footfingers</td>\n",
       "      <td>join the POK and make a differnce #POK</td>\n",
       "      <td>36.054</td>\n",
       "      <td>24.902</td>\n",
       "      <td>NaN</td>\n",
       "      <td>0.000000</td>\n",
       "      <td>neutral</td>\n",
       "      <td>unbiased</td>\n",
       "      <td>False</td>\n",
       "      <td>True</td>\n",
       "      <td>False</td>\n",
       "      <td>False</td>\n",
       "      <td>True</td>\n",
       "    </tr>\n",
       "    <tr>\n",
       "      <th>1724</th>\n",
       "      <td>mbdata</td>\n",
       "      <td>2014-01-23 19:07:00</td>\n",
       "      <td>truthforcadau</td>\n",
       "      <td>theyre playing Circles and if youre not here y...</td>\n",
       "      <td>36.051</td>\n",
       "      <td>24.854</td>\n",
       "      <td>NaN</td>\n",
       "      <td>-0.250000</td>\n",
       "      <td>negative</td>\n",
       "      <td>unbiased</td>\n",
       "      <td>True</td>\n",
       "      <td>False</td>\n",
       "      <td>False</td>\n",
       "      <td>False</td>\n",
       "      <td>True</td>\n",
       "    </tr>\n",
       "    <tr>\n",
       "      <th>1761</th>\n",
       "      <td>mbdata</td>\n",
       "      <td>2014-01-23 19:10:00</td>\n",
       "      <td>dangermice</td>\n",
       "      <td>They are taking the rescued person to the hosp...</td>\n",
       "      <td>36.059</td>\n",
       "      <td>24.894</td>\n",
       "      <td>NaN</td>\n",
       "      <td>0.500000</td>\n",
       "      <td>positive</td>\n",
       "      <td>biased</td>\n",
       "      <td>False</td>\n",
       "      <td>False</td>\n",
       "      <td>True</td>\n",
       "      <td>True</td>\n",
       "      <td>False</td>\n",
       "    </tr>\n",
       "    <tr>\n",
       "      <th>1764</th>\n",
       "      <td>mbdata</td>\n",
       "      <td>2014-01-23 19:10:00</td>\n",
       "      <td>truccotrucco</td>\n",
       "      <td>gelatogalore so so good!</td>\n",
       "      <td>36.059</td>\n",
       "      <td>24.856</td>\n",
       "      <td>NaN</td>\n",
       "      <td>0.875000</td>\n",
       "      <td>positive</td>\n",
       "      <td>biased</td>\n",
       "      <td>False</td>\n",
       "      <td>False</td>\n",
       "      <td>True</td>\n",
       "      <td>True</td>\n",
       "      <td>False</td>\n",
       "    </tr>\n",
       "    <tr>\n",
       "      <th>1786</th>\n",
       "      <td>mbdata</td>\n",
       "      <td>2014-01-23 19:12:02</td>\n",
       "      <td>truccotrucco</td>\n",
       "      <td>more than just gelato their pommes frites are ...</td>\n",
       "      <td>36.059</td>\n",
       "      <td>24.856</td>\n",
       "      <td>NaN</td>\n",
       "      <td>0.750000</td>\n",
       "      <td>positive</td>\n",
       "      <td>biased</td>\n",
       "      <td>False</td>\n",
       "      <td>False</td>\n",
       "      <td>True</td>\n",
       "      <td>True</td>\n",
       "      <td>False</td>\n",
       "    </tr>\n",
       "    <tr>\n",
       "      <th>1818</th>\n",
       "      <td>mbdata</td>\n",
       "      <td>2014-01-23 19:15:00</td>\n",
       "      <td>truthforcadau</td>\n",
       "      <td>dancin time! thanks #POK thanks Sylvia! #POK i...</td>\n",
       "      <td>36.051</td>\n",
       "      <td>24.854</td>\n",
       "      <td>NaN</td>\n",
       "      <td>0.256250</td>\n",
       "      <td>positive</td>\n",
       "      <td>biased</td>\n",
       "      <td>False</td>\n",
       "      <td>False</td>\n",
       "      <td>True</td>\n",
       "      <td>True</td>\n",
       "      <td>False</td>\n",
       "    </tr>\n",
       "    <tr>\n",
       "      <th>1819</th>\n",
       "      <td>mbdata</td>\n",
       "      <td>2014-01-23 19:15:00</td>\n",
       "      <td>truccotrucco</td>\n",
       "      <td>looks like im missing some Viktor-E! too bad g...</td>\n",
       "      <td>36.059</td>\n",
       "      <td>24.856</td>\n",
       "      <td>NaN</td>\n",
       "      <td>-0.475000</td>\n",
       "      <td>negative</td>\n",
       "      <td>biased</td>\n",
       "      <td>True</td>\n",
       "      <td>False</td>\n",
       "      <td>False</td>\n",
       "      <td>True</td>\n",
       "      <td>False</td>\n",
       "    </tr>\n",
       "    <tr>\n",
       "      <th>1829</th>\n",
       "      <td>mbdata</td>\n",
       "      <td>2014-01-23 19:16:07</td>\n",
       "      <td>dangermice</td>\n",
       "      <td>Wow - more police #abilafire</td>\n",
       "      <td>36.059</td>\n",
       "      <td>24.894</td>\n",
       "      <td>NaN</td>\n",
       "      <td>0.300000</td>\n",
       "      <td>positive</td>\n",
       "      <td>biased</td>\n",
       "      <td>False</td>\n",
       "      <td>False</td>\n",
       "      <td>True</td>\n",
       "      <td>True</td>\n",
       "      <td>False</td>\n",
       "    </tr>\n",
       "    <tr>\n",
       "      <th>1845</th>\n",
       "      <td>mbdata</td>\n",
       "      <td>2014-01-23 19:17:00</td>\n",
       "      <td>footfingers</td>\n",
       "      <td>Check out the new issue of ARISE, a magazine f...</td>\n",
       "      <td>36.054</td>\n",
       "      <td>24.902</td>\n",
       "      <td>NaN</td>\n",
       "      <td>0.136364</td>\n",
       "      <td>positive</td>\n",
       "      <td>biased</td>\n",
       "      <td>False</td>\n",
       "      <td>False</td>\n",
       "      <td>True</td>\n",
       "      <td>True</td>\n",
       "      <td>False</td>\n",
       "    </tr>\n",
       "    <tr>\n",
       "      <th>1895</th>\n",
       "      <td>mbdata</td>\n",
       "      <td>2014-01-23 19:20:00</td>\n",
       "      <td>dangermice</td>\n",
       "      <td>More fire trucks are arriving this is really bad</td>\n",
       "      <td>36.059</td>\n",
       "      <td>24.894</td>\n",
       "      <td>NaN</td>\n",
       "      <td>-0.100000</td>\n",
       "      <td>negative</td>\n",
       "      <td>biased</td>\n",
       "      <td>True</td>\n",
       "      <td>False</td>\n",
       "      <td>False</td>\n",
       "      <td>True</td>\n",
       "      <td>False</td>\n",
       "    </tr>\n",
       "    <tr>\n",
       "      <th>1898</th>\n",
       "      <td>mbdata</td>\n",
       "      <td>2014-01-23 19:20:00</td>\n",
       "      <td>hennyhenhendrix</td>\n",
       "      <td>Some moron in a black van just hit my car!</td>\n",
       "      <td>36.057</td>\n",
       "      <td>24.892</td>\n",
       "      <td>NaN</td>\n",
       "      <td>-0.504167</td>\n",
       "      <td>negative</td>\n",
       "      <td>biased</td>\n",
       "      <td>True</td>\n",
       "      <td>False</td>\n",
       "      <td>False</td>\n",
       "      <td>True</td>\n",
       "      <td>False</td>\n",
       "    </tr>\n",
       "    <tr>\n",
       "      <th>1899</th>\n",
       "      <td>mbdata</td>\n",
       "      <td>2014-01-23 19:20:00</td>\n",
       "      <td>brewvebeenserved</td>\n",
       "      <td>WOW! Crazy driver! Hopefully everyone is ok!</td>\n",
       "      <td>36.054</td>\n",
       "      <td>24.901</td>\n",
       "      <td>NaN</td>\n",
       "      <td>0.000000</td>\n",
       "      <td>neutral</td>\n",
       "      <td>biased</td>\n",
       "      <td>False</td>\n",
       "      <td>True</td>\n",
       "      <td>False</td>\n",
       "      <td>True</td>\n",
       "      <td>False</td>\n",
       "    </tr>\n",
       "    <tr>\n",
       "      <th>1924</th>\n",
       "      <td>mbdata</td>\n",
       "      <td>2014-01-23 19:21:01</td>\n",
       "      <td>brewvebeenserved</td>\n",
       "      <td>Oh no!! That crazy driver hit a guy on a bike ...</td>\n",
       "      <td>36.054</td>\n",
       "      <td>24.901</td>\n",
       "      <td>NaN</td>\n",
       "      <td>-0.300000</td>\n",
       "      <td>negative</td>\n",
       "      <td>biased</td>\n",
       "      <td>True</td>\n",
       "      <td>False</td>\n",
       "      <td>False</td>\n",
       "      <td>True</td>\n",
       "      <td>False</td>\n",
       "    </tr>\n",
       "  </tbody>\n",
       "</table>\n",
       "</div>"
      ],
      "text/plain": [
       "        type date(yyyyMMddHHmmss)            author  \\\n",
       "105   mbdata  2014-01-23 17:10:00      truccotrucco   \n",
       "169   mbdata  2014-01-23 17:14:47       footfingers   \n",
       "170   mbdata  2014-01-23 17:14:47     truthforcadau   \n",
       "207   mbdata  2014-01-23 17:16:00      truccotrucco   \n",
       "232   mbdata  2014-01-23 17:18:00     truthforcadau   \n",
       "233   mbdata  2014-01-23 17:18:00      truccotrucco   \n",
       "264   mbdata  2014-01-23 17:20:00       footfingers   \n",
       "276   mbdata  2014-01-23 17:21:00      truccotrucco   \n",
       "296   mbdata  2014-01-23 17:22:47      truccotrucco   \n",
       "335   mbdata  2014-01-23 17:25:00       footfingers   \n",
       "352   mbdata  2014-01-23 17:25:45     truthforcadau   \n",
       "386   mbdata  2014-01-23 17:27:00       footfingers   \n",
       "479   mbdata  2014-01-23 17:33:00      truccotrucco   \n",
       "515   mbdata  2014-01-23 17:36:11       footfingers   \n",
       "533   mbdata  2014-01-23 17:38:02     truthforcadau   \n",
       "566   mbdata  2014-01-23 17:42:00       footfingers   \n",
       "591   mbdata  2014-01-23 17:44:00       footfingers   \n",
       "623   mbdata  2014-01-23 17:48:00     truthforcadau   \n",
       "631   mbdata  2014-01-23 17:49:00     truthforcadau   \n",
       "678   mbdata  2014-01-23 17:53:48      truccotrucco   \n",
       "716   mbdata  2014-01-23 17:57:47       footfingers   \n",
       "717   mbdata  2014-01-23 17:57:47      truccotrucco   \n",
       "896   mbdata  2014-01-23 18:15:14      truccotrucco   \n",
       "1059  mbdata  2014-01-23 18:33:24      truccotrucco   \n",
       "1123  mbdata  2014-01-23 18:40:00       footfingers   \n",
       "1151  mbdata  2014-01-23 18:42:10        dangermice   \n",
       "1214  mbdata  2014-01-23 18:45:00        dangermice   \n",
       "1219  mbdata  2014-01-23 18:45:00     truthforcadau   \n",
       "1280  mbdata  2014-01-23 18:46:21       footfingers   \n",
       "1340  mbdata  2014-01-23 18:47:31      truccotrucco   \n",
       "1362  mbdata  2014-01-23 18:48:02      truccotrucco   \n",
       "1374  mbdata  2014-01-23 18:48:57      truccotrucco   \n",
       "1414  mbdata  2014-01-23 18:50:21     truthforcadau   \n",
       "1485  mbdata  2014-01-23 18:53:10     truthforcadau   \n",
       "1513  mbdata  2014-01-23 18:55:01        dangermice   \n",
       "1524  mbdata  2014-01-23 18:55:05        dangermice   \n",
       "1597  mbdata  2014-01-23 19:00:00        dangermice   \n",
       "1636  mbdata  2014-01-23 19:02:00       footfingers   \n",
       "1724  mbdata  2014-01-23 19:07:00     truthforcadau   \n",
       "1761  mbdata  2014-01-23 19:10:00        dangermice   \n",
       "1764  mbdata  2014-01-23 19:10:00      truccotrucco   \n",
       "1786  mbdata  2014-01-23 19:12:02      truccotrucco   \n",
       "1818  mbdata  2014-01-23 19:15:00     truthforcadau   \n",
       "1819  mbdata  2014-01-23 19:15:00      truccotrucco   \n",
       "1829  mbdata  2014-01-23 19:16:07        dangermice   \n",
       "1845  mbdata  2014-01-23 19:17:00       footfingers   \n",
       "1895  mbdata  2014-01-23 19:20:00        dangermice   \n",
       "1898  mbdata  2014-01-23 19:20:00   hennyhenhendrix   \n",
       "1899  mbdata  2014-01-23 19:20:00  brewvebeenserved   \n",
       "1924  mbdata  2014-01-23 19:21:01  brewvebeenserved   \n",
       "\n",
       "                                                message  latitude  longitude  \\\n",
       "105         rally time! ready for some inspiration #POK    36.052     24.852   \n",
       "169   The Asterian People's Army supports the POK in...    36.054     24.902   \n",
       "170               Cant wait to hear Viktor-E! #POKRally    36.051     24.854   \n",
       "207                 Sylvia rocks! you go girl #POKRally    36.052     24.852   \n",
       "232   lots of cops hopefully they dont do anything s...    36.051     24.854   \n",
       "233           gotta be 3000 people here! #POK is strong    36.052     24.852   \n",
       "264   greedy corporations are ruining Kronos and poi...    36.054     24.902   \n",
       "276             lots of cops but they cant stop us #POK    36.052     24.852   \n",
       "296           Lucio Jakab tells it like it is #POK #SOW    36.052     24.852   \n",
       "335   President Kapelou is a stooge for greeddy Teth...    36.054     24.902   \n",
       "352   so many people here this is awesome! POK is pe...    36.051     24.854   \n",
       "386   the capitalists don't care about the poeple of...    36.054     24.902   \n",
       "479         #RememberJuliana #RememberElian #VivaSylvia    36.052     24.852   \n",
       "515   you have the power to take Kronos back for the...    36.054     24.902   \n",
       "533   great new song from Viktor-E! River Soldiers i...    36.051     24.854   \n",
       "566   corrupt Tethan corporations pollute your land ...    36.054     24.902   \n",
       "591   people of Kronos, rise up and take your countr...    36.054     24.902   \n",
       "623   classic cover of a classic song Big Yellow Tax...    36.051     24.854   \n",
       "631   Viktor-E should collaborate with Joni Mitchell...    36.051     24.854   \n",
       "678   preety sure ive heard this speech before from ...    36.052     24.852   \n",
       "716   corporations don't care about people or wildli...    36.054     24.902   \n",
       "717                  dragging on & on im getting hungry    36.052     24.852   \n",
       "896   who wnats to join me for some gelato #hungry #...    36.052     24.852   \n",
       "1059  not really feelin the Doc kinda wish Sylvia wo...    36.052     24.852   \n",
       "1123  real power comes from taking your future into ...    36.054     24.902   \n",
       "1151             i think the dancin dolphin is on fire!    36.059     24.894   \n",
       "1214  Fire trucks are arriving at the dancing dolphi...    36.059     24.894   \n",
       "1219  very inspiring speech from Dr Newman \"you can ...    36.051     24.854   \n",
       "1280  real change is only possibly if Kronos is rule...    36.054     24.902   \n",
       "1340  who else has had enough of the speeches? feel ...    36.052     24.852   \n",
       "1362             heading to gelatogalore! whos with me?    36.055     24.855   \n",
       "1374     im on the corner of ermou & parla #gelatorocks    36.055     24.855   \n",
       "1414  guess i need to find out about Hilel the Elder...    36.051     24.854   \n",
       "1485  Viktor-E playing my favorite \"\"Stand up Speak ...    36.051     24.854   \n",
       "1513                      Police are flooding the scene    36.059     24.894   \n",
       "1524  Oh man they are evacuating the nearby building...    36.059     24.894   \n",
       "1597  Someone just got rescued and looks really bad ...    36.059     24.894   \n",
       "1636             join the POK and make a differnce #POK    36.054     24.902   \n",
       "1724  theyre playing Circles and if youre not here y...    36.051     24.854   \n",
       "1761  They are taking the rescued person to the hosp...    36.059     24.894   \n",
       "1764                           gelatogalore so so good!    36.059     24.856   \n",
       "1786  more than just gelato their pommes frites are ...    36.059     24.856   \n",
       "1818  dancin time! thanks #POK thanks Sylvia! #POK i...    36.051     24.854   \n",
       "1819  looks like im missing some Viktor-E! too bad g...    36.059     24.856   \n",
       "1829                       Wow - more police #abilafire    36.059     24.894   \n",
       "1845  Check out the new issue of ARISE, a magazine f...    36.054     24.902   \n",
       "1895   More fire trucks are arriving this is really bad    36.059     24.894   \n",
       "1898         Some moron in a black van just hit my car!    36.057     24.892   \n",
       "1899       WOW! Crazy driver! Hopefully everyone is ok!    36.054     24.901   \n",
       "1924  Oh no!! That crazy driver hit a guy on a bike ...    36.054     24.901   \n",
       "\n",
       "      location  polarity sentiment      bias  negative  neutral  positive  \\\n",
       "105        NaN  0.200000  positive    biased     False    False      True   \n",
       "169        NaN  0.000000   neutral  unbiased     False     True     False   \n",
       "170        NaN  0.000000   neutral  unbiased     False     True     False   \n",
       "207        NaN  0.000000   neutral  unbiased     False     True     False   \n",
       "232        NaN -0.800000  negative    biased      True    False     False   \n",
       "233        NaN  0.433333  positive    biased     False    False      True   \n",
       "264        NaN  0.000000   neutral  unbiased     False     True     False   \n",
       "276        NaN  0.000000   neutral  unbiased     False     True     False   \n",
       "296        NaN  0.000000   neutral  unbiased     False     True     False   \n",
       "335        NaN  0.000000   neutral  unbiased     False     True     False   \n",
       "352        NaN  0.750000  positive    biased     False    False      True   \n",
       "386        NaN  0.000000   neutral  unbiased     False     True     False   \n",
       "479        NaN  0.000000   neutral  unbiased     False     True     False   \n",
       "515        NaN  0.000000   neutral  unbiased     False     True     False   \n",
       "533        NaN  0.423485  positive    biased     False    False      True   \n",
       "566        NaN -0.500000  negative    biased      True    False     False   \n",
       "591        NaN  0.000000   neutral  unbiased     False     True     False   \n",
       "623        NaN  0.266667  positive    biased     False    False      True   \n",
       "631        NaN  0.000000   neutral  unbiased     False     True     False   \n",
       "678        NaN  0.500000  positive    biased     False    False      True   \n",
       "716        NaN  0.000000   neutral  unbiased     False     True     False   \n",
       "717        NaN  0.000000   neutral  unbiased     False     True     False   \n",
       "896        NaN  0.000000   neutral  unbiased     False     True     False   \n",
       "1059       NaN -0.100000  negative    biased      True    False     False   \n",
       "1123       NaN  0.266667  positive    biased     False    False      True   \n",
       "1151       NaN  0.000000   neutral  unbiased     False     True     False   \n",
       "1214       NaN  0.000000   neutral  unbiased     False     True     False   \n",
       "1219       NaN  0.650000  positive    biased     False    False      True   \n",
       "1280       NaN -0.075000  negative    biased      True    False     False   \n",
       "1340       NaN  0.000000   neutral    biased     False     True     False   \n",
       "1362       NaN  0.000000   neutral  unbiased     False     True     False   \n",
       "1374       NaN  0.000000   neutral  unbiased     False     True     False   \n",
       "1414       NaN  0.000000   neutral  unbiased     False     True     False   \n",
       "1485       NaN  0.625000  positive    biased     False    False      True   \n",
       "1513       NaN  0.000000   neutral  unbiased     False     True     False   \n",
       "1524       NaN  0.000000   neutral  unbiased     False     True     False   \n",
       "1597       NaN -0.700000  negative    biased      True    False     False   \n",
       "1636       NaN  0.000000   neutral  unbiased     False     True     False   \n",
       "1724       NaN -0.250000  negative  unbiased      True    False     False   \n",
       "1761       NaN  0.500000  positive    biased     False    False      True   \n",
       "1764       NaN  0.875000  positive    biased     False    False      True   \n",
       "1786       NaN  0.750000  positive    biased     False    False      True   \n",
       "1818       NaN  0.256250  positive    biased     False    False      True   \n",
       "1819       NaN -0.475000  negative    biased      True    False     False   \n",
       "1829       NaN  0.300000  positive    biased     False    False      True   \n",
       "1845       NaN  0.136364  positive    biased     False    False      True   \n",
       "1895       NaN -0.100000  negative    biased      True    False     False   \n",
       "1898       NaN -0.504167  negative    biased      True    False     False   \n",
       "1899       NaN  0.000000   neutral    biased     False     True     False   \n",
       "1924       NaN -0.300000  negative    biased      True    False     False   \n",
       "\n",
       "      biased  unbiased  \n",
       "105     True     False  \n",
       "169    False      True  \n",
       "170    False      True  \n",
       "207    False      True  \n",
       "232     True     False  \n",
       "233     True     False  \n",
       "264    False      True  \n",
       "276    False      True  \n",
       "296    False      True  \n",
       "335    False      True  \n",
       "352     True     False  \n",
       "386    False      True  \n",
       "479    False      True  \n",
       "515    False      True  \n",
       "533     True     False  \n",
       "566     True     False  \n",
       "591    False      True  \n",
       "623     True     False  \n",
       "631    False      True  \n",
       "678     True     False  \n",
       "716    False      True  \n",
       "717    False      True  \n",
       "896    False      True  \n",
       "1059    True     False  \n",
       "1123    True     False  \n",
       "1151   False      True  \n",
       "1214   False      True  \n",
       "1219    True     False  \n",
       "1280    True     False  \n",
       "1340    True     False  \n",
       "1362   False      True  \n",
       "1374   False      True  \n",
       "1414   False      True  \n",
       "1485    True     False  \n",
       "1513   False      True  \n",
       "1524   False      True  \n",
       "1597    True     False  \n",
       "1636   False      True  \n",
       "1724   False      True  \n",
       "1761    True     False  \n",
       "1764    True     False  \n",
       "1786    True     False  \n",
       "1818    True     False  \n",
       "1819    True     False  \n",
       "1829    True     False  \n",
       "1845    True     False  \n",
       "1895    True     False  \n",
       "1898    True     False  \n",
       "1899    True     False  \n",
       "1924    True     False  "
      ]
     },
     "execution_count": 38,
     "metadata": {},
     "output_type": "execute_result"
    }
   ],
   "source": [
    "geo_df.head(50)"
   ]
  },
  {
   "cell_type": "code",
   "execution_count": 138,
   "metadata": {},
   "outputs": [
    {
     "data": {
      "text/html": [
       "<div>\n",
       "<style scoped>\n",
       "    .dataframe tbody tr th:only-of-type {\n",
       "        vertical-align: middle;\n",
       "    }\n",
       "\n",
       "    .dataframe tbody tr th {\n",
       "        vertical-align: top;\n",
       "    }\n",
       "\n",
       "    .dataframe thead th {\n",
       "        text-align: right;\n",
       "    }\n",
       "</style>\n",
       "<table border=\"1\" class=\"dataframe\">\n",
       "  <thead>\n",
       "    <tr style=\"text-align: right;\">\n",
       "      <th></th>\n",
       "      <th>message</th>\n",
       "      <th>latitude</th>\n",
       "      <th>longitude</th>\n",
       "      <th>date(yyyyMMddHHmmss)</th>\n",
       "    </tr>\n",
       "  </thead>\n",
       "  <tbody>\n",
       "    <tr>\n",
       "      <th>105</th>\n",
       "      <td>rally time! ready for some inspiration #POK</td>\n",
       "      <td>36.052</td>\n",
       "      <td>24.852</td>\n",
       "      <td>2014-01-23 17:10:00</td>\n",
       "    </tr>\n",
       "    <tr>\n",
       "      <th>169</th>\n",
       "      <td>The Asterian People's Army supports the POK in...</td>\n",
       "      <td>36.054</td>\n",
       "      <td>24.902</td>\n",
       "      <td>2014-01-23 17:14:47</td>\n",
       "    </tr>\n",
       "    <tr>\n",
       "      <th>170</th>\n",
       "      <td>Cant wait to hear Viktor-E! #POKRally</td>\n",
       "      <td>36.051</td>\n",
       "      <td>24.854</td>\n",
       "      <td>2014-01-23 17:14:47</td>\n",
       "    </tr>\n",
       "    <tr>\n",
       "      <th>207</th>\n",
       "      <td>Sylvia rocks! you go girl #POKRally</td>\n",
       "      <td>36.052</td>\n",
       "      <td>24.852</td>\n",
       "      <td>2014-01-23 17:16:00</td>\n",
       "    </tr>\n",
       "    <tr>\n",
       "      <th>232</th>\n",
       "      <td>lots of cops hopefully they dont do anything s...</td>\n",
       "      <td>36.051</td>\n",
       "      <td>24.854</td>\n",
       "      <td>2014-01-23 17:18:00</td>\n",
       "    </tr>\n",
       "    <tr>\n",
       "      <th>233</th>\n",
       "      <td>gotta be 3000 people here! #POK is strong</td>\n",
       "      <td>36.052</td>\n",
       "      <td>24.852</td>\n",
       "      <td>2014-01-23 17:18:00</td>\n",
       "    </tr>\n",
       "    <tr>\n",
       "      <th>264</th>\n",
       "      <td>greedy corporations are ruining Kronos and poi...</td>\n",
       "      <td>36.054</td>\n",
       "      <td>24.902</td>\n",
       "      <td>2014-01-23 17:20:00</td>\n",
       "    </tr>\n",
       "    <tr>\n",
       "      <th>276</th>\n",
       "      <td>lots of cops but they cant stop us #POK</td>\n",
       "      <td>36.052</td>\n",
       "      <td>24.852</td>\n",
       "      <td>2014-01-23 17:21:00</td>\n",
       "    </tr>\n",
       "    <tr>\n",
       "      <th>296</th>\n",
       "      <td>Lucio Jakab tells it like it is #POK #SOW</td>\n",
       "      <td>36.052</td>\n",
       "      <td>24.852</td>\n",
       "      <td>2014-01-23 17:22:47</td>\n",
       "    </tr>\n",
       "    <tr>\n",
       "      <th>335</th>\n",
       "      <td>President Kapelou is a stooge for greeddy Teth...</td>\n",
       "      <td>36.054</td>\n",
       "      <td>24.902</td>\n",
       "      <td>2014-01-23 17:25:00</td>\n",
       "    </tr>\n",
       "    <tr>\n",
       "      <th>352</th>\n",
       "      <td>so many people here this is awesome! POK is pe...</td>\n",
       "      <td>36.051</td>\n",
       "      <td>24.854</td>\n",
       "      <td>2014-01-23 17:25:45</td>\n",
       "    </tr>\n",
       "    <tr>\n",
       "      <th>386</th>\n",
       "      <td>the capitalists don't care about the poeple of...</td>\n",
       "      <td>36.054</td>\n",
       "      <td>24.902</td>\n",
       "      <td>2014-01-23 17:27:00</td>\n",
       "    </tr>\n",
       "    <tr>\n",
       "      <th>479</th>\n",
       "      <td>#RememberJuliana #RememberElian #VivaSylvia</td>\n",
       "      <td>36.052</td>\n",
       "      <td>24.852</td>\n",
       "      <td>2014-01-23 17:33:00</td>\n",
       "    </tr>\n",
       "    <tr>\n",
       "      <th>515</th>\n",
       "      <td>you have the power to take Kronos back for the...</td>\n",
       "      <td>36.054</td>\n",
       "      <td>24.902</td>\n",
       "      <td>2014-01-23 17:36:11</td>\n",
       "    </tr>\n",
       "    <tr>\n",
       "      <th>533</th>\n",
       "      <td>great new song from Viktor-E! River Soldiers i...</td>\n",
       "      <td>36.051</td>\n",
       "      <td>24.854</td>\n",
       "      <td>2014-01-23 17:38:02</td>\n",
       "    </tr>\n",
       "    <tr>\n",
       "      <th>566</th>\n",
       "      <td>corrupt Tethan corporations pollute your land ...</td>\n",
       "      <td>36.054</td>\n",
       "      <td>24.902</td>\n",
       "      <td>2014-01-23 17:42:00</td>\n",
       "    </tr>\n",
       "    <tr>\n",
       "      <th>591</th>\n",
       "      <td>people of Kronos, rise up and take your countr...</td>\n",
       "      <td>36.054</td>\n",
       "      <td>24.902</td>\n",
       "      <td>2014-01-23 17:44:00</td>\n",
       "    </tr>\n",
       "    <tr>\n",
       "      <th>623</th>\n",
       "      <td>classic cover of a classic song Big Yellow Tax...</td>\n",
       "      <td>36.051</td>\n",
       "      <td>24.854</td>\n",
       "      <td>2014-01-23 17:48:00</td>\n",
       "    </tr>\n",
       "    <tr>\n",
       "      <th>631</th>\n",
       "      <td>Viktor-E should collaborate with Joni Mitchell...</td>\n",
       "      <td>36.051</td>\n",
       "      <td>24.854</td>\n",
       "      <td>2014-01-23 17:49:00</td>\n",
       "    </tr>\n",
       "    <tr>\n",
       "      <th>678</th>\n",
       "      <td>preety sure ive heard this speech before from ...</td>\n",
       "      <td>36.052</td>\n",
       "      <td>24.852</td>\n",
       "      <td>2014-01-23 17:53:48</td>\n",
       "    </tr>\n",
       "    <tr>\n",
       "      <th>716</th>\n",
       "      <td>corporations don't care about people or wildli...</td>\n",
       "      <td>36.054</td>\n",
       "      <td>24.902</td>\n",
       "      <td>2014-01-23 17:57:47</td>\n",
       "    </tr>\n",
       "    <tr>\n",
       "      <th>717</th>\n",
       "      <td>dragging on &amp; on im getting hungry</td>\n",
       "      <td>36.052</td>\n",
       "      <td>24.852</td>\n",
       "      <td>2014-01-23 17:57:47</td>\n",
       "    </tr>\n",
       "    <tr>\n",
       "      <th>896</th>\n",
       "      <td>who wnats to join me for some gelato #hungry #...</td>\n",
       "      <td>36.052</td>\n",
       "      <td>24.852</td>\n",
       "      <td>2014-01-23 18:15:14</td>\n",
       "    </tr>\n",
       "    <tr>\n",
       "      <th>1059</th>\n",
       "      <td>not really feelin the Doc kinda wish Sylvia wo...</td>\n",
       "      <td>36.052</td>\n",
       "      <td>24.852</td>\n",
       "      <td>2014-01-23 18:33:24</td>\n",
       "    </tr>\n",
       "    <tr>\n",
       "      <th>1123</th>\n",
       "      <td>real power comes from taking your future into ...</td>\n",
       "      <td>36.054</td>\n",
       "      <td>24.902</td>\n",
       "      <td>2014-01-23 18:40:00</td>\n",
       "    </tr>\n",
       "    <tr>\n",
       "      <th>1151</th>\n",
       "      <td>i think the dancin dolphin is on fire!</td>\n",
       "      <td>36.059</td>\n",
       "      <td>24.894</td>\n",
       "      <td>2014-01-23 18:42:10</td>\n",
       "    </tr>\n",
       "    <tr>\n",
       "      <th>1214</th>\n",
       "      <td>Fire trucks are arriving at the dancing dolphi...</td>\n",
       "      <td>36.059</td>\n",
       "      <td>24.894</td>\n",
       "      <td>2014-01-23 18:45:00</td>\n",
       "    </tr>\n",
       "    <tr>\n",
       "      <th>1219</th>\n",
       "      <td>very inspiring speech from Dr Newman \"you can ...</td>\n",
       "      <td>36.051</td>\n",
       "      <td>24.854</td>\n",
       "      <td>2014-01-23 18:45:00</td>\n",
       "    </tr>\n",
       "    <tr>\n",
       "      <th>1280</th>\n",
       "      <td>real change is only possibly if Kronos is rule...</td>\n",
       "      <td>36.054</td>\n",
       "      <td>24.902</td>\n",
       "      <td>2014-01-23 18:46:21</td>\n",
       "    </tr>\n",
       "    <tr>\n",
       "      <th>1340</th>\n",
       "      <td>who else has had enough of the speeches? feel ...</td>\n",
       "      <td>36.052</td>\n",
       "      <td>24.852</td>\n",
       "      <td>2014-01-23 18:47:31</td>\n",
       "    </tr>\n",
       "    <tr>\n",
       "      <th>1362</th>\n",
       "      <td>heading to gelatogalore! whos with me?</td>\n",
       "      <td>36.055</td>\n",
       "      <td>24.855</td>\n",
       "      <td>2014-01-23 18:48:02</td>\n",
       "    </tr>\n",
       "    <tr>\n",
       "      <th>1374</th>\n",
       "      <td>im on the corner of ermou &amp; parla #gelatorocks</td>\n",
       "      <td>36.055</td>\n",
       "      <td>24.855</td>\n",
       "      <td>2014-01-23 18:48:57</td>\n",
       "    </tr>\n",
       "    <tr>\n",
       "      <th>1414</th>\n",
       "      <td>guess i need to find out about Hilel the Elder...</td>\n",
       "      <td>36.051</td>\n",
       "      <td>24.854</td>\n",
       "      <td>2014-01-23 18:50:21</td>\n",
       "    </tr>\n",
       "    <tr>\n",
       "      <th>1485</th>\n",
       "      <td>Viktor-E playing my favorite \"\"Stand up Speak ...</td>\n",
       "      <td>36.051</td>\n",
       "      <td>24.854</td>\n",
       "      <td>2014-01-23 18:53:10</td>\n",
       "    </tr>\n",
       "    <tr>\n",
       "      <th>1513</th>\n",
       "      <td>Police are flooding the scene</td>\n",
       "      <td>36.059</td>\n",
       "      <td>24.894</td>\n",
       "      <td>2014-01-23 18:55:01</td>\n",
       "    </tr>\n",
       "    <tr>\n",
       "      <th>1524</th>\n",
       "      <td>Oh man they are evacuating the nearby building...</td>\n",
       "      <td>36.059</td>\n",
       "      <td>24.894</td>\n",
       "      <td>2014-01-23 18:55:05</td>\n",
       "    </tr>\n",
       "    <tr>\n",
       "      <th>1597</th>\n",
       "      <td>Someone just got rescued and looks really bad ...</td>\n",
       "      <td>36.059</td>\n",
       "      <td>24.894</td>\n",
       "      <td>2014-01-23 19:00:00</td>\n",
       "    </tr>\n",
       "    <tr>\n",
       "      <th>1636</th>\n",
       "      <td>join the POK and make a differnce #POK</td>\n",
       "      <td>36.054</td>\n",
       "      <td>24.902</td>\n",
       "      <td>2014-01-23 19:02:00</td>\n",
       "    </tr>\n",
       "    <tr>\n",
       "      <th>1724</th>\n",
       "      <td>theyre playing Circles and if youre not here y...</td>\n",
       "      <td>36.051</td>\n",
       "      <td>24.854</td>\n",
       "      <td>2014-01-23 19:07:00</td>\n",
       "    </tr>\n",
       "    <tr>\n",
       "      <th>1761</th>\n",
       "      <td>They are taking the rescued person to the hosp...</td>\n",
       "      <td>36.059</td>\n",
       "      <td>24.894</td>\n",
       "      <td>2014-01-23 19:10:00</td>\n",
       "    </tr>\n",
       "    <tr>\n",
       "      <th>1764</th>\n",
       "      <td>gelatogalore so so good!</td>\n",
       "      <td>36.059</td>\n",
       "      <td>24.856</td>\n",
       "      <td>2014-01-23 19:10:00</td>\n",
       "    </tr>\n",
       "    <tr>\n",
       "      <th>1786</th>\n",
       "      <td>more than just gelato their pommes frites are ...</td>\n",
       "      <td>36.059</td>\n",
       "      <td>24.856</td>\n",
       "      <td>2014-01-23 19:12:02</td>\n",
       "    </tr>\n",
       "    <tr>\n",
       "      <th>1818</th>\n",
       "      <td>dancin time! thanks #POK thanks Sylvia! #POK i...</td>\n",
       "      <td>36.051</td>\n",
       "      <td>24.854</td>\n",
       "      <td>2014-01-23 19:15:00</td>\n",
       "    </tr>\n",
       "    <tr>\n",
       "      <th>1819</th>\n",
       "      <td>looks like im missing some Viktor-E! too bad g...</td>\n",
       "      <td>36.059</td>\n",
       "      <td>24.856</td>\n",
       "      <td>2014-01-23 19:15:00</td>\n",
       "    </tr>\n",
       "    <tr>\n",
       "      <th>1829</th>\n",
       "      <td>Wow - more police #abilafire</td>\n",
       "      <td>36.059</td>\n",
       "      <td>24.894</td>\n",
       "      <td>2014-01-23 19:16:07</td>\n",
       "    </tr>\n",
       "    <tr>\n",
       "      <th>1845</th>\n",
       "      <td>Check out the new issue of ARISE, a magazine f...</td>\n",
       "      <td>36.054</td>\n",
       "      <td>24.902</td>\n",
       "      <td>2014-01-23 19:17:00</td>\n",
       "    </tr>\n",
       "    <tr>\n",
       "      <th>1895</th>\n",
       "      <td>More fire trucks are arriving this is really bad</td>\n",
       "      <td>36.059</td>\n",
       "      <td>24.894</td>\n",
       "      <td>2014-01-23 19:20:00</td>\n",
       "    </tr>\n",
       "    <tr>\n",
       "      <th>1898</th>\n",
       "      <td>Some moron in a black van just hit my car!</td>\n",
       "      <td>36.057</td>\n",
       "      <td>24.892</td>\n",
       "      <td>2014-01-23 19:20:00</td>\n",
       "    </tr>\n",
       "    <tr>\n",
       "      <th>1899</th>\n",
       "      <td>WOW! Crazy driver! Hopefully everyone is ok!</td>\n",
       "      <td>36.054</td>\n",
       "      <td>24.901</td>\n",
       "      <td>2014-01-23 19:20:00</td>\n",
       "    </tr>\n",
       "    <tr>\n",
       "      <th>1924</th>\n",
       "      <td>Oh no!! That crazy driver hit a guy on a bike ...</td>\n",
       "      <td>36.054</td>\n",
       "      <td>24.901</td>\n",
       "      <td>2014-01-23 19:21:01</td>\n",
       "    </tr>\n",
       "    <tr>\n",
       "      <th>1930</th>\n",
       "      <td>FREE COFFEE to anyone who caught the license p...</td>\n",
       "      <td>36.054</td>\n",
       "      <td>24.901</td>\n",
       "      <td>2014-01-23 19:21:38</td>\n",
       "    </tr>\n",
       "    <tr>\n",
       "      <th>1941</th>\n",
       "      <td>They are announcing more evacuations not sure ...</td>\n",
       "      <td>36.059</td>\n",
       "      <td>24.894</td>\n",
       "      <td>2014-01-23 19:22:00</td>\n",
       "    </tr>\n",
       "    <tr>\n",
       "      <th>1942</th>\n",
       "      <td>OMG!!!!!!! Some derp in a?balck?van just?hit a...</td>\n",
       "      <td>36.054</td>\n",
       "      <td>24.901</td>\n",
       "      <td>2014-01-23 19:22:00</td>\n",
       "    </tr>\n",
       "    <tr>\n",
       "      <th>1960</th>\n",
       "      <td>AND LEFT!!!!!!</td>\n",
       "      <td>36.054</td>\n",
       "      <td>24.901</td>\n",
       "      <td>2014-01-23 19:23:00</td>\n",
       "    </tr>\n",
       "    <tr>\n",
       "      <th>2001</th>\n",
       "      <td>They must be really worried</td>\n",
       "      <td>36.059</td>\n",
       "      <td>24.894</td>\n",
       "      <td>2014-01-23 19:25:00</td>\n",
       "    </tr>\n",
       "    <tr>\n",
       "      <th>2004</th>\n",
       "      <td>anyone know a good body shop?</td>\n",
       "      <td>36.057</td>\n",
       "      <td>24.892</td>\n",
       "      <td>2014-01-23 19:25:00</td>\n",
       "    </tr>\n",
       "    <tr>\n",
       "      <th>2007</th>\n",
       "      <td>i called 555. got a license HAHA to the derp!</td>\n",
       "      <td>36.054</td>\n",
       "      <td>24.901</td>\n",
       "      <td>2014-01-23 19:25:00</td>\n",
       "    </tr>\n",
       "    <tr>\n",
       "      <th>2008</th>\n",
       "      <td>This is the FIRST time anyone has been injured...</td>\n",
       "      <td>36.054</td>\n",
       "      <td>24.901</td>\n",
       "      <td>2014-01-23 19:25:00</td>\n",
       "    </tr>\n",
       "    <tr>\n",
       "      <th>2017</th>\n",
       "      <td>Poor guy on bike appears to be ok, just shaken.</td>\n",
       "      <td>36.054</td>\n",
       "      <td>24.901</td>\n",
       "      <td>2014-01-23 19:25:08</td>\n",
       "    </tr>\n",
       "    <tr>\n",
       "      <th>2032</th>\n",
       "      <td>Bike is totally trashed.? Looked like a nice o...</td>\n",
       "      <td>36.054</td>\n",
       "      <td>24.901</td>\n",
       "      <td>2014-01-23 19:26:13</td>\n",
       "    </tr>\n",
       "  </tbody>\n",
       "</table>\n",
       "</div>"
      ],
      "text/plain": [
       "                                                message  latitude  longitude  \\\n",
       "105         rally time! ready for some inspiration #POK    36.052     24.852   \n",
       "169   The Asterian People's Army supports the POK in...    36.054     24.902   \n",
       "170               Cant wait to hear Viktor-E! #POKRally    36.051     24.854   \n",
       "207                 Sylvia rocks! you go girl #POKRally    36.052     24.852   \n",
       "232   lots of cops hopefully they dont do anything s...    36.051     24.854   \n",
       "233           gotta be 3000 people here! #POK is strong    36.052     24.852   \n",
       "264   greedy corporations are ruining Kronos and poi...    36.054     24.902   \n",
       "276             lots of cops but they cant stop us #POK    36.052     24.852   \n",
       "296           Lucio Jakab tells it like it is #POK #SOW    36.052     24.852   \n",
       "335   President Kapelou is a stooge for greeddy Teth...    36.054     24.902   \n",
       "352   so many people here this is awesome! POK is pe...    36.051     24.854   \n",
       "386   the capitalists don't care about the poeple of...    36.054     24.902   \n",
       "479         #RememberJuliana #RememberElian #VivaSylvia    36.052     24.852   \n",
       "515   you have the power to take Kronos back for the...    36.054     24.902   \n",
       "533   great new song from Viktor-E! River Soldiers i...    36.051     24.854   \n",
       "566   corrupt Tethan corporations pollute your land ...    36.054     24.902   \n",
       "591   people of Kronos, rise up and take your countr...    36.054     24.902   \n",
       "623   classic cover of a classic song Big Yellow Tax...    36.051     24.854   \n",
       "631   Viktor-E should collaborate with Joni Mitchell...    36.051     24.854   \n",
       "678   preety sure ive heard this speech before from ...    36.052     24.852   \n",
       "716   corporations don't care about people or wildli...    36.054     24.902   \n",
       "717                  dragging on & on im getting hungry    36.052     24.852   \n",
       "896   who wnats to join me for some gelato #hungry #...    36.052     24.852   \n",
       "1059  not really feelin the Doc kinda wish Sylvia wo...    36.052     24.852   \n",
       "1123  real power comes from taking your future into ...    36.054     24.902   \n",
       "1151             i think the dancin dolphin is on fire!    36.059     24.894   \n",
       "1214  Fire trucks are arriving at the dancing dolphi...    36.059     24.894   \n",
       "1219  very inspiring speech from Dr Newman \"you can ...    36.051     24.854   \n",
       "1280  real change is only possibly if Kronos is rule...    36.054     24.902   \n",
       "1340  who else has had enough of the speeches? feel ...    36.052     24.852   \n",
       "1362             heading to gelatogalore! whos with me?    36.055     24.855   \n",
       "1374     im on the corner of ermou & parla #gelatorocks    36.055     24.855   \n",
       "1414  guess i need to find out about Hilel the Elder...    36.051     24.854   \n",
       "1485  Viktor-E playing my favorite \"\"Stand up Speak ...    36.051     24.854   \n",
       "1513                      Police are flooding the scene    36.059     24.894   \n",
       "1524  Oh man they are evacuating the nearby building...    36.059     24.894   \n",
       "1597  Someone just got rescued and looks really bad ...    36.059     24.894   \n",
       "1636             join the POK and make a differnce #POK    36.054     24.902   \n",
       "1724  theyre playing Circles and if youre not here y...    36.051     24.854   \n",
       "1761  They are taking the rescued person to the hosp...    36.059     24.894   \n",
       "1764                           gelatogalore so so good!    36.059     24.856   \n",
       "1786  more than just gelato their pommes frites are ...    36.059     24.856   \n",
       "1818  dancin time! thanks #POK thanks Sylvia! #POK i...    36.051     24.854   \n",
       "1819  looks like im missing some Viktor-E! too bad g...    36.059     24.856   \n",
       "1829                       Wow - more police #abilafire    36.059     24.894   \n",
       "1845  Check out the new issue of ARISE, a magazine f...    36.054     24.902   \n",
       "1895   More fire trucks are arriving this is really bad    36.059     24.894   \n",
       "1898         Some moron in a black van just hit my car!    36.057     24.892   \n",
       "1899       WOW! Crazy driver! Hopefully everyone is ok!    36.054     24.901   \n",
       "1924  Oh no!! That crazy driver hit a guy on a bike ...    36.054     24.901   \n",
       "1930  FREE COFFEE to anyone who caught the license p...    36.054     24.901   \n",
       "1941  They are announcing more evacuations not sure ...    36.059     24.894   \n",
       "1942  OMG!!!!!!! Some derp in a?balck?van just?hit a...    36.054     24.901   \n",
       "1960                                     AND LEFT!!!!!!    36.054     24.901   \n",
       "2001                        They must be really worried    36.059     24.894   \n",
       "2004                      anyone know a good body shop?    36.057     24.892   \n",
       "2007      i called 555. got a license HAHA to the derp!    36.054     24.901   \n",
       "2008  This is the FIRST time anyone has been injured...    36.054     24.901   \n",
       "2017    Poor guy on bike appears to be ok, just shaken.    36.054     24.901   \n",
       "2032  Bike is totally trashed.? Looked like a nice o...    36.054     24.901   \n",
       "\n",
       "     date(yyyyMMddHHmmss)  \n",
       "105   2014-01-23 17:10:00  \n",
       "169   2014-01-23 17:14:47  \n",
       "170   2014-01-23 17:14:47  \n",
       "207   2014-01-23 17:16:00  \n",
       "232   2014-01-23 17:18:00  \n",
       "233   2014-01-23 17:18:00  \n",
       "264   2014-01-23 17:20:00  \n",
       "276   2014-01-23 17:21:00  \n",
       "296   2014-01-23 17:22:47  \n",
       "335   2014-01-23 17:25:00  \n",
       "352   2014-01-23 17:25:45  \n",
       "386   2014-01-23 17:27:00  \n",
       "479   2014-01-23 17:33:00  \n",
       "515   2014-01-23 17:36:11  \n",
       "533   2014-01-23 17:38:02  \n",
       "566   2014-01-23 17:42:00  \n",
       "591   2014-01-23 17:44:00  \n",
       "623   2014-01-23 17:48:00  \n",
       "631   2014-01-23 17:49:00  \n",
       "678   2014-01-23 17:53:48  \n",
       "716   2014-01-23 17:57:47  \n",
       "717   2014-01-23 17:57:47  \n",
       "896   2014-01-23 18:15:14  \n",
       "1059  2014-01-23 18:33:24  \n",
       "1123  2014-01-23 18:40:00  \n",
       "1151  2014-01-23 18:42:10  \n",
       "1214  2014-01-23 18:45:00  \n",
       "1219  2014-01-23 18:45:00  \n",
       "1280  2014-01-23 18:46:21  \n",
       "1340  2014-01-23 18:47:31  \n",
       "1362  2014-01-23 18:48:02  \n",
       "1374  2014-01-23 18:48:57  \n",
       "1414  2014-01-23 18:50:21  \n",
       "1485  2014-01-23 18:53:10  \n",
       "1513  2014-01-23 18:55:01  \n",
       "1524  2014-01-23 18:55:05  \n",
       "1597  2014-01-23 19:00:00  \n",
       "1636  2014-01-23 19:02:00  \n",
       "1724  2014-01-23 19:07:00  \n",
       "1761  2014-01-23 19:10:00  \n",
       "1764  2014-01-23 19:10:00  \n",
       "1786  2014-01-23 19:12:02  \n",
       "1818  2014-01-23 19:15:00  \n",
       "1819  2014-01-23 19:15:00  \n",
       "1829  2014-01-23 19:16:07  \n",
       "1845  2014-01-23 19:17:00  \n",
       "1895  2014-01-23 19:20:00  \n",
       "1898  2014-01-23 19:20:00  \n",
       "1899  2014-01-23 19:20:00  \n",
       "1924  2014-01-23 19:21:01  \n",
       "1930  2014-01-23 19:21:38  \n",
       "1941  2014-01-23 19:22:00  \n",
       "1942  2014-01-23 19:22:00  \n",
       "1960  2014-01-23 19:23:00  \n",
       "2001  2014-01-23 19:25:00  \n",
       "2004  2014-01-23 19:25:00  \n",
       "2007  2014-01-23 19:25:00  \n",
       "2008  2014-01-23 19:25:00  \n",
       "2017  2014-01-23 19:25:08  \n",
       "2032  2014-01-23 19:26:13  "
      ]
     },
     "execution_count": 138,
     "metadata": {},
     "output_type": "execute_result"
    }
   ],
   "source": [
    "geo_df[['message', 'latitude', 'longitude', 'date(yyyyMMddHHmmss)']].head(60)"
   ]
  },
  {
   "cell_type": "code",
   "execution_count": 39,
   "metadata": {},
   "outputs": [
    {
     "data": {
      "text/plain": [
       "(147, 15)"
      ]
     },
     "execution_count": 39,
     "metadata": {},
     "output_type": "execute_result"
    }
   ],
   "source": [
    "geo_df.shape"
   ]
  },
  {
   "cell_type": "code",
   "execution_count": 59,
   "metadata": {},
   "outputs": [],
   "source": [
    "# get messages about the fire that have geolocations\n",
    "fire = geo_df[geo_df['message'].str.contains('fire', 'dancing dolphin', 'dancing', 'dolphin', regex=False)]"
   ]
  },
  {
   "cell_type": "code",
   "execution_count": 62,
   "metadata": {},
   "outputs": [
    {
     "data": {
      "text/plain": [
       "(9, 15)"
      ]
     },
     "execution_count": 62,
     "metadata": {},
     "output_type": "execute_result"
    }
   ],
   "source": [
    "fire.shape"
   ]
  },
  {
   "cell_type": "code",
   "execution_count": 60,
   "metadata": {},
   "outputs": [
    {
     "data": {
      "text/html": [
       "<div>\n",
       "<style scoped>\n",
       "    .dataframe tbody tr th:only-of-type {\n",
       "        vertical-align: middle;\n",
       "    }\n",
       "\n",
       "    .dataframe tbody tr th {\n",
       "        vertical-align: top;\n",
       "    }\n",
       "\n",
       "    .dataframe thead th {\n",
       "        text-align: right;\n",
       "    }\n",
       "</style>\n",
       "<table border=\"1\" class=\"dataframe\">\n",
       "  <thead>\n",
       "    <tr style=\"text-align: right;\">\n",
       "      <th></th>\n",
       "      <th>message</th>\n",
       "      <th>latitude</th>\n",
       "      <th>longitude</th>\n",
       "    </tr>\n",
       "  </thead>\n",
       "  <tbody>\n",
       "    <tr>\n",
       "      <th>1151</th>\n",
       "      <td>i think the dancin dolphin is on fire!</td>\n",
       "      <td>36.059</td>\n",
       "      <td>24.894</td>\n",
       "    </tr>\n",
       "    <tr>\n",
       "      <th>1524</th>\n",
       "      <td>Oh man they are evacuating the nearby building...</td>\n",
       "      <td>36.059</td>\n",
       "      <td>24.894</td>\n",
       "    </tr>\n",
       "    <tr>\n",
       "      <th>1597</th>\n",
       "      <td>Someone just got rescued and looks really bad ...</td>\n",
       "      <td>36.059</td>\n",
       "      <td>24.894</td>\n",
       "    </tr>\n",
       "    <tr>\n",
       "      <th>1829</th>\n",
       "      <td>Wow - more police #abilafire</td>\n",
       "      <td>36.059</td>\n",
       "      <td>24.894</td>\n",
       "    </tr>\n",
       "    <tr>\n",
       "      <th>1895</th>\n",
       "      <td>More fire trucks are arriving this is really bad</td>\n",
       "      <td>36.059</td>\n",
       "      <td>24.894</td>\n",
       "    </tr>\n",
       "    <tr>\n",
       "      <th>2049</th>\n",
       "      <td>They are getting ready to go house to house I\"...</td>\n",
       "      <td>36.059</td>\n",
       "      <td>24.894</td>\n",
       "    </tr>\n",
       "    <tr>\n",
       "      <th>2815</th>\n",
       "      <td>They just pulled a firefighter out on a stretc...</td>\n",
       "      <td>36.059</td>\n",
       "      <td>24.894</td>\n",
       "    </tr>\n",
       "    <tr>\n",
       "      <th>2900</th>\n",
       "      <td>They just put him in an ambulance #hurtfirefig...</td>\n",
       "      <td>36.059</td>\n",
       "      <td>24.894</td>\n",
       "    </tr>\n",
       "    <tr>\n",
       "      <th>4038</th>\n",
       "      <td>OMG was that an explosion ? #abilafire</td>\n",
       "      <td>36.059</td>\n",
       "      <td>24.894</td>\n",
       "    </tr>\n",
       "  </tbody>\n",
       "</table>\n",
       "</div>"
      ],
      "text/plain": [
       "                                                message  latitude  longitude\n",
       "1151             i think the dancin dolphin is on fire!    36.059     24.894\n",
       "1524  Oh man they are evacuating the nearby building...    36.059     24.894\n",
       "1597  Someone just got rescued and looks really bad ...    36.059     24.894\n",
       "1829                       Wow - more police #abilafire    36.059     24.894\n",
       "1895   More fire trucks are arriving this is really bad    36.059     24.894\n",
       "2049  They are getting ready to go house to house I\"...    36.059     24.894\n",
       "2815  They just pulled a firefighter out on a stretc...    36.059     24.894\n",
       "2900  They just put him in an ambulance #hurtfirefig...    36.059     24.894\n",
       "4038             OMG was that an explosion ? #abilafire    36.059     24.894"
      ]
     },
     "execution_count": 60,
     "metadata": {},
     "output_type": "execute_result"
    }
   ],
   "source": [
    "fire[['message', 'latitude', 'longitude']].head(10)"
   ]
  },
  {
   "cell_type": "code",
   "execution_count": 126,
   "metadata": {},
   "outputs": [],
   "source": [
    "# get messages about the van, crash, bicycle that contain geolocations 'van', 'hit', 'bicycle', 'pedestrian', 'run'\n",
    "hit_words = ['van', 'hit', 'bicycle', 'pedestrian']\n",
    "hitnrun = geo_df[geo_df['message'].str.contains(*hit_words, regex=False)]"
   ]
  },
  {
   "cell_type": "code",
   "execution_count": 127,
   "metadata": {},
   "outputs": [
    {
     "data": {
      "text/html": [
       "<div>\n",
       "<style scoped>\n",
       "    .dataframe tbody tr th:only-of-type {\n",
       "        vertical-align: middle;\n",
       "    }\n",
       "\n",
       "    .dataframe tbody tr th {\n",
       "        vertical-align: top;\n",
       "    }\n",
       "\n",
       "    .dataframe thead th {\n",
       "        text-align: right;\n",
       "    }\n",
       "</style>\n",
       "<table border=\"1\" class=\"dataframe\">\n",
       "  <thead>\n",
       "    <tr style=\"text-align: right;\">\n",
       "      <th></th>\n",
       "      <th>message</th>\n",
       "      <th>latitude</th>\n",
       "      <th>longitude</th>\n",
       "    </tr>\n",
       "  </thead>\n",
       "  <tbody>\n",
       "    <tr>\n",
       "      <th>1898</th>\n",
       "      <td>Some moron in a black van just hit my car!</td>\n",
       "      <td>36.057</td>\n",
       "      <td>24.892</td>\n",
       "    </tr>\n",
       "    <tr>\n",
       "      <th>1930</th>\n",
       "      <td>FREE COFFEE to anyone who caught the license p...</td>\n",
       "      <td>36.054</td>\n",
       "      <td>24.901</td>\n",
       "    </tr>\n",
       "    <tr>\n",
       "      <th>1942</th>\n",
       "      <td>OMG!!!!!!! Some derp in a?balck?van just?hit a...</td>\n",
       "      <td>36.054</td>\n",
       "      <td>24.901</td>\n",
       "    </tr>\n",
       "    <tr>\n",
       "      <th>2228</th>\n",
       "      <td>wow some crazy black van just got pulled over ...</td>\n",
       "      <td>36.059</td>\n",
       "      <td>24.856</td>\n",
       "    </tr>\n",
       "    <tr>\n",
       "      <th>2298</th>\n",
       "      <td>why didnt i stay at the rally? im trapped in h...</td>\n",
       "      <td>36.059</td>\n",
       "      <td>24.856</td>\n",
       "    </tr>\n",
       "    <tr>\n",
       "      <th>2461</th>\n",
       "      <td>looks like there are 3 cop cars and the black ...</td>\n",
       "      <td>36.059</td>\n",
       "      <td>24.856</td>\n",
       "    </tr>\n",
       "    <tr>\n",
       "      <th>2786</th>\n",
       "      <td>guy in the van keeps yeelling at cops cant hea...</td>\n",
       "      <td>36.059</td>\n",
       "      <td>24.856</td>\n",
       "    </tr>\n",
       "    <tr>\n",
       "      <th>3065</th>\n",
       "      <td>they seemed really interested in where that va...</td>\n",
       "      <td>36.057</td>\n",
       "      <td>24.892</td>\n",
       "    </tr>\n",
       "    <tr>\n",
       "      <th>3691</th>\n",
       "      <td>what is this guy doing? just give up and now h...</td>\n",
       "      <td>36.059</td>\n",
       "      <td>24.856</td>\n",
       "    </tr>\n",
       "    <tr>\n",
       "      <th>3694</th>\n",
       "      <td>crazy guy is back in the van - what is going on?</td>\n",
       "      <td>36.059</td>\n",
       "      <td>24.857</td>\n",
       "    </tr>\n",
       "    <tr>\n",
       "      <th>3739</th>\n",
       "      <td>looks like therye still fighting in the van re...</td>\n",
       "      <td>36.059</td>\n",
       "      <td>24.856</td>\n",
       "    </tr>\n",
       "    <tr>\n",
       "      <th>3796</th>\n",
       "      <td>someones out of the van! is it over?</td>\n",
       "      <td>36.059</td>\n",
       "      <td>24.856</td>\n",
       "    </tr>\n",
       "    <tr>\n",
       "      <th>3805</th>\n",
       "      <td>other guy is out of the van! its over theyre g...</td>\n",
       "      <td>36.059</td>\n",
       "      <td>24.856</td>\n",
       "    </tr>\n",
       "    <tr>\n",
       "      <th>3852</th>\n",
       "      <td>i think there giving up 2 people hands up got ...</td>\n",
       "      <td>36.059</td>\n",
       "      <td>24.857</td>\n",
       "    </tr>\n",
       "  </tbody>\n",
       "</table>\n",
       "</div>"
      ],
      "text/plain": [
       "                                                message  latitude  longitude\n",
       "1898         Some moron in a black van just hit my car!    36.057     24.892\n",
       "1930  FREE COFFEE to anyone who caught the license p...    36.054     24.901\n",
       "1942  OMG!!!!!!! Some derp in a?balck?van just?hit a...    36.054     24.901\n",
       "2228  wow some crazy black van just got pulled over ...    36.059     24.856\n",
       "2298  why didnt i stay at the rally? im trapped in h...    36.059     24.856\n",
       "2461  looks like there are 3 cop cars and the black ...    36.059     24.856\n",
       "2786  guy in the van keeps yeelling at cops cant hea...    36.059     24.856\n",
       "3065  they seemed really interested in where that va...    36.057     24.892\n",
       "3691  what is this guy doing? just give up and now h...    36.059     24.856\n",
       "3694   crazy guy is back in the van - what is going on?    36.059     24.857\n",
       "3739  looks like therye still fighting in the van re...    36.059     24.856\n",
       "3796               someones out of the van! is it over?    36.059     24.856\n",
       "3805  other guy is out of the van! its over theyre g...    36.059     24.856\n",
       "3852  i think there giving up 2 people hands up got ...    36.059     24.857"
      ]
     },
     "execution_count": 127,
     "metadata": {},
     "output_type": "execute_result"
    }
   ],
   "source": [
    "hitnrun[['message', 'latitude', 'longitude']].head(14)"
   ]
  },
  {
   "cell_type": "code",
   "execution_count": 75,
   "metadata": {},
   "outputs": [],
   "source": [
    "# get messages about the standoff, hostage situation that contain geolocations\n",
    "hostage = geo_df[geo_df['message'].str.contains('standoff', 'gun', 'hostage', 'police', regex=False)]"
   ]
  },
  {
   "cell_type": "code",
   "execution_count": 76,
   "metadata": {},
   "outputs": [
    {
     "data": {
      "text/plain": [
       "(25, 15)"
      ]
     },
     "execution_count": 76,
     "metadata": {},
     "output_type": "execute_result"
    }
   ],
   "source": [
    "hostage.shape"
   ]
  },
  {
   "cell_type": "code",
   "execution_count": 147,
   "metadata": {},
   "outputs": [
    {
     "data": {
      "text/html": [
       "<div>\n",
       "<style scoped>\n",
       "    .dataframe tbody tr th:only-of-type {\n",
       "        vertical-align: middle;\n",
       "    }\n",
       "\n",
       "    .dataframe tbody tr th {\n",
       "        vertical-align: top;\n",
       "    }\n",
       "\n",
       "    .dataframe thead th {\n",
       "        text-align: right;\n",
       "    }\n",
       "</style>\n",
       "<table border=\"1\" class=\"dataframe\">\n",
       "  <thead>\n",
       "    <tr style=\"text-align: right;\">\n",
       "      <th></th>\n",
       "      <th>message</th>\n",
       "      <th>latitude</th>\n",
       "      <th>longitude</th>\n",
       "      <th>date(yyyyMMddHHmmss)</th>\n",
       "    </tr>\n",
       "  </thead>\n",
       "  <tbody>\n",
       "    <tr>\n",
       "      <th>2735</th>\n",
       "      <td>holy cow SWAt showed up this is getting crazy ...</td>\n",
       "      <td>36.059</td>\n",
       "      <td>24.857</td>\n",
       "      <td>2014-01-23 19:55:00</td>\n",
       "    </tr>\n",
       "    <tr>\n",
       "      <th>2744</th>\n",
       "      <td>i think the swat team has arrived hopefully st...</td>\n",
       "      <td>36.059</td>\n",
       "      <td>24.856</td>\n",
       "      <td>2014-01-23 19:55:59</td>\n",
       "    </tr>\n",
       "    <tr>\n",
       "      <th>2760</th>\n",
       "      <td>cant believe theres no backdoor here im ready ...</td>\n",
       "      <td>36.059</td>\n",
       "      <td>24.856</td>\n",
       "      <td>2014-01-23 19:57:00</td>\n",
       "    </tr>\n",
       "    <tr>\n",
       "      <th>2786</th>\n",
       "      <td>guy in the van keeps yeelling at cops cant hea...</td>\n",
       "      <td>36.059</td>\n",
       "      <td>24.856</td>\n",
       "      <td>2014-01-23 19:58:13</td>\n",
       "    </tr>\n",
       "    <tr>\n",
       "      <th>2907</th>\n",
       "      <td>#APD is evacuating us #standoff</td>\n",
       "      <td>36.059</td>\n",
       "      <td>24.857</td>\n",
       "      <td>2014-01-23 20:05:00</td>\n",
       "    </tr>\n",
       "    <tr>\n",
       "      <th>2931</th>\n",
       "      <td>i think there's a hostage - why isnt #APD doin...</td>\n",
       "      <td>36.059</td>\n",
       "      <td>24.857</td>\n",
       "      <td>2014-01-23 20:06:13</td>\n",
       "    </tr>\n",
       "    <tr>\n",
       "      <th>3099</th>\n",
       "      <td>should got another coffeee this is going to ta...</td>\n",
       "      <td>36.059</td>\n",
       "      <td>24.857</td>\n",
       "      <td>2014-01-23 20:13:00</td>\n",
       "    </tr>\n",
       "    <tr>\n",
       "      <th>3365</th>\n",
       "      <td>so bored &amp; so scared ive never felt like this ...</td>\n",
       "      <td>36.059</td>\n",
       "      <td>24.856</td>\n",
       "      <td>2014-01-23 20:31:47</td>\n",
       "    </tr>\n",
       "    <tr>\n",
       "      <th>3382</th>\n",
       "      <td>i wish this was over i can barely even type an...</td>\n",
       "      <td>36.059</td>\n",
       "      <td>24.856</td>\n",
       "      <td>2014-01-23 20:32:52</td>\n",
       "    </tr>\n",
       "    <tr>\n",
       "      <th>3402</th>\n",
       "      <td>why dont the cops do anything? save us pls! #A...</td>\n",
       "      <td>36.059</td>\n",
       "      <td>24.856</td>\n",
       "      <td>2014-01-23 20:33:49</td>\n",
       "    </tr>\n",
       "    <tr>\n",
       "      <th>3433</th>\n",
       "      <td>why is this taking so long? im starting to fee...</td>\n",
       "      <td>36.059</td>\n",
       "      <td>24.856</td>\n",
       "      <td>2014-01-23 20:35:02</td>\n",
       "    </tr>\n",
       "    <tr>\n",
       "      <th>3503</th>\n",
       "      <td>just poked my head up looks like hundred of pe...</td>\n",
       "      <td>36.059</td>\n",
       "      <td>24.856</td>\n",
       "      <td>2014-01-23 20:40:00</td>\n",
       "    </tr>\n",
       "    <tr>\n",
       "      <th>3522</th>\n",
       "      <td>who comes to see this? all i want to do is get...</td>\n",
       "      <td>36.059</td>\n",
       "      <td>24.856</td>\n",
       "      <td>2014-01-23 20:43:01</td>\n",
       "    </tr>\n",
       "    <tr>\n",
       "      <th>3537</th>\n",
       "      <td>anybody out there watching the standoff i iwll...</td>\n",
       "      <td>36.059</td>\n",
       "      <td>24.856</td>\n",
       "      <td>2014-01-23 20:45:00</td>\n",
       "    </tr>\n",
       "    <tr>\n",
       "      <th>3576</th>\n",
       "      <td>shuoldve stayed at the rally #standoff</td>\n",
       "      <td>36.059</td>\n",
       "      <td>24.856</td>\n",
       "      <td>2014-01-23 20:48:44</td>\n",
       "    </tr>\n",
       "    <tr>\n",
       "      <th>3622</th>\n",
       "      <td>poked my head up looks like negotiations are s...</td>\n",
       "      <td>36.059</td>\n",
       "      <td>24.856</td>\n",
       "      <td>2014-01-23 20:52:00</td>\n",
       "    </tr>\n",
       "    <tr>\n",
       "      <th>3691</th>\n",
       "      <td>what is this guy doing? just give up and now h...</td>\n",
       "      <td>36.059</td>\n",
       "      <td>24.856</td>\n",
       "      <td>2014-01-23 21:00:04</td>\n",
       "    </tr>\n",
       "    <tr>\n",
       "      <th>3739</th>\n",
       "      <td>looks like therye still fighting in the van re...</td>\n",
       "      <td>36.059</td>\n",
       "      <td>24.856</td>\n",
       "      <td>2014-01-23 21:04:05</td>\n",
       "    </tr>\n",
       "    <tr>\n",
       "      <th>3799</th>\n",
       "      <td>Its over they dropped the gun everybodys cheer...</td>\n",
       "      <td>36.059</td>\n",
       "      <td>24.856</td>\n",
       "      <td>2014-01-23 21:13:33</td>\n",
       "    </tr>\n",
       "    <tr>\n",
       "      <th>3805</th>\n",
       "      <td>other guy is out of the van! its over theyre g...</td>\n",
       "      <td>36.059</td>\n",
       "      <td>24.856</td>\n",
       "      <td>2014-01-23 21:14:01</td>\n",
       "    </tr>\n",
       "    <tr>\n",
       "      <th>3810</th>\n",
       "      <td>everybody standing up watching cops are taking...</td>\n",
       "      <td>36.059</td>\n",
       "      <td>24.856</td>\n",
       "      <td>2014-01-23 21:14:47</td>\n",
       "    </tr>\n",
       "    <tr>\n",
       "      <th>3820</th>\n",
       "      <td>hostages are free! 2 women i think hard to tel...</td>\n",
       "      <td>36.059</td>\n",
       "      <td>24.856</td>\n",
       "      <td>2014-01-23 21:15:00</td>\n",
       "    </tr>\n",
       "    <tr>\n",
       "      <th>3848</th>\n",
       "      <td>everybody's safe cops got the bad guys and the...</td>\n",
       "      <td>36.059</td>\n",
       "      <td>24.856</td>\n",
       "      <td>2014-01-23 21:17:11</td>\n",
       "    </tr>\n",
       "    <tr>\n",
       "      <th>3869</th>\n",
       "      <td>therye letting us goo finallly! im still shaki...</td>\n",
       "      <td>36.059</td>\n",
       "      <td>24.856</td>\n",
       "      <td>2014-01-23 21:19:03</td>\n",
       "    </tr>\n",
       "    <tr>\n",
       "      <th>3889</th>\n",
       "      <td>tahnks to APD standoff is over! #APDheroes</td>\n",
       "      <td>36.059</td>\n",
       "      <td>24.856</td>\n",
       "      <td>2014-01-23 21:20:50</td>\n",
       "    </tr>\n",
       "  </tbody>\n",
       "</table>\n",
       "</div>"
      ],
      "text/plain": [
       "                                                message  latitude  longitude  \\\n",
       "2735  holy cow SWAt showed up this is getting crazy ...    36.059     24.857   \n",
       "2744  i think the swat team has arrived hopefully st...    36.059     24.856   \n",
       "2760  cant believe theres no backdoor here im ready ...    36.059     24.856   \n",
       "2786  guy in the van keeps yeelling at cops cant hea...    36.059     24.856   \n",
       "2907                    #APD is evacuating us #standoff    36.059     24.857   \n",
       "2931  i think there's a hostage - why isnt #APD doin...    36.059     24.857   \n",
       "3099  should got another coffeee this is going to ta...    36.059     24.857   \n",
       "3365  so bored & so scared ive never felt like this ...    36.059     24.856   \n",
       "3382  i wish this was over i can barely even type an...    36.059     24.856   \n",
       "3402  why dont the cops do anything? save us pls! #A...    36.059     24.856   \n",
       "3433  why is this taking so long? im starting to fee...    36.059     24.856   \n",
       "3503  just poked my head up looks like hundred of pe...    36.059     24.856   \n",
       "3522  who comes to see this? all i want to do is get...    36.059     24.856   \n",
       "3537  anybody out there watching the standoff i iwll...    36.059     24.856   \n",
       "3576             shuoldve stayed at the rally #standoff    36.059     24.856   \n",
       "3622  poked my head up looks like negotiations are s...    36.059     24.856   \n",
       "3691  what is this guy doing? just give up and now h...    36.059     24.856   \n",
       "3739  looks like therye still fighting in the van re...    36.059     24.856   \n",
       "3799  Its over they dropped the gun everybodys cheer...    36.059     24.856   \n",
       "3805  other guy is out of the van! its over theyre g...    36.059     24.856   \n",
       "3810  everybody standing up watching cops are taking...    36.059     24.856   \n",
       "3820  hostages are free! 2 women i think hard to tel...    36.059     24.856   \n",
       "3848  everybody's safe cops got the bad guys and the...    36.059     24.856   \n",
       "3869  therye letting us goo finallly! im still shaki...    36.059     24.856   \n",
       "3889         tahnks to APD standoff is over! #APDheroes    36.059     24.856   \n",
       "\n",
       "     date(yyyyMMddHHmmss)  \n",
       "2735  2014-01-23 19:55:00  \n",
       "2744  2014-01-23 19:55:59  \n",
       "2760  2014-01-23 19:57:00  \n",
       "2786  2014-01-23 19:58:13  \n",
       "2907  2014-01-23 20:05:00  \n",
       "2931  2014-01-23 20:06:13  \n",
       "3099  2014-01-23 20:13:00  \n",
       "3365  2014-01-23 20:31:47  \n",
       "3382  2014-01-23 20:32:52  \n",
       "3402  2014-01-23 20:33:49  \n",
       "3433  2014-01-23 20:35:02  \n",
       "3503  2014-01-23 20:40:00  \n",
       "3522  2014-01-23 20:43:01  \n",
       "3537  2014-01-23 20:45:00  \n",
       "3576  2014-01-23 20:48:44  \n",
       "3622  2014-01-23 20:52:00  \n",
       "3691  2014-01-23 21:00:04  \n",
       "3739  2014-01-23 21:04:05  \n",
       "3799  2014-01-23 21:13:33  \n",
       "3805  2014-01-23 21:14:01  \n",
       "3810  2014-01-23 21:14:47  \n",
       "3820  2014-01-23 21:15:00  \n",
       "3848  2014-01-23 21:17:11  \n",
       "3869  2014-01-23 21:19:03  \n",
       "3889  2014-01-23 21:20:50  "
      ]
     },
     "execution_count": 147,
     "metadata": {},
     "output_type": "execute_result"
    }
   ],
   "source": [
    "hostage[['message', 'latitude', 'longitude', 'date(yyyyMMddHHmmss)']].head(25)"
   ]
  },
  {
   "cell_type": "code",
   "execution_count": 120,
   "metadata": {},
   "outputs": [
    {
     "name": "stdout",
     "output_type": "stream",
     "text": [
      "<Placemark>\n",
      "\t<Point>\n",
      "\t\t<coordinates> 24.857 , 36.059 </coordinates>\n",
      "\t</Point>\n",
      "\t<Style>\n",
      "\t\t<IconStyle><scale>0.75</scale><color>FF195E</color></IconStyle>\n",
      "\t</Style>\n",
      "</Placemark>\n",
      "<Placemark>\n",
      "\t<Point>\n",
      "\t\t<coordinates> 24.856 , 36.059 </coordinates>\n",
      "\t</Point>\n",
      "\t<Style>\n",
      "\t\t<IconStyle><scale>0.75</scale><color>FF195E</color></IconStyle>\n",
      "\t</Style>\n",
      "</Placemark>\n",
      "<Placemark>\n",
      "\t<Point>\n",
      "\t\t<coordinates> 24.856 , 36.059 </coordinates>\n",
      "\t</Point>\n",
      "\t<Style>\n",
      "\t\t<IconStyle><scale>0.75</scale><color>FF195E</color></IconStyle>\n",
      "\t</Style>\n",
      "</Placemark>\n",
      "<Placemark>\n",
      "\t<Point>\n",
      "\t\t<coordinates> 24.856 , 36.059 </coordinates>\n",
      "\t</Point>\n",
      "\t<Style>\n",
      "\t\t<IconStyle><scale>0.75</scale><color>FF195E</color></IconStyle>\n",
      "\t</Style>\n",
      "</Placemark>\n",
      "<Placemark>\n",
      "\t<Point>\n",
      "\t\t<coordinates> 24.857 , 36.059 </coordinates>\n",
      "\t</Point>\n",
      "\t<Style>\n",
      "\t\t<IconStyle><scale>0.75</scale><color>FF195E</color></IconStyle>\n",
      "\t</Style>\n",
      "</Placemark>\n",
      "<Placemark>\n",
      "\t<Point>\n",
      "\t\t<coordinates> 24.857 , 36.059 </coordinates>\n",
      "\t</Point>\n",
      "\t<Style>\n",
      "\t\t<IconStyle><scale>0.75</scale><color>FF195E</color></IconStyle>\n",
      "\t</Style>\n",
      "</Placemark>\n",
      "<Placemark>\n",
      "\t<Point>\n",
      "\t\t<coordinates> 24.857 , 36.059 </coordinates>\n",
      "\t</Point>\n",
      "\t<Style>\n",
      "\t\t<IconStyle><scale>0.75</scale><color>FF195E</color></IconStyle>\n",
      "\t</Style>\n",
      "</Placemark>\n",
      "<Placemark>\n",
      "\t<Point>\n",
      "\t\t<coordinates> 24.856 , 36.059 </coordinates>\n",
      "\t</Point>\n",
      "\t<Style>\n",
      "\t\t<IconStyle><scale>0.75</scale><color>FF195E</color></IconStyle>\n",
      "\t</Style>\n",
      "</Placemark>\n",
      "<Placemark>\n",
      "\t<Point>\n",
      "\t\t<coordinates> 24.856 , 36.059 </coordinates>\n",
      "\t</Point>\n",
      "\t<Style>\n",
      "\t\t<IconStyle><scale>0.75</scale><color>FF195E</color></IconStyle>\n",
      "\t</Style>\n",
      "</Placemark>\n",
      "<Placemark>\n",
      "\t<Point>\n",
      "\t\t<coordinates> 24.856 , 36.059 </coordinates>\n",
      "\t</Point>\n",
      "\t<Style>\n",
      "\t\t<IconStyle><scale>0.75</scale><color>FF195E</color></IconStyle>\n",
      "\t</Style>\n",
      "</Placemark>\n",
      "<Placemark>\n",
      "\t<Point>\n",
      "\t\t<coordinates> 24.856 , 36.059 </coordinates>\n",
      "\t</Point>\n",
      "\t<Style>\n",
      "\t\t<IconStyle><scale>0.75</scale><color>FF195E</color></IconStyle>\n",
      "\t</Style>\n",
      "</Placemark>\n",
      "<Placemark>\n",
      "\t<Point>\n",
      "\t\t<coordinates> 24.856 , 36.059 </coordinates>\n",
      "\t</Point>\n",
      "\t<Style>\n",
      "\t\t<IconStyle><scale>0.75</scale><color>FF195E</color></IconStyle>\n",
      "\t</Style>\n",
      "</Placemark>\n",
      "<Placemark>\n",
      "\t<Point>\n",
      "\t\t<coordinates> 24.856 , 36.059 </coordinates>\n",
      "\t</Point>\n",
      "\t<Style>\n",
      "\t\t<IconStyle><scale>0.75</scale><color>FF195E</color></IconStyle>\n",
      "\t</Style>\n",
      "</Placemark>\n",
      "<Placemark>\n",
      "\t<Point>\n",
      "\t\t<coordinates> 24.856 , 36.059 </coordinates>\n",
      "\t</Point>\n",
      "\t<Style>\n",
      "\t\t<IconStyle><scale>0.75</scale><color>FF195E</color></IconStyle>\n",
      "\t</Style>\n",
      "</Placemark>\n",
      "<Placemark>\n",
      "\t<Point>\n",
      "\t\t<coordinates> 24.856 , 36.059 </coordinates>\n",
      "\t</Point>\n",
      "\t<Style>\n",
      "\t\t<IconStyle><scale>0.75</scale><color>FF195E</color></IconStyle>\n",
      "\t</Style>\n",
      "</Placemark>\n",
      "<Placemark>\n",
      "\t<Point>\n",
      "\t\t<coordinates> 24.856 , 36.059 </coordinates>\n",
      "\t</Point>\n",
      "\t<Style>\n",
      "\t\t<IconStyle><scale>0.75</scale><color>FF195E</color></IconStyle>\n",
      "\t</Style>\n",
      "</Placemark>\n",
      "<Placemark>\n",
      "\t<Point>\n",
      "\t\t<coordinates> 24.856 , 36.059 </coordinates>\n",
      "\t</Point>\n",
      "\t<Style>\n",
      "\t\t<IconStyle><scale>0.75</scale><color>FF195E</color></IconStyle>\n",
      "\t</Style>\n",
      "</Placemark>\n",
      "<Placemark>\n",
      "\t<Point>\n",
      "\t\t<coordinates> 24.856 , 36.059 </coordinates>\n",
      "\t</Point>\n",
      "\t<Style>\n",
      "\t\t<IconStyle><scale>0.75</scale><color>FF195E</color></IconStyle>\n",
      "\t</Style>\n",
      "</Placemark>\n",
      "<Placemark>\n",
      "\t<Point>\n",
      "\t\t<coordinates> 24.856 , 36.059 </coordinates>\n",
      "\t</Point>\n",
      "\t<Style>\n",
      "\t\t<IconStyle><scale>0.75</scale><color>FF195E</color></IconStyle>\n",
      "\t</Style>\n",
      "</Placemark>\n",
      "<Placemark>\n",
      "\t<Point>\n",
      "\t\t<coordinates> 24.856 , 36.059 </coordinates>\n",
      "\t</Point>\n",
      "\t<Style>\n",
      "\t\t<IconStyle><scale>0.75</scale><color>FF195E</color></IconStyle>\n",
      "\t</Style>\n",
      "</Placemark>\n",
      "<Placemark>\n",
      "\t<Point>\n",
      "\t\t<coordinates> 24.856 , 36.059 </coordinates>\n",
      "\t</Point>\n",
      "\t<Style>\n",
      "\t\t<IconStyle><scale>0.75</scale><color>FF195E</color></IconStyle>\n",
      "\t</Style>\n",
      "</Placemark>\n",
      "<Placemark>\n",
      "\t<Point>\n",
      "\t\t<coordinates> 24.856 , 36.059 </coordinates>\n",
      "\t</Point>\n",
      "\t<Style>\n",
      "\t\t<IconStyle><scale>0.75</scale><color>FF195E</color></IconStyle>\n",
      "\t</Style>\n",
      "</Placemark>\n",
      "<Placemark>\n",
      "\t<Point>\n",
      "\t\t<coordinates> 24.856 , 36.059 </coordinates>\n",
      "\t</Point>\n",
      "\t<Style>\n",
      "\t\t<IconStyle><scale>0.75</scale><color>FF195E</color></IconStyle>\n",
      "\t</Style>\n",
      "</Placemark>\n",
      "<Placemark>\n",
      "\t<Point>\n",
      "\t\t<coordinates> 24.856 , 36.059 </coordinates>\n",
      "\t</Point>\n",
      "\t<Style>\n",
      "\t\t<IconStyle><scale>0.75</scale><color>FF195E</color></IconStyle>\n",
      "\t</Style>\n",
      "</Placemark>\n",
      "<Placemark>\n",
      "\t<Point>\n",
      "\t\t<coordinates> 24.856 , 36.059 </coordinates>\n",
      "\t</Point>\n",
      "\t<Style>\n",
      "\t\t<IconStyle><scale>0.75</scale><color>FF195E</color></IconStyle>\n",
      "\t</Style>\n",
      "</Placemark>\n"
     ]
    }
   ],
   "source": [
    "for row in range(len(hostage)):\n",
    "    print('<Placemark>')\n",
    "    print('\\t<Point>')\n",
    "    print('\\t\\t<coordinates>', float(hostage['longitude'].iloc[row]), ',', float(hostage['latitude'].iloc[row]), '</coordinates>')\n",
    "    print('\\t</Point>')\n",
    "    print('\\t<Style>')\n",
    "    print('\\t\\t<IconStyle><scale>0.75</scale><color>FF195E</color></IconStyle>')\n",
    "    print('\\t</Style>')\n",
    "    print('</Placemark>')\n",
    "\n",
    "\n"
   ]
  },
  {
   "cell_type": "code",
   "execution_count": 130,
   "metadata": {},
   "outputs": [
    {
     "name": "stdout",
     "output_type": "stream",
     "text": [
      "<Placemark>\n",
      "\t<Point>\n",
      "\t\t<coordinates> 24.892 , 36.057 </coordinates>\n",
      "\t</Point>\n",
      "\t<Style>\n",
      "\t\t<IconStyle><scale>0.9</scale><color>FF195E</color></IconStyle>\n",
      "\t</Style>\n",
      "</Placemark>\n",
      "<Placemark>\n",
      "\t<Point>\n",
      "\t\t<coordinates> 24.901 , 36.054 </coordinates>\n",
      "\t</Point>\n",
      "\t<Style>\n",
      "\t\t<IconStyle><scale>0.9</scale><color>FF195E</color></IconStyle>\n",
      "\t</Style>\n",
      "</Placemark>\n",
      "<Placemark>\n",
      "\t<Point>\n",
      "\t\t<coordinates> 24.901 , 36.054 </coordinates>\n",
      "\t</Point>\n",
      "\t<Style>\n",
      "\t\t<IconStyle><scale>0.9</scale><color>FF195E</color></IconStyle>\n",
      "\t</Style>\n",
      "</Placemark>\n",
      "<Placemark>\n",
      "\t<Point>\n",
      "\t\t<coordinates> 24.856 , 36.059 </coordinates>\n",
      "\t</Point>\n",
      "\t<Style>\n",
      "\t\t<IconStyle><scale>0.9</scale><color>FF195E</color></IconStyle>\n",
      "\t</Style>\n",
      "</Placemark>\n",
      "<Placemark>\n",
      "\t<Point>\n",
      "\t\t<coordinates> 24.856 , 36.059 </coordinates>\n",
      "\t</Point>\n",
      "\t<Style>\n",
      "\t\t<IconStyle><scale>0.9</scale><color>FF195E</color></IconStyle>\n",
      "\t</Style>\n",
      "</Placemark>\n",
      "<Placemark>\n",
      "\t<Point>\n",
      "\t\t<coordinates> 24.856 , 36.059 </coordinates>\n",
      "\t</Point>\n",
      "\t<Style>\n",
      "\t\t<IconStyle><scale>0.9</scale><color>FF195E</color></IconStyle>\n",
      "\t</Style>\n",
      "</Placemark>\n",
      "<Placemark>\n",
      "\t<Point>\n",
      "\t\t<coordinates> 24.856 , 36.059 </coordinates>\n",
      "\t</Point>\n",
      "\t<Style>\n",
      "\t\t<IconStyle><scale>0.9</scale><color>FF195E</color></IconStyle>\n",
      "\t</Style>\n",
      "</Placemark>\n",
      "<Placemark>\n",
      "\t<Point>\n",
      "\t\t<coordinates> 24.892 , 36.057 </coordinates>\n",
      "\t</Point>\n",
      "\t<Style>\n",
      "\t\t<IconStyle><scale>0.9</scale><color>FF195E</color></IconStyle>\n",
      "\t</Style>\n",
      "</Placemark>\n",
      "<Placemark>\n",
      "\t<Point>\n",
      "\t\t<coordinates> 24.856 , 36.059 </coordinates>\n",
      "\t</Point>\n",
      "\t<Style>\n",
      "\t\t<IconStyle><scale>0.9</scale><color>FF195E</color></IconStyle>\n",
      "\t</Style>\n",
      "</Placemark>\n",
      "<Placemark>\n",
      "\t<Point>\n",
      "\t\t<coordinates> 24.857 , 36.059 </coordinates>\n",
      "\t</Point>\n",
      "\t<Style>\n",
      "\t\t<IconStyle><scale>0.9</scale><color>FF195E</color></IconStyle>\n",
      "\t</Style>\n",
      "</Placemark>\n",
      "<Placemark>\n",
      "\t<Point>\n",
      "\t\t<coordinates> 24.856 , 36.059 </coordinates>\n",
      "\t</Point>\n",
      "\t<Style>\n",
      "\t\t<IconStyle><scale>0.9</scale><color>FF195E</color></IconStyle>\n",
      "\t</Style>\n",
      "</Placemark>\n",
      "<Placemark>\n",
      "\t<Point>\n",
      "\t\t<coordinates> 24.856 , 36.059 </coordinates>\n",
      "\t</Point>\n",
      "\t<Style>\n",
      "\t\t<IconStyle><scale>0.9</scale><color>FF195E</color></IconStyle>\n",
      "\t</Style>\n",
      "</Placemark>\n",
      "<Placemark>\n",
      "\t<Point>\n",
      "\t\t<coordinates> 24.856 , 36.059 </coordinates>\n",
      "\t</Point>\n",
      "\t<Style>\n",
      "\t\t<IconStyle><scale>0.9</scale><color>FF195E</color></IconStyle>\n",
      "\t</Style>\n",
      "</Placemark>\n",
      "<Placemark>\n",
      "\t<Point>\n",
      "\t\t<coordinates> 24.857 , 36.059 </coordinates>\n",
      "\t</Point>\n",
      "\t<Style>\n",
      "\t\t<IconStyle><scale>0.9</scale><color>FF195E</color></IconStyle>\n",
      "\t</Style>\n",
      "</Placemark>\n"
     ]
    }
   ],
   "source": [
    "for row in range(len(hitnrun)):\n",
    "    print('<Placemark>')\n",
    "    print('\\t<Point>')\n",
    "    print('\\t\\t<coordinates>', float(hitnrun['longitude'].iloc[row]), ',', float(hitnrun['latitude'].iloc[row]), '</coordinates>')\n",
    "    print('\\t</Point>')\n",
    "    print('\\t<Style>')\n",
    "    print('\\t\\t<IconStyle><scale>0.9</scale><color>FF195E</color></IconStyle>')\n",
    "    print('\\t</Style>')\n",
    "    print('</Placemark>')"
   ]
  },
  {
   "cell_type": "code",
   "execution_count": 107,
   "metadata": {},
   "outputs": [
    {
     "name": "stdout",
     "output_type": "stream",
     "text": [
      "<Placemark>\n",
      "\t<Point>\n",
      "\t\t<coordinates> 24.894 , 36.059 </coordinates>\n",
      "\t</Point>\n",
      "\t<Style>\n",
      "\t\t<IconStyle><scale>0.75</scale><color>FF800080</color></IconStyle>\n",
      "\t</Style>\n",
      "</Placemark>\n",
      "<Placemark>\n",
      "\t<Point>\n",
      "\t\t<coordinates> 24.894 , 36.059 </coordinates>\n",
      "\t</Point>\n",
      "\t<Style>\n",
      "\t\t<IconStyle><scale>0.75</scale><color>FF800080</color></IconStyle>\n",
      "\t</Style>\n",
      "</Placemark>\n",
      "<Placemark>\n",
      "\t<Point>\n",
      "\t\t<coordinates> 24.894 , 36.059 </coordinates>\n",
      "\t</Point>\n",
      "\t<Style>\n",
      "\t\t<IconStyle><scale>0.75</scale><color>FF800080</color></IconStyle>\n",
      "\t</Style>\n",
      "</Placemark>\n",
      "<Placemark>\n",
      "\t<Point>\n",
      "\t\t<coordinates> 24.894 , 36.059 </coordinates>\n",
      "\t</Point>\n",
      "\t<Style>\n",
      "\t\t<IconStyle><scale>0.75</scale><color>FF800080</color></IconStyle>\n",
      "\t</Style>\n",
      "</Placemark>\n",
      "<Placemark>\n",
      "\t<Point>\n",
      "\t\t<coordinates> 24.894 , 36.059 </coordinates>\n",
      "\t</Point>\n",
      "\t<Style>\n",
      "\t\t<IconStyle><scale>0.75</scale><color>FF800080</color></IconStyle>\n",
      "\t</Style>\n",
      "</Placemark>\n",
      "<Placemark>\n",
      "\t<Point>\n",
      "\t\t<coordinates> 24.894 , 36.059 </coordinates>\n",
      "\t</Point>\n",
      "\t<Style>\n",
      "\t\t<IconStyle><scale>0.75</scale><color>FF800080</color></IconStyle>\n",
      "\t</Style>\n",
      "</Placemark>\n",
      "<Placemark>\n",
      "\t<Point>\n",
      "\t\t<coordinates> 24.894 , 36.059 </coordinates>\n",
      "\t</Point>\n",
      "\t<Style>\n",
      "\t\t<IconStyle><scale>0.75</scale><color>FF800080</color></IconStyle>\n",
      "\t</Style>\n",
      "</Placemark>\n",
      "<Placemark>\n",
      "\t<Point>\n",
      "\t\t<coordinates> 24.894 , 36.059 </coordinates>\n",
      "\t</Point>\n",
      "\t<Style>\n",
      "\t\t<IconStyle><scale>0.75</scale><color>FF800080</color></IconStyle>\n",
      "\t</Style>\n",
      "</Placemark>\n",
      "<Placemark>\n",
      "\t<Point>\n",
      "\t\t<coordinates> 24.894 , 36.059 </coordinates>\n",
      "\t</Point>\n",
      "\t<Style>\n",
      "\t\t<IconStyle><scale>0.75</scale><color>FF800080</color></IconStyle>\n",
      "\t</Style>\n",
      "</Placemark>\n"
     ]
    }
   ],
   "source": [
    "for row in range(len(fire)):\n",
    "    print('<Placemark>')\n",
    "    print('\\t<Point>')\n",
    "    print('\\t\\t<coordinates>', float(fire['longitude'].iloc[row]), ',', float(fire['latitude'].iloc[row]), '</coordinates>')\n",
    "    print('\\t</Point>')\n",
    "    print('\\t<Style>')\n",
    "    print('\\t\\t<IconStyle><scale>0.75</scale><color>FF800080</color></IconStyle>')\n",
    "    print('\\t</Style>')\n",
    "    print('</Placemark>')"
   ]
  },
  {
   "cell_type": "code",
   "execution_count": 112,
   "metadata": {},
   "outputs": [],
   "source": [
    "traffic_words = ['red', 'red light']\n",
    "traffic = geo_df[geo_df['message'].str.contains(*traffic_words, regex=False)]"
   ]
  },
  {
   "cell_type": "code",
   "execution_count": 113,
   "metadata": {},
   "outputs": [
    {
     "data": {
      "text/plain": [
       "(9, 15)"
      ]
     },
     "execution_count": 113,
     "metadata": {},
     "output_type": "execute_result"
    }
   ],
   "source": [
    "traffic.shape"
   ]
  },
  {
   "cell_type": "code",
   "execution_count": 116,
   "metadata": {},
   "outputs": [
    {
     "data": {
      "text/html": [
       "<div>\n",
       "<style scoped>\n",
       "    .dataframe tbody tr th:only-of-type {\n",
       "        vertical-align: middle;\n",
       "    }\n",
       "\n",
       "    .dataframe tbody tr th {\n",
       "        vertical-align: top;\n",
       "    }\n",
       "\n",
       "    .dataframe thead th {\n",
       "        text-align: right;\n",
       "    }\n",
       "</style>\n",
       "<table border=\"1\" class=\"dataframe\">\n",
       "  <thead>\n",
       "    <tr style=\"text-align: right;\">\n",
       "      <th></th>\n",
       "      <th>message</th>\n",
       "      <th>latitude</th>\n",
       "      <th>longitude</th>\n",
       "    </tr>\n",
       "  </thead>\n",
       "  <tbody>\n",
       "    <tr>\n",
       "      <th>2008</th>\n",
       "      <td>This is the FIRST time anyone has been injured...</td>\n",
       "      <td>36.054</td>\n",
       "      <td>24.901</td>\n",
       "    </tr>\n",
       "    <tr>\n",
       "      <th>2040</th>\n",
       "      <td>Titanium frame, carbon wheels. guy's gonna be ...</td>\n",
       "      <td>36.054</td>\n",
       "      <td>24.901</td>\n",
       "    </tr>\n",
       "    <tr>\n",
       "      <th>2213</th>\n",
       "      <td>Our AWESOME coffee cheered him up He's OK NOW!!</td>\n",
       "      <td>36.054</td>\n",
       "      <td>24.901</td>\n",
       "    </tr>\n",
       "    <tr>\n",
       "      <th>2280</th>\n",
       "      <td>never been so scared under the table in gelato...</td>\n",
       "      <td>36.059</td>\n",
       "      <td>24.856</td>\n",
       "    </tr>\n",
       "    <tr>\n",
       "      <th>2647</th>\n",
       "      <td>the cops are scared of the people rising up ag...</td>\n",
       "      <td>36.054</td>\n",
       "      <td>24.902</td>\n",
       "    </tr>\n",
       "  </tbody>\n",
       "</table>\n",
       "</div>"
      ],
      "text/plain": [
       "                                                message  latitude  longitude\n",
       "2008  This is the FIRST time anyone has been injured...    36.054     24.901\n",
       "2040  Titanium frame, carbon wheels. guy's gonna be ...    36.054     24.901\n",
       "2213    Our AWESOME coffee cheered him up He's OK NOW!!    36.054     24.901\n",
       "2280  never been so scared under the table in gelato...    36.059     24.856\n",
       "2647  the cops are scared of the people rising up ag...    36.054     24.902"
      ]
     },
     "execution_count": 116,
     "metadata": {},
     "output_type": "execute_result"
    }
   ],
   "source": [
    "traffic[['message', 'latitude', 'longitude']].head()"
   ]
  },
  {
   "cell_type": "code",
   "execution_count": 139,
   "metadata": {},
   "outputs": [],
   "source": [
    "location_df = df[pd.notna(df[' location'])]\n",
    "# deez_nuts = Cortland('balls')"
   ]
  },
  {
   "cell_type": "code",
   "execution_count": 143,
   "metadata": {},
   "outputs": [
    {
     "data": {
      "text/plain": [
       "(176, 15)"
      ]
     },
     "execution_count": 143,
     "metadata": {},
     "output_type": "execute_result"
    }
   ],
   "source": [
    "location_df.shape"
   ]
  },
  {
   "cell_type": "code",
   "execution_count": 146,
   "metadata": {},
   "outputs": [
    {
     "data": {
      "text/html": [
       "<div>\n",
       "<style scoped>\n",
       "    .dataframe tbody tr th:only-of-type {\n",
       "        vertical-align: middle;\n",
       "    }\n",
       "\n",
       "    .dataframe tbody tr th {\n",
       "        vertical-align: top;\n",
       "    }\n",
       "\n",
       "    .dataframe thead th {\n",
       "        text-align: right;\n",
       "    }\n",
       "</style>\n",
       "<table border=\"1\" class=\"dataframe\">\n",
       "  <thead>\n",
       "    <tr style=\"text-align: right;\">\n",
       "      <th></th>\n",
       "      <th>type</th>\n",
       "      <th>date(yyyyMMddHHmmss)</th>\n",
       "      <th>author</th>\n",
       "      <th>message</th>\n",
       "      <th>latitude</th>\n",
       "      <th>longitude</th>\n",
       "      <th>location</th>\n",
       "      <th>polarity</th>\n",
       "      <th>sentiment</th>\n",
       "      <th>bias</th>\n",
       "      <th>negative</th>\n",
       "      <th>neutral</th>\n",
       "      <th>positive</th>\n",
       "      <th>biased</th>\n",
       "      <th>unbiased</th>\n",
       "    </tr>\n",
       "  </thead>\n",
       "  <tbody>\n",
       "    <tr>\n",
       "      <th>1397</th>\n",
       "      <td>ccdata</td>\n",
       "      <td>2014-01-23 18:49:43</td>\n",
       "      <td>NaN</td>\n",
       "      <td>TRAFFIC STOP</td>\n",
       "      <td>NaN</td>\n",
       "      <td>NaN</td>\n",
       "      <td>Rist Way / N. Desafio St</td>\n",
       "      <td>0.000000</td>\n",
       "      <td>neutral</td>\n",
       "      <td>unbiased</td>\n",
       "      <td>False</td>\n",
       "      <td>True</td>\n",
       "      <td>False</td>\n",
       "      <td>False</td>\n",
       "      <td>True</td>\n",
       "    </tr>\n",
       "    <tr>\n",
       "      <th>1415</th>\n",
       "      <td>ccdata</td>\n",
       "      <td>2014-01-23 18:50:21</td>\n",
       "      <td>NaN</td>\n",
       "      <td>DISTURBANCE-NOISE</td>\n",
       "      <td>NaN</td>\n",
       "      <td>NaN</td>\n",
       "      <td>2491 N. Thessalias St</td>\n",
       "      <td>0.000000</td>\n",
       "      <td>neutral</td>\n",
       "      <td>unbiased</td>\n",
       "      <td>False</td>\n",
       "      <td>True</td>\n",
       "      <td>False</td>\n",
       "      <td>False</td>\n",
       "      <td>True</td>\n",
       "    </tr>\n",
       "    <tr>\n",
       "      <th>1438</th>\n",
       "      <td>ccdata</td>\n",
       "      <td>2014-01-23 18:52:00</td>\n",
       "      <td>NaN</td>\n",
       "      <td>ALARM-SECURE NO CRIME</td>\n",
       "      <td>NaN</td>\n",
       "      <td>NaN</td>\n",
       "      <td>3671 N. Valmai St</td>\n",
       "      <td>0.000000</td>\n",
       "      <td>neutral</td>\n",
       "      <td>unbiased</td>\n",
       "      <td>False</td>\n",
       "      <td>True</td>\n",
       "      <td>False</td>\n",
       "      <td>False</td>\n",
       "      <td>True</td>\n",
       "    </tr>\n",
       "    <tr>\n",
       "      <th>1515</th>\n",
       "      <td>ccdata</td>\n",
       "      <td>2014-01-23 18:55:01</td>\n",
       "      <td>NaN</td>\n",
       "      <td>TRAFFIC STOP</td>\n",
       "      <td>NaN</td>\n",
       "      <td>NaN</td>\n",
       "      <td>N. Arbete St / N. Oddisseos St</td>\n",
       "      <td>0.000000</td>\n",
       "      <td>neutral</td>\n",
       "      <td>unbiased</td>\n",
       "      <td>False</td>\n",
       "      <td>True</td>\n",
       "      <td>False</td>\n",
       "      <td>False</td>\n",
       "      <td>True</td>\n",
       "    </tr>\n",
       "    <tr>\n",
       "      <th>1637</th>\n",
       "      <td>ccdata</td>\n",
       "      <td>2014-01-23 19:02:00</td>\n",
       "      <td>NaN</td>\n",
       "      <td>TRAFFIC STOP</td>\n",
       "      <td>NaN</td>\n",
       "      <td>NaN</td>\n",
       "      <td>N. Arbete St / N. Spetson St</td>\n",
       "      <td>0.000000</td>\n",
       "      <td>neutral</td>\n",
       "      <td>unbiased</td>\n",
       "      <td>False</td>\n",
       "      <td>True</td>\n",
       "      <td>False</td>\n",
       "      <td>False</td>\n",
       "      <td>True</td>\n",
       "    </tr>\n",
       "    <tr>\n",
       "      <th>1678</th>\n",
       "      <td>ccdata</td>\n",
       "      <td>2014-01-23 19:03:48</td>\n",
       "      <td>NaN</td>\n",
       "      <td>DISTURBANCE-NOISE</td>\n",
       "      <td>NaN</td>\n",
       "      <td>NaN</td>\n",
       "      <td>N. Hacia St / N. Carretera St</td>\n",
       "      <td>0.000000</td>\n",
       "      <td>neutral</td>\n",
       "      <td>unbiased</td>\n",
       "      <td>False</td>\n",
       "      <td>True</td>\n",
       "      <td>False</td>\n",
       "      <td>False</td>\n",
       "      <td>True</td>\n",
       "    </tr>\n",
       "    <tr>\n",
       "      <th>1707</th>\n",
       "      <td>ccdata</td>\n",
       "      <td>2014-01-23 19:05:54</td>\n",
       "      <td>NaN</td>\n",
       "      <td>PARK CHECK</td>\n",
       "      <td>NaN</td>\n",
       "      <td>NaN</td>\n",
       "      <td>4999 N. Parla St</td>\n",
       "      <td>0.000000</td>\n",
       "      <td>neutral</td>\n",
       "      <td>unbiased</td>\n",
       "      <td>False</td>\n",
       "      <td>True</td>\n",
       "      <td>False</td>\n",
       "      <td>False</td>\n",
       "      <td>True</td>\n",
       "    </tr>\n",
       "    <tr>\n",
       "      <th>1725</th>\n",
       "      <td>ccdata</td>\n",
       "      <td>2014-01-23 19:07:00</td>\n",
       "      <td>NaN</td>\n",
       "      <td>TRAFFIC STOP</td>\n",
       "      <td>NaN</td>\n",
       "      <td>NaN</td>\n",
       "      <td>N. Thermopilon St / N. Carnero St</td>\n",
       "      <td>0.000000</td>\n",
       "      <td>neutral</td>\n",
       "      <td>unbiased</td>\n",
       "      <td>False</td>\n",
       "      <td>True</td>\n",
       "      <td>False</td>\n",
       "      <td>False</td>\n",
       "      <td>True</td>\n",
       "    </tr>\n",
       "    <tr>\n",
       "      <th>1765</th>\n",
       "      <td>ccdata</td>\n",
       "      <td>2014-01-23 19:10:00</td>\n",
       "      <td>NaN</td>\n",
       "      <td>ALARM-SECURE NO CRIME</td>\n",
       "      <td>NaN</td>\n",
       "      <td>NaN</td>\n",
       "      <td>2727 N. Thessalias St</td>\n",
       "      <td>0.000000</td>\n",
       "      <td>neutral</td>\n",
       "      <td>unbiased</td>\n",
       "      <td>False</td>\n",
       "      <td>True</td>\n",
       "      <td>False</td>\n",
       "      <td>False</td>\n",
       "      <td>True</td>\n",
       "    </tr>\n",
       "    <tr>\n",
       "      <th>1807</th>\n",
       "      <td>ccdata</td>\n",
       "      <td>2014-01-23 19:14:07</td>\n",
       "      <td>NaN</td>\n",
       "      <td>MISDEMEANOR ASSAULT-IN PROGRESS</td>\n",
       "      <td>NaN</td>\n",
       "      <td>NaN</td>\n",
       "      <td>5097 N. Asiant St</td>\n",
       "      <td>0.000000</td>\n",
       "      <td>neutral</td>\n",
       "      <td>unbiased</td>\n",
       "      <td>False</td>\n",
       "      <td>True</td>\n",
       "      <td>False</td>\n",
       "      <td>False</td>\n",
       "      <td>True</td>\n",
       "    </tr>\n",
       "    <tr>\n",
       "      <th>1833</th>\n",
       "      <td>ccdata</td>\n",
       "      <td>2014-01-23 19:16:07</td>\n",
       "      <td>NaN</td>\n",
       "      <td>TRAFFIC STOP</td>\n",
       "      <td>NaN</td>\n",
       "      <td>NaN</td>\n",
       "      <td>3398 N. Polvo St</td>\n",
       "      <td>0.000000</td>\n",
       "      <td>neutral</td>\n",
       "      <td>unbiased</td>\n",
       "      <td>False</td>\n",
       "      <td>True</td>\n",
       "      <td>False</td>\n",
       "      <td>False</td>\n",
       "      <td>True</td>\n",
       "    </tr>\n",
       "    <tr>\n",
       "      <th>1867</th>\n",
       "      <td>ccdata</td>\n",
       "      <td>2014-01-23 19:18:34</td>\n",
       "      <td>NaN</td>\n",
       "      <td>VEHICLE ACCIDENT - REPORT</td>\n",
       "      <td>NaN</td>\n",
       "      <td>NaN</td>\n",
       "      <td>1422 N. Souliou St</td>\n",
       "      <td>0.000000</td>\n",
       "      <td>neutral</td>\n",
       "      <td>unbiased</td>\n",
       "      <td>False</td>\n",
       "      <td>True</td>\n",
       "      <td>False</td>\n",
       "      <td>False</td>\n",
       "      <td>True</td>\n",
       "    </tr>\n",
       "    <tr>\n",
       "      <th>1878</th>\n",
       "      <td>ccdata</td>\n",
       "      <td>2014-01-23 19:19:00</td>\n",
       "      <td>NaN</td>\n",
       "      <td>VEHICLE ACCIDENT - NO OR UNKNOWN INJURIES</td>\n",
       "      <td>NaN</td>\n",
       "      <td>NaN</td>\n",
       "      <td>1422 N. Souliou St</td>\n",
       "      <td>-0.100000</td>\n",
       "      <td>negative</td>\n",
       "      <td>biased</td>\n",
       "      <td>True</td>\n",
       "      <td>False</td>\n",
       "      <td>False</td>\n",
       "      <td>True</td>\n",
       "      <td>False</td>\n",
       "    </tr>\n",
       "    <tr>\n",
       "      <th>1911</th>\n",
       "      <td>ccdata</td>\n",
       "      <td>2014-01-23 19:20:42</td>\n",
       "      <td>NaN</td>\n",
       "      <td>TRAFFIC STOP</td>\n",
       "      <td>NaN</td>\n",
       "      <td>NaN</td>\n",
       "      <td>N. Spetson St / N. Barabla St</td>\n",
       "      <td>0.000000</td>\n",
       "      <td>neutral</td>\n",
       "      <td>unbiased</td>\n",
       "      <td>False</td>\n",
       "      <td>True</td>\n",
       "      <td>False</td>\n",
       "      <td>False</td>\n",
       "      <td>True</td>\n",
       "    </tr>\n",
       "    <tr>\n",
       "      <th>1912</th>\n",
       "      <td>ccdata</td>\n",
       "      <td>2014-01-23 19:20:48</td>\n",
       "      <td>NaN</td>\n",
       "      <td>SUSPICIOUS SUBJECT/CIRCUMSTANCES-IN PROGRESS</td>\n",
       "      <td>NaN</td>\n",
       "      <td>NaN</td>\n",
       "      <td>N. Scarkeme St / N. Bilar St</td>\n",
       "      <td>0.000000</td>\n",
       "      <td>neutral</td>\n",
       "      <td>unbiased</td>\n",
       "      <td>False</td>\n",
       "      <td>True</td>\n",
       "      <td>False</td>\n",
       "      <td>False</td>\n",
       "      <td>True</td>\n",
       "    </tr>\n",
       "    <tr>\n",
       "      <th>1913</th>\n",
       "      <td>ccdata</td>\n",
       "      <td>2014-01-23 19:20:59</td>\n",
       "      <td>NaN</td>\n",
       "      <td>FELONY HIT &amp; RUN - IN PROGRESS-WITH INJURY</td>\n",
       "      <td>NaN</td>\n",
       "      <td>NaN</td>\n",
       "      <td>500 Block of N. Schaber Ave</td>\n",
       "      <td>0.000000</td>\n",
       "      <td>neutral</td>\n",
       "      <td>unbiased</td>\n",
       "      <td>False</td>\n",
       "      <td>True</td>\n",
       "      <td>False</td>\n",
       "      <td>False</td>\n",
       "      <td>True</td>\n",
       "    </tr>\n",
       "    <tr>\n",
       "      <th>1932</th>\n",
       "      <td>ccdata</td>\n",
       "      <td>2014-01-23 19:21:38</td>\n",
       "      <td>NaN</td>\n",
       "      <td>FELONY HIT &amp; RUN-IN PROGRESS-WITH INJURY</td>\n",
       "      <td>NaN</td>\n",
       "      <td>NaN</td>\n",
       "      <td>547 N. Schaber Ave</td>\n",
       "      <td>0.000000</td>\n",
       "      <td>neutral</td>\n",
       "      <td>unbiased</td>\n",
       "      <td>False</td>\n",
       "      <td>True</td>\n",
       "      <td>False</td>\n",
       "      <td>False</td>\n",
       "      <td>True</td>\n",
       "    </tr>\n",
       "    <tr>\n",
       "      <th>1944</th>\n",
       "      <td>ccdata</td>\n",
       "      <td>2014-01-23 19:22:00</td>\n",
       "      <td>NaN</td>\n",
       "      <td>ALL UNITS BROADCAST-FELONY HIT &amp; RUN-BLACK VAN...</td>\n",
       "      <td>NaN</td>\n",
       "      <td>NaN</td>\n",
       "      <td>ALL UNITS</td>\n",
       "      <td>0.000000</td>\n",
       "      <td>neutral</td>\n",
       "      <td>unbiased</td>\n",
       "      <td>False</td>\n",
       "      <td>True</td>\n",
       "      <td>False</td>\n",
       "      <td>False</td>\n",
       "      <td>True</td>\n",
       "    </tr>\n",
       "    <tr>\n",
       "      <th>1961</th>\n",
       "      <td>ccdata</td>\n",
       "      <td>2014-01-23 19:23:00</td>\n",
       "      <td>NaN</td>\n",
       "      <td>FIRE/MEDICS DISPATCHED-PEDESTRIAN HIT &amp; RUN</td>\n",
       "      <td>NaN</td>\n",
       "      <td>NaN</td>\n",
       "      <td>547 N. Schaber Ave</td>\n",
       "      <td>0.000000</td>\n",
       "      <td>neutral</td>\n",
       "      <td>unbiased</td>\n",
       "      <td>False</td>\n",
       "      <td>True</td>\n",
       "      <td>False</td>\n",
       "      <td>False</td>\n",
       "      <td>True</td>\n",
       "    </tr>\n",
       "    <tr>\n",
       "      <th>1974</th>\n",
       "      <td>ccdata</td>\n",
       "      <td>2014-01-23 19:23:44</td>\n",
       "      <td>NaN</td>\n",
       "      <td>CRIME SCENE INVESTIGATION-REQUEST</td>\n",
       "      <td>NaN</td>\n",
       "      <td>NaN</td>\n",
       "      <td>547 N. Schaber Ave</td>\n",
       "      <td>0.000000</td>\n",
       "      <td>neutral</td>\n",
       "      <td>unbiased</td>\n",
       "      <td>False</td>\n",
       "      <td>True</td>\n",
       "      <td>False</td>\n",
       "      <td>False</td>\n",
       "      <td>True</td>\n",
       "    </tr>\n",
       "    <tr>\n",
       "      <th>1984</th>\n",
       "      <td>ccdata</td>\n",
       "      <td>2014-01-23 19:24:15</td>\n",
       "      <td>NaN</td>\n",
       "      <td>SUSPICIOUS OCCUPIED VEHICLE-BLACK VAN</td>\n",
       "      <td>NaN</td>\n",
       "      <td>NaN</td>\n",
       "      <td>Egeou Ave / Ipsilantou Ave</td>\n",
       "      <td>0.000000</td>\n",
       "      <td>neutral</td>\n",
       "      <td>unbiased</td>\n",
       "      <td>False</td>\n",
       "      <td>True</td>\n",
       "      <td>False</td>\n",
       "      <td>False</td>\n",
       "      <td>True</td>\n",
       "    </tr>\n",
       "    <tr>\n",
       "      <th>2010</th>\n",
       "      <td>ccdata</td>\n",
       "      <td>2014-01-23 19:25:00</td>\n",
       "      <td>NaN</td>\n",
       "      <td>DISTURBANCE-NOISE</td>\n",
       "      <td>NaN</td>\n",
       "      <td>NaN</td>\n",
       "      <td>N. Limnou St / Nikomidias St</td>\n",
       "      <td>0.000000</td>\n",
       "      <td>neutral</td>\n",
       "      <td>unbiased</td>\n",
       "      <td>False</td>\n",
       "      <td>True</td>\n",
       "      <td>False</td>\n",
       "      <td>False</td>\n",
       "      <td>True</td>\n",
       "    </tr>\n",
       "    <tr>\n",
       "      <th>2018</th>\n",
       "      <td>ccdata</td>\n",
       "      <td>2014-01-23 19:25:08</td>\n",
       "      <td>NaN</td>\n",
       "      <td>SUSPICIOUS OCCUPIED VEHICLE-BLACK VAN</td>\n",
       "      <td>NaN</td>\n",
       "      <td>NaN</td>\n",
       "      <td>N. Hacia St / N. Brada St</td>\n",
       "      <td>0.000000</td>\n",
       "      <td>neutral</td>\n",
       "      <td>unbiased</td>\n",
       "      <td>False</td>\n",
       "      <td>True</td>\n",
       "      <td>False</td>\n",
       "      <td>False</td>\n",
       "      <td>True</td>\n",
       "    </tr>\n",
       "    <tr>\n",
       "      <th>2041</th>\n",
       "      <td>ccdata</td>\n",
       "      <td>2014-01-23 19:26:55</td>\n",
       "      <td>NaN</td>\n",
       "      <td>SUSPICIOUS OCCUPIED VEHICLE-BLACK VAN</td>\n",
       "      <td>NaN</td>\n",
       "      <td>NaN</td>\n",
       "      <td>N. Antoniadou St / N. Estos St</td>\n",
       "      <td>0.000000</td>\n",
       "      <td>neutral</td>\n",
       "      <td>unbiased</td>\n",
       "      <td>False</td>\n",
       "      <td>True</td>\n",
       "      <td>False</td>\n",
       "      <td>False</td>\n",
       "      <td>True</td>\n",
       "    </tr>\n",
       "    <tr>\n",
       "      <th>2051</th>\n",
       "      <td>ccdata</td>\n",
       "      <td>2014-01-23 19:27:00</td>\n",
       "      <td>NaN</td>\n",
       "      <td>SUSPICIOUS OCCUPIED VEHICLE-BLACK VAN</td>\n",
       "      <td>NaN</td>\n",
       "      <td>NaN</td>\n",
       "      <td>Profitou Ilia St / Egeou Ave</td>\n",
       "      <td>0.000000</td>\n",
       "      <td>neutral</td>\n",
       "      <td>unbiased</td>\n",
       "      <td>False</td>\n",
       "      <td>True</td>\n",
       "      <td>False</td>\n",
       "      <td>False</td>\n",
       "      <td>True</td>\n",
       "    </tr>\n",
       "    <tr>\n",
       "      <th>2096</th>\n",
       "      <td>ccdata</td>\n",
       "      <td>2014-01-23 19:30:00</td>\n",
       "      <td>NaN</td>\n",
       "      <td>TRAFFIC STOP</td>\n",
       "      <td>NaN</td>\n",
       "      <td>NaN</td>\n",
       "      <td>3701 Polvo St</td>\n",
       "      <td>0.000000</td>\n",
       "      <td>neutral</td>\n",
       "      <td>unbiased</td>\n",
       "      <td>False</td>\n",
       "      <td>True</td>\n",
       "      <td>False</td>\n",
       "      <td>False</td>\n",
       "      <td>True</td>\n",
       "    </tr>\n",
       "    <tr>\n",
       "      <th>2145</th>\n",
       "      <td>ccdata</td>\n",
       "      <td>2014-01-23 19:35:07</td>\n",
       "      <td>NaN</td>\n",
       "      <td>RECKLESS/HAZARADOUS DRIVER-IN PROGRESS</td>\n",
       "      <td>NaN</td>\n",
       "      <td>NaN</td>\n",
       "      <td>Egeou Ave / Polvo St</td>\n",
       "      <td>0.000000</td>\n",
       "      <td>neutral</td>\n",
       "      <td>unbiased</td>\n",
       "      <td>False</td>\n",
       "      <td>True</td>\n",
       "      <td>False</td>\n",
       "      <td>False</td>\n",
       "      <td>True</td>\n",
       "    </tr>\n",
       "    <tr>\n",
       "      <th>2151</th>\n",
       "      <td>ccdata</td>\n",
       "      <td>2014-01-23 19:35:58</td>\n",
       "      <td>NaN</td>\n",
       "      <td>PURSUIT-POLICE UNIT #253 IN PURSUIT</td>\n",
       "      <td>NaN</td>\n",
       "      <td>NaN</td>\n",
       "      <td>Egeou Ave / Nia Ave</td>\n",
       "      <td>0.000000</td>\n",
       "      <td>neutral</td>\n",
       "      <td>unbiased</td>\n",
       "      <td>False</td>\n",
       "      <td>True</td>\n",
       "      <td>False</td>\n",
       "      <td>False</td>\n",
       "      <td>True</td>\n",
       "    </tr>\n",
       "    <tr>\n",
       "      <th>2162</th>\n",
       "      <td>ccdata</td>\n",
       "      <td>2014-01-23 19:36:00</td>\n",
       "      <td>NaN</td>\n",
       "      <td>PURSUIT CONTINUES-POLICE UNITS #253 AND #357/S...</td>\n",
       "      <td>NaN</td>\n",
       "      <td>NaN</td>\n",
       "      <td>Egeou Ave / Limnou St</td>\n",
       "      <td>0.000000</td>\n",
       "      <td>neutral</td>\n",
       "      <td>unbiased</td>\n",
       "      <td>False</td>\n",
       "      <td>True</td>\n",
       "      <td>False</td>\n",
       "      <td>False</td>\n",
       "      <td>True</td>\n",
       "    </tr>\n",
       "    <tr>\n",
       "      <th>2174</th>\n",
       "      <td>ccdata</td>\n",
       "      <td>2014-01-23 19:37:00</td>\n",
       "      <td>NaN</td>\n",
       "      <td>SUSPICIOUS OCCUPIED VEHICLE-BLACK VAN</td>\n",
       "      <td>NaN</td>\n",
       "      <td>NaN</td>\n",
       "      <td>S. Limnou St / S. Eleftherias St</td>\n",
       "      <td>0.000000</td>\n",
       "      <td>neutral</td>\n",
       "      <td>unbiased</td>\n",
       "      <td>False</td>\n",
       "      <td>True</td>\n",
       "      <td>False</td>\n",
       "      <td>False</td>\n",
       "      <td>True</td>\n",
       "    </tr>\n",
       "    <tr>\n",
       "      <th>2189</th>\n",
       "      <td>ccdata</td>\n",
       "      <td>2014-01-23 19:38:22</td>\n",
       "      <td>NaN</td>\n",
       "      <td>SUSPICIOUS OCCUPIED VEHICLE-BLACK VAN</td>\n",
       "      <td>NaN</td>\n",
       "      <td>NaN</td>\n",
       "      <td>N. Limnou St / N. Achilleos St</td>\n",
       "      <td>0.000000</td>\n",
       "      <td>neutral</td>\n",
       "      <td>unbiased</td>\n",
       "      <td>False</td>\n",
       "      <td>True</td>\n",
       "      <td>False</td>\n",
       "      <td>False</td>\n",
       "      <td>True</td>\n",
       "    </tr>\n",
       "    <tr>\n",
       "      <th>2207</th>\n",
       "      <td>ccdata</td>\n",
       "      <td>2014-01-23 19:39:07</td>\n",
       "      <td>NaN</td>\n",
       "      <td>PURSUIT-CONTINUES-POLICE UNITS #253 AND #357</td>\n",
       "      <td>NaN</td>\n",
       "      <td>NaN</td>\n",
       "      <td>N. Limnou St / N. Alexandrias St</td>\n",
       "      <td>0.000000</td>\n",
       "      <td>neutral</td>\n",
       "      <td>unbiased</td>\n",
       "      <td>False</td>\n",
       "      <td>True</td>\n",
       "      <td>False</td>\n",
       "      <td>False</td>\n",
       "      <td>True</td>\n",
       "    </tr>\n",
       "    <tr>\n",
       "      <th>2237</th>\n",
       "      <td>ccdata</td>\n",
       "      <td>2014-01-23 19:40:00</td>\n",
       "      <td>NaN</td>\n",
       "      <td>FELONY ASSAULT/WEAPON-IN PROGRESS</td>\n",
       "      <td>NaN</td>\n",
       "      <td>NaN</td>\n",
       "      <td>N. Alexandrias St / N. Ithakis St</td>\n",
       "      <td>0.000000</td>\n",
       "      <td>neutral</td>\n",
       "      <td>unbiased</td>\n",
       "      <td>False</td>\n",
       "      <td>True</td>\n",
       "      <td>False</td>\n",
       "      <td>False</td>\n",
       "      <td>True</td>\n",
       "    </tr>\n",
       "    <tr>\n",
       "      <th>2245</th>\n",
       "      <td>ccdata</td>\n",
       "      <td>2014-01-23 19:40:22</td>\n",
       "      <td>NaN</td>\n",
       "      <td>DISTURBANCE-NOISE</td>\n",
       "      <td>NaN</td>\n",
       "      <td>NaN</td>\n",
       "      <td>1615 N. Omirou St</td>\n",
       "      <td>0.000000</td>\n",
       "      <td>neutral</td>\n",
       "      <td>unbiased</td>\n",
       "      <td>False</td>\n",
       "      <td>True</td>\n",
       "      <td>False</td>\n",
       "      <td>False</td>\n",
       "      <td>True</td>\n",
       "    </tr>\n",
       "    <tr>\n",
       "      <th>2261</th>\n",
       "      <td>ccdata</td>\n",
       "      <td>2014-01-23 19:40:41</td>\n",
       "      <td>NaN</td>\n",
       "      <td>SUSPICIOUS OCCUPIED VEHICLE-BLACK VAN</td>\n",
       "      <td>NaN</td>\n",
       "      <td>NaN</td>\n",
       "      <td>3611 N. Berlau St</td>\n",
       "      <td>0.000000</td>\n",
       "      <td>neutral</td>\n",
       "      <td>unbiased</td>\n",
       "      <td>False</td>\n",
       "      <td>True</td>\n",
       "      <td>False</td>\n",
       "      <td>False</td>\n",
       "      <td>True</td>\n",
       "    </tr>\n",
       "    <tr>\n",
       "      <th>2272</th>\n",
       "      <td>ccdata</td>\n",
       "      <td>2014-01-23 19:41:00</td>\n",
       "      <td>NaN</td>\n",
       "      <td>SUSPICIOUS SUBJECT/CIRCUMSTANCES-IN PROGRESS</td>\n",
       "      <td>NaN</td>\n",
       "      <td>NaN</td>\n",
       "      <td>3107 N. Alexandrias St</td>\n",
       "      <td>0.000000</td>\n",
       "      <td>neutral</td>\n",
       "      <td>unbiased</td>\n",
       "      <td>False</td>\n",
       "      <td>True</td>\n",
       "      <td>False</td>\n",
       "      <td>False</td>\n",
       "      <td>True</td>\n",
       "    </tr>\n",
       "    <tr>\n",
       "      <th>2279</th>\n",
       "      <td>ccdata</td>\n",
       "      <td>2014-01-23 19:41:07</td>\n",
       "      <td>NaN</td>\n",
       "      <td>TRAFFIC STOP</td>\n",
       "      <td>NaN</td>\n",
       "      <td>NaN</td>\n",
       "      <td>2708 N. Polvo St</td>\n",
       "      <td>0.000000</td>\n",
       "      <td>neutral</td>\n",
       "      <td>unbiased</td>\n",
       "      <td>False</td>\n",
       "      <td>True</td>\n",
       "      <td>False</td>\n",
       "      <td>False</td>\n",
       "      <td>True</td>\n",
       "    </tr>\n",
       "    <tr>\n",
       "      <th>2293</th>\n",
       "      <td>ccdata</td>\n",
       "      <td>2014-01-23 19:41:22</td>\n",
       "      <td>NaN</td>\n",
       "      <td>ALARM-SECURE NO CRIME</td>\n",
       "      <td>NaN</td>\n",
       "      <td>NaN</td>\n",
       "      <td>5101 N. Carden St</td>\n",
       "      <td>0.000000</td>\n",
       "      <td>neutral</td>\n",
       "      <td>unbiased</td>\n",
       "      <td>False</td>\n",
       "      <td>True</td>\n",
       "      <td>False</td>\n",
       "      <td>False</td>\n",
       "      <td>True</td>\n",
       "    </tr>\n",
       "    <tr>\n",
       "      <th>2297</th>\n",
       "      <td>ccdata</td>\n",
       "      <td>2014-01-23 19:41:29</td>\n",
       "      <td>NaN</td>\n",
       "      <td>SUSPICIOUS OCCUPIED VEHICLE-BLACK VAN</td>\n",
       "      <td>NaN</td>\n",
       "      <td>NaN</td>\n",
       "      <td>N. Oddisseos St / N. Antoniadou St</td>\n",
       "      <td>0.000000</td>\n",
       "      <td>neutral</td>\n",
       "      <td>unbiased</td>\n",
       "      <td>False</td>\n",
       "      <td>True</td>\n",
       "      <td>False</td>\n",
       "      <td>False</td>\n",
       "      <td>True</td>\n",
       "    </tr>\n",
       "    <tr>\n",
       "      <th>2324</th>\n",
       "      <td>ccdata</td>\n",
       "      <td>2014-01-23 19:41:48</td>\n",
       "      <td>NaN</td>\n",
       "      <td>SUBJECT STOP</td>\n",
       "      <td>NaN</td>\n",
       "      <td>NaN</td>\n",
       "      <td>3277 N. Agentes St</td>\n",
       "      <td>-0.166667</td>\n",
       "      <td>negative</td>\n",
       "      <td>biased</td>\n",
       "      <td>True</td>\n",
       "      <td>False</td>\n",
       "      <td>False</td>\n",
       "      <td>True</td>\n",
       "      <td>False</td>\n",
       "    </tr>\n",
       "  </tbody>\n",
       "</table>\n",
       "</div>"
      ],
      "text/plain": [
       "        type date(yyyyMMddHHmmss) author  \\\n",
       "1397  ccdata  2014-01-23 18:49:43    NaN   \n",
       "1415  ccdata  2014-01-23 18:50:21    NaN   \n",
       "1438  ccdata  2014-01-23 18:52:00    NaN   \n",
       "1515  ccdata  2014-01-23 18:55:01    NaN   \n",
       "1637  ccdata  2014-01-23 19:02:00    NaN   \n",
       "1678  ccdata  2014-01-23 19:03:48    NaN   \n",
       "1707  ccdata  2014-01-23 19:05:54    NaN   \n",
       "1725  ccdata  2014-01-23 19:07:00    NaN   \n",
       "1765  ccdata  2014-01-23 19:10:00    NaN   \n",
       "1807  ccdata  2014-01-23 19:14:07    NaN   \n",
       "1833  ccdata  2014-01-23 19:16:07    NaN   \n",
       "1867  ccdata  2014-01-23 19:18:34    NaN   \n",
       "1878  ccdata  2014-01-23 19:19:00    NaN   \n",
       "1911  ccdata  2014-01-23 19:20:42    NaN   \n",
       "1912  ccdata  2014-01-23 19:20:48    NaN   \n",
       "1913  ccdata  2014-01-23 19:20:59    NaN   \n",
       "1932  ccdata  2014-01-23 19:21:38    NaN   \n",
       "1944  ccdata  2014-01-23 19:22:00    NaN   \n",
       "1961  ccdata  2014-01-23 19:23:00    NaN   \n",
       "1974  ccdata  2014-01-23 19:23:44    NaN   \n",
       "1984  ccdata  2014-01-23 19:24:15    NaN   \n",
       "2010  ccdata  2014-01-23 19:25:00    NaN   \n",
       "2018  ccdata  2014-01-23 19:25:08    NaN   \n",
       "2041  ccdata  2014-01-23 19:26:55    NaN   \n",
       "2051  ccdata  2014-01-23 19:27:00    NaN   \n",
       "2096  ccdata  2014-01-23 19:30:00    NaN   \n",
       "2145  ccdata  2014-01-23 19:35:07    NaN   \n",
       "2151  ccdata  2014-01-23 19:35:58    NaN   \n",
       "2162  ccdata  2014-01-23 19:36:00    NaN   \n",
       "2174  ccdata  2014-01-23 19:37:00    NaN   \n",
       "2189  ccdata  2014-01-23 19:38:22    NaN   \n",
       "2207  ccdata  2014-01-23 19:39:07    NaN   \n",
       "2237  ccdata  2014-01-23 19:40:00    NaN   \n",
       "2245  ccdata  2014-01-23 19:40:22    NaN   \n",
       "2261  ccdata  2014-01-23 19:40:41    NaN   \n",
       "2272  ccdata  2014-01-23 19:41:00    NaN   \n",
       "2279  ccdata  2014-01-23 19:41:07    NaN   \n",
       "2293  ccdata  2014-01-23 19:41:22    NaN   \n",
       "2297  ccdata  2014-01-23 19:41:29    NaN   \n",
       "2324  ccdata  2014-01-23 19:41:48    NaN   \n",
       "\n",
       "                                                message  latitude  longitude  \\\n",
       "1397                                       TRAFFIC STOP       NaN        NaN   \n",
       "1415                                  DISTURBANCE-NOISE       NaN        NaN   \n",
       "1438                              ALARM-SECURE NO CRIME       NaN        NaN   \n",
       "1515                                       TRAFFIC STOP       NaN        NaN   \n",
       "1637                                       TRAFFIC STOP       NaN        NaN   \n",
       "1678                                  DISTURBANCE-NOISE       NaN        NaN   \n",
       "1707                                         PARK CHECK       NaN        NaN   \n",
       "1725                                       TRAFFIC STOP       NaN        NaN   \n",
       "1765                              ALARM-SECURE NO CRIME       NaN        NaN   \n",
       "1807                    MISDEMEANOR ASSAULT-IN PROGRESS       NaN        NaN   \n",
       "1833                                       TRAFFIC STOP       NaN        NaN   \n",
       "1867                          VEHICLE ACCIDENT - REPORT       NaN        NaN   \n",
       "1878          VEHICLE ACCIDENT - NO OR UNKNOWN INJURIES       NaN        NaN   \n",
       "1911                                       TRAFFIC STOP       NaN        NaN   \n",
       "1912       SUSPICIOUS SUBJECT/CIRCUMSTANCES-IN PROGRESS       NaN        NaN   \n",
       "1913         FELONY HIT & RUN - IN PROGRESS-WITH INJURY       NaN        NaN   \n",
       "1932           FELONY HIT & RUN-IN PROGRESS-WITH INJURY       NaN        NaN   \n",
       "1944  ALL UNITS BROADCAST-FELONY HIT & RUN-BLACK VAN...       NaN        NaN   \n",
       "1961        FIRE/MEDICS DISPATCHED-PEDESTRIAN HIT & RUN       NaN        NaN   \n",
       "1974                  CRIME SCENE INVESTIGATION-REQUEST       NaN        NaN   \n",
       "1984              SUSPICIOUS OCCUPIED VEHICLE-BLACK VAN       NaN        NaN   \n",
       "2010                                  DISTURBANCE-NOISE       NaN        NaN   \n",
       "2018              SUSPICIOUS OCCUPIED VEHICLE-BLACK VAN       NaN        NaN   \n",
       "2041              SUSPICIOUS OCCUPIED VEHICLE-BLACK VAN       NaN        NaN   \n",
       "2051              SUSPICIOUS OCCUPIED VEHICLE-BLACK VAN       NaN        NaN   \n",
       "2096                                       TRAFFIC STOP       NaN        NaN   \n",
       "2145             RECKLESS/HAZARADOUS DRIVER-IN PROGRESS       NaN        NaN   \n",
       "2151                PURSUIT-POLICE UNIT #253 IN PURSUIT       NaN        NaN   \n",
       "2162  PURSUIT CONTINUES-POLICE UNITS #253 AND #357/S...       NaN        NaN   \n",
       "2174              SUSPICIOUS OCCUPIED VEHICLE-BLACK VAN       NaN        NaN   \n",
       "2189              SUSPICIOUS OCCUPIED VEHICLE-BLACK VAN       NaN        NaN   \n",
       "2207       PURSUIT-CONTINUES-POLICE UNITS #253 AND #357       NaN        NaN   \n",
       "2237                  FELONY ASSAULT/WEAPON-IN PROGRESS       NaN        NaN   \n",
       "2245                                  DISTURBANCE-NOISE       NaN        NaN   \n",
       "2261              SUSPICIOUS OCCUPIED VEHICLE-BLACK VAN       NaN        NaN   \n",
       "2272       SUSPICIOUS SUBJECT/CIRCUMSTANCES-IN PROGRESS       NaN        NaN   \n",
       "2279                                       TRAFFIC STOP       NaN        NaN   \n",
       "2293                              ALARM-SECURE NO CRIME       NaN        NaN   \n",
       "2297              SUSPICIOUS OCCUPIED VEHICLE-BLACK VAN       NaN        NaN   \n",
       "2324                                       SUBJECT STOP       NaN        NaN   \n",
       "\n",
       "                                location  polarity sentiment      bias  \\\n",
       "1397            Rist Way / N. Desafio St  0.000000   neutral  unbiased   \n",
       "1415               2491 N. Thessalias St  0.000000   neutral  unbiased   \n",
       "1438                   3671 N. Valmai St  0.000000   neutral  unbiased   \n",
       "1515      N. Arbete St / N. Oddisseos St  0.000000   neutral  unbiased   \n",
       "1637        N. Arbete St / N. Spetson St  0.000000   neutral  unbiased   \n",
       "1678       N. Hacia St / N. Carretera St  0.000000   neutral  unbiased   \n",
       "1707                    4999 N. Parla St  0.000000   neutral  unbiased   \n",
       "1725   N. Thermopilon St / N. Carnero St  0.000000   neutral  unbiased   \n",
       "1765               2727 N. Thessalias St  0.000000   neutral  unbiased   \n",
       "1807                   5097 N. Asiant St  0.000000   neutral  unbiased   \n",
       "1833                    3398 N. Polvo St  0.000000   neutral  unbiased   \n",
       "1867                  1422 N. Souliou St  0.000000   neutral  unbiased   \n",
       "1878                  1422 N. Souliou St -0.100000  negative    biased   \n",
       "1911       N. Spetson St / N. Barabla St  0.000000   neutral  unbiased   \n",
       "1912        N. Scarkeme St / N. Bilar St  0.000000   neutral  unbiased   \n",
       "1913         500 Block of N. Schaber Ave  0.000000   neutral  unbiased   \n",
       "1932                  547 N. Schaber Ave  0.000000   neutral  unbiased   \n",
       "1944                           ALL UNITS  0.000000   neutral  unbiased   \n",
       "1961                  547 N. Schaber Ave  0.000000   neutral  unbiased   \n",
       "1974                  547 N. Schaber Ave  0.000000   neutral  unbiased   \n",
       "1984          Egeou Ave / Ipsilantou Ave  0.000000   neutral  unbiased   \n",
       "2010        N. Limnou St / Nikomidias St  0.000000   neutral  unbiased   \n",
       "2018           N. Hacia St / N. Brada St  0.000000   neutral  unbiased   \n",
       "2041      N. Antoniadou St / N. Estos St  0.000000   neutral  unbiased   \n",
       "2051        Profitou Ilia St / Egeou Ave  0.000000   neutral  unbiased   \n",
       "2096                       3701 Polvo St  0.000000   neutral  unbiased   \n",
       "2145                Egeou Ave / Polvo St  0.000000   neutral  unbiased   \n",
       "2151                 Egeou Ave / Nia Ave  0.000000   neutral  unbiased   \n",
       "2162               Egeou Ave / Limnou St  0.000000   neutral  unbiased   \n",
       "2174    S. Limnou St / S. Eleftherias St  0.000000   neutral  unbiased   \n",
       "2189      N. Limnou St / N. Achilleos St  0.000000   neutral  unbiased   \n",
       "2207    N. Limnou St / N. Alexandrias St  0.000000   neutral  unbiased   \n",
       "2237   N. Alexandrias St / N. Ithakis St  0.000000   neutral  unbiased   \n",
       "2245                   1615 N. Omirou St  0.000000   neutral  unbiased   \n",
       "2261                   3611 N. Berlau St  0.000000   neutral  unbiased   \n",
       "2272              3107 N. Alexandrias St  0.000000   neutral  unbiased   \n",
       "2279                    2708 N. Polvo St  0.000000   neutral  unbiased   \n",
       "2293                   5101 N. Carden St  0.000000   neutral  unbiased   \n",
       "2297  N. Oddisseos St / N. Antoniadou St  0.000000   neutral  unbiased   \n",
       "2324                  3277 N. Agentes St -0.166667  negative    biased   \n",
       "\n",
       "      negative  neutral  positive  biased  unbiased  \n",
       "1397     False     True     False   False      True  \n",
       "1415     False     True     False   False      True  \n",
       "1438     False     True     False   False      True  \n",
       "1515     False     True     False   False      True  \n",
       "1637     False     True     False   False      True  \n",
       "1678     False     True     False   False      True  \n",
       "1707     False     True     False   False      True  \n",
       "1725     False     True     False   False      True  \n",
       "1765     False     True     False   False      True  \n",
       "1807     False     True     False   False      True  \n",
       "1833     False     True     False   False      True  \n",
       "1867     False     True     False   False      True  \n",
       "1878      True    False     False    True     False  \n",
       "1911     False     True     False   False      True  \n",
       "1912     False     True     False   False      True  \n",
       "1913     False     True     False   False      True  \n",
       "1932     False     True     False   False      True  \n",
       "1944     False     True     False   False      True  \n",
       "1961     False     True     False   False      True  \n",
       "1974     False     True     False   False      True  \n",
       "1984     False     True     False   False      True  \n",
       "2010     False     True     False   False      True  \n",
       "2018     False     True     False   False      True  \n",
       "2041     False     True     False   False      True  \n",
       "2051     False     True     False   False      True  \n",
       "2096     False     True     False   False      True  \n",
       "2145     False     True     False   False      True  \n",
       "2151     False     True     False   False      True  \n",
       "2162     False     True     False   False      True  \n",
       "2174     False     True     False   False      True  \n",
       "2189     False     True     False   False      True  \n",
       "2207     False     True     False   False      True  \n",
       "2237     False     True     False   False      True  \n",
       "2245     False     True     False   False      True  \n",
       "2261     False     True     False   False      True  \n",
       "2272     False     True     False   False      True  \n",
       "2279     False     True     False   False      True  \n",
       "2293     False     True     False   False      True  \n",
       "2297     False     True     False   False      True  \n",
       "2324      True    False     False    True     False  "
      ]
     },
     "execution_count": 146,
     "metadata": {},
     "output_type": "execute_result"
    }
   ],
   "source": [
    "location_df.iloc[80:120]"
   ]
  },
  {
   "cell_type": "code",
   "execution_count": null,
   "metadata": {},
   "outputs": [],
   "source": [
    "# perform grammar analyses. get rid of any messages that have poor grammar, i.e. Clevvah4Evvah and so forth\n",
    "from language_tool_python import LanguageTool\n",
    "\n",
    "# instantiate checker\n",
    "checker = LanguageTool('en-US')\n",
    "\n",
    "\n",
    "# apply checker to each message. get rid\n",
    "df['grammar'] = df['message'].apply(lambda message: checker.check(message))"
   ]
  },
  {
   "cell_type": "code",
   "execution_count": null,
   "metadata": {},
   "outputs": [],
   "source": [
    "# get rid of messages with grammatical errors !!! would remove truccotrucco\n",
    "df_clean = df[df['grammer'].apply(lambda x: len(x) == 0)].copy()"
   ]
  },
  {
   "cell_type": "code",
   "execution_count": null,
   "metadata": {},
   "outputs": [
    {
     "data": {
      "text/plain": [
       "(1219, 8)"
      ]
     },
     "execution_count": 66,
     "metadata": {},
     "output_type": "execute_result"
    }
   ],
   "source": [
    "df_clean.shape"
   ]
  },
  {
   "cell_type": "code",
   "execution_count": 58,
   "metadata": {},
   "outputs": [
    {
     "data": {
      "text/html": [
       "<div>\n",
       "<style scoped>\n",
       "    .dataframe tbody tr th:only-of-type {\n",
       "        vertical-align: middle;\n",
       "    }\n",
       "\n",
       "    .dataframe tbody tr th {\n",
       "        vertical-align: top;\n",
       "    }\n",
       "\n",
       "    .dataframe thead th {\n",
       "        text-align: right;\n",
       "    }\n",
       "</style>\n",
       "<table border=\"1\" class=\"dataframe\">\n",
       "  <thead>\n",
       "    <tr style=\"text-align: right;\">\n",
       "      <th></th>\n",
       "      <th>time</th>\n",
       "      <th>sentiment</th>\n",
       "      <th>count</th>\n",
       "    </tr>\n",
       "  </thead>\n",
       "  <tbody>\n",
       "    <tr>\n",
       "      <th>0</th>\n",
       "      <td>0</td>\n",
       "      <td>negative</td>\n",
       "      <td>5</td>\n",
       "    </tr>\n",
       "    <tr>\n",
       "      <th>1</th>\n",
       "      <td>300</td>\n",
       "      <td>negative</td>\n",
       "      <td>7</td>\n",
       "    </tr>\n",
       "    <tr>\n",
       "      <th>2</th>\n",
       "      <td>600</td>\n",
       "      <td>negative</td>\n",
       "      <td>10</td>\n",
       "    </tr>\n",
       "    <tr>\n",
       "      <th>3</th>\n",
       "      <td>900</td>\n",
       "      <td>negative</td>\n",
       "      <td>8</td>\n",
       "    </tr>\n",
       "    <tr>\n",
       "      <th>4</th>\n",
       "      <td>1200</td>\n",
       "      <td>negative</td>\n",
       "      <td>5</td>\n",
       "    </tr>\n",
       "    <tr>\n",
       "      <th>...</th>\n",
       "      <td>...</td>\n",
       "      <td>...</td>\n",
       "      <td>...</td>\n",
       "    </tr>\n",
       "    <tr>\n",
       "      <th>160</th>\n",
       "      <td>15000</td>\n",
       "      <td>positive</td>\n",
       "      <td>4</td>\n",
       "    </tr>\n",
       "    <tr>\n",
       "      <th>161</th>\n",
       "      <td>15300</td>\n",
       "      <td>positive</td>\n",
       "      <td>13</td>\n",
       "    </tr>\n",
       "    <tr>\n",
       "      <th>162</th>\n",
       "      <td>15600</td>\n",
       "      <td>positive</td>\n",
       "      <td>22</td>\n",
       "    </tr>\n",
       "    <tr>\n",
       "      <th>163</th>\n",
       "      <td>15900</td>\n",
       "      <td>positive</td>\n",
       "      <td>3</td>\n",
       "    </tr>\n",
       "    <tr>\n",
       "      <th>164</th>\n",
       "      <td>16200</td>\n",
       "      <td>positive</td>\n",
       "      <td>1</td>\n",
       "    </tr>\n",
       "  </tbody>\n",
       "</table>\n",
       "<p>165 rows × 3 columns</p>\n",
       "</div>"
      ],
      "text/plain": [
       "      time sentiment  count\n",
       "0        0  negative      5\n",
       "1      300  negative      7\n",
       "2      600  negative     10\n",
       "3      900  negative      8\n",
       "4     1200  negative      5\n",
       "..     ...       ...    ...\n",
       "160  15000  positive      4\n",
       "161  15300  positive     13\n",
       "162  15600  positive     22\n",
       "163  15900  positive      3\n",
       "164  16200  positive      1\n",
       "\n",
       "[165 rows x 3 columns]"
      ]
     },
     "execution_count": 58,
     "metadata": {},
     "output_type": "execute_result"
    }
   ],
   "source": [
    "sents_5min"
   ]
  },
  {
   "cell_type": "code",
   "execution_count": 92,
   "metadata": {},
   "outputs": [
    {
     "data": {
      "application/vnd.plotly.v1+json": {
       "config": {
        "plotlyServerURL": "https://plot.ly"
       },
       "data": [
        {
         "hovertemplate": "Sentiment=negative<br>time=%{x}<br>Count=%{y}<extra></extra>",
         "legendgroup": "negative",
         "line": {
          "color": "red",
          "dash": "solid"
         },
         "marker": {
          "symbol": "circle"
         },
         "mode": "lines",
         "name": "negative",
         "orientation": "v",
         "showlegend": true,
         "type": "scatter",
         "x": [
          0,
          300,
          600,
          900,
          1200,
          1500,
          1800,
          2100,
          2400,
          2700,
          3000,
          3300,
          3600,
          3900,
          4200,
          4500,
          4800,
          5100,
          5400,
          5700,
          6000,
          6300,
          6600,
          6900,
          7200,
          7500,
          7800,
          8100,
          8400,
          8700,
          9000,
          9300,
          9600,
          9900,
          10200,
          10500,
          10800,
          11100,
          11400,
          11700,
          12000,
          12300,
          12600,
          12900,
          13200,
          13500,
          13800,
          14100,
          14400,
          14700,
          15000,
          15300,
          15600,
          15900,
          16200
         ],
         "xaxis": "x",
         "y": [
          5,
          7,
          10,
          8,
          5,
          3,
          15,
          0,
          3,
          2,
          3,
          1,
          0,
          3,
          1,
          1,
          0,
          0,
          4,
          4,
          11,
          23,
          5,
          9,
          17,
          7,
          13,
          3,
          9,
          8,
          2,
          6,
          69,
          20,
          7,
          16,
          10,
          7,
          12,
          11,
          27,
          6,
          14,
          7,
          0,
          5,
          3,
          1,
          7,
          0,
          1,
          2,
          2,
          4,
          7
         ],
         "yaxis": "y"
        },
        {
         "hovertemplate": "Sentiment=neutral<br>time=%{x}<br>Count=%{y}<extra></extra>",
         "legendgroup": "neutral",
         "line": {
          "color": "yellow",
          "dash": "solid"
         },
         "marker": {
          "symbol": "circle"
         },
         "mode": "lines",
         "name": "neutral",
         "orientation": "v",
         "showlegend": true,
         "type": "scatter",
         "x": [
          0,
          300,
          600,
          900,
          1200,
          1500,
          1800,
          2100,
          2400,
          2700,
          3000,
          3300,
          3600,
          3900,
          4200,
          4500,
          4800,
          5100,
          5400,
          5700,
          6000,
          6300,
          6600,
          6900,
          7200,
          7500,
          7800,
          8100,
          8400,
          8700,
          9000,
          9300,
          9600,
          9900,
          10200,
          10500,
          10800,
          11100,
          11400,
          11700,
          12000,
          12300,
          12600,
          12900,
          13200,
          13500,
          13800,
          14100,
          14400,
          14700,
          15000,
          15300,
          15600,
          15900,
          16200
         ],
         "xaxis": "x",
         "y": [
          17,
          7,
          26,
          21,
          17,
          36,
          16,
          14,
          17,
          10,
          14,
          10,
          6,
          8,
          13,
          17,
          7,
          4,
          11,
          11,
          44,
          122,
          57,
          43,
          35,
          19,
          16,
          26,
          48,
          47,
          19,
          45,
          127,
          105,
          18,
          36,
          43,
          55,
          54,
          21,
          27,
          18,
          33,
          19,
          5,
          20,
          25,
          3,
          17,
          4,
          11,
          19,
          45,
          28,
          15
         ],
         "yaxis": "y"
        },
        {
         "hovertemplate": "Sentiment=positive<br>time=%{x}<br>Count=%{y}<extra></extra>",
         "legendgroup": "positive",
         "line": {
          "color": "green",
          "dash": "solid"
         },
         "marker": {
          "symbol": "circle"
         },
         "mode": "lines",
         "name": "positive",
         "orientation": "v",
         "showlegend": true,
         "type": "scatter",
         "x": [
          0,
          300,
          600,
          900,
          1200,
          1500,
          1800,
          2100,
          2400,
          2700,
          3000,
          3300,
          3600,
          3900,
          4200,
          4500,
          4800,
          5100,
          5400,
          5700,
          6000,
          6300,
          6600,
          6900,
          7200,
          7500,
          7800,
          8100,
          8400,
          8700,
          9000,
          9300,
          9600,
          9900,
          10200,
          10500,
          10800,
          11100,
          11400,
          11700,
          12000,
          12300,
          12600,
          12900,
          13200,
          13500,
          13800,
          14100,
          14400,
          14700,
          15000,
          15300,
          15600,
          15900,
          16200
         ],
         "xaxis": "x",
         "y": [
          3,
          2,
          13,
          14,
          11,
          24,
          4,
          5,
          8,
          5,
          4,
          5,
          6,
          2,
          3,
          5,
          2,
          3,
          6,
          2,
          8,
          21,
          18,
          9,
          16,
          7,
          5,
          18,
          23,
          15,
          2,
          7,
          54,
          26,
          9,
          7,
          11,
          19,
          21,
          7,
          5,
          15,
          19,
          18,
          3,
          5,
          2,
          1,
          9,
          1,
          4,
          13,
          22,
          3,
          1
         ],
         "yaxis": "y"
        }
       ],
       "layout": {
        "legend": {
         "title": {
          "text": "Sentiment"
         },
         "tracegroupgap": 0
        },
        "template": {
         "data": {
          "bar": [
           {
            "error_x": {
             "color": "#2a3f5f"
            },
            "error_y": {
             "color": "#2a3f5f"
            },
            "marker": {
             "line": {
              "color": "#E5ECF6",
              "width": 0.5
             },
             "pattern": {
              "fillmode": "overlay",
              "size": 10,
              "solidity": 0.2
             }
            },
            "type": "bar"
           }
          ],
          "barpolar": [
           {
            "marker": {
             "line": {
              "color": "#E5ECF6",
              "width": 0.5
             },
             "pattern": {
              "fillmode": "overlay",
              "size": 10,
              "solidity": 0.2
             }
            },
            "type": "barpolar"
           }
          ],
          "carpet": [
           {
            "aaxis": {
             "endlinecolor": "#2a3f5f",
             "gridcolor": "white",
             "linecolor": "white",
             "minorgridcolor": "white",
             "startlinecolor": "#2a3f5f"
            },
            "baxis": {
             "endlinecolor": "#2a3f5f",
             "gridcolor": "white",
             "linecolor": "white",
             "minorgridcolor": "white",
             "startlinecolor": "#2a3f5f"
            },
            "type": "carpet"
           }
          ],
          "choropleth": [
           {
            "colorbar": {
             "outlinewidth": 0,
             "ticks": ""
            },
            "type": "choropleth"
           }
          ],
          "contour": [
           {
            "colorbar": {
             "outlinewidth": 0,
             "ticks": ""
            },
            "colorscale": [
             [
              0,
              "#0d0887"
             ],
             [
              0.1111111111111111,
              "#46039f"
             ],
             [
              0.2222222222222222,
              "#7201a8"
             ],
             [
              0.3333333333333333,
              "#9c179e"
             ],
             [
              0.4444444444444444,
              "#bd3786"
             ],
             [
              0.5555555555555556,
              "#d8576b"
             ],
             [
              0.6666666666666666,
              "#ed7953"
             ],
             [
              0.7777777777777778,
              "#fb9f3a"
             ],
             [
              0.8888888888888888,
              "#fdca26"
             ],
             [
              1,
              "#f0f921"
             ]
            ],
            "type": "contour"
           }
          ],
          "contourcarpet": [
           {
            "colorbar": {
             "outlinewidth": 0,
             "ticks": ""
            },
            "type": "contourcarpet"
           }
          ],
          "heatmap": [
           {
            "colorbar": {
             "outlinewidth": 0,
             "ticks": ""
            },
            "colorscale": [
             [
              0,
              "#0d0887"
             ],
             [
              0.1111111111111111,
              "#46039f"
             ],
             [
              0.2222222222222222,
              "#7201a8"
             ],
             [
              0.3333333333333333,
              "#9c179e"
             ],
             [
              0.4444444444444444,
              "#bd3786"
             ],
             [
              0.5555555555555556,
              "#d8576b"
             ],
             [
              0.6666666666666666,
              "#ed7953"
             ],
             [
              0.7777777777777778,
              "#fb9f3a"
             ],
             [
              0.8888888888888888,
              "#fdca26"
             ],
             [
              1,
              "#f0f921"
             ]
            ],
            "type": "heatmap"
           }
          ],
          "heatmapgl": [
           {
            "colorbar": {
             "outlinewidth": 0,
             "ticks": ""
            },
            "colorscale": [
             [
              0,
              "#0d0887"
             ],
             [
              0.1111111111111111,
              "#46039f"
             ],
             [
              0.2222222222222222,
              "#7201a8"
             ],
             [
              0.3333333333333333,
              "#9c179e"
             ],
             [
              0.4444444444444444,
              "#bd3786"
             ],
             [
              0.5555555555555556,
              "#d8576b"
             ],
             [
              0.6666666666666666,
              "#ed7953"
             ],
             [
              0.7777777777777778,
              "#fb9f3a"
             ],
             [
              0.8888888888888888,
              "#fdca26"
             ],
             [
              1,
              "#f0f921"
             ]
            ],
            "type": "heatmapgl"
           }
          ],
          "histogram": [
           {
            "marker": {
             "pattern": {
              "fillmode": "overlay",
              "size": 10,
              "solidity": 0.2
             }
            },
            "type": "histogram"
           }
          ],
          "histogram2d": [
           {
            "colorbar": {
             "outlinewidth": 0,
             "ticks": ""
            },
            "colorscale": [
             [
              0,
              "#0d0887"
             ],
             [
              0.1111111111111111,
              "#46039f"
             ],
             [
              0.2222222222222222,
              "#7201a8"
             ],
             [
              0.3333333333333333,
              "#9c179e"
             ],
             [
              0.4444444444444444,
              "#bd3786"
             ],
             [
              0.5555555555555556,
              "#d8576b"
             ],
             [
              0.6666666666666666,
              "#ed7953"
             ],
             [
              0.7777777777777778,
              "#fb9f3a"
             ],
             [
              0.8888888888888888,
              "#fdca26"
             ],
             [
              1,
              "#f0f921"
             ]
            ],
            "type": "histogram2d"
           }
          ],
          "histogram2dcontour": [
           {
            "colorbar": {
             "outlinewidth": 0,
             "ticks": ""
            },
            "colorscale": [
             [
              0,
              "#0d0887"
             ],
             [
              0.1111111111111111,
              "#46039f"
             ],
             [
              0.2222222222222222,
              "#7201a8"
             ],
             [
              0.3333333333333333,
              "#9c179e"
             ],
             [
              0.4444444444444444,
              "#bd3786"
             ],
             [
              0.5555555555555556,
              "#d8576b"
             ],
             [
              0.6666666666666666,
              "#ed7953"
             ],
             [
              0.7777777777777778,
              "#fb9f3a"
             ],
             [
              0.8888888888888888,
              "#fdca26"
             ],
             [
              1,
              "#f0f921"
             ]
            ],
            "type": "histogram2dcontour"
           }
          ],
          "mesh3d": [
           {
            "colorbar": {
             "outlinewidth": 0,
             "ticks": ""
            },
            "type": "mesh3d"
           }
          ],
          "parcoords": [
           {
            "line": {
             "colorbar": {
              "outlinewidth": 0,
              "ticks": ""
             }
            },
            "type": "parcoords"
           }
          ],
          "pie": [
           {
            "automargin": true,
            "type": "pie"
           }
          ],
          "scatter": [
           {
            "fillpattern": {
             "fillmode": "overlay",
             "size": 10,
             "solidity": 0.2
            },
            "type": "scatter"
           }
          ],
          "scatter3d": [
           {
            "line": {
             "colorbar": {
              "outlinewidth": 0,
              "ticks": ""
             }
            },
            "marker": {
             "colorbar": {
              "outlinewidth": 0,
              "ticks": ""
             }
            },
            "type": "scatter3d"
           }
          ],
          "scattercarpet": [
           {
            "marker": {
             "colorbar": {
              "outlinewidth": 0,
              "ticks": ""
             }
            },
            "type": "scattercarpet"
           }
          ],
          "scattergeo": [
           {
            "marker": {
             "colorbar": {
              "outlinewidth": 0,
              "ticks": ""
             }
            },
            "type": "scattergeo"
           }
          ],
          "scattergl": [
           {
            "marker": {
             "colorbar": {
              "outlinewidth": 0,
              "ticks": ""
             }
            },
            "type": "scattergl"
           }
          ],
          "scattermapbox": [
           {
            "marker": {
             "colorbar": {
              "outlinewidth": 0,
              "ticks": ""
             }
            },
            "type": "scattermapbox"
           }
          ],
          "scatterpolar": [
           {
            "marker": {
             "colorbar": {
              "outlinewidth": 0,
              "ticks": ""
             }
            },
            "type": "scatterpolar"
           }
          ],
          "scatterpolargl": [
           {
            "marker": {
             "colorbar": {
              "outlinewidth": 0,
              "ticks": ""
             }
            },
            "type": "scatterpolargl"
           }
          ],
          "scatterternary": [
           {
            "marker": {
             "colorbar": {
              "outlinewidth": 0,
              "ticks": ""
             }
            },
            "type": "scatterternary"
           }
          ],
          "surface": [
           {
            "colorbar": {
             "outlinewidth": 0,
             "ticks": ""
            },
            "colorscale": [
             [
              0,
              "#0d0887"
             ],
             [
              0.1111111111111111,
              "#46039f"
             ],
             [
              0.2222222222222222,
              "#7201a8"
             ],
             [
              0.3333333333333333,
              "#9c179e"
             ],
             [
              0.4444444444444444,
              "#bd3786"
             ],
             [
              0.5555555555555556,
              "#d8576b"
             ],
             [
              0.6666666666666666,
              "#ed7953"
             ],
             [
              0.7777777777777778,
              "#fb9f3a"
             ],
             [
              0.8888888888888888,
              "#fdca26"
             ],
             [
              1,
              "#f0f921"
             ]
            ],
            "type": "surface"
           }
          ],
          "table": [
           {
            "cells": {
             "fill": {
              "color": "#EBF0F8"
             },
             "line": {
              "color": "white"
             }
            },
            "header": {
             "fill": {
              "color": "#C8D4E3"
             },
             "line": {
              "color": "white"
             }
            },
            "type": "table"
           }
          ]
         },
         "layout": {
          "annotationdefaults": {
           "arrowcolor": "#2a3f5f",
           "arrowhead": 0,
           "arrowwidth": 1
          },
          "autotypenumbers": "strict",
          "coloraxis": {
           "colorbar": {
            "outlinewidth": 0,
            "ticks": ""
           }
          },
          "colorscale": {
           "diverging": [
            [
             0,
             "#8e0152"
            ],
            [
             0.1,
             "#c51b7d"
            ],
            [
             0.2,
             "#de77ae"
            ],
            [
             0.3,
             "#f1b6da"
            ],
            [
             0.4,
             "#fde0ef"
            ],
            [
             0.5,
             "#f7f7f7"
            ],
            [
             0.6,
             "#e6f5d0"
            ],
            [
             0.7,
             "#b8e186"
            ],
            [
             0.8,
             "#7fbc41"
            ],
            [
             0.9,
             "#4d9221"
            ],
            [
             1,
             "#276419"
            ]
           ],
           "sequential": [
            [
             0,
             "#0d0887"
            ],
            [
             0.1111111111111111,
             "#46039f"
            ],
            [
             0.2222222222222222,
             "#7201a8"
            ],
            [
             0.3333333333333333,
             "#9c179e"
            ],
            [
             0.4444444444444444,
             "#bd3786"
            ],
            [
             0.5555555555555556,
             "#d8576b"
            ],
            [
             0.6666666666666666,
             "#ed7953"
            ],
            [
             0.7777777777777778,
             "#fb9f3a"
            ],
            [
             0.8888888888888888,
             "#fdca26"
            ],
            [
             1,
             "#f0f921"
            ]
           ],
           "sequentialminus": [
            [
             0,
             "#0d0887"
            ],
            [
             0.1111111111111111,
             "#46039f"
            ],
            [
             0.2222222222222222,
             "#7201a8"
            ],
            [
             0.3333333333333333,
             "#9c179e"
            ],
            [
             0.4444444444444444,
             "#bd3786"
            ],
            [
             0.5555555555555556,
             "#d8576b"
            ],
            [
             0.6666666666666666,
             "#ed7953"
            ],
            [
             0.7777777777777778,
             "#fb9f3a"
            ],
            [
             0.8888888888888888,
             "#fdca26"
            ],
            [
             1,
             "#f0f921"
            ]
           ]
          },
          "colorway": [
           "#636efa",
           "#EF553B",
           "#00cc96",
           "#ab63fa",
           "#FFA15A",
           "#19d3f3",
           "#FF6692",
           "#B6E880",
           "#FF97FF",
           "#FECB52"
          ],
          "font": {
           "color": "#2a3f5f"
          },
          "geo": {
           "bgcolor": "white",
           "lakecolor": "white",
           "landcolor": "#E5ECF6",
           "showlakes": true,
           "showland": true,
           "subunitcolor": "white"
          },
          "hoverlabel": {
           "align": "left"
          },
          "hovermode": "closest",
          "mapbox": {
           "style": "light"
          },
          "paper_bgcolor": "white",
          "plot_bgcolor": "#E5ECF6",
          "polar": {
           "angularaxis": {
            "gridcolor": "white",
            "linecolor": "white",
            "ticks": ""
           },
           "bgcolor": "#E5ECF6",
           "radialaxis": {
            "gridcolor": "white",
            "linecolor": "white",
            "ticks": ""
           }
          },
          "scene": {
           "xaxis": {
            "backgroundcolor": "#E5ECF6",
            "gridcolor": "white",
            "gridwidth": 2,
            "linecolor": "white",
            "showbackground": true,
            "ticks": "",
            "zerolinecolor": "white"
           },
           "yaxis": {
            "backgroundcolor": "#E5ECF6",
            "gridcolor": "white",
            "gridwidth": 2,
            "linecolor": "white",
            "showbackground": true,
            "ticks": "",
            "zerolinecolor": "white"
           },
           "zaxis": {
            "backgroundcolor": "#E5ECF6",
            "gridcolor": "white",
            "gridwidth": 2,
            "linecolor": "white",
            "showbackground": true,
            "ticks": "",
            "zerolinecolor": "white"
           }
          },
          "shapedefaults": {
           "line": {
            "color": "#2a3f5f"
           }
          },
          "ternary": {
           "aaxis": {
            "gridcolor": "white",
            "linecolor": "white",
            "ticks": ""
           },
           "baxis": {
            "gridcolor": "white",
            "linecolor": "white",
            "ticks": ""
           },
           "bgcolor": "#E5ECF6",
           "caxis": {
            "gridcolor": "white",
            "linecolor": "white",
            "ticks": ""
           }
          },
          "title": {
           "x": 0.05
          },
          "xaxis": {
           "automargin": true,
           "gridcolor": "white",
           "linecolor": "white",
           "ticks": "",
           "title": {
            "standoff": 15
           },
           "zerolinecolor": "white",
           "zerolinewidth": 2
          },
          "yaxis": {
           "automargin": true,
           "gridcolor": "white",
           "linecolor": "white",
           "ticks": "",
           "title": {
            "standoff": 15
           },
           "zerolinecolor": "white",
           "zerolinewidth": 2
          }
         }
        },
        "title": {
         "text": "Sentiment Counts Throughout the Evening, Along With Frequency of High-Usage Words"
        },
        "xaxis": {
         "anchor": "y",
         "domain": [
          0,
          1
         ],
         "title": {
          "text": "time"
         }
        },
        "yaxis": {
         "anchor": "x",
         "domain": [
          0,
          1
         ],
         "range": [
          0,
          200
         ],
         "title": {
          "text": "Count"
         }
        }
       }
      }
     },
     "metadata": {},
     "output_type": "display_data"
    }
   ],
   "source": [
    "fig = px.line(\n",
    "    sents_5min,\n",
    "    x='time',\n",
    "    y='count',\n",
    "    color='sentiment',\n",
    "    color_discrete_sequence=['red', 'yellow', 'green'],\n",
    "    labels={\n",
    "        'sentiment': 'Sentiment',\n",
    "        'count': 'Count',\n",
    "        'index':'Time'\n",
    "    },\n",
    "    title='Sentiment Counts Throughout the Evening, Along With Frequency of High-Usage Words'\n",
    ")\n",
    "fig.update_layout(yaxis_range=[0, 200])\n",
    "fig.show()"
   ]
  },
  {
   "cell_type": "code",
   "execution_count": 93,
   "metadata": {},
   "outputs": [],
   "source": [
    "import pandas as pd\n",
    "import matplotlib.pyplot as plt\n",
    "from nltk.tokenize import word_tokenize\n",
    "from nltk.probability import FreqDist\n",
    "from nltk.corpus import stopwords\n",
    "import string\n",
    "\n",
    "\n",
    "# Step 1: Tokenize Messages\n",
    "stop_words = set(stopwords.words('english') + ['rt', 'abila', 'RT', 'Abila', 'AbilaPost', 'KronosStar', 'CentralBulletin', 'hi', 'Hi', 'HomelandIlluminations', 'HI'])\n",
    "stop_words.update('rt', 'abila', 'abilapost', 'abilapost')\n",
    "df['tokens'] = df['message'].apply(lambda x: [word.lower() for word in word_tokenize(x) if word.isalpha() and word not in stop_words and word not in string.punctuation])"
   ]
  },
  {
   "cell_type": "code",
   "execution_count": 95,
   "metadata": {},
   "outputs": [],
   "source": [
    "# Step 2: Group by Time Periods and Concatenate Messages\n",
    "df_grouped = df.groupby(pd.Grouper(key='date(yyyyMMddHHmmss)', freq='5min'))['tokens'].apply(lambda x: ' '.join(' '.join(words) for words in x)).reset_index()\n",
    "\n",
    "# Step 3: Calculate Word Frequencies\n",
    "df_grouped['word_frequency'] = df_grouped['tokens'].apply(lambda x: FreqDist(word_tokenize(x)))\n",
    "\n",
    "# Step 4: Select Top N Words\n",
    "top_n = 3\n",
    "top_words_overall = FreqDist()\n",
    "for frequency_dist in df_grouped['word_frequency']:\n",
    "    top_words_overall += frequency_dist\n",
    "\n",
    "top_n_words = [word for word, count in top_words_overall.most_common(top_n)]\n",
    "\n",
    "# Step 5: Create a DataFrame for Top Words\n",
    "df_top_words = pd.DataFrame(index=df_grouped['date(yyyyMMddHHmmss)'], columns=top_n_words)\n",
    "\n",
    "# Fill the DataFrame with counts for each time bin\n",
    "for index, row in df_grouped.iterrows():\n",
    "    time_bin = row['date(yyyyMMddHHmmss)']\n",
    "    word_frequency = row['word_frequency']\n",
    "    for word in top_n_words:\n",
    "        df_top_words.at[time_bin, word] = word_frequency.get(word, 0)\n"
   ]
  },
  {
   "cell_type": "code",
   "execution_count": 80,
   "metadata": {},
   "outputs": [],
   "source": [
    "fig = px.line(df_top_words,\n",
    "     x=df_top_words.index, y=top_n_words, title='Top 5 Most Frequent Words Over Time',\n",
    "     color_discrete_sequence=['red', 'black', 'blue'],\n",
    "              labels={'index': 'Time', 'value': 'Word Count'}, line_shape='linear')\n",
    "\n",
    "fig.show()"
   ]
  },
  {
   "cell_type": "code",
   "execution_count": 81,
   "metadata": {},
   "outputs": [],
   "source": [
    "df['frequency'] = df['melted_message'].apply(get_freq)"
   ]
  },
  {
   "cell_type": "code",
   "execution_count": 83,
   "metadata": {},
   "outputs": [],
   "source": [
    "most_frequent = FreqDist()\n",
    "for dists in df['frequency']:\n",
    "    most_frequent += dists"
   ]
  },
  {
   "cell_type": "code",
   "execution_count": 85,
   "metadata": {},
   "outputs": [
    {
     "data": {
      "text/plain": [
       "[('rt', 84172),\n",
       " ('abila', 43659),\n",
       " ('fire', 36754),\n",
       " ('kronosstar', 32893),\n",
       " ('police', 30747),\n",
       " ('abilapost', 29708),\n",
       " ('pok', 18049),\n",
       " ('homelandilluminations', 17705),\n",
       " ('hi', 15994),\n",
       " ('apd', 15160),\n",
       " ('centralbulletin', 14093),\n",
       " ('dancing', 13906),\n",
       " ('van', 13559),\n",
       " ('dolphin', 13308),\n",
       " ('people', 11395),\n",
       " ('tag', 11009),\n",
       " ('shooting', 10061),\n",
       " ('cop', 9480),\n",
       " ('report', 9292),\n",
       " ('building', 9221),\n",
       " ('scene', 9178),\n",
       " ('gelatogalore', 8821),\n",
       " ('shots', 8621),\n",
       " ('cops', 8569),\n",
       " ('fired', 8302)]"
      ]
     },
     "execution_count": 85,
     "metadata": {},
     "output_type": "execute_result"
    }
   ],
   "source": [
    "most_frequent.most_common(25)"
   ]
  },
  {
   "cell_type": "code",
   "execution_count": 88,
   "metadata": {},
   "outputs": [
    {
     "data": {
      "text/html": [
       "<div>\n",
       "<style scoped>\n",
       "    .dataframe tbody tr th:only-of-type {\n",
       "        vertical-align: middle;\n",
       "    }\n",
       "\n",
       "    .dataframe tbody tr th {\n",
       "        vertical-align: top;\n",
       "    }\n",
       "\n",
       "    .dataframe thead th {\n",
       "        text-align: right;\n",
       "    }\n",
       "</style>\n",
       "<table border=\"1\" class=\"dataframe\">\n",
       "  <thead>\n",
       "    <tr style=\"text-align: right;\">\n",
       "      <th></th>\n",
       "      <th>type</th>\n",
       "      <th>date(yyyyMMddHHmmss)</th>\n",
       "      <th>author</th>\n",
       "      <th>message</th>\n",
       "      <th>latitude</th>\n",
       "      <th>longitude</th>\n",
       "      <th>location</th>\n",
       "      <th>polarity</th>\n",
       "      <th>sentiment</th>\n",
       "      <th>bias</th>\n",
       "      <th>negative</th>\n",
       "      <th>neutral</th>\n",
       "      <th>positive</th>\n",
       "      <th>biased</th>\n",
       "      <th>unbiased</th>\n",
       "    </tr>\n",
       "  </thead>\n",
       "  <tbody>\n",
       "    <tr>\n",
       "      <th>1</th>\n",
       "      <td>mbdata</td>\n",
       "      <td>2014-01-23 17:00:00</td>\n",
       "      <td>maha_Homeland</td>\n",
       "      <td>Don't miss a moment!  Follow our live coverage...</td>\n",
       "      <td>NaN</td>\n",
       "      <td>NaN</td>\n",
       "      <td>NaN</td>\n",
       "      <td>0.170455</td>\n",
       "      <td>positive</td>\n",
       "      <td>biased</td>\n",
       "      <td>False</td>\n",
       "      <td>False</td>\n",
       "      <td>True</td>\n",
       "      <td>True</td>\n",
       "      <td>False</td>\n",
       "    </tr>\n",
       "    <tr>\n",
       "      <th>2</th>\n",
       "      <td>mbdata</td>\n",
       "      <td>2014-01-23 17:00:00</td>\n",
       "      <td>Viktor-E</td>\n",
       "      <td>Come join us in the Park! Music tonight at Abi...</td>\n",
       "      <td>NaN</td>\n",
       "      <td>NaN</td>\n",
       "      <td>NaN</td>\n",
       "      <td>0.000000</td>\n",
       "      <td>neutral</td>\n",
       "      <td>unbiased</td>\n",
       "      <td>False</td>\n",
       "      <td>True</td>\n",
       "      <td>False</td>\n",
       "      <td>False</td>\n",
       "      <td>True</td>\n",
       "    </tr>\n",
       "    <tr>\n",
       "      <th>3</th>\n",
       "      <td>mbdata</td>\n",
       "      <td>2014-01-23 17:00:00</td>\n",
       "      <td>KronosStar</td>\n",
       "      <td>POK rally to start in Abila City Park. POK lea...</td>\n",
       "      <td>NaN</td>\n",
       "      <td>NaN</td>\n",
       "      <td>NaN</td>\n",
       "      <td>0.000000</td>\n",
       "      <td>neutral</td>\n",
       "      <td>biased</td>\n",
       "      <td>False</td>\n",
       "      <td>True</td>\n",
       "      <td>False</td>\n",
       "      <td>True</td>\n",
       "      <td>False</td>\n",
       "    </tr>\n",
       "    <tr>\n",
       "      <th>4</th>\n",
       "      <td>mbdata</td>\n",
       "      <td>2014-01-23 17:00:00</td>\n",
       "      <td>AbilaPost</td>\n",
       "      <td>POK rally set to take place in Abila City Park...</td>\n",
       "      <td>NaN</td>\n",
       "      <td>NaN</td>\n",
       "      <td>NaN</td>\n",
       "      <td>0.000000</td>\n",
       "      <td>neutral</td>\n",
       "      <td>unbiased</td>\n",
       "      <td>False</td>\n",
       "      <td>True</td>\n",
       "      <td>False</td>\n",
       "      <td>False</td>\n",
       "      <td>True</td>\n",
       "    </tr>\n",
       "    <tr>\n",
       "      <th>5</th>\n",
       "      <td>mbdata</td>\n",
       "      <td>2014-01-23 17:00:00</td>\n",
       "      <td>ourcountryourrights</td>\n",
       "      <td>POK rally in the park tonight! #POKrally</td>\n",
       "      <td>NaN</td>\n",
       "      <td>NaN</td>\n",
       "      <td>NaN</td>\n",
       "      <td>0.000000</td>\n",
       "      <td>neutral</td>\n",
       "      <td>unbiased</td>\n",
       "      <td>False</td>\n",
       "      <td>True</td>\n",
       "      <td>False</td>\n",
       "      <td>False</td>\n",
       "      <td>True</td>\n",
       "    </tr>\n",
       "    <tr>\n",
       "      <th>...</th>\n",
       "      <td>...</td>\n",
       "      <td>...</td>\n",
       "      <td>...</td>\n",
       "      <td>...</td>\n",
       "      <td>...</td>\n",
       "      <td>...</td>\n",
       "      <td>...</td>\n",
       "      <td>...</td>\n",
       "      <td>...</td>\n",
       "      <td>...</td>\n",
       "      <td>...</td>\n",
       "      <td>...</td>\n",
       "      <td>...</td>\n",
       "      <td>...</td>\n",
       "      <td>...</td>\n",
       "    </tr>\n",
       "    <tr>\n",
       "      <th>4034</th>\n",
       "      <td>mbdata</td>\n",
       "      <td>2014-01-23 21:30:00</td>\n",
       "      <td>KronosStar</td>\n",
       "      <td>There has been an explosion from inside the ap...</td>\n",
       "      <td>NaN</td>\n",
       "      <td>NaN</td>\n",
       "      <td>NaN</td>\n",
       "      <td>-0.077778</td>\n",
       "      <td>negative</td>\n",
       "      <td>biased</td>\n",
       "      <td>True</td>\n",
       "      <td>False</td>\n",
       "      <td>False</td>\n",
       "      <td>True</td>\n",
       "      <td>False</td>\n",
       "    </tr>\n",
       "    <tr>\n",
       "      <th>4035</th>\n",
       "      <td>mbdata</td>\n",
       "      <td>2014-01-23 21:30:00</td>\n",
       "      <td>HomelandIlluminations</td>\n",
       "      <td>Explosions reported from site of Dancing Dolph...</td>\n",
       "      <td>NaN</td>\n",
       "      <td>NaN</td>\n",
       "      <td>NaN</td>\n",
       "      <td>0.000000</td>\n",
       "      <td>neutral</td>\n",
       "      <td>unbiased</td>\n",
       "      <td>False</td>\n",
       "      <td>True</td>\n",
       "      <td>False</td>\n",
       "      <td>False</td>\n",
       "      <td>True</td>\n",
       "    </tr>\n",
       "    <tr>\n",
       "      <th>4036</th>\n",
       "      <td>mbdata</td>\n",
       "      <td>2014-01-23 21:30:00</td>\n",
       "      <td>AbilaFireDept</td>\n",
       "      <td>Abila Fire Department reports an explosion at ...</td>\n",
       "      <td>NaN</td>\n",
       "      <td>NaN</td>\n",
       "      <td>NaN</td>\n",
       "      <td>0.000000</td>\n",
       "      <td>neutral</td>\n",
       "      <td>unbiased</td>\n",
       "      <td>False</td>\n",
       "      <td>True</td>\n",
       "      <td>False</td>\n",
       "      <td>False</td>\n",
       "      <td>True</td>\n",
       "    </tr>\n",
       "    <tr>\n",
       "      <th>4037</th>\n",
       "      <td>mbdata</td>\n",
       "      <td>2014-01-23 21:30:00</td>\n",
       "      <td>GreyCatCollectibles</td>\n",
       "      <td>OH NOOOOOOOOO that sounded like an explosion</td>\n",
       "      <td>NaN</td>\n",
       "      <td>NaN</td>\n",
       "      <td>NaN</td>\n",
       "      <td>0.000000</td>\n",
       "      <td>neutral</td>\n",
       "      <td>unbiased</td>\n",
       "      <td>False</td>\n",
       "      <td>True</td>\n",
       "      <td>False</td>\n",
       "      <td>False</td>\n",
       "      <td>True</td>\n",
       "    </tr>\n",
       "    <tr>\n",
       "      <th>4038</th>\n",
       "      <td>mbdata</td>\n",
       "      <td>2014-01-23 21:30:00</td>\n",
       "      <td>dangermice</td>\n",
       "      <td>OMG was that an explosion ? #abilafire</td>\n",
       "      <td>36.059</td>\n",
       "      <td>24.894</td>\n",
       "      <td>NaN</td>\n",
       "      <td>0.000000</td>\n",
       "      <td>neutral</td>\n",
       "      <td>unbiased</td>\n",
       "      <td>False</td>\n",
       "      <td>True</td>\n",
       "      <td>False</td>\n",
       "      <td>False</td>\n",
       "      <td>True</td>\n",
       "    </tr>\n",
       "  </tbody>\n",
       "</table>\n",
       "<p>275 rows × 15 columns</p>\n",
       "</div>"
      ],
      "text/plain": [
       "        type date(yyyyMMddHHmmss)                 author  \\\n",
       "1     mbdata  2014-01-23 17:00:00          maha_Homeland   \n",
       "2     mbdata  2014-01-23 17:00:00               Viktor-E   \n",
       "3     mbdata  2014-01-23 17:00:00             KronosStar   \n",
       "4     mbdata  2014-01-23 17:00:00              AbilaPost   \n",
       "5     mbdata  2014-01-23 17:00:00    ourcountryourrights   \n",
       "...      ...                  ...                    ...   \n",
       "4034  mbdata  2014-01-23 21:30:00             KronosStar   \n",
       "4035  mbdata  2014-01-23 21:30:00  HomelandIlluminations   \n",
       "4036  mbdata  2014-01-23 21:30:00          AbilaFireDept   \n",
       "4037  mbdata  2014-01-23 21:30:00    GreyCatCollectibles   \n",
       "4038  mbdata  2014-01-23 21:30:00             dangermice   \n",
       "\n",
       "                                                message  latitude  longitude  \\\n",
       "1     Don't miss a moment!  Follow our live coverage...       NaN        NaN   \n",
       "2     Come join us in the Park! Music tonight at Abi...       NaN        NaN   \n",
       "3     POK rally to start in Abila City Park. POK lea...       NaN        NaN   \n",
       "4     POK rally set to take place in Abila City Park...       NaN        NaN   \n",
       "5              POK rally in the park tonight! #POKrally       NaN        NaN   \n",
       "...                                                 ...       ...        ...   \n",
       "4034  There has been an explosion from inside the ap...       NaN        NaN   \n",
       "4035  Explosions reported from site of Dancing Dolph...       NaN        NaN   \n",
       "4036  Abila Fire Department reports an explosion at ...       NaN        NaN   \n",
       "4037       OH NOOOOOOOOO that sounded like an explosion       NaN        NaN   \n",
       "4038             OMG was that an explosion ? #abilafire    36.059     24.894   \n",
       "\n",
       "      location  polarity sentiment      bias  negative  neutral  positive  \\\n",
       "1          NaN  0.170455  positive    biased     False    False      True   \n",
       "2          NaN  0.000000   neutral  unbiased     False     True     False   \n",
       "3          NaN  0.000000   neutral    biased     False     True     False   \n",
       "4          NaN  0.000000   neutral  unbiased     False     True     False   \n",
       "5          NaN  0.000000   neutral  unbiased     False     True     False   \n",
       "...        ...       ...       ...       ...       ...      ...       ...   \n",
       "4034       NaN -0.077778  negative    biased      True    False     False   \n",
       "4035       NaN  0.000000   neutral  unbiased     False     True     False   \n",
       "4036       NaN  0.000000   neutral  unbiased     False     True     False   \n",
       "4037       NaN  0.000000   neutral  unbiased     False     True     False   \n",
       "4038       NaN  0.000000   neutral  unbiased     False     True     False   \n",
       "\n",
       "      biased  unbiased  \n",
       "1       True     False  \n",
       "2      False      True  \n",
       "3       True     False  \n",
       "4      False      True  \n",
       "5      False      True  \n",
       "...      ...       ...  \n",
       "4034    True     False  \n",
       "4035   False      True  \n",
       "4036   False      True  \n",
       "4037   False      True  \n",
       "4038   False      True  \n",
       "\n",
       "[275 rows x 15 columns]"
      ]
     },
     "execution_count": 88,
     "metadata": {},
     "output_type": "execute_result"
    }
   ],
   "source": [
    "agg_5min.head()"
   ]
  },
  {
   "cell_type": "code",
   "execution_count": 91,
   "metadata": {},
   "outputs": [
    {
     "ename": "KeyError",
     "evalue": "'Column not found: date(yyyyMMddHHmmss'",
     "output_type": "error",
     "traceback": [
      "\u001b[1;31m---------------------------------------------------------------------------\u001b[0m",
      "\u001b[1;31mKeyError\u001b[0m                                  Traceback (most recent call last)",
      "\u001b[1;32mc:\\Users\\15127\\Desktop\\DataVis\\Project\\MC3\\sergio_design.ipynb Cell 52\u001b[0m line \u001b[0;36m2\n\u001b[0;32m     <a href='vscode-notebook-cell:/c%3A/Users/15127/Desktop/DataVis/Project/MC3/sergio_design.ipynb#Y115sZmlsZQ%3D%3D?line=16'>17</a>\u001b[0m top_n_words \u001b[39m=\u001b[39m [word \u001b[39mfor\u001b[39;00m word, count \u001b[39min\u001b[39;00m top_words_overall\u001b[39m.\u001b[39mmost_common(top_n)]\n\u001b[0;32m     <a href='vscode-notebook-cell:/c%3A/Users/15127/Desktop/DataVis/Project/MC3/sergio_design.ipynb#Y115sZmlsZQ%3D%3D?line=18'>19</a>\u001b[0m \u001b[39m# Step 2: Create a DataFrame for Top Words\u001b[39;00m\n\u001b[1;32m---> <a href='vscode-notebook-cell:/c%3A/Users/15127/Desktop/DataVis/Project/MC3/sergio_design.ipynb#Y115sZmlsZQ%3D%3D?line=19'>20</a>\u001b[0m df_top_words \u001b[39m=\u001b[39m pd\u001b[39m.\u001b[39mDataFrame(index\u001b[39m=\u001b[39magg_5min[\u001b[39m'\u001b[39;49m\u001b[39mdate(yyyyMMddHHmmss\u001b[39;49m\u001b[39m'\u001b[39;49m]\u001b[39m.\u001b[39munique(), columns\u001b[39m=\u001b[39mtop_n_words)\n\u001b[0;32m     <a href='vscode-notebook-cell:/c%3A/Users/15127/Desktop/DataVis/Project/MC3/sergio_design.ipynb#Y115sZmlsZQ%3D%3D?line=21'>22</a>\u001b[0m \u001b[39m# Fill the DataFrame with counts for each time bin\u001b[39;00m\n\u001b[0;32m     <a href='vscode-notebook-cell:/c%3A/Users/15127/Desktop/DataVis/Project/MC3/sergio_design.ipynb#Y115sZmlsZQ%3D%3D?line=22'>23</a>\u001b[0m \u001b[39mfor\u001b[39;00m index, row \u001b[39min\u001b[39;00m df\u001b[39m.\u001b[39miterrows():\n",
      "File \u001b[1;32mc:\\Users\\15127\\anaconda3\\envs\\cs329e\\Lib\\site-packages\\pandas\\core\\groupby\\generic.py:1771\u001b[0m, in \u001b[0;36mDataFrameGroupBy.__getitem__\u001b[1;34m(self, key)\u001b[0m\n\u001b[0;32m   1764\u001b[0m \u001b[39mif\u001b[39;00m \u001b[39misinstance\u001b[39m(key, \u001b[39mtuple\u001b[39m) \u001b[39mand\u001b[39;00m \u001b[39mlen\u001b[39m(key) \u001b[39m>\u001b[39m \u001b[39m1\u001b[39m:\n\u001b[0;32m   1765\u001b[0m     \u001b[39m# if len == 1, then it becomes a SeriesGroupBy and this is actually\u001b[39;00m\n\u001b[0;32m   1766\u001b[0m     \u001b[39m# valid syntax, so don't raise\u001b[39;00m\n\u001b[0;32m   1767\u001b[0m     \u001b[39mraise\u001b[39;00m \u001b[39mValueError\u001b[39;00m(\n\u001b[0;32m   1768\u001b[0m         \u001b[39m\"\u001b[39m\u001b[39mCannot subset columns with a tuple with more than one element. \u001b[39m\u001b[39m\"\u001b[39m\n\u001b[0;32m   1769\u001b[0m         \u001b[39m\"\u001b[39m\u001b[39mUse a list instead.\u001b[39m\u001b[39m\"\u001b[39m\n\u001b[0;32m   1770\u001b[0m     )\n\u001b[1;32m-> 1771\u001b[0m \u001b[39mreturn\u001b[39;00m \u001b[39msuper\u001b[39;49m()\u001b[39m.\u001b[39;49m\u001b[39m__getitem__\u001b[39;49m(key)\n",
      "File \u001b[1;32mc:\\Users\\15127\\anaconda3\\envs\\cs329e\\Lib\\site-packages\\pandas\\core\\base.py:244\u001b[0m, in \u001b[0;36mSelectionMixin.__getitem__\u001b[1;34m(self, key)\u001b[0m\n\u001b[0;32m    242\u001b[0m \u001b[39melse\u001b[39;00m:\n\u001b[0;32m    243\u001b[0m     \u001b[39mif\u001b[39;00m key \u001b[39mnot\u001b[39;00m \u001b[39min\u001b[39;00m \u001b[39mself\u001b[39m\u001b[39m.\u001b[39mobj:\n\u001b[1;32m--> 244\u001b[0m         \u001b[39mraise\u001b[39;00m \u001b[39mKeyError\u001b[39;00m(\u001b[39mf\u001b[39m\u001b[39m\"\u001b[39m\u001b[39mColumn not found: \u001b[39m\u001b[39m{\u001b[39;00mkey\u001b[39m}\u001b[39;00m\u001b[39m\"\u001b[39m)\n\u001b[0;32m    245\u001b[0m     ndim \u001b[39m=\u001b[39m \u001b[39mself\u001b[39m\u001b[39m.\u001b[39mobj[key]\u001b[39m.\u001b[39mndim\n\u001b[0;32m    246\u001b[0m     \u001b[39mreturn\u001b[39;00m \u001b[39mself\u001b[39m\u001b[39m.\u001b[39m_gotitem(key, ndim\u001b[39m=\u001b[39mndim)\n",
      "\u001b[1;31mKeyError\u001b[0m: 'Column not found: date(yyyyMMddHHmmss'"
     ]
    }
   ],
   "source": []
  },
  {
   "cell_type": "code",
   "execution_count": null,
   "metadata": {},
   "outputs": [],
   "source": [
    "# WORKING KML FOR A SINGLE POINT\n",
    "<Placemark>\n",
    "  <Point>\n",
    "    <coordinates>24.892, 36.057</coordinates>\n",
    "  </Point>\n",
    "</Placemark>"
   ]
  },
  {
   "cell_type": "code",
   "execution_count": null,
   "metadata": {},
   "outputs": [],
   "source": []
  },
  {
   "cell_type": "code",
   "execution_count": null,
   "metadata": {},
   "outputs": [],
   "source": []
  },
  {
   "cell_type": "code",
   "execution_count": null,
   "metadata": {},
   "outputs": [],
   "source": []
  },
  {
   "cell_type": "code",
   "execution_count": null,
   "metadata": {},
   "outputs": [],
   "source": []
  },
  {
   "cell_type": "code",
   "execution_count": null,
   "metadata": {},
   "outputs": [],
   "source": [
    "# generate corpii with cleaned messages (no punctuation, consistent case, no stopwords)\n",
    "\n",
    "from nltk.corpus.reader.plaintext import PlaintextCorpusReader\n",
    "\n",
    "full = ''\n",
    "for msg in df['message']:\n",
    "    full += msg"
   ]
  },
  {
   "cell_type": "code",
   "execution_count": null,
   "metadata": {},
   "outputs": [],
   "source": [
    "# create word cloud\n",
    "import wordcloud\n",
    "import matplotlib.pyplot as plt\n",
    "from wordcloud import WordCloud, STOPWORDS\n",
    "\n",
    "stopwords = set(STOPWORDS)\n",
    "stopwords.update('go', 'guy', 'want', 'time', 'E', 'people')\n",
    "\n",
    "wordcloud = WordCloud(stopwords=stopwords, max_words=25, background_color='azure').generate(full)"
   ]
  },
  {
   "cell_type": "code",
   "execution_count": null,
   "metadata": {},
   "outputs": [
    {
     "data": {
      "image/png": "[encoded data removed]",
      "text/plain": [
       "<Figure size 640x480 with 1 Axes>"
      ]
     },
     "metadata": {},
     "output_type": "display_data"
    }
   ],
   "source": [
    "plt.imshow(wordcloud)\n",
    "plt.axis('off')\n",
    "plt.show()"
   ]
  },
  {
   "cell_type": "code",
   "execution_count": null,
   "metadata": {},
   "outputs": [],
   "source": []
  }
 ],
 "metadata": {
  "kernelspec": {
   "display_name": "cs329e",
   "language": "python",
   "name": "python3"
  },
  "language_info": {
   "codemirror_mode": {
    "name": "ipython",
    "version": 3
   },
   "file_extension": ".py",
   "mimetype": "text/x-python",
   "name": "python",
   "nbconvert_exporter": "python",
   "pygments_lexer": "ipython3",
   "version": "3.11.4"
  }
 },
 "nbformat": 4,
 "nbformat_minor": 2
}
